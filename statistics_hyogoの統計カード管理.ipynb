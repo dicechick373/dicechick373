{
  "cells": [
    {
      "cell_type": "markdown",
      "source": [
        "# 実行環境の作成"
      ],
      "metadata": {
        "id": "inrYQThZlUDa"
      }
    },
    {
      "cell_type": "markdown",
      "source": [
        "## Google Drive"
      ],
      "metadata": {
        "id": "BfhcmDLca7b4"
      }
    },
    {
      "cell_type": "markdown",
      "source": [
        "Google Driveをマウント"
      ],
      "metadata": {
        "id": "eoKX6rkVa5Ls"
      }
    },
    {
      "cell_type": "code",
      "source": [
        "from google.colab import drive\n",
        "drive.mount('/content/drive')"
      ],
      "metadata": {
        "id": "skN1VUDSa4gJ"
      },
      "execution_count": null,
      "outputs": []
    },
    {
      "cell_type": "markdown",
      "source": [
        "## Google Cloud Storage"
      ],
      "metadata": {
        "id": "BDMnnS3RVrkF"
      }
    },
    {
      "cell_type": "markdown",
      "source": [
        "下記コードでGCPに接続"
      ],
      "metadata": {
        "id": "SsgiSjKhV2D7"
      }
    },
    {
      "cell_type": "code",
      "source": [
        "from google.colab import auth\n",
        "auth.authenticate_user()"
      ],
      "metadata": {
        "id": "GKiUkM7SV0bY"
      },
      "execution_count": 2,
      "outputs": []
    },
    {
      "cell_type": "markdown",
      "source": [
        "認証に成功したらgcsfuseをインストール"
      ],
      "metadata": {
        "id": "KP4JP4ouV6QS"
      }
    },
    {
      "cell_type": "code",
      "source": [
        "!echo \"deb http://packages.cloud.google.com/apt gcsfuse-`lsb_release -c -s` main\" | sudo tee /etc/apt/sources.list.d/gcsfuse.list\n",
        "!curl https://packages.cloud.google.com/apt/doc/apt-key.gpg | sudo apt-key add -\n",
        "!apt-get -y -q update\n",
        "!apt-get -y -q install gcsfuse"
      ],
      "metadata": {
        "id": "d1D5UagbV9A4"
      },
      "execution_count": null,
      "outputs": []
    },
    {
      "cell_type": "markdown",
      "source": [
        "バケット「statistics-hyogo」をディレクトリ「statistics-hyogo」にマウント"
      ],
      "metadata": {
        "id": "QUUcFp5LWR6s"
      }
    },
    {
      "cell_type": "code",
      "source": [
        "! mkdir -p statistics-hyogo\n",
        "! gcsfuse --implicit-dirs --limit-bytes-per-sec -1 --limit-ops-per-sec -1 statistics-hyogo statistics-hyogo"
      ],
      "metadata": {
        "id": "vw-vsTVGWIfp"
      },
      "execution_count": null,
      "outputs": []
    },
    {
      "cell_type": "markdown",
      "source": [
        "## Google Sheets"
      ],
      "metadata": {
        "id": "xI275jlxBf0x"
      }
    },
    {
      "cell_type": "markdown",
      "source": [
        "ライブラリのインストール"
      ],
      "metadata": {
        "id": "HxX6hCv3BiwX"
      }
    },
    {
      "cell_type": "code",
      "source": [
        "!pip install --upgrade -q gspread"
      ],
      "metadata": {
        "id": "ON7NihvDBkUl"
      },
      "execution_count": 5,
      "outputs": []
    },
    {
      "cell_type": "markdown",
      "source": [
        "GoogleSheetsの認証"
      ],
      "metadata": {
        "id": "ZB9_hwuWBtWU"
      }
    },
    {
      "cell_type": "code",
      "source": [
        "from google.colab import auth\n",
        "from google.auth import default\n",
        "import gspread\n",
        "\n",
        "auth.authenticate_user()\n",
        "creds, _ = default()\n",
        "gc = gspread.authorize(creds)"
      ],
      "metadata": {
        "id": "tj-kgraWBpy8"
      },
      "execution_count": 6,
      "outputs": []
    },
    {
      "cell_type": "markdown",
      "source": [
        "## ESTAT_APP_ID"
      ],
      "metadata": {
        "id": "YZ-rxUoLTevY"
      }
    },
    {
      "cell_type": "code",
      "source": [
        "ESTAT_APPID = '724e5b90772a3e9289f41a253e4e7e32438f4fff'"
      ],
      "metadata": {
        "id": "wMa4y4oXJYdw"
      },
      "execution_count": 3,
      "outputs": []
    },
    {
      "cell_type": "markdown",
      "source": [
        "## pythonのライブラリ追加"
      ],
      "metadata": {
        "id": "rv4FGegQaZtc"
      }
    },
    {
      "cell_type": "code",
      "source": [
        "import urllib.parse\n",
        "import urllib.request\n",
        "import json\n",
        "import pandas as pd"
      ],
      "metadata": {
        "id": "eIB9NAJdalZT"
      },
      "execution_count": 4,
      "outputs": []
    },
    {
      "cell_type": "markdown",
      "source": [
        "# estatの統計情報を取得"
      ],
      "metadata": {
        "id": "8AQDQmu5ZIVE"
      }
    },
    {
      "cell_type": "markdown",
      "source": [
        "'statsDataId'に統計表コードを指定"
      ],
      "metadata": {
        "id": "IYxQ-Md5ZU3P"
      }
    },
    {
      "cell_type": "code",
      "source": [
        "statsDataId = '0000020201'"
      ],
      "metadata": {
        "id": "RS0kYP4dZUSU"
      },
      "execution_count": null,
      "outputs": []
    },
    {
      "cell_type": "markdown",
      "source": [
        "メタ情報を取得する関数を作成"
      ],
      "metadata": {
        "id": "d5VF0GXDZjRr"
      }
    },
    {
      "cell_type": "code",
      "source": [
        "def get_estat_meta(statsDataId):\n",
        "  # リクエストパラメータ\n",
        "  p={}\n",
        "  p['statsDataId'] = statsDataId\n",
        "  p['appId'] = ESTAT_APPID\n",
        "\n",
        "  url = 'http://api.e-stat.go.jp/rest/3.0/app/json/getMetaInfo?'\n",
        "  url += urllib.parse.urlencode(p)\n",
        "\n",
        "  with urllib.request.urlopen(url) as response:\n",
        "    return json.loads(response.read().decode('utf-8'))\n",
        "\n",
        "meta = get_estat_meta(statsDataId)\n",
        "# print(meta)"
      ],
      "metadata": {
        "id": "Qkb_XkW4ZiN8"
      },
      "execution_count": null,
      "outputs": []
    },
    {
      "cell_type": "markdown",
      "source": [
        "## DataFrameの作成"
      ],
      "metadata": {
        "id": "1VZR8CVipdYL"
      }
    },
    {
      "cell_type": "markdown",
      "source": [
        "メタ情報をDataFrameに整形する"
      ],
      "metadata": {
        "id": "skjQsB3hcJ0b"
      }
    },
    {
      "cell_type": "code",
      "source": [
        "def get_cards_dataframe(statsDataId):\n",
        "  # メタ情報の取得\n",
        "  meta= get_estat_meta(statsDataId)\n",
        " \n",
        "  # STAT_NAME\n",
        "  STAT_NAME = meta['GET_META_INFO']['METADATA_INF']['TABLE_INF']['STAT_NAME']['$']\n",
        "\n",
        "  # CLASS_OBJ\n",
        "  CLASS_OBJ = meta['GET_META_INFO']['METADATA_INF']['CLASS_INF']['CLASS_OBJ']\n",
        "\n",
        "  # cat01\n",
        "  cat01 = next((d for d in CLASS_OBJ if d['@id'] == 'cat01'), None)['CLASS']\n",
        "\n",
        "  # DataFrame\n",
        "  df = pd.json_normalize(cat01)[['@code','@name']]\n",
        "  \n",
        "  # 統計表情報の追加\n",
        "  df['statsDataId'] = statsDataId\n",
        "  df['statsDataName'] = STAT_NAME\n",
        "\n",
        "  # 列名の変更\n",
        "  columns = {'@code':'categoryCode','@name':'categoryName'}\n",
        "  df= df.rename(columns=columns)\n",
        "\n",
        "  # categoryNameから不要な情報（categoryCode）を削除\n",
        "  df['categoryName'] = df.apply(lambda x: x['categoryName'].replace(x['categoryCode']+'_', ''), 1)\n",
        "  \n",
        "  \n",
        "  # 並べ替え\n",
        "  df = df.reindex(columns=['statsDataId', 'statsDataName', 'categoryCode','categoryName'])\n",
        "  \n",
        "  return df\n",
        "\n",
        "\n",
        "# print(len(category_codes))"
      ],
      "metadata": {
        "id": "QLqvsnhuc20r"
      },
      "execution_count": null,
      "outputs": []
    },
    {
      "cell_type": "code",
      "source": [
        "df = get_cards_dataframe(statsDataId)\n",
        "df"
      ],
      "metadata": {
        "id": "AG1KHvdTUBKd"
      },
      "execution_count": null,
      "outputs": []
    },
    {
      "cell_type": "markdown",
      "source": [
        "## 統計カード管理情報をSpreadSheetで加工"
      ],
      "metadata": {
        "id": "e-4vvBwxpOLs"
      }
    },
    {
      "cell_type": "markdown",
      "source": [
        "統計カードの管理情報を SpreadSheetで管理する\n",
        "\n",
        "前セルで作業したDataFrameをcsvでコピーするなどして作業すること\n",
        "\n",
        "\n",
        "[statistics-hyogo/統計カード管理](https://docs.google.com/spreadsheets/d/1mAv2gx9khNOty_ILu3aJjJz0uoRkARzwoaG4VBUSNG4/edit#gid=0)"
      ],
      "metadata": {
        "id": "b-1ZjOQ0iZTo"
      }
    },
    {
      "cell_type": "markdown",
      "source": [
        "# コンテンツ作成"
      ],
      "metadata": {
        "id": "zPHWto_kA2R1"
      }
    },
    {
      "cell_type": "markdown",
      "source": [
        "## 統計分野一覧"
      ],
      "metadata": {
        "id": "JbrpIvvyA53_"
      }
    },
    {
      "cell_type": "code",
      "source": [],
      "metadata": {
        "id": "lEXWEV_cGlQL"
      },
      "execution_count": null,
      "outputs": []
    },
    {
      "cell_type": "markdown",
      "source": [
        "GoogleSheetsから統計分野一覧を取得"
      ],
      "metadata": {
        "id": "r8rZlirSA1ro"
      }
    },
    {
      "cell_type": "code",
      "source": [
        "def get_statistics_fields():\n",
        "\n",
        "  # シート情報の設定\n",
        "  id = \"1mAv2gx9khNOty_ILu3aJjJz0uoRkARzwoaG4VBUSNG4\"\n",
        "  sheet_name = 'statisticsFields'\n",
        "  worksheet = gc.open_by_key(id).worksheet(sheet_name)\n",
        "  \n",
        "  return worksheet.get_all_records()\n"
      ],
      "metadata": {
        "id": "8c-UVR0ZDamv"
      },
      "execution_count": 13,
      "outputs": []
    },
    {
      "cell_type": "code",
      "source": [
        "statistics_fields = get_statistics_fields()\n",
        "print(statistics_fields)"
      ],
      "metadata": {
        "id": "wsW9Qck6GSYh"
      },
      "execution_count": null,
      "outputs": []
    },
    {
      "cell_type": "markdown",
      "source": [
        "GoogleDriveとGoogleCloudStorageに保存"
      ],
      "metadata": {
        "id": "u5HRgWNxGiNv"
      }
    },
    {
      "cell_type": "markdown",
      "source": [
        "# BigQueryへ保存"
      ],
      "metadata": {
        "id": "PhlM2YQEiR8v"
      }
    },
    {
      "cell_type": "markdown",
      "source": [
        "ライブラリのインストール"
      ],
      "metadata": {
        "id": "piu8EEUol8wV"
      }
    },
    {
      "cell_type": "code",
      "source": [
        "!pip install --upgrade -q gspread"
      ],
      "metadata": {
        "id": "7ctD09VIkebc"
      },
      "execution_count": null,
      "outputs": []
    },
    {
      "cell_type": "markdown",
      "source": [
        "SpreadSheetの認証"
      ],
      "metadata": {
        "id": "dynHv33Vl-mO"
      }
    },
    {
      "cell_type": "code",
      "source": [
        "from google.colab import auth\n",
        "from google.auth import default\n",
        "import gspread\n",
        "\n",
        "auth.authenticate_user()\n",
        "creds, _ = default()\n",
        "gc = gspread.authorize(creds)"
      ],
      "metadata": {
        "id": "XEnbJmhskllI"
      },
      "execution_count": null,
      "outputs": []
    },
    {
      "cell_type": "markdown",
      "source": [
        "worksheetを読み込んでDataFrameに変換"
      ],
      "metadata": {
        "id": "m4UoD2KomWWr"
      }
    },
    {
      "cell_type": "code",
      "source": [
        "# スプレッドシートの情報\n",
        "ss_id = \"1mAv2gx9khNOty_ILu3aJjJz0uoRkARzwoaG4VBUSNG4\"\n",
        "workbook = gc.open_by_key(ss_id)\n",
        "worksheet = workbook.worksheet(\"シート1\")\n",
        "\n",
        "# DataFrameに格納\n",
        "dic = worksheet.get_all_records(head=1)\n",
        "df = pd.DataFrame(dic)\n",
        "df"
      ],
      "metadata": {
        "id": "XIzbuszFjq-i"
      },
      "execution_count": null,
      "outputs": []
    },
    {
      "cell_type": "markdown",
      "source": [
        "pandas-gbqのインストール"
      ],
      "metadata": {
        "id": "4xCBjZWrm1q6"
      }
    },
    {
      "cell_type": "code",
      "source": [
        "!pip install pandas-gbq"
      ],
      "metadata": {
        "id": "BTNDa8fdoChJ"
      },
      "execution_count": null,
      "outputs": []
    },
    {
      "cell_type": "markdown",
      "source": [
        "DataFrameをBigQueryへ保存"
      ],
      "metadata": {
        "id": "AaeHY0RDoO0F"
      }
    },
    {
      "cell_type": "code",
      "source": [
        "import pandas as pd\n",
        "\n",
        "# プロジェクトの定義\n",
        "project_id='primal-buttress-342908'\n",
        "dataset_id = 'contents'\n",
        "table_id='cards'\n",
        "\n",
        "# データフレームの内容をBigQueryのテーブルに追加\n",
        "df.to_gbq( f'{dataset_id}.{table_id}', project_id=project_id, if_exists=\"replace\")"
      ],
      "metadata": {
        "id": "wq0R92xDoKmF"
      },
      "execution_count": null,
      "outputs": []
    }
  ],
  "metadata": {
    "colab": {
      "collapsed_sections": [],
      "toc_visible": true,
      "provenance": []
    },
    "kernelspec": {
      "display_name": "Python 3",
      "name": "python3"
    },
    "accelerator": "GPU",
    "gpuClass": "standard"
  },
  "nbformat": 4,
  "nbformat_minor": 0
}