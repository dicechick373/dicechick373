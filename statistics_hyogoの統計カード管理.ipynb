{
  "cells": [
    {
      "cell_type": "markdown",
      "source": [
        "# 実行環境の作成"
      ],
      "metadata": {
        "id": "inrYQThZlUDa"
      }
    },
    {
      "cell_type": "markdown",
      "source": [
        "## python3.9"
      ],
      "metadata": {
        "id": "387BKeiilWGn"
      }
    },
    {
      "cell_type": "code",
      "source": [
        "!wget -O mini.sh https://repo.anaconda.com/miniconda/Miniconda3-py39_4.12.0-Linux-x86_64.sh\n",
        "!chmod +x mini.sh\n",
        "!bash ./mini.sh -b -f -p /usr/local\n",
        "!conda install -q -y jupyter\n",
        "!conda install -q -y google-colab -c conda-forge\n",
        "!python -m ipykernel install --name \"py39\" --user"
      ],
      "metadata": {
        "colab": {
          "base_uri": "https://localhost:8080/"
        },
        "id": "YSBGyLhfIMYx",
        "outputId": "95411fea-7a73-426d-9b0e-3a10b8f22deb"
      },
      "execution_count": 1,
      "outputs": [
        {
          "output_type": "stream",
          "name": "stdout",
          "text": [
            "--2022-09-15 21:35:14--  https://repo.anaconda.com/miniconda/Miniconda3-py39_4.12.0-Linux-x86_64.sh\n",
            "Resolving repo.anaconda.com (repo.anaconda.com)... 104.16.131.3, 104.16.130.3, 2606:4700::6810:8303, ...\n",
            "Connecting to repo.anaconda.com (repo.anaconda.com)|104.16.131.3|:443... connected.\n",
            "HTTP request sent, awaiting response... 200 OK\n",
            "Length: 76607678 (73M) [application/x-sh]\n",
            "Saving to: ‘mini.sh’\n",
            "\n",
            "mini.sh             100%[===================>]  73.06M   247MB/s    in 0.3s    \n",
            "\n",
            "2022-09-15 21:35:14 (247 MB/s) - ‘mini.sh’ saved [76607678/76607678]\n",
            "\n",
            "PREFIX=/usr/local\n",
            "Unpacking payload ...\n",
            "Collecting package metadata (current_repodata.json): - \b\b\\ \b\b| \b\bdone\n",
            "Solving environment: - \b\b\\ \b\b| \b\bdone\n",
            "\n",
            "## Package Plan ##\n",
            "\n",
            "  environment location: /usr/local\n",
            "\n",
            "  added / updated specs:\n",
            "    - _libgcc_mutex==0.1=main\n",
            "    - _openmp_mutex==4.5=1_gnu\n",
            "    - brotlipy==0.7.0=py39h27cfd23_1003\n",
            "    - ca-certificates==2022.3.29=h06a4308_1\n",
            "    - certifi==2021.10.8=py39h06a4308_2\n",
            "    - cffi==1.15.0=py39hd667e15_1\n",
            "    - charset-normalizer==2.0.4=pyhd3eb1b0_0\n",
            "    - colorama==0.4.4=pyhd3eb1b0_0\n",
            "    - conda-content-trust==0.1.1=pyhd3eb1b0_0\n",
            "    - conda-package-handling==1.8.1=py39h7f8727e_0\n",
            "    - conda==4.12.0=py39h06a4308_0\n",
            "    - cryptography==36.0.0=py39h9ce1e76_0\n",
            "    - idna==3.3=pyhd3eb1b0_0\n",
            "    - ld_impl_linux-64==2.35.1=h7274673_9\n",
            "    - libffi==3.3=he6710b0_2\n",
            "    - libgcc-ng==9.3.0=h5101ec6_17\n",
            "    - libgomp==9.3.0=h5101ec6_17\n",
            "    - libstdcxx-ng==9.3.0=hd4cf53a_17\n",
            "    - ncurses==6.3=h7f8727e_2\n",
            "    - openssl==1.1.1n=h7f8727e_0\n",
            "    - pip==21.2.4=py39h06a4308_0\n",
            "    - pycosat==0.6.3=py39h27cfd23_0\n",
            "    - pycparser==2.21=pyhd3eb1b0_0\n",
            "    - pyopenssl==22.0.0=pyhd3eb1b0_0\n",
            "    - pysocks==1.7.1=py39h06a4308_0\n",
            "    - python==3.9.12=h12debd9_0\n",
            "    - readline==8.1.2=h7f8727e_1\n",
            "    - requests==2.27.1=pyhd3eb1b0_0\n",
            "    - ruamel_yaml==0.15.100=py39h27cfd23_0\n",
            "    - setuptools==61.2.0=py39h06a4308_0\n",
            "    - six==1.16.0=pyhd3eb1b0_1\n",
            "    - sqlite==3.38.2=hc218d9a_0\n",
            "    - tk==8.6.11=h1ccaba5_0\n",
            "    - tqdm==4.63.0=pyhd3eb1b0_0\n",
            "    - tzdata==2022a=hda174b7_0\n",
            "    - urllib3==1.26.8=pyhd3eb1b0_0\n",
            "    - wheel==0.37.1=pyhd3eb1b0_0\n",
            "    - xz==5.2.5=h7b6447c_0\n",
            "    - yaml==0.2.5=h7b6447c_0\n",
            "    - zlib==1.2.12=h7f8727e_1\n",
            "\n",
            "\n",
            "The following NEW packages will be INSTALLED:\n",
            "\n",
            "  _libgcc_mutex      pkgs/main/linux-64::_libgcc_mutex-0.1-main\n",
            "  _openmp_mutex      pkgs/main/linux-64::_openmp_mutex-4.5-1_gnu\n",
            "  brotlipy           pkgs/main/linux-64::brotlipy-0.7.0-py39h27cfd23_1003\n",
            "  ca-certificates    pkgs/main/linux-64::ca-certificates-2022.3.29-h06a4308_1\n",
            "  certifi            pkgs/main/linux-64::certifi-2021.10.8-py39h06a4308_2\n",
            "  cffi               pkgs/main/linux-64::cffi-1.15.0-py39hd667e15_1\n",
            "  charset-normalizer pkgs/main/noarch::charset-normalizer-2.0.4-pyhd3eb1b0_0\n",
            "  colorama           pkgs/main/noarch::colorama-0.4.4-pyhd3eb1b0_0\n",
            "  conda              pkgs/main/linux-64::conda-4.12.0-py39h06a4308_0\n",
            "  conda-content-tru~ pkgs/main/noarch::conda-content-trust-0.1.1-pyhd3eb1b0_0\n",
            "  conda-package-han~ pkgs/main/linux-64::conda-package-handling-1.8.1-py39h7f8727e_0\n",
            "  cryptography       pkgs/main/linux-64::cryptography-36.0.0-py39h9ce1e76_0\n",
            "  idna               pkgs/main/noarch::idna-3.3-pyhd3eb1b0_0\n",
            "  ld_impl_linux-64   pkgs/main/linux-64::ld_impl_linux-64-2.35.1-h7274673_9\n",
            "  libffi             pkgs/main/linux-64::libffi-3.3-he6710b0_2\n",
            "  libgcc-ng          pkgs/main/linux-64::libgcc-ng-9.3.0-h5101ec6_17\n",
            "  libgomp            pkgs/main/linux-64::libgomp-9.3.0-h5101ec6_17\n",
            "  libstdcxx-ng       pkgs/main/linux-64::libstdcxx-ng-9.3.0-hd4cf53a_17\n",
            "  ncurses            pkgs/main/linux-64::ncurses-6.3-h7f8727e_2\n",
            "  openssl            pkgs/main/linux-64::openssl-1.1.1n-h7f8727e_0\n",
            "  pip                pkgs/main/linux-64::pip-21.2.4-py39h06a4308_0\n",
            "  pycosat            pkgs/main/linux-64::pycosat-0.6.3-py39h27cfd23_0\n",
            "  pycparser          pkgs/main/noarch::pycparser-2.21-pyhd3eb1b0_0\n",
            "  pyopenssl          pkgs/main/noarch::pyopenssl-22.0.0-pyhd3eb1b0_0\n",
            "  pysocks            pkgs/main/linux-64::pysocks-1.7.1-py39h06a4308_0\n",
            "  python             pkgs/main/linux-64::python-3.9.12-h12debd9_0\n",
            "  readline           pkgs/main/linux-64::readline-8.1.2-h7f8727e_1\n",
            "  requests           pkgs/main/noarch::requests-2.27.1-pyhd3eb1b0_0\n",
            "  ruamel_yaml        pkgs/main/linux-64::ruamel_yaml-0.15.100-py39h27cfd23_0\n",
            "  setuptools         pkgs/main/linux-64::setuptools-61.2.0-py39h06a4308_0\n",
            "  six                pkgs/main/noarch::six-1.16.0-pyhd3eb1b0_1\n",
            "  sqlite             pkgs/main/linux-64::sqlite-3.38.2-hc218d9a_0\n",
            "  tk                 pkgs/main/linux-64::tk-8.6.11-h1ccaba5_0\n",
            "  tqdm               pkgs/main/noarch::tqdm-4.63.0-pyhd3eb1b0_0\n",
            "  tzdata             pkgs/main/noarch::tzdata-2022a-hda174b7_0\n",
            "  urllib3            pkgs/main/noarch::urllib3-1.26.8-pyhd3eb1b0_0\n",
            "  wheel              pkgs/main/noarch::wheel-0.37.1-pyhd3eb1b0_0\n",
            "  xz                 pkgs/main/linux-64::xz-5.2.5-h7b6447c_0\n",
            "  yaml               pkgs/main/linux-64::yaml-0.2.5-h7b6447c_0\n",
            "  zlib               pkgs/main/linux-64::zlib-1.2.12-h7f8727e_1\n",
            "\n",
            "\n",
            "Preparing transaction: - \b\b\\ \b\b| \b\b/ \b\bdone\n",
            "Executing transaction: \\ \b\b| \b\b/ \b\b- \b\b\\ \b\b| \b\b/ \b\b- \b\b\\ \b\b| \b\b/ \b\b- \b\b\\ \b\b| \b\b/ \b\b- \b\b\\ \b\b| \b\b/ \b\bdone\n",
            "installation finished.\n",
            "WARNING:\n",
            "    You currently have a PYTHONPATH environment variable set. This may cause\n",
            "    unexpected behavior when running the Python interpreter in Miniconda3.\n",
            "    For best results, please verify that your PYTHONPATH only points to\n",
            "    directories of packages that are compatible with the Python interpreter\n",
            "    in Miniconda3: /usr/local\n",
            "Collecting package metadata (current_repodata.json): ...working... done\n",
            "Solving environment: ...working... done\n",
            "\n",
            "## Package Plan ##\n",
            "\n",
            "  environment location: /usr/local\n",
            "\n",
            "  added / updated specs:\n",
            "    - jupyter\n",
            "\n",
            "\n",
            "The following packages will be downloaded:\n",
            "\n",
            "    package                    |            build\n",
            "    ---------------------------|-----------------\n",
            "    anyio-3.5.0                |   py39h06a4308_0         167 KB\n",
            "    argon2-cffi-21.3.0         |     pyhd3eb1b0_0          15 KB\n",
            "    argon2-cffi-bindings-21.2.0|   py39h7f8727e_0          33 KB\n",
            "    asttokens-2.0.5            |     pyhd3eb1b0_0          20 KB\n",
            "    attrs-21.4.0               |     pyhd3eb1b0_0          51 KB\n",
            "    babel-2.9.1                |     pyhd3eb1b0_0         5.5 MB\n",
            "    backcall-0.2.0             |     pyhd3eb1b0_0          13 KB\n",
            "    beautifulsoup4-4.11.1      |   py39h06a4308_0         185 KB\n",
            "    bleach-4.1.0               |     pyhd3eb1b0_0         123 KB\n",
            "    ca-certificates-2022.07.19 |       h06a4308_0         124 KB\n",
            "    certifi-2022.6.15          |   py39h06a4308_0         153 KB\n",
            "    conda-4.14.0               |   py39h06a4308_0         915 KB\n",
            "    cytoolz-0.11.0             |   py39h27cfd23_0         350 KB\n",
            "    dbus-1.13.18               |       hb2f20db_0         504 KB\n",
            "    debugpy-1.5.1              |   py39h295c915_0         1.7 MB\n",
            "    decorator-5.1.1            |     pyhd3eb1b0_0          12 KB\n",
            "    defusedxml-0.7.1           |     pyhd3eb1b0_0          23 KB\n",
            "    entrypoints-0.4            |   py39h06a4308_0          16 KB\n",
            "    executing-0.8.3            |     pyhd3eb1b0_0          18 KB\n",
            "    expat-2.4.4                |       h295c915_0         169 KB\n",
            "    fontconfig-2.13.1          |       h6c09931_0         250 KB\n",
            "    freetype-2.11.0            |       h70c0345_0         618 KB\n",
            "    glib-2.69.1                |       h4ff587b_1         1.7 MB\n",
            "    gst-plugins-base-1.14.0    |       h8213a91_2         4.9 MB\n",
            "    gstreamer-1.14.0           |       h28cd5cc_2         3.2 MB\n",
            "    icu-58.2                   |       he6710b0_3        10.5 MB\n",
            "    ipykernel-6.9.1            |   py39h06a4308_0         201 KB\n",
            "    ipython-8.4.0              |   py39h06a4308_0         962 KB\n",
            "    ipython_genutils-0.2.0     |     pyhd3eb1b0_1          27 KB\n",
            "    ipywidgets-7.6.5           |     pyhd3eb1b0_1         105 KB\n",
            "    jedi-0.18.1                |   py39h06a4308_1         982 KB\n",
            "    jinja2-3.0.3               |     pyhd3eb1b0_0         106 KB\n",
            "    jpeg-9e                    |       h7f8727e_0         240 KB\n",
            "    json5-0.9.6                |     pyhd3eb1b0_0          21 KB\n",
            "    jsonschema-4.4.0           |   py39h06a4308_0         121 KB\n",
            "    jupyter-1.0.0              |   py39h06a4308_8           7 KB\n",
            "    jupyter_client-7.1.2       |     pyhd3eb1b0_0          93 KB\n",
            "    jupyter_console-6.4.3      |     pyhd3eb1b0_0          23 KB\n",
            "    jupyter_core-4.10.0        |   py39h06a4308_0          76 KB\n",
            "    jupyter_server-1.18.1      |   py39h06a4308_0         356 KB\n",
            "    jupyterlab-3.4.4           |   py39h06a4308_0         3.7 MB\n",
            "    jupyterlab_pygments-0.1.2  |             py_0           8 KB\n",
            "    jupyterlab_server-2.12.0   |   py39h06a4308_0          76 KB\n",
            "    jupyterlab_widgets-1.0.0   |     pyhd3eb1b0_1         109 KB\n",
            "    libpng-1.6.37              |       hbc83047_0         278 KB\n",
            "    libsodium-1.0.18           |       h7b6447c_0         244 KB\n",
            "    libuuid-1.0.3              |       h7f8727e_2          17 KB\n",
            "    libxcb-1.15                |       h7f8727e_0         505 KB\n",
            "    libxml2-2.9.14             |       h74e7548_0         718 KB\n",
            "    markupsafe-2.1.1           |   py39h7f8727e_0          21 KB\n",
            "    matplotlib-inline-0.1.6    |   py39h06a4308_0          16 KB\n",
            "    mistune-0.8.4              |py39h27cfd23_1000          57 KB\n",
            "    nbclassic-0.3.5            |     pyhd3eb1b0_0          22 KB\n",
            "    nbclient-0.5.13            |   py39h06a4308_0          91 KB\n",
            "    nbconvert-6.4.4            |   py39h06a4308_0         494 KB\n",
            "    nbformat-5.3.0             |   py39h06a4308_0         128 KB\n",
            "    nest-asyncio-1.5.5         |   py39h06a4308_0          16 KB\n",
            "    notebook-6.4.12            |   py39h06a4308_0         4.2 MB\n",
            "    openssl-1.1.1q             |       h7f8727e_0         2.5 MB\n",
            "    packaging-21.3             |     pyhd3eb1b0_0          36 KB\n",
            "    pandocfilters-1.5.0        |     pyhd3eb1b0_0          11 KB\n",
            "    parso-0.8.3                |     pyhd3eb1b0_0          70 KB\n",
            "    pcre-8.45                  |       h295c915_0         207 KB\n",
            "    pexpect-4.8.0              |     pyhd3eb1b0_3          53 KB\n",
            "    pickleshare-0.7.5          |  pyhd3eb1b0_1003          13 KB\n",
            "    prometheus_client-0.14.1   |   py39h06a4308_0          90 KB\n",
            "    prompt-toolkit-3.0.20      |     pyhd3eb1b0_0         259 KB\n",
            "    prompt_toolkit-3.0.20      |       hd3eb1b0_0          12 KB\n",
            "    ptyprocess-0.7.0           |     pyhd3eb1b0_2          17 KB\n",
            "    pure_eval-0.2.2            |     pyhd3eb1b0_0          14 KB\n",
            "    pygments-2.11.2            |     pyhd3eb1b0_0         759 KB\n",
            "    pyparsing-3.0.9            |   py39h06a4308_0         151 KB\n",
            "    pyqt-5.9.2                 |   py39h2531618_6         4.7 MB\n",
            "    pyrsistent-0.18.0          |   py39heee7806_0          94 KB\n",
            "    python-dateutil-2.8.2      |     pyhd3eb1b0_0         233 KB\n",
            "    python-fastjsonschema-2.16.2|   py39h06a4308_0         231 KB\n",
            "    pytz-2022.1                |   py39h06a4308_0         194 KB\n",
            "    pyzmq-22.3.0               |   py39h295c915_2         470 KB\n",
            "    qt-5.9.7                   |       h5867ecd_1        68.5 MB\n",
            "    qtconsole-5.3.2            |   py39h06a4308_0         176 KB\n",
            "    qtpy-2.2.0                 |   py39h06a4308_0          84 KB\n",
            "    send2trash-1.8.0           |     pyhd3eb1b0_1          19 KB\n",
            "    sip-4.19.13                |   py39h295c915_0         278 KB\n",
            "    sniffio-1.2.0              |   py39h06a4308_1          15 KB\n",
            "    soupsieve-2.3.1            |     pyhd3eb1b0_0          34 KB\n",
            "    stack_data-0.2.0           |     pyhd3eb1b0_0          22 KB\n",
            "    terminado-0.13.1           |   py39h06a4308_0          30 KB\n",
            "    testpath-0.6.0             |   py39h06a4308_0          85 KB\n",
            "    toolz-0.11.2               |     pyhd3eb1b0_0          49 KB\n",
            "    tornado-6.1                |   py39h27cfd23_0         595 KB\n",
            "    traitlets-5.1.1            |     pyhd3eb1b0_0          84 KB\n",
            "    typing-extensions-4.3.0    |   py39h06a4308_0           9 KB\n",
            "    typing_extensions-4.3.0    |   py39h06a4308_0          42 KB\n",
            "    wcwidth-0.2.5              |     pyhd3eb1b0_0          26 KB\n",
            "    webencodings-0.5.1         |   py39h06a4308_1          20 KB\n",
            "    websocket-client-0.58.0    |   py39h06a4308_4          66 KB\n",
            "    widgetsnbextension-3.5.2   |   py39h06a4308_0         645 KB\n",
            "    zeromq-4.3.4               |       h2531618_0         331 KB\n",
            "    ------------------------------------------------------------\n",
            "                                           Total:       126.2 MB\n",
            "\n",
            "The following NEW packages will be INSTALLED:\n",
            "\n",
            "  anyio              pkgs/main/linux-64::anyio-3.5.0-py39h06a4308_0\n",
            "  argon2-cffi        pkgs/main/noarch::argon2-cffi-21.3.0-pyhd3eb1b0_0\n",
            "  argon2-cffi-bindi~ pkgs/main/linux-64::argon2-cffi-bindings-21.2.0-py39h7f8727e_0\n",
            "  asttokens          pkgs/main/noarch::asttokens-2.0.5-pyhd3eb1b0_0\n",
            "  attrs              pkgs/main/noarch::attrs-21.4.0-pyhd3eb1b0_0\n",
            "  babel              pkgs/main/noarch::babel-2.9.1-pyhd3eb1b0_0\n",
            "  backcall           pkgs/main/noarch::backcall-0.2.0-pyhd3eb1b0_0\n",
            "  beautifulsoup4     pkgs/main/linux-64::beautifulsoup4-4.11.1-py39h06a4308_0\n",
            "  bleach             pkgs/main/noarch::bleach-4.1.0-pyhd3eb1b0_0\n",
            "  cytoolz            pkgs/main/linux-64::cytoolz-0.11.0-py39h27cfd23_0\n",
            "  dbus               pkgs/main/linux-64::dbus-1.13.18-hb2f20db_0\n",
            "  debugpy            pkgs/main/linux-64::debugpy-1.5.1-py39h295c915_0\n",
            "  decorator          pkgs/main/noarch::decorator-5.1.1-pyhd3eb1b0_0\n",
            "  defusedxml         pkgs/main/noarch::defusedxml-0.7.1-pyhd3eb1b0_0\n",
            "  entrypoints        pkgs/main/linux-64::entrypoints-0.4-py39h06a4308_0\n",
            "  executing          pkgs/main/noarch::executing-0.8.3-pyhd3eb1b0_0\n",
            "  expat              pkgs/main/linux-64::expat-2.4.4-h295c915_0\n",
            "  fontconfig         pkgs/main/linux-64::fontconfig-2.13.1-h6c09931_0\n",
            "  freetype           pkgs/main/linux-64::freetype-2.11.0-h70c0345_0\n",
            "  glib               pkgs/main/linux-64::glib-2.69.1-h4ff587b_1\n",
            "  gst-plugins-base   pkgs/main/linux-64::gst-plugins-base-1.14.0-h8213a91_2\n",
            "  gstreamer          pkgs/main/linux-64::gstreamer-1.14.0-h28cd5cc_2\n",
            "  icu                pkgs/main/linux-64::icu-58.2-he6710b0_3\n",
            "  ipykernel          pkgs/main/linux-64::ipykernel-6.9.1-py39h06a4308_0\n",
            "  ipython            pkgs/main/linux-64::ipython-8.4.0-py39h06a4308_0\n",
            "  ipython_genutils   pkgs/main/noarch::ipython_genutils-0.2.0-pyhd3eb1b0_1\n",
            "  ipywidgets         pkgs/main/noarch::ipywidgets-7.6.5-pyhd3eb1b0_1\n",
            "  jedi               pkgs/main/linux-64::jedi-0.18.1-py39h06a4308_1\n",
            "  jinja2             pkgs/main/noarch::jinja2-3.0.3-pyhd3eb1b0_0\n",
            "  jpeg               pkgs/main/linux-64::jpeg-9e-h7f8727e_0\n",
            "  json5              pkgs/main/noarch::json5-0.9.6-pyhd3eb1b0_0\n",
            "  jsonschema         pkgs/main/linux-64::jsonschema-4.4.0-py39h06a4308_0\n",
            "  jupyter            pkgs/main/linux-64::jupyter-1.0.0-py39h06a4308_8\n",
            "  jupyter_client     pkgs/main/noarch::jupyter_client-7.1.2-pyhd3eb1b0_0\n",
            "  jupyter_console    pkgs/main/noarch::jupyter_console-6.4.3-pyhd3eb1b0_0\n",
            "  jupyter_core       pkgs/main/linux-64::jupyter_core-4.10.0-py39h06a4308_0\n",
            "  jupyter_server     pkgs/main/linux-64::jupyter_server-1.18.1-py39h06a4308_0\n",
            "  jupyterlab         pkgs/main/linux-64::jupyterlab-3.4.4-py39h06a4308_0\n",
            "  jupyterlab_pygmen~ pkgs/main/noarch::jupyterlab_pygments-0.1.2-py_0\n",
            "  jupyterlab_server  pkgs/main/linux-64::jupyterlab_server-2.12.0-py39h06a4308_0\n",
            "  jupyterlab_widgets pkgs/main/noarch::jupyterlab_widgets-1.0.0-pyhd3eb1b0_1\n",
            "  libpng             pkgs/main/linux-64::libpng-1.6.37-hbc83047_0\n",
            "  libsodium          pkgs/main/linux-64::libsodium-1.0.18-h7b6447c_0\n",
            "  libuuid            pkgs/main/linux-64::libuuid-1.0.3-h7f8727e_2\n",
            "  libxcb             pkgs/main/linux-64::libxcb-1.15-h7f8727e_0\n",
            "  libxml2            pkgs/main/linux-64::libxml2-2.9.14-h74e7548_0\n",
            "  markupsafe         pkgs/main/linux-64::markupsafe-2.1.1-py39h7f8727e_0\n",
            "  matplotlib-inline  pkgs/main/linux-64::matplotlib-inline-0.1.6-py39h06a4308_0\n",
            "  mistune            pkgs/main/linux-64::mistune-0.8.4-py39h27cfd23_1000\n",
            "  nbclassic          pkgs/main/noarch::nbclassic-0.3.5-pyhd3eb1b0_0\n",
            "  nbclient           pkgs/main/linux-64::nbclient-0.5.13-py39h06a4308_0\n",
            "  nbconvert          pkgs/main/linux-64::nbconvert-6.4.4-py39h06a4308_0\n",
            "  nbformat           pkgs/main/linux-64::nbformat-5.3.0-py39h06a4308_0\n",
            "  nest-asyncio       pkgs/main/linux-64::nest-asyncio-1.5.5-py39h06a4308_0\n",
            "  notebook           pkgs/main/linux-64::notebook-6.4.12-py39h06a4308_0\n",
            "  packaging          pkgs/main/noarch::packaging-21.3-pyhd3eb1b0_0\n",
            "  pandocfilters      pkgs/main/noarch::pandocfilters-1.5.0-pyhd3eb1b0_0\n",
            "  parso              pkgs/main/noarch::parso-0.8.3-pyhd3eb1b0_0\n",
            "  pcre               pkgs/main/linux-64::pcre-8.45-h295c915_0\n",
            "  pexpect            pkgs/main/noarch::pexpect-4.8.0-pyhd3eb1b0_3\n",
            "  pickleshare        pkgs/main/noarch::pickleshare-0.7.5-pyhd3eb1b0_1003\n",
            "  prometheus_client  pkgs/main/linux-64::prometheus_client-0.14.1-py39h06a4308_0\n",
            "  prompt-toolkit     pkgs/main/noarch::prompt-toolkit-3.0.20-pyhd3eb1b0_0\n",
            "  prompt_toolkit     pkgs/main/noarch::prompt_toolkit-3.0.20-hd3eb1b0_0\n",
            "  ptyprocess         pkgs/main/noarch::ptyprocess-0.7.0-pyhd3eb1b0_2\n",
            "  pure_eval          pkgs/main/noarch::pure_eval-0.2.2-pyhd3eb1b0_0\n",
            "  pygments           pkgs/main/noarch::pygments-2.11.2-pyhd3eb1b0_0\n",
            "  pyparsing          pkgs/main/linux-64::pyparsing-3.0.9-py39h06a4308_0\n",
            "  pyqt               pkgs/main/linux-64::pyqt-5.9.2-py39h2531618_6\n",
            "  pyrsistent         pkgs/main/linux-64::pyrsistent-0.18.0-py39heee7806_0\n",
            "  python-dateutil    pkgs/main/noarch::python-dateutil-2.8.2-pyhd3eb1b0_0\n",
            "  python-fastjsonsc~ pkgs/main/linux-64::python-fastjsonschema-2.16.2-py39h06a4308_0\n",
            "  pytz               pkgs/main/linux-64::pytz-2022.1-py39h06a4308_0\n",
            "  pyzmq              pkgs/main/linux-64::pyzmq-22.3.0-py39h295c915_2\n",
            "  qt                 pkgs/main/linux-64::qt-5.9.7-h5867ecd_1\n",
            "  qtconsole          pkgs/main/linux-64::qtconsole-5.3.2-py39h06a4308_0\n",
            "  qtpy               pkgs/main/linux-64::qtpy-2.2.0-py39h06a4308_0\n",
            "  send2trash         pkgs/main/noarch::send2trash-1.8.0-pyhd3eb1b0_1\n",
            "  sip                pkgs/main/linux-64::sip-4.19.13-py39h295c915_0\n",
            "  sniffio            pkgs/main/linux-64::sniffio-1.2.0-py39h06a4308_1\n",
            "  soupsieve          pkgs/main/noarch::soupsieve-2.3.1-pyhd3eb1b0_0\n",
            "  stack_data         pkgs/main/noarch::stack_data-0.2.0-pyhd3eb1b0_0\n",
            "  terminado          pkgs/main/linux-64::terminado-0.13.1-py39h06a4308_0\n",
            "  testpath           pkgs/main/linux-64::testpath-0.6.0-py39h06a4308_0\n",
            "  toolz              pkgs/main/noarch::toolz-0.11.2-pyhd3eb1b0_0\n",
            "  tornado            pkgs/main/linux-64::tornado-6.1-py39h27cfd23_0\n",
            "  traitlets          pkgs/main/noarch::traitlets-5.1.1-pyhd3eb1b0_0\n",
            "  typing-extensions  pkgs/main/linux-64::typing-extensions-4.3.0-py39h06a4308_0\n",
            "  typing_extensions  pkgs/main/linux-64::typing_extensions-4.3.0-py39h06a4308_0\n",
            "  wcwidth            pkgs/main/noarch::wcwidth-0.2.5-pyhd3eb1b0_0\n",
            "  webencodings       pkgs/main/linux-64::webencodings-0.5.1-py39h06a4308_1\n",
            "  websocket-client   pkgs/main/linux-64::websocket-client-0.58.0-py39h06a4308_4\n",
            "  widgetsnbextension pkgs/main/linux-64::widgetsnbextension-3.5.2-py39h06a4308_0\n",
            "  zeromq             pkgs/main/linux-64::zeromq-4.3.4-h2531618_0\n",
            "\n",
            "The following packages will be UPDATED:\n",
            "\n",
            "  ca-certificates                      2022.3.29-h06a4308_1 --> 2022.07.19-h06a4308_0\n",
            "  certifi                          2021.10.8-py39h06a4308_2 --> 2022.6.15-py39h06a4308_0\n",
            "  conda                               4.12.0-py39h06a4308_0 --> 4.14.0-py39h06a4308_0\n",
            "  openssl                                 1.1.1n-h7f8727e_0 --> 1.1.1q-h7f8727e_0\n",
            "\n",
            "\n",
            "Preparing transaction: ...working... done\n",
            "Verifying transaction: ...working... done\n",
            "Executing transaction: ...working... done\n",
            "Collecting package metadata (current_repodata.json): ...working... done\n",
            "Solving environment: ...working... done\n",
            "\n",
            "## Package Plan ##\n",
            "\n",
            "  environment location: /usr/local\n",
            "\n",
            "  added / updated specs:\n",
            "    - google-colab\n",
            "\n",
            "\n",
            "The following packages will be downloaded:\n",
            "\n",
            "    package                    |            build\n",
            "    ---------------------------|-----------------\n",
            "    aiohttp-3.8.1              |   py39h7f8727e_1         525 KB\n",
            "    aiosignal-1.2.0            |     pyhd8ed1ab_0          12 KB  conda-forge\n",
            "    async-timeout-4.0.2        |     pyhd8ed1ab_0           9 KB  conda-forge\n",
            "    blas-1.0                   |              mkl           6 KB\n",
            "    bottleneck-1.3.4           |   py39hce1f21e_0         126 KB\n",
            "    ca-certificates-2022.9.14  |       ha878542_0         152 KB  conda-forge\n",
            "    cachetools-5.2.0           |     pyhd8ed1ab_0          13 KB  conda-forge\n",
            "    certifi-2022.9.14          |     pyhd8ed1ab_0         156 KB  conda-forge\n",
            "    conda-4.14.0               |   py39hf3d152e_0        1011 KB  conda-forge\n",
            "    frozenlist-1.2.0           |   py39h7f8727e_0          79 KB\n",
            "    google-auth-2.11.0         |     pyh6c4a22f_0          90 KB  conda-forge\n",
            "    google-colab-1.0.0         |     pyh44b312d_0          77 KB  conda-forge\n",
            "    intel-openmp-2021.4.0      |    h06a4308_3561         4.2 MB\n",
            "    mkl-2021.4.0               |     h06a4308_640       142.6 MB\n",
            "    mkl-service-2.4.0          |   py39h3811e60_0          61 KB  conda-forge\n",
            "    mkl_fft-1.3.1              |   py39hd3c417c_0         182 KB\n",
            "    mkl_random-1.2.2           |   py39hde0f152_0         379 KB  conda-forge\n",
            "    multidict-5.2.0            |   py39h7f8727e_2          64 KB\n",
            "    numexpr-2.8.1              |   py39h6abb31d_0         124 KB\n",
            "    numpy-1.21.5               |   py39he7a7128_2          10 KB\n",
            "    numpy-base-1.21.5          |   py39hf524024_2         4.9 MB\n",
            "    pandas-1.4.2               |   py39h295c915_0         9.9 MB\n",
            "    portpicker-1.3.1           |   py39h06a4308_0          27 KB\n",
            "    pyasn1-0.4.8               |             py_0          53 KB  conda-forge\n",
            "    pyasn1-modules-0.2.7       |             py_0          60 KB  conda-forge\n",
            "    python_abi-3.9             |           2_cp39           4 KB  conda-forge\n",
            "    pyu2f-0.1.5                |     pyhd8ed1ab_0          31 KB  conda-forge\n",
            "    rsa-4.9                    |     pyhd8ed1ab_0          29 KB  conda-forge\n",
            "    yarl-1.6.3                 |   py39h27cfd23_0         136 KB\n",
            "    ------------------------------------------------------------\n",
            "                                           Total:       164.9 MB\n",
            "\n",
            "The following NEW packages will be INSTALLED:\n",
            "\n",
            "  aiohttp            pkgs/main/linux-64::aiohttp-3.8.1-py39h7f8727e_1\n",
            "  aiosignal          conda-forge/noarch::aiosignal-1.2.0-pyhd8ed1ab_0\n",
            "  async-timeout      conda-forge/noarch::async-timeout-4.0.2-pyhd8ed1ab_0\n",
            "  blas               pkgs/main/linux-64::blas-1.0-mkl\n",
            "  bottleneck         pkgs/main/linux-64::bottleneck-1.3.4-py39hce1f21e_0\n",
            "  cachetools         conda-forge/noarch::cachetools-5.2.0-pyhd8ed1ab_0\n",
            "  frozenlist         pkgs/main/linux-64::frozenlist-1.2.0-py39h7f8727e_0\n",
            "  google-auth        conda-forge/noarch::google-auth-2.11.0-pyh6c4a22f_0\n",
            "  google-colab       conda-forge/noarch::google-colab-1.0.0-pyh44b312d_0\n",
            "  intel-openmp       pkgs/main/linux-64::intel-openmp-2021.4.0-h06a4308_3561\n",
            "  mkl                pkgs/main/linux-64::mkl-2021.4.0-h06a4308_640\n",
            "  mkl-service        conda-forge/linux-64::mkl-service-2.4.0-py39h3811e60_0\n",
            "  mkl_fft            pkgs/main/linux-64::mkl_fft-1.3.1-py39hd3c417c_0\n",
            "  mkl_random         conda-forge/linux-64::mkl_random-1.2.2-py39hde0f152_0\n",
            "  multidict          pkgs/main/linux-64::multidict-5.2.0-py39h7f8727e_2\n",
            "  numexpr            pkgs/main/linux-64::numexpr-2.8.1-py39h6abb31d_0\n",
            "  numpy              pkgs/main/linux-64::numpy-1.21.5-py39he7a7128_2\n",
            "  numpy-base         pkgs/main/linux-64::numpy-base-1.21.5-py39hf524024_2\n",
            "  pandas             pkgs/main/linux-64::pandas-1.4.2-py39h295c915_0\n",
            "  portpicker         pkgs/main/linux-64::portpicker-1.3.1-py39h06a4308_0\n",
            "  pyasn1             conda-forge/noarch::pyasn1-0.4.8-py_0\n",
            "  pyasn1-modules     conda-forge/noarch::pyasn1-modules-0.2.7-py_0\n",
            "  python_abi         conda-forge/linux-64::python_abi-3.9-2_cp39\n",
            "  pyu2f              conda-forge/noarch::pyu2f-0.1.5-pyhd8ed1ab_0\n",
            "  rsa                conda-forge/noarch::rsa-4.9-pyhd8ed1ab_0\n",
            "  yarl               pkgs/main/linux-64::yarl-1.6.3-py39h27cfd23_0\n",
            "\n",
            "The following packages will be UPDATED:\n",
            "\n",
            "  ca-certificates    pkgs/main::ca-certificates-2022.07.19~ --> conda-forge::ca-certificates-2022.9.14-ha878542_0\n",
            "  certifi            pkgs/main/linux-64::certifi-2022.6.15~ --> conda-forge/noarch::certifi-2022.9.14-pyhd8ed1ab_0\n",
            "\n",
            "The following packages will be SUPERSEDED by a higher-priority channel:\n",
            "\n",
            "  conda              pkgs/main::conda-4.14.0-py39h06a4308_0 --> conda-forge::conda-4.14.0-py39hf3d152e_0\n",
            "\n",
            "\n",
            "Preparing transaction: ...working... done\n",
            "Verifying transaction: ...working... done\n",
            "Executing transaction: ...working... done\n",
            "Retrieving notices: ...working... done\n",
            "Installed kernelspec py39 in /root/.local/share/jupyter/kernels/py39\n"
          ]
        }
      ]
    },
    {
      "cell_type": "code",
      "source": [
        "!python --version"
      ],
      "metadata": {
        "id": "DkyoesJ8DUjw",
        "outputId": "680e508d-5c6e-476f-d21d-3a715eacdcc1",
        "colab": {
          "base_uri": "https://localhost:8080/"
        }
      },
      "execution_count": 2,
      "outputs": [
        {
          "output_type": "stream",
          "name": "stdout",
          "text": [
            "Python 3.9.12\n"
          ]
        }
      ]
    },
    {
      "cell_type": "markdown",
      "source": [
        "## Google Cloud Storage"
      ],
      "metadata": {
        "id": "BDMnnS3RVrkF"
      }
    },
    {
      "cell_type": "markdown",
      "source": [
        "下記コードでGCPに接続"
      ],
      "metadata": {
        "id": "SsgiSjKhV2D7"
      }
    },
    {
      "cell_type": "code",
      "source": [
        "from google.colab import auth\n",
        "auth.authenticate_user()"
      ],
      "metadata": {
        "id": "GKiUkM7SV0bY"
      },
      "execution_count": 3,
      "outputs": []
    },
    {
      "cell_type": "markdown",
      "source": [
        "認証に成功したらgcsfuseをインストール"
      ],
      "metadata": {
        "id": "KP4JP4ouV6QS"
      }
    },
    {
      "cell_type": "code",
      "source": [
        "!echo \"deb http://packages.cloud.google.com/apt gcsfuse-`lsb_release -c -s` main\" | sudo tee /etc/apt/sources.list.d/gcsfuse.list\n",
        "!curl https://packages.cloud.google.com/apt/doc/apt-key.gpg | sudo apt-key add -\n",
        "!apt-get -y -q update\n",
        "!apt-get -y -q install gcsfuse"
      ],
      "metadata": {
        "id": "d1D5UagbV9A4",
        "colab": {
          "base_uri": "https://localhost:8080/"
        },
        "outputId": "6bc73cad-10bb-4ddb-851b-bf233c438fec"
      },
      "execution_count": 4,
      "outputs": [
        {
          "output_type": "stream",
          "name": "stdout",
          "text": [
            "deb http://packages.cloud.google.com/apt gcsfuse-bionic main\n",
            "  % Total    % Received % Xferd  Average Speed   Time    Time     Time  Current\n",
            "                                 Dload  Upload   Total   Spent    Left  Speed\n",
            "100  2537  100  2537    0     0  70472      0 --:--:-- --:--:-- --:--:-- 70472\n",
            "OK\n",
            "Get:1 https://cloud.r-project.org/bin/linux/ubuntu bionic-cran40/ InRelease [3,626 B]\n",
            "Get:2 http://security.ubuntu.com/ubuntu bionic-security InRelease [88.7 kB]\n",
            "Get:3 http://packages.cloud.google.com/apt gcsfuse-bionic InRelease [5,391 B]\n",
            "Hit:4 http://ppa.launchpad.net/c2d4u.team/c2d4u4.0+/ubuntu bionic InRelease\n",
            "Get:5 http://packages.cloud.google.com/apt gcsfuse-bionic/main amd64 Packages [1,443 B]\n",
            "Hit:6 http://archive.ubuntu.com/ubuntu bionic InRelease\n",
            "Ign:7 https://developer.download.nvidia.com/compute/machine-learning/repos/ubuntu1804/x86_64  InRelease\n",
            "Hit:8 https://developer.download.nvidia.com/compute/cuda/repos/ubuntu1804/x86_64  InRelease\n",
            "Get:9 http://archive.ubuntu.com/ubuntu bionic-updates InRelease [88.7 kB]\n",
            "Hit:10 https://developer.download.nvidia.com/compute/machine-learning/repos/ubuntu1804/x86_64  Release\n",
            "Hit:11 http://ppa.launchpad.net/cran/libgit2/ubuntu bionic InRelease\n",
            "Hit:12 http://ppa.launchpad.net/deadsnakes/ppa/ubuntu bionic InRelease\n",
            "Get:13 http://security.ubuntu.com/ubuntu bionic-security/main amd64 Packages [2,965 kB]\n",
            "Get:15 http://archive.ubuntu.com/ubuntu bionic-backports InRelease [74.6 kB]\n",
            "Hit:16 http://ppa.launchpad.net/graphics-drivers/ppa/ubuntu bionic InRelease\n",
            "Get:17 http://archive.ubuntu.com/ubuntu bionic-updates/main amd64 Packages [3,397 kB]\n",
            "Get:18 http://security.ubuntu.com/ubuntu bionic-security/universe amd64 Packages [1,540 kB]\n",
            "Get:19 http://archive.ubuntu.com/ubuntu bionic-updates/universe amd64 Packages [2,318 kB]\n",
            "Fetched 10.5 MB in 4s (2,456 kB/s)\n",
            "Reading package lists...\n",
            "Reading package lists...\n",
            "Building dependency tree...\n",
            "Reading state information...\n",
            "The following package was automatically installed and is no longer required:\n",
            "  libnvidia-common-460\n",
            "Use 'apt autoremove' to remove it.\n",
            "The following NEW packages will be installed:\n",
            "  gcsfuse\n",
            "0 upgraded, 1 newly installed, 0 to remove and 31 not upgraded.\n",
            "Need to get 12.1 MB of archives.\n",
            "After this operation, 27.5 MB of additional disk space will be used.\n",
            "Get:1 http://packages.cloud.google.com/apt gcsfuse-bionic/main amd64 gcsfuse amd64 0.41.6 [12.1 MB]\n",
            "Fetched 12.1 MB in 0s (54.8 MB/s)\n",
            "Selecting previously unselected package gcsfuse.\n",
            "(Reading database ... 155569 files and directories currently installed.)\n",
            "Preparing to unpack .../gcsfuse_0.41.6_amd64.deb ...\n",
            "Unpacking gcsfuse (0.41.6) ...\n",
            "Setting up gcsfuse (0.41.6) ...\n"
          ]
        }
      ]
    },
    {
      "cell_type": "markdown",
      "source": [
        "バケット「statistics-hyogo」をディレクトリ「statistics-hyogo」にマウント"
      ],
      "metadata": {
        "id": "QUUcFp5LWR6s"
      }
    },
    {
      "cell_type": "code",
      "source": [
        "! mkdir -p statistics-hyogo\n",
        "! gcsfuse --implicit-dirs --limit-bytes-per-sec -1 --limit-ops-per-sec -1 statistics-hyogo statistics-hyogo"
      ],
      "metadata": {
        "colab": {
          "base_uri": "https://localhost:8080/"
        },
        "id": "vw-vsTVGWIfp",
        "outputId": "4caf0705-992e-40a4-fcbc-98290e7c02c6"
      },
      "execution_count": 5,
      "outputs": [
        {
          "output_type": "stream",
          "name": "stdout",
          "text": [
            "2022/09/15 21:39:03.827863 Start gcsfuse/0.41.6 (Go version go1.18.4) for app \"\" using mount point: /content/statistics-hyogo\n",
            "2022/09/15 21:39:03.843056 Opening GCS connection...\n",
            "2022/09/15 21:39:04.441649 Mounting file system \"statistics-hyogo\"...\n",
            "2022/09/15 21:39:04.444043 File system has been successfully mounted.\n"
          ]
        }
      ]
    },
    {
      "cell_type": "markdown",
      "source": [
        "## ESTAT_APP_ID"
      ],
      "metadata": {
        "id": "EayVKgQL4eLC"
      }
    },
    {
      "cell_type": "code",
      "source": [
        "ESTAT_APPID = '724e5b90772a3e9289f41a253e4e7e32438f4fff'"
      ],
      "metadata": {
        "id": "wMa4y4oXJYdw"
      },
      "execution_count": 6,
      "outputs": []
    },
    {
      "cell_type": "markdown",
      "source": [
        "## pythonのライブラリ追加"
      ],
      "metadata": {
        "id": "rv4FGegQaZtc"
      }
    },
    {
      "cell_type": "code",
      "source": [
        "import urllib.parse\n",
        "import urllib.request\n",
        "import json\n",
        "import pandas as pd"
      ],
      "metadata": {
        "id": "eIB9NAJdalZT"
      },
      "execution_count": 7,
      "outputs": []
    },
    {
      "cell_type": "markdown",
      "source": [
        "# estatの統計情報を取得"
      ],
      "metadata": {
        "id": "8AQDQmu5ZIVE"
      }
    },
    {
      "cell_type": "markdown",
      "source": [
        "## 統計表のメタ情報を取得"
      ],
      "metadata": {
        "id": "jqpIsfSw7RvK"
      }
    },
    {
      "cell_type": "markdown",
      "source": [
        "'statsDataId'に統計表コードを指定"
      ],
      "metadata": {
        "id": "IYxQ-Md5ZU3P"
      }
    },
    {
      "cell_type": "code",
      "source": [
        "statsDataId = '0000010101'"
      ],
      "metadata": {
        "id": "RS0kYP4dZUSU"
      },
      "execution_count": 8,
      "outputs": []
    },
    {
      "cell_type": "markdown",
      "source": [
        "メタ情報を取得する関数を作成"
      ],
      "metadata": {
        "id": "d5VF0GXDZjRr"
      }
    },
    {
      "cell_type": "code",
      "source": [
        "def get_estat_meta(statsDataId):\n",
        "  # リクエストパラメータ\n",
        "  p={}\n",
        "  p['statsDataId'] = statsDataId\n",
        "  p['appId'] = ESTAT_APPID\n",
        "\n",
        "  url = 'http://api.e-stat.go.jp/rest/3.0/app/json/getMetaInfo?'\n",
        "  url += urllib.parse.urlencode(p)\n",
        "\n",
        "  with urllib.request.urlopen(url) as response:\n",
        "    return json.loads(response.read().decode('utf-8'))\n",
        "\n",
        "meta = get_estat_meta(statsDataId)\n",
        "print(meta)"
      ],
      "metadata": {
        "id": "Qkb_XkW4ZiN8",
        "outputId": "2eb12888-9e32-489e-dcff-3652f8a27d66",
        "colab": {
          "base_uri": "https://localhost:8080/"
        }
      },
      "execution_count": 9,
      "outputs": [
        {
          "output_type": "stream",
          "name": "stdout",
          "text": [
            "{'GET_META_INFO': {'RESULT': {'STATUS': 0, 'ERROR_MSG': '正常に終了しました。', 'DATE': '2022-09-16T06:39:14.544+09:00'}, 'PARAMETER': {'LANG': 'J', 'STATS_DATA_ID': '0000010101', 'DATA_FORMAT': 'J'}, 'METADATA_INF': {'TABLE_INF': {'@id': '0000010101', 'STAT_NAME': {'@code': '00200502', '$': '社会・人口統計体系'}, 'GOV_ORG': {'@code': '00200', '$': '総務省'}, 'STATISTICS_NAME': '都道府県データ 基礎データ', 'TITLE': {'@no': '0000010101', '$': 'Ａ\\u3000人口・世帯'}, 'CYCLE': '年度次', 'SURVEY_DATE': 0, 'OPEN_DATE': '2022-03-04', 'SMALL_AREA': 0, 'COLLECT_AREA': '全国', 'MAIN_CATEGORY': {'@code': '99', '$': 'その他'}, 'SUB_CATEGORY': {'@code': '99', '$': 'その他'}, 'OVERALL_TOTAL_NUMBER': 500976, 'UPDATED_DATE': '2022-03-04', 'STATISTICS_NAME_SPEC': {'TABULATION_CATEGORY': '都道府県データ', 'TABULATION_SUB_CATEGORY1': '基礎データ'}, 'DESCRIPTION': {'TABULATION_CATEGORY_EXPLANATION': '社会・人口統計体系の都道府県ごとに集計したデータを提供します。'}, 'TITLE_SPEC': {'TABLE_NAME': 'Ａ\\u3000人口・世帯'}}, 'CLASS_INF': {'CLASS_OBJ': [{'@id': 'tab', '@name': '観測値', 'CLASS': {'@code': '00001', '@name': '観測値', '@level': '1'}}, {'@id': 'cat01', '@name': 'Ａ\\u3000人口・世帯', 'CLASS': [{'@code': 'A1101', '@name': 'A1101_総人口', '@level': '1', '@unit': '人'}, {'@code': 'A110101', '@name': 'A110101_総人口（男）', '@level': '1', '@unit': '人'}, {'@code': 'A110102', '@name': 'A110102_総人口（女）', '@level': '1', '@unit': '人'}, {'@code': 'A1102', '@name': 'A1102_日本人人口', '@level': '1', '@unit': '人'}, {'@code': 'A110201', '@name': 'A110201_日本人人口（男）', '@level': '1', '@unit': '人'}, {'@code': 'A110202', '@name': 'A110202_日本人人口（女）', '@level': '1', '@unit': '人'}, {'@code': 'A1201', '@name': 'A1201_0～4歳人口', '@level': '1', '@unit': '人'}, {'@code': 'A120101', '@name': 'A120101_0～4歳人口（男）', '@level': '1', '@unit': '人'}, {'@code': 'A120102', '@name': 'A120102_0～4歳人口（女）', '@level': '1', '@unit': '人'}, {'@code': 'A1202', '@name': 'A1202_5～9歳人口', '@level': '1', '@unit': '人'}, {'@code': 'A120201', '@name': 'A120201_5～9歳人口（男）', '@level': '1', '@unit': '人'}, {'@code': 'A120202', '@name': 'A120202_5～9歳人口（女）', '@level': '1', '@unit': '人'}, {'@code': 'A1203', '@name': 'A1203_10～14歳人口', '@level': '1', '@unit': '人'}, {'@code': 'A120301', '@name': 'A120301_10～14歳人口（男）', '@level': '1', '@unit': '人'}, {'@code': 'A120302', '@name': 'A120302_10～14歳人口（女）', '@level': '1', '@unit': '人'}, {'@code': 'A1204', '@name': 'A1204_15～19歳人口', '@level': '1', '@unit': '人'}, {'@code': 'A120401', '@name': 'A120401_15～19歳人口（男）', '@level': '1', '@unit': '人'}, {'@code': 'A120402', '@name': 'A120402_15～19歳人口（女）', '@level': '1', '@unit': '人'}, {'@code': 'A1205', '@name': 'A1205_20～24歳人口', '@level': '1', '@unit': '人'}, {'@code': 'A120501', '@name': 'A120501_20～24歳人口（男）', '@level': '1', '@unit': '人'}, {'@code': 'A120502', '@name': 'A120502_20～24歳人口（女）', '@level': '1', '@unit': '人'}, {'@code': 'A1206', '@name': 'A1206_25～29歳人口', '@level': '1', '@unit': '人'}, {'@code': 'A120601', '@name': 'A120601_25～29歳人口（男）', '@level': '1', '@unit': '人'}, {'@code': 'A120602', '@name': 'A120602_25～29歳人口（女）', '@level': '1', '@unit': '人'}, {'@code': 'A1207', '@name': 'A1207_30～34歳人口', '@level': '1', '@unit': '人'}, {'@code': 'A120701', '@name': 'A120701_30～34歳人口（男）', '@level': '1', '@unit': '人'}, {'@code': 'A120702', '@name': 'A120702_30～34歳人口（女）', '@level': '1', '@unit': '人'}, {'@code': 'A1208', '@name': 'A1208_35～39歳人口', '@level': '1', '@unit': '人'}, {'@code': 'A120801', '@name': 'A120801_35～39歳人口（男）', '@level': '1', '@unit': '人'}, {'@code': 'A120802', '@name': 'A120802_35～39歳人口（女）', '@level': '1', '@unit': '人'}, {'@code': 'A1209', '@name': 'A1209_40～44歳人口', '@level': '1', '@unit': '人'}, {'@code': 'A120901', '@name': 'A120901_40～44歳人口（男）', '@level': '1', '@unit': '人'}, {'@code': 'A120902', '@name': 'A120902_40～44歳人口（女）', '@level': '1', '@unit': '人'}, {'@code': 'A1210', '@name': 'A1210_45～49歳人口', '@level': '1', '@unit': '人'}, {'@code': 'A121001', '@name': 'A121001_45～49歳人口（男）', '@level': '1', '@unit': '人'}, {'@code': 'A121002', '@name': 'A121002_45～49歳人口（女）', '@level': '1', '@unit': '人'}, {'@code': 'A1211', '@name': 'A1211_50～54歳人口', '@level': '1', '@unit': '人'}, {'@code': 'A121101', '@name': 'A121101_50～54歳人口（男）', '@level': '1', '@unit': '人'}, {'@code': 'A121102', '@name': 'A121102_50～54歳人口（女）', '@level': '1', '@unit': '人'}, {'@code': 'A1212', '@name': 'A1212_55～59歳人口', '@level': '1', '@unit': '人'}, {'@code': 'A121201', '@name': 'A121201_55～59歳人口（男）', '@level': '1', '@unit': '人'}, {'@code': 'A121202', '@name': 'A121202_55～59歳人口（女）', '@level': '1', '@unit': '人'}, {'@code': 'A1213', '@name': 'A1213_60～64歳人口', '@level': '1', '@unit': '人'}, {'@code': 'A121301', '@name': 'A121301_60～64歳人口（男）', '@level': '1', '@unit': '人'}, {'@code': 'A121302', '@name': 'A121302_60～64歳人口（女）', '@level': '1', '@unit': '人'}, {'@code': 'A1214', '@name': 'A1214_65～69歳人口', '@level': '1', '@unit': '人'}, {'@code': 'A121401', '@name': 'A121401_65～69歳人口（男）', '@level': '1', '@unit': '人'}, {'@code': 'A121402', '@name': 'A121402_65～69歳人口（女）', '@level': '1', '@unit': '人'}, {'@code': 'A1215', '@name': 'A1215_70～74歳人口', '@level': '1', '@unit': '人'}, {'@code': 'A121501', '@name': 'A121501_70～74歳人口（男）', '@level': '1', '@unit': '人'}, {'@code': 'A121502', '@name': 'A121502_70～74歳人口（女）', '@level': '1', '@unit': '人'}, {'@code': 'A1216', '@name': 'A1216_75～79歳人口', '@level': '1', '@unit': '人'}, {'@code': 'A121601', '@name': 'A121601_75～79歳人口（男）', '@level': '1', '@unit': '人'}, {'@code': 'A121602', '@name': 'A121602_75～79歳人口（女）', '@level': '1', '@unit': '人'}, {'@code': 'A1217', '@name': 'A1217_80～84歳人口', '@level': '1', '@unit': '人'}, {'@code': 'A121701', '@name': 'A121701_80～84歳人口（男）', '@level': '1', '@unit': '人'}, {'@code': 'A121702', '@name': 'A121702_80～84歳人口（女）', '@level': '1', '@unit': '人'}, {'@code': 'A1218', '@name': 'A1218_85～89歳人口', '@level': '1', '@unit': '人'}, {'@code': 'A121801', '@name': 'A121801_85～89歳人口（男）', '@level': '1', '@unit': '人'}, {'@code': 'A121802', '@name': 'A121802_85～89歳人口（女）', '@level': '1', '@unit': '人'}, {'@code': 'A1219', '@name': 'A1219_90～94歳人口', '@level': '1', '@unit': '人'}, {'@code': 'A121901', '@name': 'A121901_90～94歳人口（男）', '@level': '1', '@unit': '人'}, {'@code': 'A121902', '@name': 'A121902_90～94歳人口（女）', '@level': '1', '@unit': '人'}, {'@code': 'A1220', '@name': 'A1220_95～99歳人口', '@level': '1', '@unit': '人'}, {'@code': 'A122001', '@name': 'A122001_95～99歳人口（男）', '@level': '1', '@unit': '人'}, {'@code': 'A122002', '@name': 'A122002_95～99歳人口（女）', '@level': '1', '@unit': '人'}, {'@code': 'A1221', '@name': 'A1221_100歳以上人口', '@level': '1', '@unit': '人'}, {'@code': 'A122101', '@name': 'A122101_100歳以上人口（男）', '@level': '1', '@unit': '人'}, {'@code': 'A122102', '@name': 'A122102_100歳以上人口（女）', '@level': '1', '@unit': '人'}, {'@code': 'A1231', '@name': 'A1231_年齢中位数', '@level': '1', '@unit': '歳'}, {'@code': 'A1301', '@name': 'A1301_15歳未満人口', '@level': '1', '@unit': '人'}, {'@code': 'A130101', '@name': 'A130101_15歳未満人口（男）', '@level': '1', '@unit': '人'}, {'@code': 'A130102', '@name': 'A130102_15歳未満人口（女）', '@level': '1', '@unit': '人'}, {'@code': 'A1302', '@name': 'A1302_15～64歳人口', '@level': '1', '@unit': '人'}, {'@code': 'A130201', '@name': 'A130201_15～64歳人口（男）', '@level': '1', '@unit': '人'}, {'@code': 'A130202', '@name': 'A130202_15～64歳人口（女）', '@level': '1', '@unit': '人'}, {'@code': 'A1303', '@name': 'A1303_65歳以上人口', '@level': '1', '@unit': '人'}, {'@code': 'A130301', '@name': 'A130301_65歳以上人口（男）', '@level': '1', '@unit': '人'}, {'@code': 'A130302', '@name': 'A130302_65歳以上人口（女）', '@level': '1', '@unit': '人'}, {'@code': 'A1304', '@name': 'A1304_15歳未満人口割合', '@level': '1', '@unit': '％'}, {'@code': 'A130401', '@name': 'A130401_15歳未満人口割合（男）', '@level': '1', '@unit': '％'}, {'@code': 'A130402', '@name': 'A130402_15歳未満人口割合（女）', '@level': '1', '@unit': '％'}, {'@code': 'A1305', '@name': 'A1305_15～64歳人口割合', '@level': '1', '@unit': '％'}, {'@code': 'A130501', '@name': 'A130501_15～64歳人口割合（男）', '@level': '1', '@unit': '％'}, {'@code': 'A130502', '@name': 'A130502_15～64歳人口割合（女）', '@level': '1', '@unit': '％'}, {'@code': 'A1306', '@name': 'A1306_65歳以上人口割合', '@level': '1', '@unit': '％'}, {'@code': 'A130601', '@name': 'A130601_65歳以上人口割合（男）', '@level': '1', '@unit': '％'}, {'@code': 'A130602', '@name': 'A130602_65歳以上人口割合（女）', '@level': '1', '@unit': '％'}, {'@code': 'A1401', '@name': 'A1401_3歳人口', '@level': '1', '@unit': '人'}, {'@code': 'A140101', '@name': 'A140101_3歳人口（男）', '@level': '1', '@unit': '人'}, {'@code': 'A140102', '@name': 'A140102_3歳人口（女）', '@level': '1', '@unit': '人'}, {'@code': 'A1402', '@name': 'A1402_4歳人口', '@level': '1', '@unit': '人'}, {'@code': 'A140201', '@name': 'A140201_4歳人口（男）', '@level': '1', '@unit': '人'}, {'@code': 'A140202', '@name': 'A140202_4歳人口（女）', '@level': '1', '@unit': '人'}, {'@code': 'A1403', '@name': 'A1403_5歳人口', '@level': '1', '@unit': '人'}, {'@code': 'A140301', '@name': 'A140301_5歳人口（男）', '@level': '1', '@unit': '人'}, {'@code': 'A140302', '@name': 'A140302_5歳人口（女）', '@level': '1', '@unit': '人'}, {'@code': 'A1404', '@name': 'A1404_0～3歳人口', '@level': '1', '@unit': '人'}, {'@code': 'A140401', '@name': 'A140401_0～3歳人口（男）', '@level': '1', '@unit': '人'}, {'@code': 'A140402', '@name': 'A140402_0～3歳人口（女）', '@level': '1', '@unit': '人'}, {'@code': 'A1405', '@name': 'A1405_0～5歳人口', '@level': '1', '@unit': '人'}, {'@code': 'A140501', '@name': 'A140501_0～5歳人口（男）', '@level': '1', '@unit': '人'}, {'@code': 'A140502', '@name': 'A140502_0～5歳人口（女）', '@level': '1', '@unit': '人'}, {'@code': 'A1406', '@name': 'A1406_0～15歳人口', '@level': '1', '@unit': '人'}, {'@code': 'A140601', '@name': 'A140601_0～15歳人口（男）', '@level': '1', '@unit': '人'}, {'@code': 'A140602', '@name': 'A140602_0～15歳人口（女）', '@level': '1', '@unit': '人'}, {'@code': 'A1407', '@name': 'A1407_0～17歳人口', '@level': '1', '@unit': '人'}, {'@code': 'A140701', '@name': 'A140701_0～17歳人口（男）', '@level': '1', '@unit': '人'}, {'@code': 'A140702', '@name': 'A140702_0～17歳人口（女）', '@level': '1', '@unit': '人'}, {'@code': 'A1408', '@name': 'A1408_3～5歳人口', '@level': '1', '@unit': '人'}, {'@code': 'A140801', '@name': 'A140801_3～5歳人口（男）', '@level': '1', '@unit': '人'}, {'@code': 'A140802', '@name': 'A140802_3～5歳人口（女）', '@level': '1', '@unit': '人'}, {'@code': 'A1409', '@name': 'A1409_6～11歳人口', '@level': '1', '@unit': '人'}, {'@code': 'A140901', '@name': 'A140901_6～11歳人口（男）', '@level': '1', '@unit': '人'}, {'@code': 'A140902', '@name': 'A140902_6～11歳人口（女）', '@level': '1', '@unit': '人'}, {'@code': 'A1410', '@name': 'A1410_10～13歳人口', '@level': '1', '@unit': '人'}, {'@code': 'A141001', '@name': 'A141001_10～13歳人口（男）', '@level': '1', '@unit': '人'}, {'@code': 'A141002', '@name': 'A141002_10～13歳人口（女）', '@level': '1', '@unit': '人'}, {'@code': 'A1411', '@name': 'A1411_12～14歳人口', '@level': '1', '@unit': '人'}, {'@code': 'A141101', '@name': 'A141101_12～14歳人口（男）', '@level': '1', '@unit': '人'}, {'@code': 'A141102', '@name': 'A141102_12～14歳人口（女）', '@level': '1', '@unit': '人'}, {'@code': 'A1412', '@name': 'A1412_14～19歳人口', '@level': '1', '@unit': '人'}, {'@code': 'A141201', '@name': 'A141201_14～19歳人口（男）', '@level': '1', '@unit': '人'}, {'@code': 'A141202', '@name': 'A141202_14～19歳人口（女）', '@level': '1', '@unit': '人'}, {'@code': 'A1413', '@name': 'A1413_15～17歳人口', '@level': '1', '@unit': '人'}, {'@code': 'A141301', '@name': 'A141301_15～17歳人口（男）', '@level': '1', '@unit': '人'}, {'@code': 'A141302', '@name': 'A141302_15～17歳人口（女）', '@level': '1', '@unit': '人'}, {'@code': 'A1414', '@name': 'A1414_15歳以上人口', '@level': '1', '@unit': '人'}, {'@code': 'A141401', '@name': 'A141401_15歳以上人口（男）', '@level': '1', '@unit': '人'}, {'@code': 'A141402', '@name': 'A141402_15歳以上人口（女）', '@level': '1', '@unit': '人'}, {'@code': 'A1415', '@name': 'A1415_40歳以上人口', '@level': '1', '@unit': '人'}, {'@code': 'A141501', '@name': 'A141501_40歳以上人口（男）', '@level': '1', '@unit': '人'}, {'@code': 'A141502', '@name': 'A141502_40歳以上人口（女）', '@level': '1', '@unit': '人'}, {'@code': 'A1416', '@name': 'A1416_60歳以上人口', '@level': '1', '@unit': '人'}, {'@code': 'A141601', '@name': 'A141601_60歳以上人口（男）', '@level': '1', '@unit': '人'}, {'@code': 'A141602', '@name': 'A141602_60歳以上人口（女）', '@level': '1', '@unit': '人'}, {'@code': 'A1417', '@name': 'A1417_70歳以上人口', '@level': '1', '@unit': '人'}, {'@code': 'A141701', '@name': 'A141701_70歳以上人口（男）', '@level': '1', '@unit': '人'}, {'@code': 'A141702', '@name': 'A141702_70歳以上人口（女）', '@level': '1', '@unit': '人'}, {'@code': 'A1418', '@name': 'A1418_80歳以上人口', '@level': '1', '@unit': '人'}, {'@code': 'A141801', '@name': 'A141801_80歳以上人口（男）', '@level': '1', '@unit': '人'}, {'@code': 'A141802', '@name': 'A141802_80歳以上人口（女）', '@level': '1', '@unit': '人'}, {'@code': 'A1419', '@name': 'A1419_75歳以上人口', '@level': '1', '@unit': '人'}, {'@code': 'A141901', '@name': 'A141901_75歳以上人口（男）', '@level': '1', '@unit': '人'}, {'@code': 'A141902', '@name': 'A141902_75歳以上人口（女）', '@level': '1', '@unit': '人'}, {'@code': 'A1420', '@name': 'A1420_85歳以上人口', '@level': '1', '@unit': '人'}, {'@code': 'A142001', '@name': 'A142001_85歳以上人口（男）', '@level': '1', '@unit': '人'}, {'@code': 'A142002', '@name': 'A142002_85歳以上人口（女）', '@level': '1', '@unit': '人'}, {'@code': 'A1501', '@name': 'A1501_－1歳人口', '@level': '1', '@unit': '人'}, {'@code': 'A1502', '@name': 'A1502_0歳人口', '@level': '1', '@unit': '人'}, {'@code': 'A150201', '@name': 'A150201_0歳人口（男）', '@level': '1', '@unit': '人'}, {'@code': 'A150202', '@name': 'A150202_0歳人口（女）', '@level': '1', '@unit': '人'}, {'@code': 'A1503', '@name': 'A1503_1歳人口', '@level': '1', '@unit': '人'}, {'@code': 'A150301', '@name': 'A150301_1歳人口（男）', '@level': '1', '@unit': '人'}, {'@code': 'A150302', '@name': 'A150302_1歳人口（女）', '@level': '1', '@unit': '人'}, {'@code': 'A1504', '@name': 'A1504_2歳人口', '@level': '1', '@unit': '人'}, {'@code': 'A150401', '@name': 'A150401_2歳人口（男）', '@level': '1', '@unit': '人'}, {'@code': 'A150402', '@name': 'A150402_2歳人口（女）', '@level': '1', '@unit': '人'}, {'@code': 'A1505', '@name': 'A1505_6歳人口', '@level': '1', '@unit': '人'}, {'@code': 'A150501', '@name': 'A150501_6歳人口（男）', '@level': '1', '@unit': '人'}, {'@code': 'A150502', '@name': 'A150502_6歳人口（女）', '@level': '1', '@unit': '人'}, {'@code': 'A1506', '@name': 'A1506_7歳人口', '@level': '1', '@unit': '人'}, {'@code': 'A150601', '@name': 'A150601_7歳人口（男）', '@level': '1', '@unit': '人'}, {'@code': 'A150602', '@name': 'A150602_7歳人口（女）', '@level': '1', '@unit': '人'}, {'@code': 'A1507', '@name': 'A1507_8歳人口', '@level': '1', '@unit': '人'}, {'@code': 'A150701', '@name': 'A150701_8歳人口（男）', '@level': '1', '@unit': '人'}, {'@code': 'A150702', '@name': 'A150702_8歳人口（女）', '@level': '1', '@unit': '人'}, {'@code': 'A1508', '@name': 'A1508_9歳人口', '@level': '1', '@unit': '人'}, {'@code': 'A150801', '@name': 'A150801_9歳人口（男）', '@level': '1', '@unit': '人'}, {'@code': 'A150802', '@name': 'A150802_9歳人口（女）', '@level': '1', '@unit': '人'}, {'@code': 'A1509', '@name': 'A1509_10歳人口', '@level': '1', '@unit': '人'}, {'@code': 'A150901', '@name': 'A150901_10歳人口（男）', '@level': '1', '@unit': '人'}, {'@code': 'A150902', '@name': 'A150902_10歳人口（女）', '@level': '1', '@unit': '人'}, {'@code': 'A1510', '@name': 'A1510_11歳人口', '@level': '1', '@unit': '人'}, {'@code': 'A151001', '@name': 'A151001_11歳人口（男）', '@level': '1', '@unit': '人'}, {'@code': 'A151002', '@name': 'A151002_11歳人口（女）', '@level': '1', '@unit': '人'}, {'@code': 'A1511', '@name': 'A1511_12歳人口', '@level': '1', '@unit': '人'}, {'@code': 'A151101', '@name': 'A151101_12歳人口（男）', '@level': '1', '@unit': '人'}, {'@code': 'A151102', '@name': 'A151102_12歳人口（女）', '@level': '1', '@unit': '人'}, {'@code': 'A1512', '@name': 'A1512_13歳人口', '@level': '1', '@unit': '人'}, {'@code': 'A151201', '@name': 'A151201_13歳人口（男）', '@level': '1', '@unit': '人'}, {'@code': 'A151202', '@name': 'A151202_13歳人口（女）', '@level': '1', '@unit': '人'}, {'@code': 'A1513', '@name': 'A1513_14歳人口', '@level': '1', '@unit': '人'}, {'@code': 'A151301', '@name': 'A151301_14歳人口（男）', '@level': '1', '@unit': '人'}, {'@code': 'A151302', '@name': 'A151302_14歳人口（女）', '@level': '1', '@unit': '人'}, {'@code': 'A1514', '@name': 'A1514_15歳人口', '@level': '1', '@unit': '人'}, {'@code': 'A151401', '@name': 'A151401_15歳人口（男）', '@level': '1', '@unit': '人'}, {'@code': 'A151402', '@name': 'A151402_15歳人口（女）', '@level': '1', '@unit': '人'}, {'@code': 'A1515', '@name': 'A1515_16歳人口', '@level': '1', '@unit': '人'}, {'@code': 'A151501', '@name': 'A151501_16歳人口（男）', '@level': '1', '@unit': '人'}, {'@code': 'A151502', '@name': 'A151502_16歳人口（女）', '@level': '1', '@unit': '人'}, {'@code': 'A1516', '@name': 'A1516_17歳人口', '@level': '1', '@unit': '人'}, {'@code': 'A151601', '@name': 'A151601_17歳人口（男）', '@level': '1', '@unit': '人'}, {'@code': 'A151602', '@name': 'A151602_17歳人口（女）', '@level': '1', '@unit': '人'}, {'@code': 'A1517', '@name': 'A1517_18歳人口', '@level': '1', '@unit': '人'}, {'@code': 'A151701', '@name': 'A151701_18歳人口（男）', '@level': '1', '@unit': '人'}, {'@code': 'A151702', '@name': 'A151702_18歳人口（女）', '@level': '1', '@unit': '人'}, {'@code': 'A1601001', '@name': 'A1601001_未婚人口（15歳以上）（男）', '@level': '1', '@unit': '人'}, {'@code': 'A1601002', '@name': 'A1601002_未婚人口（15歳以上）（女）', '@level': '1', '@unit': '人'}, {'@code': 'A1601011', '@name': 'A1601011_未婚人口（15～19歳）（男）', '@level': '1', '@unit': '人'}, {'@code': 'A1601012', '@name': 'A1601012_未婚人口（15～19歳）（女）', '@level': '1', '@unit': '人'}, {'@code': 'A1601021', '@name': 'A1601021_未婚人口（20～24歳）（男）', '@level': '1', '@unit': '人'}, {'@code': 'A1601022', '@name': 'A1601022_未婚人口（20～24歳）（女）', '@level': '1', '@unit': '人'}, {'@code': 'A1601031', '@name': 'A1601031_未婚人口（25～29歳）（男）', '@level': '1', '@unit': '人'}, {'@code': 'A1601032', '@name': 'A1601032_未婚人口（25～29歳）（女）', '@level': '1', '@unit': '人'}, {'@code': 'A1601041', '@name': 'A1601041_未婚人口（30～34歳）（男）', '@level': '1', '@unit': '人'}, {'@code': 'A1601042', '@name': 'A1601042_未婚人口（30～34歳）（女）', '@level': '1', '@unit': '人'}, {'@code': 'A1601051', '@name': 'A1601051_未婚人口（35～39歳）（男）', '@level': '1', '@unit': '人'}, {'@code': 'A1601052', '@name': 'A1601052_未婚人口（35～39歳）（女）', '@level': '1', '@unit': '人'}, {'@code': 'A1601061', '@name': 'A1601061_未婚人口（40～44歳）（男）', '@level': '1', '@unit': '人'}, {'@code': 'A1601062', '@name': 'A1601062_未婚人口（40～44歳）（女）', '@level': '1', '@unit': '人'}, {'@code': 'A1601071', '@name': 'A1601071_未婚人口（45～49歳）（男）', '@level': '1', '@unit': '人'}, {'@code': 'A1601072', '@name': 'A1601072_未婚人口（45～49歳）（女）', '@level': '1', '@unit': '人'}, {'@code': 'A1601081', '@name': 'A1601081_未婚人口（50～54歳）（男）', '@level': '1', '@unit': '人'}, {'@code': 'A1601082', '@name': 'A1601082_未婚人口（50～54歳）（女）', '@level': '1', '@unit': '人'}, {'@code': 'A1601091', '@name': 'A1601091_未婚人口（55～59歳）（男）', '@level': '1', '@unit': '人'}, {'@code': 'A1601092', '@name': 'A1601092_未婚人口（55～59歳）（女）', '@level': '1', '@unit': '人'}, {'@code': 'A1601101', '@name': 'A1601101_未婚人口（60～64歳）（男）', '@level': '1', '@unit': '人'}, {'@code': 'A1601102', '@name': 'A1601102_未婚人口（60～64歳）（女）', '@level': '1', '@unit': '人'}, {'@code': 'A1601111', '@name': 'A1601111_未婚人口（65～69歳）（男）', '@level': '1', '@unit': '人'}, {'@code': 'A1601112', '@name': 'A1601112_未婚人口（65～69歳）（女）', '@level': '1', '@unit': '人'}, {'@code': 'A1601121', '@name': 'A1601121_未婚人口（70～74歳）（男）', '@level': '1', '@unit': '人'}, {'@code': 'A1601122', '@name': 'A1601122_未婚人口（70～74歳）（女）', '@level': '1', '@unit': '人'}, {'@code': 'A1601131', '@name': 'A1601131_未婚人口（75～79歳）（男）', '@level': '1', '@unit': '人'}, {'@code': 'A1601132', '@name': 'A1601132_未婚人口（75～79歳）（女）', '@level': '1', '@unit': '人'}, {'@code': 'A1601141', '@name': 'A1601141_未婚人口（80～84歳）（男）', '@level': '1', '@unit': '人'}, {'@code': 'A1601142', '@name': 'A1601142_未婚人口（80～84歳）（女）', '@level': '1', '@unit': '人'}, {'@code': 'A1601151', '@name': 'A1601151_未婚人口（85歳以上）（男）', '@level': '1', '@unit': '人'}, {'@code': 'A1601152', '@name': 'A1601152_未婚人口（85歳以上）（女）', '@level': '1', '@unit': '人'}, {'@code': 'A1602001', '@name': 'A1602001_有配偶人口（15歳以上）（男）', '@level': '1', '@unit': '人'}, {'@code': 'A1602002', '@name': 'A1602002_有配偶人口（15歳以上）（女）', '@level': '1', '@unit': '人'}, {'@code': 'A1602021', '@name': 'A1602021_有配偶人口（20～24歳）（男）', '@level': '1', '@unit': '人'}, {'@code': 'A1602022', '@name': 'A1602022_有配偶人口（20～24歳）（女）', '@level': '1', '@unit': '人'}, {'@code': 'A1602031', '@name': 'A1602031_有配偶人口（25～29歳）（男）', '@level': '1', '@unit': '人'}, {'@code': 'A1602032', '@name': 'A1602032_有配偶人口（25～29歳）（女）', '@level': '1', '@unit': '人'}, {'@code': 'A1602041', '@name': 'A1602041_有配偶人口（30～34歳）（男）', '@level': '1', '@unit': '人'}, {'@code': 'A1602042', '@name': 'A1602042_有配偶人口（30～34歳）（女）', '@level': '1', '@unit': '人'}, {'@code': 'A1602051', '@name': 'A1602051_有配偶人口（35～39歳）（男）', '@level': '1', '@unit': '人'}, {'@code': 'A1602052', '@name': 'A1602052_有配偶人口（35～39歳）（女）', '@level': '1', '@unit': '人'}, {'@code': 'A1602061', '@name': 'A1602061_有配偶人口（40～44歳）（男）', '@level': '1', '@unit': '人'}, {'@code': 'A1602062', '@name': 'A1602062_有配偶人口（40～44歳）（女）', '@level': '1', '@unit': '人'}, {'@code': 'A1602071', '@name': 'A1602071_有配偶人口（45～49歳）（男）', '@level': '1', '@unit': '人'}, {'@code': 'A1602072', '@name': 'A1602072_有配偶人口（45～49歳）（女）', '@level': '1', '@unit': '人'}, {'@code': 'A1602081', '@name': 'A1602081_有配偶人口（50～54歳）（男）', '@level': '1', '@unit': '人'}, {'@code': 'A1602082', '@name': 'A1602082_有配偶人口（50～54歳）（女）', '@level': '1', '@unit': '人'}, {'@code': 'A1602091', '@name': 'A1602091_有配偶人口（55～59歳）（男）', '@level': '1', '@unit': '人'}, {'@code': 'A1602092', '@name': 'A1602092_有配偶人口（55～59歳）（女）', '@level': '1', '@unit': '人'}, {'@code': 'A1602101', '@name': 'A1602101_有配偶人口（60～64歳）（男）', '@level': '1', '@unit': '人'}, {'@code': 'A1602102', '@name': 'A1602102_有配偶人口（60～64歳）（女）', '@level': '1', '@unit': '人'}, {'@code': 'A1602111', '@name': 'A1602111_有配偶人口（65～69歳）（男）', '@level': '1', '@unit': '人'}, {'@code': 'A1602112', '@name': 'A1602112_有配偶人口（65～69歳）（女）', '@level': '1', '@unit': '人'}, {'@code': 'A1602121', '@name': 'A1602121_有配偶人口（70～74歳）（男）', '@level': '1', '@unit': '人'}, {'@code': 'A1602122', '@name': 'A1602122_有配偶人口（70～74歳）（女）', '@level': '1', '@unit': '人'}, {'@code': 'A1602131', '@name': 'A1602131_有配偶人口（75～79歳）（男）', '@level': '1', '@unit': '人'}, {'@code': 'A1602132', '@name': 'A1602132_有配偶人口（75～79歳）（女）', '@level': '1', '@unit': '人'}, {'@code': 'A1602141', '@name': 'A1602141_有配偶人口（80～84歳）（男）', '@level': '1', '@unit': '人'}, {'@code': 'A1602142', '@name': 'A1602142_有配偶人口（80～84歳）（女）', '@level': '1', '@unit': '人'}, {'@code': 'A1602151', '@name': 'A1602151_有配偶人口（85歳以上）（男）', '@level': '1', '@unit': '人'}, {'@code': 'A1602152', '@name': 'A1602152_有配偶人口（85歳以上）（女）', '@level': '1', '@unit': '人'}, {'@code': 'A1603001', '@name': 'A1603001_死別人口（15歳以上）（男）', '@level': '1', '@unit': '人'}, {'@code': 'A1603002', '@name': 'A1603002_死別人口（15歳以上）（女）', '@level': '1', '@unit': '人'}, {'@code': 'A1603031', '@name': 'A1603031_死別人口（25～29歳）（男）', '@level': '1', '@unit': '人'}, {'@code': 'A1603032', '@name': 'A1603032_死別人口（25～29歳）（女）', '@level': '1', '@unit': '人'}, {'@code': 'A1603041', '@name': 'A1603041_死別人口（30～34歳）（男）', '@level': '1', '@unit': '人'}, {'@code': 'A1603042', '@name': 'A1603042_死別人口（30～34歳）（女）', '@level': '1', '@unit': '人'}, {'@code': 'A1603051', '@name': 'A1603051_死別人口（35～39歳）（男）', '@level': '1', '@unit': '人'}, {'@code': 'A1603052', '@name': 'A1603052_死別人口（35～39歳）（女）', '@level': '1', '@unit': '人'}, {'@code': 'A1603061', '@name': 'A1603061_死別人口（40～44歳）（男）', '@level': '1', '@unit': '人'}, {'@code': 'A1603062', '@name': 'A1603062_死別人口（40～44歳）（女）', '@level': '1', '@unit': '人'}, {'@code': 'A1603071', '@name': 'A1603071_死別人口（45～49歳）（男）', '@level': '1', '@unit': '人'}, {'@code': 'A1603072', '@name': 'A1603072_死別人口（45～49歳）（女）', '@level': '1', '@unit': '人'}, {'@code': 'A1603081', '@name': 'A1603081_死別人口（50～54歳）（男）', '@level': '1', '@unit': '人'}, {'@code': 'A1603082', '@name': 'A1603082_死別人口（50～54歳）（女）', '@level': '1', '@unit': '人'}, {'@code': 'A1603091', '@name': 'A1603091_死別人口（55～59歳）（男）', '@level': '1', '@unit': '人'}, {'@code': 'A1603092', '@name': 'A1603092_死別人口（55～59歳）（女）', '@level': '1', '@unit': '人'}, {'@code': 'A1603101', '@name': 'A1603101_死別人口（60～64歳）（男）', '@level': '1', '@unit': '人'}, {'@code': 'A1603102', '@name': 'A1603102_死別人口（60～64歳）（女）', '@level': '1', '@unit': '人'}, {'@code': 'A1603111', '@name': 'A1603111_死別人口（65～69歳）（男）', '@level': '1', '@unit': '人'}, {'@code': 'A1603112', '@name': 'A1603112_死別人口（65～69歳）（女）', '@level': '1', '@unit': '人'}, {'@code': 'A1603121', '@name': 'A1603121_死別人口（70～74歳）（男）', '@level': '1', '@unit': '人'}, {'@code': 'A1603122', '@name': 'A1603122_死別人口（70～74歳）（女）', '@level': '1', '@unit': '人'}, {'@code': 'A1603131', '@name': 'A1603131_死別人口（75～79歳）（男）', '@level': '1', '@unit': '人'}, {'@code': 'A1603132', '@name': 'A1603132_死別人口（75～79歳）（女）', '@level': '1', '@unit': '人'}, {'@code': 'A1603141', '@name': 'A1603141_死別人口（80～84歳）（男）', '@level': '1', '@unit': '人'}, {'@code': 'A1603142', '@name': 'A1603142_死別人口（80～84歳）（女）', '@level': '1', '@unit': '人'}, {'@code': 'A1603151', '@name': 'A1603151_死別人口（85歳以上）（男）', '@level': '1', '@unit': '人'}, {'@code': 'A1603152', '@name': 'A1603152_死別人口（85歳以上）（女）', '@level': '1', '@unit': '人'}, {'@code': 'A1603201', '@name': 'A1603201_死別人口（60歳以上）（男）', '@level': '1', '@unit': '人'}, {'@code': 'A1603202', '@name': 'A1603202_死別人口（60歳以上）（女）', '@level': '1', '@unit': '人'}, {'@code': 'A1604001', '@name': 'A1604001_離別人口（15歳以上）（男）', '@level': '1', '@unit': '人'}, {'@code': 'A1604002', '@name': 'A1604002_離別人口（15歳以上）（女）', '@level': '1', '@unit': '人'}, {'@code': 'A1604011', '@name': 'A1604011_離別人口（15～19歳）（男）', '@level': '1', '@unit': '人'}, {'@code': 'A1604012', '@name': 'A1604012_離別人口（15～19歳）（女）', '@level': '1', '@unit': '人'}, {'@code': 'A1604021', '@name': 'A1604021_離別人口（20～24歳）（男）', '@level': '1', '@unit': '人'}, {'@code': 'A1604022', '@name': 'A1604022_離別人口（20～24歳）（女）', '@level': '1', '@unit': '人'}, {'@code': 'A1604031', '@name': 'A1604031_離別人口（25～29歳）（男）', '@level': '1', '@unit': '人'}, {'@code': 'A1604032', '@name': 'A1604032_離別人口（25～29歳）（女）', '@level': '1', '@unit': '人'}, {'@code': 'A1604041', '@name': 'A1604041_離別人口（30～34歳）（男）', '@level': '1', '@unit': '人'}, {'@code': 'A1604042', '@name': 'A1604042_離別人口（30～34歳）（女）', '@level': '1', '@unit': '人'}, {'@code': 'A1604051', '@name': 'A1604051_離別人口（35～39歳）（男）', '@level': '1', '@unit': '人'}, {'@code': 'A1604052', '@name': 'A1604052_離別人口（35～39歳）（女）', '@level': '1', '@unit': '人'}, {'@code': 'A1604061', '@name': 'A1604061_離別人口（40～44歳）（男）', '@level': '1', '@unit': '人'}, {'@code': 'A1604062', '@name': 'A1604062_離別人口（40～44歳）（女）', '@level': '1', '@unit': '人'}, {'@code': 'A1604071', '@name': 'A1604071_離別人口（45～49歳）（男）', '@level': '1', '@unit': '人'}, {'@code': 'A1604072', '@name': 'A1604072_離別人口（45～49歳）（女）', '@level': '1', '@unit': '人'}, {'@code': 'A1604081', '@name': 'A1604081_離別人口（50～54歳）（男）', '@level': '1', '@unit': '人'}, {'@code': 'A1604082', '@name': 'A1604082_離別人口（50～54歳）（女）', '@level': '1', '@unit': '人'}, {'@code': 'A1604091', '@name': 'A1604091_離別人口（55～59歳）（男）', '@level': '1', '@unit': '人'}, {'@code': 'A1604092', '@name': 'A1604092_離別人口（55～59歳）（女）', '@level': '1', '@unit': '人'}, {'@code': 'A1604101', '@name': 'A1604101_離別人口（60～64歳）（男）', '@level': '1', '@unit': '人'}, {'@code': 'A1604102', '@name': 'A1604102_離別人口（60～64歳）（女）', '@level': '1', '@unit': '人'}, {'@code': 'A1604111', '@name': 'A1604111_離別人口（65～69歳）（男）', '@level': '1', '@unit': '人'}, {'@code': 'A1604112', '@name': 'A1604112_離別人口（65～69歳）（女）', '@level': '1', '@unit': '人'}, {'@code': 'A1604121', '@name': 'A1604121_離別人口（70～74歳）（男）', '@level': '1', '@unit': '人'}, {'@code': 'A1604122', '@name': 'A1604122_離別人口（70～74歳）（女）', '@level': '1', '@unit': '人'}, {'@code': 'A1604131', '@name': 'A1604131_離別人口（75～79歳）（男）', '@level': '1', '@unit': '人'}, {'@code': 'A1604132', '@name': 'A1604132_離別人口（75～79歳）（女）', '@level': '1', '@unit': '人'}, {'@code': 'A1604141', '@name': 'A1604141_離別人口（80～84歳）（男）', '@level': '1', '@unit': '人'}, {'@code': 'A1604142', '@name': 'A1604142_離別人口（80～84歳）（女）', '@level': '1', '@unit': '人'}, {'@code': 'A1604151', '@name': 'A1604151_離別人口（85歳以上）（男）', '@level': '1', '@unit': '人'}, {'@code': 'A1604152', '@name': 'A1604152_離別人口（85歳以上）（女）', '@level': '1', '@unit': '人'}, {'@code': 'A1604201', '@name': 'A1604201_離別人口（40～49歳）（男）', '@level': '1', '@unit': '人'}, {'@code': 'A1604202', '@name': 'A1604202_離別人口（40～49歳）（女）', '@level': '1', '@unit': '人'}, {'@code': 'A1604301', '@name': 'A1604301_離別人口（50～59歳）（男）', '@level': '1', '@unit': '人'}, {'@code': 'A1604302', '@name': 'A1604302_離別人口（50～59歳）（女）', '@level': '1', '@unit': '人'}, {'@code': 'A161001', '@name': 'A161001_未婚者割合（15歳以上人口）', '@level': '1', '@unit': '％'}, {'@code': 'A1700', '@name': 'A1700_外国人人口', '@level': '1', '@unit': '人'}, {'@code': 'A170001', '@name': 'A170001_外国人人口（男）', '@level': '1', '@unit': '人'}, {'@code': 'A170002', '@name': 'A170002_外国人人口（女）', '@level': '1', '@unit': '人'}, {'@code': 'A1701', '@name': 'A1701_外国人人口（韓国・朝鮮）', '@level': '1', '@unit': '人'}, {'@code': 'A170101', '@name': 'A170101_外国人人口（韓国・朝鮮）（男）', '@level': '1', '@unit': '人'}, {'@code': 'A170102', '@name': 'A170102_外国人人口（韓国・朝鮮）（女）', '@level': '1', '@unit': '人'}, {'@code': 'A1702', '@name': 'A1702_外国人人口（中国）', '@level': '1', '@unit': '人'}, {'@code': 'A170201', '@name': 'A170201_外国人人口（中国）（男）', '@level': '1', '@unit': '人'}, {'@code': 'A170202', '@name': 'A170202_外国人人口（中国）（女）', '@level': '1', '@unit': '人'}, {'@code': 'A1703', '@name': 'A1703_外国人人口（アメリカ）', '@level': '1', '@unit': '人'}, {'@code': 'A170301', '@name': 'A170301_外国人人口（アメリカ）（男）', '@level': '1', '@unit': '人'}, {'@code': 'A170302', '@name': 'A170302_外国人人口（アメリカ）（女）', '@level': '1', '@unit': '人'}, {'@code': 'A1706', '@name': 'A1706_外国人人口（フィリピン）', '@level': '1', '@unit': '人'}, {'@code': 'A170601', '@name': 'A170601_外国人人口（フィリピン）（男）', '@level': '1', '@unit': '人'}, {'@code': 'A170602', '@name': 'A170602_外国人人口（フィリピン）（女）', '@level': '1', '@unit': '人'}, {'@code': 'A1707', '@name': 'A1707_外国人人口（ブラジル）', '@level': '1', '@unit': '人'}, {'@code': 'A170701', '@name': 'A170701_外国人人口（ブラジル）（男）', '@level': '1', '@unit': '人'}, {'@code': 'A170702', '@name': 'A170702_外国人人口（ブラジル）（女）', '@level': '1', '@unit': '人'}, {'@code': 'A1801', '@name': 'A1801_人口集中地区人口', '@level': '1', '@unit': '人'}, {'@code': 'A180101', '@name': 'A180101_人口集中地区人口（男）', '@level': '1', '@unit': '人'}, {'@code': 'A180102', '@name': 'A180102_人口集中地区人口（女）', '@level': '1', '@unit': '人'}, {'@code': 'A1802', '@name': 'A1802_人口集中地区面積', '@level': '1', '@unit': 'ｋｍ2'}, {'@code': 'A191001', '@name': 'A191001_将来推計人口（2020年）', '@level': '1', '@unit': '人'}, {'@code': 'A191002', '@name': 'A191002_将来推計人口（2025年）', '@level': '1', '@unit': '人'}, {'@code': 'A191003', '@name': 'A191003_将来推計人口（2030年）', '@level': '1', '@unit': '人'}, {'@code': 'A191004', '@name': 'A191004_将来推計人口（2035年）', '@level': '1', '@unit': '人'}, {'@code': 'A191005', '@name': 'A191005_将来推計人口（2040年）', '@level': '1', '@unit': '人'}, {'@code': 'A191006', '@name': 'A191006_将来推計人口（2045年）', '@level': '1', '@unit': '人'}, {'@code': 'A2101', '@name': 'A2101_住民基本台帳人口（日本人）', '@level': '1', '@unit': '人'}, {'@code': 'A210101', '@name': 'A210101_住民基本台帳人口（日本人）（男）', '@level': '1', '@unit': '人'}, {'@code': 'A210102', '@name': 'A210102_住民基本台帳人口（日本人）（女）', '@level': '1', '@unit': '人'}, {'@code': 'A2102', '@name': 'A2102_行政区域内人口（住民基本台帳人口＋外国人登録人口）', '@level': '1', '@unit': '人'}, {'@code': 'A2201', '@name': 'A2201_住民基本台帳人口（外国人）', '@level': '1', '@unit': '人'}, {'@code': 'A2301', '@name': 'A2301_住民基本台帳人口（総数）', '@level': '1', '@unit': '人'}, {'@code': 'A3100', '@name': 'A3100_外国人登録人口', '@level': '1', '@unit': '人'}, {'@code': 'A3101', '@name': 'A3101_外国人登録人口（アジア）', '@level': '1', '@unit': '人'}, {'@code': 'A310101', '@name': 'A310101_外国人登録人口（韓国・朝鮮）', '@level': '1', '@unit': '人'}, {'@code': 'A310102', '@name': 'A310102_外国人登録人口（中国）', '@level': '1', '@unit': '人'}, {'@code': 'A310103', '@name': 'A310103_外国人登録人口（フィリピン）', '@level': '1', '@unit': '人'}, {'@code': 'A310105', '@name': 'A310105_外国人登録人口（タイ）', '@level': '1', '@unit': '人'}, {'@code': 'A3102', '@name': 'A3102_外国人登録人口（ヨーロッパ）', '@level': '1', '@unit': '人'}, {'@code': 'A310201', '@name': 'A310201_外国人登録人口（英国）', '@level': '1', '@unit': '人'}, {'@code': 'A3103', '@name': 'A3103_外国人登録人口（北米）', '@level': '1', '@unit': '人'}, {'@code': 'A310301', '@name': 'A310301_外国人登録人口（米国）', '@level': '1', '@unit': '人'}, {'@code': 'A3104', '@name': 'A3104_外国人登録人口（南米）', '@level': '1', '@unit': '人'}, {'@code': 'A310401', '@name': 'A310401_外国人登録人口（ブラジル）', '@level': '1', '@unit': '人'}, {'@code': 'A310402', '@name': 'A310402_外国人登録人口（ペルー）', '@level': '1', '@unit': '人'}, {'@code': 'A3200', '@name': 'A3200_在留外国人数', '@level': '1', '@unit': '人'}, {'@code': 'A3201', '@name': 'A3201_在留外国人数（アジア）', '@level': '1', '@unit': '人'}, {'@code': 'A320101', '@name': 'A320101_在留外国人数（韓国・朝鮮）', '@level': '1', '@unit': '人'}, {'@code': 'A320102', '@name': 'A320102_在留外国人数（中国）', '@level': '1', '@unit': '人'}, {'@code': 'A320103', '@name': 'A320103_在留外国人数（韓国）', '@level': '1', '@unit': '人'}, {'@code': 'A320104', '@name': 'A320104_在留外国人数（朝鮮）', '@level': '1', '@unit': '人'}, {'@code': 'A3202', '@name': 'A3202_在留外国人数（ヨーロッパ）', '@level': '1', '@unit': '人'}, {'@code': 'A3203', '@name': 'A3203_在留外国人数（北米）', '@level': '1', '@unit': '人'}, {'@code': 'A3204', '@name': 'A3204_在留外国人数（南米）', '@level': '1', '@unit': '人'}, {'@code': 'A4101', '@name': 'A4101_出生数', '@level': '1', '@unit': '人'}, {'@code': 'A410101', '@name': 'A410101_出生数（男）', '@level': '1', '@unit': '人'}, {'@code': 'A410102', '@name': 'A410102_出生数（女）', '@level': '1', '@unit': '人'}, {'@code': 'A410201', '@name': 'A410201_出生数（母親の年齢15歳未満）', '@level': '1', '@unit': '人'}, {'@code': 'A410202', '@name': 'A410202_出生数（母親の年齢15～19歳）', '@level': '1', '@unit': '人'}, {'@code': 'A410203', '@name': 'A410203_出生数（母親の年齢20～24歳）', '@level': '1', '@unit': '人'}, {'@code': 'A410204', '@name': 'A410204_出生数（母親の年齢25～29歳）', '@level': '1', '@unit': '人'}, {'@code': 'A410205', '@name': 'A410205_出生数（母親の年齢30～34歳）', '@level': '1', '@unit': '人'}, {'@code': 'A410206', '@name': 'A410206_出生数（母親の年齢35～39歳）', '@level': '1', '@unit': '人'}, {'@code': 'A410207', '@name': 'A410207_出生数（母親の年齢40～44歳）', '@level': '1', '@unit': '人'}, {'@code': 'A410208', '@name': 'A410208_出生数（母親の年齢45～49歳）', '@level': '1', '@unit': '人'}, {'@code': 'A410209', '@name': 'A410209_出生数（母親の年齢50歳以上）', '@level': '1', '@unit': '人'}, {'@code': 'A4103', '@name': 'A4103_合計特殊出生率', '@level': '1', '@unit': '‐'}, {'@code': 'A4200', '@name': 'A4200_死亡数', '@level': '1', '@unit': '人'}, {'@code': 'A420001', '@name': 'A420001_死亡数（男）', '@level': '1', '@unit': '人'}, {'@code': 'A420002', '@name': 'A420002_死亡数（女）', '@level': '1', '@unit': '人'}, {'@code': 'A4201', '@name': 'A4201_死亡数（0～4歳）', '@level': '1', '@unit': '人'}, {'@code': 'A420101', '@name': 'A420101_死亡数（0～4歳）（男）', '@level': '1', '@unit': '人'}, {'@code': 'A420102', '@name': 'A420102_死亡数（0～4歳）（女）', '@level': '1', '@unit': '人'}, {'@code': 'A4202', '@name': 'A4202_死亡数（5～9歳）', '@level': '1', '@unit': '人'}, {'@code': 'A420201', '@name': 'A420201_死亡数（5～9歳）（男）', '@level': '1', '@unit': '人'}, {'@code': 'A420202', '@name': 'A420202_死亡数（5～9歳）（女）', '@level': '1', '@unit': '人'}, {'@code': 'A4203', '@name': 'A4203_死亡数（10～14歳）', '@level': '1', '@unit': '人'}, {'@code': 'A420301', '@name': 'A420301_死亡数（10～14歳）（男）', '@level': '1', '@unit': '人'}, {'@code': 'A420302', '@name': 'A420302_死亡数（10～14歳）（女）', '@level': '1', '@unit': '人'}, {'@code': 'A4204', '@name': 'A4204_死亡数（15～19歳）', '@level': '1', '@unit': '人'}, {'@code': 'A420401', '@name': 'A420401_死亡数（15～19歳）（男）', '@level': '1', '@unit': '人'}, {'@code': 'A420402', '@name': 'A420402_死亡数（15～19歳）（女）', '@level': '1', '@unit': '人'}, {'@code': 'A4205', '@name': 'A4205_死亡数（20～24歳）', '@level': '1', '@unit': '人'}, {'@code': 'A420501', '@name': 'A420501_死亡数（20～24歳）（男）', '@level': '1', '@unit': '人'}, {'@code': 'A420502', '@name': 'A420502_死亡数（20～24歳）（女）', '@level': '1', '@unit': '人'}, {'@code': 'A4206', '@name': 'A4206_死亡数（25～29歳）', '@level': '1', '@unit': '人'}, {'@code': 'A420601', '@name': 'A420601_死亡数（25～29歳）（男）', '@level': '1', '@unit': '人'}, {'@code': 'A420602', '@name': 'A420602_死亡数（25～29歳）（女）', '@level': '1', '@unit': '人'}, {'@code': 'A4207', '@name': 'A4207_死亡数（30～34歳）', '@level': '1', '@unit': '人'}, {'@code': 'A420701', '@name': 'A420701_死亡数（30～34歳）（男）', '@level': '1', '@unit': '人'}, {'@code': 'A420702', '@name': 'A420702_死亡数（30～34歳）（女）', '@level': '1', '@unit': '人'}, {'@code': 'A4208', '@name': 'A4208_死亡数（35～39歳）', '@level': '1', '@unit': '人'}, {'@code': 'A420801', '@name': 'A420801_死亡数（35～39歳）（男）', '@level': '1', '@unit': '人'}, {'@code': 'A420802', '@name': 'A420802_死亡数（35～39歳）（女）', '@level': '1', '@unit': '人'}, {'@code': 'A4209', '@name': 'A4209_死亡数（40～44歳）', '@level': '1', '@unit': '人'}, {'@code': 'A420901', '@name': 'A420901_死亡数（40～44歳）（男）', '@level': '1', '@unit': '人'}, {'@code': 'A420902', '@name': 'A420902_死亡数（40～44歳）（女）', '@level': '1', '@unit': '人'}, {'@code': 'A4210', '@name': 'A4210_死亡数（45～49歳）', '@level': '1', '@unit': '人'}, {'@code': 'A421001', '@name': 'A421001_死亡数（45～49歳）（男）', '@level': '1', '@unit': '人'}, {'@code': 'A421002', '@name': 'A421002_死亡数（45～49歳）（女）', '@level': '1', '@unit': '人'}, {'@code': 'A4211', '@name': 'A4211_死亡数（50～54歳）', '@level': '1', '@unit': '人'}, {'@code': 'A421101', '@name': 'A421101_死亡数（50～54歳）（男）', '@level': '1', '@unit': '人'}, {'@code': 'A421102', '@name': 'A421102_死亡数（50～54歳）（女）', '@level': '1', '@unit': '人'}, {'@code': 'A4212', '@name': 'A4212_死亡数（55～59歳）', '@level': '1', '@unit': '人'}, {'@code': 'A421201', '@name': 'A421201_死亡数（55～59歳）（男）', '@level': '1', '@unit': '人'}, {'@code': 'A421202', '@name': 'A421202_死亡数（55～59歳）（女）', '@level': '1', '@unit': '人'}, {'@code': 'A4213', '@name': 'A4213_死亡数（60～64歳）', '@level': '1', '@unit': '人'}, {'@code': 'A421301', '@name': 'A421301_死亡数（60～64歳）（男）', '@level': '1', '@unit': '人'}, {'@code': 'A421302', '@name': 'A421302_死亡数（60～64歳）（女）', '@level': '1', '@unit': '人'}, {'@code': 'A4214', '@name': 'A4214_死亡数（65～69歳）', '@level': '1', '@unit': '人'}, {'@code': 'A421401', '@name': 'A421401_死亡数（65～69歳）（男）', '@level': '1', '@unit': '人'}, {'@code': 'A421402', '@name': 'A421402_死亡数（65～69歳）（女）', '@level': '1', '@unit': '人'}, {'@code': 'A4215', '@name': 'A4215_死亡数（70～74歳）', '@level': '1', '@unit': '人'}, {'@code': 'A421501', '@name': 'A421501_死亡数（70～74歳）（男）', '@level': '1', '@unit': '人'}, {'@code': 'A421502', '@name': 'A421502_死亡数（70～74歳）（女）', '@level': '1', '@unit': '人'}, {'@code': 'A4216', '@name': 'A4216_死亡数（75～79歳）', '@level': '1', '@unit': '人'}, {'@code': 'A421601', '@name': 'A421601_死亡数（75～79歳）（男）', '@level': '1', '@unit': '人'}, {'@code': 'A421602', '@name': 'A421602_死亡数（75～79歳）（女）', '@level': '1', '@unit': '人'}, {'@code': 'A4217', '@name': 'A4217_死亡数（80～84歳）', '@level': '1', '@unit': '人'}, {'@code': 'A421701', '@name': 'A421701_死亡数（80～84歳）（男）', '@level': '1', '@unit': '人'}, {'@code': 'A421702', '@name': 'A421702_死亡数（80～84歳）（女）', '@level': '1', '@unit': '人'}, {'@code': 'A4218', '@name': 'A4218_死亡数（85～89歳）', '@level': '1', '@unit': '人'}, {'@code': 'A421801', '@name': 'A421801_死亡数（85～89歳）（男）', '@level': '1', '@unit': '人'}, {'@code': 'A421802', '@name': 'A421802_死亡数（85～89歳）（女）', '@level': '1', '@unit': '人'}, {'@code': 'A4219', '@name': 'A4219_死亡数（90～94歳）', '@level': '1', '@unit': '人'}, {'@code': 'A421901', '@name': 'A421901_死亡数（90～94歳）（男）', '@level': '1', '@unit': '人'}, {'@code': 'A421902', '@name': 'A421902_死亡数（90～94歳）（女）', '@level': '1', '@unit': '人'}, {'@code': 'A4220', '@name': 'A4220_死亡数（95～99歳）', '@level': '1', '@unit': '人'}, {'@code': 'A422001', '@name': 'A422001_死亡数（95～99歳）（男）', '@level': '1', '@unit': '人'}, {'@code': 'A422002', '@name': 'A422002_死亡数（95～99歳）（女）', '@level': '1', '@unit': '人'}, {'@code': 'A4221', '@name': 'A4221_死亡数（100歳以上）', '@level': '1', '@unit': '人'}, {'@code': 'A422101', '@name': 'A422101_死亡数（100歳以上）（男）', '@level': '1', '@unit': '人'}, {'@code': 'A422102', '@name': 'A422102_死亡数（100歳以上）（女）', '@level': '1', '@unit': '人'}, {'@code': 'A4231', '@name': 'A4231_死亡数（65歳以上）', '@level': '1', '@unit': '人'}, {'@code': 'A423101', '@name': 'A423101_死亡数（65歳以上）（男）', '@level': '1', '@unit': '人'}, {'@code': 'A423102', '@name': 'A423102_死亡数（65歳以上）（女）', '@level': '1', '@unit': '人'}, {'@code': 'A424001', '@name': 'A424001_年齢調整死亡率（男）', '@level': '1', '@unit': '‐'}, {'@code': 'A424002', '@name': 'A424002_年齢調整死亡率（女）', '@level': '1', '@unit': '‐'}, {'@code': 'A4270', '@name': 'A4270_死産数', '@level': '1', '@unit': '胎'}, {'@code': 'A427001', '@name': 'A427001_自然死産数', '@level': '1', '@unit': '胎'}, {'@code': 'A4271', '@name': 'A4271_死産数（妊娠満22週以後）', '@level': '1', '@unit': '胎'}, {'@code': 'A4272', '@name': 'A4272_早期新生児死亡数', '@level': '1', '@unit': '人'}, {'@code': 'A4280', '@name': 'A4280_新生児死亡数', '@level': '1', '@unit': '人'}, {'@code': 'A4281', '@name': 'A4281_乳児死亡数', '@level': '1', '@unit': '人'}, {'@code': 'A4301', '@name': 'A4301_標準化死亡率〔日本人〕', '@level': '1', '@unit': 'ﾊﾟｰﾐﾙ'}, {'@code': 'A5101', '@name': 'A5101_転入者数（日本人移動者）', '@level': '1', '@unit': '人'}, {'@code': 'A510101', '@name': 'A510101_転入者数（日本人移動者）（男）', '@level': '1', '@unit': '人'}, {'@code': 'A510102', '@name': 'A510102_転入者数（日本人移動者）（女）', '@level': '1', '@unit': '人'}, {'@code': 'A5102', '@name': 'A5102_転出者数（日本人移動者）', '@level': '1', '@unit': '人'}, {'@code': 'A510201', '@name': 'A510201_転出者数（日本人移動者）（男）', '@level': '1', '@unit': '人'}, {'@code': 'A510202', '@name': 'A510202_転出者数（日本人移動者）（女）', '@level': '1', '@unit': '人'}, {'@code': 'A5103', '@name': 'A5103_転入者数', '@level': '1', '@unit': '人'}, {'@code': 'A510301', '@name': 'A510301_転入者数（男）', '@level': '1', '@unit': '人'}, {'@code': 'A510302', '@name': 'A510302_転入者数（女）', '@level': '1', '@unit': '人'}, {'@code': 'A5104', '@name': 'A5104_転出者数', '@level': '1', '@unit': '人'}, {'@code': 'A510401', '@name': 'A510401_転出者数（男）', '@level': '1', '@unit': '人'}, {'@code': 'A510402', '@name': 'A510402_転出者数（女）', '@level': '1', '@unit': '人'}, {'@code': 'A5201', '@name': 'A5201_入国者数（日本人）', '@level': '1', '@unit': '人'}, {'@code': 'A520101', '@name': 'A520101_入国者数（日本人）（男）', '@level': '1', '@unit': '人'}, {'@code': 'A520102', '@name': 'A520102_入国者数（日本人）（女）', '@level': '1', '@unit': '人'}, {'@code': 'A5202', '@name': 'A5202_出国者数（日本人）', '@level': '1', '@unit': '人'}, {'@code': 'A520201', '@name': 'A520201_出国者数（日本人）（男）', '@level': '1', '@unit': '人'}, {'@code': 'A520202', '@name': 'A520202_出国者数（日本人）（女）', '@level': '1', '@unit': '人'}, {'@code': 'A5301', '@name': 'A5301_社会増減率', '@level': '1', '@unit': '‰'}, {'@code': 'A6101', '@name': 'A6101_従業も通学もしていない人口', '@level': '1', '@unit': '人'}, {'@code': 'A610101', '@name': 'A610101_従業も通学もしていない人口（男）', '@level': '1', '@unit': '人'}, {'@code': 'A610102', '@name': 'A610102_従業も通学もしていない人口（女）', '@level': '1', '@unit': '人'}, {'@code': 'A6102', '@name': 'A6102_自市区町村で従業・通学している人口', '@level': '1', '@unit': '人'}, {'@code': 'A610201', '@name': 'A610201_自市区町村で従業・通学している人口（男）', '@level': '1', '@unit': '人'}, {'@code': 'A610202', '@name': 'A610202_自市区町村で従業・通学している人口（女）', '@level': '1', '@unit': '人'}, {'@code': 'A6103', '@name': 'A6103_流出人口（県内他市区町村で従業・通学している人口）', '@level': '1', '@unit': '人'}, {'@code': 'A610301', '@name': 'A610301_流出人口（県内他市区町村で従業・通学している人口）（男）', '@level': '1', '@unit': '人'}, {'@code': 'A610302', '@name': 'A610302_流出人口（県内他市区町村で従業・通学している人口）（女）', '@level': '1', '@unit': '人'}, {'@code': 'A6104', '@name': 'A6104_流出人口（他県で従業・通学している人口）', '@level': '1', '@unit': '人'}, {'@code': 'A610401', '@name': 'A610401_流出人口（他県で従業・通学している人口）（男）', '@level': '1', '@unit': '人'}, {'@code': 'A610402', '@name': 'A610402_流出人口（他県で従業・通学している人口）（女）', '@level': '1', '@unit': '人'}, {'@code': 'A6105', '@name': 'A6105_流入人口（県内他市区町村に常住している人口）', '@level': '1', '@unit': '人'}, {'@code': 'A610501', '@name': 'A610501_流入人口（県内他市区町村に常住している人口）（男）', '@level': '1', '@unit': '人'}, {'@code': 'A610502', '@name': 'A610502_流入人口（県内他市区町村に常住している人口）（女）', '@level': '1', '@unit': '人'}, {'@code': 'A6106', '@name': 'A6106_流入人口（他県に常住している人口）', '@level': '1', '@unit': '人'}, {'@code': 'A610601', '@name': 'A610601_流入人口（他県に常住している人口）（男）', '@level': '1', '@unit': '人'}, {'@code': 'A610602', '@name': 'A610602_流入人口（他県に常住している人口）（女）', '@level': '1', '@unit': '人'}, {'@code': 'A6107', '@name': 'A6107_昼間人口', '@level': '1', '@unit': '人'}, {'@code': 'A610701', '@name': 'A610701_昼間人口（男）', '@level': '1', '@unit': '人'}, {'@code': 'A610702', '@name': 'A610702_昼間人口（女）', '@level': '1', '@unit': '人'}, {'@code': 'A6108', '@name': 'A6108_昼夜間人口比率', '@level': '1', '@unit': '％'}, {'@code': 'A7101', '@name': 'A7101_世帯数', '@level': '1', '@unit': '世帯'}, {'@code': 'A710101', '@name': 'A710101_一般世帯数', '@level': '1', '@unit': '世帯'}, {'@code': 'A710102', '@name': 'A710102_施設等の世帯数', '@level': '1', '@unit': '世帯'}, {'@code': 'A710201', '@name': 'A710201_一般世帯人員数', '@level': '1', '@unit': '人'}, {'@code': 'A710202', '@name': 'A710202_施設等の世帯人員数', '@level': '1', '@unit': '人'}, {'@code': 'A710211', '@name': 'A710211_一般世帯平均人員数', '@level': '1', '@unit': '人'}, {'@code': 'A7103', '@name': 'A7103_住民基本台帳世帯数（日本人）', '@level': '1', '@unit': '世帯'}, {'@code': 'A810101', '@name': 'A810101_親族のみの世帯数', '@level': '1', '@unit': '世帯'}, {'@code': 'A810102', '@name': 'A810102_核家族世帯数', '@level': '1', '@unit': '世帯'}, {'@code': 'A810103', '@name': 'A810103_核家族以外の世帯数', '@level': '1', '@unit': '世帯'}, {'@code': 'A810104', '@name': 'A810104_非親族を含む世帯数', '@level': '1', '@unit': '世帯'}, {'@code': 'A810105', '@name': 'A810105_単独世帯数', '@level': '1', '@unit': '世帯'}, {'@code': 'A8111', '@name': 'A8111_65歳以上の世帯員のいる世帯数', '@level': '1', '@unit': '世帯'}, {'@code': 'A811101', '@name': 'A811101_65歳以上の世帯員のいる親族のみの世帯数', '@level': '1', '@unit': '世帯'}, {'@code': 'A811102', '@name': 'A811102_65歳以上の世帯員のいる核家族世帯数', '@level': '1', '@unit': '世帯'}, {'@code': 'A811103', '@name': 'A811103_65歳以上の親族のいるその他の親族世帯数', '@level': '1', '@unit': '世帯'}, {'@code': 'A811104', '@name': 'A811104_65歳以上の親族のいる非親族世帯数', '@level': '1', '@unit': '世帯'}, {'@code': 'A811105', '@name': 'A811105_65歳以上の世帯員のいる単独世帯数', '@level': '1', '@unit': '世帯'}, {'@code': 'A8112', '@name': 'A8112_65歳以上の世帯員のいる世帯人員数', '@level': '1', '@unit': '人'}, {'@code': 'A811201', '@name': 'A811201_65歳以上の世帯員のいる親族のみの世帯人員数', '@level': '1', '@unit': '人'}, {'@code': 'A811202', '@name': 'A811202_65歳以上の世帯員のいる核家族世帯人員数', '@level': '1', '@unit': '人'}, {'@code': 'A811203', '@name': 'A811203_65歳以上の親族のいるその他の親族世帯人員数', '@level': '1', '@unit': '人'}, {'@code': 'A811204', '@name': 'A811204_65歳以上の親族のいる非親族世帯人員数', '@level': '1', '@unit': '人'}, {'@code': 'A811205', '@name': 'A811205_65歳以上の親族のいる単独世帯人員数', '@level': '1', '@unit': '人'}, {'@code': 'A8201', '@name': 'A8201_高齢夫婦世帯数（高齢夫婦のみ）', '@level': '1', '@unit': '世帯'}, {'@code': 'A8202', '@name': 'A8202_高齢夫婦世帯数（高齢夫婦と未婚の18歳未満の者）', '@level': '1', '@unit': '世帯'}, {'@code': 'A8301', '@name': 'A8301_高齢単身世帯数（65歳以上の者1人）', '@level': '1', '@unit': '世帯'}, {'@code': 'A830101', '@name': 'A830101_高齢単身世帯数（65歳以上の者1人）（男）', '@level': '1', '@unit': '世帯'}, {'@code': 'A830102', '@name': 'A830102_高齢単身世帯数（65歳以上の者1人）（女）', '@level': '1', '@unit': '世帯'}, {'@code': 'A8303', '@name': 'A8303_高齢単身世帯数（60歳以上の者1人）', '@level': '1', '@unit': '世帯'}, {'@code': 'A830301', '@name': 'A830301_高齢単身世帯数（60歳以上の者1人）（男）', '@level': '1', '@unit': '世帯'}, {'@code': 'A830302', '@name': 'A830302_高齢単身世帯数（60歳以上の者1人）（女）', '@level': '1', '@unit': '世帯'}, {'@code': 'A8401', '@name': 'A8401_母子世帯数', '@level': '1', '@unit': '世帯'}, {'@code': 'A840101', '@name': 'A840101_母子世帯数（子供が1人）', '@level': '1', '@unit': '世帯'}, {'@code': 'A840102', '@name': 'A840102_母子世帯数（子供が2人）', '@level': '1', '@unit': '世帯'}, {'@code': 'A840103', '@name': 'A840103_母子世帯数（子供が3人以上）', '@level': '1', '@unit': '世帯'}, {'@code': 'A840201', '@name': 'A840201_母子世帯数（15～24歳）', '@level': '1', '@unit': '世帯'}, {'@code': 'A840202', '@name': 'A840202_母子世帯数（25～34歳）', '@level': '1', '@unit': '世帯'}, {'@code': 'A840203', '@name': 'A840203_母子世帯数（35～44歳）', '@level': '1', '@unit': '世帯'}, {'@code': 'A840204', '@name': 'A840204_母子世帯数（45～54歳）', '@level': '1', '@unit': '世帯'}, {'@code': 'A840205', '@name': 'A840205_母子世帯数（55歳以上）', '@level': '1', '@unit': '世帯'}, {'@code': 'A8501', '@name': 'A8501_父子世帯数', '@level': '1', '@unit': '世帯'}, {'@code': 'A850101', '@name': 'A850101_父子世帯数（子供が1人）', '@level': '1', '@unit': '世帯'}, {'@code': 'A850102', '@name': 'A850102_父子世帯数（子供が2人）', '@level': '1', '@unit': '世帯'}, {'@code': 'A850103', '@name': 'A850103_父子世帯数（子供が3人以上）', '@level': '1', '@unit': '世帯'}, {'@code': 'A850201', '@name': 'A850201_父子世帯数（15～24歳）', '@level': '1', '@unit': '世帯'}, {'@code': 'A850202', '@name': 'A850202_父子世帯数（25～34歳）', '@level': '1', '@unit': '世帯'}, {'@code': 'A850203', '@name': 'A850203_父子世帯数（35～44歳）', '@level': '1', '@unit': '世帯'}, {'@code': 'A850204', '@name': 'A850204_父子世帯数（45～54歳）', '@level': '1', '@unit': '世帯'}, {'@code': 'A850205', '@name': 'A850205_父子世帯数（55歳以上）', '@level': '1', '@unit': '世帯'}, {'@code': 'A9101', '@name': 'A9101_婚姻件数', '@level': '1', '@unit': '組'}, {'@code': 'A9111', '@name': 'A9111_平均婚姻年齢（初婚の夫）', '@level': '1', '@unit': '歳'}, {'@code': 'A9112', '@name': 'A9112_平均婚姻年齢（初婚の妻）', '@level': '1', '@unit': '歳'}, {'@code': 'A9201', '@name': 'A9201_離婚件数', '@level': '1', '@unit': '組'}]}, {'@id': 'area', '@name': '地域', 'CLASS': [{'@code': '00000', '@name': '全国', '@level': '1'}, {'@code': '01000', '@name': '北海道', '@level': '2'}, {'@code': '02000', '@name': '青森県', '@level': '2'}, {'@code': '03000', '@name': '岩手県', '@level': '2'}, {'@code': '04000', '@name': '宮城県', '@level': '2'}, {'@code': '05000', '@name': '秋田県', '@level': '2'}, {'@code': '06000', '@name': '山形県', '@level': '2'}, {'@code': '07000', '@name': '福島県', '@level': '2'}, {'@code': '08000', '@name': '茨城県', '@level': '2'}, {'@code': '09000', '@name': '栃木県', '@level': '2'}, {'@code': '10000', '@name': '群馬県', '@level': '2'}, {'@code': '11000', '@name': '埼玉県', '@level': '2'}, {'@code': '12000', '@name': '千葉県', '@level': '2'}, {'@code': '13000', '@name': '東京都', '@level': '2'}, {'@code': '14000', '@name': '神奈川県', '@level': '2'}, {'@code': '15000', '@name': '新潟県', '@level': '2'}, {'@code': '16000', '@name': '富山県', '@level': '2'}, {'@code': '17000', '@name': '石川県', '@level': '2'}, {'@code': '18000', '@name': '福井県', '@level': '2'}, {'@code': '19000', '@name': '山梨県', '@level': '2'}, {'@code': '20000', '@name': '長野県', '@level': '2'}, {'@code': '21000', '@name': '岐阜県', '@level': '2'}, {'@code': '22000', '@name': '静岡県', '@level': '2'}, {'@code': '23000', '@name': '愛知県', '@level': '2'}, {'@code': '24000', '@name': '三重県', '@level': '2'}, {'@code': '25000', '@name': '滋賀県', '@level': '2'}, {'@code': '26000', '@name': '京都府', '@level': '2'}, {'@code': '27000', '@name': '大阪府', '@level': '2'}, {'@code': '28000', '@name': '兵庫県', '@level': '2'}, {'@code': '29000', '@name': '奈良県', '@level': '2'}, {'@code': '30000', '@name': '和歌山県', '@level': '2'}, {'@code': '31000', '@name': '鳥取県', '@level': '2'}, {'@code': '32000', '@name': '島根県', '@level': '2'}, {'@code': '33000', '@name': '岡山県', '@level': '2'}, {'@code': '34000', '@name': '広島県', '@level': '2'}, {'@code': '35000', '@name': '山口県', '@level': '2'}, {'@code': '36000', '@name': '徳島県', '@level': '2'}, {'@code': '37000', '@name': '香川県', '@level': '2'}, {'@code': '38000', '@name': '愛媛県', '@level': '2'}, {'@code': '39000', '@name': '高知県', '@level': '2'}, {'@code': '40000', '@name': '福岡県', '@level': '2'}, {'@code': '41000', '@name': '佐賀県', '@level': '2'}, {'@code': '42000', '@name': '長崎県', '@level': '2'}, {'@code': '43000', '@name': '熊本県', '@level': '2'}, {'@code': '44000', '@name': '大分県', '@level': '2'}, {'@code': '45000', '@name': '宮崎県', '@level': '2'}, {'@code': '46000', '@name': '鹿児島県', '@level': '2'}, {'@code': '47000', '@name': '沖縄県', '@level': '2'}]}, {'@id': 'time', '@name': '調査年', 'CLASS': [{'@code': '1975100000', '@name': '1975年度', '@level': '1'}, {'@code': '1976100000', '@name': '1976年度', '@level': '1'}, {'@code': '1977100000', '@name': '1977年度', '@level': '1'}, {'@code': '1978100000', '@name': '1978年度', '@level': '1'}, {'@code': '1979100000', '@name': '1979年度', '@level': '1'}, {'@code': '1980100000', '@name': '1980年度', '@level': '1'}, {'@code': '1981100000', '@name': '1981年度', '@level': '1'}, {'@code': '1982100000', '@name': '1982年度', '@level': '1'}, {'@code': '1983100000', '@name': '1983年度', '@level': '1'}, {'@code': '1984100000', '@name': '1984年度', '@level': '1'}, {'@code': '1985100000', '@name': '1985年度', '@level': '1'}, {'@code': '1986100000', '@name': '1986年度', '@level': '1'}, {'@code': '1987100000', '@name': '1987年度', '@level': '1'}, {'@code': '1988100000', '@name': '1988年度', '@level': '1'}, {'@code': '1989100000', '@name': '1989年度', '@level': '1'}, {'@code': '1990100000', '@name': '1990年度', '@level': '1'}, {'@code': '1991100000', '@name': '1991年度', '@level': '1'}, {'@code': '1992100000', '@name': '1992年度', '@level': '1'}, {'@code': '1993100000', '@name': '1993年度', '@level': '1'}, {'@code': '1994100000', '@name': '1994年度', '@level': '1'}, {'@code': '1995100000', '@name': '1995年度', '@level': '1'}, {'@code': '1996100000', '@name': '1996年度', '@level': '1'}, {'@code': '1997100000', '@name': '1997年度', '@level': '1'}, {'@code': '1998100000', '@name': '1998年度', '@level': '1'}, {'@code': '1999100000', '@name': '1999年度', '@level': '1'}, {'@code': '2000100000', '@name': '2000年度', '@level': '1'}, {'@code': '2001100000', '@name': '2001年度', '@level': '1'}, {'@code': '2002100000', '@name': '2002年度', '@level': '1'}, {'@code': '2003100000', '@name': '2003年度', '@level': '1'}, {'@code': '2004100000', '@name': '2004年度', '@level': '1'}, {'@code': '2005100000', '@name': '2005年度', '@level': '1'}, {'@code': '2006100000', '@name': '2006年度', '@level': '1'}, {'@code': '2007100000', '@name': '2007年度', '@level': '1'}, {'@code': '2008100000', '@name': '2008年度', '@level': '1'}, {'@code': '2009100000', '@name': '2009年度', '@level': '1'}, {'@code': '2010100000', '@name': '2010年度', '@level': '1'}, {'@code': '2011100000', '@name': '2011年度', '@level': '1'}, {'@code': '2012100000', '@name': '2012年度', '@level': '1'}, {'@code': '2013100000', '@name': '2013年度', '@level': '1'}, {'@code': '2014100000', '@name': '2014年度', '@level': '1'}, {'@code': '2015100000', '@name': '2015年度', '@level': '1'}, {'@code': '2016100000', '@name': '2016年度', '@level': '1'}, {'@code': '2017100000', '@name': '2017年度', '@level': '1'}, {'@code': '2018100000', '@name': '2018年度', '@level': '1'}, {'@code': '2019100000', '@name': '2019年度', '@level': '1'}, {'@code': '2020100000', '@name': '2020年度', '@level': '1'}]}]}}}}\n"
          ]
        }
      ]
    },
    {
      "cell_type": "markdown",
      "source": [
        "## 統計表csvを作成"
      ],
      "metadata": {
        "id": "1VZR8CVipdYL"
      }
    },
    {
      "cell_type": "markdown",
      "source": [
        "カテゴリコード'cat01'のリストを作成する関数"
      ],
      "metadata": {
        "id": "skjQsB3hcJ0b"
      }
    },
    {
      "cell_type": "code",
      "source": [
        "def generate_cards(statsDataId):\n",
        "  meta= get_estat_meta(statsDataId)\n",
        " \n",
        "  # CLASS_OBJ\n",
        "  CLASS_OBJ = meta['GET_META_INFO']['METADATA_INF']['CLASS_INF']['CLASS_OBJ']\n",
        "\n",
        "  STAT_NAME = meta['GET_META_INFO']['METADATA_INF']['TABLE_INF']['STAT_NAME']['$']\n",
        "  print(STAT_NAME)\n",
        "\n",
        "  TITLE = meta['GET_META_INFO']['METADATA_INF']['TABLE_INF']['TITLE']['$']\n",
        "  print(TITLE)\n",
        "\n",
        "  # カテゴリ一覧\n",
        "  cat01 = next((d for d in CLASS_OBJ if d['@id'] == 'cat01'), None)['CLASS']\n",
        "\n",
        "  df = pd.json_normalize(cat01)[['@code','@name']]\n",
        "\n",
        "\n",
        "  df['statsDataId'] = statsDataId\n",
        "  df['statsDataName'] = f'{STAT_NAME}　「{TITLE}」'\n",
        "  print(df)\n",
        "\n",
        "\n",
        "\n",
        "  # カテゴリコード一覧\n",
        "  catagory_codes = [d.get('@code') for d in categories]\n",
        "\n",
        "  return catagory_codes\n",
        "\n",
        "cards = generate_cards(statsDataId)\n",
        "print(cards)"
      ],
      "metadata": {
        "colab": {
          "base_uri": "https://localhost:8080/",
          "height": 622
        },
        "id": "QLqvsnhuc20r",
        "outputId": "2af2a655-2468-4f87-abee-4b9dcfff34ac"
      },
      "execution_count": 18,
      "outputs": [
        {
          "output_type": "stream",
          "name": "stdout",
          "text": [
            "社会・人口統計体系\n",
            "Ａ　人口・世帯\n",
            "       @code                 @name statsDataId        statsDataName\n",
            "0      A1101             A1101_総人口  0000010101  社会・人口統計体系　「Ａ　人口・世帯」\n",
            "1    A110101        A110101_総人口（男）  0000010101  社会・人口統計体系　「Ａ　人口・世帯」\n",
            "2    A110102        A110102_総人口（女）  0000010101  社会・人口統計体系　「Ａ　人口・世帯」\n",
            "3      A1102           A1102_日本人人口  0000010101  社会・人口統計体系　「Ａ　人口・世帯」\n",
            "4    A110201      A110201_日本人人口（男）  0000010101  社会・人口統計体系　「Ａ　人口・世帯」\n",
            "..       ...                   ...         ...                  ...\n",
            "563  A850205  A850205_父子世帯数（55歳以上）  0000010101  社会・人口統計体系　「Ａ　人口・世帯」\n",
            "564    A9101            A9101_婚姻件数  0000010101  社会・人口統計体系　「Ａ　人口・世帯」\n",
            "565    A9111    A9111_平均婚姻年齢（初婚の夫）  0000010101  社会・人口統計体系　「Ａ　人口・世帯」\n",
            "566    A9112    A9112_平均婚姻年齢（初婚の妻）  0000010101  社会・人口統計体系　「Ａ　人口・世帯」\n",
            "567    A9201            A9201_離婚件数  0000010101  社会・人口統計体系　「Ａ　人口・世帯」\n",
            "\n",
            "[568 rows x 4 columns]\n"
          ]
        },
        {
          "output_type": "error",
          "ename": "NameError",
          "evalue": "ignored",
          "traceback": [
            "\u001b[0;31m---------------------------------------------------------------------------\u001b[0m",
            "\u001b[0;31mNameError\u001b[0m                                 Traceback (most recent call last)",
            "\u001b[0;32m<ipython-input-18-d64e91bc84f5>\u001b[0m in \u001b[0;36m<module>\u001b[0;34m\u001b[0m\n\u001b[1;32m     28\u001b[0m   \u001b[0;32mreturn\u001b[0m \u001b[0mcatagory_codes\u001b[0m\u001b[0;34m\u001b[0m\u001b[0;34m\u001b[0m\u001b[0m\n\u001b[1;32m     29\u001b[0m \u001b[0;34m\u001b[0m\u001b[0m\n\u001b[0;32m---> 30\u001b[0;31m \u001b[0mcards\u001b[0m \u001b[0;34m=\u001b[0m \u001b[0mgenerate_cards\u001b[0m\u001b[0;34m(\u001b[0m\u001b[0mstatsDataId\u001b[0m\u001b[0;34m)\u001b[0m\u001b[0;34m\u001b[0m\u001b[0;34m\u001b[0m\u001b[0m\n\u001b[0m\u001b[1;32m     31\u001b[0m \u001b[0mprint\u001b[0m\u001b[0;34m(\u001b[0m\u001b[0mcards\u001b[0m\u001b[0;34m)\u001b[0m\u001b[0;34m\u001b[0m\u001b[0;34m\u001b[0m\u001b[0m\n",
            "\u001b[0;32m<ipython-input-18-d64e91bc84f5>\u001b[0m in \u001b[0;36mgenerate_cards\u001b[0;34m(statsDataId)\u001b[0m\n\u001b[1;32m     24\u001b[0m \u001b[0;34m\u001b[0m\u001b[0m\n\u001b[1;32m     25\u001b[0m   \u001b[0;31m# カテゴリコード一覧\u001b[0m\u001b[0;34m\u001b[0m\u001b[0;34m\u001b[0m\u001b[0;34m\u001b[0m\u001b[0m\n\u001b[0;32m---> 26\u001b[0;31m   \u001b[0mcatagory_codes\u001b[0m \u001b[0;34m=\u001b[0m \u001b[0;34m[\u001b[0m\u001b[0md\u001b[0m\u001b[0;34m.\u001b[0m\u001b[0mget\u001b[0m\u001b[0;34m(\u001b[0m\u001b[0;34m'@code'\u001b[0m\u001b[0;34m)\u001b[0m \u001b[0;32mfor\u001b[0m \u001b[0md\u001b[0m \u001b[0;32min\u001b[0m \u001b[0mcategories\u001b[0m\u001b[0;34m]\u001b[0m\u001b[0;34m\u001b[0m\u001b[0;34m\u001b[0m\u001b[0m\n\u001b[0m\u001b[1;32m     27\u001b[0m \u001b[0;34m\u001b[0m\u001b[0m\n\u001b[1;32m     28\u001b[0m   \u001b[0;32mreturn\u001b[0m \u001b[0mcatagory_codes\u001b[0m\u001b[0;34m\u001b[0m\u001b[0;34m\u001b[0m\u001b[0m\n",
            "\u001b[0;31mNameError\u001b[0m: name 'categories' is not defined"
          ]
        }
      ]
    }
  ],
  "metadata": {
    "colab": {
      "collapsed_sections": [],
      "toc_visible": true,
      "provenance": []
    },
    "kernelspec": {
      "name": "py39",
      "display_name": "Python 3.9"
    },
    "gpuClass": "standard"
  },
  "nbformat": 4,
  "nbformat_minor": 0
}