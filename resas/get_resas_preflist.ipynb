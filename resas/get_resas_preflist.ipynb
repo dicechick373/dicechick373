{
  "cells": [
    {
      "cell_type": "markdown",
      "source": [
        "# _get_resas_preflist"
      ],
      "metadata": {
        "id": "pNbDdgim3Qqq"
      }
    },
    {
      "cell_type": "code",
      "source": [
        "RESAS_API_KEY = '\t02JYzLqUOfTNVfiTWjLlR2g0YwEQPQ7caYxcnZaZ'\n",
        "\n",
        "import urllib.parse\n",
        "import urllib.request\n",
        "import json\n",
        "\n",
        "\"\"\"\n",
        "resas-APIから都道府県一覧を取得する関数\n",
        "\"\"\"\n",
        "def get_resas_preflist():\n",
        "    url = 'https://opendata.resas-portal.go.jp/api/v1/prefectures'\n",
        "    req = urllib.request.Request(url, headers={'X-API-KEY': RESAS_API_KEY})\n",
        "    with urllib.request.urlopen(req) as response:\n",
        "        res = json.loads(response.read().decode())\n",
        "    return res['result']"
      ],
      "metadata": {
        "id": "5qg2hhnl3j5m"
      },
      "execution_count": 4,
      "outputs": []
    },
    {
      "cell_type": "code",
      "source": [
        "print(get_resas_preflist())"
      ],
      "metadata": {
        "id": "N60eIsL93wka",
        "outputId": "e34561ff-d638-48fc-e862-4930e956c28c",
        "colab": {
          "base_uri": "https://localhost:8080/"
        }
      },
      "execution_count": 5,
      "outputs": [
        {
          "output_type": "stream",
          "name": "stdout",
          "text": [
            "[{'prefCode': 1, 'prefName': '北海道'}, {'prefCode': 2, 'prefName': '青森県'}, {'prefCode': 3, 'prefName': '岩手県'}, {'prefCode': 4, 'prefName': '宮城県'}, {'prefCode': 5, 'prefName': '秋田県'}, {'prefCode': 6, 'prefName': '山形県'}, {'prefCode': 7, 'prefName': '福島県'}, {'prefCode': 8, 'prefName': '茨城県'}, {'prefCode': 9, 'prefName': '栃木県'}, {'prefCode': 10, 'prefName': '群馬県'}, {'prefCode': 11, 'prefName': '埼玉県'}, {'prefCode': 12, 'prefName': '千葉県'}, {'prefCode': 13, 'prefName': '東京都'}, {'prefCode': 14, 'prefName': '神奈川県'}, {'prefCode': 15, 'prefName': '新潟県'}, {'prefCode': 16, 'prefName': '富山県'}, {'prefCode': 17, 'prefName': '石川県'}, {'prefCode': 18, 'prefName': '福井県'}, {'prefCode': 19, 'prefName': '山梨県'}, {'prefCode': 20, 'prefName': '長野県'}, {'prefCode': 21, 'prefName': '岐阜県'}, {'prefCode': 22, 'prefName': '静岡県'}, {'prefCode': 23, 'prefName': '愛知県'}, {'prefCode': 24, 'prefName': '三重県'}, {'prefCode': 25, 'prefName': '滋賀県'}, {'prefCode': 26, 'prefName': '京都府'}, {'prefCode': 27, 'prefName': '大阪府'}, {'prefCode': 28, 'prefName': '兵庫県'}, {'prefCode': 29, 'prefName': '奈良県'}, {'prefCode': 30, 'prefName': '和歌山県'}, {'prefCode': 31, 'prefName': '鳥取県'}, {'prefCode': 32, 'prefName': '島根県'}, {'prefCode': 33, 'prefName': '岡山県'}, {'prefCode': 34, 'prefName': '広島県'}, {'prefCode': 35, 'prefName': '山口県'}, {'prefCode': 36, 'prefName': '徳島県'}, {'prefCode': 37, 'prefName': '香川県'}, {'prefCode': 38, 'prefName': '愛媛県'}, {'prefCode': 39, 'prefName': '高知県'}, {'prefCode': 40, 'prefName': '福岡県'}, {'prefCode': 41, 'prefName': '佐賀県'}, {'prefCode': 42, 'prefName': '長崎県'}, {'prefCode': 43, 'prefName': '熊本県'}, {'prefCode': 44, 'prefName': '大分県'}, {'prefCode': 45, 'prefName': '宮崎県'}, {'prefCode': 46, 'prefName': '鹿児島県'}, {'prefCode': 47, 'prefName': '沖縄県'}]\n"
          ]
        }
      ]
    }
  ],
  "metadata": {
    "colab": {
      "collapsed_sections": [],
      "name": "Colaboratory へようこそ",
      "toc_visible": true,
      "provenance": []
    },
    "kernelspec": {
      "display_name": "Python 3",
      "name": "python3"
    }
  },
  "nbformat": 4,
  "nbformat_minor": 0
}