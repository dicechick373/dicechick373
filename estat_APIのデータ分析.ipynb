{
  "cells": [
    {
      "cell_type": "markdown",
      "source": [
        "# 実行環境の作成"
      ],
      "metadata": {
        "id": "inrYQThZlUDa"
      }
    },
    {
      "cell_type": "markdown",
      "source": [
        "## Google Cloud Storage"
      ],
      "metadata": {
        "id": "BDMnnS3RVrkF"
      }
    },
    {
      "cell_type": "markdown",
      "source": [
        "下記コードでGCPに接続"
      ],
      "metadata": {
        "id": "SsgiSjKhV2D7"
      }
    },
    {
      "cell_type": "code",
      "source": [
        "from google.colab import auth\n",
        "auth.authenticate_user()"
      ],
      "metadata": {
        "id": "GKiUkM7SV0bY"
      },
      "execution_count": 1,
      "outputs": []
    },
    {
      "cell_type": "markdown",
      "source": [
        "認証に成功したらgcsfuseをインストール"
      ],
      "metadata": {
        "id": "KP4JP4ouV6QS"
      }
    },
    {
      "cell_type": "code",
      "source": [
        "!echo \"deb http://packages.cloud.google.com/apt gcsfuse-`lsb_release -c -s` main\" | sudo tee /etc/apt/sources.list.d/gcsfuse.list\n",
        "!curl https://packages.cloud.google.com/apt/doc/apt-key.gpg | sudo apt-key add -\n",
        "!apt-get -y -q update\n",
        "!apt-get -y -q install gcsfuse"
      ],
      "metadata": {
        "colab": {
          "base_uri": "https://localhost:8080/"
        },
        "id": "d1D5UagbV9A4",
        "outputId": "80219236-c69c-441a-d89d-ffd03f2c3a32"
      },
      "execution_count": 2,
      "outputs": [
        {
          "output_type": "stream",
          "name": "stdout",
          "text": [
            "deb http://packages.cloud.google.com/apt gcsfuse-bionic main\n",
            "  % Total    % Received % Xferd  Average Speed   Time    Time     Time  Current\n",
            "                                 Dload  Upload   Total   Spent    Left  Speed\n",
            "100  2537  100  2537    0     0  31712      0 --:--:-- --:--:-- --:--:-- 31712\n",
            "OK\n",
            "Get:1 http://packages.cloud.google.com/apt gcsfuse-bionic InRelease [5,391 B]\n",
            "Hit:2 https://cloud.r-project.org/bin/linux/ubuntu bionic-cran40/ InRelease\n",
            "Ign:3 https://developer.download.nvidia.com/compute/machine-learning/repos/ubuntu1804/x86_64  InRelease\n",
            "Hit:4 https://developer.download.nvidia.com/compute/cuda/repos/ubuntu1804/x86_64  InRelease\n",
            "Hit:5 https://developer.download.nvidia.com/compute/machine-learning/repos/ubuntu1804/x86_64  Release\n",
            "Hit:6 http://archive.ubuntu.com/ubuntu bionic InRelease\n",
            "Hit:7 http://security.ubuntu.com/ubuntu bionic-security InRelease\n",
            "Hit:8 http://archive.ubuntu.com/ubuntu bionic-updates InRelease\n",
            "Hit:9 http://archive.ubuntu.com/ubuntu bionic-backports InRelease\n",
            "Hit:10 http://ppa.launchpad.net/c2d4u.team/c2d4u4.0+/ubuntu bionic InRelease\n",
            "Hit:11 http://ppa.launchpad.net/cran/libgit2/ubuntu bionic InRelease\n",
            "Hit:12 http://ppa.launchpad.net/deadsnakes/ppa/ubuntu bionic InRelease\n",
            "Hit:14 http://ppa.launchpad.net/graphics-drivers/ppa/ubuntu bionic InRelease\n",
            "Fetched 5,391 B in 3s (1,850 B/s)\n",
            "Reading package lists...\n",
            "Reading package lists...\n",
            "Building dependency tree...\n",
            "Reading state information...\n",
            "gcsfuse is already the newest version (0.41.6).\n",
            "The following package was automatically installed and is no longer required:\n",
            "  libnvidia-common-460\n",
            "Use 'apt autoremove' to remove it.\n",
            "0 upgraded, 0 newly installed, 0 to remove and 56 not upgraded.\n"
          ]
        }
      ]
    },
    {
      "cell_type": "markdown",
      "source": [
        "バケット「statistics-hyogo」をディレクトリ「statistics-hyogo」にマウント"
      ],
      "metadata": {
        "id": "QUUcFp5LWR6s"
      }
    },
    {
      "cell_type": "code",
      "source": [
        "! mkdir -p statistics-hyogo\n",
        "! gcsfuse --implicit-dirs --limit-bytes-per-sec -1 --limit-ops-per-sec -1 statistics-hyogo statistics-hyogo"
      ],
      "metadata": {
        "colab": {
          "base_uri": "https://localhost:8080/"
        },
        "id": "vw-vsTVGWIfp",
        "outputId": "dc5a4dd7-9443-48e0-a305-459d5c01defb"
      },
      "execution_count": 3,
      "outputs": [
        {
          "output_type": "stream",
          "name": "stdout",
          "text": [
            "2022/09/14 05:06:27.295495 Start gcsfuse/0.41.6 (Go version go1.18.4) for app \"\" using mount point: /content/statistics-hyogo\n",
            "2022/09/14 05:06:27.358536 Opening GCS connection...\n",
            "2022/09/14 05:06:27.782657 Mounting file system \"statistics-hyogo\"...\n",
            "2022/09/14 05:06:27.792962 File system has been successfully mounted.\n"
          ]
        }
      ]
    },
    {
      "cell_type": "markdown",
      "source": [
        "## Google Secret Maneger"
      ],
      "metadata": {
        "id": "7qQcN2LeWv6y"
      }
    },
    {
      "cell_type": "markdown",
      "source": [
        "ライブラリをインストール"
      ],
      "metadata": {
        "id": "6CbBOyZ5XYJM"
      }
    },
    {
      "cell_type": "code",
      "source": [
        "pip install google-cloud-secret-manager"
      ],
      "metadata": {
        "id": "mEYHoCvDXQpm"
      },
      "execution_count": null,
      "outputs": []
    },
    {
      "cell_type": "markdown",
      "source": [
        "シークレットを呼び出す関数"
      ],
      "metadata": {
        "id": "UVUeVFCjXxTf"
      }
    },
    {
      "cell_type": "code",
      "source": [
        "from google.cloud import secretmanager\n",
        "\n",
        "def access_secret(project_id, secret_name, version='latest'):\n",
        "    client = secretmanager.SecretManagerServiceClient()\n",
        "    name = client.secret_version_path(project_id, secret_name, version)\n",
        "    response = client.access_secret_version(request={\"name\":name})\n",
        "    payload = response.payload.data.decode(\"UTF-8\")\n",
        "    return payload"
      ],
      "metadata": {
        "id": "HtS1JoaoXvPU"
      },
      "execution_count": 5,
      "outputs": []
    },
    {
      "cell_type": "markdown",
      "source": [
        "ESTAT_APPIDを取得する"
      ],
      "metadata": {
        "id": "xu8BYCJrX1a9"
      }
    },
    {
      "cell_type": "code",
      "source": [
        "PROJECT_ID = 'primal-buttress-342908'\n",
        "ESTAT_APPID = access_secret(PROJECT_ID,'ESTAT_APPID' )\n",
        "# print(ESTAT_APPID)"
      ],
      "metadata": {
        "id": "W7ZrfiMkX4cp"
      },
      "execution_count": 6,
      "outputs": []
    },
    {
      "cell_type": "markdown",
      "source": [
        "## pythonのライブラリ追加"
      ],
      "metadata": {
        "id": "rv4FGegQaZtc"
      }
    },
    {
      "cell_type": "code",
      "source": [
        "import urllib.parse\n",
        "import urllib.request\n",
        "import json\n",
        "import pandas as pd"
      ],
      "metadata": {
        "id": "eIB9NAJdalZT"
      },
      "execution_count": 7,
      "outputs": []
    },
    {
      "cell_type": "markdown",
      "source": [
        "# estatの統計情報を取得"
      ],
      "metadata": {
        "id": "8AQDQmu5ZIVE"
      }
    },
    {
      "cell_type": "markdown",
      "source": [
        "統計表を指定してメタ情報を取得する\n",
        "\n",
        "[API仕様](https://www.e-stat.go.jp/api/api-info/e-stat-manual3-0#api_2_2)"
      ],
      "metadata": {
        "id": "s9tOiD5NZv5c"
      }
    },
    {
      "cell_type": "markdown",
      "source": [
        "'statsDataId'に統計表コードを指定"
      ],
      "metadata": {
        "id": "IYxQ-Md5ZU3P"
      }
    },
    {
      "cell_type": "code",
      "source": [
        "statsDataId = '0000010101'"
      ],
      "metadata": {
        "id": "RS0kYP4dZUSU"
      },
      "execution_count": 8,
      "outputs": []
    },
    {
      "cell_type": "markdown",
      "source": [
        "メタ情報を取得する関数を作成"
      ],
      "metadata": {
        "id": "d5VF0GXDZjRr"
      }
    },
    {
      "cell_type": "code",
      "source": [
        "def get_estat_meta(statsDataId):\n",
        "  # リクエストパラメータ\n",
        "  p={}\n",
        "  p['statsDataId'] = statsDataId\n",
        "  p['appId'] = ESTAT_APPID\n",
        "\n",
        "  url = 'http://api.e-stat.go.jp/rest/3.0/app/json/getMetaInfo?'\n",
        "  url += urllib.parse.urlencode(p)\n",
        "\n",
        "  with urllib.request.urlopen(url) as response:\n",
        "    return json.loads(response.read().decode('utf-8'))\n",
        "\n",
        "meta = get_estat_meta(statsDataId)\n",
        "print(meta)"
      ],
      "metadata": {
        "id": "Qkb_XkW4ZiN8"
      },
      "execution_count": null,
      "outputs": []
    },
    {
      "cell_type": "markdown",
      "source": [
        "## カテゴリコード一覧"
      ],
      "metadata": {
        "id": "1VZR8CVipdYL"
      }
    },
    {
      "cell_type": "markdown",
      "source": [
        "カテゴリコード'cat01'のリストを作成する関数"
      ],
      "metadata": {
        "id": "skjQsB3hcJ0b"
      }
    },
    {
      "cell_type": "code",
      "source": [
        "def get_estat_catefory_codes(statsDataId):\n",
        "  meta= get_estat_meta(statsDataId)\n",
        " \n",
        "  # CLASS_OBJ\n",
        "  CLASS_OBJ = meta['GET_META_INFO']['METADATA_INF']['CLASS_INF']['CLASS_OBJ']\n",
        "\n",
        "  # カテゴリ一覧\n",
        "  categories = next((d for d in CLASS_OBJ if d['@id'] == 'cat01'), None)['CLASS']\n",
        "\n",
        "  # カテゴリコード一覧\n",
        "  catagory_codes = [d.get('@code') for d in categories]\n",
        "\n",
        "  return catagory_codes\n",
        "\n",
        "category_codes = get_estat_catefory_codes(statsDataId)\n",
        "print(category_codes)\n",
        "# print(len(category_codes))"
      ],
      "metadata": {
        "colab": {
          "base_uri": "https://localhost:8080/"
        },
        "id": "QLqvsnhuc20r",
        "outputId": "c9f397fb-9e69-44f9-a2fd-1510379f9c2c"
      },
      "execution_count": 68,
      "outputs": [
        {
          "output_type": "stream",
          "name": "stdout",
          "text": [
            "['A1101', 'A110101', 'A110102', 'A1102', 'A110201', 'A110202', 'A1201', 'A120101', 'A120102', 'A1202', 'A120201', 'A120202', 'A1203', 'A120301', 'A120302', 'A1204', 'A120401', 'A120402', 'A1205', 'A120501', 'A120502', 'A1206', 'A120601', 'A120602', 'A1207', 'A120701', 'A120702', 'A1208', 'A120801', 'A120802', 'A1209', 'A120901', 'A120902', 'A1210', 'A121001', 'A121002', 'A1211', 'A121101', 'A121102', 'A1212', 'A121201', 'A121202', 'A1213', 'A121301', 'A121302', 'A1214', 'A121401', 'A121402', 'A1215', 'A121501', 'A121502', 'A1216', 'A121601', 'A121602', 'A1217', 'A121701', 'A121702', 'A1218', 'A121801', 'A121802', 'A1219', 'A121901', 'A121902', 'A1220', 'A122001', 'A122002', 'A1221', 'A122101', 'A122102', 'A1231', 'A1301', 'A130101', 'A130102', 'A1302', 'A130201', 'A130202', 'A1303', 'A130301', 'A130302', 'A1304', 'A130401', 'A130402', 'A1305', 'A130501', 'A130502', 'A1306', 'A130601', 'A130602', 'A1401', 'A140101', 'A140102', 'A1402', 'A140201', 'A140202', 'A1403', 'A140301', 'A140302', 'A1404', 'A140401', 'A140402', 'A1405', 'A140501', 'A140502', 'A1406', 'A140601', 'A140602', 'A1407', 'A140701', 'A140702', 'A1408', 'A140801', 'A140802', 'A1409', 'A140901', 'A140902', 'A1410', 'A141001', 'A141002', 'A1411', 'A141101', 'A141102', 'A1412', 'A141201', 'A141202', 'A1413', 'A141301', 'A141302', 'A1414', 'A141401', 'A141402', 'A1415', 'A141501', 'A141502', 'A1416', 'A141601', 'A141602', 'A1417', 'A141701', 'A141702', 'A1418', 'A141801', 'A141802', 'A1419', 'A141901', 'A141902', 'A1420', 'A142001', 'A142002', 'A1501', 'A1502', 'A150201', 'A150202', 'A1503', 'A150301', 'A150302', 'A1504', 'A150401', 'A150402', 'A1505', 'A150501', 'A150502', 'A1506', 'A150601', 'A150602', 'A1507', 'A150701', 'A150702', 'A1508', 'A150801', 'A150802', 'A1509', 'A150901', 'A150902', 'A1510', 'A151001', 'A151002', 'A1511', 'A151101', 'A151102', 'A1512', 'A151201', 'A151202', 'A1513', 'A151301', 'A151302', 'A1514', 'A151401', 'A151402', 'A1515', 'A151501', 'A151502', 'A1516', 'A151601', 'A151602', 'A1517', 'A151701', 'A151702', 'A1601001', 'A1601002', 'A1601011', 'A1601012', 'A1601021', 'A1601022', 'A1601031', 'A1601032', 'A1601041', 'A1601042', 'A1601051', 'A1601052', 'A1601061', 'A1601062', 'A1601071', 'A1601072', 'A1601081', 'A1601082', 'A1601091', 'A1601092', 'A1601101', 'A1601102', 'A1601111', 'A1601112', 'A1601121', 'A1601122', 'A1601131', 'A1601132', 'A1601141', 'A1601142', 'A1601151', 'A1601152', 'A1602001', 'A1602002', 'A1602021', 'A1602022', 'A1602031', 'A1602032', 'A1602041', 'A1602042', 'A1602051', 'A1602052', 'A1602061', 'A1602062', 'A1602071', 'A1602072', 'A1602081', 'A1602082', 'A1602091', 'A1602092', 'A1602101', 'A1602102', 'A1602111', 'A1602112', 'A1602121', 'A1602122', 'A1602131', 'A1602132', 'A1602141', 'A1602142', 'A1602151', 'A1602152', 'A1603001', 'A1603002', 'A1603031', 'A1603032', 'A1603041', 'A1603042', 'A1603051', 'A1603052', 'A1603061', 'A1603062', 'A1603071', 'A1603072', 'A1603081', 'A1603082', 'A1603091', 'A1603092', 'A1603101', 'A1603102', 'A1603111', 'A1603112', 'A1603121', 'A1603122', 'A1603131', 'A1603132', 'A1603141', 'A1603142', 'A1603151', 'A1603152', 'A1603201', 'A1603202', 'A1604001', 'A1604002', 'A1604011', 'A1604012', 'A1604021', 'A1604022', 'A1604031', 'A1604032', 'A1604041', 'A1604042', 'A1604051', 'A1604052', 'A1604061', 'A1604062', 'A1604071', 'A1604072', 'A1604081', 'A1604082', 'A1604091', 'A1604092', 'A1604101', 'A1604102', 'A1604111', 'A1604112', 'A1604121', 'A1604122', 'A1604131', 'A1604132', 'A1604141', 'A1604142', 'A1604151', 'A1604152', 'A1604201', 'A1604202', 'A1604301', 'A1604302', 'A161001', 'A1700', 'A170001', 'A170002', 'A1701', 'A170101', 'A170102', 'A1702', 'A170201', 'A170202', 'A1703', 'A170301', 'A170302', 'A1706', 'A170601', 'A170602', 'A1707', 'A170701', 'A170702', 'A1801', 'A180101', 'A180102', 'A1802', 'A191001', 'A191002', 'A191003', 'A191004', 'A191005', 'A191006', 'A2101', 'A210101', 'A210102', 'A2102', 'A2201', 'A2301', 'A3100', 'A3101', 'A310101', 'A310102', 'A310103', 'A310105', 'A3102', 'A310201', 'A3103', 'A310301', 'A3104', 'A310401', 'A310402', 'A3200', 'A3201', 'A320101', 'A320102', 'A320103', 'A320104', 'A3202', 'A3203', 'A3204', 'A4101', 'A410101', 'A410102', 'A410201', 'A410202', 'A410203', 'A410204', 'A410205', 'A410206', 'A410207', 'A410208', 'A410209', 'A4103', 'A4200', 'A420001', 'A420002', 'A4201', 'A420101', 'A420102', 'A4202', 'A420201', 'A420202', 'A4203', 'A420301', 'A420302', 'A4204', 'A420401', 'A420402', 'A4205', 'A420501', 'A420502', 'A4206', 'A420601', 'A420602', 'A4207', 'A420701', 'A420702', 'A4208', 'A420801', 'A420802', 'A4209', 'A420901', 'A420902', 'A4210', 'A421001', 'A421002', 'A4211', 'A421101', 'A421102', 'A4212', 'A421201', 'A421202', 'A4213', 'A421301', 'A421302', 'A4214', 'A421401', 'A421402', 'A4215', 'A421501', 'A421502', 'A4216', 'A421601', 'A421602', 'A4217', 'A421701', 'A421702', 'A4218', 'A421801', 'A421802', 'A4219', 'A421901', 'A421902', 'A4220', 'A422001', 'A422002', 'A4221', 'A422101', 'A422102', 'A4231', 'A423101', 'A423102', 'A424001', 'A424002', 'A4270', 'A427001', 'A4271', 'A4272', 'A4280', 'A4281', 'A4301', 'A5101', 'A510101', 'A510102', 'A5102', 'A510201', 'A510202', 'A5103', 'A510301', 'A510302', 'A5104', 'A510401', 'A510402', 'A5201', 'A520101', 'A520102', 'A5202', 'A520201', 'A520202', 'A5301', 'A6101', 'A610101', 'A610102', 'A6102', 'A610201', 'A610202', 'A6103', 'A610301', 'A610302', 'A6104', 'A610401', 'A610402', 'A6105', 'A610501', 'A610502', 'A6106', 'A610601', 'A610602', 'A6107', 'A610701', 'A610702', 'A6108', 'A7101', 'A710101', 'A710102', 'A710201', 'A710202', 'A710211', 'A7103', 'A810101', 'A810102', 'A810103', 'A810104', 'A810105', 'A8111', 'A811101', 'A811102', 'A811103', 'A811104', 'A811105', 'A8112', 'A811201', 'A811202', 'A811203', 'A811204', 'A811205', 'A8201', 'A8202', 'A8301', 'A830101', 'A830102', 'A8303', 'A830301', 'A830302', 'A8401', 'A840101', 'A840102', 'A840103', 'A840201', 'A840202', 'A840203', 'A840204', 'A840205', 'A8501', 'A850101', 'A850102', 'A850103', 'A850201', 'A850202', 'A850203', 'A850204', 'A850205', 'A9101', 'A9111', 'A9112', 'A9201']\n"
          ]
        }
      ]
    },
    {
      "cell_type": "markdown",
      "source": [
        "## 地域コード一覧"
      ],
      "metadata": {
        "id": "e-4vvBwxpOLs"
      }
    },
    {
      "cell_type": "markdown",
      "source": [
        "地域コード'area'のリスト一覧を作成する関数\n",
        "\n",
        "全国'00000'は除外している"
      ],
      "metadata": {
        "id": "b-1ZjOQ0iZTo"
      }
    },
    {
      "cell_type": "code",
      "source": [
        "def get_estat_area_codes(statsDataId):\n",
        "  # estat-APIのメタ情報を取得\n",
        "  meta= get_estat_meta(statsDataId)\n",
        "\n",
        "  # CLASS_OBJ\n",
        "  CLASS_OBJ = meta['GET_META_INFO']['METADATA_INF']['CLASS_INF']['CLASS_OBJ']\n",
        "\n",
        "  # 地域一覧\n",
        "  areas = next((d for d in CLASS_OBJ if d['@id'] == 'area'), None)['CLASS']\n",
        "\n",
        "  # 地域コード一覧（全国'00000'は削除）\n",
        "  area_codes = [d.get('@code') for d in areas]\n",
        "  area_codes.remove('00000')\n",
        "\n",
        "  return area_codes\n",
        "\n",
        "area_codes = get_estat_area_codes(statsDataId)\n",
        "print(area_codes)"
      ],
      "metadata": {
        "colab": {
          "base_uri": "https://localhost:8080/"
        },
        "id": "QlEWwDJAiY7x",
        "outputId": "d89586bc-50a5-4196-d264-8876aeaaed91"
      },
      "execution_count": 11,
      "outputs": [
        {
          "output_type": "stream",
          "name": "stdout",
          "text": [
            "['01000', '02000', '03000', '04000', '05000', '06000', '07000', '08000', '09000', '10000', '11000', '12000', '13000', '14000', '15000', '16000', '17000', '18000', '19000', '20000', '21000', '22000', '23000', '24000', '25000', '26000', '27000', '28000', '29000', '30000', '31000', '32000', '33000', '34000', '35000', '36000', '37000', '38000', '39000', '40000', '41000', '42000', '43000', '44000', '45000', '46000', '47000']\n"
          ]
        }
      ]
    },
    {
      "cell_type": "markdown",
      "source": [
        "# estat-APIのデータを取得"
      ],
      "metadata": {
        "id": "428I_VMlmF2R"
      }
    },
    {
      "cell_type": "markdown",
      "source": [
        "まずは、総人口のデータを取得してみる\n",
        "\n",
        "cat01に'A1101'を指定\n",
        "areaは全都道府県を指定\n",
        "\n",
        "リストを指定する場合はカンマ区切りの文字列に変換する"
      ],
      "metadata": {
        "id": "cNC90RKNlRxp"
      }
    },
    {
      "cell_type": "markdown",
      "source": [
        "## estat-APIのデータ取得"
      ],
      "metadata": {
        "id": "oGusVuj69BpJ"
      }
    },
    {
      "cell_type": "code",
      "source": [
        "params = {}\n",
        "\n",
        "params['statsDataId'] = statsDataId\n",
        "params['cdCat01'] = 'A1231'\n",
        "params['cdArea']=\",\".join(area_codes)\n",
        "\n",
        "# print (params)"
      ],
      "metadata": {
        "id": "JZlVsBxosiX2"
      },
      "execution_count": 69,
      "outputs": []
    },
    {
      "cell_type": "markdown",
      "source": [
        "estat-APIのデータを取得する関数を作成"
      ],
      "metadata": {
        "id": "Z6M6kGErq7vo"
      }
    },
    {
      "cell_type": "code",
      "source": [
        "def get_estat_data(params):\n",
        "  p = params.copy()\n",
        "\n",
        "  # appId\n",
        "  p['appId'] = ESTAT_APPID\n",
        "  \n",
        "  # url生成\n",
        "  url = 'http://api.e-stat.go.jp/rest/2.1/app/json/getStatsData?'\n",
        "  url += urllib.parse.urlencode(p)\n",
        "\n",
        "  with urllib.request.urlopen(url) as response:\n",
        "    return json.loads(response.read().decode('utf-8'))\n",
        "\n",
        "res = get_estat_data(params)\n",
        "# print(res)"
      ],
      "metadata": {
        "id": "rVZ5Nbi3rmqX"
      },
      "execution_count": 70,
      "outputs": []
    },
    {
      "cell_type": "markdown",
      "source": [
        "## pandas DataFrameに変換"
      ],
      "metadata": {
        "id": "vsjvsmWwtUph"
      }
    },
    {
      "cell_type": "markdown",
      "source": [
        "estat-APIのレスポンスからVALUEを抜き出し、DataFrameに変換する"
      ],
      "metadata": {
        "id": "nnyn9KbLujnd"
      }
    },
    {
      "cell_type": "code",
      "execution_count": 71,
      "metadata": {
        "id": "gJr_9dXGpJ05",
        "colab": {
          "base_uri": "https://localhost:8080/"
        },
        "outputId": "7a7693b4-18e0-4356-c02b-7bf1d521b539"
      },
      "outputs": [
        {
          "output_type": "stream",
          "name": "stdout",
          "text": [
            "     @tab @cat01  @area       @time @unit     $\n",
            "0   00001  A1231  01000  2010100000     歳  47.7\n",
            "1   00001  A1231  01000  2015100000     歳  49.7\n",
            "2   00001  A1231  02000  2010100000     歳  49.1\n",
            "3   00001  A1231  02000  2015100000     歳  51.4\n",
            "4   00001  A1231  03000  2010100000     歳  49.5\n",
            "..    ...    ...    ...         ...   ...   ...\n",
            "89  00001  A1231  45000  2015100000     歳  50.2\n",
            "90  00001  A1231  46000  2010100000     歳  49.0\n",
            "91  00001  A1231  46000  2015100000     歳  50.6\n",
            "92  00001  A1231  47000  2010100000     歳  40.0\n",
            "93  00001  A1231  47000  2015100000     歳  42.0\n",
            "\n",
            "[94 rows x 6 columns]\n"
          ]
        }
      ],
      "source": [
        "res = get_estat_data(params)\n",
        "\n",
        "# VALUE\n",
        "VALUE = res['GET_STATS_DATA']['STATISTICAL_DATA']['DATA_INF']['VALUE']\n",
        "\n",
        "df_value = pd.json_normalize(VALUE)\n",
        "print(df_value)"
      ]
    },
    {
      "cell_type": "markdown",
      "source": [
        "カテゴリ情報は'CLASS_OBJ'に格納されている。\n",
        "\n",
        "これもDataFrameに変換"
      ],
      "metadata": {
        "id": "b28rdDk6uszG"
      }
    },
    {
      "cell_type": "code",
      "execution_count": 72,
      "metadata": {
        "colab": {
          "base_uri": "https://localhost:8080/"
        },
        "id": "-gE-Ez1qtyIA",
        "outputId": "0be6c949-4c03-4484-cb8b-bb6a70725fd7"
      },
      "outputs": [
        {
          "output_type": "stream",
          "name": "stdout",
          "text": [
            "   @code        @name @level @unit\n",
            "0  A1231  A1231_年齢中位数      1     歳\n"
          ]
        }
      ],
      "source": [
        "# CLASS_INF\n",
        "CLASS_OBJ = res['GET_STATS_DATA']['STATISTICAL_DATA']['CLASS_INF']['CLASS_OBJ']\n",
        "\n",
        "categories = next((d for d in CLASS_OBJ if d['@id'] == 'cat01'), None)['CLASS']\n",
        "\n",
        "df_categories = pd.json_normalize(categories)\n",
        "print(df_categories)"
      ]
    },
    {
      "cell_type": "markdown",
      "source": [
        "統計表情報は'TABLE_INF'に格納されている"
      ],
      "metadata": {
        "id": "oJgd5FHcMO0j"
      }
    },
    {
      "cell_type": "code",
      "source": [
        "# TABLE_INF\n",
        "TABLE_INF = res['GET_STATS_DATA']['STATISTICAL_DATA']['TABLE_INF']\n",
        "\n",
        "statDataId = TABLE_INF['@id']\n",
        "statDataName = TABLE_INF['STAT_NAME']['$']\n",
        "\n",
        "print(statDataId,statDataName)"
      ],
      "metadata": {
        "colab": {
          "base_uri": "https://localhost:8080/"
        },
        "id": "Cz3ddmwmMc9h",
        "outputId": "f420b448-4645-4371-9970-9e770cae12a3"
      },
      "execution_count": 73,
      "outputs": [
        {
          "output_type": "stream",
          "name": "stdout",
          "text": [
            "0000010101 社会・人口統計体系\n"
          ]
        }
      ]
    },
    {
      "cell_type": "markdown",
      "source": [
        "estat-APIのレスポンスをひとつのDataFrameにまとめる関数を作成"
      ],
      "metadata": {
        "id": "7e9mUi68yWK-"
      }
    },
    {
      "cell_type": "code",
      "source": [
        "def conv_estat_response_to_dataframe(response):\n",
        "  # CLASS_INF\n",
        "  CLASS_OBJ = response['GET_STATS_DATA']['STATISTICAL_DATA']['CLASS_INF']['CLASS_OBJ']\n",
        "\n",
        "  # TABLE_INF\n",
        "  TABLE_INF = response['GET_STATS_DATA']['STATISTICAL_DATA']['TABLE_INF']\n",
        "\n",
        "  # VALUE\n",
        "  VALUE = response['GET_STATS_DATA']['STATISTICAL_DATA']['DATA_INF']['VALUE']\n",
        "\n",
        "  # VALUEをDataFrameに変換\n",
        "  df_res = pd.json_normalize(VALUE)\n",
        "\n",
        "  # CLASS_OBJのDataFrameを結合\n",
        "  for d in CLASS_OBJ :\n",
        "    # DataFrameに変換 '@code','@name'だけ抽出\n",
        "    df_class = pd.json_normalize(d['CLASS']) \n",
        "    df_class = df_class.copy()[['@code','@name']]\n",
        "\n",
        "    # @codeをキー名に変更 @nameをキー名＋'_name'に変更\n",
        "    key_name = '@{}'.format(d['@id'])\n",
        "    df_class = df_class.rename(columns={'@code':key_name,'@name': key_name+'_name'})\n",
        "\n",
        "    # DataFrameを結合\n",
        "    df_res = pd.merge(df_res, df_class, on=key_name, how='outer')\n",
        "\n",
        "  # 統計情報を追加\n",
        "  df_res['statsDataId'] = TABLE_INF['@id']\n",
        "  df_res['statsDataName'] = TABLE_INF['STAT_NAME']['$']\n",
        "  \n",
        "  return df_res\n",
        "\n",
        "df_org = conv_estat_response_to_dataframe(res)\n",
        "df_org"
      ],
      "metadata": {
        "id": "G2fDbCR52s6c"
      },
      "execution_count": null,
      "outputs": []
    },
    {
      "cell_type": "markdown",
      "source": [
        "## DataFrameの整形"
      ],
      "metadata": {
        "id": "QFQOKjhk5A3G"
      }
    },
    {
      "cell_type": "markdown",
      "source": [
        "使い勝手が良くなるように、DataFrameを整形していく"
      ],
      "metadata": {
        "id": "sYv6ZrYx5GXM"
      }
    },
    {
      "cell_type": "markdown",
      "source": [
        "必要な列だけ抽出する"
      ],
      "metadata": {
        "id": "BnphK2pW59wj"
      }
    },
    {
      "cell_type": "code",
      "source": [
        "df_1 = df_org[['statsDataId','statsDataName','@cat01','@cat01_name','@time','@time_name','@area','@area_name','$','@unit']]\n",
        "\n",
        "# print(df_1)"
      ],
      "metadata": {
        "id": "ERAP73eK6BOj"
      },
      "execution_count": 18,
      "outputs": []
    },
    {
      "cell_type": "markdown",
      "source": [
        "列名を変更する"
      ],
      "metadata": {
        "id": "WSM3qXlm5Yyb"
      }
    },
    {
      "cell_type": "code",
      "source": [
        "columns = {'@cat01':'categoryCode','@cat01_name':'categoryName','@time':'timeCode','@time_name':'timeName','@area':'areaCode','@area_name':'areaName','$':'value','@unit':'unit'}\n",
        "df_1 = df_1.rename(columns=columns)\n",
        "\n",
        "# print(df_1)"
      ],
      "metadata": {
        "id": "5XJg_gDK5h67"
      },
      "execution_count": 19,
      "outputs": []
    },
    {
      "cell_type": "markdown",
      "source": [
        "欠損値が含まれる行を削除する"
      ],
      "metadata": {
        "id": "JkJfjQn-71Y6"
      }
    },
    {
      "cell_type": "code",
      "source": [
        "df_1 = df_1.dropna()\n",
        "\n",
        "# print(df_1)"
      ],
      "metadata": {
        "id": "Gyi7CMMR75dD"
      },
      "execution_count": 20,
      "outputs": []
    },
    {
      "cell_type": "markdown",
      "source": [
        "categoryNameから不要な情報（categoryCode）を削除する"
      ],
      "metadata": {
        "id": "Kuzz-u0U8fcJ"
      }
    },
    {
      "cell_type": "code",
      "source": [
        "df_1['categoryName'] = df_1.apply(lambda x: x['categoryName'].replace(x['categoryCode']+'_', ''), 1)\n",
        "\n",
        "# print(df_1)"
      ],
      "metadata": {
        "id": "CJJ4P6sA8eVM"
      },
      "execution_count": 21,
      "outputs": []
    },
    {
      "cell_type": "markdown",
      "source": [
        "timeCodeを4桁文字列に置換する"
      ],
      "metadata": {
        "id": "YjBc_Lqu9HGy"
      }
    },
    {
      "cell_type": "code",
      "source": [
        "df_1['timeCode'] = df_1.apply(lambda x: x['timeCode'][:4], 1)\n",
        "\n",
        "# print(df_1)"
      ],
      "metadata": {
        "id": "9kIlxFpP-Xc2"
      },
      "execution_count": 22,
      "outputs": []
    },
    {
      "cell_type": "markdown",
      "source": [
        "ここまでを関数にまとめる"
      ],
      "metadata": {
        "id": "3gtuH94jwxmM"
      }
    },
    {
      "cell_type": "code",
      "source": [
        "def  format_estat_dataframe(df_arg):\n",
        "  # 必要な列だけ抽出\n",
        "  df_res =  df_arg[['statsDataId','statsDataName','@cat01','@cat01_name','@time','@time_name','@area','@area_name','$','@unit']]\n",
        "\n",
        "  # 列名の変更\n",
        "  columns = {'@cat01':'categoryCode','@cat01_name':'categoryName','@time':'timeCode','@time_name':'timeName','@area':'areaCode','@area_name':'areaName','$':'value','@unit':'unit'}\n",
        "  df_res = df_res.rename(columns=columns)\n",
        "\n",
        "  # 欠損データ削除\n",
        "  df_res = df_res.dropna()\n",
        "\n",
        "  # categoryNameから不要な情報（categoryCode）を削除\n",
        "  df_res['categoryName'] = df_res.apply(lambda x: x['categoryName'].replace(x['categoryCode']+'_', ''), 1)\n",
        "\n",
        "  # timeCodeを文字列4桁に置換\n",
        "  df_res['timeCode'] = df_res.apply(lambda x: x['timeCode'][:4], 1)\n",
        "\n",
        "  return df_res\n",
        "\n",
        "df_fmt = format_estat_dataframe(df_org)\n",
        "df_fmt"
      ],
      "metadata": {
        "id": "_GZiTva3PYBQ",
        "colab": {
          "base_uri": "https://localhost:8080/",
          "height": 659
        },
        "outputId": "1f8227bc-1f38-4a54-d9df-2ff306482156"
      },
      "execution_count": 76,
      "outputs": [
        {
          "output_type": "execute_result",
          "data": {
            "text/plain": [
              "   statsDataId statsDataName categoryCode categoryName timeCode timeName  \\\n",
              "0   0000010101     社会・人口統計体系        A1231        年齢中位数     2010   2010年度   \n",
              "1   0000010101     社会・人口統計体系        A1231        年齢中位数     2010   2010年度   \n",
              "2   0000010101     社会・人口統計体系        A1231        年齢中位数     2010   2010年度   \n",
              "3   0000010101     社会・人口統計体系        A1231        年齢中位数     2010   2010年度   \n",
              "4   0000010101     社会・人口統計体系        A1231        年齢中位数     2010   2010年度   \n",
              "..         ...           ...          ...          ...      ...      ...   \n",
              "89  0000010101     社会・人口統計体系        A1231        年齢中位数     2015   2015年度   \n",
              "90  0000010101     社会・人口統計体系        A1231        年齢中位数     2015   2015年度   \n",
              "91  0000010101     社会・人口統計体系        A1231        年齢中位数     2015   2015年度   \n",
              "92  0000010101     社会・人口統計体系        A1231        年齢中位数     2015   2015年度   \n",
              "93  0000010101     社会・人口統計体系        A1231        年齢中位数     2015   2015年度   \n",
              "\n",
              "   areaCode areaName value unit  \n",
              "0     01000      北海道  47.7    歳  \n",
              "1     02000      青森県  49.1    歳  \n",
              "2     03000      岩手県  49.5    歳  \n",
              "3     04000      宮城県  44.8    歳  \n",
              "4     05000      秋田県  52.4    歳  \n",
              "..      ...      ...   ...  ...  \n",
              "89    43000      熊本県  49.0    歳  \n",
              "90    44000      大分県  50.2    歳  \n",
              "91    45000      宮崎県  50.2    歳  \n",
              "92    46000     鹿児島県  50.6    歳  \n",
              "93    47000      沖縄県  42.0    歳  \n",
              "\n",
              "[94 rows x 10 columns]"
            ],
            "text/html": [
              "\n",
              "  <div id=\"df-dab13146-4c63-4e4f-957f-9fc23ee3fe77\">\n",
              "    <div class=\"colab-df-container\">\n",
              "      <div>\n",
              "<style scoped>\n",
              "    .dataframe tbody tr th:only-of-type {\n",
              "        vertical-align: middle;\n",
              "    }\n",
              "\n",
              "    .dataframe tbody tr th {\n",
              "        vertical-align: top;\n",
              "    }\n",
              "\n",
              "    .dataframe thead th {\n",
              "        text-align: right;\n",
              "    }\n",
              "</style>\n",
              "<table border=\"1\" class=\"dataframe\">\n",
              "  <thead>\n",
              "    <tr style=\"text-align: right;\">\n",
              "      <th></th>\n",
              "      <th>statsDataId</th>\n",
              "      <th>statsDataName</th>\n",
              "      <th>categoryCode</th>\n",
              "      <th>categoryName</th>\n",
              "      <th>timeCode</th>\n",
              "      <th>timeName</th>\n",
              "      <th>areaCode</th>\n",
              "      <th>areaName</th>\n",
              "      <th>value</th>\n",
              "      <th>unit</th>\n",
              "    </tr>\n",
              "  </thead>\n",
              "  <tbody>\n",
              "    <tr>\n",
              "      <th>0</th>\n",
              "      <td>0000010101</td>\n",
              "      <td>社会・人口統計体系</td>\n",
              "      <td>A1231</td>\n",
              "      <td>年齢中位数</td>\n",
              "      <td>2010</td>\n",
              "      <td>2010年度</td>\n",
              "      <td>01000</td>\n",
              "      <td>北海道</td>\n",
              "      <td>47.7</td>\n",
              "      <td>歳</td>\n",
              "    </tr>\n",
              "    <tr>\n",
              "      <th>1</th>\n",
              "      <td>0000010101</td>\n",
              "      <td>社会・人口統計体系</td>\n",
              "      <td>A1231</td>\n",
              "      <td>年齢中位数</td>\n",
              "      <td>2010</td>\n",
              "      <td>2010年度</td>\n",
              "      <td>02000</td>\n",
              "      <td>青森県</td>\n",
              "      <td>49.1</td>\n",
              "      <td>歳</td>\n",
              "    </tr>\n",
              "    <tr>\n",
              "      <th>2</th>\n",
              "      <td>0000010101</td>\n",
              "      <td>社会・人口統計体系</td>\n",
              "      <td>A1231</td>\n",
              "      <td>年齢中位数</td>\n",
              "      <td>2010</td>\n",
              "      <td>2010年度</td>\n",
              "      <td>03000</td>\n",
              "      <td>岩手県</td>\n",
              "      <td>49.5</td>\n",
              "      <td>歳</td>\n",
              "    </tr>\n",
              "    <tr>\n",
              "      <th>3</th>\n",
              "      <td>0000010101</td>\n",
              "      <td>社会・人口統計体系</td>\n",
              "      <td>A1231</td>\n",
              "      <td>年齢中位数</td>\n",
              "      <td>2010</td>\n",
              "      <td>2010年度</td>\n",
              "      <td>04000</td>\n",
              "      <td>宮城県</td>\n",
              "      <td>44.8</td>\n",
              "      <td>歳</td>\n",
              "    </tr>\n",
              "    <tr>\n",
              "      <th>4</th>\n",
              "      <td>0000010101</td>\n",
              "      <td>社会・人口統計体系</td>\n",
              "      <td>A1231</td>\n",
              "      <td>年齢中位数</td>\n",
              "      <td>2010</td>\n",
              "      <td>2010年度</td>\n",
              "      <td>05000</td>\n",
              "      <td>秋田県</td>\n",
              "      <td>52.4</td>\n",
              "      <td>歳</td>\n",
              "    </tr>\n",
              "    <tr>\n",
              "      <th>...</th>\n",
              "      <td>...</td>\n",
              "      <td>...</td>\n",
              "      <td>...</td>\n",
              "      <td>...</td>\n",
              "      <td>...</td>\n",
              "      <td>...</td>\n",
              "      <td>...</td>\n",
              "      <td>...</td>\n",
              "      <td>...</td>\n",
              "      <td>...</td>\n",
              "    </tr>\n",
              "    <tr>\n",
              "      <th>89</th>\n",
              "      <td>0000010101</td>\n",
              "      <td>社会・人口統計体系</td>\n",
              "      <td>A1231</td>\n",
              "      <td>年齢中位数</td>\n",
              "      <td>2015</td>\n",
              "      <td>2015年度</td>\n",
              "      <td>43000</td>\n",
              "      <td>熊本県</td>\n",
              "      <td>49.0</td>\n",
              "      <td>歳</td>\n",
              "    </tr>\n",
              "    <tr>\n",
              "      <th>90</th>\n",
              "      <td>0000010101</td>\n",
              "      <td>社会・人口統計体系</td>\n",
              "      <td>A1231</td>\n",
              "      <td>年齢中位数</td>\n",
              "      <td>2015</td>\n",
              "      <td>2015年度</td>\n",
              "      <td>44000</td>\n",
              "      <td>大分県</td>\n",
              "      <td>50.2</td>\n",
              "      <td>歳</td>\n",
              "    </tr>\n",
              "    <tr>\n",
              "      <th>91</th>\n",
              "      <td>0000010101</td>\n",
              "      <td>社会・人口統計体系</td>\n",
              "      <td>A1231</td>\n",
              "      <td>年齢中位数</td>\n",
              "      <td>2015</td>\n",
              "      <td>2015年度</td>\n",
              "      <td>45000</td>\n",
              "      <td>宮崎県</td>\n",
              "      <td>50.2</td>\n",
              "      <td>歳</td>\n",
              "    </tr>\n",
              "    <tr>\n",
              "      <th>92</th>\n",
              "      <td>0000010101</td>\n",
              "      <td>社会・人口統計体系</td>\n",
              "      <td>A1231</td>\n",
              "      <td>年齢中位数</td>\n",
              "      <td>2015</td>\n",
              "      <td>2015年度</td>\n",
              "      <td>46000</td>\n",
              "      <td>鹿児島県</td>\n",
              "      <td>50.6</td>\n",
              "      <td>歳</td>\n",
              "    </tr>\n",
              "    <tr>\n",
              "      <th>93</th>\n",
              "      <td>0000010101</td>\n",
              "      <td>社会・人口統計体系</td>\n",
              "      <td>A1231</td>\n",
              "      <td>年齢中位数</td>\n",
              "      <td>2015</td>\n",
              "      <td>2015年度</td>\n",
              "      <td>47000</td>\n",
              "      <td>沖縄県</td>\n",
              "      <td>42.0</td>\n",
              "      <td>歳</td>\n",
              "    </tr>\n",
              "  </tbody>\n",
              "</table>\n",
              "<p>94 rows × 10 columns</p>\n",
              "</div>\n",
              "      <button class=\"colab-df-convert\" onclick=\"convertToInteractive('df-dab13146-4c63-4e4f-957f-9fc23ee3fe77')\"\n",
              "              title=\"Convert this dataframe to an interactive table.\"\n",
              "              style=\"display:none;\">\n",
              "        \n",
              "  <svg xmlns=\"http://www.w3.org/2000/svg\" height=\"24px\"viewBox=\"0 0 24 24\"\n",
              "       width=\"24px\">\n",
              "    <path d=\"M0 0h24v24H0V0z\" fill=\"none\"/>\n",
              "    <path d=\"M18.56 5.44l.94 2.06.94-2.06 2.06-.94-2.06-.94-.94-2.06-.94 2.06-2.06.94zm-11 1L8.5 8.5l.94-2.06 2.06-.94-2.06-.94L8.5 2.5l-.94 2.06-2.06.94zm10 10l.94 2.06.94-2.06 2.06-.94-2.06-.94-.94-2.06-.94 2.06-2.06.94z\"/><path d=\"M17.41 7.96l-1.37-1.37c-.4-.4-.92-.59-1.43-.59-.52 0-1.04.2-1.43.59L10.3 9.45l-7.72 7.72c-.78.78-.78 2.05 0 2.83L4 21.41c.39.39.9.59 1.41.59.51 0 1.02-.2 1.41-.59l7.78-7.78 2.81-2.81c.8-.78.8-2.07 0-2.86zM5.41 20L4 18.59l7.72-7.72 1.47 1.35L5.41 20z\"/>\n",
              "  </svg>\n",
              "      </button>\n",
              "      \n",
              "  <style>\n",
              "    .colab-df-container {\n",
              "      display:flex;\n",
              "      flex-wrap:wrap;\n",
              "      gap: 12px;\n",
              "    }\n",
              "\n",
              "    .colab-df-convert {\n",
              "      background-color: #E8F0FE;\n",
              "      border: none;\n",
              "      border-radius: 50%;\n",
              "      cursor: pointer;\n",
              "      display: none;\n",
              "      fill: #1967D2;\n",
              "      height: 32px;\n",
              "      padding: 0 0 0 0;\n",
              "      width: 32px;\n",
              "    }\n",
              "\n",
              "    .colab-df-convert:hover {\n",
              "      background-color: #E2EBFA;\n",
              "      box-shadow: 0px 1px 2px rgba(60, 64, 67, 0.3), 0px 1px 3px 1px rgba(60, 64, 67, 0.15);\n",
              "      fill: #174EA6;\n",
              "    }\n",
              "\n",
              "    [theme=dark] .colab-df-convert {\n",
              "      background-color: #3B4455;\n",
              "      fill: #D2E3FC;\n",
              "    }\n",
              "\n",
              "    [theme=dark] .colab-df-convert:hover {\n",
              "      background-color: #434B5C;\n",
              "      box-shadow: 0px 1px 3px 1px rgba(0, 0, 0, 0.15);\n",
              "      filter: drop-shadow(0px 1px 2px rgba(0, 0, 0, 0.3));\n",
              "      fill: #FFFFFF;\n",
              "    }\n",
              "  </style>\n",
              "\n",
              "      <script>\n",
              "        const buttonEl =\n",
              "          document.querySelector('#df-dab13146-4c63-4e4f-957f-9fc23ee3fe77 button.colab-df-convert');\n",
              "        buttonEl.style.display =\n",
              "          google.colab.kernel.accessAllowed ? 'block' : 'none';\n",
              "\n",
              "        async function convertToInteractive(key) {\n",
              "          const element = document.querySelector('#df-dab13146-4c63-4e4f-957f-9fc23ee3fe77');\n",
              "          const dataTable =\n",
              "            await google.colab.kernel.invokeFunction('convertToInteractive',\n",
              "                                                     [key], {});\n",
              "          if (!dataTable) return;\n",
              "\n",
              "          const docLinkHtml = 'Like what you see? Visit the ' +\n",
              "            '<a target=\"_blank\" href=https://colab.research.google.com/notebooks/data_table.ipynb>data table notebook</a>'\n",
              "            + ' to learn more about interactive tables.';\n",
              "          element.innerHTML = '';\n",
              "          dataTable['output_type'] = 'display_data';\n",
              "          await google.colab.output.renderOutput(dataTable, element);\n",
              "          const docLink = document.createElement('div');\n",
              "          docLink.innerHTML = docLinkHtml;\n",
              "          element.appendChild(docLink);\n",
              "        }\n",
              "      </script>\n",
              "    </div>\n",
              "  </div>\n",
              "  "
            ]
          },
          "metadata": {},
          "execution_count": 76
        }
      ]
    },
    {
      "cell_type": "markdown",
      "source": [
        "## 順位を付与する"
      ],
      "metadata": {
        "id": "zgY9vuIxlHJh"
      }
    },
    {
      "cell_type": "markdown",
      "source": [
        "年度ごとに順位を付与"
      ],
      "metadata": {
        "id": "WGe67gWk0F6Y"
      }
    },
    {
      "cell_type": "code",
      "source": [
        "def format_estat_dataframe_withrank(df_arg):\n",
        "\n",
        "  # 年度リストを作成\n",
        "  times = df_arg['timeCode'].tolist()\n",
        "  times = list(set(times))\n",
        "\n",
        "  # 返却するDataFrameの定義\n",
        "  df_res = pd.DataFrame(index=[], columns=[])\n",
        "\n",
        "  # 年度毎に順位を付与\n",
        "  for time in times:\n",
        "\n",
        "    # 単年度のdataを抽出\n",
        "    df_time = df_arg.copy()[df_arg['timeCode'] == time]\n",
        "\n",
        "    # valueを数値に変換して、'rank'を付与\n",
        "    df_time = df_time.astype({'value': float})\n",
        "    df_time['rank'] = df_time.rank(ascending=False)['value'].astype(int).astype(str)\n",
        "\n",
        "    # 結合\n",
        "    df_res = pd.concat([df_res, df_time])\n",
        "\n",
        "  return df_res\n",
        "\n",
        "df_last = format_estat_dataframe_withrank(df_fmt)\n",
        "df_last"
      ],
      "metadata": {
        "colab": {
          "base_uri": "https://localhost:8080/",
          "height": 659
        },
        "id": "S1UBjVPCzjA9",
        "outputId": "573d58e4-a4f8-4b2a-8302-4460083d8f28"
      },
      "execution_count": 78,
      "outputs": [
        {
          "output_type": "execute_result",
          "data": {
            "text/plain": [
              "   statsDataId statsDataName categoryCode categoryName timeCode timeName  \\\n",
              "47  0000010101     社会・人口統計体系        A1231        年齢中位数     2015   2015年度   \n",
              "48  0000010101     社会・人口統計体系        A1231        年齢中位数     2015   2015年度   \n",
              "49  0000010101     社会・人口統計体系        A1231        年齢中位数     2015   2015年度   \n",
              "50  0000010101     社会・人口統計体系        A1231        年齢中位数     2015   2015年度   \n",
              "51  0000010101     社会・人口統計体系        A1231        年齢中位数     2015   2015年度   \n",
              "..         ...           ...          ...          ...      ...      ...   \n",
              "42  0000010101     社会・人口統計体系        A1231        年齢中位数     2010   2010年度   \n",
              "43  0000010101     社会・人口統計体系        A1231        年齢中位数     2010   2010年度   \n",
              "44  0000010101     社会・人口統計体系        A1231        年齢中位数     2010   2010年度   \n",
              "45  0000010101     社会・人口統計体系        A1231        年齢中位数     2010   2010年度   \n",
              "46  0000010101     社会・人口統計体系        A1231        年齢中位数     2010   2010年度   \n",
              "\n",
              "   areaCode areaName  value unit rank  \n",
              "47    01000      北海道   49.7    歳   18  \n",
              "48    02000      青森県   51.4    歳    5  \n",
              "49    03000      岩手県   51.3    歳    6  \n",
              "50    04000      宮城県   46.7    歳   37  \n",
              "51    05000      秋田県   54.8    歳    1  \n",
              "..      ...      ...    ...  ...  ...  \n",
              "42    43000      熊本県   47.8    歳   19  \n",
              "43    44000      大分県   48.8    歳   13  \n",
              "44    45000      宮崎県   48.6    歳   15  \n",
              "45    46000     鹿児島県   49.0    歳   10  \n",
              "46    47000      沖縄県   40.0    歳   47  \n",
              "\n",
              "[94 rows x 11 columns]"
            ],
            "text/html": [
              "\n",
              "  <div id=\"df-c6087808-7e39-46a7-8def-3b1374597288\">\n",
              "    <div class=\"colab-df-container\">\n",
              "      <div>\n",
              "<style scoped>\n",
              "    .dataframe tbody tr th:only-of-type {\n",
              "        vertical-align: middle;\n",
              "    }\n",
              "\n",
              "    .dataframe tbody tr th {\n",
              "        vertical-align: top;\n",
              "    }\n",
              "\n",
              "    .dataframe thead th {\n",
              "        text-align: right;\n",
              "    }\n",
              "</style>\n",
              "<table border=\"1\" class=\"dataframe\">\n",
              "  <thead>\n",
              "    <tr style=\"text-align: right;\">\n",
              "      <th></th>\n",
              "      <th>statsDataId</th>\n",
              "      <th>statsDataName</th>\n",
              "      <th>categoryCode</th>\n",
              "      <th>categoryName</th>\n",
              "      <th>timeCode</th>\n",
              "      <th>timeName</th>\n",
              "      <th>areaCode</th>\n",
              "      <th>areaName</th>\n",
              "      <th>value</th>\n",
              "      <th>unit</th>\n",
              "      <th>rank</th>\n",
              "    </tr>\n",
              "  </thead>\n",
              "  <tbody>\n",
              "    <tr>\n",
              "      <th>47</th>\n",
              "      <td>0000010101</td>\n",
              "      <td>社会・人口統計体系</td>\n",
              "      <td>A1231</td>\n",
              "      <td>年齢中位数</td>\n",
              "      <td>2015</td>\n",
              "      <td>2015年度</td>\n",
              "      <td>01000</td>\n",
              "      <td>北海道</td>\n",
              "      <td>49.7</td>\n",
              "      <td>歳</td>\n",
              "      <td>18</td>\n",
              "    </tr>\n",
              "    <tr>\n",
              "      <th>48</th>\n",
              "      <td>0000010101</td>\n",
              "      <td>社会・人口統計体系</td>\n",
              "      <td>A1231</td>\n",
              "      <td>年齢中位数</td>\n",
              "      <td>2015</td>\n",
              "      <td>2015年度</td>\n",
              "      <td>02000</td>\n",
              "      <td>青森県</td>\n",
              "      <td>51.4</td>\n",
              "      <td>歳</td>\n",
              "      <td>5</td>\n",
              "    </tr>\n",
              "    <tr>\n",
              "      <th>49</th>\n",
              "      <td>0000010101</td>\n",
              "      <td>社会・人口統計体系</td>\n",
              "      <td>A1231</td>\n",
              "      <td>年齢中位数</td>\n",
              "      <td>2015</td>\n",
              "      <td>2015年度</td>\n",
              "      <td>03000</td>\n",
              "      <td>岩手県</td>\n",
              "      <td>51.3</td>\n",
              "      <td>歳</td>\n",
              "      <td>6</td>\n",
              "    </tr>\n",
              "    <tr>\n",
              "      <th>50</th>\n",
              "      <td>0000010101</td>\n",
              "      <td>社会・人口統計体系</td>\n",
              "      <td>A1231</td>\n",
              "      <td>年齢中位数</td>\n",
              "      <td>2015</td>\n",
              "      <td>2015年度</td>\n",
              "      <td>04000</td>\n",
              "      <td>宮城県</td>\n",
              "      <td>46.7</td>\n",
              "      <td>歳</td>\n",
              "      <td>37</td>\n",
              "    </tr>\n",
              "    <tr>\n",
              "      <th>51</th>\n",
              "      <td>0000010101</td>\n",
              "      <td>社会・人口統計体系</td>\n",
              "      <td>A1231</td>\n",
              "      <td>年齢中位数</td>\n",
              "      <td>2015</td>\n",
              "      <td>2015年度</td>\n",
              "      <td>05000</td>\n",
              "      <td>秋田県</td>\n",
              "      <td>54.8</td>\n",
              "      <td>歳</td>\n",
              "      <td>1</td>\n",
              "    </tr>\n",
              "    <tr>\n",
              "      <th>...</th>\n",
              "      <td>...</td>\n",
              "      <td>...</td>\n",
              "      <td>...</td>\n",
              "      <td>...</td>\n",
              "      <td>...</td>\n",
              "      <td>...</td>\n",
              "      <td>...</td>\n",
              "      <td>...</td>\n",
              "      <td>...</td>\n",
              "      <td>...</td>\n",
              "      <td>...</td>\n",
              "    </tr>\n",
              "    <tr>\n",
              "      <th>42</th>\n",
              "      <td>0000010101</td>\n",
              "      <td>社会・人口統計体系</td>\n",
              "      <td>A1231</td>\n",
              "      <td>年齢中位数</td>\n",
              "      <td>2010</td>\n",
              "      <td>2010年度</td>\n",
              "      <td>43000</td>\n",
              "      <td>熊本県</td>\n",
              "      <td>47.8</td>\n",
              "      <td>歳</td>\n",
              "      <td>19</td>\n",
              "    </tr>\n",
              "    <tr>\n",
              "      <th>43</th>\n",
              "      <td>0000010101</td>\n",
              "      <td>社会・人口統計体系</td>\n",
              "      <td>A1231</td>\n",
              "      <td>年齢中位数</td>\n",
              "      <td>2010</td>\n",
              "      <td>2010年度</td>\n",
              "      <td>44000</td>\n",
              "      <td>大分県</td>\n",
              "      <td>48.8</td>\n",
              "      <td>歳</td>\n",
              "      <td>13</td>\n",
              "    </tr>\n",
              "    <tr>\n",
              "      <th>44</th>\n",
              "      <td>0000010101</td>\n",
              "      <td>社会・人口統計体系</td>\n",
              "      <td>A1231</td>\n",
              "      <td>年齢中位数</td>\n",
              "      <td>2010</td>\n",
              "      <td>2010年度</td>\n",
              "      <td>45000</td>\n",
              "      <td>宮崎県</td>\n",
              "      <td>48.6</td>\n",
              "      <td>歳</td>\n",
              "      <td>15</td>\n",
              "    </tr>\n",
              "    <tr>\n",
              "      <th>45</th>\n",
              "      <td>0000010101</td>\n",
              "      <td>社会・人口統計体系</td>\n",
              "      <td>A1231</td>\n",
              "      <td>年齢中位数</td>\n",
              "      <td>2010</td>\n",
              "      <td>2010年度</td>\n",
              "      <td>46000</td>\n",
              "      <td>鹿児島県</td>\n",
              "      <td>49.0</td>\n",
              "      <td>歳</td>\n",
              "      <td>10</td>\n",
              "    </tr>\n",
              "    <tr>\n",
              "      <th>46</th>\n",
              "      <td>0000010101</td>\n",
              "      <td>社会・人口統計体系</td>\n",
              "      <td>A1231</td>\n",
              "      <td>年齢中位数</td>\n",
              "      <td>2010</td>\n",
              "      <td>2010年度</td>\n",
              "      <td>47000</td>\n",
              "      <td>沖縄県</td>\n",
              "      <td>40.0</td>\n",
              "      <td>歳</td>\n",
              "      <td>47</td>\n",
              "    </tr>\n",
              "  </tbody>\n",
              "</table>\n",
              "<p>94 rows × 11 columns</p>\n",
              "</div>\n",
              "      <button class=\"colab-df-convert\" onclick=\"convertToInteractive('df-c6087808-7e39-46a7-8def-3b1374597288')\"\n",
              "              title=\"Convert this dataframe to an interactive table.\"\n",
              "              style=\"display:none;\">\n",
              "        \n",
              "  <svg xmlns=\"http://www.w3.org/2000/svg\" height=\"24px\"viewBox=\"0 0 24 24\"\n",
              "       width=\"24px\">\n",
              "    <path d=\"M0 0h24v24H0V0z\" fill=\"none\"/>\n",
              "    <path d=\"M18.56 5.44l.94 2.06.94-2.06 2.06-.94-2.06-.94-.94-2.06-.94 2.06-2.06.94zm-11 1L8.5 8.5l.94-2.06 2.06-.94-2.06-.94L8.5 2.5l-.94 2.06-2.06.94zm10 10l.94 2.06.94-2.06 2.06-.94-2.06-.94-.94-2.06-.94 2.06-2.06.94z\"/><path d=\"M17.41 7.96l-1.37-1.37c-.4-.4-.92-.59-1.43-.59-.52 0-1.04.2-1.43.59L10.3 9.45l-7.72 7.72c-.78.78-.78 2.05 0 2.83L4 21.41c.39.39.9.59 1.41.59.51 0 1.02-.2 1.41-.59l7.78-7.78 2.81-2.81c.8-.78.8-2.07 0-2.86zM5.41 20L4 18.59l7.72-7.72 1.47 1.35L5.41 20z\"/>\n",
              "  </svg>\n",
              "      </button>\n",
              "      \n",
              "  <style>\n",
              "    .colab-df-container {\n",
              "      display:flex;\n",
              "      flex-wrap:wrap;\n",
              "      gap: 12px;\n",
              "    }\n",
              "\n",
              "    .colab-df-convert {\n",
              "      background-color: #E8F0FE;\n",
              "      border: none;\n",
              "      border-radius: 50%;\n",
              "      cursor: pointer;\n",
              "      display: none;\n",
              "      fill: #1967D2;\n",
              "      height: 32px;\n",
              "      padding: 0 0 0 0;\n",
              "      width: 32px;\n",
              "    }\n",
              "\n",
              "    .colab-df-convert:hover {\n",
              "      background-color: #E2EBFA;\n",
              "      box-shadow: 0px 1px 2px rgba(60, 64, 67, 0.3), 0px 1px 3px 1px rgba(60, 64, 67, 0.15);\n",
              "      fill: #174EA6;\n",
              "    }\n",
              "\n",
              "    [theme=dark] .colab-df-convert {\n",
              "      background-color: #3B4455;\n",
              "      fill: #D2E3FC;\n",
              "    }\n",
              "\n",
              "    [theme=dark] .colab-df-convert:hover {\n",
              "      background-color: #434B5C;\n",
              "      box-shadow: 0px 1px 3px 1px rgba(0, 0, 0, 0.15);\n",
              "      filter: drop-shadow(0px 1px 2px rgba(0, 0, 0, 0.3));\n",
              "      fill: #FFFFFF;\n",
              "    }\n",
              "  </style>\n",
              "\n",
              "      <script>\n",
              "        const buttonEl =\n",
              "          document.querySelector('#df-c6087808-7e39-46a7-8def-3b1374597288 button.colab-df-convert');\n",
              "        buttonEl.style.display =\n",
              "          google.colab.kernel.accessAllowed ? 'block' : 'none';\n",
              "\n",
              "        async function convertToInteractive(key) {\n",
              "          const element = document.querySelector('#df-c6087808-7e39-46a7-8def-3b1374597288');\n",
              "          const dataTable =\n",
              "            await google.colab.kernel.invokeFunction('convertToInteractive',\n",
              "                                                     [key], {});\n",
              "          if (!dataTable) return;\n",
              "\n",
              "          const docLinkHtml = 'Like what you see? Visit the ' +\n",
              "            '<a target=\"_blank\" href=https://colab.research.google.com/notebooks/data_table.ipynb>data table notebook</a>'\n",
              "            + ' to learn more about interactive tables.';\n",
              "          element.innerHTML = '';\n",
              "          dataTable['output_type'] = 'display_data';\n",
              "          await google.colab.output.renderOutput(dataTable, element);\n",
              "          const docLink = document.createElement('div');\n",
              "          docLink.innerHTML = docLinkHtml;\n",
              "          element.appendChild(docLink);\n",
              "        }\n",
              "      </script>\n",
              "    </div>\n",
              "  </div>\n",
              "  "
            ]
          },
          "metadata": {},
          "execution_count": 78
        }
      ]
    },
    {
      "cell_type": "markdown",
      "source": [
        "## まとめ"
      ],
      "metadata": {
        "id": "5AXbHV5OJAfw"
      }
    },
    {
      "cell_type": "markdown",
      "source": [
        "paramsを指定してから、順位を付与したDataFrameを取得するまでを関数にまとめる"
      ],
      "metadata": {
        "id": "ArUHZy6QQFeg"
      }
    },
    {
      "cell_type": "code",
      "source": [
        "params = {}\n",
        "\n",
        "params['statsDataId'] = statsDataId\n",
        "params['cdCat01'] = 'A1101'\n",
        "params['cdArea']=\",\".join(area_codes)"
      ],
      "metadata": {
        "id": "ovojX-y9QQaU"
      },
      "execution_count": 62,
      "outputs": []
    },
    {
      "cell_type": "code",
      "source": [
        "def get_estat_dataframe(params):\n",
        "  # estat-APIのレスポンス取得\n",
        "  res = get_estat_data(params)\n",
        "\n",
        "  # レスポンスをDataFrameに変換\n",
        "  df = conv_estat_response_to_dataframe(res)\n",
        "\n",
        "  # DataFrameを整形\n",
        "  df = format_estat_dataframe(df)\n",
        "\n",
        "  # 順位を付与\n",
        "  df = format_estat_dataframe_withrank(df)\n",
        "\n",
        "  return df\n",
        "\n",
        "df = get_estat_dataframe(params)\n",
        "# df"
      ],
      "metadata": {
        "id": "SwhlhHLQQLej"
      },
      "execution_count": 81,
      "outputs": []
    },
    {
      "cell_type": "code",
      "source": [
        "# プロジェクトの定義\n",
        "project_id='primal-buttress-342908'\n",
        "dataset_id = 'primal-buttress-342908.test'\n",
        "table_id='test3'\n",
        "\n",
        "df = get_estat_dataframe(params)\n",
        "# データフレームの内容をBigQueryのテーブルに追加\n",
        "df.to_gbq( f'{dataset_id}.{table_id}', project_id=project_id, if_exists=\"append\")"
      ],
      "metadata": {
        "id": "e1eIhW47AJ7M",
        "outputId": "53b1e8ab-531a-4e15-cfe9-57bcf737f5bf",
        "colab": {
          "base_uri": "https://localhost:8080/",
          "height": 495
        }
      },
      "execution_count": 83,
      "outputs": [
        {
          "output_type": "error",
          "ename": "TypeError",
          "evalue": "ignored",
          "traceback": [
            "\u001b[0;31m---------------------------------------------------------------------------\u001b[0m",
            "\u001b[0;31mTypeError\u001b[0m                                 Traceback (most recent call last)",
            "\u001b[0;32m<ipython-input-83-d330d0654765>\u001b[0m in \u001b[0;36m<module>\u001b[0;34m\u001b[0m\n\u001b[1;32m      6\u001b[0m \u001b[0mdf\u001b[0m \u001b[0;34m=\u001b[0m \u001b[0mget_estat_dataframe\u001b[0m\u001b[0;34m(\u001b[0m\u001b[0mparams\u001b[0m\u001b[0;34m)\u001b[0m\u001b[0;34m\u001b[0m\u001b[0;34m\u001b[0m\u001b[0m\n\u001b[1;32m      7\u001b[0m \u001b[0;31m# データフレームの内容をBigQueryのテーブルに追加\u001b[0m\u001b[0;34m\u001b[0m\u001b[0;34m\u001b[0m\u001b[0;34m\u001b[0m\u001b[0m\n\u001b[0;32m----> 8\u001b[0;31m \u001b[0mdf\u001b[0m\u001b[0;34m.\u001b[0m\u001b[0mto_gbq\u001b[0m\u001b[0;34m(\u001b[0m \u001b[0;34mf'{dataset_id}.{table_id}'\u001b[0m\u001b[0;34m,\u001b[0m \u001b[0mproject_id\u001b[0m\u001b[0;34m=\u001b[0m\u001b[0mproject_id\u001b[0m\u001b[0;34m,\u001b[0m \u001b[0mif_exists\u001b[0m\u001b[0;34m=\u001b[0m\u001b[0;34m\"append\"\u001b[0m\u001b[0;34m)\u001b[0m\u001b[0;34m\u001b[0m\u001b[0;34m\u001b[0m\u001b[0m\n\u001b[0m",
            "\u001b[0;32m/usr/local/lib/python3.7/dist-packages/pandas/core/frame.py\u001b[0m in \u001b[0;36mto_gbq\u001b[0;34m(self, destination_table, project_id, chunksize, reauth, if_exists, auth_local_webserver, table_schema, location, progress_bar, credentials)\u001b[0m\n\u001b[1;32m   1938\u001b[0m             \u001b[0mlocation\u001b[0m\u001b[0;34m=\u001b[0m\u001b[0mlocation\u001b[0m\u001b[0;34m,\u001b[0m\u001b[0;34m\u001b[0m\u001b[0;34m\u001b[0m\u001b[0m\n\u001b[1;32m   1939\u001b[0m             \u001b[0mprogress_bar\u001b[0m\u001b[0;34m=\u001b[0m\u001b[0mprogress_bar\u001b[0m\u001b[0;34m,\u001b[0m\u001b[0;34m\u001b[0m\u001b[0;34m\u001b[0m\u001b[0m\n\u001b[0;32m-> 1940\u001b[0;31m             \u001b[0mcredentials\u001b[0m\u001b[0;34m=\u001b[0m\u001b[0mcredentials\u001b[0m\u001b[0;34m,\u001b[0m\u001b[0;34m\u001b[0m\u001b[0;34m\u001b[0m\u001b[0m\n\u001b[0m\u001b[1;32m   1941\u001b[0m         )\n\u001b[1;32m   1942\u001b[0m \u001b[0;34m\u001b[0m\u001b[0m\n",
            "\u001b[0;32m/usr/local/lib/python3.7/dist-packages/pandas/io/gbq.py\u001b[0m in \u001b[0;36mto_gbq\u001b[0;34m(dataframe, destination_table, project_id, chunksize, reauth, if_exists, auth_local_webserver, table_schema, location, progress_bar, credentials)\u001b[0m\n\u001b[1;32m    209\u001b[0m     \u001b[0mcredentials\u001b[0m\u001b[0;34m=\u001b[0m\u001b[0;32mNone\u001b[0m\u001b[0;34m,\u001b[0m\u001b[0;34m\u001b[0m\u001b[0;34m\u001b[0m\u001b[0m\n\u001b[1;32m    210\u001b[0m ) -> None:\n\u001b[0;32m--> 211\u001b[0;31m     \u001b[0mpandas_gbq\u001b[0m \u001b[0;34m=\u001b[0m \u001b[0m_try_import\u001b[0m\u001b[0;34m(\u001b[0m\u001b[0;34m)\u001b[0m\u001b[0;34m\u001b[0m\u001b[0;34m\u001b[0m\u001b[0m\n\u001b[0m\u001b[1;32m    212\u001b[0m     pandas_gbq.to_gbq(\n\u001b[1;32m    213\u001b[0m         \u001b[0mdataframe\u001b[0m\u001b[0;34m,\u001b[0m\u001b[0;34m\u001b[0m\u001b[0;34m\u001b[0m\u001b[0m\n",
            "\u001b[0;32m/usr/local/lib/python3.7/dist-packages/pandas/io/gbq.py\u001b[0m in \u001b[0;36m_try_import\u001b[0;34m()\u001b[0m\n\u001b[1;32m     20\u001b[0m         \u001b[0;34m\"See the docs: https://pandas-gbq.readthedocs.io.\"\u001b[0m\u001b[0;34m\u001b[0m\u001b[0;34m\u001b[0m\u001b[0m\n\u001b[1;32m     21\u001b[0m     )\n\u001b[0;32m---> 22\u001b[0;31m     \u001b[0mpandas_gbq\u001b[0m \u001b[0;34m=\u001b[0m \u001b[0mimport_optional_dependency\u001b[0m\u001b[0;34m(\u001b[0m\u001b[0;34m\"pandas_gbq\"\u001b[0m\u001b[0;34m,\u001b[0m \u001b[0mextra\u001b[0m\u001b[0;34m=\u001b[0m\u001b[0mmsg\u001b[0m\u001b[0;34m)\u001b[0m\u001b[0;34m\u001b[0m\u001b[0;34m\u001b[0m\u001b[0m\n\u001b[0m\u001b[1;32m     23\u001b[0m     \u001b[0;32mreturn\u001b[0m \u001b[0mpandas_gbq\u001b[0m\u001b[0;34m\u001b[0m\u001b[0;34m\u001b[0m\u001b[0m\n\u001b[1;32m     24\u001b[0m \u001b[0;34m\u001b[0m\u001b[0m\n",
            "\u001b[0;32m/usr/local/lib/python3.7/dist-packages/pandas/compat/_optional.py\u001b[0m in \u001b[0;36mimport_optional_dependency\u001b[0;34m(name, extra, errors, min_version)\u001b[0m\n\u001b[1;32m    113\u001b[0m     )\n\u001b[1;32m    114\u001b[0m     \u001b[0;32mtry\u001b[0m\u001b[0;34m:\u001b[0m\u001b[0;34m\u001b[0m\u001b[0;34m\u001b[0m\u001b[0m\n\u001b[0;32m--> 115\u001b[0;31m         \u001b[0mmodule\u001b[0m \u001b[0;34m=\u001b[0m \u001b[0mimportlib\u001b[0m\u001b[0;34m.\u001b[0m\u001b[0mimport_module\u001b[0m\u001b[0;34m(\u001b[0m\u001b[0mname\u001b[0m\u001b[0;34m)\u001b[0m\u001b[0;34m\u001b[0m\u001b[0;34m\u001b[0m\u001b[0m\n\u001b[0m\u001b[1;32m    116\u001b[0m     \u001b[0;32mexcept\u001b[0m \u001b[0mImportError\u001b[0m\u001b[0;34m:\u001b[0m\u001b[0;34m\u001b[0m\u001b[0;34m\u001b[0m\u001b[0m\n\u001b[1;32m    117\u001b[0m         \u001b[0;32mif\u001b[0m \u001b[0merrors\u001b[0m \u001b[0;34m==\u001b[0m \u001b[0;34m\"raise\"\u001b[0m\u001b[0;34m:\u001b[0m\u001b[0;34m\u001b[0m\u001b[0;34m\u001b[0m\u001b[0m\n",
            "\u001b[0;32m/usr/lib/python3.7/importlib/__init__.py\u001b[0m in \u001b[0;36mimport_module\u001b[0;34m(name, package)\u001b[0m\n\u001b[1;32m    125\u001b[0m                 \u001b[0;32mbreak\u001b[0m\u001b[0;34m\u001b[0m\u001b[0;34m\u001b[0m\u001b[0m\n\u001b[1;32m    126\u001b[0m             \u001b[0mlevel\u001b[0m \u001b[0;34m+=\u001b[0m \u001b[0;36m1\u001b[0m\u001b[0;34m\u001b[0m\u001b[0;34m\u001b[0m\u001b[0m\n\u001b[0;32m--> 127\u001b[0;31m     \u001b[0;32mreturn\u001b[0m \u001b[0m_bootstrap\u001b[0m\u001b[0;34m.\u001b[0m\u001b[0m_gcd_import\u001b[0m\u001b[0;34m(\u001b[0m\u001b[0mname\u001b[0m\u001b[0;34m[\u001b[0m\u001b[0mlevel\u001b[0m\u001b[0;34m:\u001b[0m\u001b[0;34m]\u001b[0m\u001b[0;34m,\u001b[0m \u001b[0mpackage\u001b[0m\u001b[0;34m,\u001b[0m \u001b[0mlevel\u001b[0m\u001b[0;34m)\u001b[0m\u001b[0;34m\u001b[0m\u001b[0;34m\u001b[0m\u001b[0m\n\u001b[0m\u001b[1;32m    128\u001b[0m \u001b[0;34m\u001b[0m\u001b[0m\n\u001b[1;32m    129\u001b[0m \u001b[0;34m\u001b[0m\u001b[0m\n",
            "\u001b[0;32m/usr/lib/python3.7/importlib/_bootstrap.py\u001b[0m in \u001b[0;36m_gcd_import\u001b[0;34m(name, package, level)\u001b[0m\n",
            "\u001b[0;32m/usr/lib/python3.7/importlib/_bootstrap.py\u001b[0m in \u001b[0;36m_find_and_load\u001b[0;34m(name, import_)\u001b[0m\n",
            "\u001b[0;32m/usr/lib/python3.7/importlib/_bootstrap.py\u001b[0m in \u001b[0;36m_find_and_load_unlocked\u001b[0;34m(name, import_)\u001b[0m\n",
            "\u001b[0;32m/usr/lib/python3.7/importlib/_bootstrap.py\u001b[0m in \u001b[0;36m_load_unlocked\u001b[0;34m(spec)\u001b[0m\n",
            "\u001b[0;32m/usr/lib/python3.7/importlib/_bootstrap_external.py\u001b[0m in \u001b[0;36mexec_module\u001b[0;34m(self, module)\u001b[0m\n",
            "\u001b[0;32m/usr/lib/python3.7/importlib/_bootstrap.py\u001b[0m in \u001b[0;36m_call_with_frames_removed\u001b[0;34m(f, *args, **kwds)\u001b[0m\n",
            "\u001b[0;32m/usr/local/lib/python3.7/dist-packages/pandas_gbq/__init__.py\u001b[0m in \u001b[0;36m<module>\u001b[0;34m\u001b[0m\n\u001b[0;32m----> 1\u001b[0;31m \u001b[0;32mfrom\u001b[0m \u001b[0;34m.\u001b[0m\u001b[0mgbq\u001b[0m \u001b[0;32mimport\u001b[0m \u001b[0mto_gbq\u001b[0m\u001b[0;34m,\u001b[0m \u001b[0mread_gbq\u001b[0m\u001b[0;34m,\u001b[0m \u001b[0mContext\u001b[0m\u001b[0;34m,\u001b[0m \u001b[0mcontext\u001b[0m  \u001b[0;31m# noqa\u001b[0m\u001b[0;34m\u001b[0m\u001b[0;34m\u001b[0m\u001b[0m\n\u001b[0m\u001b[1;32m      2\u001b[0m \u001b[0;34m\u001b[0m\u001b[0m\n\u001b[1;32m      3\u001b[0m \u001b[0;32mfrom\u001b[0m \u001b[0;34m.\u001b[0m\u001b[0m_version\u001b[0m \u001b[0;32mimport\u001b[0m \u001b[0mget_versions\u001b[0m\u001b[0;34m\u001b[0m\u001b[0;34m\u001b[0m\u001b[0m\n\u001b[1;32m      4\u001b[0m \u001b[0;34m\u001b[0m\u001b[0m\n\u001b[1;32m      5\u001b[0m \u001b[0mversions\u001b[0m \u001b[0;34m=\u001b[0m \u001b[0mget_versions\u001b[0m\u001b[0;34m(\u001b[0m\u001b[0;34m)\u001b[0m\u001b[0;34m\u001b[0m\u001b[0;34m\u001b[0m\u001b[0m\n",
            "\u001b[0;32m/usr/local/lib/python3.7/dist-packages/pandas_gbq/gbq.py\u001b[0m in \u001b[0;36m<module>\u001b[0;34m\u001b[0m\n\u001b[1;32m     10\u001b[0m \u001b[0;32mtry\u001b[0m\u001b[0;34m:\u001b[0m\u001b[0;34m\u001b[0m\u001b[0;34m\u001b[0m\u001b[0m\n\u001b[1;32m     11\u001b[0m     \u001b[0;32mfrom\u001b[0m \u001b[0mgoogle\u001b[0m\u001b[0;34m.\u001b[0m\u001b[0mapi_core\u001b[0m \u001b[0;32mimport\u001b[0m \u001b[0mexceptions\u001b[0m \u001b[0;32mas\u001b[0m \u001b[0mgoogle_exceptions\u001b[0m\u001b[0;34m\u001b[0m\u001b[0;34m\u001b[0m\u001b[0m\n\u001b[0;32m---> 12\u001b[0;31m     \u001b[0;32mfrom\u001b[0m \u001b[0mgoogle\u001b[0m\u001b[0;34m.\u001b[0m\u001b[0mcloud\u001b[0m \u001b[0;32mimport\u001b[0m \u001b[0mbigquery\u001b[0m\u001b[0;34m\u001b[0m\u001b[0;34m\u001b[0m\u001b[0m\n\u001b[0m\u001b[1;32m     13\u001b[0m \u001b[0;32mexcept\u001b[0m \u001b[0mImportError\u001b[0m\u001b[0;34m:\u001b[0m  \u001b[0;31m# pragma: NO COVER\u001b[0m\u001b[0;34m\u001b[0m\u001b[0;34m\u001b[0m\u001b[0m\n\u001b[1;32m     14\u001b[0m     \u001b[0mbigquery\u001b[0m \u001b[0;34m=\u001b[0m \u001b[0;32mNone\u001b[0m\u001b[0;34m\u001b[0m\u001b[0;34m\u001b[0m\u001b[0m\n",
            "\u001b[0;32m/usr/local/lib/python3.7/dist-packages/google/cloud/bigquery/__init__.py\u001b[0m in \u001b[0;36m<module>\u001b[0;34m\u001b[0m\n\u001b[1;32m     33\u001b[0m \u001b[0m__version__\u001b[0m \u001b[0;34m=\u001b[0m \u001b[0mget_distribution\u001b[0m\u001b[0;34m(\u001b[0m\u001b[0;34m\"google-cloud-bigquery\"\u001b[0m\u001b[0;34m)\u001b[0m\u001b[0;34m.\u001b[0m\u001b[0mversion\u001b[0m\u001b[0;34m\u001b[0m\u001b[0;34m\u001b[0m\u001b[0m\n\u001b[1;32m     34\u001b[0m \u001b[0;34m\u001b[0m\u001b[0m\n\u001b[0;32m---> 35\u001b[0;31m \u001b[0;32mfrom\u001b[0m \u001b[0mgoogle\u001b[0m\u001b[0;34m.\u001b[0m\u001b[0mcloud\u001b[0m\u001b[0;34m.\u001b[0m\u001b[0mbigquery\u001b[0m\u001b[0;34m.\u001b[0m\u001b[0mclient\u001b[0m \u001b[0;32mimport\u001b[0m \u001b[0mClient\u001b[0m\u001b[0;34m\u001b[0m\u001b[0;34m\u001b[0m\u001b[0m\n\u001b[0m\u001b[1;32m     36\u001b[0m \u001b[0;32mfrom\u001b[0m \u001b[0mgoogle\u001b[0m\u001b[0;34m.\u001b[0m\u001b[0mcloud\u001b[0m\u001b[0;34m.\u001b[0m\u001b[0mbigquery\u001b[0m\u001b[0;34m.\u001b[0m\u001b[0mdataset\u001b[0m \u001b[0;32mimport\u001b[0m \u001b[0mAccessEntry\u001b[0m\u001b[0;34m\u001b[0m\u001b[0;34m\u001b[0m\u001b[0m\n\u001b[1;32m     37\u001b[0m \u001b[0;32mfrom\u001b[0m \u001b[0mgoogle\u001b[0m\u001b[0;34m.\u001b[0m\u001b[0mcloud\u001b[0m\u001b[0;34m.\u001b[0m\u001b[0mbigquery\u001b[0m\u001b[0;34m.\u001b[0m\u001b[0mdataset\u001b[0m \u001b[0;32mimport\u001b[0m \u001b[0mDataset\u001b[0m\u001b[0;34m\u001b[0m\u001b[0;34m\u001b[0m\u001b[0m\n",
            "\u001b[0;32m/usr/local/lib/python3.7/dist-packages/google/cloud/bigquery/client.py\u001b[0m in \u001b[0;36m<module>\u001b[0;34m\u001b[0m\n\u001b[1;32m     55\u001b[0m \u001b[0;32mfrom\u001b[0m \u001b[0mgoogle\u001b[0m\u001b[0;34m.\u001b[0m\u001b[0mcloud\u001b[0m\u001b[0;34m.\u001b[0m\u001b[0mbigquery\u001b[0m\u001b[0;34m.\u001b[0m\u001b[0m_helpers\u001b[0m \u001b[0;32mimport\u001b[0m \u001b[0m_str_or_none\u001b[0m\u001b[0;34m\u001b[0m\u001b[0;34m\u001b[0m\u001b[0m\n\u001b[1;32m     56\u001b[0m \u001b[0;32mfrom\u001b[0m \u001b[0mgoogle\u001b[0m\u001b[0;34m.\u001b[0m\u001b[0mcloud\u001b[0m\u001b[0;34m.\u001b[0m\u001b[0mbigquery\u001b[0m\u001b[0;34m.\u001b[0m\u001b[0m_http\u001b[0m \u001b[0;32mimport\u001b[0m \u001b[0mConnection\u001b[0m\u001b[0;34m\u001b[0m\u001b[0;34m\u001b[0m\u001b[0m\n\u001b[0;32m---> 57\u001b[0;31m \u001b[0;32mfrom\u001b[0m \u001b[0mgoogle\u001b[0m\u001b[0;34m.\u001b[0m\u001b[0mcloud\u001b[0m\u001b[0;34m.\u001b[0m\u001b[0mbigquery\u001b[0m \u001b[0;32mimport\u001b[0m \u001b[0m_pandas_helpers\u001b[0m\u001b[0;34m\u001b[0m\u001b[0;34m\u001b[0m\u001b[0m\n\u001b[0m\u001b[1;32m     58\u001b[0m \u001b[0;32mfrom\u001b[0m \u001b[0mgoogle\u001b[0m\u001b[0;34m.\u001b[0m\u001b[0mcloud\u001b[0m\u001b[0;34m.\u001b[0m\u001b[0mbigquery\u001b[0m\u001b[0;34m.\u001b[0m\u001b[0mdataset\u001b[0m \u001b[0;32mimport\u001b[0m \u001b[0mDataset\u001b[0m\u001b[0;34m\u001b[0m\u001b[0;34m\u001b[0m\u001b[0m\n\u001b[1;32m     59\u001b[0m \u001b[0;32mfrom\u001b[0m \u001b[0mgoogle\u001b[0m\u001b[0;34m.\u001b[0m\u001b[0mcloud\u001b[0m\u001b[0;34m.\u001b[0m\u001b[0mbigquery\u001b[0m\u001b[0;34m.\u001b[0m\u001b[0mdataset\u001b[0m \u001b[0;32mimport\u001b[0m \u001b[0mDatasetListItem\u001b[0m\u001b[0;34m\u001b[0m\u001b[0;34m\u001b[0m\u001b[0m\n",
            "\u001b[0;32m/usr/local/lib/python3.7/dist-packages/google/cloud/bigquery/_pandas_helpers.py\u001b[0m in \u001b[0;36m<module>\u001b[0;34m\u001b[0m\n\u001b[1;32m     23\u001b[0m \u001b[0;34m\u001b[0m\u001b[0m\n\u001b[1;32m     24\u001b[0m \u001b[0;32mtry\u001b[0m\u001b[0;34m:\u001b[0m\u001b[0;34m\u001b[0m\u001b[0;34m\u001b[0m\u001b[0m\n\u001b[0;32m---> 25\u001b[0;31m     \u001b[0;32mfrom\u001b[0m \u001b[0mgoogle\u001b[0m\u001b[0;34m.\u001b[0m\u001b[0mcloud\u001b[0m \u001b[0;32mimport\u001b[0m \u001b[0mbigquery_storage_v1beta1\u001b[0m\u001b[0;34m\u001b[0m\u001b[0;34m\u001b[0m\u001b[0m\n\u001b[0m\u001b[1;32m     26\u001b[0m \u001b[0;32mexcept\u001b[0m \u001b[0mImportError\u001b[0m\u001b[0;34m:\u001b[0m  \u001b[0;31m# pragma: NO COVER\u001b[0m\u001b[0;34m\u001b[0m\u001b[0;34m\u001b[0m\u001b[0m\n\u001b[1;32m     27\u001b[0m     \u001b[0mbigquery_storage_v1beta1\u001b[0m \u001b[0;34m=\u001b[0m \u001b[0;32mNone\u001b[0m\u001b[0;34m\u001b[0m\u001b[0;34m\u001b[0m\u001b[0m\n",
            "\u001b[0;32m/usr/local/lib/python3.7/dist-packages/google/cloud/bigquery_storage_v1beta1/__init__.py\u001b[0m in \u001b[0;36m<module>\u001b[0;34m\u001b[0m\n\u001b[1;32m     23\u001b[0m ).version  # noqa\n\u001b[1;32m     24\u001b[0m \u001b[0;34m\u001b[0m\u001b[0m\n\u001b[0;32m---> 25\u001b[0;31m \u001b[0;32mfrom\u001b[0m \u001b[0mgoogle\u001b[0m\u001b[0;34m.\u001b[0m\u001b[0mcloud\u001b[0m\u001b[0;34m.\u001b[0m\u001b[0mbigquery_storage_v1beta1\u001b[0m \u001b[0;32mimport\u001b[0m \u001b[0mtypes\u001b[0m\u001b[0;34m\u001b[0m\u001b[0;34m\u001b[0m\u001b[0m\n\u001b[0m\u001b[1;32m     26\u001b[0m \u001b[0;32mfrom\u001b[0m \u001b[0mgoogle\u001b[0m\u001b[0;34m.\u001b[0m\u001b[0mcloud\u001b[0m\u001b[0;34m.\u001b[0m\u001b[0mbigquery_storage_v1beta1\u001b[0m \u001b[0;32mimport\u001b[0m \u001b[0mclient\u001b[0m\u001b[0;34m\u001b[0m\u001b[0;34m\u001b[0m\u001b[0m\n\u001b[1;32m     27\u001b[0m \u001b[0;32mfrom\u001b[0m \u001b[0mgoogle\u001b[0m\u001b[0;34m.\u001b[0m\u001b[0mcloud\u001b[0m\u001b[0;34m.\u001b[0m\u001b[0mbigquery_storage_v1beta1\u001b[0m\u001b[0;34m.\u001b[0m\u001b[0mgapic\u001b[0m \u001b[0;32mimport\u001b[0m \u001b[0menums\u001b[0m\u001b[0;34m\u001b[0m\u001b[0;34m\u001b[0m\u001b[0m\n",
            "\u001b[0;32m/usr/local/lib/python3.7/dist-packages/google/cloud/bigquery_storage_v1beta1/types.py\u001b[0m in \u001b[0;36m<module>\u001b[0;34m\u001b[0m\n\u001b[1;32m     21\u001b[0m \u001b[0;32mfrom\u001b[0m \u001b[0mgoogle\u001b[0m\u001b[0;34m.\u001b[0m\u001b[0mapi_core\u001b[0m\u001b[0;34m.\u001b[0m\u001b[0mprotobuf_helpers\u001b[0m \u001b[0;32mimport\u001b[0m \u001b[0mget_messages\u001b[0m\u001b[0;34m\u001b[0m\u001b[0;34m\u001b[0m\u001b[0m\n\u001b[1;32m     22\u001b[0m \u001b[0;34m\u001b[0m\u001b[0m\n\u001b[0;32m---> 23\u001b[0;31m \u001b[0;32mfrom\u001b[0m \u001b[0mgoogle\u001b[0m\u001b[0;34m.\u001b[0m\u001b[0mcloud\u001b[0m\u001b[0;34m.\u001b[0m\u001b[0mbigquery_storage_v1beta1\u001b[0m\u001b[0;34m.\u001b[0m\u001b[0mproto\u001b[0m \u001b[0;32mimport\u001b[0m \u001b[0marrow_pb2\u001b[0m\u001b[0;34m\u001b[0m\u001b[0;34m\u001b[0m\u001b[0m\n\u001b[0m\u001b[1;32m     24\u001b[0m \u001b[0;32mfrom\u001b[0m \u001b[0mgoogle\u001b[0m\u001b[0;34m.\u001b[0m\u001b[0mcloud\u001b[0m\u001b[0;34m.\u001b[0m\u001b[0mbigquery_storage_v1beta1\u001b[0m\u001b[0;34m.\u001b[0m\u001b[0mproto\u001b[0m \u001b[0;32mimport\u001b[0m \u001b[0mavro_pb2\u001b[0m\u001b[0;34m\u001b[0m\u001b[0;34m\u001b[0m\u001b[0m\n\u001b[1;32m     25\u001b[0m \u001b[0;32mfrom\u001b[0m \u001b[0mgoogle\u001b[0m\u001b[0;34m.\u001b[0m\u001b[0mcloud\u001b[0m\u001b[0;34m.\u001b[0m\u001b[0mbigquery_storage_v1beta1\u001b[0m\u001b[0;34m.\u001b[0m\u001b[0mproto\u001b[0m \u001b[0;32mimport\u001b[0m \u001b[0mread_options_pb2\u001b[0m\u001b[0;34m\u001b[0m\u001b[0;34m\u001b[0m\u001b[0m\n",
            "\u001b[0;32m/usr/local/lib/python3.7/dist-packages/google/cloud/bigquery_storage_v1beta1/proto/arrow_pb2.py\u001b[0m in \u001b[0;36m<module>\u001b[0;34m\u001b[0m\n\u001b[1;32m     48\u001b[0m             \u001b[0mserialized_options\u001b[0m\u001b[0;34m=\u001b[0m\u001b[0;32mNone\u001b[0m\u001b[0;34m,\u001b[0m\u001b[0;34m\u001b[0m\u001b[0;34m\u001b[0m\u001b[0m\n\u001b[1;32m     49\u001b[0m             \u001b[0mfile\u001b[0m\u001b[0;34m=\u001b[0m\u001b[0mDESCRIPTOR\u001b[0m\u001b[0;34m,\u001b[0m\u001b[0;34m\u001b[0m\u001b[0;34m\u001b[0m\u001b[0m\n\u001b[0;32m---> 50\u001b[0;31m             \u001b[0mcreate_key\u001b[0m\u001b[0;34m=\u001b[0m\u001b[0m_descriptor\u001b[0m\u001b[0;34m.\u001b[0m\u001b[0m_internal_create_key\u001b[0m\u001b[0;34m,\u001b[0m\u001b[0;34m\u001b[0m\u001b[0;34m\u001b[0m\u001b[0m\n\u001b[0m\u001b[1;32m     51\u001b[0m         ),\n\u001b[1;32m     52\u001b[0m     ],\n",
            "\u001b[0;32m/usr/local/lib/python3.7/dist-packages/google/protobuf/descriptor.py\u001b[0m in \u001b[0;36m__new__\u001b[0;34m(cls, name, full_name, index, number, type, cpp_type, label, default_value, message_type, enum_type, containing_type, is_extension, extension_scope, options, serialized_options, has_default_value, containing_oneof, json_name, file, create_key)\u001b[0m\n\u001b[1;32m    558\u001b[0m                 \u001b[0mhas_default_value\u001b[0m\u001b[0;34m=\u001b[0m\u001b[0;32mTrue\u001b[0m\u001b[0;34m,\u001b[0m \u001b[0mcontaining_oneof\u001b[0m\u001b[0;34m=\u001b[0m\u001b[0;32mNone\u001b[0m\u001b[0;34m,\u001b[0m \u001b[0mjson_name\u001b[0m\u001b[0;34m=\u001b[0m\u001b[0;32mNone\u001b[0m\u001b[0;34m,\u001b[0m\u001b[0;34m\u001b[0m\u001b[0;34m\u001b[0m\u001b[0m\n\u001b[1;32m    559\u001b[0m                 file=None, create_key=None):  # pylint: disable=redefined-builtin\n\u001b[0;32m--> 560\u001b[0;31m       \u001b[0m_message\u001b[0m\u001b[0;34m.\u001b[0m\u001b[0mMessage\u001b[0m\u001b[0;34m.\u001b[0m\u001b[0m_CheckCalledFromGeneratedFile\u001b[0m\u001b[0;34m(\u001b[0m\u001b[0;34m)\u001b[0m\u001b[0;34m\u001b[0m\u001b[0;34m\u001b[0m\u001b[0m\n\u001b[0m\u001b[1;32m    561\u001b[0m       \u001b[0;32mif\u001b[0m \u001b[0mis_extension\u001b[0m\u001b[0;34m:\u001b[0m\u001b[0;34m\u001b[0m\u001b[0;34m\u001b[0m\u001b[0m\n\u001b[1;32m    562\u001b[0m         \u001b[0;32mreturn\u001b[0m \u001b[0m_message\u001b[0m\u001b[0;34m.\u001b[0m\u001b[0mdefault_pool\u001b[0m\u001b[0;34m.\u001b[0m\u001b[0mFindExtensionByName\u001b[0m\u001b[0;34m(\u001b[0m\u001b[0mfull_name\u001b[0m\u001b[0;34m)\u001b[0m\u001b[0;34m\u001b[0m\u001b[0;34m\u001b[0m\u001b[0m\n",
            "\u001b[0;31mTypeError\u001b[0m: Descriptors cannot not be created directly.\nIf this call came from a _pb2.py file, your generated code is out of date and must be regenerated with protoc >= 3.19.0.\nIf you cannot immediately regenerate your protos, some other possible workarounds are:\n 1. Downgrade the protobuf package to 3.20.x or lower.\n 2. Set PROTOCOL_BUFFERS_PYTHON_IMPLEMENTATION=python (but this will use pure-Python parsing and will be much slower).\n\nMore information: https://developers.google.com/protocol-buffers/docs/news/2022-05-06#python-updates"
          ]
        }
      ]
    },
    {
      "cell_type": "markdown",
      "source": [],
      "metadata": {
        "id": "T9H8_BayUEnb"
      }
    },
    {
      "cell_type": "markdown",
      "source": [
        "# 統計表に含まれる全てのデータをDataframeに変換する"
      ],
      "metadata": {
        "id": "FFDEer4JI3t2"
      }
    },
    {
      "cell_type": "markdown",
      "source": [
        "'statsDataId'で統計表を指定して、含まれる統計データを一括でDataFrameに変換する"
      ],
      "metadata": {
        "id": "qtwgWVU0R4h9"
      }
    },
    {
      "cell_type": "code",
      "source": [
        "statsDataId = '0000010101'"
      ],
      "metadata": {
        "id": "9u5fsGLTSCdB"
      },
      "execution_count": 64,
      "outputs": []
    },
    {
      "cell_type": "code",
      "source": [
        "def get_estat_dataframe_all(statsDataId):\n",
        "\n",
        "  # 統計表のメタ情報を取得\n",
        "  meta = get_estat_meta(statsDataId)\n",
        "\n",
        "  # カテゴリ一覧\n",
        "  category_codes = get_estat_catefory_codes(statsDataId)\n",
        "\n",
        "  # 地域コード一覧\n",
        "  area_codes = get_estat_area_codes(statsDataId)\n",
        "\n",
        "  # 返却するDataFrameの定義\n",
        "  df_res = pd.DataFrame(index=[], columns=[])\n",
        "\n",
        "  for category_code in category_codes:\n",
        "    # リクエストパラメータ生成\n",
        "    params = {}\n",
        "    params['statsDataId'] = statsDataId\n",
        "    params['cdCat01'] = category_code\n",
        "    params['cdArea']=\",\".join(area_codes)\n",
        "\n",
        "    # DataFrameを取得\n",
        "    print(category_code)\n",
        "    df_category = get_estat_dataframe(params)\n",
        "\n",
        "    df_res = pd.concat([df_res, df_category])\n",
        "\n",
        "  # return df_res\n",
        "  return 'test'\n",
        "\n",
        "\n",
        "df = get_estat_dataframe_all(statsDataId)\n",
        "# df\n"
      ],
      "metadata": {
        "id": "88NiJi5WSHAk"
      },
      "execution_count": null,
      "outputs": []
    },
    {
      "cell_type": "markdown",
      "source": [
        "# 新しいセクション"
      ],
      "metadata": {
        "id": "IvIrOKby-0Hb"
      }
    }
  ],
  "metadata": {
    "colab": {
      "collapsed_sections": [],
      "toc_visible": true,
      "provenance": []
    },
    "kernelspec": {
      "display_name": "Python 3",
      "name": "python3"
    }
  },
  "nbformat": 4,
  "nbformat_minor": 0
}