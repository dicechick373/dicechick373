{
  "cells": [
    {
      "cell_type": "markdown",
      "source": [
        "# 実行環境の作成"
      ],
      "metadata": {
        "id": "inrYQThZlUDa"
      }
    },
    {
      "cell_type": "markdown",
      "source": [
        "## Google Cloud Storage"
      ],
      "metadata": {
        "id": "BDMnnS3RVrkF"
      }
    },
    {
      "cell_type": "markdown",
      "source": [
        "下記コードでGCPに接続"
      ],
      "metadata": {
        "id": "SsgiSjKhV2D7"
      }
    },
    {
      "cell_type": "code",
      "source": [
        "from google.colab import auth\n",
        "auth.authenticate_user()"
      ],
      "metadata": {
        "id": "GKiUkM7SV0bY"
      },
      "execution_count": 9,
      "outputs": []
    },
    {
      "cell_type": "markdown",
      "source": [
        "認証に成功したらgcsfuseをインストール"
      ],
      "metadata": {
        "id": "KP4JP4ouV6QS"
      }
    },
    {
      "cell_type": "code",
      "source": [
        "!echo \"deb http://packages.cloud.google.com/apt gcsfuse-`lsb_release -c -s` main\" | sudo tee /etc/apt/sources.list.d/gcsfuse.list\n",
        "!curl https://packages.cloud.google.com/apt/doc/apt-key.gpg | sudo apt-key add -\n",
        "!apt-get -y -q update\n",
        "!apt-get -y -q install gcsfuse"
      ],
      "metadata": {
        "id": "d1D5UagbV9A4"
      },
      "execution_count": null,
      "outputs": []
    },
    {
      "cell_type": "markdown",
      "source": [
        "バケット「statistics-hyogo」をディレクトリ「statistics-hyogo」にマウント"
      ],
      "metadata": {
        "id": "QUUcFp5LWR6s"
      }
    },
    {
      "cell_type": "code",
      "source": [
        "! mkdir -p statistics-hyogo\n",
        "! gcsfuse --implicit-dirs --limit-bytes-per-sec -1 --limit-ops-per-sec -1 statistics-hyogo statistics-hyogo"
      ],
      "metadata": {
        "colab": {
          "base_uri": "https://localhost:8080/"
        },
        "id": "vw-vsTVGWIfp",
        "outputId": "c7d72dd5-50dc-4cb4-83d5-8d062e956d6f"
      },
      "execution_count": 11,
      "outputs": [
        {
          "output_type": "stream",
          "name": "stdout",
          "text": [
            "2022/09/14 00:14:37.895541 Start gcsfuse/0.41.6 (Go version go1.18.4) for app \"\" using mount point: /content/statistics-hyogo\n",
            "2022/09/14 00:14:37.913177 Opening GCS connection...\n",
            "2022/09/14 00:14:38.270803 Mounting file system \"statistics-hyogo\"...\n",
            "2022/09/14 00:14:38.271397 File system has been successfully mounted.\n"
          ]
        }
      ]
    },
    {
      "cell_type": "markdown",
      "source": [
        "## Google Secret Maneger"
      ],
      "metadata": {
        "id": "7qQcN2LeWv6y"
      }
    },
    {
      "cell_type": "markdown",
      "source": [
        "ライブラリをインストール"
      ],
      "metadata": {
        "id": "6CbBOyZ5XYJM"
      }
    },
    {
      "cell_type": "code",
      "source": [
        "pip install google-cloud-secret-manager"
      ],
      "metadata": {
        "id": "mEYHoCvDXQpm"
      },
      "execution_count": null,
      "outputs": []
    },
    {
      "cell_type": "markdown",
      "source": [
        "シークレットを呼び出す関数"
      ],
      "metadata": {
        "id": "UVUeVFCjXxTf"
      }
    },
    {
      "cell_type": "code",
      "source": [
        "from google.cloud import secretmanager\n",
        "\n",
        "def access_secret(project_id, secret_name, version='latest'):\n",
        "    client = secretmanager.SecretManagerServiceClient()\n",
        "    name = client.secret_version_path(project_id, secret_name, version)\n",
        "    response = client.access_secret_version(request={\"name\":name})\n",
        "    payload = response.payload.data.decode(\"UTF-8\")\n",
        "    return payload"
      ],
      "metadata": {
        "id": "HtS1JoaoXvPU"
      },
      "execution_count": 6,
      "outputs": []
    },
    {
      "cell_type": "markdown",
      "source": [
        "ESTAT_APPIDを取得する"
      ],
      "metadata": {
        "id": "xu8BYCJrX1a9"
      }
    },
    {
      "cell_type": "code",
      "source": [
        "PROJECT_ID = 'primal-buttress-342908'\n",
        "ESTAT_APPID = access_secret(PROJECT_ID,'ESTAT_APPID' )\n",
        "# print(ESTAT_APPID)"
      ],
      "metadata": {
        "id": "W7ZrfiMkX4cp"
      },
      "execution_count": 8,
      "outputs": []
    },
    {
      "cell_type": "markdown",
      "source": [
        "## pythonのライブラリ"
      ],
      "metadata": {
        "id": "rv4FGegQaZtc"
      }
    },
    {
      "cell_type": "code",
      "source": [
        "import urllib.parse\n",
        "import urllib.request\n",
        "import json\n",
        "import pandas as pd"
      ],
      "metadata": {
        "id": "eIB9NAJdalZT"
      },
      "execution_count": 9,
      "outputs": []
    },
    {
      "cell_type": "markdown",
      "source": [
        "# estatの統計情報を取得"
      ],
      "metadata": {
        "id": "8AQDQmu5ZIVE"
      }
    },
    {
      "cell_type": "markdown",
      "source": [
        "統計表を指定してメタ情報を取得する\n",
        "\n",
        "[API仕様](https://www.e-stat.go.jp/api/api-info/e-stat-manual3-0#api_2_2)"
      ],
      "metadata": {
        "id": "s9tOiD5NZv5c"
      }
    },
    {
      "cell_type": "markdown",
      "source": [
        "'statsDataId'に統計表コードを指定"
      ],
      "metadata": {
        "id": "IYxQ-Md5ZU3P"
      }
    },
    {
      "cell_type": "code",
      "source": [
        "statsDataId = '0000010101'"
      ],
      "metadata": {
        "id": "RS0kYP4dZUSU"
      },
      "execution_count": 3,
      "outputs": []
    },
    {
      "cell_type": "markdown",
      "source": [
        "メタ情報を取得する関数を作成"
      ],
      "metadata": {
        "id": "d5VF0GXDZjRr"
      }
    },
    {
      "cell_type": "code",
      "source": [
        "def get_estat_meta(statsDataId):\n",
        "  # リクエストパラメータ\n",
        "  p={}\n",
        "  p['statsDataId'] = statsDataId\n",
        "  p['appId'] = ESTAT_APPID\n",
        "\n",
        "  url = 'http://api.e-stat.go.jp/rest/3.0/app/json/getMetaInfo?'\n",
        "  url += urllib.parse.urlencode(p)\n",
        "\n",
        "  with urllib.request.urlopen(url) as response:\n",
        "    return json.loads(response.read().decode('utf-8'))\n",
        "\n",
        "meta = get_estat_meta(statsDataId)\n",
        "# print(meta)"
      ],
      "metadata": {
        "id": "Qkb_XkW4ZiN8"
      },
      "execution_count": 10,
      "outputs": []
    },
    {
      "cell_type": "markdown",
      "source": [
        "## カテゴリコード一覧"
      ],
      "metadata": {
        "id": "1VZR8CVipdYL"
      }
    },
    {
      "cell_type": "markdown",
      "source": [
        "カテゴリコード'cat01'のリストを作成する関数"
      ],
      "metadata": {
        "id": "skjQsB3hcJ0b"
      }
    },
    {
      "cell_type": "code",
      "source": [
        "def get_estat_catefory_codes(statsDataId):\n",
        "  meta= get_estat_meta(statsDataId)\n",
        " \n",
        "  # CLASS_OBJ\n",
        "  CLASS_OBJ = meta['GET_META_INFO']['METADATA_INF']['CLASS_INF']['CLASS_OBJ']\n",
        "\n",
        "  # カテゴリ一覧\n",
        "  categories = next((d for d in CLASS_OBJ if d['@id'] == 'cat01'), None)['CLASS']\n",
        "\n",
        "  # カテゴリコード一覧\n",
        "  catagory_codes = [d.get('@code') for d in categories]\n",
        "\n",
        "  return catagory_codes\n",
        "\n",
        "category_codes = get_estat_catefory_codes(statsDataId)\n",
        "# print(category_codes)"
      ],
      "metadata": {
        "id": "QLqvsnhuc20r"
      },
      "execution_count": null,
      "outputs": []
    },
    {
      "cell_type": "markdown",
      "source": [
        "## 地域コード一覧"
      ],
      "metadata": {
        "id": "e-4vvBwxpOLs"
      }
    },
    {
      "cell_type": "markdown",
      "source": [
        "地域コード'area'のリスト一覧を作成する関数\n",
        "\n",
        "全国'00000'は除外している"
      ],
      "metadata": {
        "id": "b-1ZjOQ0iZTo"
      }
    },
    {
      "cell_type": "code",
      "source": [
        "def get_estat_area_codes(statsDataId):\n",
        "  # estat-APIのメタ情報を取得\n",
        "  meta= get_estat_meta(statsDataId)\n",
        "\n",
        "  # CLASS_OBJ\n",
        "  CLASS_OBJ = meta['GET_META_INFO']['METADATA_INF']['CLASS_INF']['CLASS_OBJ']\n",
        "\n",
        "  # 地域一覧\n",
        "  areas = next((d for d in CLASS_OBJ if d['@id'] == 'area'), None)['CLASS']\n",
        "\n",
        "  # 地域コード一覧（全国'00000'は削除）\n",
        "  area_codes = [d.get('@code') for d in areas]\n",
        "  area_codes.remove('00000')\n",
        "\n",
        "  return area_codes\n",
        "\n",
        "area_codes = get_estat_area_codes(statsDataId)\n",
        "print(area_codes)"
      ],
      "metadata": {
        "id": "QlEWwDJAiY7x"
      },
      "execution_count": null,
      "outputs": []
    },
    {
      "cell_type": "markdown",
      "source": [
        "# estat-APIのデータを取得"
      ],
      "metadata": {
        "id": "428I_VMlmF2R"
      }
    },
    {
      "cell_type": "markdown",
      "source": [
        "## 総人口のデータ取得"
      ],
      "metadata": {
        "id": "X8C5Q73wl-sE"
      }
    },
    {
      "cell_type": "markdown",
      "source": [
        "まずは、総人口のデータを取得してみる\n",
        "\n",
        "cat01に'A1101'を指定\n",
        "areaは全都道府県を指定\n",
        "\n",
        "リストを指定する場合はカンマ区切りの文字列に変換する"
      ],
      "metadata": {
        "id": "cNC90RKNlRxp"
      }
    },
    {
      "cell_type": "code",
      "source": [
        "params = {}\n",
        "\n",
        "params['statsDataId'] = statsDataId\n",
        "params['cdCat01'] = 'A1101'\n",
        "params['cdArea']=\",\".join(area_codes)\n",
        "\n",
        "# print (params)"
      ],
      "metadata": {
        "id": "JZlVsBxosiX2"
      },
      "execution_count": 22,
      "outputs": []
    },
    {
      "cell_type": "markdown",
      "source": [
        "estat-APIのデータを取得する関数を作成"
      ],
      "metadata": {
        "id": "Z6M6kGErq7vo"
      }
    },
    {
      "cell_type": "code",
      "source": [
        "def get_estat_data(params):\n",
        "  p = params.copy()\n",
        "\n",
        "  # appId\n",
        "  p['appId'] = ESTAT_APPID\n",
        "  \n",
        "  # url生成\n",
        "  url = 'http://api.e-stat.go.jp/rest/2.1/app/json/getStatsData?'\n",
        "  url += urllib.parse.urlencode(p)\n",
        "\n",
        "  with urllib.request.urlopen(url) as response:\n",
        "    return json.loads(response.read().decode('utf-8'))\n",
        "\n",
        "res = get_estat_data(params)\n",
        "# print(res)"
      ],
      "metadata": {
        "id": "rVZ5Nbi3rmqX"
      },
      "execution_count": null,
      "outputs": []
    },
    {
      "cell_type": "markdown",
      "source": [
        "## pandas DataFrameに変換"
      ],
      "metadata": {
        "id": "vsjvsmWwtUph"
      }
    },
    {
      "cell_type": "markdown",
      "source": [
        "estat-APIのレスポンスからVALUEを抜き出し、DataFrameに変換する"
      ],
      "metadata": {
        "id": "nnyn9KbLujnd"
      }
    },
    {
      "cell_type": "code",
      "execution_count": null,
      "metadata": {
        "id": "gJr_9dXGpJ05"
      },
      "outputs": [],
      "source": [
        "res = get_estat_data(params)\n",
        "\n",
        "# VALUE\n",
        "VALUE = res['GET_STATS_DATA']['STATISTICAL_DATA']['DATA_INF']['VALUE']\n",
        "\n",
        "df_value = pd.json_normalize(VALUE)\n",
        "# print(df_value)"
      ]
    },
    {
      "cell_type": "markdown",
      "source": [
        "カテゴリ情報は'CLASS_OBJ'に格納されている。\n",
        "\n",
        "これもDataFrameに変換"
      ],
      "metadata": {
        "id": "b28rdDk6uszG"
      }
    },
    {
      "cell_type": "code",
      "execution_count": 32,
      "metadata": {
        "colab": {
          "base_uri": "https://localhost:8080/"
        },
        "id": "-gE-Ez1qtyIA",
        "outputId": "6f23886f-33f1-42fd-c825-89ec668c1115"
      },
      "outputs": [
        {
          "output_type": "stream",
          "name": "stdout",
          "text": [
            "   @code      @name @level @unit\n",
            "0  A1101  A1101_総人口      1     人\n"
          ]
        }
      ],
      "source": [
        "# CLASS_INF\n",
        "CLASS_OBJ = res['GET_STATS_DATA']['STATISTICAL_DATA']['CLASS_INF']['CLASS_OBJ']\n",
        "\n",
        "categories = next((d for d in CLASS_OBJ if d['@id'] == 'cat01'), None)['CLASS']\n",
        "\n",
        "df_categories = pd.json_normalize(categories)\n",
        "# print(df_categories)"
      ]
    },
    {
      "cell_type": "markdown",
      "source": [
        "'VALUE'と'CLASS_OBJ'をDataFrameで外部結合する関数を作成"
      ],
      "metadata": {
        "id": "7e9mUi68yWK-"
      }
    },
    {
      "cell_type": "code",
      "source": [
        "def get_estat_dataframe(response):\n",
        "  # CLASS_INF\n",
        "  CLASS_OBJ = res['GET_STATS_DATA']['STATISTICAL_DATA']['CLASS_INF']['CLASS_OBJ']\n",
        "\n",
        "  # VALUE\n",
        "  VALUE = res['GET_STATS_DATA']['STATISTICAL_DATA']['DATA_INF']['VALUE']\n",
        "\n",
        "  df_value = pd.json_normalize(VALUE)\n",
        "\n",
        "  for d in CLASS_OBJ :\n",
        "    # キー名を取得 @time,@area,,,\n",
        "    key_name = '@{}'.format(d['@id'])\n",
        "\n",
        "    # DataFrameに変換 '@code','@name'だけ抽出\n",
        "    df_class = pd.json_normalize(d['CLASS']) \n",
        "    df_class = df_class.copy()[['@code','@name']]\n",
        "\n",
        "    # @codeをキー名に変更 @nameをキー名＋'_name'に変更\n",
        "    df_class = df_class.rename(columns={'@code':key_name,'@name': key_name+'_name'})\n",
        "\n",
        "    # DataFrameを結合\n",
        "    df_value = pd.merge(df_value, df_class, on=key_name, how='outer')\n",
        "  \n",
        "  return df_value\n",
        "\n",
        "df_org = get_estat_dataframe(res)\n",
        "# print(df_org)"
      ],
      "metadata": {
        "id": "G2fDbCR52s6c"
      },
      "execution_count": null,
      "outputs": []
    },
    {
      "cell_type": "markdown",
      "source": [
        "## DataFrameの整形"
      ],
      "metadata": {
        "id": "QFQOKjhk5A3G"
      }
    },
    {
      "cell_type": "markdown",
      "source": [
        "使い勝手が良くなるように、DataFrameを整形していく"
      ],
      "metadata": {
        "id": "sYv6ZrYx5GXM"
      }
    },
    {
      "cell_type": "markdown",
      "source": [
        "必要な列だけ抽出する"
      ],
      "metadata": {
        "id": "BnphK2pW59wj"
      }
    },
    {
      "cell_type": "code",
      "source": [
        "df_1 = df_org[['@cat01','@cat01_name','@time','@time_name','@area','@area_name','$','@unit']]\n",
        "\n",
        "# print(df_1)"
      ],
      "metadata": {
        "id": "ERAP73eK6BOj"
      },
      "execution_count": null,
      "outputs": []
    },
    {
      "cell_type": "markdown",
      "source": [
        "列名を変更する"
      ],
      "metadata": {
        "id": "WSM3qXlm5Yyb"
      }
    },
    {
      "cell_type": "code",
      "source": [
        "columns = {'@cat01':'categoryCode','@cat01_name':'categoryName','@time':'timeCode','@time_name':'timeName','@area':'areaCode','@area_name':'areaName','$':'value','@unit':'unit'}\n",
        "df_1 = df_1.rename(columns=columns)\n",
        "\n",
        "# print(df_1)"
      ],
      "metadata": {
        "id": "5XJg_gDK5h67"
      },
      "execution_count": null,
      "outputs": []
    },
    {
      "cell_type": "markdown",
      "source": [
        "欠損値が含まれる行を削除する"
      ],
      "metadata": {
        "id": "JkJfjQn-71Y6"
      }
    },
    {
      "cell_type": "code",
      "source": [
        "df_1 = df_1.dropna()\n",
        "\n",
        "# print(df_1)"
      ],
      "metadata": {
        "id": "Gyi7CMMR75dD"
      },
      "execution_count": 54,
      "outputs": []
    },
    {
      "cell_type": "markdown",
      "source": [
        "categoryNameから不要な情報（categoryCode）を削除する"
      ],
      "metadata": {
        "id": "Kuzz-u0U8fcJ"
      }
    },
    {
      "cell_type": "code",
      "source": [
        "df_1['categoryName'] = df_1.apply(lambda x: x['categoryName'].replace(x['categoryCode']+'_', ''), 1)\n",
        "\n",
        "# print(df_1)"
      ],
      "metadata": {
        "id": "CJJ4P6sA8eVM"
      },
      "execution_count": null,
      "outputs": []
    },
    {
      "cell_type": "markdown",
      "source": [
        "timeCodeを4桁文字列に置換する"
      ],
      "metadata": {
        "id": "YjBc_Lqu9HGy"
      }
    },
    {
      "cell_type": "code",
      "source": [
        "df_1['timeCode'] = df_1.apply(lambda x: x['timeCode'][:4], 1)\n",
        "\n",
        "print(df_1)"
      ],
      "metadata": {
        "id": "9kIlxFpP-Xc2"
      },
      "execution_count": null,
      "outputs": []
    },
    {
      "cell_type": "markdown",
      "source": [
        "ここまでを関数にまとめる"
      ],
      "metadata": {
        "id": "3gtuH94jwxmM"
      }
    },
    {
      "cell_type": "code",
      "source": [
        "def  format_estat_dataframe(df_org):\n",
        "  # 必要な列だけ抽出\n",
        "  df =  df_org[['@cat01','@cat01_name','@time','@time_name','@area','@area_name','$','@unit']]\n",
        "\n",
        "  # 列名の変更\n",
        "  columns = {'@cat01':'categoryCode','@cat01_name':'categoryName','@time':'timeCode','@time_name':'timeName','@area':'areaCode','@area_name':'areaName','$':'value','@unit':'unit'}\n",
        "  df = df.rename(columns=columns)\n",
        "\n",
        "  # 欠損データ削除\n",
        "  df = df.dropna()\n",
        "\n",
        "  # categoryNameから不要な情報（categoryCode）を削除\n",
        "  df['categoryName'] = df.apply(lambda x: x['categoryName'].replace(x['categoryCode']+'_', ''), 1)\n",
        "\n",
        "  # timeCodeを文字列4桁に置換\n",
        "  df['timeCode'] = df_1.apply(lambda x: x['timeCode'][:4], 1)\n",
        "\n",
        "  return df\n",
        "\n",
        "df_fmt = get_estat_dataframe(df_org)\n",
        "# df_fmt"
      ],
      "metadata": {
        "id": "_GZiTva3PYBQ"
      },
      "execution_count": 90,
      "outputs": []
    },
    {
      "cell_type": "markdown",
      "source": [
        "## 順位を付与する"
      ],
      "metadata": {
        "id": "zgY9vuIxlHJh"
      }
    },
    {
      "cell_type": "markdown",
      "source": [
        "年度ごとに順位を付与"
      ],
      "metadata": {
        "id": "WGe67gWk0F6Y"
      }
    },
    {
      "cell_type": "code",
      "source": [
        "def get_estat_dataframe_withrank(dataframe):\n",
        "  df = dataframe.copy()\n",
        "\n",
        "  # 年度リストを作成\n",
        "  times = df['timeCode'].tolist()\n",
        "  times = list(set(times))\n",
        "\n",
        "  # 年度毎に順位を付与\n",
        "  for time in times:\n",
        "    df_1 = df.copy()[df['timeCode'] == time]\n",
        "    df_1['value'].astype(int)\n",
        "    print(df_1)\n",
        "    df['rank'] = df_1.rank(ascending=False)['value'].astype(int).astype(str)\n",
        "\n",
        "\n",
        "  return df\n",
        "\n",
        "\n",
        "\n",
        "df_last = get_estat_dataframe_withrank(df_fmt)\n",
        "print(df_last)"
      ],
      "metadata": {
        "id": "S1UBjVPCzjA9",
        "outputId": "d4f8c8ce-eb79-4b5e-8d1d-3470fdcc7731",
        "colab": {
          "base_uri": "https://localhost:8080/",
          "height": 531
        }
      },
      "execution_count": 91,
      "outputs": [
        {
          "output_type": "error",
          "ename": "KeyError",
          "evalue": "ignored",
          "traceback": [
            "\u001b[0;31m---------------------------------------------------------------------------\u001b[0m",
            "\u001b[0;31mKeyError\u001b[0m                                  Traceback (most recent call last)",
            "\u001b[0;32m/usr/local/lib/python3.7/dist-packages/pandas/core/indexes/base.py\u001b[0m in \u001b[0;36mget_loc\u001b[0;34m(self, key, method, tolerance)\u001b[0m\n\u001b[1;32m   3360\u001b[0m             \u001b[0;32mtry\u001b[0m\u001b[0;34m:\u001b[0m\u001b[0;34m\u001b[0m\u001b[0;34m\u001b[0m\u001b[0m\n\u001b[0;32m-> 3361\u001b[0;31m                 \u001b[0;32mreturn\u001b[0m \u001b[0mself\u001b[0m\u001b[0;34m.\u001b[0m\u001b[0m_engine\u001b[0m\u001b[0;34m.\u001b[0m\u001b[0mget_loc\u001b[0m\u001b[0;34m(\u001b[0m\u001b[0mcasted_key\u001b[0m\u001b[0;34m)\u001b[0m\u001b[0;34m\u001b[0m\u001b[0;34m\u001b[0m\u001b[0m\n\u001b[0m\u001b[1;32m   3362\u001b[0m             \u001b[0;32mexcept\u001b[0m \u001b[0mKeyError\u001b[0m \u001b[0;32mas\u001b[0m \u001b[0merr\u001b[0m\u001b[0;34m:\u001b[0m\u001b[0;34m\u001b[0m\u001b[0;34m\u001b[0m\u001b[0m\n",
            "\u001b[0;32m/usr/local/lib/python3.7/dist-packages/pandas/_libs/index.pyx\u001b[0m in \u001b[0;36mpandas._libs.index.IndexEngine.get_loc\u001b[0;34m()\u001b[0m\n",
            "\u001b[0;32m/usr/local/lib/python3.7/dist-packages/pandas/_libs/index.pyx\u001b[0m in \u001b[0;36mpandas._libs.index.IndexEngine.get_loc\u001b[0;34m()\u001b[0m\n",
            "\u001b[0;32mpandas/_libs/hashtable_class_helper.pxi\u001b[0m in \u001b[0;36mpandas._libs.hashtable.PyObjectHashTable.get_item\u001b[0;34m()\u001b[0m\n",
            "\u001b[0;32mpandas/_libs/hashtable_class_helper.pxi\u001b[0m in \u001b[0;36mpandas._libs.hashtable.PyObjectHashTable.get_item\u001b[0;34m()\u001b[0m\n",
            "\u001b[0;31mKeyError\u001b[0m: 'timeCode'",
            "\nThe above exception was the direct cause of the following exception:\n",
            "\u001b[0;31mKeyError\u001b[0m                                  Traceback (most recent call last)",
            "\u001b[0;32m<ipython-input-91-4775e3710905>\u001b[0m in \u001b[0;36m<module>\u001b[0;34m\u001b[0m\n\u001b[1;32m     18\u001b[0m \u001b[0;34m\u001b[0m\u001b[0m\n\u001b[1;32m     19\u001b[0m \u001b[0;34m\u001b[0m\u001b[0m\n\u001b[0;32m---> 20\u001b[0;31m \u001b[0mdf_last\u001b[0m \u001b[0;34m=\u001b[0m \u001b[0mget_estat_dataframe_withrank\u001b[0m\u001b[0;34m(\u001b[0m\u001b[0mdf_fmt\u001b[0m\u001b[0;34m)\u001b[0m\u001b[0;34m\u001b[0m\u001b[0;34m\u001b[0m\u001b[0m\n\u001b[0m\u001b[1;32m     21\u001b[0m \u001b[0mprint\u001b[0m\u001b[0;34m(\u001b[0m\u001b[0mdf_last\u001b[0m\u001b[0;34m)\u001b[0m\u001b[0;34m\u001b[0m\u001b[0;34m\u001b[0m\u001b[0m\n",
            "\u001b[0;32m<ipython-input-91-4775e3710905>\u001b[0m in \u001b[0;36mget_estat_dataframe_withrank\u001b[0;34m(dataframe)\u001b[0m\n\u001b[1;32m      3\u001b[0m \u001b[0;34m\u001b[0m\u001b[0m\n\u001b[1;32m      4\u001b[0m   \u001b[0;31m# 年度リストを作成\u001b[0m\u001b[0;34m\u001b[0m\u001b[0;34m\u001b[0m\u001b[0;34m\u001b[0m\u001b[0m\n\u001b[0;32m----> 5\u001b[0;31m   \u001b[0mtimes\u001b[0m \u001b[0;34m=\u001b[0m \u001b[0mdf\u001b[0m\u001b[0;34m[\u001b[0m\u001b[0;34m'timeCode'\u001b[0m\u001b[0;34m]\u001b[0m\u001b[0;34m.\u001b[0m\u001b[0mtolist\u001b[0m\u001b[0;34m(\u001b[0m\u001b[0;34m)\u001b[0m\u001b[0;34m\u001b[0m\u001b[0;34m\u001b[0m\u001b[0m\n\u001b[0m\u001b[1;32m      6\u001b[0m   \u001b[0mtimes\u001b[0m \u001b[0;34m=\u001b[0m \u001b[0mlist\u001b[0m\u001b[0;34m(\u001b[0m\u001b[0mset\u001b[0m\u001b[0;34m(\u001b[0m\u001b[0mtimes\u001b[0m\u001b[0;34m)\u001b[0m\u001b[0;34m)\u001b[0m\u001b[0;34m\u001b[0m\u001b[0;34m\u001b[0m\u001b[0m\n\u001b[1;32m      7\u001b[0m \u001b[0;34m\u001b[0m\u001b[0m\n",
            "\u001b[0;32m/usr/local/lib/python3.7/dist-packages/pandas/core/frame.py\u001b[0m in \u001b[0;36m__getitem__\u001b[0;34m(self, key)\u001b[0m\n\u001b[1;32m   3456\u001b[0m             \u001b[0;32mif\u001b[0m \u001b[0mself\u001b[0m\u001b[0;34m.\u001b[0m\u001b[0mcolumns\u001b[0m\u001b[0;34m.\u001b[0m\u001b[0mnlevels\u001b[0m \u001b[0;34m>\u001b[0m \u001b[0;36m1\u001b[0m\u001b[0;34m:\u001b[0m\u001b[0;34m\u001b[0m\u001b[0;34m\u001b[0m\u001b[0m\n\u001b[1;32m   3457\u001b[0m                 \u001b[0;32mreturn\u001b[0m \u001b[0mself\u001b[0m\u001b[0;34m.\u001b[0m\u001b[0m_getitem_multilevel\u001b[0m\u001b[0;34m(\u001b[0m\u001b[0mkey\u001b[0m\u001b[0;34m)\u001b[0m\u001b[0;34m\u001b[0m\u001b[0;34m\u001b[0m\u001b[0m\n\u001b[0;32m-> 3458\u001b[0;31m             \u001b[0mindexer\u001b[0m \u001b[0;34m=\u001b[0m \u001b[0mself\u001b[0m\u001b[0;34m.\u001b[0m\u001b[0mcolumns\u001b[0m\u001b[0;34m.\u001b[0m\u001b[0mget_loc\u001b[0m\u001b[0;34m(\u001b[0m\u001b[0mkey\u001b[0m\u001b[0;34m)\u001b[0m\u001b[0;34m\u001b[0m\u001b[0;34m\u001b[0m\u001b[0m\n\u001b[0m\u001b[1;32m   3459\u001b[0m             \u001b[0;32mif\u001b[0m \u001b[0mis_integer\u001b[0m\u001b[0;34m(\u001b[0m\u001b[0mindexer\u001b[0m\u001b[0;34m)\u001b[0m\u001b[0;34m:\u001b[0m\u001b[0;34m\u001b[0m\u001b[0;34m\u001b[0m\u001b[0m\n\u001b[1;32m   3460\u001b[0m                 \u001b[0mindexer\u001b[0m \u001b[0;34m=\u001b[0m \u001b[0;34m[\u001b[0m\u001b[0mindexer\u001b[0m\u001b[0;34m]\u001b[0m\u001b[0;34m\u001b[0m\u001b[0;34m\u001b[0m\u001b[0m\n",
            "\u001b[0;32m/usr/local/lib/python3.7/dist-packages/pandas/core/indexes/base.py\u001b[0m in \u001b[0;36mget_loc\u001b[0;34m(self, key, method, tolerance)\u001b[0m\n\u001b[1;32m   3361\u001b[0m                 \u001b[0;32mreturn\u001b[0m \u001b[0mself\u001b[0m\u001b[0;34m.\u001b[0m\u001b[0m_engine\u001b[0m\u001b[0;34m.\u001b[0m\u001b[0mget_loc\u001b[0m\u001b[0;34m(\u001b[0m\u001b[0mcasted_key\u001b[0m\u001b[0;34m)\u001b[0m\u001b[0;34m\u001b[0m\u001b[0;34m\u001b[0m\u001b[0m\n\u001b[1;32m   3362\u001b[0m             \u001b[0;32mexcept\u001b[0m \u001b[0mKeyError\u001b[0m \u001b[0;32mas\u001b[0m \u001b[0merr\u001b[0m\u001b[0;34m:\u001b[0m\u001b[0;34m\u001b[0m\u001b[0;34m\u001b[0m\u001b[0m\n\u001b[0;32m-> 3363\u001b[0;31m                 \u001b[0;32mraise\u001b[0m \u001b[0mKeyError\u001b[0m\u001b[0;34m(\u001b[0m\u001b[0mkey\u001b[0m\u001b[0;34m)\u001b[0m \u001b[0;32mfrom\u001b[0m \u001b[0merr\u001b[0m\u001b[0;34m\u001b[0m\u001b[0;34m\u001b[0m\u001b[0m\n\u001b[0m\u001b[1;32m   3364\u001b[0m \u001b[0;34m\u001b[0m\u001b[0m\n\u001b[1;32m   3365\u001b[0m         \u001b[0;32mif\u001b[0m \u001b[0mis_scalar\u001b[0m\u001b[0;34m(\u001b[0m\u001b[0mkey\u001b[0m\u001b[0;34m)\u001b[0m \u001b[0;32mand\u001b[0m \u001b[0misna\u001b[0m\u001b[0;34m(\u001b[0m\u001b[0mkey\u001b[0m\u001b[0;34m)\u001b[0m \u001b[0;32mand\u001b[0m \u001b[0;32mnot\u001b[0m \u001b[0mself\u001b[0m\u001b[0;34m.\u001b[0m\u001b[0mhasnans\u001b[0m\u001b[0;34m:\u001b[0m\u001b[0;34m\u001b[0m\u001b[0;34m\u001b[0m\u001b[0m\n",
            "\u001b[0;31mKeyError\u001b[0m: 'timeCode'"
          ]
        }
      ]
    },
    {
      "cell_type": "code",
      "execution_count": 66,
      "metadata": {
        "id": "C4HZx7Gndbrh",
        "colab": {
          "base_uri": "https://localhost:8080/",
          "height": 531
        },
        "outputId": "2722f348-5780-495d-8f56-2c0d3673de05"
      },
      "outputs": [
        {
          "output_type": "error",
          "ename": "KeyError",
          "evalue": "ignored",
          "traceback": [
            "\u001b[0;31m---------------------------------------------------------------------------\u001b[0m",
            "\u001b[0;31mKeyError\u001b[0m                                  Traceback (most recent call last)",
            "\u001b[0;32m/usr/local/lib/python3.7/dist-packages/pandas/core/indexes/base.py\u001b[0m in \u001b[0;36mget_loc\u001b[0;34m(self, key, method, tolerance)\u001b[0m\n\u001b[1;32m   3360\u001b[0m             \u001b[0;32mtry\u001b[0m\u001b[0;34m:\u001b[0m\u001b[0;34m\u001b[0m\u001b[0;34m\u001b[0m\u001b[0m\n\u001b[0;32m-> 3361\u001b[0;31m                 \u001b[0;32mreturn\u001b[0m \u001b[0mself\u001b[0m\u001b[0;34m.\u001b[0m\u001b[0m_engine\u001b[0m\u001b[0;34m.\u001b[0m\u001b[0mget_loc\u001b[0m\u001b[0;34m(\u001b[0m\u001b[0mcasted_key\u001b[0m\u001b[0;34m)\u001b[0m\u001b[0;34m\u001b[0m\u001b[0;34m\u001b[0m\u001b[0m\n\u001b[0m\u001b[1;32m   3362\u001b[0m             \u001b[0;32mexcept\u001b[0m \u001b[0mKeyError\u001b[0m \u001b[0;32mas\u001b[0m \u001b[0merr\u001b[0m\u001b[0;34m:\u001b[0m\u001b[0;34m\u001b[0m\u001b[0;34m\u001b[0m\u001b[0m\n",
            "\u001b[0;32m/usr/local/lib/python3.7/dist-packages/pandas/_libs/index.pyx\u001b[0m in \u001b[0;36mpandas._libs.index.IndexEngine.get_loc\u001b[0;34m()\u001b[0m\n",
            "\u001b[0;32m/usr/local/lib/python3.7/dist-packages/pandas/_libs/index.pyx\u001b[0m in \u001b[0;36mpandas._libs.index.IndexEngine.get_loc\u001b[0;34m()\u001b[0m\n",
            "\u001b[0;32mpandas/_libs/hashtable_class_helper.pxi\u001b[0m in \u001b[0;36mpandas._libs.hashtable.PyObjectHashTable.get_item\u001b[0;34m()\u001b[0m\n",
            "\u001b[0;32mpandas/_libs/hashtable_class_helper.pxi\u001b[0m in \u001b[0;36mpandas._libs.hashtable.PyObjectHashTable.get_item\u001b[0;34m()\u001b[0m\n",
            "\u001b[0;31mKeyError\u001b[0m: 'timeCode'",
            "\nThe above exception was the direct cause of the following exception:\n",
            "\u001b[0;31mKeyError\u001b[0m                                  Traceback (most recent call last)",
            "\u001b[0;32m<ipython-input-66-c4789ff8c9fc>\u001b[0m in \u001b[0;36m<module>\u001b[0;34m\u001b[0m\n\u001b[1;32m      1\u001b[0m \u001b[0;31m# 年次一覧リストを作成\u001b[0m\u001b[0;34m\u001b[0m\u001b[0;34m\u001b[0m\u001b[0;34m\u001b[0m\u001b[0m\n\u001b[0;32m----> 2\u001b[0;31m \u001b[0mtimes\u001b[0m \u001b[0;34m=\u001b[0m \u001b[0mdf_value\u001b[0m\u001b[0;34m[\u001b[0m\u001b[0;34m'timeCode'\u001b[0m\u001b[0;34m]\u001b[0m\u001b[0;34m.\u001b[0m\u001b[0mtolist\u001b[0m\u001b[0;34m(\u001b[0m\u001b[0;34m)\u001b[0m\u001b[0;34m\u001b[0m\u001b[0;34m\u001b[0m\u001b[0m\n\u001b[0m\u001b[1;32m      3\u001b[0m \u001b[0mtimes\u001b[0m \u001b[0;34m=\u001b[0m \u001b[0mlist\u001b[0m\u001b[0;34m(\u001b[0m\u001b[0mset\u001b[0m\u001b[0;34m(\u001b[0m\u001b[0mtimes\u001b[0m\u001b[0;34m)\u001b[0m\u001b[0;34m)\u001b[0m\u001b[0;34m\u001b[0m\u001b[0;34m\u001b[0m\u001b[0m\n\u001b[1;32m      4\u001b[0m \u001b[0mprint\u001b[0m\u001b[0;34m(\u001b[0m\u001b[0mlen\u001b[0m\u001b[0;34m(\u001b[0m\u001b[0mtimes\u001b[0m\u001b[0;34m)\u001b[0m\u001b[0;34m)\u001b[0m\u001b[0;34m\u001b[0m\u001b[0;34m\u001b[0m\u001b[0m\n\u001b[1;32m      5\u001b[0m \u001b[0;34m\u001b[0m\u001b[0m\n",
            "\u001b[0;32m/usr/local/lib/python3.7/dist-packages/pandas/core/frame.py\u001b[0m in \u001b[0;36m__getitem__\u001b[0;34m(self, key)\u001b[0m\n\u001b[1;32m   3456\u001b[0m             \u001b[0;32mif\u001b[0m \u001b[0mself\u001b[0m\u001b[0;34m.\u001b[0m\u001b[0mcolumns\u001b[0m\u001b[0;34m.\u001b[0m\u001b[0mnlevels\u001b[0m \u001b[0;34m>\u001b[0m \u001b[0;36m1\u001b[0m\u001b[0;34m:\u001b[0m\u001b[0;34m\u001b[0m\u001b[0;34m\u001b[0m\u001b[0m\n\u001b[1;32m   3457\u001b[0m                 \u001b[0;32mreturn\u001b[0m \u001b[0mself\u001b[0m\u001b[0;34m.\u001b[0m\u001b[0m_getitem_multilevel\u001b[0m\u001b[0;34m(\u001b[0m\u001b[0mkey\u001b[0m\u001b[0;34m)\u001b[0m\u001b[0;34m\u001b[0m\u001b[0;34m\u001b[0m\u001b[0m\n\u001b[0;32m-> 3458\u001b[0;31m             \u001b[0mindexer\u001b[0m \u001b[0;34m=\u001b[0m \u001b[0mself\u001b[0m\u001b[0;34m.\u001b[0m\u001b[0mcolumns\u001b[0m\u001b[0;34m.\u001b[0m\u001b[0mget_loc\u001b[0m\u001b[0;34m(\u001b[0m\u001b[0mkey\u001b[0m\u001b[0;34m)\u001b[0m\u001b[0;34m\u001b[0m\u001b[0;34m\u001b[0m\u001b[0m\n\u001b[0m\u001b[1;32m   3459\u001b[0m             \u001b[0;32mif\u001b[0m \u001b[0mis_integer\u001b[0m\u001b[0;34m(\u001b[0m\u001b[0mindexer\u001b[0m\u001b[0;34m)\u001b[0m\u001b[0;34m:\u001b[0m\u001b[0;34m\u001b[0m\u001b[0;34m\u001b[0m\u001b[0m\n\u001b[1;32m   3460\u001b[0m                 \u001b[0mindexer\u001b[0m \u001b[0;34m=\u001b[0m \u001b[0;34m[\u001b[0m\u001b[0mindexer\u001b[0m\u001b[0;34m]\u001b[0m\u001b[0;34m\u001b[0m\u001b[0;34m\u001b[0m\u001b[0m\n",
            "\u001b[0;32m/usr/local/lib/python3.7/dist-packages/pandas/core/indexes/base.py\u001b[0m in \u001b[0;36mget_loc\u001b[0;34m(self, key, method, tolerance)\u001b[0m\n\u001b[1;32m   3361\u001b[0m                 \u001b[0;32mreturn\u001b[0m \u001b[0mself\u001b[0m\u001b[0;34m.\u001b[0m\u001b[0m_engine\u001b[0m\u001b[0;34m.\u001b[0m\u001b[0mget_loc\u001b[0m\u001b[0;34m(\u001b[0m\u001b[0mcasted_key\u001b[0m\u001b[0;34m)\u001b[0m\u001b[0;34m\u001b[0m\u001b[0;34m\u001b[0m\u001b[0m\n\u001b[1;32m   3362\u001b[0m             \u001b[0;32mexcept\u001b[0m \u001b[0mKeyError\u001b[0m \u001b[0;32mas\u001b[0m \u001b[0merr\u001b[0m\u001b[0;34m:\u001b[0m\u001b[0;34m\u001b[0m\u001b[0;34m\u001b[0m\u001b[0m\n\u001b[0;32m-> 3363\u001b[0;31m                 \u001b[0;32mraise\u001b[0m \u001b[0mKeyError\u001b[0m\u001b[0;34m(\u001b[0m\u001b[0mkey\u001b[0m\u001b[0;34m)\u001b[0m \u001b[0;32mfrom\u001b[0m \u001b[0merr\u001b[0m\u001b[0;34m\u001b[0m\u001b[0;34m\u001b[0m\u001b[0m\n\u001b[0m\u001b[1;32m   3364\u001b[0m \u001b[0;34m\u001b[0m\u001b[0m\n\u001b[1;32m   3365\u001b[0m         \u001b[0;32mif\u001b[0m \u001b[0mis_scalar\u001b[0m\u001b[0;34m(\u001b[0m\u001b[0mkey\u001b[0m\u001b[0;34m)\u001b[0m \u001b[0;32mand\u001b[0m \u001b[0misna\u001b[0m\u001b[0;34m(\u001b[0m\u001b[0mkey\u001b[0m\u001b[0;34m)\u001b[0m \u001b[0;32mand\u001b[0m \u001b[0;32mnot\u001b[0m \u001b[0mself\u001b[0m\u001b[0;34m.\u001b[0m\u001b[0mhasnans\u001b[0m\u001b[0;34m:\u001b[0m\u001b[0;34m\u001b[0m\u001b[0;34m\u001b[0m\u001b[0m\n",
            "\u001b[0;31mKeyError\u001b[0m: 'timeCode'"
          ]
        }
      ],
      "source": [
        "\n",
        "# 年次一覧リストを作成\n",
        "times = df_value['timeCode'].tolist()\n",
        "times = list(set(times))\n",
        "print(len(times))\n",
        "\n",
        "# 最終DataFrame\n",
        "cols = ['categoryCode', 'categoryName','timeCode','timeName','areaCode','areaName','value','unit','rank']\n",
        "df_last = pd.DataFrame(index=[], columns=cols)\n",
        "print(df_last)\n",
        "\n",
        "# 順位を付与して、最終DataFrameに整形する\n",
        "for time in times:\n",
        "  df = df_value.copy()[df_value['timeCode'] == time]\n",
        "  df['rank'] = df.rank(ascending=False)['value'].astype(int).astype(str)\n",
        "  df['value'] = df['value'].astype(str)\n",
        "  df_last = pd.concat([df_last, df])\n",
        "\n",
        "print(df_last)"
      ]
    }
  ],
  "metadata": {
    "colab": {
      "collapsed_sections": [],
      "toc_visible": true,
      "provenance": []
    },
    "kernelspec": {
      "display_name": "Python 3",
      "name": "python3"
    }
  },
  "nbformat": 4,
  "nbformat_minor": 0
}