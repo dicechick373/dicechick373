{
  "cells": [
    {
      "cell_type": "markdown",
      "source": [
        "# 実行環境の作成"
      ],
      "metadata": {
        "id": "inrYQThZlUDa"
      }
    },
    {
      "cell_type": "markdown",
      "source": [
        "## Google Cloud Storage"
      ],
      "metadata": {
        "id": "BDMnnS3RVrkF"
      }
    },
    {
      "cell_type": "markdown",
      "source": [
        "下記コードでGCPに接続"
      ],
      "metadata": {
        "id": "SsgiSjKhV2D7"
      }
    },
    {
      "cell_type": "code",
      "source": [
        "from google.colab import auth\n",
        "auth.authenticate_user()"
      ],
      "metadata": {
        "id": "GKiUkM7SV0bY"
      },
      "execution_count": 1,
      "outputs": []
    },
    {
      "cell_type": "markdown",
      "source": [
        "認証に成功したらgcsfuseをインストール"
      ],
      "metadata": {
        "id": "KP4JP4ouV6QS"
      }
    },
    {
      "cell_type": "code",
      "source": [
        "!echo \"deb http://packages.cloud.google.com/apt gcsfuse-`lsb_release -c -s` main\" | sudo tee /etc/apt/sources.list.d/gcsfuse.list\n",
        "!curl https://packages.cloud.google.com/apt/doc/apt-key.gpg | sudo apt-key add -\n",
        "!apt-get -y -q update\n",
        "!apt-get -y -q install gcsfuse"
      ],
      "metadata": {
        "colab": {
          "base_uri": "https://localhost:8080/"
        },
        "id": "d1D5UagbV9A4",
        "outputId": "80219236-c69c-441a-d89d-ffd03f2c3a32"
      },
      "execution_count": 2,
      "outputs": [
        {
          "output_type": "stream",
          "name": "stdout",
          "text": [
            "deb http://packages.cloud.google.com/apt gcsfuse-bionic main\n",
            "  % Total    % Received % Xferd  Average Speed   Time    Time     Time  Current\n",
            "                                 Dload  Upload   Total   Spent    Left  Speed\n",
            "100  2537  100  2537    0     0  31712      0 --:--:-- --:--:-- --:--:-- 31712\n",
            "OK\n",
            "Get:1 http://packages.cloud.google.com/apt gcsfuse-bionic InRelease [5,391 B]\n",
            "Hit:2 https://cloud.r-project.org/bin/linux/ubuntu bionic-cran40/ InRelease\n",
            "Ign:3 https://developer.download.nvidia.com/compute/machine-learning/repos/ubuntu1804/x86_64  InRelease\n",
            "Hit:4 https://developer.download.nvidia.com/compute/cuda/repos/ubuntu1804/x86_64  InRelease\n",
            "Hit:5 https://developer.download.nvidia.com/compute/machine-learning/repos/ubuntu1804/x86_64  Release\n",
            "Hit:6 http://archive.ubuntu.com/ubuntu bionic InRelease\n",
            "Hit:7 http://security.ubuntu.com/ubuntu bionic-security InRelease\n",
            "Hit:8 http://archive.ubuntu.com/ubuntu bionic-updates InRelease\n",
            "Hit:9 http://archive.ubuntu.com/ubuntu bionic-backports InRelease\n",
            "Hit:10 http://ppa.launchpad.net/c2d4u.team/c2d4u4.0+/ubuntu bionic InRelease\n",
            "Hit:11 http://ppa.launchpad.net/cran/libgit2/ubuntu bionic InRelease\n",
            "Hit:12 http://ppa.launchpad.net/deadsnakes/ppa/ubuntu bionic InRelease\n",
            "Hit:14 http://ppa.launchpad.net/graphics-drivers/ppa/ubuntu bionic InRelease\n",
            "Fetched 5,391 B in 3s (1,850 B/s)\n",
            "Reading package lists...\n",
            "Reading package lists...\n",
            "Building dependency tree...\n",
            "Reading state information...\n",
            "gcsfuse is already the newest version (0.41.6).\n",
            "The following package was automatically installed and is no longer required:\n",
            "  libnvidia-common-460\n",
            "Use 'apt autoremove' to remove it.\n",
            "0 upgraded, 0 newly installed, 0 to remove and 56 not upgraded.\n"
          ]
        }
      ]
    },
    {
      "cell_type": "markdown",
      "source": [
        "バケット「statistics-hyogo」をディレクトリ「statistics-hyogo」にマウント"
      ],
      "metadata": {
        "id": "QUUcFp5LWR6s"
      }
    },
    {
      "cell_type": "code",
      "source": [
        "! mkdir -p statistics-hyogo\n",
        "! gcsfuse --implicit-dirs --limit-bytes-per-sec -1 --limit-ops-per-sec -1 statistics-hyogo statistics-hyogo"
      ],
      "metadata": {
        "colab": {
          "base_uri": "https://localhost:8080/"
        },
        "id": "vw-vsTVGWIfp",
        "outputId": "dc5a4dd7-9443-48e0-a305-459d5c01defb"
      },
      "execution_count": 3,
      "outputs": [
        {
          "output_type": "stream",
          "name": "stdout",
          "text": [
            "2022/09/14 05:06:27.295495 Start gcsfuse/0.41.6 (Go version go1.18.4) for app \"\" using mount point: /content/statistics-hyogo\n",
            "2022/09/14 05:06:27.358536 Opening GCS connection...\n",
            "2022/09/14 05:06:27.782657 Mounting file system \"statistics-hyogo\"...\n",
            "2022/09/14 05:06:27.792962 File system has been successfully mounted.\n"
          ]
        }
      ]
    },
    {
      "cell_type": "markdown",
      "source": [
        "## Google Secret Maneger"
      ],
      "metadata": {
        "id": "7qQcN2LeWv6y"
      }
    },
    {
      "cell_type": "markdown",
      "source": [
        "ライブラリをインストール"
      ],
      "metadata": {
        "id": "6CbBOyZ5XYJM"
      }
    },
    {
      "cell_type": "code",
      "source": [
        "pip install google-cloud-secret-manager"
      ],
      "metadata": {
        "id": "mEYHoCvDXQpm"
      },
      "execution_count": null,
      "outputs": []
    },
    {
      "cell_type": "markdown",
      "source": [
        "シークレットを呼び出す関数"
      ],
      "metadata": {
        "id": "UVUeVFCjXxTf"
      }
    },
    {
      "cell_type": "code",
      "source": [
        "from google.cloud import secretmanager\n",
        "\n",
        "def access_secret(project_id, secret_name, version='latest'):\n",
        "    client = secretmanager.SecretManagerServiceClient()\n",
        "    name = client.secret_version_path(project_id, secret_name, version)\n",
        "    response = client.access_secret_version(request={\"name\":name})\n",
        "    payload = response.payload.data.decode(\"UTF-8\")\n",
        "    return payload"
      ],
      "metadata": {
        "id": "HtS1JoaoXvPU"
      },
      "execution_count": 5,
      "outputs": []
    },
    {
      "cell_type": "markdown",
      "source": [
        "ESTAT_APPIDを取得する"
      ],
      "metadata": {
        "id": "xu8BYCJrX1a9"
      }
    },
    {
      "cell_type": "code",
      "source": [
        "PROJECT_ID = 'primal-buttress-342908'\n",
        "ESTAT_APPID = access_secret(PROJECT_ID,'ESTAT_APPID' )\n",
        "# print(ESTAT_APPID)"
      ],
      "metadata": {
        "id": "W7ZrfiMkX4cp"
      },
      "execution_count": 6,
      "outputs": []
    },
    {
      "cell_type": "markdown",
      "source": [
        "## pythonのライブラリ追加"
      ],
      "metadata": {
        "id": "rv4FGegQaZtc"
      }
    },
    {
      "cell_type": "code",
      "source": [
        "import urllib.parse\n",
        "import urllib.request\n",
        "import json\n",
        "import pandas as pd"
      ],
      "metadata": {
        "id": "eIB9NAJdalZT"
      },
      "execution_count": 7,
      "outputs": []
    },
    {
      "cell_type": "markdown",
      "source": [
        "# estatの統計情報を取得"
      ],
      "metadata": {
        "id": "8AQDQmu5ZIVE"
      }
    },
    {
      "cell_type": "markdown",
      "source": [
        "統計表を指定してメタ情報を取得する\n",
        "\n",
        "[API仕様](https://www.e-stat.go.jp/api/api-info/e-stat-manual3-0#api_2_2)"
      ],
      "metadata": {
        "id": "s9tOiD5NZv5c"
      }
    },
    {
      "cell_type": "markdown",
      "source": [
        "'statsDataId'に統計表コードを指定"
      ],
      "metadata": {
        "id": "IYxQ-Md5ZU3P"
      }
    },
    {
      "cell_type": "code",
      "source": [
        "statsDataId = '0000010101'"
      ],
      "metadata": {
        "id": "RS0kYP4dZUSU"
      },
      "execution_count": 8,
      "outputs": []
    },
    {
      "cell_type": "markdown",
      "source": [
        "メタ情報を取得する関数を作成"
      ],
      "metadata": {
        "id": "d5VF0GXDZjRr"
      }
    },
    {
      "cell_type": "code",
      "source": [
        "def get_estat_meta(statsDataId):\n",
        "  # リクエストパラメータ\n",
        "  p={}\n",
        "  p['statsDataId'] = statsDataId\n",
        "  p['appId'] = ESTAT_APPID\n",
        "\n",
        "  url = 'http://api.e-stat.go.jp/rest/3.0/app/json/getMetaInfo?'\n",
        "  url += urllib.parse.urlencode(p)\n",
        "\n",
        "  with urllib.request.urlopen(url) as response:\n",
        "    return json.loads(response.read().decode('utf-8'))\n",
        "\n",
        "meta = get_estat_meta(statsDataId)\n",
        "print(meta)"
      ],
      "metadata": {
        "id": "Qkb_XkW4ZiN8"
      },
      "execution_count": null,
      "outputs": []
    },
    {
      "cell_type": "markdown",
      "source": [
        "## カテゴリコード一覧"
      ],
      "metadata": {
        "id": "1VZR8CVipdYL"
      }
    },
    {
      "cell_type": "markdown",
      "source": [
        "カテゴリコード'cat01'のリストを作成する関数"
      ],
      "metadata": {
        "id": "skjQsB3hcJ0b"
      }
    },
    {
      "cell_type": "code",
      "source": [
        "def get_estat_catefory_codes(statsDataId):\n",
        "  meta= get_estat_meta(statsDataId)\n",
        " \n",
        "  # CLASS_OBJ\n",
        "  CLASS_OBJ = meta['GET_META_INFO']['METADATA_INF']['CLASS_INF']['CLASS_OBJ']\n",
        "\n",
        "  # カテゴリ一覧\n",
        "  categories = next((d for d in CLASS_OBJ if d['@id'] == 'cat01'), None)['CLASS']\n",
        "  print(categories)\n",
        "\n",
        "  # カテゴリコード一覧\n",
        "  catagory_codes = [d.get('@code') for d in categories]\n",
        "\n",
        "  return catagory_codes\n",
        "\n",
        "category_codes = get_estat_catefory_codes(statsDataId)\n",
        "# print(category_codes)\n",
        "# print(len(category_codes))"
      ],
      "metadata": {
        "colab": {
          "base_uri": "https://localhost:8080/"
        },
        "id": "QLqvsnhuc20r",
        "outputId": "eee4c7b5-ed90-45b7-882d-dbbcad9dc93f"
      },
      "execution_count": 53,
      "outputs": [
        {
          "output_type": "stream",
          "name": "stdout",
          "text": [
            "[{'@code': 'A1101', '@name': 'A1101_総人口', '@level': '1', '@unit': '人'}, {'@code': 'A110101', '@name': 'A110101_総人口（男）', '@level': '1', '@unit': '人'}, {'@code': 'A110102', '@name': 'A110102_総人口（女）', '@level': '1', '@unit': '人'}, {'@code': 'A1102', '@name': 'A1102_日本人人口', '@level': '1', '@unit': '人'}, {'@code': 'A110201', '@name': 'A110201_日本人人口（男）', '@level': '1', '@unit': '人'}, {'@code': 'A110202', '@name': 'A110202_日本人人口（女）', '@level': '1', '@unit': '人'}, {'@code': 'A1201', '@name': 'A1201_0～4歳人口', '@level': '1', '@unit': '人'}, {'@code': 'A120101', '@name': 'A120101_0～4歳人口（男）', '@level': '1', '@unit': '人'}, {'@code': 'A120102', '@name': 'A120102_0～4歳人口（女）', '@level': '1', '@unit': '人'}, {'@code': 'A1202', '@name': 'A1202_5～9歳人口', '@level': '1', '@unit': '人'}, {'@code': 'A120201', '@name': 'A120201_5～9歳人口（男）', '@level': '1', '@unit': '人'}, {'@code': 'A120202', '@name': 'A120202_5～9歳人口（女）', '@level': '1', '@unit': '人'}, {'@code': 'A1203', '@name': 'A1203_10～14歳人口', '@level': '1', '@unit': '人'}, {'@code': 'A120301', '@name': 'A120301_10～14歳人口（男）', '@level': '1', '@unit': '人'}, {'@code': 'A120302', '@name': 'A120302_10～14歳人口（女）', '@level': '1', '@unit': '人'}, {'@code': 'A1204', '@name': 'A1204_15～19歳人口', '@level': '1', '@unit': '人'}, {'@code': 'A120401', '@name': 'A120401_15～19歳人口（男）', '@level': '1', '@unit': '人'}, {'@code': 'A120402', '@name': 'A120402_15～19歳人口（女）', '@level': '1', '@unit': '人'}, {'@code': 'A1205', '@name': 'A1205_20～24歳人口', '@level': '1', '@unit': '人'}, {'@code': 'A120501', '@name': 'A120501_20～24歳人口（男）', '@level': '1', '@unit': '人'}, {'@code': 'A120502', '@name': 'A120502_20～24歳人口（女）', '@level': '1', '@unit': '人'}, {'@code': 'A1206', '@name': 'A1206_25～29歳人口', '@level': '1', '@unit': '人'}, {'@code': 'A120601', '@name': 'A120601_25～29歳人口（男）', '@level': '1', '@unit': '人'}, {'@code': 'A120602', '@name': 'A120602_25～29歳人口（女）', '@level': '1', '@unit': '人'}, {'@code': 'A1207', '@name': 'A1207_30～34歳人口', '@level': '1', '@unit': '人'}, {'@code': 'A120701', '@name': 'A120701_30～34歳人口（男）', '@level': '1', '@unit': '人'}, {'@code': 'A120702', '@name': 'A120702_30～34歳人口（女）', '@level': '1', '@unit': '人'}, {'@code': 'A1208', '@name': 'A1208_35～39歳人口', '@level': '1', '@unit': '人'}, {'@code': 'A120801', '@name': 'A120801_35～39歳人口（男）', '@level': '1', '@unit': '人'}, {'@code': 'A120802', '@name': 'A120802_35～39歳人口（女）', '@level': '1', '@unit': '人'}, {'@code': 'A1209', '@name': 'A1209_40～44歳人口', '@level': '1', '@unit': '人'}, {'@code': 'A120901', '@name': 'A120901_40～44歳人口（男）', '@level': '1', '@unit': '人'}, {'@code': 'A120902', '@name': 'A120902_40～44歳人口（女）', '@level': '1', '@unit': '人'}, {'@code': 'A1210', '@name': 'A1210_45～49歳人口', '@level': '1', '@unit': '人'}, {'@code': 'A121001', '@name': 'A121001_45～49歳人口（男）', '@level': '1', '@unit': '人'}, {'@code': 'A121002', '@name': 'A121002_45～49歳人口（女）', '@level': '1', '@unit': '人'}, {'@code': 'A1211', '@name': 'A1211_50～54歳人口', '@level': '1', '@unit': '人'}, {'@code': 'A121101', '@name': 'A121101_50～54歳人口（男）', '@level': '1', '@unit': '人'}, {'@code': 'A121102', '@name': 'A121102_50～54歳人口（女）', '@level': '1', '@unit': '人'}, {'@code': 'A1212', '@name': 'A1212_55～59歳人口', '@level': '1', '@unit': '人'}, {'@code': 'A121201', '@name': 'A121201_55～59歳人口（男）', '@level': '1', '@unit': '人'}, {'@code': 'A121202', '@name': 'A121202_55～59歳人口（女）', '@level': '1', '@unit': '人'}, {'@code': 'A1213', '@name': 'A1213_60～64歳人口', '@level': '1', '@unit': '人'}, {'@code': 'A121301', '@name': 'A121301_60～64歳人口（男）', '@level': '1', '@unit': '人'}, {'@code': 'A121302', '@name': 'A121302_60～64歳人口（女）', '@level': '1', '@unit': '人'}, {'@code': 'A1214', '@name': 'A1214_65～69歳人口', '@level': '1', '@unit': '人'}, {'@code': 'A121401', '@name': 'A121401_65～69歳人口（男）', '@level': '1', '@unit': '人'}, {'@code': 'A121402', '@name': 'A121402_65～69歳人口（女）', '@level': '1', '@unit': '人'}, {'@code': 'A1215', '@name': 'A1215_70～74歳人口', '@level': '1', '@unit': '人'}, {'@code': 'A121501', '@name': 'A121501_70～74歳人口（男）', '@level': '1', '@unit': '人'}, {'@code': 'A121502', '@name': 'A121502_70～74歳人口（女）', '@level': '1', '@unit': '人'}, {'@code': 'A1216', '@name': 'A1216_75～79歳人口', '@level': '1', '@unit': '人'}, {'@code': 'A121601', '@name': 'A121601_75～79歳人口（男）', '@level': '1', '@unit': '人'}, {'@code': 'A121602', '@name': 'A121602_75～79歳人口（女）', '@level': '1', '@unit': '人'}, {'@code': 'A1217', '@name': 'A1217_80～84歳人口', '@level': '1', '@unit': '人'}, {'@code': 'A121701', '@name': 'A121701_80～84歳人口（男）', '@level': '1', '@unit': '人'}, {'@code': 'A121702', '@name': 'A121702_80～84歳人口（女）', '@level': '1', '@unit': '人'}, {'@code': 'A1218', '@name': 'A1218_85～89歳人口', '@level': '1', '@unit': '人'}, {'@code': 'A121801', '@name': 'A121801_85～89歳人口（男）', '@level': '1', '@unit': '人'}, {'@code': 'A121802', '@name': 'A121802_85～89歳人口（女）', '@level': '1', '@unit': '人'}, {'@code': 'A1219', '@name': 'A1219_90～94歳人口', '@level': '1', '@unit': '人'}, {'@code': 'A121901', '@name': 'A121901_90～94歳人口（男）', '@level': '1', '@unit': '人'}, {'@code': 'A121902', '@name': 'A121902_90～94歳人口（女）', '@level': '1', '@unit': '人'}, {'@code': 'A1220', '@name': 'A1220_95～99歳人口', '@level': '1', '@unit': '人'}, {'@code': 'A122001', '@name': 'A122001_95～99歳人口（男）', '@level': '1', '@unit': '人'}, {'@code': 'A122002', '@name': 'A122002_95～99歳人口（女）', '@level': '1', '@unit': '人'}, {'@code': 'A1221', '@name': 'A1221_100歳以上人口', '@level': '1', '@unit': '人'}, {'@code': 'A122101', '@name': 'A122101_100歳以上人口（男）', '@level': '1', '@unit': '人'}, {'@code': 'A122102', '@name': 'A122102_100歳以上人口（女）', '@level': '1', '@unit': '人'}, {'@code': 'A1231', '@name': 'A1231_年齢中位数', '@level': '1', '@unit': '歳'}, {'@code': 'A1301', '@name': 'A1301_15歳未満人口', '@level': '1', '@unit': '人'}, {'@code': 'A130101', '@name': 'A130101_15歳未満人口（男）', '@level': '1', '@unit': '人'}, {'@code': 'A130102', '@name': 'A130102_15歳未満人口（女）', '@level': '1', '@unit': '人'}, {'@code': 'A1302', '@name': 'A1302_15～64歳人口', '@level': '1', '@unit': '人'}, {'@code': 'A130201', '@name': 'A130201_15～64歳人口（男）', '@level': '1', '@unit': '人'}, {'@code': 'A130202', '@name': 'A130202_15～64歳人口（女）', '@level': '1', '@unit': '人'}, {'@code': 'A1303', '@name': 'A1303_65歳以上人口', '@level': '1', '@unit': '人'}, {'@code': 'A130301', '@name': 'A130301_65歳以上人口（男）', '@level': '1', '@unit': '人'}, {'@code': 'A130302', '@name': 'A130302_65歳以上人口（女）', '@level': '1', '@unit': '人'}, {'@code': 'A1304', '@name': 'A1304_15歳未満人口割合', '@level': '1', '@unit': '％'}, {'@code': 'A130401', '@name': 'A130401_15歳未満人口割合（男）', '@level': '1', '@unit': '％'}, {'@code': 'A130402', '@name': 'A130402_15歳未満人口割合（女）', '@level': '1', '@unit': '％'}, {'@code': 'A1305', '@name': 'A1305_15～64歳人口割合', '@level': '1', '@unit': '％'}, {'@code': 'A130501', '@name': 'A130501_15～64歳人口割合（男）', '@level': '1', '@unit': '％'}, {'@code': 'A130502', '@name': 'A130502_15～64歳人口割合（女）', '@level': '1', '@unit': '％'}, {'@code': 'A1306', '@name': 'A1306_65歳以上人口割合', '@level': '1', '@unit': '％'}, {'@code': 'A130601', '@name': 'A130601_65歳以上人口割合（男）', '@level': '1', '@unit': '％'}, {'@code': 'A130602', '@name': 'A130602_65歳以上人口割合（女）', '@level': '1', '@unit': '％'}, {'@code': 'A1401', '@name': 'A1401_3歳人口', '@level': '1', '@unit': '人'}, {'@code': 'A140101', '@name': 'A140101_3歳人口（男）', '@level': '1', '@unit': '人'}, {'@code': 'A140102', '@name': 'A140102_3歳人口（女）', '@level': '1', '@unit': '人'}, {'@code': 'A1402', '@name': 'A1402_4歳人口', '@level': '1', '@unit': '人'}, {'@code': 'A140201', '@name': 'A140201_4歳人口（男）', '@level': '1', '@unit': '人'}, {'@code': 'A140202', '@name': 'A140202_4歳人口（女）', '@level': '1', '@unit': '人'}, {'@code': 'A1403', '@name': 'A1403_5歳人口', '@level': '1', '@unit': '人'}, {'@code': 'A140301', '@name': 'A140301_5歳人口（男）', '@level': '1', '@unit': '人'}, {'@code': 'A140302', '@name': 'A140302_5歳人口（女）', '@level': '1', '@unit': '人'}, {'@code': 'A1404', '@name': 'A1404_0～3歳人口', '@level': '1', '@unit': '人'}, {'@code': 'A140401', '@name': 'A140401_0～3歳人口（男）', '@level': '1', '@unit': '人'}, {'@code': 'A140402', '@name': 'A140402_0～3歳人口（女）', '@level': '1', '@unit': '人'}, {'@code': 'A1405', '@name': 'A1405_0～5歳人口', '@level': '1', '@unit': '人'}, {'@code': 'A140501', '@name': 'A140501_0～5歳人口（男）', '@level': '1', '@unit': '人'}, {'@code': 'A140502', '@name': 'A140502_0～5歳人口（女）', '@level': '1', '@unit': '人'}, {'@code': 'A1406', '@name': 'A1406_0～15歳人口', '@level': '1', '@unit': '人'}, {'@code': 'A140601', '@name': 'A140601_0～15歳人口（男）', '@level': '1', '@unit': '人'}, {'@code': 'A140602', '@name': 'A140602_0～15歳人口（女）', '@level': '1', '@unit': '人'}, {'@code': 'A1407', '@name': 'A1407_0～17歳人口', '@level': '1', '@unit': '人'}, {'@code': 'A140701', '@name': 'A140701_0～17歳人口（男）', '@level': '1', '@unit': '人'}, {'@code': 'A140702', '@name': 'A140702_0～17歳人口（女）', '@level': '1', '@unit': '人'}, {'@code': 'A1408', '@name': 'A1408_3～5歳人口', '@level': '1', '@unit': '人'}, {'@code': 'A140801', '@name': 'A140801_3～5歳人口（男）', '@level': '1', '@unit': '人'}, {'@code': 'A140802', '@name': 'A140802_3～5歳人口（女）', '@level': '1', '@unit': '人'}, {'@code': 'A1409', '@name': 'A1409_6～11歳人口', '@level': '1', '@unit': '人'}, {'@code': 'A140901', '@name': 'A140901_6～11歳人口（男）', '@level': '1', '@unit': '人'}, {'@code': 'A140902', '@name': 'A140902_6～11歳人口（女）', '@level': '1', '@unit': '人'}, {'@code': 'A1410', '@name': 'A1410_10～13歳人口', '@level': '1', '@unit': '人'}, {'@code': 'A141001', '@name': 'A141001_10～13歳人口（男）', '@level': '1', '@unit': '人'}, {'@code': 'A141002', '@name': 'A141002_10～13歳人口（女）', '@level': '1', '@unit': '人'}, {'@code': 'A1411', '@name': 'A1411_12～14歳人口', '@level': '1', '@unit': '人'}, {'@code': 'A141101', '@name': 'A141101_12～14歳人口（男）', '@level': '1', '@unit': '人'}, {'@code': 'A141102', '@name': 'A141102_12～14歳人口（女）', '@level': '1', '@unit': '人'}, {'@code': 'A1412', '@name': 'A1412_14～19歳人口', '@level': '1', '@unit': '人'}, {'@code': 'A141201', '@name': 'A141201_14～19歳人口（男）', '@level': '1', '@unit': '人'}, {'@code': 'A141202', '@name': 'A141202_14～19歳人口（女）', '@level': '1', '@unit': '人'}, {'@code': 'A1413', '@name': 'A1413_15～17歳人口', '@level': '1', '@unit': '人'}, {'@code': 'A141301', '@name': 'A141301_15～17歳人口（男）', '@level': '1', '@unit': '人'}, {'@code': 'A141302', '@name': 'A141302_15～17歳人口（女）', '@level': '1', '@unit': '人'}, {'@code': 'A1414', '@name': 'A1414_15歳以上人口', '@level': '1', '@unit': '人'}, {'@code': 'A141401', '@name': 'A141401_15歳以上人口（男）', '@level': '1', '@unit': '人'}, {'@code': 'A141402', '@name': 'A141402_15歳以上人口（女）', '@level': '1', '@unit': '人'}, {'@code': 'A1415', '@name': 'A1415_40歳以上人口', '@level': '1', '@unit': '人'}, {'@code': 'A141501', '@name': 'A141501_40歳以上人口（男）', '@level': '1', '@unit': '人'}, {'@code': 'A141502', '@name': 'A141502_40歳以上人口（女）', '@level': '1', '@unit': '人'}, {'@code': 'A1416', '@name': 'A1416_60歳以上人口', '@level': '1', '@unit': '人'}, {'@code': 'A141601', '@name': 'A141601_60歳以上人口（男）', '@level': '1', '@unit': '人'}, {'@code': 'A141602', '@name': 'A141602_60歳以上人口（女）', '@level': '1', '@unit': '人'}, {'@code': 'A1417', '@name': 'A1417_70歳以上人口', '@level': '1', '@unit': '人'}, {'@code': 'A141701', '@name': 'A141701_70歳以上人口（男）', '@level': '1', '@unit': '人'}, {'@code': 'A141702', '@name': 'A141702_70歳以上人口（女）', '@level': '1', '@unit': '人'}, {'@code': 'A1418', '@name': 'A1418_80歳以上人口', '@level': '1', '@unit': '人'}, {'@code': 'A141801', '@name': 'A141801_80歳以上人口（男）', '@level': '1', '@unit': '人'}, {'@code': 'A141802', '@name': 'A141802_80歳以上人口（女）', '@level': '1', '@unit': '人'}, {'@code': 'A1419', '@name': 'A1419_75歳以上人口', '@level': '1', '@unit': '人'}, {'@code': 'A141901', '@name': 'A141901_75歳以上人口（男）', '@level': '1', '@unit': '人'}, {'@code': 'A141902', '@name': 'A141902_75歳以上人口（女）', '@level': '1', '@unit': '人'}, {'@code': 'A1420', '@name': 'A1420_85歳以上人口', '@level': '1', '@unit': '人'}, {'@code': 'A142001', '@name': 'A142001_85歳以上人口（男）', '@level': '1', '@unit': '人'}, {'@code': 'A142002', '@name': 'A142002_85歳以上人口（女）', '@level': '1', '@unit': '人'}, {'@code': 'A1501', '@name': 'A1501_－1歳人口', '@level': '1', '@unit': '人'}, {'@code': 'A1502', '@name': 'A1502_0歳人口', '@level': '1', '@unit': '人'}, {'@code': 'A150201', '@name': 'A150201_0歳人口（男）', '@level': '1', '@unit': '人'}, {'@code': 'A150202', '@name': 'A150202_0歳人口（女）', '@level': '1', '@unit': '人'}, {'@code': 'A1503', '@name': 'A1503_1歳人口', '@level': '1', '@unit': '人'}, {'@code': 'A150301', '@name': 'A150301_1歳人口（男）', '@level': '1', '@unit': '人'}, {'@code': 'A150302', '@name': 'A150302_1歳人口（女）', '@level': '1', '@unit': '人'}, {'@code': 'A1504', '@name': 'A1504_2歳人口', '@level': '1', '@unit': '人'}, {'@code': 'A150401', '@name': 'A150401_2歳人口（男）', '@level': '1', '@unit': '人'}, {'@code': 'A150402', '@name': 'A150402_2歳人口（女）', '@level': '1', '@unit': '人'}, {'@code': 'A1505', '@name': 'A1505_6歳人口', '@level': '1', '@unit': '人'}, {'@code': 'A150501', '@name': 'A150501_6歳人口（男）', '@level': '1', '@unit': '人'}, {'@code': 'A150502', '@name': 'A150502_6歳人口（女）', '@level': '1', '@unit': '人'}, {'@code': 'A1506', '@name': 'A1506_7歳人口', '@level': '1', '@unit': '人'}, {'@code': 'A150601', '@name': 'A150601_7歳人口（男）', '@level': '1', '@unit': '人'}, {'@code': 'A150602', '@name': 'A150602_7歳人口（女）', '@level': '1', '@unit': '人'}, {'@code': 'A1507', '@name': 'A1507_8歳人口', '@level': '1', '@unit': '人'}, {'@code': 'A150701', '@name': 'A150701_8歳人口（男）', '@level': '1', '@unit': '人'}, {'@code': 'A150702', '@name': 'A150702_8歳人口（女）', '@level': '1', '@unit': '人'}, {'@code': 'A1508', '@name': 'A1508_9歳人口', '@level': '1', '@unit': '人'}, {'@code': 'A150801', '@name': 'A150801_9歳人口（男）', '@level': '1', '@unit': '人'}, {'@code': 'A150802', '@name': 'A150802_9歳人口（女）', '@level': '1', '@unit': '人'}, {'@code': 'A1509', '@name': 'A1509_10歳人口', '@level': '1', '@unit': '人'}, {'@code': 'A150901', '@name': 'A150901_10歳人口（男）', '@level': '1', '@unit': '人'}, {'@code': 'A150902', '@name': 'A150902_10歳人口（女）', '@level': '1', '@unit': '人'}, {'@code': 'A1510', '@name': 'A1510_11歳人口', '@level': '1', '@unit': '人'}, {'@code': 'A151001', '@name': 'A151001_11歳人口（男）', '@level': '1', '@unit': '人'}, {'@code': 'A151002', '@name': 'A151002_11歳人口（女）', '@level': '1', '@unit': '人'}, {'@code': 'A1511', '@name': 'A1511_12歳人口', '@level': '1', '@unit': '人'}, {'@code': 'A151101', '@name': 'A151101_12歳人口（男）', '@level': '1', '@unit': '人'}, {'@code': 'A151102', '@name': 'A151102_12歳人口（女）', '@level': '1', '@unit': '人'}, {'@code': 'A1512', '@name': 'A1512_13歳人口', '@level': '1', '@unit': '人'}, {'@code': 'A151201', '@name': 'A151201_13歳人口（男）', '@level': '1', '@unit': '人'}, {'@code': 'A151202', '@name': 'A151202_13歳人口（女）', '@level': '1', '@unit': '人'}, {'@code': 'A1513', '@name': 'A1513_14歳人口', '@level': '1', '@unit': '人'}, {'@code': 'A151301', '@name': 'A151301_14歳人口（男）', '@level': '1', '@unit': '人'}, {'@code': 'A151302', '@name': 'A151302_14歳人口（女）', '@level': '1', '@unit': '人'}, {'@code': 'A1514', '@name': 'A1514_15歳人口', '@level': '1', '@unit': '人'}, {'@code': 'A151401', '@name': 'A151401_15歳人口（男）', '@level': '1', '@unit': '人'}, {'@code': 'A151402', '@name': 'A151402_15歳人口（女）', '@level': '1', '@unit': '人'}, {'@code': 'A1515', '@name': 'A1515_16歳人口', '@level': '1', '@unit': '人'}, {'@code': 'A151501', '@name': 'A151501_16歳人口（男）', '@level': '1', '@unit': '人'}, {'@code': 'A151502', '@name': 'A151502_16歳人口（女）', '@level': '1', '@unit': '人'}, {'@code': 'A1516', '@name': 'A1516_17歳人口', '@level': '1', '@unit': '人'}, {'@code': 'A151601', '@name': 'A151601_17歳人口（男）', '@level': '1', '@unit': '人'}, {'@code': 'A151602', '@name': 'A151602_17歳人口（女）', '@level': '1', '@unit': '人'}, {'@code': 'A1517', '@name': 'A1517_18歳人口', '@level': '1', '@unit': '人'}, {'@code': 'A151701', '@name': 'A151701_18歳人口（男）', '@level': '1', '@unit': '人'}, {'@code': 'A151702', '@name': 'A151702_18歳人口（女）', '@level': '1', '@unit': '人'}, {'@code': 'A1601001', '@name': 'A1601001_未婚人口（15歳以上）（男）', '@level': '1', '@unit': '人'}, {'@code': 'A1601002', '@name': 'A1601002_未婚人口（15歳以上）（女）', '@level': '1', '@unit': '人'}, {'@code': 'A1601011', '@name': 'A1601011_未婚人口（15～19歳）（男）', '@level': '1', '@unit': '人'}, {'@code': 'A1601012', '@name': 'A1601012_未婚人口（15～19歳）（女）', '@level': '1', '@unit': '人'}, {'@code': 'A1601021', '@name': 'A1601021_未婚人口（20～24歳）（男）', '@level': '1', '@unit': '人'}, {'@code': 'A1601022', '@name': 'A1601022_未婚人口（20～24歳）（女）', '@level': '1', '@unit': '人'}, {'@code': 'A1601031', '@name': 'A1601031_未婚人口（25～29歳）（男）', '@level': '1', '@unit': '人'}, {'@code': 'A1601032', '@name': 'A1601032_未婚人口（25～29歳）（女）', '@level': '1', '@unit': '人'}, {'@code': 'A1601041', '@name': 'A1601041_未婚人口（30～34歳）（男）', '@level': '1', '@unit': '人'}, {'@code': 'A1601042', '@name': 'A1601042_未婚人口（30～34歳）（女）', '@level': '1', '@unit': '人'}, {'@code': 'A1601051', '@name': 'A1601051_未婚人口（35～39歳）（男）', '@level': '1', '@unit': '人'}, {'@code': 'A1601052', '@name': 'A1601052_未婚人口（35～39歳）（女）', '@level': '1', '@unit': '人'}, {'@code': 'A1601061', '@name': 'A1601061_未婚人口（40～44歳）（男）', '@level': '1', '@unit': '人'}, {'@code': 'A1601062', '@name': 'A1601062_未婚人口（40～44歳）（女）', '@level': '1', '@unit': '人'}, {'@code': 'A1601071', '@name': 'A1601071_未婚人口（45～49歳）（男）', '@level': '1', '@unit': '人'}, {'@code': 'A1601072', '@name': 'A1601072_未婚人口（45～49歳）（女）', '@level': '1', '@unit': '人'}, {'@code': 'A1601081', '@name': 'A1601081_未婚人口（50～54歳）（男）', '@level': '1', '@unit': '人'}, {'@code': 'A1601082', '@name': 'A1601082_未婚人口（50～54歳）（女）', '@level': '1', '@unit': '人'}, {'@code': 'A1601091', '@name': 'A1601091_未婚人口（55～59歳）（男）', '@level': '1', '@unit': '人'}, {'@code': 'A1601092', '@name': 'A1601092_未婚人口（55～59歳）（女）', '@level': '1', '@unit': '人'}, {'@code': 'A1601101', '@name': 'A1601101_未婚人口（60～64歳）（男）', '@level': '1', '@unit': '人'}, {'@code': 'A1601102', '@name': 'A1601102_未婚人口（60～64歳）（女）', '@level': '1', '@unit': '人'}, {'@code': 'A1601111', '@name': 'A1601111_未婚人口（65～69歳）（男）', '@level': '1', '@unit': '人'}, {'@code': 'A1601112', '@name': 'A1601112_未婚人口（65～69歳）（女）', '@level': '1', '@unit': '人'}, {'@code': 'A1601121', '@name': 'A1601121_未婚人口（70～74歳）（男）', '@level': '1', '@unit': '人'}, {'@code': 'A1601122', '@name': 'A1601122_未婚人口（70～74歳）（女）', '@level': '1', '@unit': '人'}, {'@code': 'A1601131', '@name': 'A1601131_未婚人口（75～79歳）（男）', '@level': '1', '@unit': '人'}, {'@code': 'A1601132', '@name': 'A1601132_未婚人口（75～79歳）（女）', '@level': '1', '@unit': '人'}, {'@code': 'A1601141', '@name': 'A1601141_未婚人口（80～84歳）（男）', '@level': '1', '@unit': '人'}, {'@code': 'A1601142', '@name': 'A1601142_未婚人口（80～84歳）（女）', '@level': '1', '@unit': '人'}, {'@code': 'A1601151', '@name': 'A1601151_未婚人口（85歳以上）（男）', '@level': '1', '@unit': '人'}, {'@code': 'A1601152', '@name': 'A1601152_未婚人口（85歳以上）（女）', '@level': '1', '@unit': '人'}, {'@code': 'A1602001', '@name': 'A1602001_有配偶人口（15歳以上）（男）', '@level': '1', '@unit': '人'}, {'@code': 'A1602002', '@name': 'A1602002_有配偶人口（15歳以上）（女）', '@level': '1', '@unit': '人'}, {'@code': 'A1602021', '@name': 'A1602021_有配偶人口（20～24歳）（男）', '@level': '1', '@unit': '人'}, {'@code': 'A1602022', '@name': 'A1602022_有配偶人口（20～24歳）（女）', '@level': '1', '@unit': '人'}, {'@code': 'A1602031', '@name': 'A1602031_有配偶人口（25～29歳）（男）', '@level': '1', '@unit': '人'}, {'@code': 'A1602032', '@name': 'A1602032_有配偶人口（25～29歳）（女）', '@level': '1', '@unit': '人'}, {'@code': 'A1602041', '@name': 'A1602041_有配偶人口（30～34歳）（男）', '@level': '1', '@unit': '人'}, {'@code': 'A1602042', '@name': 'A1602042_有配偶人口（30～34歳）（女）', '@level': '1', '@unit': '人'}, {'@code': 'A1602051', '@name': 'A1602051_有配偶人口（35～39歳）（男）', '@level': '1', '@unit': '人'}, {'@code': 'A1602052', '@name': 'A1602052_有配偶人口（35～39歳）（女）', '@level': '1', '@unit': '人'}, {'@code': 'A1602061', '@name': 'A1602061_有配偶人口（40～44歳）（男）', '@level': '1', '@unit': '人'}, {'@code': 'A1602062', '@name': 'A1602062_有配偶人口（40～44歳）（女）', '@level': '1', '@unit': '人'}, {'@code': 'A1602071', '@name': 'A1602071_有配偶人口（45～49歳）（男）', '@level': '1', '@unit': '人'}, {'@code': 'A1602072', '@name': 'A1602072_有配偶人口（45～49歳）（女）', '@level': '1', '@unit': '人'}, {'@code': 'A1602081', '@name': 'A1602081_有配偶人口（50～54歳）（男）', '@level': '1', '@unit': '人'}, {'@code': 'A1602082', '@name': 'A1602082_有配偶人口（50～54歳）（女）', '@level': '1', '@unit': '人'}, {'@code': 'A1602091', '@name': 'A1602091_有配偶人口（55～59歳）（男）', '@level': '1', '@unit': '人'}, {'@code': 'A1602092', '@name': 'A1602092_有配偶人口（55～59歳）（女）', '@level': '1', '@unit': '人'}, {'@code': 'A1602101', '@name': 'A1602101_有配偶人口（60～64歳）（男）', '@level': '1', '@unit': '人'}, {'@code': 'A1602102', '@name': 'A1602102_有配偶人口（60～64歳）（女）', '@level': '1', '@unit': '人'}, {'@code': 'A1602111', '@name': 'A1602111_有配偶人口（65～69歳）（男）', '@level': '1', '@unit': '人'}, {'@code': 'A1602112', '@name': 'A1602112_有配偶人口（65～69歳）（女）', '@level': '1', '@unit': '人'}, {'@code': 'A1602121', '@name': 'A1602121_有配偶人口（70～74歳）（男）', '@level': '1', '@unit': '人'}, {'@code': 'A1602122', '@name': 'A1602122_有配偶人口（70～74歳）（女）', '@level': '1', '@unit': '人'}, {'@code': 'A1602131', '@name': 'A1602131_有配偶人口（75～79歳）（男）', '@level': '1', '@unit': '人'}, {'@code': 'A1602132', '@name': 'A1602132_有配偶人口（75～79歳）（女）', '@level': '1', '@unit': '人'}, {'@code': 'A1602141', '@name': 'A1602141_有配偶人口（80～84歳）（男）', '@level': '1', '@unit': '人'}, {'@code': 'A1602142', '@name': 'A1602142_有配偶人口（80～84歳）（女）', '@level': '1', '@unit': '人'}, {'@code': 'A1602151', '@name': 'A1602151_有配偶人口（85歳以上）（男）', '@level': '1', '@unit': '人'}, {'@code': 'A1602152', '@name': 'A1602152_有配偶人口（85歳以上）（女）', '@level': '1', '@unit': '人'}, {'@code': 'A1603001', '@name': 'A1603001_死別人口（15歳以上）（男）', '@level': '1', '@unit': '人'}, {'@code': 'A1603002', '@name': 'A1603002_死別人口（15歳以上）（女）', '@level': '1', '@unit': '人'}, {'@code': 'A1603031', '@name': 'A1603031_死別人口（25～29歳）（男）', '@level': '1', '@unit': '人'}, {'@code': 'A1603032', '@name': 'A1603032_死別人口（25～29歳）（女）', '@level': '1', '@unit': '人'}, {'@code': 'A1603041', '@name': 'A1603041_死別人口（30～34歳）（男）', '@level': '1', '@unit': '人'}, {'@code': 'A1603042', '@name': 'A1603042_死別人口（30～34歳）（女）', '@level': '1', '@unit': '人'}, {'@code': 'A1603051', '@name': 'A1603051_死別人口（35～39歳）（男）', '@level': '1', '@unit': '人'}, {'@code': 'A1603052', '@name': 'A1603052_死別人口（35～39歳）（女）', '@level': '1', '@unit': '人'}, {'@code': 'A1603061', '@name': 'A1603061_死別人口（40～44歳）（男）', '@level': '1', '@unit': '人'}, {'@code': 'A1603062', '@name': 'A1603062_死別人口（40～44歳）（女）', '@level': '1', '@unit': '人'}, {'@code': 'A1603071', '@name': 'A1603071_死別人口（45～49歳）（男）', '@level': '1', '@unit': '人'}, {'@code': 'A1603072', '@name': 'A1603072_死別人口（45～49歳）（女）', '@level': '1', '@unit': '人'}, {'@code': 'A1603081', '@name': 'A1603081_死別人口（50～54歳）（男）', '@level': '1', '@unit': '人'}, {'@code': 'A1603082', '@name': 'A1603082_死別人口（50～54歳）（女）', '@level': '1', '@unit': '人'}, {'@code': 'A1603091', '@name': 'A1603091_死別人口（55～59歳）（男）', '@level': '1', '@unit': '人'}, {'@code': 'A1603092', '@name': 'A1603092_死別人口（55～59歳）（女）', '@level': '1', '@unit': '人'}, {'@code': 'A1603101', '@name': 'A1603101_死別人口（60～64歳）（男）', '@level': '1', '@unit': '人'}, {'@code': 'A1603102', '@name': 'A1603102_死別人口（60～64歳）（女）', '@level': '1', '@unit': '人'}, {'@code': 'A1603111', '@name': 'A1603111_死別人口（65～69歳）（男）', '@level': '1', '@unit': '人'}, {'@code': 'A1603112', '@name': 'A1603112_死別人口（65～69歳）（女）', '@level': '1', '@unit': '人'}, {'@code': 'A1603121', '@name': 'A1603121_死別人口（70～74歳）（男）', '@level': '1', '@unit': '人'}, {'@code': 'A1603122', '@name': 'A1603122_死別人口（70～74歳）（女）', '@level': '1', '@unit': '人'}, {'@code': 'A1603131', '@name': 'A1603131_死別人口（75～79歳）（男）', '@level': '1', '@unit': '人'}, {'@code': 'A1603132', '@name': 'A1603132_死別人口（75～79歳）（女）', '@level': '1', '@unit': '人'}, {'@code': 'A1603141', '@name': 'A1603141_死別人口（80～84歳）（男）', '@level': '1', '@unit': '人'}, {'@code': 'A1603142', '@name': 'A1603142_死別人口（80～84歳）（女）', '@level': '1', '@unit': '人'}, {'@code': 'A1603151', '@name': 'A1603151_死別人口（85歳以上）（男）', '@level': '1', '@unit': '人'}, {'@code': 'A1603152', '@name': 'A1603152_死別人口（85歳以上）（女）', '@level': '1', '@unit': '人'}, {'@code': 'A1603201', '@name': 'A1603201_死別人口（60歳以上）（男）', '@level': '1', '@unit': '人'}, {'@code': 'A1603202', '@name': 'A1603202_死別人口（60歳以上）（女）', '@level': '1', '@unit': '人'}, {'@code': 'A1604001', '@name': 'A1604001_離別人口（15歳以上）（男）', '@level': '1', '@unit': '人'}, {'@code': 'A1604002', '@name': 'A1604002_離別人口（15歳以上）（女）', '@level': '1', '@unit': '人'}, {'@code': 'A1604011', '@name': 'A1604011_離別人口（15～19歳）（男）', '@level': '1', '@unit': '人'}, {'@code': 'A1604012', '@name': 'A1604012_離別人口（15～19歳）（女）', '@level': '1', '@unit': '人'}, {'@code': 'A1604021', '@name': 'A1604021_離別人口（20～24歳）（男）', '@level': '1', '@unit': '人'}, {'@code': 'A1604022', '@name': 'A1604022_離別人口（20～24歳）（女）', '@level': '1', '@unit': '人'}, {'@code': 'A1604031', '@name': 'A1604031_離別人口（25～29歳）（男）', '@level': '1', '@unit': '人'}, {'@code': 'A1604032', '@name': 'A1604032_離別人口（25～29歳）（女）', '@level': '1', '@unit': '人'}, {'@code': 'A1604041', '@name': 'A1604041_離別人口（30～34歳）（男）', '@level': '1', '@unit': '人'}, {'@code': 'A1604042', '@name': 'A1604042_離別人口（30～34歳）（女）', '@level': '1', '@unit': '人'}, {'@code': 'A1604051', '@name': 'A1604051_離別人口（35～39歳）（男）', '@level': '1', '@unit': '人'}, {'@code': 'A1604052', '@name': 'A1604052_離別人口（35～39歳）（女）', '@level': '1', '@unit': '人'}, {'@code': 'A1604061', '@name': 'A1604061_離別人口（40～44歳）（男）', '@level': '1', '@unit': '人'}, {'@code': 'A1604062', '@name': 'A1604062_離別人口（40～44歳）（女）', '@level': '1', '@unit': '人'}, {'@code': 'A1604071', '@name': 'A1604071_離別人口（45～49歳）（男）', '@level': '1', '@unit': '人'}, {'@code': 'A1604072', '@name': 'A1604072_離別人口（45～49歳）（女）', '@level': '1', '@unit': '人'}, {'@code': 'A1604081', '@name': 'A1604081_離別人口（50～54歳）（男）', '@level': '1', '@unit': '人'}, {'@code': 'A1604082', '@name': 'A1604082_離別人口（50～54歳）（女）', '@level': '1', '@unit': '人'}, {'@code': 'A1604091', '@name': 'A1604091_離別人口（55～59歳）（男）', '@level': '1', '@unit': '人'}, {'@code': 'A1604092', '@name': 'A1604092_離別人口（55～59歳）（女）', '@level': '1', '@unit': '人'}, {'@code': 'A1604101', '@name': 'A1604101_離別人口（60～64歳）（男）', '@level': '1', '@unit': '人'}, {'@code': 'A1604102', '@name': 'A1604102_離別人口（60～64歳）（女）', '@level': '1', '@unit': '人'}, {'@code': 'A1604111', '@name': 'A1604111_離別人口（65～69歳）（男）', '@level': '1', '@unit': '人'}, {'@code': 'A1604112', '@name': 'A1604112_離別人口（65～69歳）（女）', '@level': '1', '@unit': '人'}, {'@code': 'A1604121', '@name': 'A1604121_離別人口（70～74歳）（男）', '@level': '1', '@unit': '人'}, {'@code': 'A1604122', '@name': 'A1604122_離別人口（70～74歳）（女）', '@level': '1', '@unit': '人'}, {'@code': 'A1604131', '@name': 'A1604131_離別人口（75～79歳）（男）', '@level': '1', '@unit': '人'}, {'@code': 'A1604132', '@name': 'A1604132_離別人口（75～79歳）（女）', '@level': '1', '@unit': '人'}, {'@code': 'A1604141', '@name': 'A1604141_離別人口（80～84歳）（男）', '@level': '1', '@unit': '人'}, {'@code': 'A1604142', '@name': 'A1604142_離別人口（80～84歳）（女）', '@level': '1', '@unit': '人'}, {'@code': 'A1604151', '@name': 'A1604151_離別人口（85歳以上）（男）', '@level': '1', '@unit': '人'}, {'@code': 'A1604152', '@name': 'A1604152_離別人口（85歳以上）（女）', '@level': '1', '@unit': '人'}, {'@code': 'A1604201', '@name': 'A1604201_離別人口（40～49歳）（男）', '@level': '1', '@unit': '人'}, {'@code': 'A1604202', '@name': 'A1604202_離別人口（40～49歳）（女）', '@level': '1', '@unit': '人'}, {'@code': 'A1604301', '@name': 'A1604301_離別人口（50～59歳）（男）', '@level': '1', '@unit': '人'}, {'@code': 'A1604302', '@name': 'A1604302_離別人口（50～59歳）（女）', '@level': '1', '@unit': '人'}, {'@code': 'A161001', '@name': 'A161001_未婚者割合（15歳以上人口）', '@level': '1', '@unit': '％'}, {'@code': 'A1700', '@name': 'A1700_外国人人口', '@level': '1', '@unit': '人'}, {'@code': 'A170001', '@name': 'A170001_外国人人口（男）', '@level': '1', '@unit': '人'}, {'@code': 'A170002', '@name': 'A170002_外国人人口（女）', '@level': '1', '@unit': '人'}, {'@code': 'A1701', '@name': 'A1701_外国人人口（韓国・朝鮮）', '@level': '1', '@unit': '人'}, {'@code': 'A170101', '@name': 'A170101_外国人人口（韓国・朝鮮）（男）', '@level': '1', '@unit': '人'}, {'@code': 'A170102', '@name': 'A170102_外国人人口（韓国・朝鮮）（女）', '@level': '1', '@unit': '人'}, {'@code': 'A1702', '@name': 'A1702_外国人人口（中国）', '@level': '1', '@unit': '人'}, {'@code': 'A170201', '@name': 'A170201_外国人人口（中国）（男）', '@level': '1', '@unit': '人'}, {'@code': 'A170202', '@name': 'A170202_外国人人口（中国）（女）', '@level': '1', '@unit': '人'}, {'@code': 'A1703', '@name': 'A1703_外国人人口（アメリカ）', '@level': '1', '@unit': '人'}, {'@code': 'A170301', '@name': 'A170301_外国人人口（アメリカ）（男）', '@level': '1', '@unit': '人'}, {'@code': 'A170302', '@name': 'A170302_外国人人口（アメリカ）（女）', '@level': '1', '@unit': '人'}, {'@code': 'A1706', '@name': 'A1706_外国人人口（フィリピン）', '@level': '1', '@unit': '人'}, {'@code': 'A170601', '@name': 'A170601_外国人人口（フィリピン）（男）', '@level': '1', '@unit': '人'}, {'@code': 'A170602', '@name': 'A170602_外国人人口（フィリピン）（女）', '@level': '1', '@unit': '人'}, {'@code': 'A1707', '@name': 'A1707_外国人人口（ブラジル）', '@level': '1', '@unit': '人'}, {'@code': 'A170701', '@name': 'A170701_外国人人口（ブラジル）（男）', '@level': '1', '@unit': '人'}, {'@code': 'A170702', '@name': 'A170702_外国人人口（ブラジル）（女）', '@level': '1', '@unit': '人'}, {'@code': 'A1801', '@name': 'A1801_人口集中地区人口', '@level': '1', '@unit': '人'}, {'@code': 'A180101', '@name': 'A180101_人口集中地区人口（男）', '@level': '1', '@unit': '人'}, {'@code': 'A180102', '@name': 'A180102_人口集中地区人口（女）', '@level': '1', '@unit': '人'}, {'@code': 'A1802', '@name': 'A1802_人口集中地区面積', '@level': '1', '@unit': 'ｋｍ2'}, {'@code': 'A191001', '@name': 'A191001_将来推計人口（2020年）', '@level': '1', '@unit': '人'}, {'@code': 'A191002', '@name': 'A191002_将来推計人口（2025年）', '@level': '1', '@unit': '人'}, {'@code': 'A191003', '@name': 'A191003_将来推計人口（2030年）', '@level': '1', '@unit': '人'}, {'@code': 'A191004', '@name': 'A191004_将来推計人口（2035年）', '@level': '1', '@unit': '人'}, {'@code': 'A191005', '@name': 'A191005_将来推計人口（2040年）', '@level': '1', '@unit': '人'}, {'@code': 'A191006', '@name': 'A191006_将来推計人口（2045年）', '@level': '1', '@unit': '人'}, {'@code': 'A2101', '@name': 'A2101_住民基本台帳人口（日本人）', '@level': '1', '@unit': '人'}, {'@code': 'A210101', '@name': 'A210101_住民基本台帳人口（日本人）（男）', '@level': '1', '@unit': '人'}, {'@code': 'A210102', '@name': 'A210102_住民基本台帳人口（日本人）（女）', '@level': '1', '@unit': '人'}, {'@code': 'A2102', '@name': 'A2102_行政区域内人口（住民基本台帳人口＋外国人登録人口）', '@level': '1', '@unit': '人'}, {'@code': 'A2201', '@name': 'A2201_住民基本台帳人口（外国人）', '@level': '1', '@unit': '人'}, {'@code': 'A2301', '@name': 'A2301_住民基本台帳人口（総数）', '@level': '1', '@unit': '人'}, {'@code': 'A3100', '@name': 'A3100_外国人登録人口', '@level': '1', '@unit': '人'}, {'@code': 'A3101', '@name': 'A3101_外国人登録人口（アジア）', '@level': '1', '@unit': '人'}, {'@code': 'A310101', '@name': 'A310101_外国人登録人口（韓国・朝鮮）', '@level': '1', '@unit': '人'}, {'@code': 'A310102', '@name': 'A310102_外国人登録人口（中国）', '@level': '1', '@unit': '人'}, {'@code': 'A310103', '@name': 'A310103_外国人登録人口（フィリピン）', '@level': '1', '@unit': '人'}, {'@code': 'A310105', '@name': 'A310105_外国人登録人口（タイ）', '@level': '1', '@unit': '人'}, {'@code': 'A3102', '@name': 'A3102_外国人登録人口（ヨーロッパ）', '@level': '1', '@unit': '人'}, {'@code': 'A310201', '@name': 'A310201_外国人登録人口（英国）', '@level': '1', '@unit': '人'}, {'@code': 'A3103', '@name': 'A3103_外国人登録人口（北米）', '@level': '1', '@unit': '人'}, {'@code': 'A310301', '@name': 'A310301_外国人登録人口（米国）', '@level': '1', '@unit': '人'}, {'@code': 'A3104', '@name': 'A3104_外国人登録人口（南米）', '@level': '1', '@unit': '人'}, {'@code': 'A310401', '@name': 'A310401_外国人登録人口（ブラジル）', '@level': '1', '@unit': '人'}, {'@code': 'A310402', '@name': 'A310402_外国人登録人口（ペルー）', '@level': '1', '@unit': '人'}, {'@code': 'A3200', '@name': 'A3200_在留外国人数', '@level': '1', '@unit': '人'}, {'@code': 'A3201', '@name': 'A3201_在留外国人数（アジア）', '@level': '1', '@unit': '人'}, {'@code': 'A320101', '@name': 'A320101_在留外国人数（韓国・朝鮮）', '@level': '1', '@unit': '人'}, {'@code': 'A320102', '@name': 'A320102_在留外国人数（中国）', '@level': '1', '@unit': '人'}, {'@code': 'A320103', '@name': 'A320103_在留外国人数（韓国）', '@level': '1', '@unit': '人'}, {'@code': 'A320104', '@name': 'A320104_在留外国人数（朝鮮）', '@level': '1', '@unit': '人'}, {'@code': 'A3202', '@name': 'A3202_在留外国人数（ヨーロッパ）', '@level': '1', '@unit': '人'}, {'@code': 'A3203', '@name': 'A3203_在留外国人数（北米）', '@level': '1', '@unit': '人'}, {'@code': 'A3204', '@name': 'A3204_在留外国人数（南米）', '@level': '1', '@unit': '人'}, {'@code': 'A4101', '@name': 'A4101_出生数', '@level': '1', '@unit': '人'}, {'@code': 'A410101', '@name': 'A410101_出生数（男）', '@level': '1', '@unit': '人'}, {'@code': 'A410102', '@name': 'A410102_出生数（女）', '@level': '1', '@unit': '人'}, {'@code': 'A410201', '@name': 'A410201_出生数（母親の年齢15歳未満）', '@level': '1', '@unit': '人'}, {'@code': 'A410202', '@name': 'A410202_出生数（母親の年齢15～19歳）', '@level': '1', '@unit': '人'}, {'@code': 'A410203', '@name': 'A410203_出生数（母親の年齢20～24歳）', '@level': '1', '@unit': '人'}, {'@code': 'A410204', '@name': 'A410204_出生数（母親の年齢25～29歳）', '@level': '1', '@unit': '人'}, {'@code': 'A410205', '@name': 'A410205_出生数（母親の年齢30～34歳）', '@level': '1', '@unit': '人'}, {'@code': 'A410206', '@name': 'A410206_出生数（母親の年齢35～39歳）', '@level': '1', '@unit': '人'}, {'@code': 'A410207', '@name': 'A410207_出生数（母親の年齢40～44歳）', '@level': '1', '@unit': '人'}, {'@code': 'A410208', '@name': 'A410208_出生数（母親の年齢45～49歳）', '@level': '1', '@unit': '人'}, {'@code': 'A410209', '@name': 'A410209_出生数（母親の年齢50歳以上）', '@level': '1', '@unit': '人'}, {'@code': 'A4103', '@name': 'A4103_合計特殊出生率', '@level': '1', '@unit': '‐'}, {'@code': 'A4200', '@name': 'A4200_死亡数', '@level': '1', '@unit': '人'}, {'@code': 'A420001', '@name': 'A420001_死亡数（男）', '@level': '1', '@unit': '人'}, {'@code': 'A420002', '@name': 'A420002_死亡数（女）', '@level': '1', '@unit': '人'}, {'@code': 'A4201', '@name': 'A4201_死亡数（0～4歳）', '@level': '1', '@unit': '人'}, {'@code': 'A420101', '@name': 'A420101_死亡数（0～4歳）（男）', '@level': '1', '@unit': '人'}, {'@code': 'A420102', '@name': 'A420102_死亡数（0～4歳）（女）', '@level': '1', '@unit': '人'}, {'@code': 'A4202', '@name': 'A4202_死亡数（5～9歳）', '@level': '1', '@unit': '人'}, {'@code': 'A420201', '@name': 'A420201_死亡数（5～9歳）（男）', '@level': '1', '@unit': '人'}, {'@code': 'A420202', '@name': 'A420202_死亡数（5～9歳）（女）', '@level': '1', '@unit': '人'}, {'@code': 'A4203', '@name': 'A4203_死亡数（10～14歳）', '@level': '1', '@unit': '人'}, {'@code': 'A420301', '@name': 'A420301_死亡数（10～14歳）（男）', '@level': '1', '@unit': '人'}, {'@code': 'A420302', '@name': 'A420302_死亡数（10～14歳）（女）', '@level': '1', '@unit': '人'}, {'@code': 'A4204', '@name': 'A4204_死亡数（15～19歳）', '@level': '1', '@unit': '人'}, {'@code': 'A420401', '@name': 'A420401_死亡数（15～19歳）（男）', '@level': '1', '@unit': '人'}, {'@code': 'A420402', '@name': 'A420402_死亡数（15～19歳）（女）', '@level': '1', '@unit': '人'}, {'@code': 'A4205', '@name': 'A4205_死亡数（20～24歳）', '@level': '1', '@unit': '人'}, {'@code': 'A420501', '@name': 'A420501_死亡数（20～24歳）（男）', '@level': '1', '@unit': '人'}, {'@code': 'A420502', '@name': 'A420502_死亡数（20～24歳）（女）', '@level': '1', '@unit': '人'}, {'@code': 'A4206', '@name': 'A4206_死亡数（25～29歳）', '@level': '1', '@unit': '人'}, {'@code': 'A420601', '@name': 'A420601_死亡数（25～29歳）（男）', '@level': '1', '@unit': '人'}, {'@code': 'A420602', '@name': 'A420602_死亡数（25～29歳）（女）', '@level': '1', '@unit': '人'}, {'@code': 'A4207', '@name': 'A4207_死亡数（30～34歳）', '@level': '1', '@unit': '人'}, {'@code': 'A420701', '@name': 'A420701_死亡数（30～34歳）（男）', '@level': '1', '@unit': '人'}, {'@code': 'A420702', '@name': 'A420702_死亡数（30～34歳）（女）', '@level': '1', '@unit': '人'}, {'@code': 'A4208', '@name': 'A4208_死亡数（35～39歳）', '@level': '1', '@unit': '人'}, {'@code': 'A420801', '@name': 'A420801_死亡数（35～39歳）（男）', '@level': '1', '@unit': '人'}, {'@code': 'A420802', '@name': 'A420802_死亡数（35～39歳）（女）', '@level': '1', '@unit': '人'}, {'@code': 'A4209', '@name': 'A4209_死亡数（40～44歳）', '@level': '1', '@unit': '人'}, {'@code': 'A420901', '@name': 'A420901_死亡数（40～44歳）（男）', '@level': '1', '@unit': '人'}, {'@code': 'A420902', '@name': 'A420902_死亡数（40～44歳）（女）', '@level': '1', '@unit': '人'}, {'@code': 'A4210', '@name': 'A4210_死亡数（45～49歳）', '@level': '1', '@unit': '人'}, {'@code': 'A421001', '@name': 'A421001_死亡数（45～49歳）（男）', '@level': '1', '@unit': '人'}, {'@code': 'A421002', '@name': 'A421002_死亡数（45～49歳）（女）', '@level': '1', '@unit': '人'}, {'@code': 'A4211', '@name': 'A4211_死亡数（50～54歳）', '@level': '1', '@unit': '人'}, {'@code': 'A421101', '@name': 'A421101_死亡数（50～54歳）（男）', '@level': '1', '@unit': '人'}, {'@code': 'A421102', '@name': 'A421102_死亡数（50～54歳）（女）', '@level': '1', '@unit': '人'}, {'@code': 'A4212', '@name': 'A4212_死亡数（55～59歳）', '@level': '1', '@unit': '人'}, {'@code': 'A421201', '@name': 'A421201_死亡数（55～59歳）（男）', '@level': '1', '@unit': '人'}, {'@code': 'A421202', '@name': 'A421202_死亡数（55～59歳）（女）', '@level': '1', '@unit': '人'}, {'@code': 'A4213', '@name': 'A4213_死亡数（60～64歳）', '@level': '1', '@unit': '人'}, {'@code': 'A421301', '@name': 'A421301_死亡数（60～64歳）（男）', '@level': '1', '@unit': '人'}, {'@code': 'A421302', '@name': 'A421302_死亡数（60～64歳）（女）', '@level': '1', '@unit': '人'}, {'@code': 'A4214', '@name': 'A4214_死亡数（65～69歳）', '@level': '1', '@unit': '人'}, {'@code': 'A421401', '@name': 'A421401_死亡数（65～69歳）（男）', '@level': '1', '@unit': '人'}, {'@code': 'A421402', '@name': 'A421402_死亡数（65～69歳）（女）', '@level': '1', '@unit': '人'}, {'@code': 'A4215', '@name': 'A4215_死亡数（70～74歳）', '@level': '1', '@unit': '人'}, {'@code': 'A421501', '@name': 'A421501_死亡数（70～74歳）（男）', '@level': '1', '@unit': '人'}, {'@code': 'A421502', '@name': 'A421502_死亡数（70～74歳）（女）', '@level': '1', '@unit': '人'}, {'@code': 'A4216', '@name': 'A4216_死亡数（75～79歳）', '@level': '1', '@unit': '人'}, {'@code': 'A421601', '@name': 'A421601_死亡数（75～79歳）（男）', '@level': '1', '@unit': '人'}, {'@code': 'A421602', '@name': 'A421602_死亡数（75～79歳）（女）', '@level': '1', '@unit': '人'}, {'@code': 'A4217', '@name': 'A4217_死亡数（80～84歳）', '@level': '1', '@unit': '人'}, {'@code': 'A421701', '@name': 'A421701_死亡数（80～84歳）（男）', '@level': '1', '@unit': '人'}, {'@code': 'A421702', '@name': 'A421702_死亡数（80～84歳）（女）', '@level': '1', '@unit': '人'}, {'@code': 'A4218', '@name': 'A4218_死亡数（85～89歳）', '@level': '1', '@unit': '人'}, {'@code': 'A421801', '@name': 'A421801_死亡数（85～89歳）（男）', '@level': '1', '@unit': '人'}, {'@code': 'A421802', '@name': 'A421802_死亡数（85～89歳）（女）', '@level': '1', '@unit': '人'}, {'@code': 'A4219', '@name': 'A4219_死亡数（90～94歳）', '@level': '1', '@unit': '人'}, {'@code': 'A421901', '@name': 'A421901_死亡数（90～94歳）（男）', '@level': '1', '@unit': '人'}, {'@code': 'A421902', '@name': 'A421902_死亡数（90～94歳）（女）', '@level': '1', '@unit': '人'}, {'@code': 'A4220', '@name': 'A4220_死亡数（95～99歳）', '@level': '1', '@unit': '人'}, {'@code': 'A422001', '@name': 'A422001_死亡数（95～99歳）（男）', '@level': '1', '@unit': '人'}, {'@code': 'A422002', '@name': 'A422002_死亡数（95～99歳）（女）', '@level': '1', '@unit': '人'}, {'@code': 'A4221', '@name': 'A4221_死亡数（100歳以上）', '@level': '1', '@unit': '人'}, {'@code': 'A422101', '@name': 'A422101_死亡数（100歳以上）（男）', '@level': '1', '@unit': '人'}, {'@code': 'A422102', '@name': 'A422102_死亡数（100歳以上）（女）', '@level': '1', '@unit': '人'}, {'@code': 'A4231', '@name': 'A4231_死亡数（65歳以上）', '@level': '1', '@unit': '人'}, {'@code': 'A423101', '@name': 'A423101_死亡数（65歳以上）（男）', '@level': '1', '@unit': '人'}, {'@code': 'A423102', '@name': 'A423102_死亡数（65歳以上）（女）', '@level': '1', '@unit': '人'}, {'@code': 'A424001', '@name': 'A424001_年齢調整死亡率（男）', '@level': '1', '@unit': '‐'}, {'@code': 'A424002', '@name': 'A424002_年齢調整死亡率（女）', '@level': '1', '@unit': '‐'}, {'@code': 'A4270', '@name': 'A4270_死産数', '@level': '1', '@unit': '胎'}, {'@code': 'A427001', '@name': 'A427001_自然死産数', '@level': '1', '@unit': '胎'}, {'@code': 'A4271', '@name': 'A4271_死産数（妊娠満22週以後）', '@level': '1', '@unit': '胎'}, {'@code': 'A4272', '@name': 'A4272_早期新生児死亡数', '@level': '1', '@unit': '人'}, {'@code': 'A4280', '@name': 'A4280_新生児死亡数', '@level': '1', '@unit': '人'}, {'@code': 'A4281', '@name': 'A4281_乳児死亡数', '@level': '1', '@unit': '人'}, {'@code': 'A4301', '@name': 'A4301_標準化死亡率〔日本人〕', '@level': '1', '@unit': 'ﾊﾟｰﾐﾙ'}, {'@code': 'A5101', '@name': 'A5101_転入者数（日本人移動者）', '@level': '1', '@unit': '人'}, {'@code': 'A510101', '@name': 'A510101_転入者数（日本人移動者）（男）', '@level': '1', '@unit': '人'}, {'@code': 'A510102', '@name': 'A510102_転入者数（日本人移動者）（女）', '@level': '1', '@unit': '人'}, {'@code': 'A5102', '@name': 'A5102_転出者数（日本人移動者）', '@level': '1', '@unit': '人'}, {'@code': 'A510201', '@name': 'A510201_転出者数（日本人移動者）（男）', '@level': '1', '@unit': '人'}, {'@code': 'A510202', '@name': 'A510202_転出者数（日本人移動者）（女）', '@level': '1', '@unit': '人'}, {'@code': 'A5103', '@name': 'A5103_転入者数', '@level': '1', '@unit': '人'}, {'@code': 'A510301', '@name': 'A510301_転入者数（男）', '@level': '1', '@unit': '人'}, {'@code': 'A510302', '@name': 'A510302_転入者数（女）', '@level': '1', '@unit': '人'}, {'@code': 'A5104', '@name': 'A5104_転出者数', '@level': '1', '@unit': '人'}, {'@code': 'A510401', '@name': 'A510401_転出者数（男）', '@level': '1', '@unit': '人'}, {'@code': 'A510402', '@name': 'A510402_転出者数（女）', '@level': '1', '@unit': '人'}, {'@code': 'A5201', '@name': 'A5201_入国者数（日本人）', '@level': '1', '@unit': '人'}, {'@code': 'A520101', '@name': 'A520101_入国者数（日本人）（男）', '@level': '1', '@unit': '人'}, {'@code': 'A520102', '@name': 'A520102_入国者数（日本人）（女）', '@level': '1', '@unit': '人'}, {'@code': 'A5202', '@name': 'A5202_出国者数（日本人）', '@level': '1', '@unit': '人'}, {'@code': 'A520201', '@name': 'A520201_出国者数（日本人）（男）', '@level': '1', '@unit': '人'}, {'@code': 'A520202', '@name': 'A520202_出国者数（日本人）（女）', '@level': '1', '@unit': '人'}, {'@code': 'A5301', '@name': 'A5301_社会増減率', '@level': '1', '@unit': '‰'}, {'@code': 'A6101', '@name': 'A6101_従業も通学もしていない人口', '@level': '1', '@unit': '人'}, {'@code': 'A610101', '@name': 'A610101_従業も通学もしていない人口（男）', '@level': '1', '@unit': '人'}, {'@code': 'A610102', '@name': 'A610102_従業も通学もしていない人口（女）', '@level': '1', '@unit': '人'}, {'@code': 'A6102', '@name': 'A6102_自市区町村で従業・通学している人口', '@level': '1', '@unit': '人'}, {'@code': 'A610201', '@name': 'A610201_自市区町村で従業・通学している人口（男）', '@level': '1', '@unit': '人'}, {'@code': 'A610202', '@name': 'A610202_自市区町村で従業・通学している人口（女）', '@level': '1', '@unit': '人'}, {'@code': 'A6103', '@name': 'A6103_流出人口（県内他市区町村で従業・通学している人口）', '@level': '1', '@unit': '人'}, {'@code': 'A610301', '@name': 'A610301_流出人口（県内他市区町村で従業・通学している人口）（男）', '@level': '1', '@unit': '人'}, {'@code': 'A610302', '@name': 'A610302_流出人口（県内他市区町村で従業・通学している人口）（女）', '@level': '1', '@unit': '人'}, {'@code': 'A6104', '@name': 'A6104_流出人口（他県で従業・通学している人口）', '@level': '1', '@unit': '人'}, {'@code': 'A610401', '@name': 'A610401_流出人口（他県で従業・通学している人口）（男）', '@level': '1', '@unit': '人'}, {'@code': 'A610402', '@name': 'A610402_流出人口（他県で従業・通学している人口）（女）', '@level': '1', '@unit': '人'}, {'@code': 'A6105', '@name': 'A6105_流入人口（県内他市区町村に常住している人口）', '@level': '1', '@unit': '人'}, {'@code': 'A610501', '@name': 'A610501_流入人口（県内他市区町村に常住している人口）（男）', '@level': '1', '@unit': '人'}, {'@code': 'A610502', '@name': 'A610502_流入人口（県内他市区町村に常住している人口）（女）', '@level': '1', '@unit': '人'}, {'@code': 'A6106', '@name': 'A6106_流入人口（他県に常住している人口）', '@level': '1', '@unit': '人'}, {'@code': 'A610601', '@name': 'A610601_流入人口（他県に常住している人口）（男）', '@level': '1', '@unit': '人'}, {'@code': 'A610602', '@name': 'A610602_流入人口（他県に常住している人口）（女）', '@level': '1', '@unit': '人'}, {'@code': 'A6107', '@name': 'A6107_昼間人口', '@level': '1', '@unit': '人'}, {'@code': 'A610701', '@name': 'A610701_昼間人口（男）', '@level': '1', '@unit': '人'}, {'@code': 'A610702', '@name': 'A610702_昼間人口（女）', '@level': '1', '@unit': '人'}, {'@code': 'A6108', '@name': 'A6108_昼夜間人口比率', '@level': '1', '@unit': '％'}, {'@code': 'A7101', '@name': 'A7101_世帯数', '@level': '1', '@unit': '世帯'}, {'@code': 'A710101', '@name': 'A710101_一般世帯数', '@level': '1', '@unit': '世帯'}, {'@code': 'A710102', '@name': 'A710102_施設等の世帯数', '@level': '1', '@unit': '世帯'}, {'@code': 'A710201', '@name': 'A710201_一般世帯人員数', '@level': '1', '@unit': '人'}, {'@code': 'A710202', '@name': 'A710202_施設等の世帯人員数', '@level': '1', '@unit': '人'}, {'@code': 'A710211', '@name': 'A710211_一般世帯平均人員数', '@level': '1', '@unit': '人'}, {'@code': 'A7103', '@name': 'A7103_住民基本台帳世帯数（日本人）', '@level': '1', '@unit': '世帯'}, {'@code': 'A810101', '@name': 'A810101_親族のみの世帯数', '@level': '1', '@unit': '世帯'}, {'@code': 'A810102', '@name': 'A810102_核家族世帯数', '@level': '1', '@unit': '世帯'}, {'@code': 'A810103', '@name': 'A810103_核家族以外の世帯数', '@level': '1', '@unit': '世帯'}, {'@code': 'A810104', '@name': 'A810104_非親族を含む世帯数', '@level': '1', '@unit': '世帯'}, {'@code': 'A810105', '@name': 'A810105_単独世帯数', '@level': '1', '@unit': '世帯'}, {'@code': 'A8111', '@name': 'A8111_65歳以上の世帯員のいる世帯数', '@level': '1', '@unit': '世帯'}, {'@code': 'A811101', '@name': 'A811101_65歳以上の世帯員のいる親族のみの世帯数', '@level': '1', '@unit': '世帯'}, {'@code': 'A811102', '@name': 'A811102_65歳以上の世帯員のいる核家族世帯数', '@level': '1', '@unit': '世帯'}, {'@code': 'A811103', '@name': 'A811103_65歳以上の親族のいるその他の親族世帯数', '@level': '1', '@unit': '世帯'}, {'@code': 'A811104', '@name': 'A811104_65歳以上の親族のいる非親族世帯数', '@level': '1', '@unit': '世帯'}, {'@code': 'A811105', '@name': 'A811105_65歳以上の世帯員のいる単独世帯数', '@level': '1', '@unit': '世帯'}, {'@code': 'A8112', '@name': 'A8112_65歳以上の世帯員のいる世帯人員数', '@level': '1', '@unit': '人'}, {'@code': 'A811201', '@name': 'A811201_65歳以上の世帯員のいる親族のみの世帯人員数', '@level': '1', '@unit': '人'}, {'@code': 'A811202', '@name': 'A811202_65歳以上の世帯員のいる核家族世帯人員数', '@level': '1', '@unit': '人'}, {'@code': 'A811203', '@name': 'A811203_65歳以上の親族のいるその他の親族世帯人員数', '@level': '1', '@unit': '人'}, {'@code': 'A811204', '@name': 'A811204_65歳以上の親族のいる非親族世帯人員数', '@level': '1', '@unit': '人'}, {'@code': 'A811205', '@name': 'A811205_65歳以上の親族のいる単独世帯人員数', '@level': '1', '@unit': '人'}, {'@code': 'A8201', '@name': 'A8201_高齢夫婦世帯数（高齢夫婦のみ）', '@level': '1', '@unit': '世帯'}, {'@code': 'A8202', '@name': 'A8202_高齢夫婦世帯数（高齢夫婦と未婚の18歳未満の者）', '@level': '1', '@unit': '世帯'}, {'@code': 'A8301', '@name': 'A8301_高齢単身世帯数（65歳以上の者1人）', '@level': '1', '@unit': '世帯'}, {'@code': 'A830101', '@name': 'A830101_高齢単身世帯数（65歳以上の者1人）（男）', '@level': '1', '@unit': '世帯'}, {'@code': 'A830102', '@name': 'A830102_高齢単身世帯数（65歳以上の者1人）（女）', '@level': '1', '@unit': '世帯'}, {'@code': 'A8303', '@name': 'A8303_高齢単身世帯数（60歳以上の者1人）', '@level': '1', '@unit': '世帯'}, {'@code': 'A830301', '@name': 'A830301_高齢単身世帯数（60歳以上の者1人）（男）', '@level': '1', '@unit': '世帯'}, {'@code': 'A830302', '@name': 'A830302_高齢単身世帯数（60歳以上の者1人）（女）', '@level': '1', '@unit': '世帯'}, {'@code': 'A8401', '@name': 'A8401_母子世帯数', '@level': '1', '@unit': '世帯'}, {'@code': 'A840101', '@name': 'A840101_母子世帯数（子供が1人）', '@level': '1', '@unit': '世帯'}, {'@code': 'A840102', '@name': 'A840102_母子世帯数（子供が2人）', '@level': '1', '@unit': '世帯'}, {'@code': 'A840103', '@name': 'A840103_母子世帯数（子供が3人以上）', '@level': '1', '@unit': '世帯'}, {'@code': 'A840201', '@name': 'A840201_母子世帯数（15～24歳）', '@level': '1', '@unit': '世帯'}, {'@code': 'A840202', '@name': 'A840202_母子世帯数（25～34歳）', '@level': '1', '@unit': '世帯'}, {'@code': 'A840203', '@name': 'A840203_母子世帯数（35～44歳）', '@level': '1', '@unit': '世帯'}, {'@code': 'A840204', '@name': 'A840204_母子世帯数（45～54歳）', '@level': '1', '@unit': '世帯'}, {'@code': 'A840205', '@name': 'A840205_母子世帯数（55歳以上）', '@level': '1', '@unit': '世帯'}, {'@code': 'A8501', '@name': 'A8501_父子世帯数', '@level': '1', '@unit': '世帯'}, {'@code': 'A850101', '@name': 'A850101_父子世帯数（子供が1人）', '@level': '1', '@unit': '世帯'}, {'@code': 'A850102', '@name': 'A850102_父子世帯数（子供が2人）', '@level': '1', '@unit': '世帯'}, {'@code': 'A850103', '@name': 'A850103_父子世帯数（子供が3人以上）', '@level': '1', '@unit': '世帯'}, {'@code': 'A850201', '@name': 'A850201_父子世帯数（15～24歳）', '@level': '1', '@unit': '世帯'}, {'@code': 'A850202', '@name': 'A850202_父子世帯数（25～34歳）', '@level': '1', '@unit': '世帯'}, {'@code': 'A850203', '@name': 'A850203_父子世帯数（35～44歳）', '@level': '1', '@unit': '世帯'}, {'@code': 'A850204', '@name': 'A850204_父子世帯数（45～54歳）', '@level': '1', '@unit': '世帯'}, {'@code': 'A850205', '@name': 'A850205_父子世帯数（55歳以上）', '@level': '1', '@unit': '世帯'}, {'@code': 'A9101', '@name': 'A9101_婚姻件数', '@level': '1', '@unit': '組'}, {'@code': 'A9111', '@name': 'A9111_平均婚姻年齢（初婚の夫）', '@level': '1', '@unit': '歳'}, {'@code': 'A9112', '@name': 'A9112_平均婚姻年齢（初婚の妻）', '@level': '1', '@unit': '歳'}, {'@code': 'A9201', '@name': 'A9201_離婚件数', '@level': '1', '@unit': '組'}]\n"
          ]
        }
      ]
    },
    {
      "cell_type": "markdown",
      "source": [
        "## 地域コード一覧"
      ],
      "metadata": {
        "id": "e-4vvBwxpOLs"
      }
    },
    {
      "cell_type": "markdown",
      "source": [
        "地域コード'area'のリスト一覧を作成する関数\n",
        "\n",
        "全国'00000'は除外している"
      ],
      "metadata": {
        "id": "b-1ZjOQ0iZTo"
      }
    },
    {
      "cell_type": "code",
      "source": [
        "def get_estat_area_codes(statsDataId):\n",
        "  # estat-APIのメタ情報を取得\n",
        "  meta= get_estat_meta(statsDataId)\n",
        "\n",
        "  # CLASS_OBJ\n",
        "  CLASS_OBJ = meta['GET_META_INFO']['METADATA_INF']['CLASS_INF']['CLASS_OBJ']\n",
        "\n",
        "  # 地域一覧\n",
        "  areas = next((d for d in CLASS_OBJ if d['@id'] == 'area'), None)['CLASS']\n",
        "\n",
        "  # 地域コード一覧（全国'00000'は削除）\n",
        "  area_codes = [d.get('@code') for d in areas]\n",
        "  area_codes.remove('00000')\n",
        "\n",
        "  return area_codes\n",
        "\n",
        "area_codes = get_estat_area_codes(statsDataId)\n",
        "print(area_codes)"
      ],
      "metadata": {
        "colab": {
          "base_uri": "https://localhost:8080/"
        },
        "id": "QlEWwDJAiY7x",
        "outputId": "d89586bc-50a5-4196-d264-8876aeaaed91"
      },
      "execution_count": 11,
      "outputs": [
        {
          "output_type": "stream",
          "name": "stdout",
          "text": [
            "['01000', '02000', '03000', '04000', '05000', '06000', '07000', '08000', '09000', '10000', '11000', '12000', '13000', '14000', '15000', '16000', '17000', '18000', '19000', '20000', '21000', '22000', '23000', '24000', '25000', '26000', '27000', '28000', '29000', '30000', '31000', '32000', '33000', '34000', '35000', '36000', '37000', '38000', '39000', '40000', '41000', '42000', '43000', '44000', '45000', '46000', '47000']\n"
          ]
        }
      ]
    },
    {
      "cell_type": "markdown",
      "source": [
        "# estat-APIのデータを取得"
      ],
      "metadata": {
        "id": "428I_VMlmF2R"
      }
    },
    {
      "cell_type": "markdown",
      "source": [
        "まずは、総人口のデータを取得してみる\n",
        "\n",
        "cat01に'A1101'を指定\n",
        "areaは全都道府県を指定\n",
        "\n",
        "リストを指定する場合はカンマ区切りの文字列に変換する"
      ],
      "metadata": {
        "id": "cNC90RKNlRxp"
      }
    },
    {
      "cell_type": "markdown",
      "source": [
        "## estat-APIのデータ取得"
      ],
      "metadata": {
        "id": "oGusVuj69BpJ"
      }
    },
    {
      "cell_type": "code",
      "source": [
        "params = {}\n",
        "\n",
        "params['statsDataId'] = statsDataId\n",
        "params['cdCat01'] = 'A1101'\n",
        "params['cdArea']=\",\".join(area_codes)\n",
        "\n",
        "# print (params)"
      ],
      "metadata": {
        "id": "JZlVsBxosiX2"
      },
      "execution_count": 12,
      "outputs": []
    },
    {
      "cell_type": "markdown",
      "source": [
        "estat-APIのデータを取得する関数を作成"
      ],
      "metadata": {
        "id": "Z6M6kGErq7vo"
      }
    },
    {
      "cell_type": "code",
      "source": [
        "def get_estat_data(params):\n",
        "  p = params.copy()\n",
        "\n",
        "  # appId\n",
        "  p['appId'] = ESTAT_APPID\n",
        "  \n",
        "  # url生成\n",
        "  url = 'http://api.e-stat.go.jp/rest/2.1/app/json/getStatsData?'\n",
        "  url += urllib.parse.urlencode(p)\n",
        "\n",
        "  with urllib.request.urlopen(url) as response:\n",
        "    return json.loads(response.read().decode('utf-8'))\n",
        "\n",
        "res = get_estat_data(params)\n",
        "# print(res)"
      ],
      "metadata": {
        "id": "rVZ5Nbi3rmqX"
      },
      "execution_count": 13,
      "outputs": []
    },
    {
      "cell_type": "markdown",
      "source": [
        "## pandas DataFrameに変換"
      ],
      "metadata": {
        "id": "vsjvsmWwtUph"
      }
    },
    {
      "cell_type": "markdown",
      "source": [
        "estat-APIのレスポンスからVALUEを抜き出し、DataFrameに変換する"
      ],
      "metadata": {
        "id": "nnyn9KbLujnd"
      }
    },
    {
      "cell_type": "code",
      "execution_count": 55,
      "metadata": {
        "id": "gJr_9dXGpJ05",
        "colab": {
          "base_uri": "https://localhost:8080/"
        },
        "outputId": "5b00a71a-20f6-45fd-9e9b-1ef185872ad1"
      },
      "outputs": [
        {
          "output_type": "stream",
          "name": "stdout",
          "text": [
            "       @tab @cat01  @area       @time @unit        $\n",
            "0     00001  A1101  01000  1975100000     人  5338206\n",
            "1     00001  A1101  01000  1976100000     人  5395000\n",
            "2     00001  A1101  01000  1977100000     人  5443000\n",
            "3     00001  A1101  01000  1978100000     人  5490000\n",
            "4     00001  A1101  01000  1979100000     人  5535000\n",
            "...     ...    ...    ...         ...   ...      ...\n",
            "2110  00001  A1101  47000  2015100000     人  1433566\n",
            "2111  00001  A1101  47000  2016100000     人  1439000\n",
            "2112  00001  A1101  47000  2017100000     人  1443000\n",
            "2113  00001  A1101  47000  2018100000     人  1448000\n",
            "2114  00001  A1101  47000  2019100000     人  1453000\n",
            "\n",
            "[2115 rows x 6 columns]\n"
          ]
        }
      ],
      "source": [
        "res = get_estat_data(params)\n",
        "\n",
        "# VALUE\n",
        "VALUE = res['GET_STATS_DATA']['STATISTICAL_DATA']['DATA_INF']['VALUE']\n",
        "\n",
        "df_value = pd.json_normalize(VALUE)\n",
        "print(df_value)"
      ]
    },
    {
      "cell_type": "markdown",
      "source": [
        "カテゴリ情報は'CLASS_OBJ'に格納されている。\n",
        "\n",
        "これもDataFrameに変換"
      ],
      "metadata": {
        "id": "b28rdDk6uszG"
      }
    },
    {
      "cell_type": "code",
      "execution_count": 54,
      "metadata": {
        "colab": {
          "base_uri": "https://localhost:8080/"
        },
        "id": "-gE-Ez1qtyIA",
        "outputId": "c0cb38ec-4a91-4aa1-9677-9c090d53ae38"
      },
      "outputs": [
        {
          "output_type": "stream",
          "name": "stdout",
          "text": [
            "   @code      @name @level @unit\n",
            "0  A1101  A1101_総人口      1     人\n"
          ]
        }
      ],
      "source": [
        "# CLASS_INF\n",
        "CLASS_OBJ = res['GET_STATS_DATA']['STATISTICAL_DATA']['CLASS_INF']['CLASS_OBJ']\n",
        "\n",
        "categories = next((d for d in CLASS_OBJ if d['@id'] == 'cat01'), None)['CLASS']\n",
        "\n",
        "df_categories = pd.json_normalize(categories)\n",
        "print(df_categories)"
      ]
    },
    {
      "cell_type": "markdown",
      "source": [
        "統計表情報は'TABLE_INF'に格納されている"
      ],
      "metadata": {
        "id": "oJgd5FHcMO0j"
      }
    },
    {
      "cell_type": "code",
      "source": [
        "# TABLE_INF\n",
        "TABLE_INF = res['GET_STATS_DATA']['STATISTICAL_DATA']['TABLE_INF']\n",
        "\n",
        "statDataId = TABLE_INF['@id']\n",
        "statDataName = TABLE_INF['STAT_NAME']['$']\n",
        "\n",
        "print(statDataId,statDataName)"
      ],
      "metadata": {
        "colab": {
          "base_uri": "https://localhost:8080/"
        },
        "id": "Cz3ddmwmMc9h",
        "outputId": "dd9a4a7b-d93b-4107-b377-2d33d038e5c2"
      },
      "execution_count": 56,
      "outputs": [
        {
          "output_type": "stream",
          "name": "stdout",
          "text": [
            "0000010101 社会・人口統計体系\n"
          ]
        }
      ]
    },
    {
      "cell_type": "markdown",
      "source": [
        "estat-APIのレスポンスをひとつのDataFrameにまとめる関数を作成"
      ],
      "metadata": {
        "id": "7e9mUi68yWK-"
      }
    },
    {
      "cell_type": "code",
      "source": [
        "def conv_estat_response_to_dataframe(response):\n",
        "  # CLASS_INF\n",
        "  CLASS_OBJ = response['GET_STATS_DATA']['STATISTICAL_DATA']['CLASS_INF']['CLASS_OBJ']\n",
        "\n",
        "  # TABLE_INF\n",
        "  TABLE_INF = response['GET_STATS_DATA']['STATISTICAL_DATA']['TABLE_INF']\n",
        "\n",
        "  # VALUE\n",
        "  VALUE = response['GET_STATS_DATA']['STATISTICAL_DATA']['DATA_INF']['VALUE']\n",
        "\n",
        "  # VALUEをDataFrameに変換\n",
        "  df_res = pd.json_normalize(VALUE)\n",
        "\n",
        "  # CLASS_OBJのDataFrameを結合\n",
        "  for d in CLASS_OBJ :\n",
        "    # DataFrameに変換 '@code','@name'だけ抽出\n",
        "    df_class = pd.json_normalize(d['CLASS']) \n",
        "    df_class = df_class.copy()[['@code','@name']]\n",
        "\n",
        "    # @codeをキー名に変更 @nameをキー名＋'_name'に変更\n",
        "    key_name = '@{}'.format(d['@id'])\n",
        "    df_class = df_class.rename(columns={'@code':key_name,'@name': key_name+'_name'})\n",
        "\n",
        "    # DataFrameを結合\n",
        "    df_res = pd.merge(df_res, df_class, on=key_name, how='outer')\n",
        "\n",
        "  # 統計情報を追加\n",
        "  df_res['statsDataId'] = TABLE_INF['@id']\n",
        "  df_res['statsDataName'] = TABLE_INF['STAT_NAME']['$']\n",
        "  \n",
        "  return df_res\n",
        "\n",
        "df_org = conv_estat_response_to_dataframe(res)\n",
        "# df_org"
      ],
      "metadata": {
        "id": "G2fDbCR52s6c"
      },
      "execution_count": null,
      "outputs": []
    },
    {
      "cell_type": "markdown",
      "source": [
        "## DataFrameの整形"
      ],
      "metadata": {
        "id": "QFQOKjhk5A3G"
      }
    },
    {
      "cell_type": "markdown",
      "source": [
        "使い勝手が良くなるように、DataFrameを整形していく"
      ],
      "metadata": {
        "id": "sYv6ZrYx5GXM"
      }
    },
    {
      "cell_type": "markdown",
      "source": [
        "必要な列だけ抽出する"
      ],
      "metadata": {
        "id": "BnphK2pW59wj"
      }
    },
    {
      "cell_type": "code",
      "source": [
        "df_1 = df_org[['statsDataId','statsDataName','@cat01','@cat01_name','@time','@time_name','@area','@area_name','$','@unit']]\n",
        "\n",
        "# print(df_1)"
      ],
      "metadata": {
        "id": "ERAP73eK6BOj"
      },
      "execution_count": 18,
      "outputs": []
    },
    {
      "cell_type": "markdown",
      "source": [
        "列名を変更する"
      ],
      "metadata": {
        "id": "WSM3qXlm5Yyb"
      }
    },
    {
      "cell_type": "code",
      "source": [
        "columns = {'@cat01':'categoryCode','@cat01_name':'categoryName','@time':'timeCode','@time_name':'timeName','@area':'areaCode','@area_name':'areaName','$':'value','@unit':'unit'}\n",
        "df_1 = df_1.rename(columns=columns)\n",
        "\n",
        "# print(df_1)"
      ],
      "metadata": {
        "id": "5XJg_gDK5h67"
      },
      "execution_count": 19,
      "outputs": []
    },
    {
      "cell_type": "markdown",
      "source": [
        "欠損値が含まれる行を削除する"
      ],
      "metadata": {
        "id": "JkJfjQn-71Y6"
      }
    },
    {
      "cell_type": "code",
      "source": [
        "df_1 = df_1.dropna()\n",
        "\n",
        "# print(df_1)"
      ],
      "metadata": {
        "id": "Gyi7CMMR75dD"
      },
      "execution_count": 20,
      "outputs": []
    },
    {
      "cell_type": "markdown",
      "source": [
        "categoryNameから不要な情報（categoryCode）を削除する"
      ],
      "metadata": {
        "id": "Kuzz-u0U8fcJ"
      }
    },
    {
      "cell_type": "code",
      "source": [
        "df_1['categoryName'] = df_1.apply(lambda x: x['categoryName'].replace(x['categoryCode']+'_', ''), 1)\n",
        "\n",
        "# print(df_1)"
      ],
      "metadata": {
        "id": "CJJ4P6sA8eVM"
      },
      "execution_count": 21,
      "outputs": []
    },
    {
      "cell_type": "markdown",
      "source": [
        "timeCodeを4桁文字列に置換する"
      ],
      "metadata": {
        "id": "YjBc_Lqu9HGy"
      }
    },
    {
      "cell_type": "code",
      "source": [
        "df_1['timeCode'] = df_1.apply(lambda x: x['timeCode'][:4], 1)\n",
        "\n",
        "# print(df_1)"
      ],
      "metadata": {
        "id": "9kIlxFpP-Xc2"
      },
      "execution_count": 22,
      "outputs": []
    },
    {
      "cell_type": "markdown",
      "source": [
        "ここまでを関数にまとめる"
      ],
      "metadata": {
        "id": "3gtuH94jwxmM"
      }
    },
    {
      "cell_type": "code",
      "source": [
        "def  format_estat_dataframe(df_arg):\n",
        "  # 必要な列だけ抽出\n",
        "  df_res =  df_arg[['statsDataId','statsDataName','@cat01','@cat01_name','@time','@time_name','@area','@area_name','$','@unit']]\n",
        "\n",
        "  # 列名の変更\n",
        "  columns = {'@cat01':'categoryCode','@cat01_name':'categoryName','@time':'timeCode','@time_name':'timeName','@area':'areaCode','@area_name':'areaName','$':'value','@unit':'unit'}\n",
        "  df_res = df_res.rename(columns=columns)\n",
        "\n",
        "  # 欠損データ削除\n",
        "  df_res = df_res.dropna()\n",
        "\n",
        "  # categoryNameから不要な情報（categoryCode）を削除\n",
        "  df_res['categoryName'] = df_res.apply(lambda x: x['categoryName'].replace(x['categoryCode']+'_', ''), 1)\n",
        "\n",
        "  # timeCodeを文字列4桁に置換\n",
        "  df_res['timeCode'] = df_res.apply(lambda x: x['timeCode'][:4], 1)\n",
        "\n",
        "  return df_res\n",
        "\n",
        "df_fmt = format_estat_dataframe(df_org)\n",
        "df_fmt"
      ],
      "metadata": {
        "id": "_GZiTva3PYBQ"
      },
      "execution_count": null,
      "outputs": []
    },
    {
      "cell_type": "markdown",
      "source": [
        "## 順位を付与する"
      ],
      "metadata": {
        "id": "zgY9vuIxlHJh"
      }
    },
    {
      "cell_type": "markdown",
      "source": [
        "年度ごとに順位を付与"
      ],
      "metadata": {
        "id": "WGe67gWk0F6Y"
      }
    },
    {
      "cell_type": "code",
      "source": [
        "def format_estat_dataframe_withrank(df_arg):\n",
        "\n",
        "  # 年度リストを作成\n",
        "  times = df_arg['timeCode'].tolist()\n",
        "  times = list(set(times))\n",
        "\n",
        "  # 返却するDataFrameの定義\n",
        "  df_res = pd.DataFrame(index=[], columns=[])\n",
        "\n",
        "  # 年度毎に順位を付与\n",
        "  for time in times:\n",
        "\n",
        "    # 単年度のdataを抽出\n",
        "    df_time = df_arg.copy()[df_arg['timeCode'] == time]\n",
        "\n",
        "    # valueを数値に変換して、'rank'を付与\n",
        "    df_time = df_time.astype({'value': int})\n",
        "    df_time['rank'] = df_time.rank(ascending=False)['value'].astype(int).astype(str)\n",
        "\n",
        "    # 結合\n",
        "    df_res = pd.concat([df_res, df_time])\n",
        "\n",
        "  return df_res\n",
        "\n",
        "df_last = format_estat_dataframe_withrank(df_fmt)\n",
        "df_last"
      ],
      "metadata": {
        "colab": {
          "base_uri": "https://localhost:8080/",
          "height": 841
        },
        "id": "S1UBjVPCzjA9",
        "outputId": "6d2236b2-7a69-46cf-fa9e-db4450091d61"
      },
      "execution_count": 61,
      "outputs": [
        {
          "output_type": "execute_result",
          "data": {
            "text/plain": [
              "     statsDataId statsDataName categoryCode categoryName timeCode timeName  \\\n",
              "564   0000010101     社会・人口統計体系        A1101          総人口     1987   1987年度   \n",
              "565   0000010101     社会・人口統計体系        A1101          総人口     1987   1987年度   \n",
              "566   0000010101     社会・人口統計体系        A1101          総人口     1987   1987年度   \n",
              "567   0000010101     社会・人口統計体系        A1101          総人口     1987   1987年度   \n",
              "568   0000010101     社会・人口統計体系        A1101          総人口     1987   1987年度   \n",
              "...          ...           ...          ...          ...      ...      ...   \n",
              "1969  0000010101     社会・人口統計体系        A1101          総人口     2016   2016年度   \n",
              "1970  0000010101     社会・人口統計体系        A1101          総人口     2016   2016年度   \n",
              "1971  0000010101     社会・人口統計体系        A1101          総人口     2016   2016年度   \n",
              "1972  0000010101     社会・人口統計体系        A1101          総人口     2016   2016年度   \n",
              "1973  0000010101     社会・人口統計体系        A1101          総人口     2016   2016年度   \n",
              "\n",
              "     areaCode areaName    value unit rank  \n",
              "564     01000      北海道  5660000    人    6  \n",
              "565     02000      青森県  1511000    人   28  \n",
              "566     03000      岩手県  1427000    人   29  \n",
              "567     04000      宮城県  2206000    人   15  \n",
              "568     05000      秋田県  1244000    人   33  \n",
              "...       ...      ...      ...  ...  ...  \n",
              "1969    43000      熊本県  1774000    人   23  \n",
              "1970    44000      大分県  1160000    人   33  \n",
              "1971    45000      宮崎県  1096000    人   36  \n",
              "1972    46000     鹿児島県  1637000    人   24  \n",
              "1973    47000      沖縄県  1439000    人   25  \n",
              "\n",
              "[2115 rows x 11 columns]"
            ],
            "text/html": [
              "\n",
              "  <div id=\"df-9d0763e1-ba2e-43ed-8f42-d8a75c2a125e\">\n",
              "    <div class=\"colab-df-container\">\n",
              "      <div>\n",
              "<style scoped>\n",
              "    .dataframe tbody tr th:only-of-type {\n",
              "        vertical-align: middle;\n",
              "    }\n",
              "\n",
              "    .dataframe tbody tr th {\n",
              "        vertical-align: top;\n",
              "    }\n",
              "\n",
              "    .dataframe thead th {\n",
              "        text-align: right;\n",
              "    }\n",
              "</style>\n",
              "<table border=\"1\" class=\"dataframe\">\n",
              "  <thead>\n",
              "    <tr style=\"text-align: right;\">\n",
              "      <th></th>\n",
              "      <th>statsDataId</th>\n",
              "      <th>statsDataName</th>\n",
              "      <th>categoryCode</th>\n",
              "      <th>categoryName</th>\n",
              "      <th>timeCode</th>\n",
              "      <th>timeName</th>\n",
              "      <th>areaCode</th>\n",
              "      <th>areaName</th>\n",
              "      <th>value</th>\n",
              "      <th>unit</th>\n",
              "      <th>rank</th>\n",
              "    </tr>\n",
              "  </thead>\n",
              "  <tbody>\n",
              "    <tr>\n",
              "      <th>564</th>\n",
              "      <td>0000010101</td>\n",
              "      <td>社会・人口統計体系</td>\n",
              "      <td>A1101</td>\n",
              "      <td>総人口</td>\n",
              "      <td>1987</td>\n",
              "      <td>1987年度</td>\n",
              "      <td>01000</td>\n",
              "      <td>北海道</td>\n",
              "      <td>5660000</td>\n",
              "      <td>人</td>\n",
              "      <td>6</td>\n",
              "    </tr>\n",
              "    <tr>\n",
              "      <th>565</th>\n",
              "      <td>0000010101</td>\n",
              "      <td>社会・人口統計体系</td>\n",
              "      <td>A1101</td>\n",
              "      <td>総人口</td>\n",
              "      <td>1987</td>\n",
              "      <td>1987年度</td>\n",
              "      <td>02000</td>\n",
              "      <td>青森県</td>\n",
              "      <td>1511000</td>\n",
              "      <td>人</td>\n",
              "      <td>28</td>\n",
              "    </tr>\n",
              "    <tr>\n",
              "      <th>566</th>\n",
              "      <td>0000010101</td>\n",
              "      <td>社会・人口統計体系</td>\n",
              "      <td>A1101</td>\n",
              "      <td>総人口</td>\n",
              "      <td>1987</td>\n",
              "      <td>1987年度</td>\n",
              "      <td>03000</td>\n",
              "      <td>岩手県</td>\n",
              "      <td>1427000</td>\n",
              "      <td>人</td>\n",
              "      <td>29</td>\n",
              "    </tr>\n",
              "    <tr>\n",
              "      <th>567</th>\n",
              "      <td>0000010101</td>\n",
              "      <td>社会・人口統計体系</td>\n",
              "      <td>A1101</td>\n",
              "      <td>総人口</td>\n",
              "      <td>1987</td>\n",
              "      <td>1987年度</td>\n",
              "      <td>04000</td>\n",
              "      <td>宮城県</td>\n",
              "      <td>2206000</td>\n",
              "      <td>人</td>\n",
              "      <td>15</td>\n",
              "    </tr>\n",
              "    <tr>\n",
              "      <th>568</th>\n",
              "      <td>0000010101</td>\n",
              "      <td>社会・人口統計体系</td>\n",
              "      <td>A1101</td>\n",
              "      <td>総人口</td>\n",
              "      <td>1987</td>\n",
              "      <td>1987年度</td>\n",
              "      <td>05000</td>\n",
              "      <td>秋田県</td>\n",
              "      <td>1244000</td>\n",
              "      <td>人</td>\n",
              "      <td>33</td>\n",
              "    </tr>\n",
              "    <tr>\n",
              "      <th>...</th>\n",
              "      <td>...</td>\n",
              "      <td>...</td>\n",
              "      <td>...</td>\n",
              "      <td>...</td>\n",
              "      <td>...</td>\n",
              "      <td>...</td>\n",
              "      <td>...</td>\n",
              "      <td>...</td>\n",
              "      <td>...</td>\n",
              "      <td>...</td>\n",
              "      <td>...</td>\n",
              "    </tr>\n",
              "    <tr>\n",
              "      <th>1969</th>\n",
              "      <td>0000010101</td>\n",
              "      <td>社会・人口統計体系</td>\n",
              "      <td>A1101</td>\n",
              "      <td>総人口</td>\n",
              "      <td>2016</td>\n",
              "      <td>2016年度</td>\n",
              "      <td>43000</td>\n",
              "      <td>熊本県</td>\n",
              "      <td>1774000</td>\n",
              "      <td>人</td>\n",
              "      <td>23</td>\n",
              "    </tr>\n",
              "    <tr>\n",
              "      <th>1970</th>\n",
              "      <td>0000010101</td>\n",
              "      <td>社会・人口統計体系</td>\n",
              "      <td>A1101</td>\n",
              "      <td>総人口</td>\n",
              "      <td>2016</td>\n",
              "      <td>2016年度</td>\n",
              "      <td>44000</td>\n",
              "      <td>大分県</td>\n",
              "      <td>1160000</td>\n",
              "      <td>人</td>\n",
              "      <td>33</td>\n",
              "    </tr>\n",
              "    <tr>\n",
              "      <th>1971</th>\n",
              "      <td>0000010101</td>\n",
              "      <td>社会・人口統計体系</td>\n",
              "      <td>A1101</td>\n",
              "      <td>総人口</td>\n",
              "      <td>2016</td>\n",
              "      <td>2016年度</td>\n",
              "      <td>45000</td>\n",
              "      <td>宮崎県</td>\n",
              "      <td>1096000</td>\n",
              "      <td>人</td>\n",
              "      <td>36</td>\n",
              "    </tr>\n",
              "    <tr>\n",
              "      <th>1972</th>\n",
              "      <td>0000010101</td>\n",
              "      <td>社会・人口統計体系</td>\n",
              "      <td>A1101</td>\n",
              "      <td>総人口</td>\n",
              "      <td>2016</td>\n",
              "      <td>2016年度</td>\n",
              "      <td>46000</td>\n",
              "      <td>鹿児島県</td>\n",
              "      <td>1637000</td>\n",
              "      <td>人</td>\n",
              "      <td>24</td>\n",
              "    </tr>\n",
              "    <tr>\n",
              "      <th>1973</th>\n",
              "      <td>0000010101</td>\n",
              "      <td>社会・人口統計体系</td>\n",
              "      <td>A1101</td>\n",
              "      <td>総人口</td>\n",
              "      <td>2016</td>\n",
              "      <td>2016年度</td>\n",
              "      <td>47000</td>\n",
              "      <td>沖縄県</td>\n",
              "      <td>1439000</td>\n",
              "      <td>人</td>\n",
              "      <td>25</td>\n",
              "    </tr>\n",
              "  </tbody>\n",
              "</table>\n",
              "<p>2115 rows × 11 columns</p>\n",
              "</div>\n",
              "      <button class=\"colab-df-convert\" onclick=\"convertToInteractive('df-9d0763e1-ba2e-43ed-8f42-d8a75c2a125e')\"\n",
              "              title=\"Convert this dataframe to an interactive table.\"\n",
              "              style=\"display:none;\">\n",
              "        \n",
              "  <svg xmlns=\"http://www.w3.org/2000/svg\" height=\"24px\"viewBox=\"0 0 24 24\"\n",
              "       width=\"24px\">\n",
              "    <path d=\"M0 0h24v24H0V0z\" fill=\"none\"/>\n",
              "    <path d=\"M18.56 5.44l.94 2.06.94-2.06 2.06-.94-2.06-.94-.94-2.06-.94 2.06-2.06.94zm-11 1L8.5 8.5l.94-2.06 2.06-.94-2.06-.94L8.5 2.5l-.94 2.06-2.06.94zm10 10l.94 2.06.94-2.06 2.06-.94-2.06-.94-.94-2.06-.94 2.06-2.06.94z\"/><path d=\"M17.41 7.96l-1.37-1.37c-.4-.4-.92-.59-1.43-.59-.52 0-1.04.2-1.43.59L10.3 9.45l-7.72 7.72c-.78.78-.78 2.05 0 2.83L4 21.41c.39.39.9.59 1.41.59.51 0 1.02-.2 1.41-.59l7.78-7.78 2.81-2.81c.8-.78.8-2.07 0-2.86zM5.41 20L4 18.59l7.72-7.72 1.47 1.35L5.41 20z\"/>\n",
              "  </svg>\n",
              "      </button>\n",
              "      \n",
              "  <style>\n",
              "    .colab-df-container {\n",
              "      display:flex;\n",
              "      flex-wrap:wrap;\n",
              "      gap: 12px;\n",
              "    }\n",
              "\n",
              "    .colab-df-convert {\n",
              "      background-color: #E8F0FE;\n",
              "      border: none;\n",
              "      border-radius: 50%;\n",
              "      cursor: pointer;\n",
              "      display: none;\n",
              "      fill: #1967D2;\n",
              "      height: 32px;\n",
              "      padding: 0 0 0 0;\n",
              "      width: 32px;\n",
              "    }\n",
              "\n",
              "    .colab-df-convert:hover {\n",
              "      background-color: #E2EBFA;\n",
              "      box-shadow: 0px 1px 2px rgba(60, 64, 67, 0.3), 0px 1px 3px 1px rgba(60, 64, 67, 0.15);\n",
              "      fill: #174EA6;\n",
              "    }\n",
              "\n",
              "    [theme=dark] .colab-df-convert {\n",
              "      background-color: #3B4455;\n",
              "      fill: #D2E3FC;\n",
              "    }\n",
              "\n",
              "    [theme=dark] .colab-df-convert:hover {\n",
              "      background-color: #434B5C;\n",
              "      box-shadow: 0px 1px 3px 1px rgba(0, 0, 0, 0.15);\n",
              "      filter: drop-shadow(0px 1px 2px rgba(0, 0, 0, 0.3));\n",
              "      fill: #FFFFFF;\n",
              "    }\n",
              "  </style>\n",
              "\n",
              "      <script>\n",
              "        const buttonEl =\n",
              "          document.querySelector('#df-9d0763e1-ba2e-43ed-8f42-d8a75c2a125e button.colab-df-convert');\n",
              "        buttonEl.style.display =\n",
              "          google.colab.kernel.accessAllowed ? 'block' : 'none';\n",
              "\n",
              "        async function convertToInteractive(key) {\n",
              "          const element = document.querySelector('#df-9d0763e1-ba2e-43ed-8f42-d8a75c2a125e');\n",
              "          const dataTable =\n",
              "            await google.colab.kernel.invokeFunction('convertToInteractive',\n",
              "                                                     [key], {});\n",
              "          if (!dataTable) return;\n",
              "\n",
              "          const docLinkHtml = 'Like what you see? Visit the ' +\n",
              "            '<a target=\"_blank\" href=https://colab.research.google.com/notebooks/data_table.ipynb>data table notebook</a>'\n",
              "            + ' to learn more about interactive tables.';\n",
              "          element.innerHTML = '';\n",
              "          dataTable['output_type'] = 'display_data';\n",
              "          await google.colab.output.renderOutput(dataTable, element);\n",
              "          const docLink = document.createElement('div');\n",
              "          docLink.innerHTML = docLinkHtml;\n",
              "          element.appendChild(docLink);\n",
              "        }\n",
              "      </script>\n",
              "    </div>\n",
              "  </div>\n",
              "  "
            ]
          },
          "metadata": {},
          "execution_count": 61
        }
      ]
    },
    {
      "cell_type": "markdown",
      "source": [
        "## GoogleBigQueryに保存"
      ],
      "metadata": {
        "id": "0YS-65gtUE8l"
      }
    },
    {
      "cell_type": "code",
      "source": [
        "pip install tensorflow==2.9.1"
      ],
      "metadata": {
        "id": "EXBaz0bwc8Vy"
      },
      "execution_count": null,
      "outputs": []
    },
    {
      "cell_type": "code",
      "source": [
        "project_id='primal-buttress-342908'\n",
        "table='test3'\n",
        "\n",
        "# データフレームの内容をBigQueryのテーブルに追加\n",
        "df_last.to_gbq(table, project_id=project_id, if_exists=\"append\")"
      ],
      "metadata": {
        "colab": {
          "base_uri": "https://localhost:8080/",
          "height": 495
        },
        "id": "lrrSGPWdUSqv",
        "outputId": "00a32902-cad9-4731-f7a3-be364891a717"
      },
      "execution_count": 49,
      "outputs": [
        {
          "output_type": "error",
          "ename": "TypeError",
          "evalue": "ignored",
          "traceback": [
            "\u001b[0;31m---------------------------------------------------------------------------\u001b[0m",
            "\u001b[0;31mTypeError\u001b[0m                                 Traceback (most recent call last)",
            "\u001b[0;32m<ipython-input-49-6d6f7df66948>\u001b[0m in \u001b[0;36m<module>\u001b[0;34m\u001b[0m\n\u001b[1;32m      3\u001b[0m \u001b[0;34m\u001b[0m\u001b[0m\n\u001b[1;32m      4\u001b[0m \u001b[0;31m# データフレームの内容をBigQueryのテーブルに追加\u001b[0m\u001b[0;34m\u001b[0m\u001b[0;34m\u001b[0m\u001b[0;34m\u001b[0m\u001b[0m\n\u001b[0;32m----> 5\u001b[0;31m \u001b[0mdf_last\u001b[0m\u001b[0;34m.\u001b[0m\u001b[0mto_gbq\u001b[0m\u001b[0;34m(\u001b[0m\u001b[0mtable\u001b[0m\u001b[0;34m,\u001b[0m \u001b[0mproject_id\u001b[0m\u001b[0;34m=\u001b[0m\u001b[0mproject_id\u001b[0m\u001b[0;34m,\u001b[0m \u001b[0mif_exists\u001b[0m\u001b[0;34m=\u001b[0m\u001b[0;34m\"append\"\u001b[0m\u001b[0;34m)\u001b[0m\u001b[0;34m\u001b[0m\u001b[0;34m\u001b[0m\u001b[0m\n\u001b[0m",
            "\u001b[0;32m/usr/local/lib/python3.7/dist-packages/pandas/core/frame.py\u001b[0m in \u001b[0;36mto_gbq\u001b[0;34m(self, destination_table, project_id, chunksize, reauth, if_exists, auth_local_webserver, table_schema, location, progress_bar, credentials)\u001b[0m\n\u001b[1;32m   1938\u001b[0m             \u001b[0mlocation\u001b[0m\u001b[0;34m=\u001b[0m\u001b[0mlocation\u001b[0m\u001b[0;34m,\u001b[0m\u001b[0;34m\u001b[0m\u001b[0;34m\u001b[0m\u001b[0m\n\u001b[1;32m   1939\u001b[0m             \u001b[0mprogress_bar\u001b[0m\u001b[0;34m=\u001b[0m\u001b[0mprogress_bar\u001b[0m\u001b[0;34m,\u001b[0m\u001b[0;34m\u001b[0m\u001b[0;34m\u001b[0m\u001b[0m\n\u001b[0;32m-> 1940\u001b[0;31m             \u001b[0mcredentials\u001b[0m\u001b[0;34m=\u001b[0m\u001b[0mcredentials\u001b[0m\u001b[0;34m,\u001b[0m\u001b[0;34m\u001b[0m\u001b[0;34m\u001b[0m\u001b[0m\n\u001b[0m\u001b[1;32m   1941\u001b[0m         )\n\u001b[1;32m   1942\u001b[0m \u001b[0;34m\u001b[0m\u001b[0m\n",
            "\u001b[0;32m/usr/local/lib/python3.7/dist-packages/pandas/io/gbq.py\u001b[0m in \u001b[0;36mto_gbq\u001b[0;34m(dataframe, destination_table, project_id, chunksize, reauth, if_exists, auth_local_webserver, table_schema, location, progress_bar, credentials)\u001b[0m\n\u001b[1;32m    209\u001b[0m     \u001b[0mcredentials\u001b[0m\u001b[0;34m=\u001b[0m\u001b[0;32mNone\u001b[0m\u001b[0;34m,\u001b[0m\u001b[0;34m\u001b[0m\u001b[0;34m\u001b[0m\u001b[0m\n\u001b[1;32m    210\u001b[0m ) -> None:\n\u001b[0;32m--> 211\u001b[0;31m     \u001b[0mpandas_gbq\u001b[0m \u001b[0;34m=\u001b[0m \u001b[0m_try_import\u001b[0m\u001b[0;34m(\u001b[0m\u001b[0;34m)\u001b[0m\u001b[0;34m\u001b[0m\u001b[0;34m\u001b[0m\u001b[0m\n\u001b[0m\u001b[1;32m    212\u001b[0m     pandas_gbq.to_gbq(\n\u001b[1;32m    213\u001b[0m         \u001b[0mdataframe\u001b[0m\u001b[0;34m,\u001b[0m\u001b[0;34m\u001b[0m\u001b[0;34m\u001b[0m\u001b[0m\n",
            "\u001b[0;32m/usr/local/lib/python3.7/dist-packages/pandas/io/gbq.py\u001b[0m in \u001b[0;36m_try_import\u001b[0;34m()\u001b[0m\n\u001b[1;32m     20\u001b[0m         \u001b[0;34m\"See the docs: https://pandas-gbq.readthedocs.io.\"\u001b[0m\u001b[0;34m\u001b[0m\u001b[0;34m\u001b[0m\u001b[0m\n\u001b[1;32m     21\u001b[0m     )\n\u001b[0;32m---> 22\u001b[0;31m     \u001b[0mpandas_gbq\u001b[0m \u001b[0;34m=\u001b[0m \u001b[0mimport_optional_dependency\u001b[0m\u001b[0;34m(\u001b[0m\u001b[0;34m\"pandas_gbq\"\u001b[0m\u001b[0;34m,\u001b[0m \u001b[0mextra\u001b[0m\u001b[0;34m=\u001b[0m\u001b[0mmsg\u001b[0m\u001b[0;34m)\u001b[0m\u001b[0;34m\u001b[0m\u001b[0;34m\u001b[0m\u001b[0m\n\u001b[0m\u001b[1;32m     23\u001b[0m     \u001b[0;32mreturn\u001b[0m \u001b[0mpandas_gbq\u001b[0m\u001b[0;34m\u001b[0m\u001b[0;34m\u001b[0m\u001b[0m\n\u001b[1;32m     24\u001b[0m \u001b[0;34m\u001b[0m\u001b[0m\n",
            "\u001b[0;32m/usr/local/lib/python3.7/dist-packages/pandas/compat/_optional.py\u001b[0m in \u001b[0;36mimport_optional_dependency\u001b[0;34m(name, extra, errors, min_version)\u001b[0m\n\u001b[1;32m    113\u001b[0m     )\n\u001b[1;32m    114\u001b[0m     \u001b[0;32mtry\u001b[0m\u001b[0;34m:\u001b[0m\u001b[0;34m\u001b[0m\u001b[0;34m\u001b[0m\u001b[0m\n\u001b[0;32m--> 115\u001b[0;31m         \u001b[0mmodule\u001b[0m \u001b[0;34m=\u001b[0m \u001b[0mimportlib\u001b[0m\u001b[0;34m.\u001b[0m\u001b[0mimport_module\u001b[0m\u001b[0;34m(\u001b[0m\u001b[0mname\u001b[0m\u001b[0;34m)\u001b[0m\u001b[0;34m\u001b[0m\u001b[0;34m\u001b[0m\u001b[0m\n\u001b[0m\u001b[1;32m    116\u001b[0m     \u001b[0;32mexcept\u001b[0m \u001b[0mImportError\u001b[0m\u001b[0;34m:\u001b[0m\u001b[0;34m\u001b[0m\u001b[0;34m\u001b[0m\u001b[0m\n\u001b[1;32m    117\u001b[0m         \u001b[0;32mif\u001b[0m \u001b[0merrors\u001b[0m \u001b[0;34m==\u001b[0m \u001b[0;34m\"raise\"\u001b[0m\u001b[0;34m:\u001b[0m\u001b[0;34m\u001b[0m\u001b[0;34m\u001b[0m\u001b[0m\n",
            "\u001b[0;32m/usr/lib/python3.7/importlib/__init__.py\u001b[0m in \u001b[0;36mimport_module\u001b[0;34m(name, package)\u001b[0m\n\u001b[1;32m    125\u001b[0m                 \u001b[0;32mbreak\u001b[0m\u001b[0;34m\u001b[0m\u001b[0;34m\u001b[0m\u001b[0m\n\u001b[1;32m    126\u001b[0m             \u001b[0mlevel\u001b[0m \u001b[0;34m+=\u001b[0m \u001b[0;36m1\u001b[0m\u001b[0;34m\u001b[0m\u001b[0;34m\u001b[0m\u001b[0m\n\u001b[0;32m--> 127\u001b[0;31m     \u001b[0;32mreturn\u001b[0m \u001b[0m_bootstrap\u001b[0m\u001b[0;34m.\u001b[0m\u001b[0m_gcd_import\u001b[0m\u001b[0;34m(\u001b[0m\u001b[0mname\u001b[0m\u001b[0;34m[\u001b[0m\u001b[0mlevel\u001b[0m\u001b[0;34m:\u001b[0m\u001b[0;34m]\u001b[0m\u001b[0;34m,\u001b[0m \u001b[0mpackage\u001b[0m\u001b[0;34m,\u001b[0m \u001b[0mlevel\u001b[0m\u001b[0;34m)\u001b[0m\u001b[0;34m\u001b[0m\u001b[0;34m\u001b[0m\u001b[0m\n\u001b[0m\u001b[1;32m    128\u001b[0m \u001b[0;34m\u001b[0m\u001b[0m\n\u001b[1;32m    129\u001b[0m \u001b[0;34m\u001b[0m\u001b[0m\n",
            "\u001b[0;32m/usr/lib/python3.7/importlib/_bootstrap.py\u001b[0m in \u001b[0;36m_gcd_import\u001b[0;34m(name, package, level)\u001b[0m\n",
            "\u001b[0;32m/usr/lib/python3.7/importlib/_bootstrap.py\u001b[0m in \u001b[0;36m_find_and_load\u001b[0;34m(name, import_)\u001b[0m\n",
            "\u001b[0;32m/usr/lib/python3.7/importlib/_bootstrap.py\u001b[0m in \u001b[0;36m_find_and_load_unlocked\u001b[0;34m(name, import_)\u001b[0m\n",
            "\u001b[0;32m/usr/lib/python3.7/importlib/_bootstrap.py\u001b[0m in \u001b[0;36m_load_unlocked\u001b[0;34m(spec)\u001b[0m\n",
            "\u001b[0;32m/usr/lib/python3.7/importlib/_bootstrap_external.py\u001b[0m in \u001b[0;36mexec_module\u001b[0;34m(self, module)\u001b[0m\n",
            "\u001b[0;32m/usr/lib/python3.7/importlib/_bootstrap.py\u001b[0m in \u001b[0;36m_call_with_frames_removed\u001b[0;34m(f, *args, **kwds)\u001b[0m\n",
            "\u001b[0;32m/usr/local/lib/python3.7/dist-packages/pandas_gbq/__init__.py\u001b[0m in \u001b[0;36m<module>\u001b[0;34m\u001b[0m\n\u001b[0;32m----> 1\u001b[0;31m \u001b[0;32mfrom\u001b[0m \u001b[0;34m.\u001b[0m\u001b[0mgbq\u001b[0m \u001b[0;32mimport\u001b[0m \u001b[0mto_gbq\u001b[0m\u001b[0;34m,\u001b[0m \u001b[0mread_gbq\u001b[0m\u001b[0;34m,\u001b[0m \u001b[0mContext\u001b[0m\u001b[0;34m,\u001b[0m \u001b[0mcontext\u001b[0m  \u001b[0;31m# noqa\u001b[0m\u001b[0;34m\u001b[0m\u001b[0;34m\u001b[0m\u001b[0m\n\u001b[0m\u001b[1;32m      2\u001b[0m \u001b[0;34m\u001b[0m\u001b[0m\n\u001b[1;32m      3\u001b[0m \u001b[0;32mfrom\u001b[0m \u001b[0;34m.\u001b[0m\u001b[0m_version\u001b[0m \u001b[0;32mimport\u001b[0m \u001b[0mget_versions\u001b[0m\u001b[0;34m\u001b[0m\u001b[0;34m\u001b[0m\u001b[0m\n\u001b[1;32m      4\u001b[0m \u001b[0;34m\u001b[0m\u001b[0m\n\u001b[1;32m      5\u001b[0m \u001b[0mversions\u001b[0m \u001b[0;34m=\u001b[0m \u001b[0mget_versions\u001b[0m\u001b[0;34m(\u001b[0m\u001b[0;34m)\u001b[0m\u001b[0;34m\u001b[0m\u001b[0;34m\u001b[0m\u001b[0m\n",
            "\u001b[0;32m/usr/local/lib/python3.7/dist-packages/pandas_gbq/gbq.py\u001b[0m in \u001b[0;36m<module>\u001b[0;34m\u001b[0m\n\u001b[1;32m     10\u001b[0m \u001b[0;32mtry\u001b[0m\u001b[0;34m:\u001b[0m\u001b[0;34m\u001b[0m\u001b[0;34m\u001b[0m\u001b[0m\n\u001b[1;32m     11\u001b[0m     \u001b[0;32mfrom\u001b[0m \u001b[0mgoogle\u001b[0m\u001b[0;34m.\u001b[0m\u001b[0mapi_core\u001b[0m \u001b[0;32mimport\u001b[0m \u001b[0mexceptions\u001b[0m \u001b[0;32mas\u001b[0m \u001b[0mgoogle_exceptions\u001b[0m\u001b[0;34m\u001b[0m\u001b[0;34m\u001b[0m\u001b[0m\n\u001b[0;32m---> 12\u001b[0;31m     \u001b[0;32mfrom\u001b[0m \u001b[0mgoogle\u001b[0m\u001b[0;34m.\u001b[0m\u001b[0mcloud\u001b[0m \u001b[0;32mimport\u001b[0m \u001b[0mbigquery\u001b[0m\u001b[0;34m\u001b[0m\u001b[0;34m\u001b[0m\u001b[0m\n\u001b[0m\u001b[1;32m     13\u001b[0m \u001b[0;32mexcept\u001b[0m \u001b[0mImportError\u001b[0m\u001b[0;34m:\u001b[0m  \u001b[0;31m# pragma: NO COVER\u001b[0m\u001b[0;34m\u001b[0m\u001b[0;34m\u001b[0m\u001b[0m\n\u001b[1;32m     14\u001b[0m     \u001b[0mbigquery\u001b[0m \u001b[0;34m=\u001b[0m \u001b[0;32mNone\u001b[0m\u001b[0;34m\u001b[0m\u001b[0;34m\u001b[0m\u001b[0m\n",
            "\u001b[0;32m/usr/local/lib/python3.7/dist-packages/google/cloud/bigquery/__init__.py\u001b[0m in \u001b[0;36m<module>\u001b[0;34m\u001b[0m\n\u001b[1;32m     33\u001b[0m \u001b[0m__version__\u001b[0m \u001b[0;34m=\u001b[0m \u001b[0mget_distribution\u001b[0m\u001b[0;34m(\u001b[0m\u001b[0;34m\"google-cloud-bigquery\"\u001b[0m\u001b[0;34m)\u001b[0m\u001b[0;34m.\u001b[0m\u001b[0mversion\u001b[0m\u001b[0;34m\u001b[0m\u001b[0;34m\u001b[0m\u001b[0m\n\u001b[1;32m     34\u001b[0m \u001b[0;34m\u001b[0m\u001b[0m\n\u001b[0;32m---> 35\u001b[0;31m \u001b[0;32mfrom\u001b[0m \u001b[0mgoogle\u001b[0m\u001b[0;34m.\u001b[0m\u001b[0mcloud\u001b[0m\u001b[0;34m.\u001b[0m\u001b[0mbigquery\u001b[0m\u001b[0;34m.\u001b[0m\u001b[0mclient\u001b[0m \u001b[0;32mimport\u001b[0m \u001b[0mClient\u001b[0m\u001b[0;34m\u001b[0m\u001b[0;34m\u001b[0m\u001b[0m\n\u001b[0m\u001b[1;32m     36\u001b[0m \u001b[0;32mfrom\u001b[0m \u001b[0mgoogle\u001b[0m\u001b[0;34m.\u001b[0m\u001b[0mcloud\u001b[0m\u001b[0;34m.\u001b[0m\u001b[0mbigquery\u001b[0m\u001b[0;34m.\u001b[0m\u001b[0mdataset\u001b[0m \u001b[0;32mimport\u001b[0m \u001b[0mAccessEntry\u001b[0m\u001b[0;34m\u001b[0m\u001b[0;34m\u001b[0m\u001b[0m\n\u001b[1;32m     37\u001b[0m \u001b[0;32mfrom\u001b[0m \u001b[0mgoogle\u001b[0m\u001b[0;34m.\u001b[0m\u001b[0mcloud\u001b[0m\u001b[0;34m.\u001b[0m\u001b[0mbigquery\u001b[0m\u001b[0;34m.\u001b[0m\u001b[0mdataset\u001b[0m \u001b[0;32mimport\u001b[0m \u001b[0mDataset\u001b[0m\u001b[0;34m\u001b[0m\u001b[0;34m\u001b[0m\u001b[0m\n",
            "\u001b[0;32m/usr/local/lib/python3.7/dist-packages/google/cloud/bigquery/client.py\u001b[0m in \u001b[0;36m<module>\u001b[0;34m\u001b[0m\n\u001b[1;32m     55\u001b[0m \u001b[0;32mfrom\u001b[0m \u001b[0mgoogle\u001b[0m\u001b[0;34m.\u001b[0m\u001b[0mcloud\u001b[0m\u001b[0;34m.\u001b[0m\u001b[0mbigquery\u001b[0m\u001b[0;34m.\u001b[0m\u001b[0m_helpers\u001b[0m \u001b[0;32mimport\u001b[0m \u001b[0m_str_or_none\u001b[0m\u001b[0;34m\u001b[0m\u001b[0;34m\u001b[0m\u001b[0m\n\u001b[1;32m     56\u001b[0m \u001b[0;32mfrom\u001b[0m \u001b[0mgoogle\u001b[0m\u001b[0;34m.\u001b[0m\u001b[0mcloud\u001b[0m\u001b[0;34m.\u001b[0m\u001b[0mbigquery\u001b[0m\u001b[0;34m.\u001b[0m\u001b[0m_http\u001b[0m \u001b[0;32mimport\u001b[0m \u001b[0mConnection\u001b[0m\u001b[0;34m\u001b[0m\u001b[0;34m\u001b[0m\u001b[0m\n\u001b[0;32m---> 57\u001b[0;31m \u001b[0;32mfrom\u001b[0m \u001b[0mgoogle\u001b[0m\u001b[0;34m.\u001b[0m\u001b[0mcloud\u001b[0m\u001b[0;34m.\u001b[0m\u001b[0mbigquery\u001b[0m \u001b[0;32mimport\u001b[0m \u001b[0m_pandas_helpers\u001b[0m\u001b[0;34m\u001b[0m\u001b[0;34m\u001b[0m\u001b[0m\n\u001b[0m\u001b[1;32m     58\u001b[0m \u001b[0;32mfrom\u001b[0m \u001b[0mgoogle\u001b[0m\u001b[0;34m.\u001b[0m\u001b[0mcloud\u001b[0m\u001b[0;34m.\u001b[0m\u001b[0mbigquery\u001b[0m\u001b[0;34m.\u001b[0m\u001b[0mdataset\u001b[0m \u001b[0;32mimport\u001b[0m \u001b[0mDataset\u001b[0m\u001b[0;34m\u001b[0m\u001b[0;34m\u001b[0m\u001b[0m\n\u001b[1;32m     59\u001b[0m \u001b[0;32mfrom\u001b[0m \u001b[0mgoogle\u001b[0m\u001b[0;34m.\u001b[0m\u001b[0mcloud\u001b[0m\u001b[0;34m.\u001b[0m\u001b[0mbigquery\u001b[0m\u001b[0;34m.\u001b[0m\u001b[0mdataset\u001b[0m \u001b[0;32mimport\u001b[0m \u001b[0mDatasetListItem\u001b[0m\u001b[0;34m\u001b[0m\u001b[0;34m\u001b[0m\u001b[0m\n",
            "\u001b[0;32m/usr/local/lib/python3.7/dist-packages/google/cloud/bigquery/_pandas_helpers.py\u001b[0m in \u001b[0;36m<module>\u001b[0;34m\u001b[0m\n\u001b[1;32m     23\u001b[0m \u001b[0;34m\u001b[0m\u001b[0m\n\u001b[1;32m     24\u001b[0m \u001b[0;32mtry\u001b[0m\u001b[0;34m:\u001b[0m\u001b[0;34m\u001b[0m\u001b[0;34m\u001b[0m\u001b[0m\n\u001b[0;32m---> 25\u001b[0;31m     \u001b[0;32mfrom\u001b[0m \u001b[0mgoogle\u001b[0m\u001b[0;34m.\u001b[0m\u001b[0mcloud\u001b[0m \u001b[0;32mimport\u001b[0m \u001b[0mbigquery_storage_v1beta1\u001b[0m\u001b[0;34m\u001b[0m\u001b[0;34m\u001b[0m\u001b[0m\n\u001b[0m\u001b[1;32m     26\u001b[0m \u001b[0;32mexcept\u001b[0m \u001b[0mImportError\u001b[0m\u001b[0;34m:\u001b[0m  \u001b[0;31m# pragma: NO COVER\u001b[0m\u001b[0;34m\u001b[0m\u001b[0;34m\u001b[0m\u001b[0m\n\u001b[1;32m     27\u001b[0m     \u001b[0mbigquery_storage_v1beta1\u001b[0m \u001b[0;34m=\u001b[0m \u001b[0;32mNone\u001b[0m\u001b[0;34m\u001b[0m\u001b[0;34m\u001b[0m\u001b[0m\n",
            "\u001b[0;32m/usr/local/lib/python3.7/dist-packages/google/cloud/bigquery_storage_v1beta1/__init__.py\u001b[0m in \u001b[0;36m<module>\u001b[0;34m\u001b[0m\n\u001b[1;32m     23\u001b[0m ).version  # noqa\n\u001b[1;32m     24\u001b[0m \u001b[0;34m\u001b[0m\u001b[0m\n\u001b[0;32m---> 25\u001b[0;31m \u001b[0;32mfrom\u001b[0m \u001b[0mgoogle\u001b[0m\u001b[0;34m.\u001b[0m\u001b[0mcloud\u001b[0m\u001b[0;34m.\u001b[0m\u001b[0mbigquery_storage_v1beta1\u001b[0m \u001b[0;32mimport\u001b[0m \u001b[0mtypes\u001b[0m\u001b[0;34m\u001b[0m\u001b[0;34m\u001b[0m\u001b[0m\n\u001b[0m\u001b[1;32m     26\u001b[0m \u001b[0;32mfrom\u001b[0m \u001b[0mgoogle\u001b[0m\u001b[0;34m.\u001b[0m\u001b[0mcloud\u001b[0m\u001b[0;34m.\u001b[0m\u001b[0mbigquery_storage_v1beta1\u001b[0m \u001b[0;32mimport\u001b[0m \u001b[0mclient\u001b[0m\u001b[0;34m\u001b[0m\u001b[0;34m\u001b[0m\u001b[0m\n\u001b[1;32m     27\u001b[0m \u001b[0;32mfrom\u001b[0m \u001b[0mgoogle\u001b[0m\u001b[0;34m.\u001b[0m\u001b[0mcloud\u001b[0m\u001b[0;34m.\u001b[0m\u001b[0mbigquery_storage_v1beta1\u001b[0m\u001b[0;34m.\u001b[0m\u001b[0mgapic\u001b[0m \u001b[0;32mimport\u001b[0m \u001b[0menums\u001b[0m\u001b[0;34m\u001b[0m\u001b[0;34m\u001b[0m\u001b[0m\n",
            "\u001b[0;32m/usr/local/lib/python3.7/dist-packages/google/cloud/bigquery_storage_v1beta1/types.py\u001b[0m in \u001b[0;36m<module>\u001b[0;34m\u001b[0m\n\u001b[1;32m     21\u001b[0m \u001b[0;32mfrom\u001b[0m \u001b[0mgoogle\u001b[0m\u001b[0;34m.\u001b[0m\u001b[0mapi_core\u001b[0m\u001b[0;34m.\u001b[0m\u001b[0mprotobuf_helpers\u001b[0m \u001b[0;32mimport\u001b[0m \u001b[0mget_messages\u001b[0m\u001b[0;34m\u001b[0m\u001b[0;34m\u001b[0m\u001b[0m\n\u001b[1;32m     22\u001b[0m \u001b[0;34m\u001b[0m\u001b[0m\n\u001b[0;32m---> 23\u001b[0;31m \u001b[0;32mfrom\u001b[0m \u001b[0mgoogle\u001b[0m\u001b[0;34m.\u001b[0m\u001b[0mcloud\u001b[0m\u001b[0;34m.\u001b[0m\u001b[0mbigquery_storage_v1beta1\u001b[0m\u001b[0;34m.\u001b[0m\u001b[0mproto\u001b[0m \u001b[0;32mimport\u001b[0m \u001b[0marrow_pb2\u001b[0m\u001b[0;34m\u001b[0m\u001b[0;34m\u001b[0m\u001b[0m\n\u001b[0m\u001b[1;32m     24\u001b[0m \u001b[0;32mfrom\u001b[0m \u001b[0mgoogle\u001b[0m\u001b[0;34m.\u001b[0m\u001b[0mcloud\u001b[0m\u001b[0;34m.\u001b[0m\u001b[0mbigquery_storage_v1beta1\u001b[0m\u001b[0;34m.\u001b[0m\u001b[0mproto\u001b[0m \u001b[0;32mimport\u001b[0m \u001b[0mavro_pb2\u001b[0m\u001b[0;34m\u001b[0m\u001b[0;34m\u001b[0m\u001b[0m\n\u001b[1;32m     25\u001b[0m \u001b[0;32mfrom\u001b[0m \u001b[0mgoogle\u001b[0m\u001b[0;34m.\u001b[0m\u001b[0mcloud\u001b[0m\u001b[0;34m.\u001b[0m\u001b[0mbigquery_storage_v1beta1\u001b[0m\u001b[0;34m.\u001b[0m\u001b[0mproto\u001b[0m \u001b[0;32mimport\u001b[0m \u001b[0mread_options_pb2\u001b[0m\u001b[0;34m\u001b[0m\u001b[0;34m\u001b[0m\u001b[0m\n",
            "\u001b[0;32m/usr/local/lib/python3.7/dist-packages/google/cloud/bigquery_storage_v1beta1/proto/arrow_pb2.py\u001b[0m in \u001b[0;36m<module>\u001b[0;34m\u001b[0m\n\u001b[1;32m     48\u001b[0m             \u001b[0mserialized_options\u001b[0m\u001b[0;34m=\u001b[0m\u001b[0;32mNone\u001b[0m\u001b[0;34m,\u001b[0m\u001b[0;34m\u001b[0m\u001b[0;34m\u001b[0m\u001b[0m\n\u001b[1;32m     49\u001b[0m             \u001b[0mfile\u001b[0m\u001b[0;34m=\u001b[0m\u001b[0mDESCRIPTOR\u001b[0m\u001b[0;34m,\u001b[0m\u001b[0;34m\u001b[0m\u001b[0;34m\u001b[0m\u001b[0m\n\u001b[0;32m---> 50\u001b[0;31m             \u001b[0mcreate_key\u001b[0m\u001b[0;34m=\u001b[0m\u001b[0m_descriptor\u001b[0m\u001b[0;34m.\u001b[0m\u001b[0m_internal_create_key\u001b[0m\u001b[0;34m,\u001b[0m\u001b[0;34m\u001b[0m\u001b[0;34m\u001b[0m\u001b[0m\n\u001b[0m\u001b[1;32m     51\u001b[0m         ),\n\u001b[1;32m     52\u001b[0m     ],\n",
            "\u001b[0;32m/usr/local/lib/python3.7/dist-packages/google/protobuf/descriptor.py\u001b[0m in \u001b[0;36m__new__\u001b[0;34m(cls, name, full_name, index, number, type, cpp_type, label, default_value, message_type, enum_type, containing_type, is_extension, extension_scope, options, serialized_options, has_default_value, containing_oneof, json_name, file, create_key)\u001b[0m\n\u001b[1;32m    558\u001b[0m                 \u001b[0mhas_default_value\u001b[0m\u001b[0;34m=\u001b[0m\u001b[0;32mTrue\u001b[0m\u001b[0;34m,\u001b[0m \u001b[0mcontaining_oneof\u001b[0m\u001b[0;34m=\u001b[0m\u001b[0;32mNone\u001b[0m\u001b[0;34m,\u001b[0m \u001b[0mjson_name\u001b[0m\u001b[0;34m=\u001b[0m\u001b[0;32mNone\u001b[0m\u001b[0;34m,\u001b[0m\u001b[0;34m\u001b[0m\u001b[0;34m\u001b[0m\u001b[0m\n\u001b[1;32m    559\u001b[0m                 file=None, create_key=None):  # pylint: disable=redefined-builtin\n\u001b[0;32m--> 560\u001b[0;31m       \u001b[0m_message\u001b[0m\u001b[0;34m.\u001b[0m\u001b[0mMessage\u001b[0m\u001b[0;34m.\u001b[0m\u001b[0m_CheckCalledFromGeneratedFile\u001b[0m\u001b[0;34m(\u001b[0m\u001b[0;34m)\u001b[0m\u001b[0;34m\u001b[0m\u001b[0;34m\u001b[0m\u001b[0m\n\u001b[0m\u001b[1;32m    561\u001b[0m       \u001b[0;32mif\u001b[0m \u001b[0mis_extension\u001b[0m\u001b[0;34m:\u001b[0m\u001b[0;34m\u001b[0m\u001b[0;34m\u001b[0m\u001b[0m\n\u001b[1;32m    562\u001b[0m         \u001b[0;32mreturn\u001b[0m \u001b[0m_message\u001b[0m\u001b[0;34m.\u001b[0m\u001b[0mdefault_pool\u001b[0m\u001b[0;34m.\u001b[0m\u001b[0mFindExtensionByName\u001b[0m\u001b[0;34m(\u001b[0m\u001b[0mfull_name\u001b[0m\u001b[0;34m)\u001b[0m\u001b[0;34m\u001b[0m\u001b[0;34m\u001b[0m\u001b[0m\n",
            "\u001b[0;31mTypeError\u001b[0m: Descriptors cannot not be created directly.\nIf this call came from a _pb2.py file, your generated code is out of date and must be regenerated with protoc >= 3.19.0.\nIf you cannot immediately regenerate your protos, some other possible workarounds are:\n 1. Downgrade the protobuf package to 3.20.x or lower.\n 2. Set PROTOCOL_BUFFERS_PYTHON_IMPLEMENTATION=python (but this will use pure-Python parsing and will be much slower).\n\nMore information: https://developers.google.com/protocol-buffers/docs/news/2022-05-06#python-updates"
          ]
        }
      ]
    },
    {
      "cell_type": "markdown",
      "source": [
        "## まとめ"
      ],
      "metadata": {
        "id": "5AXbHV5OJAfw"
      }
    },
    {
      "cell_type": "markdown",
      "source": [
        "paramsを指定してから、順位を付与したDataFrameを取得するまでを関数にまとめる"
      ],
      "metadata": {
        "id": "ArUHZy6QQFeg"
      }
    },
    {
      "cell_type": "code",
      "source": [
        "params = {}\n",
        "\n",
        "params['statsDataId'] = statsDataId\n",
        "params['cdCat01'] = 'A1101'\n",
        "params['cdArea']=\",\".join(area_codes)"
      ],
      "metadata": {
        "id": "ovojX-y9QQaU"
      },
      "execution_count": null,
      "outputs": []
    },
    {
      "cell_type": "code",
      "source": [
        "def get_estat_dataframe(params):\n",
        "  # estat-APIのレスポンス取得\n",
        "  res = get_estat_data(params)\n",
        "\n",
        "  # レスポンスをDataFrameに変換\n",
        "  df = conv_estat_response_to_dataframe(res)\n",
        "\n",
        "  # DataFrameを整形\n",
        "  df = format_estat_dataframe(df)\n",
        "\n",
        "  # 順位を付与\n",
        "  df = format_estat_dataframe_withrank(df)\n",
        "\n",
        "  return df\n",
        "\n",
        "df = get_estat_dataframe(params)\n",
        "# df"
      ],
      "metadata": {
        "id": "SwhlhHLQQLej"
      },
      "execution_count": null,
      "outputs": []
    },
    {
      "cell_type": "markdown",
      "source": [],
      "metadata": {
        "id": "T9H8_BayUEnb"
      }
    },
    {
      "cell_type": "markdown",
      "source": [
        "# 統計表に含まれる全てのデータをDataframeに変換する"
      ],
      "metadata": {
        "id": "FFDEer4JI3t2"
      }
    },
    {
      "cell_type": "markdown",
      "source": [
        "'statsDataId'で統計表を指定して、含まれる統計データを一括でDataFrameに変換する"
      ],
      "metadata": {
        "id": "qtwgWVU0R4h9"
      }
    },
    {
      "cell_type": "code",
      "source": [
        "statsDataId = '0000010101'"
      ],
      "metadata": {
        "id": "9u5fsGLTSCdB"
      },
      "execution_count": null,
      "outputs": []
    },
    {
      "cell_type": "code",
      "source": [
        "def get_estat_dataframe_all(statsDataId):\n",
        "\n",
        "  # 統計表のメタ情報を取得\n",
        "  meta = get_estat_meta(statsDataId)\n",
        "\n",
        "  # カテゴリ一覧\n",
        "  category_codes = get_estat_catefory_codes(statsDataId)\n",
        "\n",
        "  # 地域コード一覧\n",
        "  area_codes = get_estat_area_codes(statsDataId)\n",
        "\n",
        "  # 返却するDataFrameの定義\n",
        "  df_res = pd.DataFrame(index=[], columns=[])\n",
        "\n",
        "  for category_code in category_codes:\n",
        "    # リクエストパラメータ生成\n",
        "    params = {}\n",
        "    params['statsDataId'] = statsDataId\n",
        "    params['cdCat01'] = category_code\n",
        "    params['cdArea']=\",\".join(area_codes)\n",
        "\n",
        "    # DataFrameを取得\n",
        "    # df_category = get_estat_dataframe(params)\n",
        "\n",
        "    # df_res = pd.concat([df_res, df_category])\n",
        "\n",
        "\n",
        "\n",
        "\n",
        "# df = get_estat_dataframe_all(statsDataId)\n",
        "# df\n"
      ],
      "metadata": {
        "id": "88NiJi5WSHAk"
      },
      "execution_count": null,
      "outputs": []
    }
  ],
  "metadata": {
    "colab": {
      "collapsed_sections": [],
      "toc_visible": true,
      "provenance": []
    },
    "kernelspec": {
      "display_name": "Python 3",
      "name": "python3"
    }
  },
  "nbformat": 4,
  "nbformat_minor": 0
}