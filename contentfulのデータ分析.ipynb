{
  "nbformat": 4,
  "nbformat_minor": 0,
  "metadata": {
    "colab": {
      "provenance": [],
      "toc_visible": true,
      "authorship_tag": "ABX9TyNx0dZP5Z2Jl206jBUP2BEp"
    },
    "kernelspec": {
      "name": "python3",
      "display_name": "Python 3"
    },
    "language_info": {
      "name": "python"
    }
  },
  "cells": [
    {
      "cell_type": "markdown",
      "source": [
        "# 実行環境の作成"
      ],
      "metadata": {
        "id": "UC2H1j7zpH_x"
      }
    },
    {
      "cell_type": "markdown",
      "source": [
        "## contentful"
      ],
      "metadata": {
        "id": "1QAMAeiapS7Q"
      }
    },
    {
      "cell_type": "markdown",
      "source": [
        "contentfulのインストール"
      ],
      "metadata": {
        "id": "CadtwxczpLyM"
      }
    },
    {
      "cell_type": "code",
      "execution_count": 2,
      "metadata": {
        "id": "w0mfyXmqk8Ku",
        "outputId": "a5367188-b689-4193-bbf5-c7c62cbd1c5c",
        "colab": {
          "base_uri": "https://localhost:8080/"
        }
      },
      "outputs": [
        {
          "output_type": "stream",
          "name": "stdout",
          "text": [
            "Looking in indexes: https://pypi.org/simple, https://us-python.pkg.dev/colab-wheels/public/simple/\n",
            "Collecting contentful\n",
            "  Downloading contentful-1.13.1.tar.gz (24 kB)\n",
            "Requirement already satisfied: requests<3.0,>=2.20.0 in /usr/local/lib/python3.7/dist-packages (from contentful) (2.23.0)\n",
            "Requirement already satisfied: python-dateutil in /usr/local/lib/python3.7/dist-packages (from contentful) (2.8.2)\n",
            "Requirement already satisfied: chardet<4,>=3.0.2 in /usr/local/lib/python3.7/dist-packages (from requests<3.0,>=2.20.0->contentful) (3.0.4)\n",
            "Requirement already satisfied: urllib3!=1.25.0,!=1.25.1,<1.26,>=1.21.1 in /usr/local/lib/python3.7/dist-packages (from requests<3.0,>=2.20.0->contentful) (1.24.3)\n",
            "Requirement already satisfied: certifi>=2017.4.17 in /usr/local/lib/python3.7/dist-packages (from requests<3.0,>=2.20.0->contentful) (2022.6.15)\n",
            "Requirement already satisfied: idna<3,>=2.5 in /usr/local/lib/python3.7/dist-packages (from requests<3.0,>=2.20.0->contentful) (2.10)\n",
            "Requirement already satisfied: six>=1.5 in /usr/local/lib/python3.7/dist-packages (from python-dateutil->contentful) (1.15.0)\n",
            "Building wheels for collected packages: contentful\n",
            "  Building wheel for contentful (setup.py) ... \u001b[?25l\u001b[?25hdone\n",
            "  Created wheel for contentful: filename=contentful-1.13.1-py3-none-any.whl size=23526 sha256=838176dda295a027d3a7e2542961a3d1c62bb33f71fb706d33a53840507a5645\n",
            "  Stored in directory: /root/.cache/pip/wheels/a5/52/4a/ce6f78e070d76e797fff2e3270daab9eb3a937a3195611934c\n",
            "Successfully built contentful\n",
            "Installing collected packages: contentful\n",
            "Successfully installed contentful-1.13.1\n"
          ]
        }
      ],
      "source": [
        "pip install contentful"
      ]
    },
    {
      "cell_type": "markdown",
      "source": [
        "環境変数の設定"
      ],
      "metadata": {
        "id": "XjNE1dLfpWtW"
      }
    },
    {
      "cell_type": "code",
      "source": [
        "CTF_SPACE_ID='kg2cianb49uf'\n",
        "CTF_ACCESS_TOKEN='unkkBwsQP3K7qaFKRlTqvPqspLAjPWCaUOEtiTn_Jzo'"
      ],
      "metadata": {
        "id": "knNopLbsnNrE"
      },
      "execution_count": 1,
      "outputs": []
    },
    {
      "cell_type": "markdown",
      "source": [
        "## pythonライブラリ追加"
      ],
      "metadata": {
        "id": "jdLrcLIZqAqp"
      }
    },
    {
      "cell_type": "code",
      "source": [
        "import contentful\n",
        "import json\n",
        "import pandas as pd"
      ],
      "metadata": {
        "id": "bEizL04Up-Do"
      },
      "execution_count": 34,
      "outputs": []
    },
    {
      "cell_type": "markdown",
      "source": [
        "# 統計分野一覧"
      ],
      "metadata": {
        "id": "x2gkHk1xpby1"
      }
    },
    {
      "cell_type": "markdown",
      "source": [
        "統計分野一覧を返す関数"
      ],
      "metadata": {
        "id": "YVPIVOjHwV4O"
      }
    },
    {
      "cell_type": "code",
      "source": [
        "def get_contentful_statistics_fields():\n",
        "  client = contentful.Client(CTF_SPACE_ID, CTF_ACCESS_TOKEN)\n",
        "  entries = client.entries({'content_type': 'statisticsField'})\n",
        "\n",
        "  # 返却値の設定（Key指定）\n",
        "  res = []\n",
        "  keys = ['field_id','field_title']\n",
        "  \n",
        "  for entry in entries:\n",
        "    dic = {}\n",
        "    for key in keys:\n",
        "      dic[key] = entry.fields()[key]\n",
        "\n",
        "    res.append(dic)\n",
        "\n",
        "  return json.dumps(res,ensure_ascii=False)\n",
        "\n",
        "statistics_fields = get_contentful_statistics_fields()\n",
        "print(statistics_fields)\n"
      ],
      "metadata": {
        "colab": {
          "base_uri": "https://localhost:8080/"
        },
        "id": "my1bO4EYnXkK",
        "outputId": "4fc38bd5-c394-4db7-c6cf-b3b105a6529b"
      },
      "execution_count": 52,
      "outputs": [
        {
          "output_type": "stream",
          "name": "stdout",
          "text": [
            "[{\"field_id\": \"economy\", \"field_title\": \"企業・家計・経済\"}, {\"field_id\": \"administrativefinancial\", \"field_title\": \"行財政\"}, {\"field_id\": \"population\", \"field_title\": \"人口・世帯\"}, {\"field_id\": \"safetyenvironment\", \"field_title\": \"司法・安全・環境\"}, {\"field_id\": \"educationsports\", \"field_title\": \"教育・文化・スポーツ\"}, {\"field_id\": \"tourism\", \"field_title\": \"運輸・観光\"}, {\"field_id\": \"energy\", \"field_title\": \"エネルギー・水\"}, {\"field_id\": \"miningindustry\", \"field_title\": \"鉱工業\"}, {\"field_id\": \"agriculture\", \"field_title\": \"農林水産業\"}, {\"field_id\": \"landweather\", \"field_title\": \"国土・気象\"}, {\"field_id\": \"construction\", \"field_title\": \"住宅・土地・建設\"}, {\"field_id\": \"international\", \"field_title\": \"国際\"}, {\"field_id\": \"socialsecurity\", \"field_title\": \"社会保障・衛生\"}, {\"field_id\": \"commercial\", \"field_title\": \"商業・サービス業\"}, {\"field_id\": \"laborwage\", \"field_title\": \"労働・賃金\"}]\n"
          ]
        }
      ]
    },
    {
      "cell_type": "markdown",
      "source": [
        "# 統計項目一覧"
      ],
      "metadata": {
        "id": "Ya7FZjxW1kA-"
      }
    },
    {
      "cell_type": "markdown",
      "source": [
        "統計項目'statisticsMenu'を直接取りに行く場合"
      ],
      "metadata": {
        "id": "3YQ2s44fqA1V"
      }
    },
    {
      "cell_type": "code",
      "source": [
        "def get_contentful_statistics_menus():\n",
        "  client = contentful.Client(CTF_SPACE_ID, CTF_ACCESS_TOKEN)\n",
        "  entries = client.entries({'content_type': 'statisticsMenu'})\n",
        "\n",
        "  # 返却値の設定（Key指定）\n",
        "  res = []\n",
        "  keys = ['menu_id','menu_title','field_id']\n",
        "  \n",
        "  for entry in entries:\n",
        "    dic = {}\n",
        "    for key in keys:\n",
        "      dic[key] = entry.fields()[key]\n",
        "\n",
        "    res.append(dic)\n",
        "\n",
        "  return json.dumps(res,ensure_ascii=False)\n",
        "\n",
        "statistics_menus = get_contentful_statistics_menus()\n",
        "print(statistics_menus)"
      ],
      "metadata": {
        "id": "BYDhA5i72sGo",
        "outputId": "95a92feb-fcbc-48f0-f008-f8c4a965090b",
        "colab": {
          "base_uri": "https://localhost:8080/"
        }
      },
      "execution_count": 54,
      "outputs": [
        {
          "output_type": "stream",
          "name": "stdout",
          "text": [
            "[{\"menu_id\": \"foreigner\", \"menu_title\": \"外国人\", \"field_id\": \"international\"}, {\"menu_id\": \"gross-domestic-product\", \"menu_title\": \"総生産\", \"field_id\": \"economy\"}, {\"menu_id\": \"staff\", \"menu_title\": \"職員\", \"field_id\": \"administrativefinancial\"}, {\"menu_id\": \"household-budget\", \"menu_title\": \"家計\", \"field_id\": \"economy\"}, {\"menu_id\": \"marriage\", \"menu_title\": \"婚姻\", \"field_id\": \"population\"}, {\"menu_id\": \"birth\", \"menu_title\": \"出生\", \"field_id\": \"population\"}, {\"menu_id\": \"inflowoutflow\", \"menu_title\": \"流入・流出\", \"field_id\": \"population\"}, {\"menu_id\": \"traffic-accident\", \"menu_title\": \"交通事故\", \"field_id\": \"safetyenvironment\"}, {\"menu_id\": \"medical\", \"menu_title\": \"医療\", \"field_id\": \"socialsecurity\"}, {\"menu_id\": \"primary-schools\", \"menu_title\": \"小学校\", \"field_id\": \"educationsports\"}, {\"menu_id\": \"car\", \"menu_title\": \"自動車\", \"field_id\": \"tourism\"}, {\"menu_id\": \"fishing\", \"menu_title\": \"漁業\", \"field_id\": \"agriculture\"}, {\"menu_id\": \"agriculture\", \"menu_title\": \"農業\", \"field_id\": \"agriculture\"}, {\"menu_id\": \"forestry\", \"menu_title\": \"林業\", \"field_id\": \"agriculture\"}, {\"menu_id\": \"labor-force\", \"menu_title\": \"労働力人口\", \"field_id\": \"laborwage\"}, {\"menu_id\": \"area\", \"menu_title\": \"面積\", \"field_id\": \"landweather\"}, {\"menu_id\": \"land\", \"menu_title\": \"土地\", \"field_id\": \"construction\"}, {\"menu_id\": \"kindergarten\", \"menu_title\": \"幼稚園\", \"field_id\": \"educationsports\"}, {\"menu_id\": \"energy\", \"menu_title\": \"エネルギー\", \"field_id\": \"energy\"}, {\"menu_id\": \"death\", \"menu_title\": \"死亡\", \"field_id\": \"population\"}, {\"menu_id\": \"pollution\", \"menu_title\": \"公害\", \"field_id\": \"safetyenvironment\"}, {\"menu_id\": \"crime\", \"menu_title\": \"犯罪\", \"field_id\": \"safetyenvironment\"}, {\"menu_id\": \"finance\", \"menu_title\": \"財政\", \"field_id\": \"administrativefinancial\"}, {\"menu_id\": \"disaster\", \"menu_title\": \"災害\", \"field_id\": \"safetyenvironment\"}, {\"menu_id\": \"environment\", \"menu_title\": \"環境\", \"field_id\": \"safetyenvironment\"}, {\"menu_id\": \"voluntary-car-insurance\", \"menu_title\": \"任意自動車保険\", \"field_id\": \"safetyenvironment\"}, {\"menu_id\": \"fires\", \"menu_title\": \"火災\", \"field_id\": \"safetyenvironment\"}, {\"menu_id\": \"fire-department\", \"menu_title\": \"消防\", \"field_id\": \"safetyenvironment\"}, {\"menu_id\": \"parliament\", \"menu_title\": \"議会\", \"field_id\": \"administrativefinancial\"}, {\"menu_id\": \"hotel\", \"menu_title\": \"宿泊施設\", \"field_id\": \"tourism\"}, {\"menu_id\": \"garbage\", \"menu_title\": \"ごみ\", \"field_id\": \"energy\"}, {\"menu_id\": \"construction\", \"menu_title\": \"建設\", \"field_id\": \"construction\"}, {\"menu_id\": \"price\", \"menu_title\": \"物価\", \"field_id\": \"economy\"}, {\"menu_id\": \"sales\", \"menu_title\": \"売上\", \"field_id\": \"economy\"}, {\"menu_id\": \"establishments\", \"menu_title\": \"事業所等\", \"field_id\": \"economy\"}, {\"menu_id\": \"commercial\", \"menu_title\": \"商業\", \"field_id\": \"commercial\"}, {\"menu_id\": \"industrial-water\", \"menu_title\": \"工業用水\", \"field_id\": \"miningindustry\"}, {\"menu_id\": \"manufacturing-industry\", \"menu_title\": \"製造業\", \"field_id\": \"miningindustry\"}, {\"menu_id\": \"climate\", \"menu_title\": \"気候\", \"field_id\": \"landweather\"}, {\"menu_id\": \"park\", \"menu_title\": \"自然・公園\", \"field_id\": \"landweather\"}, {\"menu_id\": \"household\", \"menu_title\": \"世帯\", \"field_id\": \"population\"}, {\"menu_id\": \"moveinmoveout\", \"menu_title\": \"転入・転出\", \"field_id\": \"population\"}, {\"menu_id\": \"population\", \"menu_title\": \"人口\", \"field_id\": \"population\"}]\n"
          ]
        }
      ]
    },
    {
      "cell_type": "markdown",
      "source": [
        "# 統計カード一覧"
      ],
      "metadata": {
        "id": "DMzHNnHVqBbQ"
      }
    },
    {
      "cell_type": "markdown",
      "source": [
        "統計カード'estatCardConfig'を直接取りに行く場合"
      ],
      "metadata": {
        "id": "E48Z7Lzw41eg"
      }
    },
    {
      "cell_type": "code",
      "source": [
        "def get_contentful_estat_cards():\n",
        "  client = contentful.Client(CTF_SPACE_ID, CTF_ACCESS_TOKEN)\n",
        "  entries = client.entries({'content_type': 'estatCardConfig'})\n",
        "\n",
        "  # 返却値の設定（Key指定）\n",
        "  res = []\n",
        "  keys = ['card_title','card_id','government_type','estat_params']\n",
        "  \n",
        "  for entry in entries:\n",
        "    dic = {}\n",
        "    for key in keys:\n",
        "      dic[key] = entry.fields()[key]\n",
        "\n",
        "    res.append(dic)\n",
        "\n",
        "  return json.dumps(res,ensure_ascii=False)\n",
        "\n",
        "estat_cards = get_contentful_estat_cards()\n",
        "print(estat_cards)"
      ],
      "metadata": {
        "colab": {
          "base_uri": "https://localhost:8080/"
        },
        "id": "aVjkoIyuqAdk",
        "outputId": "1ae318ec-b442-4dff-ee42-9773e4aea5ec"
      },
      "execution_count": 60,
      "outputs": [
        {
          "output_type": "stream",
          "name": "stdout",
          "text": [
            "[{\"card_title\": \"都道府県の総人口\", \"card_id\": \"total-population-prefecture\", \"government_type\": \"prefecture\", \"estat_params\": {\"cdCat01\": [\"A1101\", \"A110101\", \"A110102\"], \"statsDataId\": \"0000010101\"}}, {\"card_title\": \"都道府県の在留外国人数\", \"card_id\": \"foreign-resident-prefecture\", \"government_type\": \"prefecture\", \"estat_params\": {\"cdCat01\": [\"A3200\", \"A3201\", \"A3202\", \"A3203\", \"A3204\"], \"statsDataId\": \"0000010101\"}}, {\"card_title\": \"都道府県の1人当たり県民所得\", \"card_id\": \"prefectural-income-prefecture\", \"government_type\": \"prefecture\", \"estat_params\": {\"statsDataId\": \"0000010103\", \"cdCat01\": [\"C121101\"]}}, {\"card_title\": \"都道府県の付加価値額（民営）\", \"card_id\": \"value-added-amount-prefecture\", \"government_type\": \"prefecture\", \"estat_params\": {\"cdCat01\": [\"C6201\", \"C620101\", \"C620105\", \"C620106\", \"C620107\", \"C620108\", \"C620109\", \"C620110\", \"C620111\", \"C620112\", \"C620113\", \"C620114\", \"C620115\", \"C620116\", \"C620117\", \"C620118\", \"C620119\", \"C620120\", \"C620121\", \"C620122\"], \"statsDataId\": \"0000010103\"}}, {\"card_title\": \"都道府県の従業者数\", \"card_id\": \"employees-prefecture\", \"government_type\": \"prefecture\", \"estat_params\": {\"cdCat01\": [\"C2201\", \"C2206\", \"C2204\", \"C2205\"], \"statsDataId\": \"0000010103\"}}, {\"card_title\": \"都道府県の事業所数\", \"card_id\": \"establishments-prefecture\", \"government_type\": \"prefecture\", \"estat_params\": {\"cdCat01\": [\"C2101\", \"C2106\", \"C2104\", \"C2105\"], \"statsDataId\": \"0000010103\"}}, {\"card_title\": \"都道府県の消防部門職員数\", \"card_id\": \"fire-department-staff-prefecture\", \"government_type\": \"prefecture\", \"estat_params\": {\"statsDataId\": \"0000010104\", \"cdCat01\": [\"D1203\"]}}, {\"card_title\": \"都道府県の教育部門職員数\", \"card_id\": \"education-department-staff-prefecture\", \"government_type\": \"prefecture\", \"estat_params\": {\"statsDataId\": \"0000010104\", \"cdCat01\": [\"D1204\"]}}, {\"card_title\": \"都道府県の県議会議員数\", \"card_id\": \"members\", \"government_type\": \"prefecture\", \"estat_params\": {\"statsDataId\": \"0000010104\", \"cdCat01\": [\"D1210\"]}}, {\"card_title\": \"都道府県の警察部門職員数\", \"card_id\": \"police-department-staff-prefecture\", \"government_type\": \"prefecture\", \"estat_params\": {\"statsDataId\": \"0000010104\", \"cdCat01\": [\"D1205\"]}}, {\"card_title\": \"市区町村の課税対象所得\", \"card_id\": \"taxable-income-city\", \"government_type\": \"city\", \"estat_params\": {\"cdCat01\": [\"C120110\"], \"statsDataId\": \"0000020203\"}}, {\"card_title\": \"都道府県の県内総資本形成（実質）\", \"card_id\": \"total-capital-formation-real-prefecture\", \"government_type\": \"prefecture\", \"estat_params\": {\"cdCat01\": [\"C1413\", \"C141301\", \"C141302\"], \"statsDataId\": \"0000010103\"}}, {\"card_title\": \"都道府県の有配偶人口\", \"card_id\": \"spouse-prefecture\", \"government_type\": \"prefecture\", \"estat_params\": {\"cdCat01\": [\"A1602021\", \"A1602022\", \"A1602031\", \"A1602032\", \"A1602041\", \"A1602042\", \"A1602051\", \"A1602052\", \"A1602061\", \"A1602062\", \"A1602071\", \"A1602072\", \"A1602081\", \"A1602082\", \"A1602091\", \"A1602092\", \"A1602101\", \"A1602102\", \"A1602111\", \"A1602112\", \"A1602121\", \"A1602122\", \"A1602131\", \"A1602132\", \"A1602141\", \"A1602142\", \"A1602151\", \"A1602152\"], \"statsDataId\": \"0000010101\"}}, {\"card_title\": \"都道府県の未婚人口\", \"card_id\": \"unmarried-prefecture\", \"government_type\": \"prefecture\", \"estat_params\": {\"cdCat01\": [\"A1601021\", \"A1601022\", \"A1601031\", \"A1601032\", \"A1601041\", \"A1601042\", \"A1601051\", \"A1601052\", \"A1601061\", \"A1601062\", \"A1601071\", \"A1601072\", \"A1601081\", \"A1601082\", \"A1601091\", \"A1601092\", \"A1601101\", \"A1601102\", \"A1601111\", \"A1601112\", \"A1601121\", \"A1601122\", \"A1601131\", \"A1601132\", \"A1601141\", \"A1601142\", \"A1601151\", \"A1601152\"], \"statsDataId\": \"0000010101\"}}, {\"card_title\": \"都道府県の離別人口\", \"card_id\": \"separated-prefecture\", \"government_type\": \"prefecture\", \"estat_params\": {\"cdCat01\": [\"A1604031\", \"A1604032\", \"A1604041\", \"A1604042\", \"A1604051\", \"A1604052\", \"A1604061\", \"A1604062\", \"A1604071\", \"A1604072\", \"A1604081\", \"A1604082\", \"A1604091\", \"A1604092\", \"A1604101\", \"A1604102\", \"A1604111\", \"A1604112\", \"A1604121\", \"A1604122\", \"A1604131\", \"A1604132\", \"A1604141\", \"A1604142\", \"A1604151\", \"A1604152\"], \"statsDataId\": \"0000010101\"}}, {\"card_title\": \"都道府県の平均初婚年齢\", \"card_id\": \"first-marriage-age-prefecture\", \"government_type\": \"prefecture\", \"estat_params\": {\"cdCat01\": [\"A9111\", \"A9112\"], \"statsDataId\": \"0000010101\"}}, {\"card_title\": \"都道府県の離婚件数\", \"card_id\": \"divorce-prefecture\", \"government_type\": \"prefecture\", \"estat_params\": {\"cdCat01\": [\"A9201\"], \"statsDataId\": \"0000010101\"}}, {\"card_title\": \"都道府県の婚姻件数\", \"card_id\": \"marriage-prefecture\", \"government_type\": \"prefecture\", \"estat_params\": {\"cdCat01\": [\"A9101\"], \"statsDataId\": \"0000010101\"}}, {\"card_title\": \"都道府県の母子世帯数\", \"card_id\": \"single-mother-household-prefecture\", \"government_type\": \"prefecture\", \"estat_params\": {\"cdCat01\": [\"A8401\", \"A840101\", \"A840102\", \"A840103\"], \"statsDataId\": \"0000010101\"}}, {\"card_title\": \"都道府県の一般世帯数\", \"card_id\": \"household-prefecture\", \"government_type\": \"prefecture\", \"estat_params\": {\"cdCat01\": [\"A710101\"], \"statsDataId\": \"0000010101\"}}, {\"card_title\": \"都道府県の標準化死亡率\", \"card_id\": \"standardized-mortality-prefecture\", \"government_type\": \"prefecture\", \"estat_params\": {\"cdCat01\": [\"A4301\"], \"statsDataId\": \"0000010101\"}}, {\"card_title\": \"都道府県の年齢調整死亡率\", \"card_id\": \"age-adjusted-mortality-prefecture\", \"government_type\": \"prefecture\", \"estat_params\": {\"cdCat01\": [\"A424001\", \"A424002\"], \"statsDataId\": \"0000010101\"}}, {\"card_title\": \"都道府県の死産数\", \"card_id\": \"stillbirth-prefecture\", \"government_type\": \"prefecture\", \"estat_params\": {\"cdCat01\": [\"A4270\", \"A427001\"], \"statsDataId\": \"0000010101\"}}, {\"card_title\": \"都道府県の死亡数（男女別）\", \"card_id\": \"death-sex-prefecture\", \"government_type\": \"prefecture\", \"estat_params\": {\"cdCat01\": [\"A4200\", \"A420001\", \"A420002\"], \"statsDataId\": \"0000010101\"}}, {\"card_title\": \"都道府県の出生数（男女別）\", \"card_id\": \"birth-sex-prefecture\", \"government_type\": \"prefecture\", \"estat_params\": {\"cdCat01\": [\"A4101\", \"A410101\", \"A410102\"], \"statsDataId\": \"0000010101\"}}, {\"card_title\": \"都道府県の合計特殊出生率\", \"card_id\": \"total-fertility-rate-prefecture\", \"government_type\": \"prefecture\", \"estat_params\": {\"cdCat01\": [\"A4103\"], \"statsDataId\": \"0000010101\"}}, {\"card_title\": \"都道府県の流出人口（県外）\", \"card_id\": \"outflow-outside-prefecture\", \"government_type\": \"prefecture\", \"estat_params\": {\"cdCat01\": [\"A6104\", \"A610401\", \"A610402\"], \"statsDataId\": \"0000010101\"}}, {\"card_title\": \"都道府県の流出人口（県内）\", \"card_id\": \"outflow-inside-prefecture\", \"government_type\": \"prefecture\", \"estat_params\": {\"cdCat01\": [\"A6104\", \"A610401\", \"A610402\"], \"statsDataId\": \"0000010101\"}}, {\"card_title\": \"都道府県の流入人口（県内）\", \"card_id\": \"inflow-inside-prefecture\", \"government_type\": \"prefecture\", \"estat_params\": {\"cdCat01\": [\"A6106\", \"A610601\", \"A610602\"], \"statsDataId\": \"0000010101\"}}, {\"card_title\": \"都道府県の流入人口（県外）\", \"card_id\": \"inflow-outside-prefecture\", \"government_type\": \"prefecture\", \"estat_params\": {\"cdCat01\": [\"A6106\", \"A610601\", \"A610602\"], \"statsDataId\": \"0000010101\"}}, {\"card_title\": \"都道府県の転入者数（日本人）\", \"card_id\": \"movein-prefecture\", \"government_type\": \"prefecture\", \"estat_params\": {\"cdCat01\": [\"A5101\", \"A510101\", \"A510102\"], \"statsDataId\": \"0000010101\"}}, {\"card_title\": \"都道府県の転出者数（日本人）\", \"card_id\": \"moveout-prefecture\", \"government_type\": \"prefecture\", \"estat_params\": {\"cdCat01\": [\"A5102\", \"A510201\", \"A510202\"], \"statsDataId\": \"0000010101\"}}, {\"card_title\": \"都道府県の年間収入平均（勤労者世帯）\", \"card_id\": \"average-annual-income-two-prefecture\", \"government_type\": \"prefecture\", \"estat_params\": {\"cdCat01\": [\"L450201\"], \"statsDataId\": \"0000010112\"}}, {\"card_title\": \"都道府県の年間収入平均（全世帯）\", \"card_id\": \"average-annual-income-one-prefecture\", \"government_type\": \"prefecture\", \"estat_params\": {\"cdCat01\": [\"L450101\"], \"statsDataId\": \"0000010112\"}}, {\"card_title\": \"市区町村の経常収支比率\", \"card_id\": \"current-account-ratio-city\", \"government_type\": \"city\", \"estat_params\": {\"cdCat01\": [\"D2203\"], \"statsDataId\": \"0000020204\"}}, {\"card_title\": \"市区町村の実質収支比率\", \"card_id\": \"real-balance-ratio-city\", \"government_type\": \"city\", \"estat_params\": {\"cdCat01\": [\"D2202\"], \"statsDataId\": \"0000020204\"}}, {\"card_title\": \"市区町村の財政力指数\", \"card_id\": \"financial-strength-index-city\", \"government_type\": \"city\", \"estat_params\": {\"cdCat01\": [\"D2201\"], \"statsDataId\": \"0000020204\"}}, {\"card_title\": \"都道府県の基準財政収入額\", \"card_id\": \"standard-financial-income-prefecture\", \"government_type\": \"prefecture\", \"estat_params\": {\"cdCat01\": [\"D2105\"], \"statsDataId\": \"0000010104\"}}, {\"card_title\": \"都道府県の基準財政需要額\", \"card_id\": \"standard-financial-demand-prefecture\", \"government_type\": \"prefecture\", \"estat_params\": {\"cdCat01\": [\"D2106\"], \"statsDataId\": \"0000010104\"}}, {\"card_title\": \"都道府県の実質公債費比率\", \"card_id\": \"real-debt-service-ratio-prefecture\", \"government_type\": \"prefecture\", \"estat_params\": {\"cdCat01\": [\"D2111\"], \"statsDataId\": \"0000010104\"}}, {\"card_title\": \"都道府県の実質収支比率\", \"card_id\": \"real-balance-ratio-prefecture\", \"government_type\": \"prefecture\", \"estat_params\": {\"cdCat01\": [\"D2102\"], \"statsDataId\": \"0000010104\"}}, {\"card_title\": \"都道府県の経常収支比率\", \"card_id\": \"current-account-ratio-prefecture\", \"government_type\": \"prefecture\", \"estat_params\": {\"cdCat01\": [\"D2103\"], \"statsDataId\": \"0000010104\"}}, {\"card_title\": \"都道府県の将来負担比率\", \"card_id\": \"future-burden-ratio-prefecture\", \"government_type\": \"prefecture\", \"estat_params\": {\"cdCat01\": [\"D2112\"], \"statsDataId\": \"0000010104\"}}, {\"card_title\": \"都道府県の財政力指数\", \"card_id\": \"financial-strength-index-prefecture\", \"government_type\": \"prefecture\", \"estat_params\": {\"cdCat01\": [\"D2101\"], \"statsDataId\": \"0000010104\"}}, {\"card_title\": \"都道府県の温室効果ガス算定排出量\", \"card_id\": \"calculated-greenhouse-gas-emissions-prefecture\", \"government_type\": \"prefecture\", \"estat_params\": {\"cdCat01\": [\"K6107\", \"K6108\"], \"statsDataId\": \"0000010111\"}}, {\"card_title\": \"都道府県の道路交通法違反検挙総件数\", \"card_id\": \"road-traffic-law-prefecture\", \"government_type\": \"prefecture\", \"estat_params\": {\"cdCat01\": [\"K4401\"], \"statsDataId\": \"0000010111\"}}, {\"card_title\": \"都道府県の交通事故事件件数\", \"card_id\": \"incident-prefecture\", \"government_type\": \"prefecture\", \"estat_params\": {\"cdCat01\": [\"K4402\"], \"statsDataId\": \"0000010111\"}}, {\"card_title\": \"都道府県の任意自動車保険契約台数\", \"card_id\": \"voluntary-car-insurance-prefecture\", \"government_type\": \"prefecture\", \"estat_params\": {\"cdCat01\": [\"K3301\", \"K3302\"], \"statsDataId\": \"0000010111\"}}, {\"card_title\": \"都道府県の任意自動車保険保険金支払件数\", \"card_id\": \"voluntary-car-insurance-claims-paid-prefecture\", \"government_type\": \"prefecture\", \"estat_params\": {\"cdCat01\": [\"K3303\", \"K3304\"], \"statsDataId\": \"0000010111\"}}, {\"card_title\": \"都道府県の任意自動車保険普及率\", \"card_id\": \"voluntary-car-insurance-penetration-rate-prefecture\", \"government_type\": \"prefecture\", \"estat_params\": {\"cdCat01\": [\"K330501\", \"K330502\", \"K330503\", \"K330504\"], \"statsDataId\": \"0000010111\"}}, {\"card_title\": \"都道府県の火災死傷者数\", \"card_id\": \"fire-casualties-prefecture\", \"government_type\": \"prefecture\", \"estat_params\": {\"cdCat01\": [\"K2109\", \"K2110\", \"K2111\"], \"statsDataId\": \"0000010111\"}}, {\"card_title\": \"都道府県の火災保険保険金支払件数\", \"card_id\": \"fire-insurance-claims-paid-prefecture\", \"government_type\": \"prefecture\", \"estat_params\": {\"cdCat01\": [\"K2213\", \"K2215\"], \"statsDataId\": \"0000010111\"}}, {\"card_title\": \"都道府県の火災保険新契約件数\", \"card_id\": \"new-fire-insurance-prefecture\", \"government_type\": \"prefecture\", \"estat_params\": {\"cdCat01\": [\"K2209\", \"K2211\"], \"statsDataId\": \"0000010111\"}}, {\"card_title\": \"都道府県の火災損害額\", \"card_id\": \"fire-damage-amount-prefecture\", \"government_type\": \"prefecture\", \"estat_params\": {\"cdCat01\": [\"K2105\", \"K2106\"], \"statsDataId\": \"0000010111\"}}, {\"card_title\": \"都道府県の火災出火件数\", \"card_id\": \"fires-prefecture\", \"government_type\": \"prefecture\", \"estat_params\": {\"cdCat01\": [\"K2101\", \"K2102\"], \"statsDataId\": \"0000010111\"}}, {\"card_title\": \"都道府県の救急出動件数\", \"card_id\": \"emergency-dispatches-prefecture\", \"government_type\": \"prefecture\", \"estat_params\": {\"cdCat01\": [\"K1210\"], \"statsDataId\": \"0000010111\"}}, {\"card_title\": \"都道府県の消防機関出動回数\", \"card_id\": \"fire-department-dispatch-prefecture\", \"government_type\": \"prefecture\", \"estat_params\": {\"cdCat01\": [\"K1201\"], \"statsDataId\": \"0000010111\"}}, {\"card_title\": \"都道府県の消防団数\", \"card_id\": \"fire-brigade-prefecture\", \"government_type\": \"prefecture\", \"estat_params\": {\"cdCat01\": [\"K1104\", \"K110401\", \"K110402\", \"K1105\"], \"statsDataId\": \"0000010111\"}}, {\"card_title\": \"都道府県の消防本部・署数\", \"card_id\": \"fire-department-prefecture\", \"government_type\": \"prefecture\", \"estat_params\": {\"cdCat01\": [\"K1101\"], \"statsDataId\": \"0000010111\"}}, {\"card_title\": \"都道府県の家事事件件数\", \"card_id\": \"domestic-affairs-prefecture\", \"government_type\": \"prefecture\", \"estat_params\": {\"cdCat01\": [\"K4703\"], \"statsDataId\": \"0000010111\"}}, {\"card_title\": \"都道府県の民事事件件数\", \"card_id\": \"civil-cases-prefecture\", \"government_type\": \"prefecture\", \"estat_params\": {\"cdCat01\": [\"K4701\"], \"statsDataId\": \"0000010111\"}}, {\"card_title\": \"都道府県の行政事件件数\", \"card_id\": \"administrative-cases-prefecture\", \"government_type\": \"prefecture\", \"estat_params\": {\"cdCat01\": [\"K4702\"], \"statsDataId\": \"0000010111\"}}, {\"card_title\": \"都道府県の特別法犯\", \"card_id\": \"special-law-prefecture\", \"government_type\": \"prefecture\", \"estat_params\": {\"cdCat01\": [\"K4301\", \"K4302\"], \"statsDataId\": \"0000010111\"}}, {\"card_title\": \"都道府県の売春事犯\", \"card_id\": \"prostitution-prefecture\", \"government_type\": \"prefecture\", \"estat_params\": {\"cdCat01\": [\"K4305\", \"K4306\"], \"statsDataId\": \"0000010111\"}}, {\"card_title\": \"都道府県の防犯ボランティア団体数\", \"card_id\": \"crime-prevention-volunteer-prefecture\", \"government_type\": \"prefecture\", \"estat_params\": {\"cdCat01\": [\"K8101\", \"K8102\"], \"statsDataId\": \"0000010111\"}}, {\"card_title\": \"都道府県の浸水被害\", \"card_id\": \"flood-damage-prefecture\", \"government_type\": \"prefecture\", \"estat_params\": {\"cdCat01\": [\"K5113\", \"K5114\"], \"statsDataId\": \"0000010111\"}}, {\"card_title\": \"都道府県の災害被害額\", \"card_id\": \"disaster-damage-amount-prefecture\", \"government_type\": \"prefecture\", \"estat_params\": {\"cdCat01\": [\"K5112\"], \"statsDataId\": \"0000010111\"}}, {\"card_title\": \"都道府県の自然災害による罹災\", \"card_id\": \"natural-disasters-prefecture\", \"government_type\": \"prefecture\", \"estat_params\": {\"cdCat01\": [\"K5115\", \"K5116\"], \"statsDataId\": \"0000010111\"}}, {\"card_title\": \"都道府県の水質汚濁防止法上の特定事業所数\", \"card_id\": \"water-pollution-prefecture\", \"government_type\": \"prefecture\", \"estat_params\": {\"statsDataId\": \"0000010111\", \"cdCat01\": [\"K6106\"]}}, {\"card_title\": \"都道府県の公害苦情件数\", \"card_id\": \"pollution-complaints-prefecture\", \"government_type\": \"prefecture\", \"estat_params\": {\"cdCat01\": [\"K6103\", \"K610301\", \"K610302\", \"K610303\", \"K610304\", \"K610305\", \"K610306\", \"K610307\"], \"statsDataId\": \"0000010111\"}}, {\"card_title\": \"都道府県の公害苦情受付件数\", \"card_id\": \"pollution-complaints-received-prefecture\", \"government_type\": \"prefecture\", \"estat_params\": {\"cdCat01\": [\"K6101\", \"K610101\", \"K610102\"], \"statsDataId\": \"0000010111\"}}, {\"card_title\": \"都道府県の外国人被疑事件受理人員\", \"card_id\": \"accepting-alleged-foreigners-prefecture\", \"government_type\": \"prefecture\", \"estat_params\": {\"cdCat01\": [\"K4803\", \"K480301\", \"K480302\"], \"statsDataId\": \"0000010111\"}}, {\"card_title\": \"都道府県の国民健康保険給付金額\", \"card_id\": \"national-health-insurance-benefit-amount-prefecture\", \"government_type\": \"prefecture\", \"estat_params\": {\"cdCat01\": [\"J4108\"], \"statsDataId\": \"0000010110\"}}, {\"card_title\": \"市区町村の老人福祉施設数\", \"card_id\": \"welfare-facilities-elderly-city\", \"government_type\": \"prefecture\", \"estat_params\": {\"cdCat01\": [\"J2301\"], \"statsDataId\": \"0000020210\"}}, {\"card_title\": \"市区町村の国民健康保険給付金額\", \"card_id\": \"national-health-insurance-benefit-amount-city\", \"government_type\": \"prefecture\", \"estat_params\": {\"cdCat01\": [\"J4108\"], \"statsDataId\": \"0000020210\"}}, {\"card_title\": \"都道府県の国民医療費（総額）\", \"card_id\": \"national-medical-expenses-prefecture\", \"government_type\": \"prefecture\", \"estat_params\": {\"cdCat01\": [\"J4001\"], \"statsDataId\": \"0000010110\"}}, {\"card_title\": \"都道府県の老人福祉施設数\", \"card_id\": \"welfare-facilities-elderly-prefecture\", \"government_type\": \"prefecture\", \"estat_params\": {\"cdCat01\": [\"J2301\"], \"statsDataId\": \"0000010110\"}}, {\"card_title\": \"市区町村の幼稚園数\", \"card_id\": \"kindergartens-city\", \"government_type\": \"city\", \"estat_params\": {\"cdCat01\": [\"E1101\"], \"statsDataId\": \"0000020205\"}}, {\"card_title\": \"都道府県の幼稚園教員数\", \"card_id\": \"kindergarten-teachers-prefecture\", \"government_type\": \"prefecture\", \"estat_params\": {\"cdCat01\": [\"E1301\", \"E130101\", \"E130102\"], \"statsDataId\": \"0000010105\"}}, {\"card_title\": \"都道府県の幼稚園在園者数\", \"card_id\": \"kindergarten-children-prefecture\", \"government_type\": \"prefecture\", \"estat_params\": {\"cdCat01\": [\"E1501\", \"E150104\", \"E150105\"], \"statsDataId\": \"0000010105\"}}, {\"card_title\": \"都道府県の幼稚園数\", \"card_id\": \"kindergartens-prefecture\", \"government_type\": \"prefecture\", \"estat_params\": {\"cdCat01\": [\"E1101\"], \"statsDataId\": \"0000010105\"}}, {\"card_title\": \"都道府県の小学校児童数\", \"card_id\": \"primary-school-students-prefecture\", \"government_type\": \"prefecture\", \"estat_params\": {\"cdCat01\": [\"E2501\", \"E250104\", \"E250105\"], \"statsDataId\": \"0000010105\"}}, {\"card_title\": \"都道府県の小学校教員数\", \"card_id\": \"primary-school-teachers-prefecture\", \"government_type\": \"prefecture\", \"estat_params\": {\"cdCat01\": [\"E2401\", \"E240101\", \"E240102\"], \"statsDataId\": \"0000010105\"}}, {\"card_title\": \"都道府県の高齢者講習受講者数\", \"card_id\": \"senior-citizens-prefecture\", \"government_type\": \"prefecture\", \"estat_params\": {\"cdCat01\": [\"K3504\", \"K3505\"], \"statsDataId\": \"0000010111\"}}, {\"card_title\": \"都道府県の運転免許保有者数\", \"card_id\": \"drivers-license-prefecture\", \"government_type\": \"prefecture\", \"estat_params\": {\"cdCat01\": [\"K3501\", \"K3502\", \"K3503\"], \"statsDataId\": \"0000010111\"}}, {\"card_title\": \"都道府県の旅館営業施設数\", \"card_id\": \"ryokan-prefecture\", \"government_type\": \"prefecture\", \"estat_params\": {\"cdCat01\": [\"C3801\", \"C3802\"], \"statsDataId\": \"0000010103\"}}, {\"card_title\": \"都道府県の都市ガス販売量\", \"card_id\": \"city-gas-sales-volume-prefecture\", \"government_type\": \"prefecture\", \"estat_params\": {\"cdCat01\": [\"H5206\"], \"statsDataId\": \"0000010108\"}}, {\"card_title\": \"都道府県の電力需要量\", \"card_id\": \"power-demans-prefecture\", \"government_type\": \"prefecture\", \"estat_params\": {\"cdCat01\": [\"H5105\"], \"statsDataId\": \"0000010108\"}}, {\"card_title\": \"都道府県の発電電力量\", \"card_id\": \"power-generation-prefecture\", \"government_type\": \"prefecture\", \"estat_params\": {\"cdCat01\": [\"H5104\"], \"statsDataId\": \"0000010108\"}}, {\"card_title\": \"都道府県のガソリン販売量\", \"card_id\": \"gasoline-sales-volume-prefecture\", \"government_type\": \"prefecture\", \"estat_params\": {\"cdCat01\": [\"H5205\"], \"statsDataId\": \"0000010108\"}}, {\"card_title\": \"都道府県の工業用水量\", \"card_id\": \"industrial-water-volume-prefecture\", \"government_type\": \"prefecture\", \"estat_params\": {\"cdCat01\": [\"C3406\", \"C340601\", \"C340602\"], \"statsDataId\": \"0000010103\"}}, {\"card_title\": \"都道府県の養殖収穫量\", \"card_id\": \"aquaculture-yield-prefecture\", \"government_type\": \"prefecture\", \"estat_params\": {\"cdCat01\": [\"C3122\", \"C312201\", \"C312202\"], \"statsDataId\": \"0000010103\"}}, {\"card_title\": \"都道府県の農林漁業者\", \"card_id\": \"agriculture-forestry-fisher-prefecture\", \"government_type\": \"prefecture\", \"estat_params\": {\"cdCat01\": [\"F1301\"], \"statsDataId\": \"0000010106\"}}, {\"card_title\": \"都道府県の耕地面積\", \"card_id\": \"agricultural-land-prefecture\", \"government_type\": \"prefecture\", \"estat_params\": {\"cdCat01\": [\"C3107\", \"C310701\", \"C310702\"], \"statsDataId\": \"0000010103\"}}, {\"card_title\": \"都道府県の林道延長\", \"card_id\": \"forest-road-extension-prefecture\", \"government_type\": \"prefecture\", \"estat_params\": {\"cdCat01\": [\"C3114\"], \"statsDataId\": \"0000010103\"}}, {\"card_title\": \"都道府県の農林漁業雇用者\", \"card_id\": \"agriculture-forestry-and-fisheries-employers\", \"government_type\": \"prefecture\", \"estat_params\": {\"cdCat01\": [\"F1302\", \"F130201\", \"F130202\"], \"statsDataId\": \"0000010106\"}}, {\"card_title\": \"都道府県の漁業産出額\", \"card_id\": \"fishery-output-prefecture\", \"government_type\": \"prefecture\", \"estat_params\": {\"cdCat01\": [\"C3120\", \"C312001\", \"C312002\"], \"statsDataId\": \"0000010103\"}}, {\"card_title\": \"都道府県の耕地放棄面積\", \"card_id\": \"abandoned-cultivated-prefecture\", \"government_type\": \"prefecture\", \"estat_params\": {\"cdCat01\": [\"C3109\"], \"statsDataId\": \"0000010103\"}}, {\"card_title\": \"市区町村の農業産出額\", \"card_id\": \"agricultural-output-city\", \"government_type\": \"city\", \"estat_params\": {\"cdCat01\": [\"C3101\"], \"statsDataId\": \"0000020203\"}}, {\"card_title\": \"都道府県の農地転用面積\", \"card_id\": \"agricultural-land-conversion-prefecture\", \"government_type\": \"prefecture\", \"estat_params\": {\"cdCat01\": [\"C3108\"], \"statsDataId\": \"0000010103\"}}]\n"
          ]
        }
      ]
    }
  ]
}