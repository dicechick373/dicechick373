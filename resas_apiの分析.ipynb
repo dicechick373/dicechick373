{
  "nbformat": 4,
  "nbformat_minor": 0,
  "metadata": {
    "colab": {
      "provenance": [],
      "toc_visible": true,
      "authorship_tag": "ABX9TyNnnvid+vWd3hsfCaft4t2c"
    },
    "kernelspec": {
      "name": "python3",
      "display_name": "Python 3"
    },
    "language_info": {
      "name": "python"
    }
  },
  "cells": [
    {
      "cell_type": "markdown",
      "source": [
        "# 実行環境の作成"
      ],
      "metadata": {
        "id": "yQkwWTHsoL0k"
      }
    },
    {
      "cell_type": "markdown",
      "source": [
        "## 環境変数"
      ],
      "metadata": {
        "id": "Gx86nBgJoSt0"
      }
    },
    {
      "cell_type": "code",
      "execution_count": 3,
      "metadata": {
        "id": "RIvRRvWIoGbB"
      },
      "outputs": [],
      "source": [
        "RESAS_API_KEY = '\t02JYzLqUOfTNVfiTWjLlR2g0YwEQPQ7caYxcnZaZ'"
      ]
    },
    {
      "cell_type": "markdown",
      "source": [
        "# 都道府県一覧"
      ],
      "metadata": {
        "id": "CYmpiDNtoV1D"
      }
    },
    {
      "cell_type": "code",
      "source": [
        "import json\n",
        "import urllib.request\n",
        "\n",
        "def get_resas_preflist():\n",
        "    url = 'https://opendata.resas-portal.go.jp/api/v1/prefectures'\n",
        "    req = urllib.request.Request(url, headers={'X-API-KEY': RESAS_API_KEY})\n",
        "    with urllib.request.urlopen(req) as response:\n",
        "        res = json.loads(response.read().decode())\n",
        "    return res['result']"
      ],
      "metadata": {
        "id": "d7AD-Jk-ocDE"
      },
      "execution_count": 1,
      "outputs": []
    },
    {
      "cell_type": "code",
      "source": [
        "preflist = get_resas_preflist()\n",
        "print(preflist)"
      ],
      "metadata": {
        "id": "cMvCEcN7oede"
      },
      "execution_count": null,
      "outputs": []
    },
    {
      "cell_type": "markdown",
      "source": [
        "都道府県コードのリストを作成する場合"
      ],
      "metadata": {
        "id": "yglVoF45oxVN"
      }
    },
    {
      "cell_type": "code",
      "source": [
        "pref_codes = [d.get('prefCode')\n",
        "                 for d in get_resas_preflist()]\n",
        "print(pref_codes)"
      ],
      "metadata": {
        "id": "J0_1TKcaow1V"
      },
      "execution_count": null,
      "outputs": []
    },
    {
      "cell_type": "markdown",
      "source": [
        "# 市区町村一覧"
      ],
      "metadata": {
        "id": "CLr57z9aonM6"
      }
    },
    {
      "cell_type": "code",
      "source": [
        "import json\n",
        "import urllib.request\n",
        "\n",
        "def get_resas_citylist(prefCode=0,designatedCity='all'):\n",
        "  \n",
        "    # 都道府県'prefCode'を指定\n",
        "    # 0の場合は全都道府県の市区町村\n",
        "    if prefCode == 0:\n",
        "      url = 'https://opendata.resas-portal.go.jp/api/v1/cities'\n",
        "    else:\n",
        "      url = 'https://opendata.resas-portal.go.jp/api/v1/cities?prefCode={}'.format(prefCode)\n",
        "    \n",
        "    req = urllib.request.Request(url, headers={'X-API-KEY': RESAS_API_KEY})\n",
        "    with urllib.request.urlopen(req) as response:\n",
        "        res = json.loads(response.read().decode())\n",
        "\n",
        "\n",
        "    # 政令指定都市　の指定　'join':政令指定都市統合　'split'：政令指定都市分割 'all'：全て\n",
        "    if designatedCity == 'join':\n",
        "      return list(filter(lambda x: x['bigCityFlag'] != '1', res['result']))\n",
        "    elif designatedCity == 'split':\n",
        "      return list(filter(lambda x: x['bigCityFlag'] != '2', res['result']))\n",
        "    else:\n",
        "      return res['result']"
      ],
      "metadata": {
        "id": "ChrBZQWaoqTH"
      },
      "execution_count": 22,
      "outputs": []
    },
    {
      "cell_type": "code",
      "source": [
        "city1 = get_resas_citylist()\n",
        "print(city1)\n",
        "\n",
        "city2 = get_resas_citylist(designatedCity='join')\n",
        "print(city2)\n",
        "\n",
        "city3 = get_resas_citylist(prefCode=28,designatedCity='split')\n",
        "print(city3)\n",
        "\n",
        "city4 = get_resas_citylist(prefCode=28)\n",
        "print(city4)"
      ],
      "metadata": {
        "id": "n452ss0co86T"
      },
      "execution_count": null,
      "outputs": []
    },
    {
      "cell_type": "markdown",
      "source": [
        "# estat-APIで利用したい場合"
      ],
      "metadata": {
        "id": "-pDMEtCS1tWH"
      }
    },
    {
      "cell_type": "code",
      "source": [
        "import json\n",
        "import urllib.request\n",
        "\n",
        "def generate_estat_areas(governmentType='prefecture',prefCode=0):\n",
        "\n",
        "  # 都道府県の場合\n",
        "  if governmentType == 'prefecture':\n",
        "    pref_codes = [d.get('prefCode') for d in get_resas_preflist()]\n",
        "    return [f'{n:02}'+'000' for n in pref_codes]\n",
        "  \n",
        "  # 市区町村の場合\n",
        "  else:\n",
        "    city_codes = [d.get('cityCode') for d in get_resas_citylist(prefCode)]\n",
        "    return city_codes"
      ],
      "metadata": {
        "id": "14EywNzI1xsF"
      },
      "execution_count": 39,
      "outputs": []
    },
    {
      "cell_type": "code",
      "source": [
        "areas = generate_estat_areas()\n",
        "print(areas)\n",
        "\n",
        "areas2 = generate_estat_areas(governmentType='city')\n",
        "print(areas2)\n",
        "\n",
        "areas3 = generate_estat_areas(governmentType='city',prefCode=28)\n",
        "print(areas3)"
      ],
      "metadata": {
        "id": "EopOZ-Aj2k6k"
      },
      "execution_count": null,
      "outputs": []
    }
  ]
}