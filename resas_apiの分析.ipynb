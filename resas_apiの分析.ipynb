{
  "nbformat": 4,
  "nbformat_minor": 0,
  "metadata": {
    "colab": {
      "provenance": [],
      "toc_visible": true,
      "authorship_tag": "ABX9TyOkP/J3rqbzQ7C0U90NVYGo"
    },
    "kernelspec": {
      "name": "python3",
      "display_name": "Python 3"
    },
    "language_info": {
      "name": "python"
    }
  },
  "cells": [
    {
      "cell_type": "markdown",
      "source": [
        "# 実行環境の作成"
      ],
      "metadata": {
        "id": "yQkwWTHsoL0k"
      }
    },
    {
      "cell_type": "markdown",
      "source": [
        "## Google Drive"
      ],
      "metadata": {
        "id": "BfhcmDLca7b4"
      }
    },
    {
      "cell_type": "markdown",
      "source": [
        "Google Driveをマウント"
      ],
      "metadata": {
        "id": "eoKX6rkVa5Ls"
      }
    },
    {
      "cell_type": "code",
      "source": [
        "from google.colab import drive\n",
        "drive.mount('/content/drive')"
      ],
      "metadata": {
        "id": "skN1VUDSa4gJ",
        "colab": {
          "base_uri": "https://localhost:8080/"
        },
        "outputId": "31c1667a-4276-4aa8-acc6-87b4287d3cbc"
      },
      "execution_count": null,
      "outputs": [
        {
          "output_type": "stream",
          "name": "stdout",
          "text": [
            "Mounted at /content/drive\n"
          ]
        }
      ]
    },
    {
      "cell_type": "markdown",
      "source": [
        "## Google Cloud Storage"
      ],
      "metadata": {
        "id": "BDMnnS3RVrkF"
      }
    },
    {
      "cell_type": "markdown",
      "source": [
        "下記コードでGCPに接続"
      ],
      "metadata": {
        "id": "SsgiSjKhV2D7"
      }
    },
    {
      "cell_type": "code",
      "source": [
        "from google.colab import auth\n",
        "auth.authenticate_user()"
      ],
      "metadata": {
        "id": "GKiUkM7SV0bY"
      },
      "execution_count": null,
      "outputs": []
    },
    {
      "cell_type": "markdown",
      "source": [
        "認証に成功したらgcsfuseをインストール"
      ],
      "metadata": {
        "id": "KP4JP4ouV6QS"
      }
    },
    {
      "cell_type": "code",
      "source": [
        "!echo \"deb http://packages.cloud.google.com/apt gcsfuse-`lsb_release -c -s` main\" | sudo tee /etc/apt/sources.list.d/gcsfuse.list\n",
        "!curl https://packages.cloud.google.com/apt/doc/apt-key.gpg | sudo apt-key add -\n",
        "!apt-get -y -q update\n",
        "!apt-get -y -q install gcsfuse"
      ],
      "metadata": {
        "id": "d1D5UagbV9A4"
      },
      "execution_count": null,
      "outputs": []
    },
    {
      "cell_type": "markdown",
      "source": [
        "バケット「statistics-hyogo」をディレクトリ「statistics-hyogo」にマウント"
      ],
      "metadata": {
        "id": "QUUcFp5LWR6s"
      }
    },
    {
      "cell_type": "code",
      "source": [
        "! mkdir -p statistics-hyogo\n",
        "! gcsfuse --implicit-dirs --limit-bytes-per-sec -1 --limit-ops-per-sec -1 statistics-hyogo statistics-hyogo"
      ],
      "metadata": {
        "id": "vw-vsTVGWIfp"
      },
      "execution_count": null,
      "outputs": []
    },
    {
      "cell_type": "markdown",
      "source": [
        "## 環境変数"
      ],
      "metadata": {
        "id": "Gx86nBgJoSt0"
      }
    },
    {
      "cell_type": "code",
      "execution_count": null,
      "metadata": {
        "id": "RIvRRvWIoGbB"
      },
      "outputs": [],
      "source": [
        "RESAS_API_KEY = '\t02JYzLqUOfTNVfiTWjLlR2g0YwEQPQ7caYxcnZaZ'"
      ]
    },
    {
      "cell_type": "markdown",
      "source": [
        "# 都道府県一覧"
      ],
      "metadata": {
        "id": "CYmpiDNtoV1D"
      }
    },
    {
      "cell_type": "code",
      "source": [
        "import json\n",
        "import urllib.request\n",
        "\n",
        "def get_resas_preflist():\n",
        "    url = 'https://opendata.resas-portal.go.jp/api/v1/prefectures'\n",
        "    req = urllib.request.Request(url, headers={'X-API-KEY': RESAS_API_KEY})\n",
        "    with urllib.request.urlopen(req) as response:\n",
        "        res = json.loads(response.read().decode())\n",
        "    return res['result']"
      ],
      "metadata": {
        "id": "d7AD-Jk-ocDE"
      },
      "execution_count": null,
      "outputs": []
    },
    {
      "cell_type": "code",
      "source": [
        "preflist = get_resas_preflist()\n",
        "print(preflist)"
      ],
      "metadata": {
        "id": "cMvCEcN7oede"
      },
      "execution_count": null,
      "outputs": []
    },
    {
      "cell_type": "markdown",
      "source": [
        "GoogleDriveとGoogleCloudStorageに保存"
      ],
      "metadata": {
        "id": "vx9skunNPWwv"
      }
    },
    {
      "cell_type": "code",
      "source": [
        "# 保存先パスの設定\n",
        "path = \"resas/preflist.json\"\n",
        "\n",
        "# Google Driveへ保存\n",
        "drive_path = \"drive/MyDrive/statistics-hyogo/{}\".format(path)\n",
        "\n",
        "with open(drive_path, 'w') as f:\n",
        "    json.dump(preflist,f,ensure_ascii=False)\n",
        "\n",
        "# GoogleCloudStorage\n",
        "gcs_path = \"statistics-hyogo/{}\".format(path)\n",
        "\n",
        "with open(gcs_path, 'w') as f:\n",
        "    json.dump(preflist,f,ensure_ascii=False)"
      ],
      "metadata": {
        "id": "cG7SBxqgPWAI"
      },
      "execution_count": null,
      "outputs": []
    },
    {
      "cell_type": "markdown",
      "source": [
        "# 市区町村一覧"
      ],
      "metadata": {
        "id": "CLr57z9aonM6"
      }
    },
    {
      "cell_type": "code",
      "source": [
        "import json\n",
        "import urllib.request\n",
        "\n",
        "def get_resas_citylist(prefCode=0,designatedCity='all'):\n",
        "  \n",
        "    # 都道府県'prefCode'を指定\n",
        "    # 0の場合は全都道府県の市区町村\n",
        "    if prefCode == 0:\n",
        "      url = 'https://opendata.resas-portal.go.jp/api/v1/cities'\n",
        "    else:\n",
        "      url = 'https://opendata.resas-portal.go.jp/api/v1/cities?prefCode={}'.format(prefCode)\n",
        "    \n",
        "    req = urllib.request.Request(url, headers={'X-API-KEY': RESAS_API_KEY})\n",
        "    with urllib.request.urlopen(req) as response:\n",
        "        res = json.loads(response.read().decode())\n",
        "\n",
        "\n",
        "    # 政令指定都市　の指定　'join':政令指定都市統合　'split'：政令指定都市分割 'all'：全て\n",
        "    if designatedCity == 'join':\n",
        "      return list(filter(lambda x: x['bigCityFlag'] != '1', res['result']))\n",
        "    elif designatedCity == 'split':\n",
        "      return list(filter(lambda x: x['bigCityFlag'] != '2', res['result']))\n",
        "    else:\n",
        "      return res['result']"
      ],
      "metadata": {
        "id": "ChrBZQWaoqTH"
      },
      "execution_count": null,
      "outputs": []
    },
    {
      "cell_type": "code",
      "source": [
        "city1 = get_resas_citylist()\n",
        "print(city1)\n",
        "\n",
        "city2 = get_resas_citylist(designatedCity='join')\n",
        "print(city2)\n",
        "\n",
        "city3 = get_resas_citylist(prefCode=28,designatedCity='split')\n",
        "print(city3)\n",
        "\n",
        "city4 = get_resas_citylist(prefCode=28)\n",
        "print(city4)"
      ],
      "metadata": {
        "id": "n452ss0co86T"
      },
      "execution_count": null,
      "outputs": []
    },
    {
      "cell_type": "markdown",
      "source": [
        "GoogleDriveとGoogleCloudStorageに保存"
      ],
      "metadata": {
        "id": "Z34vANLOQHQ3"
      }
    },
    {
      "cell_type": "code",
      "source": [
        "citylist = get_resas_citylist()\n",
        "\n",
        "# 保存先パスの設定\n",
        "path = \"resas/citylist.json\"\n",
        "\n",
        "# Google Driveへ保存\n",
        "drive_path = \"drive/MyDrive/statistics-hyogo/{}\".format(path)\n",
        "\n",
        "with open(drive_path, 'w') as f:\n",
        "    json.dump(citylist,f,ensure_ascii=False)\n",
        "\n",
        "# GoogleCloudStorage\n",
        "gcs_path = \"statistics-hyogo/{}\".format(path)\n",
        "\n",
        "with open(gcs_path, 'w') as f:\n",
        "    json.dump(citylist,f,ensure_ascii=False)"
      ],
      "metadata": {
        "id": "4AfLtTGdQEhE"
      },
      "execution_count": null,
      "outputs": []
    },
    {
      "cell_type": "markdown",
      "source": [
        "# estat-APIの地域一覧"
      ],
      "metadata": {
        "id": "-pDMEtCS1tWH"
      }
    },
    {
      "cell_type": "markdown",
      "source": [
        "文字列5桁の地域コードに変換する"
      ],
      "metadata": {
        "id": "4IWAi4MQzS4f"
      }
    },
    {
      "cell_type": "code",
      "source": [
        "import pandas as pd\n",
        "\n",
        "def get_estat_areas():\n",
        "  # 元データ\n",
        "  df_preflist = pd.DataFrame(get_resas_preflist())\n",
        "  df_citylist = pd.DataFrame(get_resas_citylist())\n",
        "  \n",
        "  # 市区町村の処理\n",
        "  df_citylist = pd.merge(df_preflist, df_citylist, on='prefCode')\n",
        "  df_citylist['areaCode'] = df_citylist.apply(lambda x: x['cityCode'], 1)\n",
        "  df_citylist['areaName'] = df_citylist.apply(lambda x: x['cityName'].replace(x['prefName'], ''), 1)\n",
        "  df_citylist['governmentType'] = 'city'\n",
        "  \n",
        "  # 都道府県の処理\n",
        "  df_preflist['areaCode'] = df_preflist.apply(lambda x: str(x['prefCode']).zfill(5), 1)\n",
        "  df_preflist['areaName'] = df_preflist.apply(lambda x: x['prefName'], 1)\n",
        "  df_preflist['governmentType'] = 'prefecture'\n",
        "\n",
        "\n",
        "  df = pd.concat([df_citylist, df_preflist], axis=0)\n",
        "\n",
        "  return df"
      ],
      "metadata": {
        "id": "sV371bxfzgNT"
      },
      "execution_count": null,
      "outputs": []
    },
    {
      "cell_type": "markdown",
      "source": [
        "GoogleDriveとGoogleCloudStorageに保存"
      ],
      "metadata": {
        "id": "K4tlmT6NiOaX"
      }
    },
    {
      "cell_type": "code",
      "source": [
        "def save_json(df,path):\n",
        "  \n",
        "  # Google Driveへ保存\n",
        "  drive_path = \"drive/MyDrive/statistics-hyogo/{}\".format(path)\n",
        "  df.reset_index().to_json(drive_path,orient='records',force_ascii=False)\n",
        "  \n",
        "  # GoogleCloudStorage\n",
        "  gcs_path = \"statistics-hyogo/{}\".format(path)\n",
        "  df.reset_index().to_json(gcs_path,orient='records',force_ascii=False)"
      ],
      "metadata": {
        "id": "18iqKpVm6yNN"
      },
      "execution_count": null,
      "outputs": []
    },
    {
      "cell_type": "code",
      "source": [
        "df = get_estat_areas()\n",
        "path = \"resas/arealist.json\"\n",
        "\n",
        "save_json(df,path)"
      ],
      "metadata": {
        "id": "yavcYh1761Ud"
      },
      "execution_count": null,
      "outputs": []
    }
  ]
}