{
  "cells": [
    {
      "cell_type": "markdown",
      "source": [
        "# 実行環境の作成"
      ],
      "metadata": {
        "id": "inrYQThZlUDa"
      }
    },
    {
      "cell_type": "markdown",
      "source": [
        "## Google Cloud Storage"
      ],
      "metadata": {
        "id": "BDMnnS3RVrkF"
      }
    },
    {
      "cell_type": "markdown",
      "source": [
        "下記コードでGCPに接続"
      ],
      "metadata": {
        "id": "SsgiSjKhV2D7"
      }
    },
    {
      "cell_type": "code",
      "source": [
        "from google.colab import auth\n",
        "auth.authenticate_user()"
      ],
      "metadata": {
        "id": "GKiUkM7SV0bY"
      },
      "execution_count": 1,
      "outputs": []
    },
    {
      "cell_type": "markdown",
      "source": [
        "認証に成功したらgcsfuseをインストール"
      ],
      "metadata": {
        "id": "KP4JP4ouV6QS"
      }
    },
    {
      "cell_type": "code",
      "source": [
        "!echo \"deb http://packages.cloud.google.com/apt gcsfuse-`lsb_release -c -s` main\" | sudo tee /etc/apt/sources.list.d/gcsfuse.list\n",
        "!curl https://packages.cloud.google.com/apt/doc/apt-key.gpg | sudo apt-key add -\n",
        "!apt-get -y -q update\n",
        "!apt-get -y -q install gcsfuse"
      ],
      "metadata": {
        "id": "d1D5UagbV9A4",
        "colab": {
          "base_uri": "https://localhost:8080/"
        },
        "outputId": "41ffe5bc-c8ec-4d07-c029-1d163919c1a9"
      },
      "execution_count": 2,
      "outputs": [
        {
          "output_type": "stream",
          "name": "stdout",
          "text": [
            "deb http://packages.cloud.google.com/apt gcsfuse-bionic main\n",
            "  % Total    % Received % Xferd  Average Speed   Time    Time     Time  Current\n",
            "                                 Dload  Upload   Total   Spent    Left  Speed\n",
            "100  2537  100  2537    0     0  68567      0 --:--:-- --:--:-- --:--:-- 68567\n",
            "OK\n",
            "Get:1 http://security.ubuntu.com/ubuntu bionic-security InRelease [88.7 kB]\n",
            "Get:2 https://cloud.r-project.org/bin/linux/ubuntu bionic-cran40/ InRelease [3,626 B]\n",
            "Hit:3 http://archive.ubuntu.com/ubuntu bionic InRelease\n",
            "Get:4 http://archive.ubuntu.com/ubuntu bionic-updates InRelease [88.7 kB]\n",
            "Get:5 http://archive.ubuntu.com/ubuntu bionic-backports InRelease [74.6 kB]\n",
            "Ign:6 https://developer.download.nvidia.com/compute/machine-learning/repos/ubuntu1804/x86_64  InRelease\n",
            "Hit:7 https://developer.download.nvidia.com/compute/cuda/repos/ubuntu1804/x86_64  InRelease\n",
            "Get:8 http://packages.cloud.google.com/apt gcsfuse-bionic InRelease [5,391 B]\n",
            "Hit:9 http://ppa.launchpad.net/c2d4u.team/c2d4u4.0+/ubuntu bionic InRelease\n",
            "Hit:10 https://developer.download.nvidia.com/compute/machine-learning/repos/ubuntu1804/x86_64  Release\n",
            "Hit:11 http://ppa.launchpad.net/cran/libgit2/ubuntu bionic InRelease\n",
            "Hit:12 http://ppa.launchpad.net/deadsnakes/ppa/ubuntu bionic InRelease\n",
            "Hit:13 http://ppa.launchpad.net/graphics-drivers/ppa/ubuntu bionic InRelease\n",
            "Get:14 http://security.ubuntu.com/ubuntu bionic-security/universe amd64 Packages [1,540 kB]\n",
            "Get:15 http://security.ubuntu.com/ubuntu bionic-security/main amd64 Packages [2,965 kB]\n",
            "Get:16 http://archive.ubuntu.com/ubuntu bionic-updates/main amd64 Packages [3,397 kB]\n",
            "Get:17 http://archive.ubuntu.com/ubuntu bionic-updates/universe amd64 Packages [2,318 kB]\n",
            "Get:18 http://packages.cloud.google.com/apt gcsfuse-bionic/main amd64 Packages [1,443 B]\n",
            "Fetched 10.5 MB in 3s (3,182 kB/s)\n",
            "Reading package lists...\n",
            "Reading package lists...\n",
            "Building dependency tree...\n",
            "Reading state information...\n",
            "The following package was automatically installed and is no longer required:\n",
            "  libnvidia-common-460\n",
            "Use 'apt autoremove' to remove it.\n",
            "The following NEW packages will be installed:\n",
            "  gcsfuse\n",
            "0 upgraded, 1 newly installed, 0 to remove and 31 not upgraded.\n",
            "Need to get 12.1 MB of archives.\n",
            "After this operation, 27.5 MB of additional disk space will be used.\n",
            "Get:1 http://packages.cloud.google.com/apt gcsfuse-bionic/main amd64 gcsfuse amd64 0.41.6 [12.1 MB]\n",
            "Fetched 12.1 MB in 1s (10.2 MB/s)\n",
            "Selecting previously unselected package gcsfuse.\n",
            "(Reading database ... 155569 files and directories currently installed.)\n",
            "Preparing to unpack .../gcsfuse_0.41.6_amd64.deb ...\n",
            "Unpacking gcsfuse (0.41.6) ...\n",
            "Setting up gcsfuse (0.41.6) ...\n"
          ]
        }
      ]
    },
    {
      "cell_type": "markdown",
      "source": [
        "バケット「statistics-hyogo」をディレクトリ「statistics-hyogo」にマウント"
      ],
      "metadata": {
        "id": "QUUcFp5LWR6s"
      }
    },
    {
      "cell_type": "code",
      "source": [
        "! mkdir -p statistics-hyogo\n",
        "! gcsfuse --implicit-dirs --limit-bytes-per-sec -1 --limit-ops-per-sec -1 statistics-hyogo statistics-hyogo"
      ],
      "metadata": {
        "id": "vw-vsTVGWIfp",
        "colab": {
          "base_uri": "https://localhost:8080/"
        },
        "outputId": "6653a733-5da1-48c2-dfd5-9cfd8b92c709"
      },
      "execution_count": 3,
      "outputs": [
        {
          "output_type": "stream",
          "name": "stdout",
          "text": [
            "2022/09/16 07:11:54.267718 Start gcsfuse/0.41.6 (Go version go1.18.4) for app \"\" using mount point: /content/statistics-hyogo\n",
            "2022/09/16 07:11:54.285039 Opening GCS connection...\n",
            "2022/09/16 07:11:55.783439 Mounting file system \"statistics-hyogo\"...\n",
            "2022/09/16 07:11:55.784206 File system has been successfully mounted.\n"
          ]
        }
      ]
    },
    {
      "cell_type": "markdown",
      "source": [
        "## ESTAT_APP_ID"
      ],
      "metadata": {
        "id": "YZ-rxUoLTevY"
      }
    },
    {
      "cell_type": "code",
      "source": [
        "ESTAT_APPID = '724e5b90772a3e9289f41a253e4e7e32438f4fff'"
      ],
      "metadata": {
        "id": "wMa4y4oXJYdw"
      },
      "execution_count": 4,
      "outputs": []
    },
    {
      "cell_type": "markdown",
      "source": [
        "## pythonのライブラリ追加"
      ],
      "metadata": {
        "id": "rv4FGegQaZtc"
      }
    },
    {
      "cell_type": "code",
      "source": [
        "import urllib.parse\n",
        "import urllib.request\n",
        "import json\n",
        "import pandas as pd"
      ],
      "metadata": {
        "id": "eIB9NAJdalZT"
      },
      "execution_count": 5,
      "outputs": []
    },
    {
      "cell_type": "markdown",
      "source": [
        "# 統計カード管理情報を取得・加工"
      ],
      "metadata": {
        "id": "8AQDQmu5ZIVE"
      }
    },
    {
      "cell_type": "markdown",
      "source": [
        "## BigQueryから統計カード管理情報を読み込む"
      ],
      "metadata": {
        "id": "PhlM2YQEiR8v"
      }
    },
    {
      "cell_type": "markdown",
      "source": [
        "pandas-gbqのインストール"
      ],
      "metadata": {
        "id": "4xCBjZWrm1q6"
      }
    },
    {
      "cell_type": "code",
      "source": [
        "!pip install pandas-gbq"
      ],
      "metadata": {
        "id": "BTNDa8fdoChJ"
      },
      "execution_count": null,
      "outputs": []
    },
    {
      "cell_type": "markdown",
      "source": [
        "BigQueryをDataFrameで取得"
      ],
      "metadata": {
        "id": "AaeHY0RDoO0F"
      }
    },
    {
      "cell_type": "code",
      "source": [
        "def get_cards_management_dataframe():\n",
        "  # プロジェクトの定義\n",
        "  project_id='primal-buttress-342908'\n",
        "  dataset_id = 'contents'\n",
        "  table_id='cards'\n",
        "\n",
        "  # クエリ\n",
        "  query = f\"\"\"\n",
        "  SELECT *\n",
        "  FROM {dataset_id}.{table_id}\n",
        "  \"\"\"\n",
        "\n",
        "  # dialect='standard' で標準SQLを使用\n",
        "  df = pd.read_gbq(query, project_id, dialect='standard')\n",
        "\n",
        "  return df"
      ],
      "metadata": {
        "colab": {
          "base_uri": "https://localhost:8080/",
          "height": 135
        },
        "id": "wq0R92xDoKmF",
        "outputId": "d3a40f2f-e350-4823-8dca-99a37d9360dc"
      },
      "execution_count": 35,
      "outputs": [
        {
          "output_type": "error",
          "ename": "SyntaxError",
          "evalue": "ignored",
          "traceback": [
            "\u001b[0;36m  File \u001b[0;32m\"<ipython-input-35-b8d05444a8ad>\"\u001b[0;36m, line \u001b[0;32m19\u001b[0m\n\u001b[0;31m    df['statsDataId'] = df.apply(lambda x: f'{x['statsDataId']:02}'+'000', 1)\u001b[0m\n\u001b[0m                                                           ^\u001b[0m\n\u001b[0;31mSyntaxError\u001b[0m\u001b[0;31m:\u001b[0m invalid syntax\n"
          ]
        }
      ]
    },
    {
      "cell_type": "code",
      "source": [
        "df_cardmng = get_cards_management_dataframe()\n",
        "df_cardmng"
      ],
      "metadata": {
        "colab": {
          "base_uri": "https://localhost:8080/",
          "height": 468
        },
        "id": "gxi804uTxoi1",
        "outputId": "e469a472-176c-4fd4-9d74-f9c2e5d61cc9"
      },
      "execution_count": 33,
      "outputs": [
        {
          "output_type": "execute_result",
          "data": {
            "text/plain": [
              "     index  statsDataId statsDataName categoryCode   categoryName  \\\n",
              "0        3        10101     社会・人口統計体系        A1102          日本人人口   \n",
              "1        4        10101     社会・人口統計体系      A110201       日本人人口（男）   \n",
              "2        5        10101     社会・人口統計体系      A110202       日本人人口（女）   \n",
              "3        6        10101     社会・人口統計体系        A1201         0～4歳人口   \n",
              "4        7        10101     社会・人口統計体系      A120101      0～4歳人口（男）   \n",
              "..     ...          ...           ...          ...            ...   \n",
              "563    550        10101     社会・人口統計体系      A840201  母子世帯数（15～24歳）   \n",
              "564    551        10101     社会・人口統計体系      A840202  母子世帯数（25～34歳）   \n",
              "565    552        10101     社会・人口統計体系      A840203  母子世帯数（35～44歳）   \n",
              "566    553        10101     社会・人口統計体系      A840204  母子世帯数（45～54歳）   \n",
              "567    554        10101     社会・人口統計体系      A840205   母子世帯数（55歳以上）   \n",
              "\n",
              "    governmentType                              cardId   cardTitle  \\\n",
              "0       prefecture                                None        None   \n",
              "1       prefecture                                None        None   \n",
              "2       prefecture                                None        None   \n",
              "3       prefecture                                None        None   \n",
              "4       prefecture                                None        None   \n",
              "..             ...                                 ...         ...   \n",
              "563     prefecture  single-mother-household-prefecture  都道府県の母子世帯数   \n",
              "564     prefecture  single-mother-household-prefecture  都道府県の母子世帯数   \n",
              "565     prefecture  single-mother-household-prefecture  都道府県の母子世帯数   \n",
              "566     prefecture  single-mother-household-prefecture  都道府県の母子世帯数   \n",
              "567     prefecture  single-mother-household-prefecture  都道府県の母子世帯数   \n",
              "\n",
              "    chartComponent isSelect    type yAxis  \n",
              "0             None     None    None  None  \n",
              "1             None     None    None  None  \n",
              "2             None     None    None  None  \n",
              "3             None     None    None  None  \n",
              "4             None     None    None  None  \n",
              "..             ...      ...     ...   ...  \n",
              "563      TimeChart     None  column     0  \n",
              "564      TimeChart     None  column     0  \n",
              "565      TimeChart     None  column     0  \n",
              "566      TimeChart     None  column     0  \n",
              "567      TimeChart     None  column     0  \n",
              "\n",
              "[568 rows x 12 columns]"
            ],
            "text/html": [
              "\n",
              "  <div id=\"df-229d83cf-1253-4cd8-b230-b8b6d821a836\">\n",
              "    <div class=\"colab-df-container\">\n",
              "      <div>\n",
              "<style scoped>\n",
              "    .dataframe tbody tr th:only-of-type {\n",
              "        vertical-align: middle;\n",
              "    }\n",
              "\n",
              "    .dataframe tbody tr th {\n",
              "        vertical-align: top;\n",
              "    }\n",
              "\n",
              "    .dataframe thead th {\n",
              "        text-align: right;\n",
              "    }\n",
              "</style>\n",
              "<table border=\"1\" class=\"dataframe\">\n",
              "  <thead>\n",
              "    <tr style=\"text-align: right;\">\n",
              "      <th></th>\n",
              "      <th>index</th>\n",
              "      <th>statsDataId</th>\n",
              "      <th>statsDataName</th>\n",
              "      <th>categoryCode</th>\n",
              "      <th>categoryName</th>\n",
              "      <th>governmentType</th>\n",
              "      <th>cardId</th>\n",
              "      <th>cardTitle</th>\n",
              "      <th>chartComponent</th>\n",
              "      <th>isSelect</th>\n",
              "      <th>type</th>\n",
              "      <th>yAxis</th>\n",
              "    </tr>\n",
              "  </thead>\n",
              "  <tbody>\n",
              "    <tr>\n",
              "      <th>0</th>\n",
              "      <td>3</td>\n",
              "      <td>10101</td>\n",
              "      <td>社会・人口統計体系</td>\n",
              "      <td>A1102</td>\n",
              "      <td>日本人人口</td>\n",
              "      <td>prefecture</td>\n",
              "      <td>None</td>\n",
              "      <td>None</td>\n",
              "      <td>None</td>\n",
              "      <td>None</td>\n",
              "      <td>None</td>\n",
              "      <td>None</td>\n",
              "    </tr>\n",
              "    <tr>\n",
              "      <th>1</th>\n",
              "      <td>4</td>\n",
              "      <td>10101</td>\n",
              "      <td>社会・人口統計体系</td>\n",
              "      <td>A110201</td>\n",
              "      <td>日本人人口（男）</td>\n",
              "      <td>prefecture</td>\n",
              "      <td>None</td>\n",
              "      <td>None</td>\n",
              "      <td>None</td>\n",
              "      <td>None</td>\n",
              "      <td>None</td>\n",
              "      <td>None</td>\n",
              "    </tr>\n",
              "    <tr>\n",
              "      <th>2</th>\n",
              "      <td>5</td>\n",
              "      <td>10101</td>\n",
              "      <td>社会・人口統計体系</td>\n",
              "      <td>A110202</td>\n",
              "      <td>日本人人口（女）</td>\n",
              "      <td>prefecture</td>\n",
              "      <td>None</td>\n",
              "      <td>None</td>\n",
              "      <td>None</td>\n",
              "      <td>None</td>\n",
              "      <td>None</td>\n",
              "      <td>None</td>\n",
              "    </tr>\n",
              "    <tr>\n",
              "      <th>3</th>\n",
              "      <td>6</td>\n",
              "      <td>10101</td>\n",
              "      <td>社会・人口統計体系</td>\n",
              "      <td>A1201</td>\n",
              "      <td>0～4歳人口</td>\n",
              "      <td>prefecture</td>\n",
              "      <td>None</td>\n",
              "      <td>None</td>\n",
              "      <td>None</td>\n",
              "      <td>None</td>\n",
              "      <td>None</td>\n",
              "      <td>None</td>\n",
              "    </tr>\n",
              "    <tr>\n",
              "      <th>4</th>\n",
              "      <td>7</td>\n",
              "      <td>10101</td>\n",
              "      <td>社会・人口統計体系</td>\n",
              "      <td>A120101</td>\n",
              "      <td>0～4歳人口（男）</td>\n",
              "      <td>prefecture</td>\n",
              "      <td>None</td>\n",
              "      <td>None</td>\n",
              "      <td>None</td>\n",
              "      <td>None</td>\n",
              "      <td>None</td>\n",
              "      <td>None</td>\n",
              "    </tr>\n",
              "    <tr>\n",
              "      <th>...</th>\n",
              "      <td>...</td>\n",
              "      <td>...</td>\n",
              "      <td>...</td>\n",
              "      <td>...</td>\n",
              "      <td>...</td>\n",
              "      <td>...</td>\n",
              "      <td>...</td>\n",
              "      <td>...</td>\n",
              "      <td>...</td>\n",
              "      <td>...</td>\n",
              "      <td>...</td>\n",
              "      <td>...</td>\n",
              "    </tr>\n",
              "    <tr>\n",
              "      <th>563</th>\n",
              "      <td>550</td>\n",
              "      <td>10101</td>\n",
              "      <td>社会・人口統計体系</td>\n",
              "      <td>A840201</td>\n",
              "      <td>母子世帯数（15～24歳）</td>\n",
              "      <td>prefecture</td>\n",
              "      <td>single-mother-household-prefecture</td>\n",
              "      <td>都道府県の母子世帯数</td>\n",
              "      <td>TimeChart</td>\n",
              "      <td>None</td>\n",
              "      <td>column</td>\n",
              "      <td>0</td>\n",
              "    </tr>\n",
              "    <tr>\n",
              "      <th>564</th>\n",
              "      <td>551</td>\n",
              "      <td>10101</td>\n",
              "      <td>社会・人口統計体系</td>\n",
              "      <td>A840202</td>\n",
              "      <td>母子世帯数（25～34歳）</td>\n",
              "      <td>prefecture</td>\n",
              "      <td>single-mother-household-prefecture</td>\n",
              "      <td>都道府県の母子世帯数</td>\n",
              "      <td>TimeChart</td>\n",
              "      <td>None</td>\n",
              "      <td>column</td>\n",
              "      <td>0</td>\n",
              "    </tr>\n",
              "    <tr>\n",
              "      <th>565</th>\n",
              "      <td>552</td>\n",
              "      <td>10101</td>\n",
              "      <td>社会・人口統計体系</td>\n",
              "      <td>A840203</td>\n",
              "      <td>母子世帯数（35～44歳）</td>\n",
              "      <td>prefecture</td>\n",
              "      <td>single-mother-household-prefecture</td>\n",
              "      <td>都道府県の母子世帯数</td>\n",
              "      <td>TimeChart</td>\n",
              "      <td>None</td>\n",
              "      <td>column</td>\n",
              "      <td>0</td>\n",
              "    </tr>\n",
              "    <tr>\n",
              "      <th>566</th>\n",
              "      <td>553</td>\n",
              "      <td>10101</td>\n",
              "      <td>社会・人口統計体系</td>\n",
              "      <td>A840204</td>\n",
              "      <td>母子世帯数（45～54歳）</td>\n",
              "      <td>prefecture</td>\n",
              "      <td>single-mother-household-prefecture</td>\n",
              "      <td>都道府県の母子世帯数</td>\n",
              "      <td>TimeChart</td>\n",
              "      <td>None</td>\n",
              "      <td>column</td>\n",
              "      <td>0</td>\n",
              "    </tr>\n",
              "    <tr>\n",
              "      <th>567</th>\n",
              "      <td>554</td>\n",
              "      <td>10101</td>\n",
              "      <td>社会・人口統計体系</td>\n",
              "      <td>A840205</td>\n",
              "      <td>母子世帯数（55歳以上）</td>\n",
              "      <td>prefecture</td>\n",
              "      <td>single-mother-household-prefecture</td>\n",
              "      <td>都道府県の母子世帯数</td>\n",
              "      <td>TimeChart</td>\n",
              "      <td>None</td>\n",
              "      <td>column</td>\n",
              "      <td>0</td>\n",
              "    </tr>\n",
              "  </tbody>\n",
              "</table>\n",
              "<p>568 rows × 12 columns</p>\n",
              "</div>\n",
              "      <button class=\"colab-df-convert\" onclick=\"convertToInteractive('df-229d83cf-1253-4cd8-b230-b8b6d821a836')\"\n",
              "              title=\"Convert this dataframe to an interactive table.\"\n",
              "              style=\"display:none;\">\n",
              "        \n",
              "  <svg xmlns=\"http://www.w3.org/2000/svg\" height=\"24px\"viewBox=\"0 0 24 24\"\n",
              "       width=\"24px\">\n",
              "    <path d=\"M0 0h24v24H0V0z\" fill=\"none\"/>\n",
              "    <path d=\"M18.56 5.44l.94 2.06.94-2.06 2.06-.94-2.06-.94-.94-2.06-.94 2.06-2.06.94zm-11 1L8.5 8.5l.94-2.06 2.06-.94-2.06-.94L8.5 2.5l-.94 2.06-2.06.94zm10 10l.94 2.06.94-2.06 2.06-.94-2.06-.94-.94-2.06-.94 2.06-2.06.94z\"/><path d=\"M17.41 7.96l-1.37-1.37c-.4-.4-.92-.59-1.43-.59-.52 0-1.04.2-1.43.59L10.3 9.45l-7.72 7.72c-.78.78-.78 2.05 0 2.83L4 21.41c.39.39.9.59 1.41.59.51 0 1.02-.2 1.41-.59l7.78-7.78 2.81-2.81c.8-.78.8-2.07 0-2.86zM5.41 20L4 18.59l7.72-7.72 1.47 1.35L5.41 20z\"/>\n",
              "  </svg>\n",
              "      </button>\n",
              "      \n",
              "  <style>\n",
              "    .colab-df-container {\n",
              "      display:flex;\n",
              "      flex-wrap:wrap;\n",
              "      gap: 12px;\n",
              "    }\n",
              "\n",
              "    .colab-df-convert {\n",
              "      background-color: #E8F0FE;\n",
              "      border: none;\n",
              "      border-radius: 50%;\n",
              "      cursor: pointer;\n",
              "      display: none;\n",
              "      fill: #1967D2;\n",
              "      height: 32px;\n",
              "      padding: 0 0 0 0;\n",
              "      width: 32px;\n",
              "    }\n",
              "\n",
              "    .colab-df-convert:hover {\n",
              "      background-color: #E2EBFA;\n",
              "      box-shadow: 0px 1px 2px rgba(60, 64, 67, 0.3), 0px 1px 3px 1px rgba(60, 64, 67, 0.15);\n",
              "      fill: #174EA6;\n",
              "    }\n",
              "\n",
              "    [theme=dark] .colab-df-convert {\n",
              "      background-color: #3B4455;\n",
              "      fill: #D2E3FC;\n",
              "    }\n",
              "\n",
              "    [theme=dark] .colab-df-convert:hover {\n",
              "      background-color: #434B5C;\n",
              "      box-shadow: 0px 1px 3px 1px rgba(0, 0, 0, 0.15);\n",
              "      filter: drop-shadow(0px 1px 2px rgba(0, 0, 0, 0.3));\n",
              "      fill: #FFFFFF;\n",
              "    }\n",
              "  </style>\n",
              "\n",
              "      <script>\n",
              "        const buttonEl =\n",
              "          document.querySelector('#df-229d83cf-1253-4cd8-b230-b8b6d821a836 button.colab-df-convert');\n",
              "        buttonEl.style.display =\n",
              "          google.colab.kernel.accessAllowed ? 'block' : 'none';\n",
              "\n",
              "        async function convertToInteractive(key) {\n",
              "          const element = document.querySelector('#df-229d83cf-1253-4cd8-b230-b8b6d821a836');\n",
              "          const dataTable =\n",
              "            await google.colab.kernel.invokeFunction('convertToInteractive',\n",
              "                                                     [key], {});\n",
              "          if (!dataTable) return;\n",
              "\n",
              "          const docLinkHtml = 'Like what you see? Visit the ' +\n",
              "            '<a target=\"_blank\" href=https://colab.research.google.com/notebooks/data_table.ipynb>data table notebook</a>'\n",
              "            + ' to learn more about interactive tables.';\n",
              "          element.innerHTML = '';\n",
              "          dataTable['output_type'] = 'display_data';\n",
              "          await google.colab.output.renderOutput(dataTable, element);\n",
              "          const docLink = document.createElement('div');\n",
              "          docLink.innerHTML = docLinkHtml;\n",
              "          element.appendChild(docLink);\n",
              "        }\n",
              "      </script>\n",
              "    </div>\n",
              "  </div>\n",
              "  "
            ]
          },
          "metadata": {},
          "execution_count": 33
        }
      ]
    },
    {
      "cell_type": "markdown",
      "source": [
        "## 統計カードリストの作成"
      ],
      "metadata": {
        "id": "TlhXGii4vhHh"
      }
    },
    {
      "cell_type": "markdown",
      "source": [
        "統計カード（cardId,cardTitle)のリストを作成する"
      ],
      "metadata": {
        "id": "IYxQ-Md5ZU3P"
      }
    },
    {
      "cell_type": "code",
      "source": [
        "def get_cardliist(df_cardmng):\n",
        "  #  'cardId'の指定があるデータを抽出\n",
        "  df = df_cardmng.dropna(subset=['cardId'])\n",
        "  \n",
        "  # GroupBy\n",
        "  df = df.groupby(['cardId','cardTitle','governmentType','statsDataId']).agg(\n",
        "    {'categoryCode': lambda x: ','.join(x)\n",
        "    })\n",
        "  \n",
        "  return df"
      ],
      "metadata": {
        "id": "RS0kYP4dZUSU"
      },
      "execution_count": 12,
      "outputs": []
    },
    {
      "cell_type": "code",
      "source": [
        "df_cardlist = get_cardliist(df_cardmng)\n",
        "df_cardlist"
      ],
      "metadata": {
        "colab": {
          "base_uri": "https://localhost:8080/",
          "height": 363
        },
        "id": "udDWOQ-zMH3G",
        "outputId": "d69bc3a5-731c-40cd-b92a-76c674cc394d"
      },
      "execution_count": 13,
      "outputs": [
        {
          "output_type": "execute_result",
          "data": {
            "text/plain": [
              "                                                                                                                categoryCode\n",
              "cardId                             cardTitle   governmentType statsDataId                                                   \n",
              "divorce-prefecture                 都道府県の離婚件数   prefecture     10101                                                    A9201\n",
              "first-marriage-age-prefecture      都道府県の平均初婚年齢 prefecture     10101                                              A9111,A9112\n",
              "household-prefecture               都道府県の一般世帯数  prefecture     10101                                                  A710101\n",
              "separated-prefecture               都道府県の離別人口   prefecture     10101        A1604011,A1604012,A1604021,A1604022,A1604031,A...\n",
              "single-mother-household-prefecture 都道府県の母子世帯数  prefecture     10101        A8401,A840101,A840102,A840103,A840201,A840202,...\n",
              "spouse-prefecture                  都道府県の有配偶人口  prefecture     10101        A1602021,A1602022,A1602031,A1602032,A1602041,A...\n",
              "standardized-mortality-prefecture  都道府県の標準化死亡率 prefecture     10101                                                    A4301\n",
              "total-population-prefecture        都道府県の総人口    prefecture     10101                                    A1101,A110101,A110102\n",
              "unmarried-prefecture               都道府県の未婚人口   prefecture     10101        A1601011,A1601012,A1601021,A1601022,A1601031,A..."
            ],
            "text/html": [
              "\n",
              "  <div id=\"df-7115add8-d304-4302-8cfd-f55bb821f463\">\n",
              "    <div class=\"colab-df-container\">\n",
              "      <div>\n",
              "<style scoped>\n",
              "    .dataframe tbody tr th:only-of-type {\n",
              "        vertical-align: middle;\n",
              "    }\n",
              "\n",
              "    .dataframe tbody tr th {\n",
              "        vertical-align: top;\n",
              "    }\n",
              "\n",
              "    .dataframe thead th {\n",
              "        text-align: right;\n",
              "    }\n",
              "</style>\n",
              "<table border=\"1\" class=\"dataframe\">\n",
              "  <thead>\n",
              "    <tr style=\"text-align: right;\">\n",
              "      <th></th>\n",
              "      <th></th>\n",
              "      <th></th>\n",
              "      <th></th>\n",
              "      <th>categoryCode</th>\n",
              "    </tr>\n",
              "    <tr>\n",
              "      <th>cardId</th>\n",
              "      <th>cardTitle</th>\n",
              "      <th>governmentType</th>\n",
              "      <th>statsDataId</th>\n",
              "      <th></th>\n",
              "    </tr>\n",
              "  </thead>\n",
              "  <tbody>\n",
              "    <tr>\n",
              "      <th>divorce-prefecture</th>\n",
              "      <th>都道府県の離婚件数</th>\n",
              "      <th>prefecture</th>\n",
              "      <th>10101</th>\n",
              "      <td>A9201</td>\n",
              "    </tr>\n",
              "    <tr>\n",
              "      <th>first-marriage-age-prefecture</th>\n",
              "      <th>都道府県の平均初婚年齢</th>\n",
              "      <th>prefecture</th>\n",
              "      <th>10101</th>\n",
              "      <td>A9111,A9112</td>\n",
              "    </tr>\n",
              "    <tr>\n",
              "      <th>household-prefecture</th>\n",
              "      <th>都道府県の一般世帯数</th>\n",
              "      <th>prefecture</th>\n",
              "      <th>10101</th>\n",
              "      <td>A710101</td>\n",
              "    </tr>\n",
              "    <tr>\n",
              "      <th>separated-prefecture</th>\n",
              "      <th>都道府県の離別人口</th>\n",
              "      <th>prefecture</th>\n",
              "      <th>10101</th>\n",
              "      <td>A1604011,A1604012,A1604021,A1604022,A1604031,A...</td>\n",
              "    </tr>\n",
              "    <tr>\n",
              "      <th>single-mother-household-prefecture</th>\n",
              "      <th>都道府県の母子世帯数</th>\n",
              "      <th>prefecture</th>\n",
              "      <th>10101</th>\n",
              "      <td>A8401,A840101,A840102,A840103,A840201,A840202,...</td>\n",
              "    </tr>\n",
              "    <tr>\n",
              "      <th>spouse-prefecture</th>\n",
              "      <th>都道府県の有配偶人口</th>\n",
              "      <th>prefecture</th>\n",
              "      <th>10101</th>\n",
              "      <td>A1602021,A1602022,A1602031,A1602032,A1602041,A...</td>\n",
              "    </tr>\n",
              "    <tr>\n",
              "      <th>standardized-mortality-prefecture</th>\n",
              "      <th>都道府県の標準化死亡率</th>\n",
              "      <th>prefecture</th>\n",
              "      <th>10101</th>\n",
              "      <td>A4301</td>\n",
              "    </tr>\n",
              "    <tr>\n",
              "      <th>total-population-prefecture</th>\n",
              "      <th>都道府県の総人口</th>\n",
              "      <th>prefecture</th>\n",
              "      <th>10101</th>\n",
              "      <td>A1101,A110101,A110102</td>\n",
              "    </tr>\n",
              "    <tr>\n",
              "      <th>unmarried-prefecture</th>\n",
              "      <th>都道府県の未婚人口</th>\n",
              "      <th>prefecture</th>\n",
              "      <th>10101</th>\n",
              "      <td>A1601011,A1601012,A1601021,A1601022,A1601031,A...</td>\n",
              "    </tr>\n",
              "  </tbody>\n",
              "</table>\n",
              "</div>\n",
              "      <button class=\"colab-df-convert\" onclick=\"convertToInteractive('df-7115add8-d304-4302-8cfd-f55bb821f463')\"\n",
              "              title=\"Convert this dataframe to an interactive table.\"\n",
              "              style=\"display:none;\">\n",
              "        \n",
              "  <svg xmlns=\"http://www.w3.org/2000/svg\" height=\"24px\"viewBox=\"0 0 24 24\"\n",
              "       width=\"24px\">\n",
              "    <path d=\"M0 0h24v24H0V0z\" fill=\"none\"/>\n",
              "    <path d=\"M18.56 5.44l.94 2.06.94-2.06 2.06-.94-2.06-.94-.94-2.06-.94 2.06-2.06.94zm-11 1L8.5 8.5l.94-2.06 2.06-.94-2.06-.94L8.5 2.5l-.94 2.06-2.06.94zm10 10l.94 2.06.94-2.06 2.06-.94-2.06-.94-.94-2.06-.94 2.06-2.06.94z\"/><path d=\"M17.41 7.96l-1.37-1.37c-.4-.4-.92-.59-1.43-.59-.52 0-1.04.2-1.43.59L10.3 9.45l-7.72 7.72c-.78.78-.78 2.05 0 2.83L4 21.41c.39.39.9.59 1.41.59.51 0 1.02-.2 1.41-.59l7.78-7.78 2.81-2.81c.8-.78.8-2.07 0-2.86zM5.41 20L4 18.59l7.72-7.72 1.47 1.35L5.41 20z\"/>\n",
              "  </svg>\n",
              "      </button>\n",
              "      \n",
              "  <style>\n",
              "    .colab-df-container {\n",
              "      display:flex;\n",
              "      flex-wrap:wrap;\n",
              "      gap: 12px;\n",
              "    }\n",
              "\n",
              "    .colab-df-convert {\n",
              "      background-color: #E8F0FE;\n",
              "      border: none;\n",
              "      border-radius: 50%;\n",
              "      cursor: pointer;\n",
              "      display: none;\n",
              "      fill: #1967D2;\n",
              "      height: 32px;\n",
              "      padding: 0 0 0 0;\n",
              "      width: 32px;\n",
              "    }\n",
              "\n",
              "    .colab-df-convert:hover {\n",
              "      background-color: #E2EBFA;\n",
              "      box-shadow: 0px 1px 2px rgba(60, 64, 67, 0.3), 0px 1px 3px 1px rgba(60, 64, 67, 0.15);\n",
              "      fill: #174EA6;\n",
              "    }\n",
              "\n",
              "    [theme=dark] .colab-df-convert {\n",
              "      background-color: #3B4455;\n",
              "      fill: #D2E3FC;\n",
              "    }\n",
              "\n",
              "    [theme=dark] .colab-df-convert:hover {\n",
              "      background-color: #434B5C;\n",
              "      box-shadow: 0px 1px 3px 1px rgba(0, 0, 0, 0.15);\n",
              "      filter: drop-shadow(0px 1px 2px rgba(0, 0, 0, 0.3));\n",
              "      fill: #FFFFFF;\n",
              "    }\n",
              "  </style>\n",
              "\n",
              "      <script>\n",
              "        const buttonEl =\n",
              "          document.querySelector('#df-7115add8-d304-4302-8cfd-f55bb821f463 button.colab-df-convert');\n",
              "        buttonEl.style.display =\n",
              "          google.colab.kernel.accessAllowed ? 'block' : 'none';\n",
              "\n",
              "        async function convertToInteractive(key) {\n",
              "          const element = document.querySelector('#df-7115add8-d304-4302-8cfd-f55bb821f463');\n",
              "          const dataTable =\n",
              "            await google.colab.kernel.invokeFunction('convertToInteractive',\n",
              "                                                     [key], {});\n",
              "          if (!dataTable) return;\n",
              "\n",
              "          const docLinkHtml = 'Like what you see? Visit the ' +\n",
              "            '<a target=\"_blank\" href=https://colab.research.google.com/notebooks/data_table.ipynb>data table notebook</a>'\n",
              "            + ' to learn more about interactive tables.';\n",
              "          element.innerHTML = '';\n",
              "          dataTable['output_type'] = 'display_data';\n",
              "          await google.colab.output.renderOutput(dataTable, element);\n",
              "          const docLink = document.createElement('div');\n",
              "          docLink.innerHTML = docLinkHtml;\n",
              "          element.appendChild(docLink);\n",
              "        }\n",
              "      </script>\n",
              "    </div>\n",
              "  </div>\n",
              "  "
            ]
          },
          "metadata": {},
          "execution_count": 13
        }
      ]
    },
    {
      "cell_type": "markdown",
      "source": [
        "# 統計カードのデータセット"
      ],
      "metadata": {
        "id": "428I_VMlmF2R"
      }
    },
    {
      "cell_type": "markdown",
      "source": [
        "## 都道府県リスト"
      ],
      "metadata": {
        "id": "W2ByC1cjNSQw"
      }
    },
    {
      "cell_type": "markdown",
      "source": [
        "都道府県コード一覧"
      ],
      "metadata": {
        "id": "iTKyKuwFNDZ_"
      }
    },
    {
      "cell_type": "code",
      "source": [
        "def get_pref_codes(resType='num'):\n",
        "  c = 'statistics-hyogo/preflist.json'\n",
        "  with open(c) as j:\n",
        "    prefList = json.load(j)\n",
        "    pref_codes = [d.get('prefCode') for d in prefList['result']]\n",
        "  \n",
        "  if resType == 'str':\n",
        "    return [f'{n:02}'+'000' for n in pref_codes]\n",
        "  else:\n",
        "    return pref_codes"
      ],
      "metadata": {
        "id": "fl33E501NCwk"
      },
      "execution_count": 20,
      "outputs": []
    },
    {
      "cell_type": "code",
      "source": [
        "print(get_pref_codes())\n",
        "print(get_pref_codes('str'))"
      ],
      "metadata": {
        "colab": {
          "base_uri": "https://localhost:8080/"
        },
        "id": "zKdg4sc0Pkyt",
        "outputId": "bd69aa7d-bff6-4576-d4cb-743553fba913"
      },
      "execution_count": 22,
      "outputs": [
        {
          "output_type": "stream",
          "name": "stdout",
          "text": [
            "[1, 2, 3, 4, 5, 6, 7, 8, 9, 10, 11, 12, 13, 14, 15, 16, 17, 18, 19, 20, 21, 22, 23, 24, 25, 26, 27, 28, 29, 30, 31, 32, 33, 34, 35, 36, 37, 38, 39, 40, 41, 42, 43, 44, 45, 46, 47]\n",
            "['01000', '02000', '03000', '04000', '05000', '06000', '07000', '08000', '09000', '10000', '11000', '12000', '13000', '14000', '15000', '16000', '17000', '18000', '19000', '20000', '21000', '22000', '23000', '24000', '25000', '26000', '27000', '28000', '29000', '30000', '31000', '32000', '33000', '34000', '35000', '36000', '37000', '38000', '39000', '40000', '41000', '42000', '43000', '44000', '45000', '46000', '47000']\n"
          ]
        }
      ]
    },
    {
      "cell_type": "markdown",
      "source": [
        "## estat-APIのパラメータ生成"
      ],
      "metadata": {
        "id": "vYz5aSXuQINO"
      }
    },
    {
      "cell_type": "markdown",
      "source": [
        "'statsDataId'はdataframeからcsvコピーした際に数値に変換されてしまう。"
      ],
      "metadata": {
        "id": "Zg5DDRDYZSYv"
      }
    },
    {
      "cell_type": "code",
      "source": [
        "df_cardmng = get_cards_management_dataframe()\n",
        "df_cardlist = get_cardliist(df_cardmng)\n",
        "\n",
        "for index, row in df_cardlist.iterrows():\n",
        "  dict = {}\n",
        "  \n",
        "  # statsDataId  csvコピーした際に数値変換されている\n",
        "  statsDataId = index[3] if type(index[3]) == 'int' else str(index[3]).zfill(10)\n",
        "  dict['statsDataId'] = statsDataId\n",
        "  \n",
        "  # cdCat01\n",
        "  dict['cdCat01'] = row['categoryCode']\n",
        "\n",
        "  # cdArea\n",
        "  dict['cdCat01'] = row['categoryCode']\n",
        "\n",
        "  print(index)\n",
        "  print(row)\n",
        "  print(dict)"
      ],
      "metadata": {
        "colab": {
          "base_uri": "https://localhost:8080/"
        },
        "id": "d3T3G4fGQMdK",
        "outputId": "96517d91-9e87-473a-f18c-84b28d21803c"
      },
      "execution_count": 40,
      "outputs": [
        {
          "output_type": "stream",
          "name": "stdout",
          "text": [
            "('divorce-prefecture', '都道府県の離婚件数', 'prefecture', 10101)\n",
            "categoryCode    A9201\n",
            "Name: (divorce-prefecture, 都道府県の離婚件数, prefecture, 10101), dtype: object\n",
            "{'statsDataId': '0000010101', 'cdCat01': 'A9201'}\n",
            "('first-marriage-age-prefecture', '都道府県の平均初婚年齢', 'prefecture', 10101)\n",
            "categoryCode    A9111,A9112\n",
            "Name: (first-marriage-age-prefecture, 都道府県の平均初婚年齢, prefecture, 10101), dtype: object\n",
            "{'statsDataId': '0000010101', 'cdCat01': 'A9111,A9112'}\n",
            "('household-prefecture', '都道府県の一般世帯数', 'prefecture', 10101)\n",
            "categoryCode    A710101\n",
            "Name: (household-prefecture, 都道府県の一般世帯数, prefecture, 10101), dtype: object\n",
            "{'statsDataId': '0000010101', 'cdCat01': 'A710101'}\n",
            "('separated-prefecture', '都道府県の離別人口', 'prefecture', 10101)\n",
            "categoryCode    A1604011,A1604012,A1604021,A1604022,A1604031,A...\n",
            "Name: (separated-prefecture, 都道府県の離別人口, prefecture, 10101), dtype: object\n",
            "{'statsDataId': '0000010101', 'cdCat01': 'A1604011,A1604012,A1604021,A1604022,A1604031,A1604032,A1604041,A1604042,A1604051,A1604052,A1604061,A1604062,A1604071,A1604072,A1604081,A1604082,A1604091,A1604092,A1604101,A1604102,A1604111,A1604112,A1604121,A1604122,A1604131,A1604132,A1604141,A1604142'}\n",
            "('single-mother-household-prefecture', '都道府県の母子世帯数', 'prefecture', 10101)\n",
            "categoryCode    A8401,A840101,A840102,A840103,A840201,A840202,...\n",
            "Name: (single-mother-household-prefecture, 都道府県の母子世帯数, prefecture, 10101), dtype: object\n",
            "{'statsDataId': '0000010101', 'cdCat01': 'A8401,A840101,A840102,A840103,A840201,A840202,A840203,A840204,A840205'}\n",
            "('spouse-prefecture', '都道府県の有配偶人口', 'prefecture', 10101)\n",
            "categoryCode    A1602021,A1602022,A1602031,A1602032,A1602041,A...\n",
            "Name: (spouse-prefecture, 都道府県の有配偶人口, prefecture, 10101), dtype: object\n",
            "{'statsDataId': '0000010101', 'cdCat01': 'A1602021,A1602022,A1602031,A1602032,A1602041,A1602042,A1602051,A1602052,A1602061,A1602062,A1602071,A1602072,A1602081,A1602082,A1602091,A1602092,A1602101,A1602102,A1602111,A1602112,A1602121,A1602122,A1602131,A1602132,A1602141,A1602142,A1602151,A1602152'}\n",
            "('standardized-mortality-prefecture', '都道府県の標準化死亡率', 'prefecture', 10101)\n",
            "categoryCode    A4301\n",
            "Name: (standardized-mortality-prefecture, 都道府県の標準化死亡率, prefecture, 10101), dtype: object\n",
            "{'statsDataId': '0000010101', 'cdCat01': 'A4301'}\n",
            "('total-population-prefecture', '都道府県の総人口', 'prefecture', 10101)\n",
            "categoryCode    A1101,A110101,A110102\n",
            "Name: (total-population-prefecture, 都道府県の総人口, prefecture, 10101), dtype: object\n",
            "{'statsDataId': '0000010101', 'cdCat01': 'A1101,A110101,A110102'}\n",
            "('unmarried-prefecture', '都道府県の未婚人口', 'prefecture', 10101)\n",
            "categoryCode    A1601011,A1601012,A1601021,A1601022,A1601031,A...\n",
            "Name: (unmarried-prefecture, 都道府県の未婚人口, prefecture, 10101), dtype: object\n",
            "{'statsDataId': '0000010101', 'cdCat01': 'A1601011,A1601012,A1601021,A1601022,A1601031,A1601032,A1601041,A1601042,A1601051,A1601052,A1601061,A1601062,A1601071,A1601072,A1601081,A1601082,A1601091,A1601092,A1601101,A1601102,A1601111,A1601112,A1601121,A1601122,A1601131,A1601132,A1601141,A1601142,A1601151,A1601152'}\n"
          ]
        }
      ]
    }
  ],
  "metadata": {
    "colab": {
      "collapsed_sections": [],
      "toc_visible": true,
      "provenance": []
    },
    "kernelspec": {
      "display_name": "Python 3",
      "name": "python3"
    },
    "gpuClass": "standard"
  },
  "nbformat": 4,
  "nbformat_minor": 0
}