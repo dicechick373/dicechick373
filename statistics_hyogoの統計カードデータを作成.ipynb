{
  "cells": [
    {
      "cell_type": "markdown",
      "metadata": {
        "id": "inrYQThZlUDa"
      },
      "source": [
        "# 実行環境の作成"
      ]
    },
    {
      "cell_type": "markdown",
      "source": [
        "## Google Drive"
      ],
      "metadata": {
        "id": "uE_OCx7vVWhj"
      }
    },
    {
      "cell_type": "markdown",
      "source": [
        "Google Driveをマウント"
      ],
      "metadata": {
        "id": "kHc6WsJkUqvx"
      }
    },
    {
      "cell_type": "code",
      "source": [
        "from google.colab import drive\n",
        "drive.mount('/content/drive')"
      ],
      "metadata": {
        "id": "DeythyREUwXk",
        "outputId": "6102fa06-c05b-4266-e3b6-f294d8b23e3e",
        "colab": {
          "base_uri": "https://localhost:8080/"
        }
      },
      "execution_count": 2,
      "outputs": [
        {
          "output_type": "stream",
          "name": "stdout",
          "text": [
            "Mounted at /content/drive\n"
          ]
        }
      ]
    },
    {
      "cell_type": "markdown",
      "source": [
        "## Google Sheets"
      ],
      "metadata": {
        "id": "rc5jeElrVc2j"
      }
    },
    {
      "cell_type": "markdown",
      "source": [
        "ライブラリのインストール"
      ],
      "metadata": {
        "id": "CaxFFxxGVbj7"
      }
    },
    {
      "cell_type": "code",
      "source": [
        "!pip install --upgrade -q gspread"
      ],
      "metadata": {
        "id": "ySMOqC5VVlIV"
      },
      "execution_count": 3,
      "outputs": []
    },
    {
      "cell_type": "markdown",
      "source": [
        "Google Sheetsの認証"
      ],
      "metadata": {
        "id": "wvyybj9YVti6"
      }
    },
    {
      "cell_type": "code",
      "source": [
        "from google.colab import auth\n",
        "from google.auth import default\n",
        "import gspread\n",
        "\n",
        "auth.authenticate_user()\n",
        "creds, _ = default()\n",
        "gc = gspread.authorize(creds)"
      ],
      "metadata": {
        "id": "pdWWV-ywV108"
      },
      "execution_count": 4,
      "outputs": []
    },
    {
      "cell_type": "markdown",
      "metadata": {
        "id": "BDMnnS3RVrkF"
      },
      "source": [
        "## Google Cloud Storage"
      ]
    },
    {
      "cell_type": "markdown",
      "metadata": {
        "id": "SsgiSjKhV2D7"
      },
      "source": [
        "下記コードでGCPに接続"
      ]
    },
    {
      "cell_type": "code",
      "execution_count": 5,
      "metadata": {
        "id": "GKiUkM7SV0bY"
      },
      "outputs": [],
      "source": [
        "from google.colab import auth\n",
        "auth.authenticate_user()"
      ]
    },
    {
      "cell_type": "markdown",
      "metadata": {
        "id": "KP4JP4ouV6QS"
      },
      "source": [
        "認証に成功したらgcsfuseをインストール"
      ]
    },
    {
      "cell_type": "code",
      "execution_count": null,
      "metadata": {
        "id": "d1D5UagbV9A4"
      },
      "outputs": [],
      "source": [
        "!echo \"deb http://packages.cloud.google.com/apt gcsfuse-`lsb_release -c -s` main\" | sudo tee /etc/apt/sources.list.d/gcsfuse.list\n",
        "!curl https://packages.cloud.google.com/apt/doc/apt-key.gpg | sudo apt-key add -\n",
        "!apt-get -y -q update\n",
        "!apt-get -y -q install gcsfuse"
      ]
    },
    {
      "cell_type": "markdown",
      "metadata": {
        "id": "QUUcFp5LWR6s"
      },
      "source": [
        "バケット「statistics-hyogo」をディレクトリ「statistics-hyogo」にマウント"
      ]
    },
    {
      "cell_type": "code",
      "execution_count": null,
      "metadata": {
        "id": "vw-vsTVGWIfp"
      },
      "outputs": [],
      "source": [
        "! mkdir -p statistics-hyogo\n",
        "! gcsfuse --implicit-dirs --limit-bytes-per-sec -1 --limit-ops-per-sec -1 statistics-hyogo statistics-hyogo"
      ]
    },
    {
      "cell_type": "markdown",
      "metadata": {
        "id": "YZ-rxUoLTevY"
      },
      "source": [
        "## ESTAT_APP_ID"
      ]
    },
    {
      "cell_type": "code",
      "execution_count": 8,
      "metadata": {
        "id": "wMa4y4oXJYdw"
      },
      "outputs": [],
      "source": [
        "ESTAT_APPID = '724e5b90772a3e9289f41a253e4e7e32438f4fff'"
      ]
    },
    {
      "cell_type": "markdown",
      "metadata": {
        "id": "rv4FGegQaZtc"
      },
      "source": [
        "## pythonのライブラリ追加"
      ]
    },
    {
      "cell_type": "code",
      "execution_count": 9,
      "metadata": {
        "id": "eIB9NAJdalZT"
      },
      "outputs": [],
      "source": [
        "import urllib.parse\n",
        "import urllib.request\n",
        "import json\n",
        "import pandas as pd"
      ]
    },
    {
      "cell_type": "markdown",
      "metadata": {
        "id": "8AQDQmu5ZIVE"
      },
      "source": [
        "# 統計カード管理情報を取得・加工"
      ]
    },
    {
      "cell_type": "markdown",
      "metadata": {
        "id": "PhlM2YQEiR8v"
      },
      "source": [
        "## BigQueryから統計カード管理情報を読み込む"
      ]
    },
    {
      "cell_type": "markdown",
      "metadata": {
        "id": "4xCBjZWrm1q6"
      },
      "source": [
        "pandas-gbqのインストール"
      ]
    },
    {
      "cell_type": "code",
      "execution_count": null,
      "metadata": {
        "id": "BTNDa8fdoChJ"
      },
      "outputs": [],
      "source": [
        "!pip install pandas-gbq"
      ]
    },
    {
      "cell_type": "markdown",
      "metadata": {
        "id": "AaeHY0RDoO0F"
      },
      "source": [
        "BigQueryをDataFrameで取得"
      ]
    },
    {
      "cell_type": "code",
      "execution_count": 11,
      "metadata": {
        "id": "wq0R92xDoKmF"
      },
      "outputs": [],
      "source": [
        "def get_cards_management_dataframe():\n",
        "  # プロジェクトの定義\n",
        "  project_id='primal-buttress-342908'\n",
        "  dataset_id = 'contents'\n",
        "  table_id='cards'\n",
        "\n",
        "  # クエリ\n",
        "  query = f\"\"\"\n",
        "  SELECT *\n",
        "  FROM {dataset_id}.{table_id}\n",
        "  \"\"\"\n",
        "\n",
        "  # dialect='standard' で標準SQLを使用\n",
        "  df = pd.read_gbq(query, project_id, dialect='standard')\n",
        "\n",
        "  return df"
      ]
    },
    {
      "cell_type": "code",
      "execution_count": null,
      "metadata": {
        "id": "gxi804uTxoi1"
      },
      "outputs": [],
      "source": [
        "df_cardmng = get_cards_management_dataframe()\n",
        "df_cardmng"
      ]
    },
    {
      "cell_type": "markdown",
      "metadata": {
        "id": "TlhXGii4vhHh"
      },
      "source": [
        "## 統計カードリストの作成"
      ]
    },
    {
      "cell_type": "markdown",
      "metadata": {
        "id": "IYxQ-Md5ZU3P"
      },
      "source": [
        "統計カード（cardId,cardTitle)のリストを作成する"
      ]
    },
    {
      "cell_type": "code",
      "execution_count": 13,
      "metadata": {
        "id": "RS0kYP4dZUSU"
      },
      "outputs": [],
      "source": [
        "def get_cardliist(df_cardmng):\n",
        "  #  'cardId'の指定があるデータを抽出\n",
        "  df = df_cardmng.dropna(subset=['cardId'])\n",
        "  \n",
        "  # GroupBy\n",
        "  df = df.groupby(['cardId','cardTitle','governmentType','statsDataId']).agg(\n",
        "    {'categoryCode': lambda x: ','.join(x)\n",
        "    })\n",
        "  \n",
        "  return df"
      ]
    },
    {
      "cell_type": "code",
      "execution_count": 14,
      "metadata": {
        "id": "udDWOQ-zMH3G",
        "outputId": "35c93f66-53f6-4b2b-9e5b-368c1e4b2b31",
        "colab": {
          "base_uri": "https://localhost:8080/",
          "height": 457
        }
      },
      "outputs": [
        {
          "output_type": "execute_result",
          "data": {
            "text/plain": [
              "                                                                                                                categoryCode\n",
              "cardId                             cardTitle   governmentType statsDataId                                                   \n",
              "divorce-city                       市区町村の離婚件数   city           20201                                                    A9201\n",
              "divorce-prefecture                 都道府県の離婚件数   prefecture     10101                                                    A9201\n",
              "first-marriage-age-prefecture      都道府県の平均初婚年齢 prefecture     10101                                              A9111,A9112\n",
              "household-prefecture               都道府県の一般世帯数  prefecture     10101                                                  A710101\n",
              "separated-prefecture               都道府県の離別人口   prefecture     10101        A1604011,A1604012,A1604021,A1604022,A1604031,A...\n",
              "single-mother-household-city       市区町村の母子世帯数  city           20201                            A8401,A840101,A840102,A840103\n",
              "single-mother-household-prefecture 都道府県の母子世帯数  prefecture     10101        A8401,A840101,A840102,A840103,A840201,A840202,...\n",
              "spouse-prefecture                  都道府県の有配偶人口  prefecture     10101        A1602021,A1602022,A1602031,A1602032,A1602041,A...\n",
              "standardized-mortality-prefecture  都道府県の標準化死亡率 prefecture     10101                                                    A4301\n",
              "total-population-city              市区町村の総人口    city           20201                                    A1101,A110101,A110102\n",
              "total-population-prefecture        都道府県の総人口    prefecture     10101                                    A1101,A110101,A110102\n",
              "unmarried-prefecture               都道府県の未婚人口   prefecture     10101        A1601011,A1601012,A1601021,A1601022,A1601031,A..."
            ],
            "text/html": [
              "\n",
              "  <div id=\"df-6aa07c00-888c-4434-b3f9-a729570e6125\">\n",
              "    <div class=\"colab-df-container\">\n",
              "      <div>\n",
              "<style scoped>\n",
              "    .dataframe tbody tr th:only-of-type {\n",
              "        vertical-align: middle;\n",
              "    }\n",
              "\n",
              "    .dataframe tbody tr th {\n",
              "        vertical-align: top;\n",
              "    }\n",
              "\n",
              "    .dataframe thead th {\n",
              "        text-align: right;\n",
              "    }\n",
              "</style>\n",
              "<table border=\"1\" class=\"dataframe\">\n",
              "  <thead>\n",
              "    <tr style=\"text-align: right;\">\n",
              "      <th></th>\n",
              "      <th></th>\n",
              "      <th></th>\n",
              "      <th></th>\n",
              "      <th>categoryCode</th>\n",
              "    </tr>\n",
              "    <tr>\n",
              "      <th>cardId</th>\n",
              "      <th>cardTitle</th>\n",
              "      <th>governmentType</th>\n",
              "      <th>statsDataId</th>\n",
              "      <th></th>\n",
              "    </tr>\n",
              "  </thead>\n",
              "  <tbody>\n",
              "    <tr>\n",
              "      <th>divorce-city</th>\n",
              "      <th>市区町村の離婚件数</th>\n",
              "      <th>city</th>\n",
              "      <th>20201</th>\n",
              "      <td>A9201</td>\n",
              "    </tr>\n",
              "    <tr>\n",
              "      <th>divorce-prefecture</th>\n",
              "      <th>都道府県の離婚件数</th>\n",
              "      <th>prefecture</th>\n",
              "      <th>10101</th>\n",
              "      <td>A9201</td>\n",
              "    </tr>\n",
              "    <tr>\n",
              "      <th>first-marriage-age-prefecture</th>\n",
              "      <th>都道府県の平均初婚年齢</th>\n",
              "      <th>prefecture</th>\n",
              "      <th>10101</th>\n",
              "      <td>A9111,A9112</td>\n",
              "    </tr>\n",
              "    <tr>\n",
              "      <th>household-prefecture</th>\n",
              "      <th>都道府県の一般世帯数</th>\n",
              "      <th>prefecture</th>\n",
              "      <th>10101</th>\n",
              "      <td>A710101</td>\n",
              "    </tr>\n",
              "    <tr>\n",
              "      <th>separated-prefecture</th>\n",
              "      <th>都道府県の離別人口</th>\n",
              "      <th>prefecture</th>\n",
              "      <th>10101</th>\n",
              "      <td>A1604011,A1604012,A1604021,A1604022,A1604031,A...</td>\n",
              "    </tr>\n",
              "    <tr>\n",
              "      <th>single-mother-household-city</th>\n",
              "      <th>市区町村の母子世帯数</th>\n",
              "      <th>city</th>\n",
              "      <th>20201</th>\n",
              "      <td>A8401,A840101,A840102,A840103</td>\n",
              "    </tr>\n",
              "    <tr>\n",
              "      <th>single-mother-household-prefecture</th>\n",
              "      <th>都道府県の母子世帯数</th>\n",
              "      <th>prefecture</th>\n",
              "      <th>10101</th>\n",
              "      <td>A8401,A840101,A840102,A840103,A840201,A840202,...</td>\n",
              "    </tr>\n",
              "    <tr>\n",
              "      <th>spouse-prefecture</th>\n",
              "      <th>都道府県の有配偶人口</th>\n",
              "      <th>prefecture</th>\n",
              "      <th>10101</th>\n",
              "      <td>A1602021,A1602022,A1602031,A1602032,A1602041,A...</td>\n",
              "    </tr>\n",
              "    <tr>\n",
              "      <th>standardized-mortality-prefecture</th>\n",
              "      <th>都道府県の標準化死亡率</th>\n",
              "      <th>prefecture</th>\n",
              "      <th>10101</th>\n",
              "      <td>A4301</td>\n",
              "    </tr>\n",
              "    <tr>\n",
              "      <th>total-population-city</th>\n",
              "      <th>市区町村の総人口</th>\n",
              "      <th>city</th>\n",
              "      <th>20201</th>\n",
              "      <td>A1101,A110101,A110102</td>\n",
              "    </tr>\n",
              "    <tr>\n",
              "      <th>total-population-prefecture</th>\n",
              "      <th>都道府県の総人口</th>\n",
              "      <th>prefecture</th>\n",
              "      <th>10101</th>\n",
              "      <td>A1101,A110101,A110102</td>\n",
              "    </tr>\n",
              "    <tr>\n",
              "      <th>unmarried-prefecture</th>\n",
              "      <th>都道府県の未婚人口</th>\n",
              "      <th>prefecture</th>\n",
              "      <th>10101</th>\n",
              "      <td>A1601011,A1601012,A1601021,A1601022,A1601031,A...</td>\n",
              "    </tr>\n",
              "  </tbody>\n",
              "</table>\n",
              "</div>\n",
              "      <button class=\"colab-df-convert\" onclick=\"convertToInteractive('df-6aa07c00-888c-4434-b3f9-a729570e6125')\"\n",
              "              title=\"Convert this dataframe to an interactive table.\"\n",
              "              style=\"display:none;\">\n",
              "        \n",
              "  <svg xmlns=\"http://www.w3.org/2000/svg\" height=\"24px\"viewBox=\"0 0 24 24\"\n",
              "       width=\"24px\">\n",
              "    <path d=\"M0 0h24v24H0V0z\" fill=\"none\"/>\n",
              "    <path d=\"M18.56 5.44l.94 2.06.94-2.06 2.06-.94-2.06-.94-.94-2.06-.94 2.06-2.06.94zm-11 1L8.5 8.5l.94-2.06 2.06-.94-2.06-.94L8.5 2.5l-.94 2.06-2.06.94zm10 10l.94 2.06.94-2.06 2.06-.94-2.06-.94-.94-2.06-.94 2.06-2.06.94z\"/><path d=\"M17.41 7.96l-1.37-1.37c-.4-.4-.92-.59-1.43-.59-.52 0-1.04.2-1.43.59L10.3 9.45l-7.72 7.72c-.78.78-.78 2.05 0 2.83L4 21.41c.39.39.9.59 1.41.59.51 0 1.02-.2 1.41-.59l7.78-7.78 2.81-2.81c.8-.78.8-2.07 0-2.86zM5.41 20L4 18.59l7.72-7.72 1.47 1.35L5.41 20z\"/>\n",
              "  </svg>\n",
              "      </button>\n",
              "      \n",
              "  <style>\n",
              "    .colab-df-container {\n",
              "      display:flex;\n",
              "      flex-wrap:wrap;\n",
              "      gap: 12px;\n",
              "    }\n",
              "\n",
              "    .colab-df-convert {\n",
              "      background-color: #E8F0FE;\n",
              "      border: none;\n",
              "      border-radius: 50%;\n",
              "      cursor: pointer;\n",
              "      display: none;\n",
              "      fill: #1967D2;\n",
              "      height: 32px;\n",
              "      padding: 0 0 0 0;\n",
              "      width: 32px;\n",
              "    }\n",
              "\n",
              "    .colab-df-convert:hover {\n",
              "      background-color: #E2EBFA;\n",
              "      box-shadow: 0px 1px 2px rgba(60, 64, 67, 0.3), 0px 1px 3px 1px rgba(60, 64, 67, 0.15);\n",
              "      fill: #174EA6;\n",
              "    }\n",
              "\n",
              "    [theme=dark] .colab-df-convert {\n",
              "      background-color: #3B4455;\n",
              "      fill: #D2E3FC;\n",
              "    }\n",
              "\n",
              "    [theme=dark] .colab-df-convert:hover {\n",
              "      background-color: #434B5C;\n",
              "      box-shadow: 0px 1px 3px 1px rgba(0, 0, 0, 0.15);\n",
              "      filter: drop-shadow(0px 1px 2px rgba(0, 0, 0, 0.3));\n",
              "      fill: #FFFFFF;\n",
              "    }\n",
              "  </style>\n",
              "\n",
              "      <script>\n",
              "        const buttonEl =\n",
              "          document.querySelector('#df-6aa07c00-888c-4434-b3f9-a729570e6125 button.colab-df-convert');\n",
              "        buttonEl.style.display =\n",
              "          google.colab.kernel.accessAllowed ? 'block' : 'none';\n",
              "\n",
              "        async function convertToInteractive(key) {\n",
              "          const element = document.querySelector('#df-6aa07c00-888c-4434-b3f9-a729570e6125');\n",
              "          const dataTable =\n",
              "            await google.colab.kernel.invokeFunction('convertToInteractive',\n",
              "                                                     [key], {});\n",
              "          if (!dataTable) return;\n",
              "\n",
              "          const docLinkHtml = 'Like what you see? Visit the ' +\n",
              "            '<a target=\"_blank\" href=https://colab.research.google.com/notebooks/data_table.ipynb>data table notebook</a>'\n",
              "            + ' to learn more about interactive tables.';\n",
              "          element.innerHTML = '';\n",
              "          dataTable['output_type'] = 'display_data';\n",
              "          await google.colab.output.renderOutput(dataTable, element);\n",
              "          const docLink = document.createElement('div');\n",
              "          docLink.innerHTML = docLinkHtml;\n",
              "          element.appendChild(docLink);\n",
              "        }\n",
              "      </script>\n",
              "    </div>\n",
              "  </div>\n",
              "  "
            ]
          },
          "metadata": {},
          "execution_count": 14
        }
      ],
      "source": [
        "df_cardlist = get_cardliist(df_cardmng)\n",
        "df_cardlist"
      ]
    },
    {
      "cell_type": "markdown",
      "metadata": {
        "id": "428I_VMlmF2R"
      },
      "source": [
        "# 統計カードのデータセット"
      ]
    },
    {
      "cell_type": "markdown",
      "metadata": {
        "id": "W2ByC1cjNSQw"
      },
      "source": [
        "## 地域コード一覧"
      ]
    },
    {
      "cell_type": "code",
      "execution_count": 15,
      "metadata": {
        "id": "XoYdUMifTHOQ"
      },
      "outputs": [],
      "source": [
        "RESAS_API_KEY = '\t02JYzLqUOfTNVfiTWjLlR2g0YwEQPQ7caYxcnZaZ'"
      ]
    },
    {
      "cell_type": "markdown",
      "metadata": {
        "id": "iTKyKuwFNDZ_"
      },
      "source": [
        "都道府県一覧"
      ]
    },
    {
      "cell_type": "code",
      "execution_count": 16,
      "metadata": {
        "id": "fl33E501NCwk"
      },
      "outputs": [],
      "source": [
        "import json\n",
        "import urllib.request\n",
        "\n",
        "def get_resas_preflist():\n",
        "    url = 'https://opendata.resas-portal.go.jp/api/v1/prefectures'\n",
        "    req = urllib.request.Request(url, headers={'X-API-KEY': RESAS_API_KEY})\n",
        "    with urllib.request.urlopen(req) as response:\n",
        "        res = json.loads(response.read().decode())\n",
        "    return res['result']"
      ]
    },
    {
      "cell_type": "markdown",
      "metadata": {
        "id": "JeVT0B7vN4su"
      },
      "source": [
        "市区町村一覧"
      ]
    },
    {
      "cell_type": "code",
      "execution_count": 17,
      "metadata": {
        "id": "KoBkIBJMN6KO"
      },
      "outputs": [],
      "source": [
        "import json\n",
        "import urllib.request\n",
        "\n",
        "def get_resas_citylist(prefCode=0,designatedCity='all'):\n",
        "  \n",
        "    # 都道府県'prefCode'を指定\n",
        "    # 0の場合は全都道府県の市区町村\n",
        "    if prefCode == 0:\n",
        "      url = 'https://opendata.resas-portal.go.jp/api/v1/cities'\n",
        "    else:\n",
        "      url = 'https://opendata.resas-portal.go.jp/api/v1/cities?prefCode={}'.format(prefCode)\n",
        "    \n",
        "    req = urllib.request.Request(url, headers={'X-API-KEY': RESAS_API_KEY})\n",
        "    with urllib.request.urlopen(req) as response:\n",
        "        res = json.loads(response.read().decode())\n",
        "\n",
        "\n",
        "    # 政令指定都市　の指定　'join':政令指定都市統合　'split'：政令指定都市分割 'all'：全て\n",
        "    if designatedCity == 'join':\n",
        "      return list(filter(lambda x: x['bigCityFlag'] != '1', res['result']))\n",
        "    elif designatedCity == 'split':\n",
        "      return list(filter(lambda x: x['bigCityFlag'] != '2', res['result']))\n",
        "    else:\n",
        "      return res['result']"
      ]
    },
    {
      "cell_type": "markdown",
      "metadata": {
        "id": "LRzfLabUN95-"
      },
      "source": [
        "地域コード一覧を取得する関数"
      ]
    },
    {
      "cell_type": "code",
      "execution_count": 18,
      "metadata": {
        "id": "zkwlVgbHOAjH"
      },
      "outputs": [],
      "source": [
        "import json\n",
        "import urllib.request\n",
        "\n",
        "def generate_estat_areas(governmentType='prefecture',prefCode=0):\n",
        "\n",
        "  # 都道府県の場合\n",
        "  if governmentType == 'prefecture':\n",
        "    pref_codes = [d.get('prefCode') for d in get_resas_preflist()]\n",
        "    return [f'{n:02}'+'000' for n in pref_codes]\n",
        "  \n",
        "  # 市区町村の場合\n",
        "  else:\n",
        "    city_codes = [d.get('cityCode') for d in get_resas_citylist(prefCode)]\n",
        "    return city_codes"
      ]
    },
    {
      "cell_type": "markdown",
      "metadata": {
        "id": "fyaRyaYue9Rx"
      },
      "source": [
        "北海道の市区町村数が１００以上あるので分割する"
      ]
    },
    {
      "cell_type": "code",
      "execution_count": null,
      "metadata": {
        "id": "hZZIQ_-ZV_oG"
      },
      "outputs": [],
      "source": [
        "def generate_estat_city_areas():\n",
        "  prefCodes = [d.get('prefCode') for d in get_resas_preflist()]\n",
        "\n",
        "  res = []\n",
        "  for prefCode in prefCodes:\n",
        "    \n",
        "    city_codes = [d.get('cityCode') for d in get_resas_citylist(prefCode)]\n",
        "\n",
        "    # 北海道の場合\n",
        "    if prefCode == 1 :\n",
        "      dict1 = {\n",
        "          'prefCode': prefCode ,\n",
        "          'areaCodes':city_codes[:99],\n",
        "      }\n",
        "      dict2 = {\n",
        "          'prefCode': prefCode ,\n",
        "          'areaCodes':city_codes[99:],\n",
        "      }\n",
        "      res.append(dict1)\n",
        "      res.append(dict2)\n",
        "\n",
        "    # 北海道以外の場合\n",
        "    else:\n",
        "      dict = {\n",
        "          'prefCode': prefCode ,\n",
        "          'areaCodes':city_codes,\n",
        "      }\n",
        "      res.append(dict)\n",
        "  \n",
        "  return res"
      ]
    },
    {
      "cell_type": "markdown",
      "metadata": {
        "id": "srIcSw7DdcRG"
      },
      "source": [
        "## estat-APIのレスポンスをファイルに保存する関数"
      ]
    },
    {
      "cell_type": "code",
      "execution_count": 78,
      "metadata": {
        "id": "fVsHCjv-aUrD"
      },
      "outputs": [],
      "source": [
        "def get_estat_response(params):\n",
        "  p = params.copy()\n",
        "\n",
        "  # appId\n",
        "  p['appId'] = ESTAT_APPID\n",
        "  \n",
        "  # url生成\n",
        "  url = 'http://api.e-stat.go.jp/rest/2.1/app/json/getStatsData?'\n",
        "  url += urllib.parse.urlencode(p)\n",
        "\n",
        "  with urllib.request.urlopen(url) as response:\n",
        "    return json.loads(response.read().decode('utf-8'))"
      ]
    },
    {
      "cell_type": "code",
      "execution_count": 79,
      "metadata": {
        "id": "Q3K-_RTAad1s"
      },
      "outputs": [],
      "source": [
        "def conv_estat_response_to_dataframe(response):\n",
        "  # CLASS_INF\n",
        "  CLASS_OBJ = response['GET_STATS_DATA']['STATISTICAL_DATA']['CLASS_INF']['CLASS_OBJ']\n",
        "\n",
        "  # TABLE_INF\n",
        "  TABLE_INF = response['GET_STATS_DATA']['STATISTICAL_DATA']['TABLE_INF']\n",
        "\n",
        "  # VALUE\n",
        "  VALUE = response['GET_STATS_DATA']['STATISTICAL_DATA']['DATA_INF']['VALUE']\n",
        "\n",
        "  # VALUEをDataFrameに変換\n",
        "  df_res = pd.json_normalize(VALUE)\n",
        "\n",
        "  # CLASS_OBJのDataFrameを結合\n",
        "  for d in CLASS_OBJ :\n",
        "    # DataFrameに変換 '@code','@name'だけ抽出\n",
        "    df_class = pd.json_normalize(d['CLASS']) \n",
        "    df_class = df_class.copy()[['@code','@name']]\n",
        "\n",
        "    # @codeをキー名に変更 @nameをキー名＋'_name'に変更\n",
        "    key_name = '@{}'.format(d['@id'])\n",
        "    df_class = df_class.rename(columns={'@code':key_name,'@name': key_name+'_name'})\n",
        "\n",
        "    # DataFrameを結合\n",
        "    df_res = pd.merge(df_res, df_class, on=key_name, how='outer')\n",
        "\n",
        "  # 統計情報を追加\n",
        "  df_res['statsDataId'] = TABLE_INF['@id']\n",
        "  df_res['statsDataName'] = TABLE_INF['STAT_NAME']['$']\n",
        "  \n",
        "  return df_res"
      ]
    },
    {
      "cell_type": "code",
      "execution_count": 80,
      "metadata": {
        "id": "31BRHtg8aiD4"
      },
      "outputs": [],
      "source": [
        "def  format_estat_dataframe(df_arg):\n",
        "  # 必要な列だけ抽出\n",
        "  df_res =  df_arg[['statsDataId','statsDataName','@cat01','@cat01_name','@time','@time_name','@area','@area_name','$','@unit']]\n",
        "\n",
        "  # 列名の変更\n",
        "  columns = {'@cat01':'categoryCode','@cat01_name':'categoryName','@time':'timeCode','@time_name':'timeName','@area':'areaCode','@area_name':'areaName','$':'value','@unit':'unit'}\n",
        "  df_res = df_res.rename(columns=columns)\n",
        "\n",
        "  # 欠損データ削除\n",
        "  df_res = df_res.dropna()\n",
        "\n",
        "  # '-'を'0'に置換\n",
        "  df_res = df_res.replace('-', '0')\n",
        "\n",
        "  # categoryNameから不要な情報（categoryCode）を削除\n",
        "  df_res['categoryName'] = df_res.apply(lambda x: x['categoryName'].replace(x['categoryCode']+'_', ''), 1)\n",
        "\n",
        "  # timeCodeを文字列4桁に置換\n",
        "  df_res['timeCode'] = df_res.apply(lambda x: x['timeCode'][:4], 1)\n",
        "\n",
        "  return df_res"
      ]
    },
    {
      "cell_type": "code",
      "execution_count": 81,
      "metadata": {
        "id": "erOL_vEUalmk"
      },
      "outputs": [],
      "source": [
        "def format_estat_dataframe_withrank(df_arg):\n",
        "\n",
        "  # 年度リストを作成\n",
        "  times = df_arg['timeCode'].tolist()\n",
        "  times = list(set(times))\n",
        "\n",
        "  # 返却するDataFrameの定義\n",
        "  df_res = pd.DataFrame(index=[], columns=[])\n",
        "\n",
        "  # 年度毎に順位を付与\n",
        "  for time in times:\n",
        "\n",
        "    # 単年度のdataを抽出\n",
        "    df_time = df_arg.copy()[df_arg['timeCode'] == time]\n",
        "\n",
        "    # valueを数値に変換して、'rank'を付与\n",
        "    df_time = df_time.astype({'value': float})\n",
        "    df_time['rank'] = df_time.rank(ascending=False)['value'].astype(int).astype(str)\n",
        "\n",
        "    # 結合\n",
        "    df_res = pd.concat([df_res, df_time])\n",
        "    df_res = df_res.astype({'value': str})\n",
        "\n",
        "  return df_res"
      ]
    },
    {
      "cell_type": "code",
      "execution_count": null,
      "metadata": {
        "id": "Et7wfVLoa-fE"
      },
      "outputs": [],
      "source": [
        "def get_estat_dataframe(params):\n",
        "  # estat-APIのレスポンス取得\n",
        "  res = get_estat_response(params)\n",
        "  # print(res)\n",
        "\n",
        "  # レスポンスをDataFrameに変換\n",
        "  df = conv_estat_response_to_dataframe(res)\n",
        "\n",
        "  # DataFrameを整形\n",
        "  df = format_estat_dataframe(df)\n",
        "\n",
        "  # 順位を付与\n",
        "  df = format_estat_dataframe_withrank(df)\n",
        "\n",
        "  return df"
      ]
    },
    {
      "cell_type": "markdown",
      "metadata": {
        "id": "fHfHKgAXbC_a"
      },
      "source": [
        "## 繰り返し処理"
      ]
    },
    {
      "cell_type": "markdown",
      "source": [
        "estat-APIのパラメータ'cdArea'を作成する関数\n",
        "\n",
        "北海道は市区町村が100以上あるので、2つに分割する\n",
        "\n",
        "返却値はリスト"
      ],
      "metadata": {
        "id": "ztLP2J9Jpb56"
      }
    },
    {
      "cell_type": "code",
      "source": [
        "def set_estat_params_area(governmentType='prefecture',prefCode=0):\n",
        "\n",
        "  res=[]\n",
        "\n",
        "  # 都道府県\n",
        "  if governmentType == 'prefecture':\n",
        "    pref_codes = [d.get('prefCode') for d in get_resas_preflist()]\n",
        "    pref_codes = [str(prefCode).zfill(5) for n in pref_codes]\n",
        "\n",
        "    dic = {'cdArea':\",\".join(generate_estat_areas())}\n",
        "    res.append(dic)\n",
        "  \n",
        "  # 市区町村\n",
        "  if governmentType == 'city':\n",
        "    citylist = get_resas_citylist(prefCode=prefCode,designatedCity='all')\n",
        "    city_codes = [d.get('cityCode') for d in citylist]\n",
        "\n",
        "    # 市区町村が100以上ある場合\n",
        "    if len(city_codes) >= 100 :\n",
        "      for i in range(0, len(city_codes), 100):\n",
        "        dic = {'cdArea':\",\".join(city_codes[i: i+100])}\n",
        "        res.append(dic)\n",
        "\n",
        "    # 市区町村が100未満の場合\n",
        "    else:\n",
        "      dic = {'cdArea':\",\".join(city_codes)}\n",
        "      res.append(dic)\n",
        "\n",
        "  return res"
      ],
      "metadata": {
        "id": "u1P_eyeLnNEE"
      },
      "execution_count": 46,
      "outputs": []
    },
    {
      "cell_type": "code",
      "source": [
        "print(set_estat_params_area())\n",
        "print(set_estat_params_area(governmentType='city',prefCode=1))\n",
        "print(set_estat_params_area(governmentType='city',prefCode=28))"
      ],
      "metadata": {
        "id": "o5WDHrOgoaN5",
        "outputId": "a59051d8-cd9f-410d-8228-b91e97faa904",
        "colab": {
          "base_uri": "https://localhost:8080/"
        }
      },
      "execution_count": 49,
      "outputs": [
        {
          "output_type": "stream",
          "name": "stdout",
          "text": [
            "[{'cdArea': '01000,02000,03000,04000,05000,06000,07000,08000,09000,10000,11000,12000,13000,14000,15000,16000,17000,18000,19000,20000,21000,22000,23000,24000,25000,26000,27000,28000,29000,30000,31000,32000,33000,34000,35000,36000,37000,38000,39000,40000,41000,42000,43000,44000,45000,46000,47000'}]\n",
            "[{'cdArea': '01100,01101,01102,01103,01104,01105,01106,01107,01108,01109,01110,01202,01203,01204,01205,01206,01207,01208,01209,01210,01211,01212,01213,01214,01215,01216,01217,01218,01219,01220,01221,01222,01223,01224,01225,01226,01227,01228,01229,01230,01231,01233,01234,01235,01236,01303,01304,01331,01332,01333,01334,01337,01343,01345,01346,01347,01361,01362,01363,01364,01367,01370,01371,01391,01392,01393,01394,01395,01396,01397,01398,01399,01400,01401,01402,01403,01404,01405,01406,01407,01408,01409,01423,01424,01425,01427,01428,01429,01430,01431,01432,01433,01434,01436,01437,01438,01452,01453,01454,01455'}, {'cdArea': '01456,01457,01458,01459,01460,01461,01462,01463,01464,01465,01468,01469,01470,01471,01472,01481,01482,01483,01484,01485,01486,01487,01511,01512,01513,01514,01516,01517,01518,01519,01520,01543,01544,01545,01546,01547,01549,01550,01552,01555,01559,01560,01561,01562,01563,01564,01571,01575,01578,01581,01584,01585,01586,01601,01602,01604,01607,01608,01609,01610,01631,01632,01633,01634,01635,01636,01637,01638,01639,01641,01642,01643,01644,01645,01646,01647,01648,01649,01661,01662,01663,01664,01665,01667,01668,01691,01692,01693,01694,01695,01696,01697,01698,01699,01700'}]\n",
            "[{'cdArea': '28100,28101,28102,28105,28106,28107,28108,28109,28110,28111,28201,28202,28203,28204,28205,28206,28207,28208,28209,28210,28212,28213,28214,28215,28216,28217,28218,28219,28220,28221,28222,28223,28224,28225,28226,28227,28228,28229,28301,28365,28381,28382,28442,28443,28446,28464,28481,28501,28585,28586'}]\n"
          ]
        }
      ]
    },
    {
      "cell_type": "markdown",
      "metadata": {
        "id": "Zg5DDRDYZSYv"
      },
      "source": [
        "'path'と'params'のリストを作成する。\n",
        "'statsDataId'はdataframeからcsvコピーした際に数値に変換されてしまう。"
      ]
    },
    {
      "cell_type": "code",
      "execution_count": 75,
      "metadata": {
        "id": "d3T3G4fGQMdK"
      },
      "outputs": [],
      "source": [
        "def set_estat_params():\n",
        "  df_cardmng = get_cards_management_dataframe()\n",
        "  df_cardlist = get_cardliist(df_cardmng)\n",
        "  \n",
        "  res = []\n",
        "  for index, row in df_cardlist.iterrows():\n",
        "    # indexの取得\n",
        "    cardId = index[0]\n",
        "    governmentType = index[2]\n",
        "    statsDataId = index[3]\n",
        "\n",
        "    # 都道府県の場合\n",
        "    if governmentType == 'prefecture':\n",
        "\n",
        "      areas = set_estat_params_area(governmentType)\n",
        "\n",
        "      params = []\n",
        "      for area in areas:\n",
        "        area['statsDataId'] = statsDataId if type(statsDataId) == 'int' else str(statsDataId).zfill(10)\n",
        "        area['cdCat01'] = row['categoryCode']\n",
        "        params.append(area)\n",
        "\n",
        "      res.append({\n",
        "          'path' : 'statistics-hyogo/test/{}.json'.format(cardId),\n",
        "          'params' : params\n",
        "        })\n",
        "\n",
        "    # 市区町村の場合\n",
        "    if governmentType == 'city':\n",
        "\n",
        "      pref_codes = [d.get('prefCode') for d in get_resas_preflist()]\n",
        "\n",
        "      for pref_code in pref_codes:\n",
        "        areas = set_estat_params_area(governmentType,pref_code)\n",
        "        \n",
        "        params = []\n",
        "        for area in areas:\n",
        "          area['statsDataId'] = statsDataId if type(statsDataId) == 'int' else str(statsDataId).zfill(10)\n",
        "          area['cdCat01'] = row['categoryCode']\n",
        "          params.append(area)\n",
        "\n",
        "        res.append({\n",
        "            'path' : 'statistics-hyogo/test/{}.json_{}'.format(cardId,pref_code),\n",
        "            'params' : params\n",
        "          })\n",
        "\n",
        "  return res"
      ]
    },
    {
      "cell_type": "code",
      "execution_count": null,
      "metadata": {
        "id": "SsxEJV5oPqIM"
      },
      "outputs": [],
      "source": [
        "cards = set_estat_params()\n",
        "\n",
        "print(cards)"
      ]
    },
    {
      "cell_type": "markdown",
      "metadata": {
        "id": "8hM-wx8TVHmV"
      },
      "source": [
        "estat-APIのレスポンスを整形してファイルに保存"
      ]
    },
    {
      "cell_type": "code",
      "execution_count": null,
      "metadata": {
        "colab": {
          "base_uri": "https://localhost:8080/"
        },
        "id": "QwmhOxECbIRd",
        "outputId": "1807dae6-e8d2-4156-c465-4b9e542c81f7"
      },
      "outputs": [
        {
          "output_type": "stream",
          "name": "stdout",
          "text": [
            "0      1980\n",
            "1      1980\n",
            "2      1980\n",
            "3      1980\n",
            "4      1980\n",
            "       ... \n",
            "610    2020\n",
            "611    2020\n",
            "612    2020\n",
            "613    2020\n",
            "614    2020\n",
            "Name: timeCode, Length: 615, dtype: object\n",
            "0      1980\n",
            "1      1980\n",
            "2      1980\n",
            "3      1980\n",
            "4      1980\n",
            "       ... \n",
            "774    2020\n",
            "775    2020\n",
            "776    2020\n",
            "777    2020\n",
            "778    2020\n",
            "Name: timeCode, Length: 779, dtype: object\n",
            "0      1980\n",
            "1      1980\n",
            "2      1980\n",
            "3      1980\n",
            "4      1980\n",
            "       ... \n",
            "692    2020\n",
            "693    2020\n",
            "694    2020\n",
            "695    2020\n",
            "696    2020\n",
            "Name: timeCode, Length: 697, dtype: object\n",
            "0       1980\n",
            "1       1980\n",
            "2       1980\n",
            "3       1980\n",
            "4       1980\n",
            "        ... \n",
            "1102    2020\n",
            "1103    2020\n",
            "1104    2020\n",
            "1105    2020\n",
            "1106    2020\n",
            "Name: timeCode, Length: 1107, dtype: object\n",
            "0       1980\n",
            "1       1980\n",
            "2       1980\n",
            "3       1980\n",
            "4       1980\n",
            "        ... \n",
            "3152    2020\n",
            "3153    2020\n",
            "3154    2020\n",
            "3155    2020\n",
            "3156    2020\n",
            "Name: timeCode, Length: 3157, dtype: object\n",
            "0       1980\n",
            "1       1980\n",
            "2       1980\n",
            "3       1980\n",
            "4       1980\n",
            "        ... \n",
            "1717    2020\n",
            "1718    2020\n",
            "1719    2020\n",
            "1720    2020\n",
            "1721    2020\n",
            "Name: timeCode, Length: 1722, dtype: object\n"
          ]
        }
      ],
      "source": [
        "for card in cards:\n",
        "\n",
        "  # 保存先path\n",
        "  path = card['path']\n",
        "\n",
        "  df_res = pd.DataFrame(index=[], columns=[])\n",
        "  \n",
        "  for params in card['params'] :\n",
        "    res = get_estat_response(params)\n",
        "    # print(res)\n",
        "    df = conv_estat_response_to_dataframe(res)\n",
        "    # print(df)\n",
        "    df_res = pd.concat([df_res, df])\n",
        "  # print(df_res)\n",
        "  df = format_estat_dataframe(df_res)\n",
        "  \n",
        "  # df = format_estat_dataframe_withrank(df_res)  \n",
        "  print(df['timeCode'])\n",
        "\n",
        "\n",
        "  # jsonで保存\n",
        "  # res_json = df.reset_index().to_json(path,orient='records',force_ascii=False)"
      ]
    }
  ],
  "metadata": {
    "colab": {
      "collapsed_sections": [],
      "toc_visible": true,
      "provenance": []
    },
    "gpuClass": "standard",
    "kernelspec": {
      "display_name": "Python 3",
      "name": "python3"
    }
  },
  "nbformat": 4,
  "nbformat_minor": 0
}