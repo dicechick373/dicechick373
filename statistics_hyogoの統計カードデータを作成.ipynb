{
  "cells": [
    {
      "cell_type": "markdown",
      "metadata": {
        "id": "inrYQThZlUDa"
      },
      "source": [
        "# 実行環境の作成"
      ]
    },
    {
      "cell_type": "markdown",
      "source": [
        "## Google Drive"
      ],
      "metadata": {
        "id": "uE_OCx7vVWhj"
      }
    },
    {
      "cell_type": "markdown",
      "source": [
        "Google Driveをマウント"
      ],
      "metadata": {
        "id": "kHc6WsJkUqvx"
      }
    },
    {
      "cell_type": "code",
      "source": [
        "from google.colab import drive\n",
        "drive.mount('/content/drive')"
      ],
      "metadata": {
        "id": "DeythyREUwXk",
        "colab": {
          "base_uri": "https://localhost:8080/"
        },
        "outputId": "f2c5c086-6be2-4667-b048-38b41e3aa314"
      },
      "execution_count": 1,
      "outputs": [
        {
          "output_type": "stream",
          "name": "stdout",
          "text": [
            "Mounted at /content/drive\n"
          ]
        }
      ]
    },
    {
      "cell_type": "markdown",
      "source": [
        "## Google Sheets"
      ],
      "metadata": {
        "id": "rc5jeElrVc2j"
      }
    },
    {
      "cell_type": "markdown",
      "source": [
        "ライブラリのインストール"
      ],
      "metadata": {
        "id": "CaxFFxxGVbj7"
      }
    },
    {
      "cell_type": "code",
      "source": [
        "!pip install --upgrade -q gspread"
      ],
      "metadata": {
        "id": "ySMOqC5VVlIV"
      },
      "execution_count": 2,
      "outputs": []
    },
    {
      "cell_type": "markdown",
      "source": [
        "Google Sheetsの認証"
      ],
      "metadata": {
        "id": "wvyybj9YVti6"
      }
    },
    {
      "cell_type": "code",
      "source": [
        "from google.colab import auth\n",
        "from google.auth import default\n",
        "import gspread\n",
        "\n",
        "auth.authenticate_user()\n",
        "creds, _ = default()\n",
        "gc = gspread.authorize(creds)"
      ],
      "metadata": {
        "id": "pdWWV-ywV108"
      },
      "execution_count": 3,
      "outputs": []
    },
    {
      "cell_type": "markdown",
      "metadata": {
        "id": "BDMnnS3RVrkF"
      },
      "source": [
        "## Google Cloud Storage"
      ]
    },
    {
      "cell_type": "markdown",
      "metadata": {
        "id": "SsgiSjKhV2D7"
      },
      "source": [
        "下記コードでGCPに接続"
      ]
    },
    {
      "cell_type": "code",
      "execution_count": 4,
      "metadata": {
        "id": "GKiUkM7SV0bY"
      },
      "outputs": [],
      "source": [
        "from google.colab import auth\n",
        "auth.authenticate_user()"
      ]
    },
    {
      "cell_type": "markdown",
      "metadata": {
        "id": "KP4JP4ouV6QS"
      },
      "source": [
        "認証に成功したらgcsfuseをインストール"
      ]
    },
    {
      "cell_type": "code",
      "execution_count": 5,
      "metadata": {
        "id": "d1D5UagbV9A4",
        "outputId": "3fbf1c02-f253-4e7e-8cf8-95f7a4014512",
        "colab": {
          "base_uri": "https://localhost:8080/"
        }
      },
      "outputs": [
        {
          "output_type": "stream",
          "name": "stdout",
          "text": [
            "deb http://packages.cloud.google.com/apt gcsfuse-bionic main\n",
            "  % Total    % Received % Xferd  Average Speed   Time    Time     Time  Current\n",
            "                                 Dload  Upload   Total   Spent    Left  Speed\n",
            "100  2537  100  2537    0     0  70472      0 --:--:-- --:--:-- --:--:-- 70472\n",
            "OK\n",
            "Ign:1 https://developer.download.nvidia.com/compute/machine-learning/repos/ubuntu1804/x86_64  InRelease\n",
            "Get:2 https://developer.download.nvidia.com/compute/cuda/repos/ubuntu1804/x86_64  InRelease [1,581 B]\n",
            "Get:3 https://cloud.r-project.org/bin/linux/ubuntu bionic-cran40/ InRelease [3,626 B]\n",
            "Get:4 http://packages.cloud.google.com/apt gcsfuse-bionic InRelease [5,391 B]\n",
            "Hit:5 https://developer.download.nvidia.com/compute/machine-learning/repos/ubuntu1804/x86_64  Release\n",
            "Get:6 https://developer.download.nvidia.com/compute/cuda/repos/ubuntu1804/x86_64  Packages [913 kB]\n",
            "Hit:7 http://ppa.launchpad.net/c2d4u.team/c2d4u4.0+/ubuntu bionic InRelease\n",
            "Get:8 http://security.ubuntu.com/ubuntu bionic-security InRelease [88.7 kB]\n",
            "Hit:9 http://archive.ubuntu.com/ubuntu bionic InRelease\n",
            "Hit:10 http://ppa.launchpad.net/cran/libgit2/ubuntu bionic InRelease\n",
            "Get:11 http://archive.ubuntu.com/ubuntu bionic-updates InRelease [88.7 kB]\n",
            "Get:12 http://packages.cloud.google.com/apt gcsfuse-bionic/main amd64 Packages [1,511 B]\n",
            "Hit:13 http://ppa.launchpad.net/deadsnakes/ppa/ubuntu bionic InRelease\n",
            "Get:15 http://archive.ubuntu.com/ubuntu bionic-backports InRelease [83.3 kB]\n",
            "Get:16 http://ppa.launchpad.net/graphics-drivers/ppa/ubuntu bionic InRelease [21.3 kB]\n",
            "Get:17 http://security.ubuntu.com/ubuntu bionic-security/universe amd64 Packages [1,546 kB]\n",
            "Get:18 http://archive.ubuntu.com/ubuntu bionic-updates/universe amd64 Packages [2,323 kB]\n",
            "Get:19 http://security.ubuntu.com/ubuntu bionic-security/main amd64 Packages [2,990 kB]\n",
            "Get:20 http://ppa.launchpad.net/graphics-drivers/ppa/ubuntu bionic/main amd64 Packages [48.3 kB]\n",
            "Get:21 http://archive.ubuntu.com/ubuntu bionic-updates/main amd64 Packages [3,422 kB]\n",
            "Fetched 11.5 MB in 4s (3,105 kB/s)\n",
            "Reading package lists...\n",
            "Reading package lists...\n",
            "Building dependency tree...\n",
            "Reading state information...\n",
            "The following package was automatically installed and is no longer required:\n",
            "  libnvidia-common-460\n",
            "Use 'apt autoremove' to remove it.\n",
            "The following NEW packages will be installed:\n",
            "  gcsfuse\n",
            "0 upgraded, 1 newly installed, 0 to remove and 20 not upgraded.\n",
            "Need to get 12.1 MB of archives.\n",
            "After this operation, 27.6 MB of additional disk space will be used.\n",
            "Get:1 http://packages.cloud.google.com/apt gcsfuse-bionic/main amd64 gcsfuse amd64 0.41.7 [12.1 MB]\n",
            "Fetched 12.1 MB in 0s (26.0 MB/s)\n",
            "Selecting previously unselected package gcsfuse.\n",
            "(Reading database ... 159447 files and directories currently installed.)\n",
            "Preparing to unpack .../gcsfuse_0.41.7_amd64.deb ...\n",
            "Unpacking gcsfuse (0.41.7) ...\n",
            "Setting up gcsfuse (0.41.7) ...\n"
          ]
        }
      ],
      "source": [
        "!echo \"deb http://packages.cloud.google.com/apt gcsfuse-`lsb_release -c -s` main\" | sudo tee /etc/apt/sources.list.d/gcsfuse.list\n",
        "!curl https://packages.cloud.google.com/apt/doc/apt-key.gpg | sudo apt-key add -\n",
        "!apt-get -y -q update\n",
        "!apt-get -y -q install gcsfuse"
      ]
    },
    {
      "cell_type": "markdown",
      "metadata": {
        "id": "QUUcFp5LWR6s"
      },
      "source": [
        "バケット「statistics-hyogo」をディレクトリ「statistics-hyogo」にマウント"
      ]
    },
    {
      "cell_type": "code",
      "execution_count": 6,
      "metadata": {
        "id": "vw-vsTVGWIfp",
        "outputId": "a7edb0f3-0f6e-45a0-f938-7d86d3876bc6",
        "colab": {
          "base_uri": "https://localhost:8080/"
        }
      },
      "outputs": [
        {
          "output_type": "stream",
          "name": "stdout",
          "text": [
            "2022/09/30 02:14:49.264283 Start gcsfuse/0.41.7 (Go version go1.18.4) for app \"\" using mount point: /content/statistics-hyogo\n",
            "2022/09/30 02:14:49.281752 Opening GCS connection...\n",
            "2022/09/30 02:14:50.601386 Mounting file system \"statistics-hyogo\"...\n",
            "2022/09/30 02:14:50.602274 File system has been successfully mounted.\n"
          ]
        }
      ],
      "source": [
        "! mkdir -p statistics-hyogo\n",
        "! gcsfuse --implicit-dirs --limit-bytes-per-sec -1 --limit-ops-per-sec -1 statistics-hyogo statistics-hyogo"
      ]
    },
    {
      "cell_type": "markdown",
      "metadata": {
        "id": "YZ-rxUoLTevY"
      },
      "source": [
        "## ESTAT_APP_ID"
      ]
    },
    {
      "cell_type": "code",
      "execution_count": 7,
      "metadata": {
        "id": "wMa4y4oXJYdw"
      },
      "outputs": [],
      "source": [
        "ESTAT_APPID = '724e5b90772a3e9289f41a253e4e7e32438f4fff'"
      ]
    },
    {
      "cell_type": "markdown",
      "metadata": {
        "id": "rv4FGegQaZtc"
      },
      "source": [
        "## pythonのライブラリ追加"
      ]
    },
    {
      "cell_type": "code",
      "execution_count": 8,
      "metadata": {
        "id": "eIB9NAJdalZT"
      },
      "outputs": [],
      "source": [
        "import urllib.parse\n",
        "import urllib.request\n",
        "import json\n",
        "import pandas as pd"
      ]
    },
    {
      "cell_type": "markdown",
      "metadata": {
        "id": "428I_VMlmF2R"
      },
      "source": [
        "# 統計カードのデータセット"
      ]
    },
    {
      "cell_type": "markdown",
      "metadata": {
        "id": "W2ByC1cjNSQw"
      },
      "source": [
        "## RESAS_API_KEY"
      ]
    },
    {
      "cell_type": "code",
      "execution_count": 14,
      "metadata": {
        "id": "XoYdUMifTHOQ"
      },
      "outputs": [],
      "source": [
        "RESAS_API_KEY = '\t02JYzLqUOfTNVfiTWjLlR2g0YwEQPQ7caYxcnZaZ'"
      ]
    },
    {
      "cell_type": "markdown",
      "source": [
        "## 都道府県コードリスト"
      ],
      "metadata": {
        "id": "N1LPP5AKUMpi"
      }
    },
    {
      "cell_type": "markdown",
      "source": [
        "resas-APIから都道府県一覧を取得する"
      ],
      "metadata": {
        "id": "HIMv-4X-UsUm"
      }
    },
    {
      "cell_type": "code",
      "execution_count": 15,
      "metadata": {
        "id": "fl33E501NCwk"
      },
      "outputs": [],
      "source": [
        "\"\"\"\n",
        "resas-APIから都道府県一覧を取得する関数\n",
        "\"\"\"\n",
        "\n",
        "def get_resas_preflist():\n",
        "    url = 'https://opendata.resas-portal.go.jp/api/v1/prefectures'\n",
        "    req = urllib.request.Request(url, headers={'X-API-KEY': RESAS_API_KEY})\n",
        "    with urllib.request.urlopen(req) as response:\n",
        "        res = json.loads(response.read().decode())\n",
        "    return res['result']"
      ]
    },
    {
      "cell_type": "markdown",
      "source": [
        "estat-APIのリクエストパラメータ'cdArea'に都道府県コードをセットする\n",
        "\n",
        "返却値はリスト"
      ],
      "metadata": {
        "id": "2u_CHuqwWHNf"
      }
    },
    {
      "cell_type": "code",
      "source": [
        "\"\"\"\n",
        "estat-APIのパラメータ'cdArea'に都道府県コードをセットする関数\n",
        "\"\"\"\n",
        "\n",
        "def get_cdAreas_prefecture():\n",
        "\n",
        "  pref_codes = [d.get('prefCode') for d in get_resas_preflist()]\n",
        "  pref_codes = [str(c).zfill(5) for c in pref_codes]\n",
        "\n",
        "  res = [{'cdArea':\",\".join(pref_codes)}]\n",
        "  \n",
        "  return res"
      ],
      "metadata": {
        "id": "ct6HPVV2TCei"
      },
      "execution_count": 26,
      "outputs": []
    },
    {
      "cell_type": "code",
      "source": [
        "cdArea = get_cdAreas_prefecture()\n",
        "print(cdArea)"
      ],
      "metadata": {
        "id": "VO1thTIwT5r_",
        "outputId": "46d5c470-d8b2-49d5-b220-1bd3fde403ac",
        "colab": {
          "base_uri": "https://localhost:8080/"
        }
      },
      "execution_count": 27,
      "outputs": [
        {
          "output_type": "stream",
          "name": "stdout",
          "text": [
            "[{'cdArea': '00001,00002,00003,00004,00005,00006,00007,00008,00009,00010,00011,00012,00013,00014,00015,00016,00017,00018,00019,00020,00021,00022,00023,00024,00025,00026,00027,00028,00029,00030,00031,00032,00033,00034,00035,00036,00037,00038,00039,00040,00041,00042,00043,00044,00045,00046,00047'}]\n"
          ]
        }
      ]
    },
    {
      "cell_type": "markdown",
      "source": [
        "## 市区町村コードリスト"
      ],
      "metadata": {
        "id": "OAIsB4p6Vh2_"
      }
    },
    {
      "cell_type": "markdown",
      "source": [
        "resas-APIから市区町村一覧を取得する"
      ],
      "metadata": {
        "id": "7XU5ZUmCVvNV"
      }
    },
    {
      "cell_type": "code",
      "execution_count": 16,
      "metadata": {
        "id": "KoBkIBJMN6KO"
      },
      "outputs": [],
      "source": [
        "\"\"\"\n",
        "resas-APIから市区町村一覧を取得する関数\n",
        "\"\"\"\n",
        "\n",
        "def get_resas_citylist(prefCode=0,designatedCity='all'):\n",
        "  \n",
        "    # 都道府県'prefCode'を指定\n",
        "    # 0の場合は全都道府県の市区町村\n",
        "    if prefCode == 0:\n",
        "      url = 'https://opendata.resas-portal.go.jp/api/v1/cities'\n",
        "    else:\n",
        "      url = 'https://opendata.resas-portal.go.jp/api/v1/cities?prefCode={}'.format(prefCode)\n",
        "    \n",
        "    req = urllib.request.Request(url, headers={'X-API-KEY': RESAS_API_KEY})\n",
        "    with urllib.request.urlopen(req) as response:\n",
        "        res = json.loads(response.read().decode())\n",
        "\n",
        "\n",
        "    # 政令指定都市の指定　'join':政令指定都市統合　'split'：政令指定都市分割 'all'：全て\n",
        "    if designatedCity == 'join':\n",
        "      return list(filter(lambda x: x['bigCityFlag'] != '1', res['result']))\n",
        "    elif designatedCity == 'split':\n",
        "      return list(filter(lambda x: x['bigCityFlag'] != '2', res['result']))\n",
        "    else:\n",
        "      return res['result']"
      ]
    },
    {
      "cell_type": "markdown",
      "source": [
        "estat-APIのリクエストパラメータ'cdArea'に市区町村コードをセットする\n",
        "\n",
        "返却値はリスト"
      ],
      "metadata": {
        "id": "tTRiQwosY-tO"
      }
    },
    {
      "cell_type": "code",
      "source": [
        "\"\"\"\n",
        "estat-APIのパラメータ'cdArea'に市区町村コードをセットする関数\n",
        "\"\"\"\n",
        "\n",
        "def get_cdAreas_city(prefCode=0):\n",
        "\n",
        "  res=[]\n",
        "\n",
        "  citylist = get_resas_citylist(prefCode=prefCode,designatedCity='all')\n",
        "  city_codes = [d.get('cityCode') for d in citylist]\n",
        "\n",
        "  # 市区町村が100以上ある場合\n",
        "  if len(city_codes) >= 100 :\n",
        "    for i in range(0, len(city_codes), 100):\n",
        "      dic = {'cdArea':\",\".join(city_codes[i: i+100])}\n",
        "      res.append(dic)\n",
        "\n",
        "  # 市区町村が100未満の場合\n",
        "  else:\n",
        "    dic = {'cdArea':\",\".join(city_codes)}\n",
        "    res.append(dic)\n",
        "\n",
        "  return res"
      ],
      "metadata": {
        "id": "ci71eeJAYw3J"
      },
      "execution_count": 17,
      "outputs": []
    },
    {
      "cell_type": "code",
      "source": [
        "cdArea = get_cdAreas_city()\n",
        "print(cdArea)\n",
        "print('要素数：' + str(len(cdArea)))"
      ],
      "metadata": {
        "id": "JBmaVaZAZXXF",
        "outputId": "5dfed02e-b9c4-4128-e7f8-7e2c5ef54a8c",
        "colab": {
          "base_uri": "https://localhost:8080/"
        }
      },
      "execution_count": 18,
      "outputs": [
        {
          "output_type": "stream",
          "name": "stdout",
          "text": [
            "[{'cdArea': '01100,01101,01102,01103,01104,01105,01106,01107,01108,01109,01110,01202,01203,01204,01205,01206,01207,01208,01209,01210,01211,01212,01213,01214,01215,01216,01217,01218,01219,01220,01221,01222,01223,01224,01225,01226,01227,01228,01229,01230,01231,01233,01234,01235,01236,01303,01304,01331,01332,01333,01334,01337,01343,01345,01346,01347,01361,01362,01363,01364,01367,01370,01371,01391,01392,01393,01394,01395,01396,01397,01398,01399,01400,01401,01402,01403,01404,01405,01406,01407,01408,01409,01423,01424,01425,01427,01428,01429,01430,01431,01432,01433,01434,01436,01437,01438,01452,01453,01454,01455'}, {'cdArea': '01456,01457,01458,01459,01460,01461,01462,01463,01464,01465,01468,01469,01470,01471,01472,01481,01482,01483,01484,01485,01486,01487,01511,01512,01513,01514,01516,01517,01518,01519,01520,01543,01544,01545,01546,01547,01549,01550,01552,01555,01559,01560,01561,01562,01563,01564,01571,01575,01578,01581,01584,01585,01586,01601,01602,01604,01607,01608,01609,01610,01631,01632,01633,01634,01635,01636,01637,01638,01639,01641,01642,01643,01644,01645,01646,01647,01648,01649,01661,01662,01663,01664,01665,01667,01668,01691,01692,01693,01694,01695,01696,01697,01698,01699,01700,02201,02202,02203,02204,02205'}, {'cdArea': '02206,02207,02208,02209,02210,02301,02303,02304,02307,02321,02323,02343,02361,02362,02367,02381,02384,02387,02401,02402,02405,02406,02408,02411,02412,02423,02424,02425,02426,02441,02442,02443,02445,02446,02450,03201,03202,03203,03205,03206,03207,03208,03209,03210,03211,03213,03214,03215,03216,03301,03302,03303,03321,03322,03366,03381,03402,03441,03461,03482,03483,03484,03485,03501,03503,03506,03507,03524,04100,04101,04102,04103,04104,04105,04202,04203,04205,04206,04207,04208,04209,04211,04212,04213,04214,04215,04216,04301,04302,04321,04322,04323,04324,04341,04361,04362,04401,04404,04406,04421'}, {'cdArea': '04422,04424,04444,04445,04501,04505,04581,04606,05201,05202,05203,05204,05206,05207,05209,05210,05211,05212,05213,05214,05215,05303,05327,05346,05348,05349,05361,05363,05366,05368,05434,05463,05464,06201,06202,06203,06204,06205,06206,06207,06208,06209,06210,06211,06212,06213,06301,06302,06321,06322,06323,06324,06341,06361,06362,06363,06364,06365,06366,06367,06381,06382,06401,06402,06403,06426,06428,06461,07201,07202,07203,07204,07205,07207,07208,07209,07210,07211,07212,07213,07214,07301,07303,07308,07322,07342,07344,07362,07364,07367,07368,07402,07405,07407,07408,07421,07422,07423,07444,07445'}, {'cdArea': '07446,07447,07461,07464,07465,07466,07481,07482,07483,07484,07501,07502,07503,07504,07505,07521,07522,07541,07542,07543,07544,07545,07546,07547,07548,07561,07564,08201,08202,08203,08204,08205,08207,08208,08210,08211,08212,08214,08215,08216,08217,08219,08220,08221,08222,08223,08224,08225,08226,08227,08228,08229,08230,08231,08232,08233,08234,08235,08236,08302,08309,08310,08341,08364,08442,08443,08447,08521,08542,08546,08564,09201,09202,09203,09204,09205,09206,09208,09209,09210,09211,09213,09214,09215,09216,09301,09342,09343,09344,09345,09361,09364,09384,09386,09407,09411,10201,10202,10203,10204'}, {'cdArea': '10205,10206,10207,10208,10209,10210,10211,10212,10344,10345,10366,10367,10382,10383,10384,10421,10424,10425,10426,10428,10429,10443,10444,10448,10449,10464,10521,10522,10523,10524,10525,11100,11101,11102,11103,11104,11105,11106,11107,11108,11109,11110,11201,11202,11203,11206,11207,11208,11209,11210,11211,11212,11214,11215,11216,11217,11218,11219,11221,11222,11223,11224,11225,11227,11228,11229,11230,11231,11232,11233,11234,11235,11237,11238,11239,11240,11241,11242,11243,11245,11246,11301,11324,11326,11327,11341,11342,11343,11346,11347,11348,11349,11361,11362,11363,11365,11369,11381,11383,11385'}, {'cdArea': '11408,11442,11464,11465,12100,12101,12102,12103,12104,12105,12106,12202,12203,12204,12205,12206,12207,12208,12210,12211,12212,12213,12215,12216,12217,12218,12219,12220,12221,12222,12223,12224,12225,12226,12227,12228,12229,12230,12231,12232,12233,12234,12235,12236,12237,12238,12239,12322,12329,12342,12347,12349,12403,12409,12410,12421,12422,12423,12424,12426,12427,12441,12443,12463,13101,13102,13103,13104,13105,13106,13107,13108,13109,13110,13111,13112,13113,13114,13115,13116,13117,13118,13119,13120,13121,13122,13123,13201,13202,13203,13204,13205,13206,13207,13208,13209,13210,13211,13212,13213'}, {'cdArea': '13214,13215,13218,13219,13220,13221,13222,13223,13224,13225,13227,13228,13229,13303,13305,13307,13308,13361,13362,13363,13364,13381,13382,13401,13402,13421,14100,14101,14102,14103,14104,14105,14106,14107,14108,14109,14110,14111,14112,14113,14114,14115,14116,14117,14118,14130,14131,14132,14133,14134,14135,14136,14137,14150,14151,14152,14153,14201,14203,14204,14205,14206,14207,14208,14210,14211,14212,14213,14214,14215,14216,14217,14218,14301,14321,14341,14342,14361,14362,14363,14364,14366,14382,14383,14384,14401,14402,15100,15101,15102,15103,15104,15105,15106,15107,15108,15202,15204,15205,15206'}, {'cdArea': '15208,15209,15210,15211,15212,15213,15216,15217,15218,15222,15223,15224,15225,15226,15227,15307,15342,15361,15385,15405,15461,15482,15504,15581,15586,16201,16202,16204,16205,16206,16207,16208,16209,16210,16211,16321,16322,16323,16342,16343,17201,17202,17203,17204,17205,17206,17207,17209,17210,17211,17212,17324,17361,17365,17384,17386,17407,17461,17463,18201,18202,18204,18205,18206,18207,18208,18209,18210,18322,18382,18404,18423,18442,18481,18483,18501,19201,19202,19204,19205,19206,19207,19208,19209,19210,19211,19212,19213,19214,19346,19364,19365,19366,19368,19384,19422,19423,19424,19425,19429'}, {'cdArea': '19430,19442,19443,20201,20202,20203,20204,20205,20206,20207,20208,20209,20210,20211,20212,20213,20214,20215,20217,20218,20219,20220,20303,20304,20305,20306,20307,20309,20321,20323,20324,20349,20350,20361,20362,20363,20382,20383,20384,20385,20386,20388,20402,20403,20404,20407,20409,20410,20411,20412,20413,20414,20415,20416,20417,20422,20423,20425,20429,20430,20432,20446,20448,20450,20451,20452,20481,20482,20485,20486,20521,20541,20543,20561,20562,20563,20583,20588,20590,20602,21201,21202,21203,21204,21205,21206,21207,21208,21209,21210,21211,21212,21213,21214,21215,21216,21217,21218,21219,21220'}, {'cdArea': '21221,21302,21303,21341,21361,21362,21381,21382,21383,21401,21403,21404,21421,21501,21502,21503,21504,21505,21506,21507,21521,21604,22100,22101,22102,22103,22130,22131,22132,22133,22134,22135,22136,22137,22203,22205,22206,22207,22208,22209,22210,22211,22212,22213,22214,22215,22216,22219,22220,22221,22222,22223,22224,22225,22226,22301,22302,22304,22305,22306,22325,22341,22342,22344,22424,22429,22461,23100,23101,23102,23103,23104,23105,23106,23107,23108,23109,23110,23111,23112,23113,23114,23115,23116,23201,23202,23203,23204,23205,23206,23207,23208,23209,23210,23211,23212,23213,23214,23215,23216'}, {'cdArea': '23217,23219,23220,23221,23222,23223,23224,23225,23226,23227,23228,23229,23230,23231,23232,23233,23234,23235,23236,23237,23238,23302,23342,23361,23362,23424,23425,23427,23441,23442,23445,23446,23447,23501,23561,23562,23563,24201,24202,24203,24204,24205,24207,24208,24209,24210,24211,24212,24214,24215,24216,24303,24324,24341,24343,24344,24441,24442,24443,24461,24470,24471,24472,24543,24561,24562,25201,25202,25203,25204,25206,25207,25208,25209,25210,25211,25212,25213,25214,25383,25384,25425,25441,25442,25443,26100,26101,26102,26103,26104,26105,26106,26107,26108,26109,26110,26111,26201,26202,26203'}, {'cdArea': '26204,26205,26206,26207,26208,26209,26210,26211,26212,26213,26214,26303,26322,26343,26344,26364,26365,26366,26367,26407,26463,26465,27100,27102,27103,27104,27106,27107,27108,27109,27111,27113,27114,27115,27116,27117,27118,27119,27120,27121,27122,27123,27124,27125,27126,27127,27128,27140,27141,27142,27143,27144,27145,27146,27147,27202,27203,27204,27205,27206,27207,27208,27209,27210,27211,27212,27213,27214,27215,27216,27217,27218,27219,27220,27221,27222,27223,27224,27225,27226,27227,27228,27229,27230,27231,27232,27301,27321,27322,27341,27361,27362,27366,27381,27382,27383,28100,28101,28102,28105'}, {'cdArea': '28106,28107,28108,28109,28110,28111,28201,28202,28203,28204,28205,28206,28207,28208,28209,28210,28212,28213,28214,28215,28216,28217,28218,28219,28220,28221,28222,28223,28224,28225,28226,28227,28228,28229,28301,28365,28381,28382,28442,28443,28446,28464,28481,28501,28585,28586,29201,29202,29203,29204,29205,29206,29207,29208,29209,29210,29211,29212,29322,29342,29343,29344,29345,29361,29362,29363,29385,29386,29401,29402,29424,29425,29426,29427,29441,29442,29443,29444,29446,29447,29449,29450,29451,29452,29453,30201,30202,30203,30204,30205,30206,30207,30208,30209,30304,30341,30343,30344,30361,30362'}, {'cdArea': '30366,30381,30382,30383,30390,30391,30392,30401,30404,30406,30421,30422,30424,30427,30428,31201,31202,31203,31204,31302,31325,31328,31329,31364,31370,31371,31372,31384,31386,31389,31390,31401,31402,31403,32201,32202,32203,32204,32205,32206,32207,32209,32343,32386,32441,32448,32449,32501,32505,32525,32526,32527,32528,33100,33101,33102,33103,33104,33202,33203,33204,33205,33207,33208,33209,33210,33211,33212,33213,33214,33215,33216,33346,33423,33445,33461,33586,33606,33622,33623,33643,33663,33666,33681,34100,34101,34102,34103,34104,34105,34106,34107,34108,34202,34203,34204,34205,34207,34208,34209'}, {'cdArea': '34210,34211,34212,34213,34214,34215,34302,34304,34307,34309,34368,34369,34431,34462,34545,35201,35202,35203,35204,35206,35207,35208,35210,35211,35212,35213,35215,35216,35305,35321,35341,35343,35344,35502,36201,36202,36203,36204,36205,36206,36207,36208,36301,36302,36321,36341,36342,36368,36383,36387,36388,36401,36402,36403,36404,36405,36468,36489,37201,37202,37203,37204,37205,37206,37207,37208,37322,37324,37341,37364,37386,37387,37403,37404,37406,38201,38202,38203,38204,38205,38206,38207,38210,38213,38214,38215,38356,38386,38401,38402,38422,38442,38484,38488,38506,39201,39202,39203,39204,39205'}, {'cdArea': '39206,39208,39209,39210,39211,39212,39301,39302,39303,39304,39305,39306,39307,39341,39344,39363,39364,39386,39387,39401,39402,39403,39405,39410,39411,39412,39424,39427,39428,40100,40101,40103,40105,40106,40107,40108,40109,40130,40131,40132,40133,40134,40135,40136,40137,40202,40203,40204,40205,40206,40207,40210,40211,40212,40213,40214,40215,40216,40217,40218,40219,40220,40221,40223,40224,40225,40226,40227,40228,40229,40230,40231,40341,40342,40343,40344,40345,40348,40349,40381,40382,40383,40384,40401,40402,40421,40447,40448,40503,40522,40544,40601,40602,40604,40605,40608,40609,40610,40621,40625'}, {'cdArea': '40642,40646,40647,41201,41202,41203,41204,41205,41206,41207,41208,41209,41210,41327,41341,41345,41346,41387,41401,41423,41424,41425,41441,42201,42202,42203,42204,42205,42207,42208,42209,42210,42211,42212,42213,42214,42307,42308,42321,42322,42323,42383,42391,42411,43100,43101,43102,43103,43104,43105,43202,43203,43204,43205,43206,43208,43210,43211,43212,43213,43214,43215,43216,43348,43364,43367,43368,43369,43403,43404,43423,43424,43425,43428,43432,43433,43441,43442,43443,43444,43447,43468,43482,43484,43501,43505,43506,43507,43510,43511,43512,43513,43514,43531,44201,44202,44203,44204,44205,44206'}, {'cdArea': '44207,44208,44209,44210,44211,44212,44213,44214,44322,44341,44461,44462,45201,45202,45203,45204,45205,45206,45207,45208,45209,45341,45361,45382,45383,45401,45402,45403,45404,45405,45406,45421,45429,45430,45431,45441,45442,45443,46201,46203,46204,46206,46208,46210,46213,46214,46215,46216,46217,46218,46219,46220,46221,46222,46223,46224,46225,46303,46304,46392,46404,46452,46468,46482,46490,46491,46492,46501,46502,46505,46523,46524,46525,46527,46529,46530,46531,46532,46533,46534,46535,47201,47205,47207,47208,47209,47210,47211,47212,47213,47214,47215,47301,47302,47303,47306,47308,47311,47313,47314'}, {'cdArea': '47315,47324,47325,47326,47327,47328,47329,47348,47350,47353,47354,47355,47356,47357,47358,47359,47360,47361,47362,47375,47381,47382'}]\n",
            "要素数：20\n"
          ]
        }
      ]
    },
    {
      "cell_type": "markdown",
      "metadata": {
        "id": "fHfHKgAXbC_a"
      },
      "source": [
        "## estat-APIのレスポンスをBigQueryに保存"
      ]
    },
    {
      "cell_type": "markdown",
      "source": [
        "DataFrameを整形する関数"
      ],
      "metadata": {
        "id": "r4uA0dWVTwyo"
      }
    },
    {
      "cell_type": "code",
      "source": [
        "ESTAT_APPID = '724e5b90772a3e9289f41a253e4e7e32438f4fff'\n",
        "\n",
        "import urllib.parse\n",
        "import urllib.request\n",
        "import json\n",
        "import pandas as pd\n",
        "\n",
        "\"\"\"\n",
        "estat-APIのレスポンスを整形してDataFrameに変換\n",
        "\"\"\"\n",
        "\n",
        "def get_estat_dataframe(params):\n",
        "  res = get_estat_response(params)\n",
        "  df_res = conv_estat_response_to_dataframe(res)\n",
        "  df_res = format_estat_dataframe(df_res)\n",
        "\n",
        "  return df_res\n",
        "\n",
        "\"\"\"\n",
        "estat-APIのレスポンスを取得する関数\n",
        "\"\"\"\n",
        "\n",
        "def get_estat_response(params):\n",
        "  p = params.copy()\n",
        "\n",
        "  # appId\n",
        "  p['appId'] = ESTAT_APPID\n",
        "  \n",
        "  # url生成\n",
        "  url = 'http://api.e-stat.go.jp/rest/2.1/app/json/getStatsData?'\n",
        "  url += urllib.parse.urlencode(p)\n",
        "\n",
        "  with urllib.request.urlopen(url) as response:\n",
        "    return json.loads(response.read().decode('utf-8'))\n",
        "\n",
        "\n",
        "\"\"\"\n",
        "estat-APIのレスポンスをDataFrameに変換する\n",
        "\"\"\"\n",
        "\n",
        "def conv_estat_response_to_dataframe(response):\n",
        "\n",
        "  # VALUEをDataFrameに変換\n",
        "  VALUE = response['GET_STATS_DATA']['STATISTICAL_DATA']['DATA_INF']['VALUE']\n",
        "  df = pd.json_normalize(VALUE)\n",
        "\n",
        "  # CLASS_OBJのDataFrameを結合\n",
        "  CLASS_OBJ = response['GET_STATS_DATA']['STATISTICAL_DATA']['CLASS_INF']['CLASS_OBJ']\n",
        "  for d in CLASS_OBJ :\n",
        "    # DataFrameに変換 '@code','@name'だけ抽出\n",
        "    df_class = pd.json_normalize(d['CLASS']) \n",
        "    df_class = df_class.copy()[['@code','@name']]\n",
        "\n",
        "    # @codeをキー名に変更 @nameをキー名＋'_name'に変更\n",
        "    key_name = '@{}'.format(d['@id'])\n",
        "    df_class = df_class.rename(columns={'@code':key_name,'@name': key_name+'_name'})\n",
        "\n",
        "    # DataFrameを結合\n",
        "    df = pd.merge(df, df_class, on=key_name, how='outer')\n",
        "\n",
        "  # 統計情報を追加\n",
        "  TABLE_INF = response['GET_STATS_DATA']['STATISTICAL_DATA']['TABLE_INF']\n",
        "  df['statsDataId'] = TABLE_INF['@id']\n",
        "  df['statsDataName'] = TABLE_INF['STAT_NAME']['$']\n",
        "  \n",
        "  return df\n",
        "\n",
        "\"\"\"\n",
        "DataFrameを整形する\n",
        "\"\"\"\n",
        "\n",
        "def  format_estat_dataframe(df_arg):\n",
        "\n",
        "  # 列を抽出して名前変更\n",
        "  df =  df_arg[['statsDataId','statsDataName','@cat01','@cat01_name','@time','@time_name','@area','$','@unit']]\n",
        "  df = df.rename(columns = {'@cat01':'categoryCode','@cat01_name':'categoryName','@time':'timeCode','@time_name':'timeName','@area':'areaCode','$':'value','@unit':'unit'})\n",
        "\n",
        "  # 欠損データ削除\n",
        "  df = df.dropna(subset=['categoryCode'])\n",
        "\n",
        "  # categoryNameから不要な情報（categoryCode）を削除\n",
        "  df['categoryName'] = df.apply(lambda x: x['categoryName'].replace(x['categoryCode']+'_', ''), 1)\n",
        "\n",
        "  # timeCodeを文字列4桁に置換\n",
        "  df['timeCode'] = df.apply(lambda x: x['timeCode'][:4], 1)\n",
        "  \n",
        "  # 地域情報をマージ\n",
        "  with open('drive/MyDrive/statistics-hyogo/resas/arealist.json') as j:\n",
        "    arealist = json.load(j)\n",
        "    df_arealist = pd.json_normalize(arealist)  \n",
        "  df = pd.merge(df, df_arealist, on='areaCode', how='right')\n",
        "\n",
        "\n",
        "  df = df.dropna(subset=['categoryCode'])\n",
        "\n",
        "  # '-'を'0'に置換\n",
        "  df.replace({'value': {'-': '0'}})\n",
        "\n",
        "  return df"
      ],
      "metadata": {
        "id": "aRItwwQ41twT"
      },
      "execution_count": 50,
      "outputs": []
    },
    {
      "cell_type": "code",
      "source": [
        "!pip install pandas-gbq"
      ],
      "metadata": {
        "id": "Iw8hXRPoaqcn"
      },
      "execution_count": null,
      "outputs": []
    },
    {
      "cell_type": "code",
      "source": [
        "# 統計カード一覧を取得\n",
        "with open('/content/drive/MyDrive/statistics-hyogo/contents/statistics-cards.json') as j:\n",
        "  cardlist = json.load(j)\n",
        "\n",
        "for card in cardlist:\n",
        "\n",
        "  governmentType = card['governmentType']\n",
        "  estatParams = card['estatParams']\n",
        "\n",
        "  print(estatParams)\n",
        "\n",
        "  # プロジェクトの定義\n",
        "  project_id='primal-buttress-342908'\n",
        "  dataset_id = 'contents'\n",
        "  table_id= card['cardId']\n",
        "\n",
        "  # データフレームの内容をBigQueryのテーブルに追加\n",
        "  df = get_estat_dataframe(estatParams)\n",
        "  df.to_gbq( f'{dataset_id}.{table_id}', project_id=project_id, if_exists=\"replace\")\n",
        "\n",
        "  print(f'{table_id}を保存しました')\n",
        "\n",
        "  \n",
        "  # print df\n"
      ],
      "metadata": {
        "id": "b8maJe5ZYQ8C",
        "outputId": "698c21ca-31a1-4961-9bfe-59e137434ea0",
        "colab": {
          "base_uri": "https://localhost:8080/",
          "height": 1000
        }
      },
      "execution_count": 51,
      "outputs": [
        {
          "output_type": "stream",
          "name": "stdout",
          "text": [
            "{'statsDataId': '0000010101', 'cdCat01': 'A1101,A110101,A110102'}\n"
          ]
        },
        {
          "output_type": "stream",
          "name": "stderr",
          "text": [
            "1it [00:04,  4.63s/it]\n"
          ]
        },
        {
          "output_type": "stream",
          "name": "stdout",
          "text": [
            "total-population-prefectureを保存しました\n",
            "{'statsDataId': '0000010101', 'cdCat01': 'A1102,A110201,A110202'}\n"
          ]
        },
        {
          "output_type": "stream",
          "name": "stderr",
          "text": [
            "1it [00:07,  7.10s/it]\n"
          ]
        },
        {
          "output_type": "stream",
          "name": "stdout",
          "text": [
            "japanese-population-prefectureを保存しました\n",
            "{'statsDataId': '0000010101', 'cdCat01': 'A120101,A120102,A120201,A120202,A120301,A120302,A120401,A120402,A120501,A120502,A120601,A120602,A120701,A120702,A120801,A120802,A120901,A120902,A121001,A121002,A121101,A121102,A121201,A121202,A121301,A121302,A121401,A121402,A121501,A121502,A121601,A121602,A121701,A121702,A121801,A121802,A121901,A121902,A122001,A122002,A122101,A122102'}\n"
          ]
        },
        {
          "output_type": "stream",
          "name": "stderr",
          "text": [
            "1it [00:13, 13.57s/it]\n"
          ]
        },
        {
          "output_type": "stream",
          "name": "stdout",
          "text": [
            "population-pyramid-prefectureを保存しました\n",
            "{'statsDataId': '0000010101', 'cdCat01': 'A1231'}\n"
          ]
        },
        {
          "output_type": "stream",
          "name": "stderr",
          "text": [
            "1it [00:06,  6.24s/it]\n"
          ]
        },
        {
          "output_type": "stream",
          "name": "stdout",
          "text": [
            "median-age-prefectureを保存しました\n",
            "{'statsDataId': '0000010101', 'cdCat01': 'A1301,A130101,A130102,A1302,A130201,A130202,A1303,A130301,A130302,A1304,A130401,A130402,A1305,A130501,A130502,A1306,A130601,A130602'}\n"
          ]
        },
        {
          "output_type": "stream",
          "name": "stderr",
          "text": [
            "1it [00:07,  7.41s/it]\n"
          ]
        },
        {
          "output_type": "stream",
          "name": "stdout",
          "text": [
            "population-age-prefecture を保存しました\n",
            "{'statsDataId': '0000010101', 'cdCat01': 'A1601011,A1601012,A1601021,A1601022,A1601031,A1601032,A1601041,A1601042,A1601051,A1601052,A1601061,A1601062,A1601071,A1601072,A1601081,A1601082,A1601091,A1601092,A1601101,A1601102,A1601111,A1601112,A1601121,A1601122,A1601131,A1601132,A1601141,A1601142,A1601151,A1601152'}\n"
          ]
        },
        {
          "output_type": "stream",
          "name": "stderr",
          "text": [
            "1it [00:07,  7.28s/it]\n"
          ]
        },
        {
          "output_type": "stream",
          "name": "stdout",
          "text": [
            "unmarried-prefectureを保存しました\n",
            "{'statsDataId': '0000010101', 'cdCat01': 'A1602021,A1602022,A1602031,A1602032,A1602041,A1602042,A1602051,A1602052,A1602061,A1602062,A1602071,A1602072,A1602081,A1602082,A1602091,A1602092,A1602101,A1602102,A1602111,A1602112,A1602121,A1602122,A1602131,A1602132,A1602141,A1602142,A1602151,A1602152'}\n"
          ]
        },
        {
          "output_type": "stream",
          "name": "stderr",
          "text": [
            "1it [00:09,  9.65s/it]\n"
          ]
        },
        {
          "output_type": "stream",
          "name": "stdout",
          "text": [
            "spouse-prefectureを保存しました\n",
            "{'statsDataId': '0000010101', 'cdCat01': 'A1603031,A1603032,A1603041,A1603042,A1603051,A1603052,A1603061,A1603062,A1603071,A1603072,A1603081,A1603082,A1603091,A1603092,A1603101,A1603102,A1603111,A1603112,A1603121,A1603122,A1603131,A1603132,A1603141,A1603142,A1603151,A1603152'}\n"
          ]
        },
        {
          "output_type": "stream",
          "name": "stderr",
          "text": [
            "1it [00:06,  6.91s/it]\n"
          ]
        },
        {
          "output_type": "stream",
          "name": "stdout",
          "text": [
            "bereavement-prefectureを保存しました\n",
            "{'statsDataId': '0000010101', 'cdCat01': 'A1604011,A1604012,A1604021,A1604022,A1604031,A1604032,A1604041,A1604042,A1604051,A1604052,A1604061,A1604062,A1604071,A1604072,A1604081,A1604082,A1604091,A1604092,A1604101,A1604102,A1604111,A1604112,A1604121,A1604122,A1604131,A1604132,A1604141,A1604142,A1604151,A1604152'}\n"
          ]
        },
        {
          "output_type": "stream",
          "name": "stderr",
          "text": [
            "1it [00:07,  7.46s/it]\n"
          ]
        },
        {
          "output_type": "stream",
          "name": "stdout",
          "text": [
            "separated-prefectureを保存しました\n",
            "{'statsDataId': '0000010101', 'cdCat01': 'A161001'}\n"
          ]
        },
        {
          "output_type": "stream",
          "name": "stderr",
          "text": [
            "1it [00:04,  4.90s/it]\n"
          ]
        },
        {
          "output_type": "stream",
          "name": "stdout",
          "text": [
            "unmarried-rate-pretectureを保存しました\n",
            "{'statsDataId': '0000010101', 'cdCat01': 'A1700,A170001,A170002,A1701,A170101,A170102,A1702,A170201,A170202,A1703,A170301,A170302,A1706,A170601,A170602,A1707,A170701,A170702'}\n"
          ]
        },
        {
          "output_type": "stream",
          "name": "stderr",
          "text": [
            "1it [00:04,  4.49s/it]\n"
          ]
        },
        {
          "output_type": "stream",
          "name": "stdout",
          "text": [
            "foreigner-population-prefectureを保存しました\n",
            "{'statsDataId': '0000010101', 'cdCat01': 'A1801,A180101,A180102'}\n"
          ]
        },
        {
          "output_type": "stream",
          "name": "stderr",
          "text": [
            "1it [00:05,  5.51s/it]\n"
          ]
        },
        {
          "output_type": "stream",
          "name": "stdout",
          "text": [
            "densely-populated-area-population-prefectureを保存しました\n",
            "{'statsDataId': '0000010101', 'cdCat01': 'A1802'}\n"
          ]
        },
        {
          "output_type": "stream",
          "name": "stderr",
          "text": [
            "1it [00:04,  4.38s/it]\n"
          ]
        },
        {
          "output_type": "stream",
          "name": "stdout",
          "text": [
            "densely-populated-area-prefectureを保存しました\n",
            "{'statsDataId': '0000010101', 'cdCat01': 'A3100,A3101,A310101,A310102,A310103,A310105,A3102,A310201,A3103,A310301,A3104,A310401,A310402'}\n"
          ]
        },
        {
          "output_type": "stream",
          "name": "stderr",
          "text": [
            "1it [00:06,  6.14s/it]\n"
          ]
        },
        {
          "output_type": "stream",
          "name": "stdout",
          "text": [
            "foreigner-prefectureを保存しました\n",
            "{'statsDataId': '0000010101', 'cdCat01': 'A3200,A3201,A320101,A320102,A320103,A320104,A3202,A3203,A3204'}\n"
          ]
        },
        {
          "output_type": "stream",
          "name": "stderr",
          "text": [
            "1it [00:06,  6.45s/it]\n"
          ]
        },
        {
          "output_type": "stream",
          "name": "stdout",
          "text": [
            "foreign-resident-prefectureを保存しました\n",
            "{'statsDataId': '0000010101', 'cdCat01': 'A4101,A410101,A410102,A410201,A410202,A410203,A410204,A410205,A410206,A410207,A410208,A410209'}\n"
          ]
        },
        {
          "output_type": "stream",
          "name": "stderr",
          "text": [
            "1it [00:05,  5.44s/it]\n"
          ]
        },
        {
          "output_type": "stream",
          "name": "stdout",
          "text": [
            "birth-prefectureを保存しました\n",
            "{'statsDataId': '0000010101', 'cdCat01': 'A4103'}\n"
          ]
        },
        {
          "output_type": "stream",
          "name": "stderr",
          "text": [
            "1it [00:04,  4.83s/it]\n"
          ]
        },
        {
          "output_type": "stream",
          "name": "stdout",
          "text": [
            "total-fertility-rate-prefectureを保存しました\n",
            "{'statsDataId': '0000010101', 'cdCat01': 'A4200,A420001,A420002'}\n"
          ]
        },
        {
          "output_type": "stream",
          "name": "stderr",
          "text": [
            "1it [00:04,  4.45s/it]\n"
          ]
        },
        {
          "output_type": "stream",
          "name": "stdout",
          "text": [
            "death-prefectureを保存しました\n",
            "{'statsDataId': '0000010101', 'cdCat01': 'A420101,A420102,A420201,A420202,A420301,A420302,A420401,A420402,A420501,A420502,A420601,A420602,A420701,A420702,A420801,A420802,A420901,A420902,A421001,A421002,A421101,A421102,A421201,A421202,A421301,A421302,A421401,A421402,A421501,A421502,A421601,A421602,A421701,A421702,A421801,A421802,A421901,A421902,A422001,A422002,A422101,A422102'}\n"
          ]
        },
        {
          "output_type": "stream",
          "name": "stderr",
          "text": [
            "1it [00:10, 10.75s/it]\n"
          ]
        },
        {
          "output_type": "stream",
          "name": "stdout",
          "text": [
            "death-pyramid-prefectureを保存しました\n",
            "{'statsDataId': '0000010101', 'cdCat01': 'A424001,A424002'}\n"
          ]
        },
        {
          "output_type": "stream",
          "name": "stderr",
          "text": [
            "1it [00:05,  5.84s/it]\n"
          ]
        },
        {
          "output_type": "stream",
          "name": "stdout",
          "text": [
            "age-adjusted-mortality-prefectureを保存しました\n",
            "{'statsDataId': '0000010101', 'cdCat01': 'A4270,A427001,A4271,A4272,A4280,A4281'}\n"
          ]
        },
        {
          "output_type": "stream",
          "name": "stderr",
          "text": [
            "1it [00:07,  7.85s/it]\n"
          ]
        },
        {
          "output_type": "stream",
          "name": "stdout",
          "text": [
            "stillbirth-prefectureを保存しました\n",
            "{'statsDataId': '0000010101', 'cdCat01': 'A4301'}\n"
          ]
        },
        {
          "output_type": "stream",
          "name": "stderr",
          "text": [
            "1it [00:07,  7.51s/it]\n"
          ]
        },
        {
          "output_type": "stream",
          "name": "stdout",
          "text": [
            "standardized-mortality-prefectureを保存しました\n",
            "{'statsDataId': '0000010101', 'cdCat01': 'A5101,A510101,A510102,A5103,A510301,A510302'}\n"
          ]
        },
        {
          "output_type": "stream",
          "name": "stderr",
          "text": [
            "1it [00:06,  6.02s/it]\n"
          ]
        },
        {
          "output_type": "stream",
          "name": "stdout",
          "text": [
            "movein-prefectureを保存しました\n",
            "{'statsDataId': '0000010101', 'cdCat01': 'A5102,A510201,A510202,A5104,A510401,A510402'}\n"
          ]
        },
        {
          "output_type": "stream",
          "name": "stderr",
          "text": [
            "1it [00:07,  7.50s/it]\n"
          ]
        },
        {
          "output_type": "stream",
          "name": "stdout",
          "text": [
            "moveout-prefectureを保存しました\n",
            "{'statsDataId': '0000010101', 'cdCat01': 'A5201,A520101,A520102'}\n"
          ]
        },
        {
          "output_type": "stream",
          "name": "stderr",
          "text": [
            "1it [00:05,  5.73s/it]\n"
          ]
        },
        {
          "output_type": "stream",
          "name": "stdout",
          "text": [
            "Immigrant-prefectureを保存しました\n",
            "{'statsDataId': '0000010101', 'cdCat01': 'A5202,A520201,A520202'}\n"
          ]
        },
        {
          "output_type": "stream",
          "name": "stderr",
          "text": [
            "1it [00:04,  4.12s/it]\n"
          ]
        },
        {
          "output_type": "stream",
          "name": "stdout",
          "text": [
            "outofthecountry-prefectureを保存しました\n",
            "{'statsDataId': '0000010101', 'cdCat01': 'A5301'}\n"
          ]
        },
        {
          "output_type": "stream",
          "name": "stderr",
          "text": [
            "1it [00:04,  4.52s/it]\n"
          ]
        },
        {
          "output_type": "stream",
          "name": "stdout",
          "text": [
            "social-change-rate-prefectureを保存しました\n",
            "{'statsDataId': '0000010101', 'cdCat01': 'A6103,A610301,A610302'}\n"
          ]
        },
        {
          "output_type": "stream",
          "name": "stderr",
          "text": [
            "1it [00:08,  8.11s/it]\n"
          ]
        },
        {
          "output_type": "stream",
          "name": "stdout",
          "text": [
            "outflow-inside-prefectureを保存しました\n",
            "{'statsDataId': '0000010101', 'cdCat01': 'A6104,A610401,A610402'}\n"
          ]
        },
        {
          "output_type": "stream",
          "name": "stderr",
          "text": [
            "1it [00:10, 10.06s/it]\n"
          ]
        },
        {
          "output_type": "stream",
          "name": "stdout",
          "text": [
            "outflow-outside-prefectureを保存しました\n",
            "{'statsDataId': '0000010101', 'cdCat01': 'A6105,A610501,A610502'}\n"
          ]
        },
        {
          "output_type": "stream",
          "name": "stderr",
          "text": [
            "1it [00:06,  6.70s/it]\n"
          ]
        },
        {
          "output_type": "stream",
          "name": "stdout",
          "text": [
            "inflow-inside-prefectureを保存しました\n",
            "{'statsDataId': '0000010101', 'cdCat01': 'A6106,A610601,A610602'}\n"
          ]
        },
        {
          "output_type": "stream",
          "name": "stderr",
          "text": [
            "1it [00:04,  4.31s/it]\n"
          ]
        },
        {
          "output_type": "stream",
          "name": "stdout",
          "text": [
            "inflow-outside-prefectureを保存しました\n",
            "{'statsDataId': '0000010101', 'cdCat01': 'A6107,A610701,A610702,A6108,A6107,A6108'}\n"
          ]
        },
        {
          "output_type": "stream",
          "name": "stderr",
          "text": [
            "1it [00:06,  6.25s/it]\n"
          ]
        },
        {
          "output_type": "stream",
          "name": "stdout",
          "text": [
            "daytime-population-prefectureを保存しました\n",
            "{'statsDataId': '0000010101', 'cdCat01': 'A7101,A710101,A710102,A710201,A710202,A710211,A7103,A810101'}\n"
          ]
        },
        {
          "output_type": "stream",
          "name": "stderr",
          "text": [
            "1it [00:04,  4.42s/it]\n"
          ]
        },
        {
          "output_type": "stream",
          "name": "stdout",
          "text": [
            "household-prefectureを保存しました\n",
            "{'statsDataId': '0000010101', 'cdCat01': 'A810102,A810103,A810104'}\n"
          ]
        },
        {
          "output_type": "stream",
          "name": "stderr",
          "text": [
            "1it [00:05,  5.69s/it]\n"
          ]
        },
        {
          "output_type": "stream",
          "name": "stdout",
          "text": [
            "nuclear-family-household-prefectureを保存しました\n",
            "{'statsDataId': '0000010101', 'cdCat01': 'A810105'}\n"
          ]
        },
        {
          "output_type": "stream",
          "name": "stderr",
          "text": [
            "1it [00:07,  7.00s/it]\n"
          ]
        },
        {
          "output_type": "stream",
          "name": "stdout",
          "text": [
            "single-household-prefectureを保存しました\n",
            "{'statsDataId': '0000010101', 'cdCat01': 'A8201,A8202,A8301,A830101,A830102,A8303,A830301,A830302'}\n"
          ]
        },
        {
          "output_type": "stream",
          "name": "stderr",
          "text": [
            "1it [00:04,  4.79s/it]\n"
          ]
        },
        {
          "output_type": "stream",
          "name": "stdout",
          "text": [
            "senior-household-prefectureを保存しました\n",
            "{'statsDataId': '0000010101', 'cdCat01': 'A8401,A840101,A840102,A840103,A840201,A840202,A840203,A840204,A840205'}\n"
          ]
        },
        {
          "output_type": "stream",
          "name": "stderr",
          "text": [
            "1it [00:05,  5.64s/it]\n"
          ]
        },
        {
          "output_type": "stream",
          "name": "stdout",
          "text": [
            "single-mother-household-prefectureを保存しました\n",
            "{'statsDataId': '0000010101', 'cdCat01': 'A8501,A850101,A850102,A850103,A850201,A850202,A850203,A850204,A850205'}\n"
          ]
        },
        {
          "output_type": "stream",
          "name": "stderr",
          "text": [
            "1it [00:10, 10.33s/it]\n"
          ]
        },
        {
          "output_type": "stream",
          "name": "stdout",
          "text": [
            "single-father-household-prefectureを保存しました\n",
            "{'statsDataId': '0000010101', 'cdCat01': 'A9101'}\n"
          ]
        },
        {
          "output_type": "stream",
          "name": "stderr",
          "text": [
            "1it [00:05,  5.04s/it]\n"
          ]
        },
        {
          "output_type": "stream",
          "name": "stdout",
          "text": [
            "marriage-prefectureを保存しました\n",
            "{'statsDataId': '0000010101', 'cdCat01': 'A9111,A9112'}\n"
          ]
        },
        {
          "output_type": "stream",
          "name": "stderr",
          "text": [
            "1it [00:05,  5.01s/it]\n"
          ]
        },
        {
          "output_type": "stream",
          "name": "stdout",
          "text": [
            "first-marriage-age-prefectureを保存しました\n",
            "{'statsDataId': '0000010101', 'cdCat01': 'A9201'}\n"
          ]
        },
        {
          "output_type": "stream",
          "name": "stderr",
          "text": [
            "1it [00:15, 15.90s/it]\n"
          ]
        },
        {
          "output_type": "stream",
          "name": "stdout",
          "text": [
            "divorce-prefectureを保存しました\n",
            "{'statsDataId': '0000020201', 'cdCat01': 'A1101,A110101,A110102'}\n"
          ]
        },
        {
          "output_type": "stream",
          "name": "stderr",
          "text": [
            "1it [00:09,  9.27s/it]\n"
          ]
        },
        {
          "output_type": "stream",
          "name": "stdout",
          "text": [
            "total-population-cityを保存しました\n",
            "{'statsDataId': '0000020201', 'cdCat01': 'A1102,A110201,A110202'}\n"
          ]
        },
        {
          "output_type": "stream",
          "name": "stderr",
          "text": [
            "1it [00:06,  6.22s/it]\n"
          ]
        },
        {
          "output_type": "stream",
          "name": "stdout",
          "text": [
            "japanese-population-cityを保存しました\n",
            "{'statsDataId': '0000020201', 'cdCat01': 'A1231'}\n"
          ]
        },
        {
          "output_type": "stream",
          "name": "stderr",
          "text": [
            "1it [00:06,  6.87s/it]\n"
          ]
        },
        {
          "output_type": "stream",
          "name": "stdout",
          "text": [
            "median-age-cityを保存しました\n",
            "{'statsDataId': '0000020201', 'cdCat01': 'A1301,A130101,A130102,A1302,A130201,A130202,A1303,A130301,A130302'}\n"
          ]
        },
        {
          "output_type": "stream",
          "name": "stderr",
          "text": [
            "1it [00:14, 14.12s/it]\n"
          ]
        },
        {
          "output_type": "stream",
          "name": "stdout",
          "text": [
            "population-age-cityを保存しました\n",
            "{'statsDataId': '0000020201', 'cdCat01': 'A161001'}\n"
          ]
        },
        {
          "output_type": "stream",
          "name": "stderr",
          "text": [
            "1it [00:04,  4.65s/it]\n"
          ]
        },
        {
          "output_type": "stream",
          "name": "stdout",
          "text": [
            "unmarried-rate-cityを保存しました\n",
            "{'statsDataId': '0000020201', 'cdCat01': 'A1700'}\n"
          ]
        },
        {
          "output_type": "stream",
          "name": "stderr",
          "text": [
            "1it [00:05,  5.65s/it]\n"
          ]
        },
        {
          "output_type": "stream",
          "name": "stdout",
          "text": [
            "foreigner-population-cityを保存しました\n",
            "{'statsDataId': '0000020201', 'cdCat01': 'A1801,A180101,A180102'}\n"
          ]
        },
        {
          "output_type": "stream",
          "name": "stderr",
          "text": [
            "1it [00:08,  8.18s/it]\n"
          ]
        },
        {
          "output_type": "stream",
          "name": "stdout",
          "text": [
            "densely-populated-area-population-cityを保存しました\n",
            "{'statsDataId': '0000020201', 'cdCat01': 'A1802'}\n"
          ]
        },
        {
          "output_type": "stream",
          "name": "stderr",
          "text": [
            "1it [00:05,  5.87s/it]\n"
          ]
        },
        {
          "output_type": "stream",
          "name": "stdout",
          "text": [
            "densely-populated-area-cityを保存しました\n",
            "{'statsDataId': '0000020201', 'cdCat01': 'A4101'}\n"
          ]
        },
        {
          "output_type": "stream",
          "name": "stderr",
          "text": [
            "1it [00:08,  8.39s/it]\n"
          ]
        },
        {
          "output_type": "stream",
          "name": "stdout",
          "text": [
            "birth-cityを保存しました\n",
            "{'statsDataId': '0000020201', 'cdCat01': 'A4200'}\n"
          ]
        },
        {
          "output_type": "stream",
          "name": "stderr",
          "text": [
            "1it [00:13, 13.85s/it]\n"
          ]
        },
        {
          "output_type": "stream",
          "name": "stdout",
          "text": [
            "death-cityを保存しました\n",
            "{'statsDataId': '0000020201', 'cdCat01': 'A5101,A5103'}\n"
          ]
        },
        {
          "output_type": "stream",
          "name": "stderr",
          "text": [
            "1it [00:13, 13.23s/it]\n"
          ]
        },
        {
          "output_type": "stream",
          "name": "stdout",
          "text": [
            "movein-cityを保存しました\n",
            "{'statsDataId': '0000020201', 'cdCat01': 'A5102,A5104'}\n"
          ]
        },
        {
          "output_type": "stream",
          "name": "stderr",
          "text": [
            "1it [00:16, 16.20s/it]\n"
          ]
        },
        {
          "output_type": "stream",
          "name": "stdout",
          "text": [
            "moveout-cityを保存しました\n",
            "{'statsDataId': '0000020201', 'cdCat01': 'A6103,A6104'}\n"
          ]
        },
        {
          "output_type": "stream",
          "name": "stderr",
          "text": [
            "1it [00:08,  8.95s/it]\n"
          ]
        },
        {
          "output_type": "stream",
          "name": "stdout",
          "text": [
            "outflow-outside-cityを保存しました\n",
            "{'statsDataId': '0000020201', 'cdCat01': 'A6105,A6106'}\n"
          ]
        },
        {
          "output_type": "stream",
          "name": "stderr",
          "text": [
            "1it [00:11, 11.03s/it]\n"
          ]
        },
        {
          "output_type": "stream",
          "name": "stdout",
          "text": [
            "inflow-inside-cityを保存しました\n",
            "{'statsDataId': '0000020201', 'cdCat01': 'A7101,A710101,A710102,A710201,A710202,A7103,A810101'}\n"
          ]
        },
        {
          "output_type": "stream",
          "name": "stderr",
          "text": [
            "1it [00:15, 15.88s/it]\n"
          ]
        },
        {
          "output_type": "stream",
          "name": "stdout",
          "text": [
            "household-cityを保存しました\n",
            "{'statsDataId': '0000020201', 'cdCat01': 'A810102,A810103'}\n"
          ]
        },
        {
          "output_type": "stream",
          "name": "stderr",
          "text": [
            "1it [00:12, 12.64s/it]\n"
          ]
        },
        {
          "output_type": "stream",
          "name": "stdout",
          "text": [
            "nuclear-family-household-cityを保存しました\n",
            "{'statsDataId': '0000020201', 'cdCat01': 'A810105'}\n"
          ]
        },
        {
          "output_type": "stream",
          "name": "stderr",
          "text": [
            "1it [00:07,  7.92s/it]\n"
          ]
        },
        {
          "output_type": "stream",
          "name": "stdout",
          "text": [
            "single-household-cityを保存しました\n",
            "{'statsDataId': '0000020201', 'cdCat01': 'A8201,A8301,A830101,A830102'}\n"
          ]
        },
        {
          "output_type": "stream",
          "name": "stderr",
          "text": [
            "1it [00:12, 12.70s/it]\n"
          ]
        },
        {
          "output_type": "stream",
          "name": "stdout",
          "text": [
            "senior-household-cityを保存しました\n",
            "{'statsDataId': '0000020201', 'cdCat01': 'A8401,A840101,A840102,A840103'}\n"
          ]
        },
        {
          "output_type": "stream",
          "name": "stderr",
          "text": [
            "1it [00:07,  7.83s/it]\n"
          ]
        },
        {
          "output_type": "stream",
          "name": "stdout",
          "text": [
            "single-mother-household-cityを保存しました\n",
            "{'statsDataId': '0000020201', 'cdCat01': 'A8501,A850101,A850102,A850103'}\n"
          ]
        },
        {
          "output_type": "stream",
          "name": "stderr",
          "text": [
            "1it [00:09,  9.70s/it]\n"
          ]
        },
        {
          "output_type": "stream",
          "name": "stdout",
          "text": [
            "single-father-household-cityを保存しました\n",
            "{'statsDataId': '0000020201', 'cdCat01': 'A9101'}\n"
          ]
        },
        {
          "output_type": "stream",
          "name": "stderr",
          "text": [
            "1it [00:11, 11.63s/it]\n"
          ]
        },
        {
          "output_type": "stream",
          "name": "stdout",
          "text": [
            "marriage-cityを保存しました\n",
            "{'statsDataId': '0000020201', 'cdCat01': 'A9201'}\n"
          ]
        },
        {
          "output_type": "stream",
          "name": "stderr",
          "text": [
            "1it [00:17, 17.26s/it]\n"
          ]
        },
        {
          "output_type": "stream",
          "name": "stdout",
          "text": [
            "divorce-cityを保存しました\n",
            "{'statsDataId': '0000010102', 'cdCat01': 'B1101,B1102'}\n"
          ]
        },
        {
          "output_type": "stream",
          "name": "stderr",
          "text": [
            "1it [00:04,  4.60s/it]\n"
          ]
        },
        {
          "output_type": "stream",
          "name": "stdout",
          "text": [
            "total-area-prefectureを保存しました\n",
            "{'statsDataId': '0000010102', 'cdCat01': 'B1103'}\n"
          ]
        },
        {
          "output_type": "stream",
          "name": "stderr",
          "text": [
            "1it [00:04,  4.42s/it]\n"
          ]
        },
        {
          "output_type": "stream",
          "name": "stdout",
          "text": [
            "habitable-area-prefectureを保存しました\n",
            "{'statsDataId': '0000010102', 'cdCat01': 'B1105,B1106,B1107,B1303'}\n"
          ]
        },
        {
          "output_type": "stream",
          "name": "stderr",
          "text": [
            "1it [00:03,  3.99s/it]\n"
          ]
        },
        {
          "output_type": "stream",
          "name": "stdout",
          "text": [
            "forest-area-prefectureを保存しました\n",
            "{'statsDataId': '0000010102', 'cdCat01': 'B1108'}\n"
          ]
        },
        {
          "output_type": "stream",
          "name": "stderr",
          "text": [
            "1it [00:04,  4.48s/it]\n"
          ]
        },
        {
          "output_type": "stream",
          "name": "stdout",
          "text": [
            "natural-environment-conservation-area-prefectureを保存しました\n",
            "{'statsDataId': '0000010102', 'cdCat01': 'B1201,B120101,B120102,B120103,B120104,B120105,B120106,B120107'}\n"
          ]
        },
        {
          "output_type": "stream",
          "name": "stderr",
          "text": [
            "1it [00:05,  5.58s/it]\n"
          ]
        },
        {
          "output_type": "stream",
          "name": "stdout",
          "text": [
            "evaluation-total-cadastral-prefectureを保存しました\n",
            "{'statsDataId': '0000010102', 'cdCat01': 'B2101'}\n"
          ]
        },
        {
          "output_type": "stream",
          "name": "stderr",
          "text": [
            "1it [00:04,  4.07s/it]\n"
          ]
        },
        {
          "output_type": "stream",
          "name": "stdout",
          "text": [
            "nature-park-area-prefectureを保存しました\n",
            "{'statsDataId': '0000010102', 'cdCat01': 'B2102,B2103'}\n"
          ]
        },
        {
          "output_type": "stream",
          "name": "stderr",
          "text": [
            "1it [00:06,  6.79s/it]\n"
          ]
        },
        {
          "output_type": "stream",
          "name": "stdout",
          "text": [
            "park-prefectureを保存しました\n",
            "{'statsDataId': '0000010102', 'cdCat01': 'B2104,B2105'}\n"
          ]
        },
        {
          "output_type": "stream",
          "name": "stderr",
          "text": [
            "1it [00:05,  5.25s/it]\n"
          ]
        },
        {
          "output_type": "stream",
          "name": "stdout",
          "text": [
            "national-park-prefectureを保存しました\n",
            "{'statsDataId': '0000010102', 'cdCat01': 'B4101,B4102,B4103'}\n"
          ]
        },
        {
          "output_type": "stream",
          "name": "stderr",
          "text": [
            "1it [00:05,  5.13s/it]\n"
          ]
        },
        {
          "output_type": "stream",
          "name": "stdout",
          "text": [
            "temperature-prefectureを保存しました\n",
            "{'statsDataId': '0000010102', 'cdCat01': 'B4104,B4108'}\n"
          ]
        },
        {
          "output_type": "stream",
          "name": "stderr",
          "text": [
            "1it [00:04,  4.10s/it]\n"
          ]
        },
        {
          "output_type": "stream",
          "name": "stdout",
          "text": [
            "sunny-days-prefectureを保存しました\n",
            "{'statsDataId': '0000010102', 'cdCat01': 'B4105'}\n"
          ]
        },
        {
          "output_type": "stream",
          "name": "stderr",
          "text": [
            "1it [00:04,  4.30s/it]\n"
          ]
        },
        {
          "output_type": "stream",
          "name": "stdout",
          "text": [
            "cloudy-days-prefectureを保存しました\n",
            "{'statsDataId': '0000010102', 'cdCat01': 'B4106,B4109'}\n"
          ]
        },
        {
          "output_type": "stream",
          "name": "stderr",
          "text": [
            "1it [00:04,  4.69s/it]\n"
          ]
        },
        {
          "output_type": "stream",
          "name": "stdout",
          "text": [
            "precipitation-prefectureを保存しました\n",
            "{'statsDataId': '0000010102', 'cdCat01': 'B4107,B4110'}\n"
          ]
        },
        {
          "output_type": "stream",
          "name": "stderr",
          "text": [
            "1it [00:04,  4.62s/it]\n"
          ]
        },
        {
          "output_type": "stream",
          "name": "stdout",
          "text": [
            "snow-prefectureを保存しました\n",
            "{'statsDataId': '0000010102', 'cdCat01': 'B4111,B4112'}\n"
          ]
        },
        {
          "output_type": "stream",
          "name": "stderr",
          "text": [
            "1it [00:04,  4.39s/it]\n"
          ]
        },
        {
          "output_type": "stream",
          "name": "stdout",
          "text": [
            "humidity-prefectureを保存しました\n",
            "{'statsDataId': '0000010103', 'cdCat01': 'C1111,C1115,C1116,C1117'}\n"
          ]
        },
        {
          "output_type": "stream",
          "name": "stderr",
          "text": [
            "1it [00:06,  6.79s/it]\n"
          ]
        },
        {
          "output_type": "stream",
          "name": "stdout",
          "text": [
            "industry-class-prefectureを保存しました\n",
            "{'statsDataId': '0000010103', 'cdCat01': 'C120110'}\n"
          ]
        },
        {
          "output_type": "stream",
          "name": "stderr",
          "text": [
            "1it [00:07,  7.29s/it]\n"
          ]
        },
        {
          "output_type": "stream",
          "name": "stdout",
          "text": [
            "taxable-income-prefectureを保存しました\n",
            "{'statsDataId': '0000010103', 'cdCat01': 'C120120,C120130'}\n"
          ]
        },
        {
          "output_type": "stream",
          "name": "stderr",
          "text": [
            "1it [00:04,  4.94s/it]\n"
          ]
        },
        {
          "output_type": "stream",
          "name": "stdout",
          "text": [
            "taxpayer-prefectureを保存しました\n",
            "{'statsDataId': '0000010103', 'cdCat01': 'C2107,C2110,C2111,C2112'}\n"
          ]
        },
        {
          "output_type": "stream",
          "name": "stderr",
          "text": [
            "1it [00:05,  5.26s/it]\n"
          ]
        },
        {
          "output_type": "stream",
          "name": "stdout",
          "text": [
            "establishments-prefectureを保存しました\n",
            "{'statsDataId': '0000010103', 'cdCat01': 'C2207,C2210,C2211,C2212,F1102,F110201,F110202,F1103,F110301,F110302,F1104,F110401,F110402,F1105,F110501,F110502,F1106,F110601,F110602'}\n"
          ]
        },
        {
          "output_type": "stream",
          "name": "stderr",
          "text": [
            "1it [00:12, 12.19s/it]\n"
          ]
        },
        {
          "output_type": "stream",
          "name": "stdout",
          "text": [
            "employees-prefectureを保存しました\n",
            "{'statsDataId': '0000010103', 'cdCat01': 'C3101'}\n"
          ]
        },
        {
          "output_type": "stream",
          "name": "stderr",
          "text": [
            "1it [00:05,  5.31s/it]\n"
          ]
        },
        {
          "output_type": "stream",
          "name": "stdout",
          "text": [
            "agricultural-output-prefectureを保存しました\n",
            "{'statsDataId': '0000010103', 'cdCat01': 'C3102,C310201,C310202,C310211,C310212'}\n"
          ]
        },
        {
          "output_type": "stream",
          "name": "stderr",
          "text": [
            "1it [00:04,  4.58s/it]\n"
          ]
        },
        {
          "output_type": "stream",
          "name": "stdout",
          "text": [
            "farmers-prefectureを保存しました\n",
            "{'statsDataId': '0000010103', 'cdCat01': 'C310410,C310411,C310412'}\n"
          ]
        },
        {
          "output_type": "stream",
          "name": "stderr",
          "text": [
            "1it [00:07,  7.33s/it]\n"
          ]
        },
        {
          "output_type": "stream",
          "name": "stdout",
          "text": [
            "farming-population-prefectureを保存しました\n",
            "{'statsDataId': '0000010103', 'cdCat01': 'C3107,C310701,C310702,C310703,C310704,C310705'}\n"
          ]
        },
        {
          "output_type": "stream",
          "name": "stderr",
          "text": [
            "1it [00:06,  6.49s/it]\n"
          ]
        },
        {
          "output_type": "stream",
          "name": "stdout",
          "text": [
            "agricultural-land-prefectureを保存しました\n",
            "{'statsDataId': '0000010103', 'cdCat01': 'C3108'}\n"
          ]
        },
        {
          "output_type": "stream",
          "name": "stderr",
          "text": [
            "1it [00:04,  4.72s/it]\n"
          ]
        },
        {
          "output_type": "stream",
          "name": "stdout",
          "text": [
            "agricultural-land-conversion-prefectureを保存しました\n",
            "{'statsDataId': '0000010103', 'cdCat01': 'C3109'}\n"
          ]
        },
        {
          "output_type": "stream",
          "name": "stderr",
          "text": [
            "1it [00:04,  4.87s/it]\n"
          ]
        },
        {
          "output_type": "stream",
          "name": "stdout",
          "text": [
            "abandoned-cultivated-prefectureを保存しました\n",
            "{'statsDataId': '0000010103', 'cdCat01': 'C3110,C3111,C3112'}\n"
          ]
        },
        {
          "output_type": "stream",
          "name": "stderr",
          "text": [
            "1it [00:06,  6.86s/it]\n"
          ]
        },
        {
          "output_type": "stream",
          "name": "stdout",
          "text": [
            "production-volume-prefectureを保存しました\n",
            "{'statsDataId': '0000010103', 'cdCat01': 'C3114'}\n"
          ]
        },
        {
          "output_type": "stream",
          "name": "stderr",
          "text": [
            "1it [00:04,  4.68s/it]\n"
          ]
        },
        {
          "output_type": "stream",
          "name": "stdout",
          "text": [
            "forest-road-extension-prefectureを保存しました\n",
            "{'statsDataId': '0000010103', 'cdCat01': 'C3120,C312001,C312002,C312003,C31201'}\n"
          ]
        },
        {
          "output_type": "stream",
          "name": "stderr",
          "text": [
            "1it [00:04,  4.90s/it]\n"
          ]
        },
        {
          "output_type": "stream",
          "name": "stdout",
          "text": [
            "fishery-output-prefectureを保存しました\n",
            "{'statsDataId': '0000010103', 'cdCat01': 'C3121,C312101,C312102'}\n"
          ]
        },
        {
          "output_type": "stream",
          "name": "stderr",
          "text": [
            "1it [00:03,  3.51s/it]\n"
          ]
        },
        {
          "output_type": "stream",
          "name": "stdout",
          "text": [
            "catch-prefectureを保存しました\n",
            "{'statsDataId': '0000010103', 'cdCat01': 'C3122,C312201,C312202'}\n"
          ]
        },
        {
          "output_type": "stream",
          "name": "stderr",
          "text": [
            "1it [00:05,  5.56s/it]\n"
          ]
        },
        {
          "output_type": "stream",
          "name": "stdout",
          "text": [
            "aquaculture-yield-prefectureを保存しました\n",
            "{'statsDataId': '0000010103', 'cdCat01': 'C3304,C330401,C330402,C330403'}\n"
          ]
        },
        {
          "output_type": "stream",
          "name": "stderr",
          "text": [
            "1it [00:04,  4.35s/it]\n"
          ]
        },
        {
          "output_type": "stream",
          "name": "stdout",
          "text": [
            "prime-contractor-prefectureを保存しました\n",
            "{'statsDataId': '0000010103', 'cdCat01': 'C330410,C330411,C330412,C330413'}\n"
          ]
        },
        {
          "output_type": "stream",
          "name": "stderr",
          "text": [
            "1it [00:07,  7.04s/it]\n"
          ]
        },
        {
          "output_type": "stream",
          "name": "stdout",
          "text": [
            "prime-contractor-private-prefectureを保存しました\n",
            "{'statsDataId': '0000010103', 'cdCat01': 'C330420,C330421,C330422,C330423'}\n"
          ]
        },
        {
          "output_type": "stream",
          "name": "stderr",
          "text": [
            "1it [00:05,  5.57s/it]\n"
          ]
        },
        {
          "output_type": "stream",
          "name": "stdout",
          "text": [
            "prime-contractor-public-prefectureを保存しました\n",
            "{'statsDataId': '0000010103', 'cdCat01': 'C3305,C330501,C330502,C330503'}\n"
          ]
        },
        {
          "output_type": "stream",
          "name": "stderr",
          "text": [
            "1it [00:05,  5.59s/it]\n"
          ]
        },
        {
          "output_type": "stream",
          "name": "stdout",
          "text": [
            "sub-contractor-prefectureを保存しました\n",
            "{'statsDataId': '0000010103', 'cdCat01': 'C3306'}\n"
          ]
        },
        {
          "output_type": "stream",
          "name": "stderr",
          "text": [
            "1it [00:04,  4.66s/it]\n"
          ]
        },
        {
          "output_type": "stream",
          "name": "stdout",
          "text": [
            "construction-company-prefectureを保存しました\n",
            "{'statsDataId': '0000010103', 'cdCat01': 'C3307,C3308'}\n"
          ]
        },
        {
          "output_type": "stream",
          "name": "stderr",
          "text": [
            "1it [00:04,  4.39s/it]\n"
          ]
        },
        {
          "output_type": "stream",
          "name": "stdout",
          "text": [
            "public-works-prefectureを保存しました\n",
            "{'statsDataId': '0000010103', 'cdCat01': 'C3401'}\n"
          ]
        },
        {
          "output_type": "stream",
          "name": "stderr",
          "text": [
            "1it [00:04,  4.50s/it]\n"
          ]
        },
        {
          "output_type": "stream",
          "name": "stdout",
          "text": [
            "product-shipment-value-prefectureを保存しました\n",
            "{'statsDataId': '0000010103', 'cdCat01': 'C3402'}\n"
          ]
        },
        {
          "output_type": "stream",
          "name": "stderr",
          "text": [
            "1it [00:08,  8.92s/it]\n"
          ]
        },
        {
          "output_type": "stream",
          "name": "stdout",
          "text": [
            "manufacturing-added-value-prefectureを保存しました\n",
            "{'statsDataId': '0000010103', 'cdCat01': 'C3403,C3404,C3405'}\n"
          ]
        },
        {
          "output_type": "stream",
          "name": "stderr",
          "text": [
            "1it [00:05,  5.37s/it]\n"
          ]
        },
        {
          "output_type": "stream",
          "name": "stdout",
          "text": [
            "manufacturing-establishments-prefectureを保存しました\n",
            "{'statsDataId': '0000010103', 'cdCat01': 'C3406,C340601,C340602'}\n"
          ]
        },
        {
          "output_type": "stream",
          "name": "stderr",
          "text": [
            "1it [00:07,  7.35s/it]\n"
          ]
        },
        {
          "output_type": "stream",
          "name": "stdout",
          "text": [
            "industrial-water-volume-prefectureを保存しました\n",
            "{'statsDataId': '0000010103', 'cdCat01': 'C3501,C350101,C350102'}\n"
          ]
        },
        {
          "output_type": "stream",
          "name": "stderr",
          "text": [
            "1it [00:06,  6.44s/it]\n"
          ]
        },
        {
          "output_type": "stream",
          "name": "stdout",
          "text": [
            "product-sales-amount-prefectureを保存しました\n",
            "{'statsDataId': '0000010103', 'cdCat01': 'C3502,C350201,C350202,C3503,C350301,C350302'}\n"
          ]
        },
        {
          "output_type": "stream",
          "name": "stderr",
          "text": [
            "1it [00:05,  5.82s/it]\n"
          ]
        },
        {
          "output_type": "stream",
          "name": "stdout",
          "text": [
            "commercial-establishments-prefectureを保存しました\n",
            "{'statsDataId': '0000010103', 'cdCat01': 'C3704,C3705'}\n"
          ]
        },
        {
          "output_type": "stream",
          "name": "stderr",
          "text": [
            "1it [00:04,  4.83s/it]\n"
          ]
        },
        {
          "output_type": "stream",
          "name": "stdout",
          "text": [
            "railroad-passengers-prefectureを保存しました\n",
            "{'statsDataId': '0000010103', 'cdCat01': 'C3706'}\n"
          ]
        },
        {
          "output_type": "stream",
          "name": "stderr",
          "text": [
            "1it [00:04,  4.47s/it]\n"
          ]
        },
        {
          "output_type": "stream",
          "name": "stdout",
          "text": [
            "aviation-passengers-prefectureを保存しました\n",
            "{'statsDataId': '0000010103', 'cdCat01': 'C3707'}\n"
          ]
        },
        {
          "output_type": "stream",
          "name": "stderr",
          "text": [
            "1it [00:04,  4.40s/it]\n"
          ]
        },
        {
          "output_type": "stream",
          "name": "stdout",
          "text": [
            "ship-passengers-prefectureを保存しました\n",
            "{'statsDataId': '0000010103', 'cdCat01': 'C3708,C3709,C3710'}\n"
          ]
        },
        {
          "output_type": "stream",
          "name": "stderr",
          "text": [
            "1it [00:04,  4.38s/it]\n"
          ]
        },
        {
          "output_type": "stream",
          "name": "stdout",
          "text": [
            "transportation-operator-prefectureを保存しました\n",
            "{'statsDataId': '0000010103', 'cdCat01': 'C5101,C5102,C5103,C5104,C5105,C5106,C5107,C5108,C5109,C5110,C5111,C5112,C5113'}\n"
          ]
        },
        {
          "output_type": "stream",
          "name": "stderr",
          "text": [
            "1it [00:05,  5.80s/it]\n"
          ]
        },
        {
          "output_type": "stream",
          "name": "stdout",
          "text": [
            "consumer-price-index-prefectureを保存しました\n",
            "{'statsDataId': '0000010103', 'cdCat01': 'C5401,C5403,C5405'}\n"
          ]
        },
        {
          "output_type": "stream",
          "name": "stderr",
          "text": [
            "1it [00:05,  5.57s/it]\n"
          ]
        },
        {
          "output_type": "stream",
          "name": "stdout",
          "text": [
            "standard-price-prefectureを保存しました\n",
            "{'statsDataId': '0000010103', 'cdCat01': 'C5701,C5702,C5703,C5704,C5705,C5706,C5707,C5708,C5709,C5710,C5711,C5712'}\n"
          ]
        },
        {
          "output_type": "stream",
          "name": "stderr",
          "text": [
            "1it [00:07,  7.11s/it]\n"
          ]
        },
        {
          "output_type": "stream",
          "name": "stdout",
          "text": [
            "consumer-price-regional-difference-index-prefectureを保存しました\n",
            "{'statsDataId': '0000010104', 'cdCat01': 'D1201,D1202'}\n"
          ]
        },
        {
          "output_type": "stream",
          "name": "stderr",
          "text": [
            "1it [00:06,  6.24s/it]\n"
          ]
        },
        {
          "output_type": "stream",
          "name": "stdout",
          "text": [
            "administrative-staff-prefectureを保存しました\n",
            "{'statsDataId': '0000010104', 'cdCat01': 'D1203'}\n"
          ]
        },
        {
          "output_type": "stream",
          "name": "stderr",
          "text": [
            "1it [00:05,  5.14s/it]\n"
          ]
        },
        {
          "output_type": "stream",
          "name": "stdout",
          "text": [
            "fire-department-staff-prefectureを保存しました\n",
            "{'statsDataId': '0000010104', 'cdCat01': 'D1204'}\n"
          ]
        },
        {
          "output_type": "stream",
          "name": "stderr",
          "text": [
            "1it [00:05,  5.03s/it]\n"
          ]
        },
        {
          "output_type": "stream",
          "name": "stdout",
          "text": [
            "education-department-staff-prefectureを保存しました\n",
            "{'statsDataId': '0000010104', 'cdCat01': 'D1205'}\n"
          ]
        },
        {
          "output_type": "stream",
          "name": "stderr",
          "text": [
            "1it [00:07,  7.30s/it]\n"
          ]
        },
        {
          "output_type": "stream",
          "name": "stdout",
          "text": [
            "police-department-staff-prefectureを保存しました\n",
            "{'statsDataId': '0000010104', 'cdCat01': 'D1210,D1211'}\n"
          ]
        },
        {
          "output_type": "stream",
          "name": "stderr",
          "text": [
            "1it [00:04,  4.31s/it]\n"
          ]
        },
        {
          "output_type": "stream",
          "name": "stdout",
          "text": [
            "members-prefectureを保存しました\n",
            "{'statsDataId': '0000010104', 'cdCat01': 'D2101'}\n"
          ]
        },
        {
          "output_type": "stream",
          "name": "stderr",
          "text": [
            "1it [00:06,  6.43s/it]\n"
          ]
        },
        {
          "output_type": "stream",
          "name": "stdout",
          "text": [
            "financial-strength-index-prefectureを保存しました\n",
            "{'statsDataId': '0000010104', 'cdCat01': 'D2102'}\n"
          ]
        },
        {
          "output_type": "stream",
          "name": "stderr",
          "text": [
            "1it [00:06,  6.63s/it]\n"
          ]
        },
        {
          "output_type": "stream",
          "name": "stdout",
          "text": [
            "real-balance-ratio-prefectureを保存しました\n",
            "{'statsDataId': '0000010104', 'cdCat01': 'D2103'}\n"
          ]
        },
        {
          "output_type": "stream",
          "name": "stderr",
          "text": [
            "1it [00:05,  5.34s/it]\n"
          ]
        },
        {
          "output_type": "stream",
          "name": "stdout",
          "text": [
            "current-account-ratio-prefectureを保存しました\n",
            "{'statsDataId': '0000010104', 'cdCat01': 'D2105'}\n"
          ]
        },
        {
          "output_type": "stream",
          "name": "stderr",
          "text": [
            "1it [00:04,  4.01s/it]\n"
          ]
        },
        {
          "output_type": "stream",
          "name": "stdout",
          "text": [
            "standard-financial-income-prefectureを保存しました\n",
            "{'statsDataId': '0000010104', 'cdCat01': 'D2106'}\n"
          ]
        },
        {
          "output_type": "stream",
          "name": "stderr",
          "text": [
            "1it [00:04,  4.52s/it]\n"
          ]
        },
        {
          "output_type": "stream",
          "name": "stdout",
          "text": [
            "standard-financial-demand-prefectureを保存しました\n",
            "{'statsDataId': '0000010104', 'cdCat01': 'D2111'}\n"
          ]
        },
        {
          "output_type": "stream",
          "name": "stderr",
          "text": [
            "1it [00:04,  4.56s/it]\n"
          ]
        },
        {
          "output_type": "stream",
          "name": "stdout",
          "text": [
            "real-debt-service-ratio-prefectureを保存しました\n",
            "{'statsDataId': '0000010104', 'cdCat01': 'D2112'}\n"
          ]
        },
        {
          "output_type": "stream",
          "name": "stderr",
          "text": [
            "1it [00:06,  6.55s/it]\n"
          ]
        },
        {
          "output_type": "stream",
          "name": "stdout",
          "text": [
            "future-burden-ratio-prefectureを保存しました\n",
            "{'statsDataId': '0000010105', 'cdCat01': 'E1101,E110102,E1201,E120101,E120102,E120103'}\n"
          ]
        },
        {
          "output_type": "stream",
          "name": "stderr",
          "text": [
            "1it [00:06,  6.85s/it]\n"
          ]
        },
        {
          "output_type": "stream",
          "name": "stdout",
          "text": [
            "kindergarten-prefectureを保存しました\n",
            "{'statsDataId': '0000010105', 'cdCat01': 'E1301,E130101,E130102,E1302,E130201,E130202,E1303,E130301,E130302'}\n"
          ]
        },
        {
          "output_type": "stream",
          "name": "stderr",
          "text": [
            "1it [00:05,  5.77s/it]\n"
          ]
        },
        {
          "output_type": "stream",
          "name": "stdout",
          "text": [
            "kindergarten-teachers-prefectureを保存しました\n",
            "{'statsDataId': '0000010105', 'cdCat01': 'E1501,E150101,E150102,E150103,E150104,E150105,E1502,E150201,E150202,E150203,E150204,E150205'}\n"
          ]
        },
        {
          "output_type": "stream",
          "name": "stderr",
          "text": [
            "1it [00:05,  5.12s/it]\n"
          ]
        },
        {
          "output_type": "stream",
          "name": "stdout",
          "text": [
            "kindergarten-children-prefectureを保存しました\n",
            "{'statsDataId': '0000010105', 'cdCat01': 'E2101,E210101,E210102,E210103,E2202,E2203,E2205,E2206,E2207'}\n"
          ]
        },
        {
          "output_type": "stream",
          "name": "stderr",
          "text": [
            "1it [00:07,  7.35s/it]\n"
          ]
        },
        {
          "output_type": "stream",
          "name": "stdout",
          "text": [
            "primary-schools-prefectureを保存しました\n",
            "{'statsDataId': '0000010105', 'cdCat01': 'E2401,E240101,E240102,E2402,E240201,E240202'}\n"
          ]
        },
        {
          "output_type": "stream",
          "name": "stderr",
          "text": [
            "1it [00:04,  4.61s/it]\n"
          ]
        },
        {
          "output_type": "stream",
          "name": "stdout",
          "text": [
            "primary-school-teachers-prefectureを保存しました\n",
            "{'statsDataId': '0000010105', 'cdCat01': 'E2501,E250101,E250102,E2501021,E2501022,E2501023,E2501024,E2501025,E250103,E250104,E250105,E2502'}\n"
          ]
        },
        {
          "output_type": "stream",
          "name": "stderr",
          "text": [
            "1it [00:05,  5.28s/it]\n"
          ]
        },
        {
          "output_type": "stream",
          "name": "stdout",
          "text": [
            "primary-school-students-prefectureを保存しました\n",
            "{'statsDataId': '0000010105', 'cdCat01': 'E3101,E310101,E310102,E310103,E3202,E3203,E3205,E3206,E3207'}\n"
          ]
        },
        {
          "output_type": "stream",
          "name": "stderr",
          "text": [
            "1it [00:05,  5.88s/it]\n"
          ]
        },
        {
          "output_type": "stream",
          "name": "stdout",
          "text": [
            "junior-high-schools-prefectureを保存しました\n",
            "{'statsDataId': '0000010105', 'cdCat01': 'E3401,E340101,E340102,E3402,E340201,E340202'}\n"
          ]
        },
        {
          "output_type": "stream",
          "name": "stderr",
          "text": [
            "1it [00:04,  4.47s/it]\n"
          ]
        },
        {
          "output_type": "stream",
          "name": "stdout",
          "text": [
            "junior-high-school-teachers-prefectureを保存しました\n",
            "{'statsDataId': '0000010105', 'cdCat01': 'E3501,E350101,E3501011,E3501012,E3501013,E3501014,E3501015,E350102,E350103'}\n"
          ]
        },
        {
          "output_type": "stream",
          "name": "stderr",
          "text": [
            "1it [00:07,  7.13s/it]\n"
          ]
        },
        {
          "output_type": "stream",
          "name": "stdout",
          "text": [
            "junior-high-school-students-prefectureを保存しました\n",
            "{'statsDataId': '0000010105', 'cdCat01': 'E3701,E370101,E370102,E3702,E370201,E370202'}\n"
          ]
        },
        {
          "output_type": "stream",
          "name": "stderr",
          "text": [
            "1it [00:05,  5.19s/it]\n"
          ]
        },
        {
          "output_type": "stream",
          "name": "stdout",
          "text": [
            "junior-high-school-graduate-prefectureを保存しました\n",
            "{'statsDataId': '0000010105', 'cdCat01': 'E3801,E380101,E380102,E3802,E380201,E380202'}\n"
          ]
        },
        {
          "output_type": "stream",
          "name": "stderr",
          "text": [
            "1it [00:08,  8.13s/it]\n"
          ]
        },
        {
          "output_type": "stream",
          "name": "stdout",
          "text": [
            "junior-high-school-education-continuance-rateを保存しました\n",
            "{'statsDataId': '0000010105', 'cdCat01': 'E4101,E410101,E410102,E410103,E410201,E410202,E410203,E4202,E4207'}\n"
          ]
        },
        {
          "output_type": "stream",
          "name": "stderr",
          "text": [
            "1it [00:07,  7.56s/it]\n"
          ]
        },
        {
          "output_type": "stream",
          "name": "stdout",
          "text": [
            "high-schools-prefectureを保存しました\n",
            "{'statsDataId': '0000010105', 'cdCat01': 'E4401,E440101,E440102,E4402,E440201,E440202'}\n"
          ]
        },
        {
          "output_type": "stream",
          "name": "stderr",
          "text": [
            "1it [00:06,  6.84s/it]\n"
          ]
        },
        {
          "output_type": "stream",
          "name": "stdout",
          "text": [
            "high-school-teachers-prefectureを保存しました\n",
            "{'statsDataId': '0000010105', 'cdCat01': 'E4501,E450101,E450102,E450110,E450111,E450112,E450120,E450121,E450122,E4511,E451101,E451102,E4512,E451201,E451202,E4513,E451301,E451302,E4520,E452001,E452002'}\n"
          ]
        },
        {
          "output_type": "stream",
          "name": "stderr",
          "text": [
            "1it [00:08,  8.92s/it]\n"
          ]
        },
        {
          "output_type": "stream",
          "name": "stdout",
          "text": [
            "high-school-students-prefectureを保存しました\n",
            "{'statsDataId': '0000010105', 'cdCat01': 'E4601,E460101,E460102,E4602,E460201,E460202,E460210,E460220,E4603,E460301,E460302,E4604,E460401,E460402,E460410,E460411,E460412,E4605,E460501,E460502'}\n"
          ]
        },
        {
          "output_type": "stream",
          "name": "stderr",
          "text": [
            "1it [00:09,  9.13s/it]\n"
          ]
        },
        {
          "output_type": "stream",
          "name": "stdout",
          "text": [
            "high-school-graduate-prefectureを保存しました\n",
            "{'statsDataId': '0000010105', 'cdCat01': 'E4701,E470101,E470102,E4703,E470301,E470302'}\n"
          ]
        },
        {
          "output_type": "stream",
          "name": "stderr",
          "text": [
            "1it [00:04,  4.76s/it]\n"
          ]
        },
        {
          "output_type": "stream",
          "name": "stdout",
          "text": [
            "high-school-education-continuance-rateを保存しました\n",
            "{'statsDataId': '0000010105', 'cdCat01': 'E6101,E610101,E610102,E610103'}\n"
          ]
        },
        {
          "output_type": "stream",
          "name": "stderr",
          "text": [
            "1it [00:04,  4.82s/it]\n"
          ]
        },
        {
          "output_type": "stream",
          "name": "stdout",
          "text": [
            "junior-colleges-prefectureを保存しました\n",
            "{'statsDataId': '0000010105', 'cdCat01': 'E6102,E610201,E610202,E610203'}\n"
          ]
        },
        {
          "output_type": "stream",
          "name": "stderr",
          "text": [
            "1it [00:04,  4.85s/it]\n"
          ]
        },
        {
          "output_type": "stream",
          "name": "stdout",
          "text": [
            "colleges-prefectureを保存しました\n",
            "{'statsDataId': '0000010105', 'cdCat01': 'E6201,E620101,E620102,E620110,E620120,E620130'}\n"
          ]
        },
        {
          "output_type": "stream",
          "name": "stderr",
          "text": [
            "1it [00:05,  5.83s/it]\n"
          ]
        },
        {
          "output_type": "stream",
          "name": "stdout",
          "text": [
            "junior-college-teachers-prefectureを保存しました\n",
            "{'statsDataId': '0000010105', 'cdCat01': 'E6202,E620201,E620202,E620210,E620220,E620230'}\n"
          ]
        },
        {
          "output_type": "stream",
          "name": "stderr",
          "text": [
            "1it [00:06,  6.78s/it]\n"
          ]
        },
        {
          "output_type": "stream",
          "name": "stdout",
          "text": [
            "college-teachers-prefectureを保存しました\n",
            "{'statsDataId': '0000010105', 'cdCat01': 'E6301,E630101,E630102,E630110,E630111,E630112,E630120,E630121,E630122,E630130,E630131,E630132'}\n"
          ]
        },
        {
          "output_type": "stream",
          "name": "stderr",
          "text": [
            "1it [00:06,  6.94s/it]\n"
          ]
        },
        {
          "output_type": "stream",
          "name": "stdout",
          "text": [
            "junior-college-students-prefectureを保存しました\n",
            "{'statsDataId': '0000010105', 'cdCat01': 'E6302,E630201,E630202,E630210,E630211,E630212,E630220,E630221,E630222,E630230,E630231,E630232'}\n"
          ]
        },
        {
          "output_type": "stream",
          "name": "stderr",
          "text": [
            "1it [00:07,  7.13s/it]\n"
          ]
        },
        {
          "output_type": "stream",
          "name": "stdout",
          "text": [
            "college-students-prefectureを保存しました\n",
            "{'statsDataId': '0000010105', 'cdCat01': 'E6501,E650101,E650102,E650110,E650111,E650112,E650120,E650121,E650122,E650130,E650131,E650132'}\n"
          ]
        },
        {
          "output_type": "stream",
          "name": "stderr",
          "text": [
            "1it [00:05,  5.87s/it]\n"
          ]
        },
        {
          "output_type": "stream",
          "name": "stdout",
          "text": [
            "junior-college-graduate-prefectureを保存しました\n",
            "{'statsDataId': '0000010105', 'cdCat01': 'E6502,E650201,E650202,E650210,E650211,E650212,E650220,E650221,E650222,E650230,E650231,E650232'}\n"
          ]
        },
        {
          "output_type": "stream",
          "name": "stderr",
          "text": [
            "1it [00:07,  7.36s/it]\n"
          ]
        },
        {
          "output_type": "stream",
          "name": "stdout",
          "text": [
            "college-graduate-prefectureを保存しました\n",
            "{'statsDataId': '0000010105', 'cdCat01': 'E9102,E910201,E910202,E9103,E910301,E910302,E9105,E910501,E910502,E9106,E910601,E910602'}\n"
          ]
        },
        {
          "output_type": "stream",
          "name": "stderr",
          "text": [
            "1it [00:05,  5.82s/it]\n"
          ]
        },
        {
          "output_type": "stream",
          "name": "stdout",
          "text": [
            "final-educational-attainment-population-prefectureを保存しました\n",
            "{'statsDataId': '0000010105', 'cdCat01': 'E9414,E9415,E9416'}\n"
          ]
        },
        {
          "output_type": "stream",
          "name": "stderr",
          "text": [
            "1it [00:04,  4.24s/it]\n"
          ]
        },
        {
          "output_type": "stream",
          "name": "stdout",
          "text": [
            "electronic-blackboard-prefectureを保存しました\n",
            "{'statsDataId': '0000010105', 'cdCat01': 'E9417,E9418,E9419'}\n"
          ]
        },
        {
          "output_type": "stream",
          "name": "stderr",
          "text": [
            "1it [00:04,  4.65s/it]\n"
          ]
        },
        {
          "output_type": "stream",
          "name": "stdout",
          "text": [
            "large-presentation-device-prefectureを保存しました\n",
            "{'statsDataId': '0000010105', 'cdCat01': 'E9421,E9422,E9423'}\n"
          ]
        },
        {
          "output_type": "stream",
          "name": "stderr",
          "text": [
            "1it [00:04,  4.03s/it]\n"
          ]
        },
        {
          "output_type": "stream",
          "name": "stdout",
          "text": [
            "digital-textbook-prefectureを保存しました\n",
            "{'statsDataId': '0000010105', 'cdCat01': 'E9501'}\n"
          ]
        },
        {
          "output_type": "stream",
          "name": "stderr",
          "text": [
            "1it [00:04,  4.10s/it]\n"
          ]
        },
        {
          "output_type": "stream",
          "name": "stdout",
          "text": [
            "violence-prefectureを保存しました\n",
            "{'statsDataId': '0000010105', 'cdCat01': 'E9502,E9503'}\n"
          ]
        },
        {
          "output_type": "stream",
          "name": "stderr",
          "text": [
            "1it [00:04,  4.70s/it]\n"
          ]
        },
        {
          "output_type": "stream",
          "name": "stdout",
          "text": [
            "bullying-prefectureを保存しました\n",
            "{'statsDataId': '0000010106', 'cdCat01': 'F1101,F110101,F110102'}\n"
          ]
        },
        {
          "output_type": "stream",
          "name": "stderr",
          "text": [
            "1it [00:04,  4.79s/it]\n"
          ]
        },
        {
          "output_type": "stream",
          "name": "stdout",
          "text": [
            "labor-force-population-prefectureを保存しました\n",
            "{'statsDataId': '0000010106', 'cdCat01': 'F1107,F110701,F110702'}\n"
          ]
        },
        {
          "output_type": "stream",
          "name": "stderr",
          "text": [
            "1it [00:09,  9.70s/it]\n"
          ]
        },
        {
          "output_type": "stream",
          "name": "stdout",
          "text": [
            "unemployed-prefectureを保存しました\n",
            "{'statsDataId': '0000010106', 'cdCat01': 'F1108,F110801,F110802,F1109,F110901,F110902,F1110,F111001,F111002,F1111,F111101,F111102'}\n"
          ]
        },
        {
          "output_type": "stream",
          "name": "stderr",
          "text": [
            "1it [00:04,  4.73s/it]\n"
          ]
        },
        {
          "output_type": "stream",
          "name": "stdout",
          "text": [
            "non-labor-population-prefectureを保存しました\n",
            "{'statsDataId': '0000010106', 'cdCat01': 'F1501,F150101,F150102,F150103'}\n"
          ]
        },
        {
          "output_type": "stream",
          "name": "stderr",
          "text": [
            "1it [00:03,  3.92s/it]\n"
          ]
        },
        {
          "output_type": "stream",
          "name": "stdout",
          "text": [
            "co-worker-household-prefectureを保存しました\n",
            "{'statsDataId': '0000010106', 'cdCat01': 'F210101,F210102,F210201,F210202,F210301,F210302,F210401,F210402,F210501,F210502,F210601,F210602,F210701,F210702,F210801,F210802,F210901,F210902,F211001,F211002,F211101,F211102,F211201,F211202,F211301,F211302,F211401,F211402,F211501,F211502,F211601,F211602'}\n"
          ]
        },
        {
          "output_type": "stream",
          "name": "stderr",
          "text": [
            "1it [00:04,  4.93s/it]\n"
          ]
        },
        {
          "output_type": "stream",
          "name": "stdout",
          "text": [
            "employees-pyramid-prefectureを保存しました\n",
            "{'statsDataId': '0000010106', 'cdCat01': 'F6301,F6302,F6303'}\n"
          ]
        },
        {
          "output_type": "stream",
          "name": "stderr",
          "text": [
            "1it [00:04,  4.17s/it]\n"
          ]
        },
        {
          "output_type": "stream",
          "name": "stdout",
          "text": [
            "working-days-prefectureを保存しました\n",
            "{'statsDataId': '0000010106', 'cdCat01': 'F6401,F6402,F6403,F6404,F6405,F6406'}\n"
          ]
        },
        {
          "output_type": "stream",
          "name": "stderr",
          "text": [
            "1it [00:04,  4.63s/it]\n"
          ]
        },
        {
          "output_type": "stream",
          "name": "stdout",
          "text": [
            "starting-salary-prefectureを保存しました\n",
            "{'statsDataId': '0000010107', 'cdCat01': 'G7101,G710101,G710102,G710103,G710104,G710105,G710106'}\n"
          ]
        },
        {
          "output_type": "stream",
          "name": "stderr",
          "text": [
            "1it [00:04,  4.45s/it]\n"
          ]
        },
        {
          "output_type": "stream",
          "name": "stdout",
          "text": [
            "guests-prefectureを保存しました\n",
            "{'statsDataId': '0000010107', 'cdCat01': 'G7102,G710201,G710202,G710203,G710204'}\n"
          ]
        },
        {
          "output_type": "stream",
          "name": "stderr",
          "text": [
            "1it [00:05,  5.94s/it]\n"
          ]
        },
        {
          "output_type": "stream",
          "name": "stdout",
          "text": [
            "foreigner-guests-prefectureを保存しました\n",
            "{'statsDataId': '0000010108', 'cdCat01': 'H5609,H560901,H560902,H560903,H560904,H5610'}\n"
          ]
        },
        {
          "output_type": "stream",
          "name": "stderr",
          "text": [
            "1it [00:06,  6.99s/it]\n"
          ]
        },
        {
          "output_type": "stream",
          "name": "stdout",
          "text": [
            "garbage-discharged-prefectureを保存しました\n",
            "{'statsDataId': '0000010108', 'cdCat01': 'H5612,H561201'}\n"
          ]
        },
        {
          "output_type": "stream",
          "name": "stderr",
          "text": [
            "1it [00:08,  8.86s/it]\n"
          ]
        },
        {
          "output_type": "stream",
          "name": "stdout",
          "text": [
            "waste-processed-prefectureを保存しました\n",
            "{'statsDataId': '0000010108', 'cdCat01': 'H8101,H8102,H8103'}\n"
          ]
        },
        {
          "output_type": "stream",
          "name": "stderr",
          "text": [
            "1it [00:05,  5.74s/it]\n"
          ]
        },
        {
          "output_type": "stream",
          "name": "stdout",
          "text": [
            "city-planning-area-prefectureを保存しました\n",
            "{'statsDataId': '0000010108', 'cdCat01': 'H8104,H810401,H810402,H810403,H810404,H810405,H810406,H810407,H810408,H810409'}\n"
          ]
        },
        {
          "output_type": "stream",
          "name": "stderr",
          "text": [
            "1it [00:05,  5.46s/it]\n"
          ]
        },
        {
          "output_type": "stream",
          "name": "stdout",
          "text": [
            "use-area-prefectureを保存しました\n",
            "{'statsDataId': '0000010109', 'cdCat01': 'I6100,I6101,I610101,I610102,I610110,I610111,I610112,I610120,I6102,I611110,I611111,I611112'}\n"
          ]
        },
        {
          "output_type": "stream",
          "name": "stderr",
          "text": [
            "1it [00:04,  4.95s/it]\n"
          ]
        },
        {
          "output_type": "stream",
          "name": "stdout",
          "text": [
            "doctors-prefectureを保存しました\n",
            "{'statsDataId': '0000010109', 'cdCat01': 'I6200,I6201,I620110,I620111,I620120,I621110,I621111'}\n"
          ]
        },
        {
          "output_type": "stream",
          "name": "stderr",
          "text": [
            "1it [00:07,  7.23s/it]\n"
          ]
        },
        {
          "output_type": "stream",
          "name": "stdout",
          "text": [
            "dentist-prefectureを保存しました\n",
            "{'statsDataId': '0000010109', 'cdCat01': 'I6300,I6310,I6311,I6312,I631210,I631211,I6320,I6330'}\n"
          ]
        },
        {
          "output_type": "stream",
          "name": "stderr",
          "text": [
            "1it [00:06,  6.00s/it]\n"
          ]
        },
        {
          "output_type": "stream",
          "name": "stdout",
          "text": [
            "pharmacist-prefectureを保存しました\n",
            "{'statsDataId': '0000010109', 'cdCat01': 'I6400,I6401,I640110,I640111,I640112,I640120,I640130,I6402,I641110,I641111,I641112'}\n"
          ]
        },
        {
          "output_type": "stream",
          "name": "stderr",
          "text": [
            "1it [00:04,  4.37s/it]\n"
          ]
        },
        {
          "output_type": "stream",
          "name": "stdout",
          "text": [
            "nurse-prefectureを保存しました\n",
            "{'statsDataId': '0000010109', 'cdCat01': 'I6500,I6501,I650110,I650111,I650112,I650120,I650130,I6502,I651110,I651111,I651112'}\n"
          ]
        },
        {
          "output_type": "stream",
          "name": "stderr",
          "text": [
            "1it [00:04,  4.80s/it]\n"
          ]
        },
        {
          "output_type": "stream",
          "name": "stdout",
          "text": [
            "associate-nurse-prefectureを保存しました\n",
            "{'statsDataId': '0000010109', 'cdCat01': 'I7102'}\n"
          ]
        },
        {
          "output_type": "stream",
          "name": "stderr",
          "text": [
            "1it [00:04,  4.75s/it]\n"
          ]
        },
        {
          "output_type": "stream",
          "name": "stdout",
          "text": [
            "pharmacy-prefectureを保存しました\n",
            "{'statsDataId': '0000010110', 'cdCat01': 'J2301,J2304'}\n"
          ]
        },
        {
          "output_type": "stream",
          "name": "stderr",
          "text": [
            "1it [00:07,  7.83s/it]\n"
          ]
        },
        {
          "output_type": "stream",
          "name": "stdout",
          "text": [
            "welfare-facilities-elderly-prefectureを保存しました\n",
            "{'statsDataId': '0000010110', 'cdCat01': 'J4001,J4002,J4003,J4005,J4006'}\n"
          ]
        },
        {
          "output_type": "stream",
          "name": "stderr",
          "text": [
            "1it [00:04,  4.68s/it]\n"
          ]
        },
        {
          "output_type": "stream",
          "name": "stdout",
          "text": [
            "national-medical-expenses-prefectureを保存しました\n",
            "{'statsDataId': '0000010110', 'cdCat01': 'J4101,J4106,J4107'}\n"
          ]
        },
        {
          "output_type": "stream",
          "name": "stderr",
          "text": [
            "1it [00:04,  4.70s/it]\n"
          ]
        },
        {
          "output_type": "stream",
          "name": "stdout",
          "text": [
            "national-health-insurance-prefectureを保存しました\n",
            "{'statsDataId': '0000010110', 'cdCat01': 'J4102,J4108'}\n"
          ]
        },
        {
          "output_type": "stream",
          "name": "stderr",
          "text": [
            "1it [00:04,  4.19s/it]\n"
          ]
        },
        {
          "output_type": "stream",
          "name": "stdout",
          "text": [
            "national-health-insurance-benefit-amount-prefectureを保存しました\n",
            "{'statsDataId': '0000010111', 'cdCat01': 'K2105'}\n"
          ]
        },
        {
          "output_type": "stream",
          "name": "stderr",
          "text": [
            "1it [00:05,  5.32s/it]\n"
          ]
        },
        {
          "output_type": "stream",
          "name": "stdout",
          "text": [
            "fire-damage-amount-prefectureを保存しました\n",
            "{'statsDataId': '0000010111', 'cdCat01': 'K2109,K2110,K2111'}\n"
          ]
        },
        {
          "output_type": "stream",
          "name": "stderr",
          "text": [
            "1it [00:08,  8.28s/it]\n"
          ]
        },
        {
          "output_type": "stream",
          "name": "stdout",
          "text": [
            "fire-casualties-prefectureを保存しました\n",
            "{'statsDataId': '0000010111', 'cdCat01': 'K3101,K3104,K4402,K4403,K4404'}\n"
          ]
        },
        {
          "output_type": "stream",
          "name": "stderr",
          "text": [
            "1it [00:05,  5.03s/it]\n"
          ]
        },
        {
          "output_type": "stream",
          "name": "stdout",
          "text": [
            "incident-prefectureを保存しました\n",
            "{'statsDataId': '0000010111', 'cdCat01': 'K3102,K310201,K310202,K310203,K3103'}\n"
          ]
        },
        {
          "output_type": "stream",
          "name": "stderr",
          "text": [
            "1it [00:06,  6.46s/it]\n"
          ]
        },
        {
          "output_type": "stream",
          "name": "stdout",
          "text": [
            "traffic-accident-casualties-prefectureを保存しました\n",
            "{'statsDataId': '0000010111', 'cdCat01': 'K4401'}\n"
          ]
        },
        {
          "output_type": "stream",
          "name": "stderr",
          "text": [
            "1it [00:04,  4.53s/it]\n"
          ]
        },
        {
          "output_type": "stream",
          "name": "stdout",
          "text": [
            "road-traffic-law-prefectureを保存しました\n",
            "{'statsDataId': '0000010111', 'cdCat01': 'K6103,K610301,K610302,K610303,K610304,K610305,K610306,K610307'}\n"
          ]
        },
        {
          "output_type": "stream",
          "name": "stderr",
          "text": [
            "1it [00:05,  5.05s/it]\n"
          ]
        },
        {
          "output_type": "stream",
          "name": "stdout",
          "text": [
            "pollution-complaints-prefectureを保存しました\n",
            "{'statsDataId': '0000010111', 'cdCat01': 'K6107,K6108'}\n"
          ]
        },
        {
          "output_type": "stream",
          "name": "stderr",
          "text": [
            "1it [00:05,  5.64s/it]\n"
          ]
        },
        {
          "output_type": "stream",
          "name": "stdout",
          "text": [
            "calculated-greenhouse-gas-emissions-prefectureを保存しました\n",
            "{'statsDataId': '0000010112', 'cdCat01': 'L7110,L7111,L711101,L7111011,L7111012,L7111013,L711102,L711103'}\n"
          ]
        },
        {
          "output_type": "stream",
          "name": "stderr",
          "text": [
            "1it [00:04,  4.66s/it]\n"
          ]
        },
        {
          "output_type": "stream",
          "name": "stdout",
          "text": [
            "income-prefectureを保存しました\n",
            "{'statsDataId': '0000010112', 'cdCat01': 'L7130'}\n"
          ]
        },
        {
          "output_type": "stream",
          "name": "stderr",
          "text": [
            "1it [00:04,  4.65s/it]\n"
          ]
        },
        {
          "output_type": "stream",
          "name": "stdout",
          "text": [
            "disposable-income-prefectureを保存しました\n",
            "{'statsDataId': '0000010112', 'cdCat01': 'L7210,L7211,L721101,L721102,L721103,L721104,L721105,L721106,L721107,L721108,L721109,L7211091,L721110,L7212'}\n"
          ]
        },
        {
          "output_type": "stream",
          "name": "stderr",
          "text": [
            "1it [00:06,  6.44s/it]\n"
          ]
        },
        {
          "output_type": "stream",
          "name": "stdout",
          "text": [
            "consumption-expenditure-prefectureを保存しました\n",
            "{'statsDataId': '0000010112', 'cdCat01': 'L730101,L730102,L730103,L730104,L730201,L730202,L730203,L730204,L740101,L740102,L740201,L740202'}\n"
          ]
        },
        {
          "output_type": "stream",
          "name": "stderr",
          "text": [
            "1it [00:04,  4.68s/it]\n"
          ]
        },
        {
          "output_type": "stream",
          "name": "stdout",
          "text": [
            "financial-assets-prefectureを保存しました\n",
            "{'statsDataId': '0000020202', 'cdCat01': 'B1101,B1102'}\n"
          ]
        },
        {
          "output_type": "stream",
          "name": "stderr",
          "text": [
            "1it [00:14, 14.69s/it]\n"
          ]
        },
        {
          "output_type": "stream",
          "name": "stdout",
          "text": [
            "total-area-cityを保存しました\n",
            "{'statsDataId': '0000020202', 'cdCat01': 'B1103'}\n"
          ]
        },
        {
          "output_type": "stream",
          "name": "stderr",
          "text": [
            "1it [00:13, 13.96s/it]\n"
          ]
        },
        {
          "output_type": "stream",
          "name": "stdout",
          "text": [
            "habitable-area-cityを保存しました\n",
            "{'statsDataId': '0000020202', 'cdCat01': 'B1105,B1106,B1107'}\n"
          ]
        },
        {
          "output_type": "stream",
          "name": "stderr",
          "text": [
            "1it [00:09,  9.63s/it]\n"
          ]
        },
        {
          "output_type": "stream",
          "name": "stdout",
          "text": [
            "forest-area-cityを保存しました\n",
            "{'statsDataId': '0000020202', 'cdCat01': 'B1201,B120103'}\n"
          ]
        },
        {
          "output_type": "stream",
          "name": "stderr",
          "text": [
            "1it [00:12, 12.45s/it]\n"
          ]
        },
        {
          "output_type": "stream",
          "name": "stdout",
          "text": [
            "evaluation-total-cadastral-cityを保存しました\n",
            "{'statsDataId': '0000020203', 'cdCat01': 'C120110'}\n"
          ]
        },
        {
          "output_type": "stream",
          "name": "stderr",
          "text": [
            "1it [00:12, 12.52s/it]\n"
          ]
        },
        {
          "output_type": "stream",
          "name": "stdout",
          "text": [
            "taxable-income-cityを保存しました\n",
            "{'statsDataId': '0000020203', 'cdCat01': 'C120120,C120130'}\n"
          ]
        },
        {
          "output_type": "stream",
          "name": "stderr",
          "text": [
            "1it [00:15, 15.79s/it]\n"
          ]
        },
        {
          "output_type": "stream",
          "name": "stdout",
          "text": [
            "taxpayer-cityを保存しました\n",
            "{'statsDataId': '0000020203', 'cdCat01': 'C2107,C2110,C2111,C2112'}\n"
          ]
        },
        {
          "output_type": "stream",
          "name": "stderr",
          "text": [
            "1it [00:09,  9.16s/it]\n"
          ]
        },
        {
          "output_type": "stream",
          "name": "stdout",
          "text": [
            "establishments-cityを保存しました\n",
            "{'statsDataId': '0000020203', 'cdCat01': 'C2207,C2210,C2211,C2212,F1102,F110201,F110202,F1103,F1104,F1105,F1106'}\n"
          ]
        },
        {
          "output_type": "stream",
          "name": "stderr",
          "text": [
            "1it [00:05,  5.85s/it]\n"
          ]
        },
        {
          "output_type": "stream",
          "name": "stdout",
          "text": [
            "employees-cityを保存しました\n",
            "{'statsDataId': '0000020203', 'cdCat01': 'C3101'}\n"
          ]
        },
        {
          "output_type": "stream",
          "name": "stderr",
          "text": [
            "1it [00:11, 11.85s/it]\n"
          ]
        },
        {
          "output_type": "stream",
          "name": "stdout",
          "text": [
            "agricultural-output-cityを保存しました\n",
            "{'statsDataId': '0000020203', 'cdCat01': 'C310201,C310202,C310211,C310212'}\n"
          ]
        },
        {
          "output_type": "stream",
          "name": "stderr",
          "text": [
            "1it [00:07,  7.78s/it]\n"
          ]
        },
        {
          "output_type": "stream",
          "name": "stdout",
          "text": [
            "farmers-cityを保存しました\n",
            "{'statsDataId': '0000020203', 'cdCat01': 'C3107'}\n"
          ]
        },
        {
          "output_type": "stream",
          "name": "stderr",
          "text": [
            "1it [00:09,  9.75s/it]\n"
          ]
        },
        {
          "output_type": "stream",
          "name": "stdout",
          "text": [
            "agricultural-land-cityを保存しました\n",
            "{'statsDataId': '0000020203', 'cdCat01': 'C3109'}\n"
          ]
        },
        {
          "output_type": "stream",
          "name": "stderr",
          "text": [
            "1it [00:04,  4.49s/it]\n"
          ]
        },
        {
          "output_type": "stream",
          "name": "stdout",
          "text": [
            "abandoned-cultivated-cityを保存しました\n",
            "{'statsDataId': '0000020203', 'cdCat01': 'C3401'}\n"
          ]
        },
        {
          "output_type": "stream",
          "name": "stderr",
          "text": [
            "1it [00:12, 12.85s/it]\n"
          ]
        },
        {
          "output_type": "stream",
          "name": "stdout",
          "text": [
            "product-shipment-value-cityを保存しました\n",
            "{'statsDataId': '0000020203', 'cdCat01': 'C3403,C3404'}\n"
          ]
        },
        {
          "output_type": "stream",
          "name": "stderr",
          "text": [
            "1it [00:18, 18.87s/it]\n"
          ]
        },
        {
          "output_type": "stream",
          "name": "stdout",
          "text": [
            "manufacturing-establishments-cityを保存しました\n",
            "{'statsDataId': '0000020203', 'cdCat01': 'C3501,C350101,C350102'}\n"
          ]
        },
        {
          "output_type": "stream",
          "name": "stderr",
          "text": [
            "1it [00:10, 10.31s/it]\n"
          ]
        },
        {
          "output_type": "stream",
          "name": "stdout",
          "text": [
            "product-sales-amount-cityを保存しました\n",
            "{'statsDataId': '0000020203', 'cdCat01': 'C3502,C350201,C350202,C3503,C350301,C350302'}\n"
          ]
        },
        {
          "output_type": "stream",
          "name": "stderr",
          "text": [
            "1it [00:15, 15.63s/it]\n"
          ]
        },
        {
          "output_type": "stream",
          "name": "stdout",
          "text": [
            "commercial-establishments-cityを保存しました\n",
            "{'statsDataId': '0000020203', 'cdCat01': 'C5401,C5403,C5405'}\n"
          ]
        },
        {
          "output_type": "stream",
          "name": "stderr",
          "text": [
            "1it [00:18, 18.50s/it]\n"
          ]
        },
        {
          "output_type": "stream",
          "name": "stdout",
          "text": [
            "standard-price-cityを保存しました\n",
            "{'statsDataId': '0000020204', 'cdCat01': 'D1202'}\n"
          ]
        },
        {
          "output_type": "stream",
          "name": "stderr",
          "text": [
            "1it [00:10, 10.83s/it]\n"
          ]
        },
        {
          "output_type": "stream",
          "name": "stdout",
          "text": [
            "administrative-staff-cityを保存しました\n",
            "{'statsDataId': '0000020204', 'cdCat01': 'D2201'}\n"
          ]
        },
        {
          "output_type": "stream",
          "name": "stderr",
          "text": [
            "1it [00:14, 14.76s/it]\n"
          ]
        },
        {
          "output_type": "stream",
          "name": "stdout",
          "text": [
            "financial-strength-index-cityを保存しました\n",
            "{'statsDataId': '0000020204', 'cdCat01': 'D2202'}\n"
          ]
        },
        {
          "output_type": "stream",
          "name": "stderr",
          "text": [
            "1it [00:17, 17.90s/it]\n"
          ]
        },
        {
          "output_type": "stream",
          "name": "stdout",
          "text": [
            "real-balance-ratio-cityを保存しました\n",
            "{'statsDataId': '0000020204', 'cdCat01': 'D2203'}\n"
          ]
        },
        {
          "output_type": "stream",
          "name": "stderr",
          "text": [
            "1it [00:08,  8.73s/it]\n"
          ]
        },
        {
          "output_type": "stream",
          "name": "stdout",
          "text": [
            "current-account-ratio-cityを保存しました\n",
            "{'statsDataId': '0000020204', 'cdCat01': 'D2205'}\n"
          ]
        },
        {
          "output_type": "stream",
          "name": "stderr",
          "text": [
            "1it [00:10, 10.42s/it]\n"
          ]
        },
        {
          "output_type": "stream",
          "name": "stdout",
          "text": [
            "standard-financial-income-cityを保存しました\n",
            "{'statsDataId': '0000020204', 'cdCat01': 'D2206'}\n"
          ]
        },
        {
          "output_type": "stream",
          "name": "stderr",
          "text": [
            "1it [00:11, 11.41s/it]\n"
          ]
        },
        {
          "output_type": "stream",
          "name": "stdout",
          "text": [
            "standard-financial-demand-cityを保存しました\n",
            "{'statsDataId': '0000020204', 'cdCat01': 'D2211'}\n"
          ]
        },
        {
          "output_type": "stream",
          "name": "stderr",
          "text": [
            "1it [00:06,  6.20s/it]\n"
          ]
        },
        {
          "output_type": "stream",
          "name": "stdout",
          "text": [
            "real-debt-service-ratio-cityを保存しました\n",
            "{'statsDataId': '0000020204', 'cdCat01': 'D2212'}\n"
          ]
        },
        {
          "output_type": "stream",
          "name": "stderr",
          "text": [
            "1it [00:06,  6.21s/it]\n"
          ]
        },
        {
          "output_type": "stream",
          "name": "stdout",
          "text": [
            "future-burden-ratio-cityを保存しました\n",
            "{'statsDataId': '0000020205', 'cdCat01': 'E1101'}\n"
          ]
        },
        {
          "output_type": "stream",
          "name": "stderr",
          "text": [
            "1it [00:11, 11.97s/it]\n"
          ]
        },
        {
          "output_type": "stream",
          "name": "stdout",
          "text": [
            "kindergarten-cityを保存しました\n",
            "{'statsDataId': '0000020205', 'cdCat01': 'E1501'}\n"
          ]
        },
        {
          "output_type": "stream",
          "name": "stderr",
          "text": [
            "1it [00:13, 13.41s/it]\n"
          ]
        },
        {
          "output_type": "stream",
          "name": "stdout",
          "text": [
            "kindergarten-children-cityを保存しました\n",
            "{'statsDataId': '0000020205', 'cdCat01': 'E2101'}\n"
          ]
        },
        {
          "output_type": "stream",
          "name": "stderr",
          "text": [
            "1it [00:12, 12.03s/it]\n"
          ]
        },
        {
          "output_type": "stream",
          "name": "stdout",
          "text": [
            "primary-schools-cityを保存しました\n",
            "{'statsDataId': '0000020205', 'cdCat01': 'E2401'}\n"
          ]
        },
        {
          "output_type": "stream",
          "name": "stderr",
          "text": [
            "1it [00:12, 12.17s/it]\n"
          ]
        },
        {
          "output_type": "stream",
          "name": "stdout",
          "text": [
            "primary-schools-teacher-cityを保存しました\n",
            "{'statsDataId': '0000020205', 'cdCat01': 'E2501'}\n"
          ]
        },
        {
          "output_type": "stream",
          "name": "stderr",
          "text": [
            "1it [00:11, 11.36s/it]\n"
          ]
        },
        {
          "output_type": "stream",
          "name": "stdout",
          "text": [
            "primary-schools-student-cityを保存しました\n",
            "{'statsDataId': '0000020205', 'cdCat01': 'E3101'}\n"
          ]
        },
        {
          "output_type": "stream",
          "name": "stderr",
          "text": [
            "1it [00:15, 15.93s/it]\n"
          ]
        },
        {
          "output_type": "stream",
          "name": "stdout",
          "text": [
            "junior-high-schools-cityを保存しました\n",
            "{'statsDataId': '0000020205', 'cdCat01': 'E3401'}\n"
          ]
        },
        {
          "output_type": "stream",
          "name": "stderr",
          "text": [
            "1it [00:18, 18.70s/it]\n"
          ]
        },
        {
          "output_type": "stream",
          "name": "stdout",
          "text": [
            "junior-high-school-teacher-cityを保存しました\n",
            "{'statsDataId': '0000020205', 'cdCat01': 'E3501'}\n"
          ]
        },
        {
          "output_type": "stream",
          "name": "stderr",
          "text": [
            "1it [00:11, 11.21s/it]\n"
          ]
        },
        {
          "output_type": "stream",
          "name": "stdout",
          "text": [
            "junior-high-school-student-cityを保存しました\n",
            "{'statsDataId': '0000020205', 'cdCat01': 'E4101'}\n"
          ]
        },
        {
          "output_type": "stream",
          "name": "stderr",
          "text": [
            "1it [00:12, 12.51s/it]\n"
          ]
        },
        {
          "output_type": "stream",
          "name": "stdout",
          "text": [
            "high-schools-cityを保存しました\n",
            "{'statsDataId': '0000020205', 'cdCat01': 'E4501'}\n"
          ]
        },
        {
          "output_type": "stream",
          "name": "stderr",
          "text": [
            "1it [00:11, 11.34s/it]\n"
          ]
        },
        {
          "output_type": "stream",
          "name": "stdout",
          "text": [
            "high-school-student-cityを保存しました\n",
            "{'statsDataId': '0000020205', 'cdCat01': 'E9102,E9103,E9105,E9106'}\n"
          ]
        },
        {
          "output_type": "stream",
          "name": "stderr",
          "text": [
            "1it [00:05,  5.84s/it]\n"
          ]
        },
        {
          "output_type": "stream",
          "name": "stdout",
          "text": [
            "final-educational-attainment-population-cityを保存しました\n",
            "{'statsDataId': '0000020206', 'cdCat01': 'F1101,F110101,F110102'}\n"
          ]
        },
        {
          "output_type": "stream",
          "name": "stderr",
          "text": [
            "1it [00:07,  7.15s/it]\n"
          ]
        },
        {
          "output_type": "stream",
          "name": "stdout",
          "text": [
            "labor-force-population-cityを保存しました\n",
            "{'statsDataId': '0000020206', 'cdCat01': 'F1107,F110701,F110702'}\n"
          ]
        },
        {
          "output_type": "stream",
          "name": "stderr",
          "text": [
            "1it [00:07,  7.49s/it]\n"
          ]
        },
        {
          "output_type": "stream",
          "name": "stdout",
          "text": [
            "unemployed-cityを保存しました\n",
            "{'statsDataId': '0000020206', 'cdCat01': 'F1108,F110801,F110802,F1109,F1110,F1111'}\n"
          ]
        },
        {
          "output_type": "stream",
          "name": "stderr",
          "text": [
            "1it [00:08,  8.60s/it]\n"
          ]
        },
        {
          "output_type": "stream",
          "name": "stdout",
          "text": [
            "non-labor-population-cityを保存しました\n",
            "{'statsDataId': '0000020208', 'cdCat01': 'H5609,H560901,H560902,H560903,H560904,H5610'}\n"
          ]
        },
        {
          "output_type": "error",
          "ename": "TypeError",
          "evalue": "ignored",
          "traceback": [
            "\u001b[0;31m---------------------------------------------------------------------------\u001b[0m",
            "\u001b[0;31mTypeError\u001b[0m                                 Traceback (most recent call last)",
            "\u001b[0;32m<ipython-input-51-d98c9a4b32b2>\u001b[0m in \u001b[0;36m<module>\u001b[0;34m\u001b[0m\n\u001b[1;32m     16\u001b[0m \u001b[0;34m\u001b[0m\u001b[0m\n\u001b[1;32m     17\u001b[0m   \u001b[0;31m# データフレームの内容をBigQueryのテーブルに追加\u001b[0m\u001b[0;34m\u001b[0m\u001b[0;34m\u001b[0m\u001b[0;34m\u001b[0m\u001b[0m\n\u001b[0;32m---> 18\u001b[0;31m   \u001b[0mdf\u001b[0m \u001b[0;34m=\u001b[0m \u001b[0mget_estat_dataframe\u001b[0m\u001b[0;34m(\u001b[0m\u001b[0mestatParams\u001b[0m\u001b[0;34m)\u001b[0m\u001b[0;34m\u001b[0m\u001b[0;34m\u001b[0m\u001b[0m\n\u001b[0m\u001b[1;32m     19\u001b[0m   \u001b[0mdf\u001b[0m\u001b[0;34m.\u001b[0m\u001b[0mto_gbq\u001b[0m\u001b[0;34m(\u001b[0m \u001b[0;34mf'{dataset_id}.{table_id}'\u001b[0m\u001b[0;34m,\u001b[0m \u001b[0mproject_id\u001b[0m\u001b[0;34m=\u001b[0m\u001b[0mproject_id\u001b[0m\u001b[0;34m,\u001b[0m \u001b[0mif_exists\u001b[0m\u001b[0;34m=\u001b[0m\u001b[0;34m\"replace\"\u001b[0m\u001b[0;34m)\u001b[0m\u001b[0;34m\u001b[0m\u001b[0;34m\u001b[0m\u001b[0m\n\u001b[1;32m     20\u001b[0m \u001b[0;34m\u001b[0m\u001b[0m\n",
            "\u001b[0;32m<ipython-input-50-66ab8472a8e9>\u001b[0m in \u001b[0;36mget_estat_dataframe\u001b[0;34m(params)\u001b[0m\n\u001b[1;32m     13\u001b[0m   \u001b[0mres\u001b[0m \u001b[0;34m=\u001b[0m \u001b[0mget_estat_response\u001b[0m\u001b[0;34m(\u001b[0m\u001b[0mparams\u001b[0m\u001b[0;34m)\u001b[0m\u001b[0;34m\u001b[0m\u001b[0;34m\u001b[0m\u001b[0m\n\u001b[1;32m     14\u001b[0m   \u001b[0mdf_res\u001b[0m \u001b[0;34m=\u001b[0m \u001b[0mconv_estat_response_to_dataframe\u001b[0m\u001b[0;34m(\u001b[0m\u001b[0mres\u001b[0m\u001b[0;34m)\u001b[0m\u001b[0;34m\u001b[0m\u001b[0;34m\u001b[0m\u001b[0m\n\u001b[0;32m---> 15\u001b[0;31m   \u001b[0mdf_res\u001b[0m \u001b[0;34m=\u001b[0m \u001b[0mformat_estat_dataframe\u001b[0m\u001b[0;34m(\u001b[0m\u001b[0mdf_res\u001b[0m\u001b[0;34m)\u001b[0m\u001b[0;34m\u001b[0m\u001b[0;34m\u001b[0m\u001b[0m\n\u001b[0m\u001b[1;32m     16\u001b[0m \u001b[0;34m\u001b[0m\u001b[0m\n\u001b[1;32m     17\u001b[0m   \u001b[0;32mreturn\u001b[0m \u001b[0mdf_res\u001b[0m\u001b[0;34m\u001b[0m\u001b[0;34m\u001b[0m\u001b[0m\n",
            "\u001b[0;32m<ipython-input-50-66ab8472a8e9>\u001b[0m in \u001b[0;36mformat_estat_dataframe\u001b[0;34m(df_arg)\u001b[0m\n\u001b[1;32m     83\u001b[0m \u001b[0;34m\u001b[0m\u001b[0m\n\u001b[1;32m     84\u001b[0m   \u001b[0;31m# timeCodeを文字列4桁に置換\u001b[0m\u001b[0;34m\u001b[0m\u001b[0;34m\u001b[0m\u001b[0;34m\u001b[0m\u001b[0m\n\u001b[0;32m---> 85\u001b[0;31m   \u001b[0mdf\u001b[0m\u001b[0;34m[\u001b[0m\u001b[0;34m'timeCode'\u001b[0m\u001b[0;34m]\u001b[0m \u001b[0;34m=\u001b[0m \u001b[0mdf\u001b[0m\u001b[0;34m.\u001b[0m\u001b[0mapply\u001b[0m\u001b[0;34m(\u001b[0m\u001b[0;32mlambda\u001b[0m \u001b[0mx\u001b[0m\u001b[0;34m:\u001b[0m \u001b[0mx\u001b[0m\u001b[0;34m[\u001b[0m\u001b[0;34m'timeCode'\u001b[0m\u001b[0;34m]\u001b[0m\u001b[0;34m[\u001b[0m\u001b[0;34m:\u001b[0m\u001b[0;36m4\u001b[0m\u001b[0;34m]\u001b[0m\u001b[0;34m,\u001b[0m \u001b[0;36m1\u001b[0m\u001b[0;34m)\u001b[0m\u001b[0;34m\u001b[0m\u001b[0;34m\u001b[0m\u001b[0m\n\u001b[0m\u001b[1;32m     86\u001b[0m \u001b[0;34m\u001b[0m\u001b[0m\n\u001b[1;32m     87\u001b[0m   \u001b[0;31m# 地域情報をマージ\u001b[0m\u001b[0;34m\u001b[0m\u001b[0;34m\u001b[0m\u001b[0;34m\u001b[0m\u001b[0m\n",
            "\u001b[0;32m/usr/local/lib/python3.7/dist-packages/pandas/core/frame.py\u001b[0m in \u001b[0;36mapply\u001b[0;34m(self, func, axis, raw, result_type, args, **kwargs)\u001b[0m\n\u001b[1;32m   8738\u001b[0m             \u001b[0mkwargs\u001b[0m\u001b[0;34m=\u001b[0m\u001b[0mkwargs\u001b[0m\u001b[0;34m,\u001b[0m\u001b[0;34m\u001b[0m\u001b[0;34m\u001b[0m\u001b[0m\n\u001b[1;32m   8739\u001b[0m         )\n\u001b[0;32m-> 8740\u001b[0;31m         \u001b[0;32mreturn\u001b[0m \u001b[0mop\u001b[0m\u001b[0;34m.\u001b[0m\u001b[0mapply\u001b[0m\u001b[0;34m(\u001b[0m\u001b[0;34m)\u001b[0m\u001b[0;34m\u001b[0m\u001b[0;34m\u001b[0m\u001b[0m\n\u001b[0m\u001b[1;32m   8741\u001b[0m \u001b[0;34m\u001b[0m\u001b[0m\n\u001b[1;32m   8742\u001b[0m     def applymap(\n",
            "\u001b[0;32m/usr/local/lib/python3.7/dist-packages/pandas/core/apply.py\u001b[0m in \u001b[0;36mapply\u001b[0;34m(self)\u001b[0m\n\u001b[1;32m    686\u001b[0m             \u001b[0;32mreturn\u001b[0m \u001b[0mself\u001b[0m\u001b[0;34m.\u001b[0m\u001b[0mapply_raw\u001b[0m\u001b[0;34m(\u001b[0m\u001b[0;34m)\u001b[0m\u001b[0;34m\u001b[0m\u001b[0;34m\u001b[0m\u001b[0m\n\u001b[1;32m    687\u001b[0m \u001b[0;34m\u001b[0m\u001b[0m\n\u001b[0;32m--> 688\u001b[0;31m         \u001b[0;32mreturn\u001b[0m \u001b[0mself\u001b[0m\u001b[0;34m.\u001b[0m\u001b[0mapply_standard\u001b[0m\u001b[0;34m(\u001b[0m\u001b[0;34m)\u001b[0m\u001b[0;34m\u001b[0m\u001b[0;34m\u001b[0m\u001b[0m\n\u001b[0m\u001b[1;32m    689\u001b[0m \u001b[0;34m\u001b[0m\u001b[0m\n\u001b[1;32m    690\u001b[0m     \u001b[0;32mdef\u001b[0m \u001b[0magg\u001b[0m\u001b[0;34m(\u001b[0m\u001b[0mself\u001b[0m\u001b[0;34m)\u001b[0m\u001b[0;34m:\u001b[0m\u001b[0;34m\u001b[0m\u001b[0;34m\u001b[0m\u001b[0m\n",
            "\u001b[0;32m/usr/local/lib/python3.7/dist-packages/pandas/core/apply.py\u001b[0m in \u001b[0;36mapply_standard\u001b[0;34m(self)\u001b[0m\n\u001b[1;32m    810\u001b[0m \u001b[0;34m\u001b[0m\u001b[0m\n\u001b[1;32m    811\u001b[0m     \u001b[0;32mdef\u001b[0m \u001b[0mapply_standard\u001b[0m\u001b[0;34m(\u001b[0m\u001b[0mself\u001b[0m\u001b[0;34m)\u001b[0m\u001b[0;34m:\u001b[0m\u001b[0;34m\u001b[0m\u001b[0;34m\u001b[0m\u001b[0m\n\u001b[0;32m--> 812\u001b[0;31m         \u001b[0mresults\u001b[0m\u001b[0;34m,\u001b[0m \u001b[0mres_index\u001b[0m \u001b[0;34m=\u001b[0m \u001b[0mself\u001b[0m\u001b[0;34m.\u001b[0m\u001b[0mapply_series_generator\u001b[0m\u001b[0;34m(\u001b[0m\u001b[0;34m)\u001b[0m\u001b[0;34m\u001b[0m\u001b[0;34m\u001b[0m\u001b[0m\n\u001b[0m\u001b[1;32m    813\u001b[0m \u001b[0;34m\u001b[0m\u001b[0m\n\u001b[1;32m    814\u001b[0m         \u001b[0;31m# wrap results\u001b[0m\u001b[0;34m\u001b[0m\u001b[0;34m\u001b[0m\u001b[0;34m\u001b[0m\u001b[0m\n",
            "\u001b[0;32m/usr/local/lib/python3.7/dist-packages/pandas/core/apply.py\u001b[0m in \u001b[0;36mapply_series_generator\u001b[0;34m(self)\u001b[0m\n\u001b[1;32m    826\u001b[0m             \u001b[0;32mfor\u001b[0m \u001b[0mi\u001b[0m\u001b[0;34m,\u001b[0m \u001b[0mv\u001b[0m \u001b[0;32min\u001b[0m \u001b[0menumerate\u001b[0m\u001b[0;34m(\u001b[0m\u001b[0mseries_gen\u001b[0m\u001b[0;34m)\u001b[0m\u001b[0;34m:\u001b[0m\u001b[0;34m\u001b[0m\u001b[0;34m\u001b[0m\u001b[0m\n\u001b[1;32m    827\u001b[0m                 \u001b[0;31m# ignore SettingWithCopy here in case the user mutates\u001b[0m\u001b[0;34m\u001b[0m\u001b[0;34m\u001b[0m\u001b[0;34m\u001b[0m\u001b[0m\n\u001b[0;32m--> 828\u001b[0;31m                 \u001b[0mresults\u001b[0m\u001b[0;34m[\u001b[0m\u001b[0mi\u001b[0m\u001b[0;34m]\u001b[0m \u001b[0;34m=\u001b[0m \u001b[0mself\u001b[0m\u001b[0;34m.\u001b[0m\u001b[0mf\u001b[0m\u001b[0;34m(\u001b[0m\u001b[0mv\u001b[0m\u001b[0;34m)\u001b[0m\u001b[0;34m\u001b[0m\u001b[0;34m\u001b[0m\u001b[0m\n\u001b[0m\u001b[1;32m    829\u001b[0m                 \u001b[0;32mif\u001b[0m \u001b[0misinstance\u001b[0m\u001b[0;34m(\u001b[0m\u001b[0mresults\u001b[0m\u001b[0;34m[\u001b[0m\u001b[0mi\u001b[0m\u001b[0;34m]\u001b[0m\u001b[0;34m,\u001b[0m \u001b[0mABCSeries\u001b[0m\u001b[0;34m)\u001b[0m\u001b[0;34m:\u001b[0m\u001b[0;34m\u001b[0m\u001b[0;34m\u001b[0m\u001b[0m\n\u001b[1;32m    830\u001b[0m                     \u001b[0;31m# If we have a view on v, we need to make a copy because\u001b[0m\u001b[0;34m\u001b[0m\u001b[0;34m\u001b[0m\u001b[0;34m\u001b[0m\u001b[0m\n",
            "\u001b[0;32m<ipython-input-50-66ab8472a8e9>\u001b[0m in \u001b[0;36m<lambda>\u001b[0;34m(x)\u001b[0m\n\u001b[1;32m     83\u001b[0m \u001b[0;34m\u001b[0m\u001b[0m\n\u001b[1;32m     84\u001b[0m   \u001b[0;31m# timeCodeを文字列4桁に置換\u001b[0m\u001b[0;34m\u001b[0m\u001b[0;34m\u001b[0m\u001b[0;34m\u001b[0m\u001b[0m\n\u001b[0;32m---> 85\u001b[0;31m   \u001b[0mdf\u001b[0m\u001b[0;34m[\u001b[0m\u001b[0;34m'timeCode'\u001b[0m\u001b[0;34m]\u001b[0m \u001b[0;34m=\u001b[0m \u001b[0mdf\u001b[0m\u001b[0;34m.\u001b[0m\u001b[0mapply\u001b[0m\u001b[0;34m(\u001b[0m\u001b[0;32mlambda\u001b[0m \u001b[0mx\u001b[0m\u001b[0;34m:\u001b[0m \u001b[0mx\u001b[0m\u001b[0;34m[\u001b[0m\u001b[0;34m'timeCode'\u001b[0m\u001b[0;34m]\u001b[0m\u001b[0;34m[\u001b[0m\u001b[0;34m:\u001b[0m\u001b[0;36m4\u001b[0m\u001b[0;34m]\u001b[0m\u001b[0;34m,\u001b[0m \u001b[0;36m1\u001b[0m\u001b[0;34m)\u001b[0m\u001b[0;34m\u001b[0m\u001b[0;34m\u001b[0m\u001b[0m\n\u001b[0m\u001b[1;32m     86\u001b[0m \u001b[0;34m\u001b[0m\u001b[0m\n\u001b[1;32m     87\u001b[0m   \u001b[0;31m# 地域情報をマージ\u001b[0m\u001b[0;34m\u001b[0m\u001b[0;34m\u001b[0m\u001b[0;34m\u001b[0m\u001b[0m\n",
            "\u001b[0;31mTypeError\u001b[0m: 'float' object is not subscriptable"
          ]
        }
      ]
    }
  ],
  "metadata": {
    "colab": {
      "collapsed_sections": [],
      "toc_visible": true,
      "provenance": []
    },
    "gpuClass": "standard",
    "kernelspec": {
      "display_name": "Python 3",
      "name": "python3"
    }
  },
  "nbformat": 4,
  "nbformat_minor": 0
}