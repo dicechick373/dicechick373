{
  "cells": [
    {
      "cell_type": "markdown",
      "metadata": {
        "id": "inrYQThZlUDa"
      },
      "source": [
        "# 実行環境の作成"
      ]
    },
    {
      "cell_type": "markdown",
      "source": [
        "## Google Drive"
      ],
      "metadata": {
        "id": "uE_OCx7vVWhj"
      }
    },
    {
      "cell_type": "markdown",
      "source": [
        "Google Driveをマウント"
      ],
      "metadata": {
        "id": "kHc6WsJkUqvx"
      }
    },
    {
      "cell_type": "code",
      "source": [
        "from google.colab import drive\n",
        "drive.mount('/content/drive')"
      ],
      "metadata": {
        "id": "DeythyREUwXk",
        "colab": {
          "base_uri": "https://localhost:8080/"
        },
        "outputId": "6102fa06-c05b-4266-e3b6-f294d8b23e3e"
      },
      "execution_count": 2,
      "outputs": [
        {
          "output_type": "stream",
          "name": "stdout",
          "text": [
            "Mounted at /content/drive\n"
          ]
        }
      ]
    },
    {
      "cell_type": "markdown",
      "source": [
        "## Google Sheets"
      ],
      "metadata": {
        "id": "rc5jeElrVc2j"
      }
    },
    {
      "cell_type": "markdown",
      "source": [
        "ライブラリのインストール"
      ],
      "metadata": {
        "id": "CaxFFxxGVbj7"
      }
    },
    {
      "cell_type": "code",
      "source": [
        "!pip install --upgrade -q gspread"
      ],
      "metadata": {
        "id": "ySMOqC5VVlIV"
      },
      "execution_count": 3,
      "outputs": []
    },
    {
      "cell_type": "markdown",
      "source": [
        "Google Sheetsの認証"
      ],
      "metadata": {
        "id": "wvyybj9YVti6"
      }
    },
    {
      "cell_type": "code",
      "source": [
        "from google.colab import auth\n",
        "from google.auth import default\n",
        "import gspread\n",
        "\n",
        "auth.authenticate_user()\n",
        "creds, _ = default()\n",
        "gc = gspread.authorize(creds)"
      ],
      "metadata": {
        "id": "pdWWV-ywV108"
      },
      "execution_count": 4,
      "outputs": []
    },
    {
      "cell_type": "markdown",
      "metadata": {
        "id": "BDMnnS3RVrkF"
      },
      "source": [
        "## Google Cloud Storage"
      ]
    },
    {
      "cell_type": "markdown",
      "metadata": {
        "id": "SsgiSjKhV2D7"
      },
      "source": [
        "下記コードでGCPに接続"
      ]
    },
    {
      "cell_type": "code",
      "execution_count": 5,
      "metadata": {
        "id": "GKiUkM7SV0bY"
      },
      "outputs": [],
      "source": [
        "from google.colab import auth\n",
        "auth.authenticate_user()"
      ]
    },
    {
      "cell_type": "markdown",
      "metadata": {
        "id": "KP4JP4ouV6QS"
      },
      "source": [
        "認証に成功したらgcsfuseをインストール"
      ]
    },
    {
      "cell_type": "code",
      "execution_count": null,
      "metadata": {
        "id": "d1D5UagbV9A4"
      },
      "outputs": [],
      "source": [
        "!echo \"deb http://packages.cloud.google.com/apt gcsfuse-`lsb_release -c -s` main\" | sudo tee /etc/apt/sources.list.d/gcsfuse.list\n",
        "!curl https://packages.cloud.google.com/apt/doc/apt-key.gpg | sudo apt-key add -\n",
        "!apt-get -y -q update\n",
        "!apt-get -y -q install gcsfuse"
      ]
    },
    {
      "cell_type": "markdown",
      "metadata": {
        "id": "QUUcFp5LWR6s"
      },
      "source": [
        "バケット「statistics-hyogo」をディレクトリ「statistics-hyogo」にマウント"
      ]
    },
    {
      "cell_type": "code",
      "execution_count": null,
      "metadata": {
        "id": "vw-vsTVGWIfp"
      },
      "outputs": [],
      "source": [
        "! mkdir -p statistics-hyogo\n",
        "! gcsfuse --implicit-dirs --limit-bytes-per-sec -1 --limit-ops-per-sec -1 statistics-hyogo statistics-hyogo"
      ]
    },
    {
      "cell_type": "markdown",
      "metadata": {
        "id": "YZ-rxUoLTevY"
      },
      "source": [
        "## ESTAT_APP_ID"
      ]
    },
    {
      "cell_type": "code",
      "execution_count": 8,
      "metadata": {
        "id": "wMa4y4oXJYdw"
      },
      "outputs": [],
      "source": [
        "ESTAT_APPID = '724e5b90772a3e9289f41a253e4e7e32438f4fff'"
      ]
    },
    {
      "cell_type": "markdown",
      "metadata": {
        "id": "rv4FGegQaZtc"
      },
      "source": [
        "## pythonのライブラリ追加"
      ]
    },
    {
      "cell_type": "code",
      "execution_count": 9,
      "metadata": {
        "id": "eIB9NAJdalZT"
      },
      "outputs": [],
      "source": [
        "import urllib.parse\n",
        "import urllib.request\n",
        "import json\n",
        "import pandas as pd"
      ]
    },
    {
      "cell_type": "markdown",
      "metadata": {
        "id": "8AQDQmu5ZIVE"
      },
      "source": [
        "# 統計カード管理情報を取得・加工"
      ]
    },
    {
      "cell_type": "markdown",
      "metadata": {
        "id": "PhlM2YQEiR8v"
      },
      "source": [
        "## BigQueryから統計カード管理情報を読み込む"
      ]
    },
    {
      "cell_type": "markdown",
      "metadata": {
        "id": "4xCBjZWrm1q6"
      },
      "source": [
        "pandas-gbqのインストール"
      ]
    },
    {
      "cell_type": "code",
      "execution_count": null,
      "metadata": {
        "id": "BTNDa8fdoChJ"
      },
      "outputs": [],
      "source": [
        "!pip install pandas-gbq"
      ]
    },
    {
      "cell_type": "markdown",
      "metadata": {
        "id": "AaeHY0RDoO0F"
      },
      "source": [
        "BigQueryをDataFrameで取得"
      ]
    },
    {
      "cell_type": "code",
      "execution_count": 11,
      "metadata": {
        "id": "wq0R92xDoKmF"
      },
      "outputs": [],
      "source": [
        "def get_cards_management_dataframe():\n",
        "  # プロジェクトの定義\n",
        "  project_id='primal-buttress-342908'\n",
        "  dataset_id = 'contents'\n",
        "  table_id='cards'\n",
        "\n",
        "  # クエリ\n",
        "  query = f\"\"\"\n",
        "  SELECT *\n",
        "  FROM {dataset_id}.{table_id}\n",
        "  \"\"\"\n",
        "\n",
        "  # dialect='standard' で標準SQLを使用\n",
        "  df = pd.read_gbq(query, project_id, dialect='standard')\n",
        "\n",
        "  return df"
      ]
    },
    {
      "cell_type": "code",
      "execution_count": null,
      "metadata": {
        "id": "gxi804uTxoi1"
      },
      "outputs": [],
      "source": [
        "df_cardmng = get_cards_management_dataframe()\n",
        "df_cardmng"
      ]
    },
    {
      "cell_type": "markdown",
      "metadata": {
        "id": "TlhXGii4vhHh"
      },
      "source": [
        "## 統計カードリストの作成"
      ]
    },
    {
      "cell_type": "markdown",
      "metadata": {
        "id": "IYxQ-Md5ZU3P"
      },
      "source": [
        "統計カード（cardId,cardTitle)のリストを作成する"
      ]
    },
    {
      "cell_type": "code",
      "execution_count": 13,
      "metadata": {
        "id": "RS0kYP4dZUSU"
      },
      "outputs": [],
      "source": [
        "def get_cardliist(df_cardmng):\n",
        "  #  'cardId'の指定があるデータを抽出\n",
        "  df = df_cardmng.dropna(subset=['cardId'])\n",
        "  \n",
        "  # GroupBy\n",
        "  df = df.groupby(['cardId','cardTitle','governmentType','statsDataId']).agg(\n",
        "    {'categoryCode': lambda x: ','.join(x)\n",
        "    })\n",
        "  \n",
        "  return df"
      ]
    },
    {
      "cell_type": "code",
      "execution_count": null,
      "metadata": {
        "id": "udDWOQ-zMH3G"
      },
      "outputs": [],
      "source": [
        "df_cardlist = get_cardliist(df_cardmng)\n",
        "df_cardlist"
      ]
    },
    {
      "cell_type": "markdown",
      "metadata": {
        "id": "428I_VMlmF2R"
      },
      "source": [
        "# 統計カードのデータセット"
      ]
    },
    {
      "cell_type": "markdown",
      "metadata": {
        "id": "W2ByC1cjNSQw"
      },
      "source": [
        "## 地域コード一覧"
      ]
    },
    {
      "cell_type": "code",
      "execution_count": 15,
      "metadata": {
        "id": "XoYdUMifTHOQ"
      },
      "outputs": [],
      "source": [
        "RESAS_API_KEY = '\t02JYzLqUOfTNVfiTWjLlR2g0YwEQPQ7caYxcnZaZ'"
      ]
    },
    {
      "cell_type": "markdown",
      "metadata": {
        "id": "iTKyKuwFNDZ_"
      },
      "source": [
        "都道府県一覧"
      ]
    },
    {
      "cell_type": "code",
      "execution_count": 16,
      "metadata": {
        "id": "fl33E501NCwk"
      },
      "outputs": [],
      "source": [
        "import json\n",
        "import urllib.request\n",
        "\n",
        "def get_resas_preflist():\n",
        "    url = 'https://opendata.resas-portal.go.jp/api/v1/prefectures'\n",
        "    req = urllib.request.Request(url, headers={'X-API-KEY': RESAS_API_KEY})\n",
        "    with urllib.request.urlopen(req) as response:\n",
        "        res = json.loads(response.read().decode())\n",
        "    return res['result']"
      ]
    },
    {
      "cell_type": "markdown",
      "metadata": {
        "id": "JeVT0B7vN4su"
      },
      "source": [
        "市区町村一覧"
      ]
    },
    {
      "cell_type": "code",
      "execution_count": 17,
      "metadata": {
        "id": "KoBkIBJMN6KO"
      },
      "outputs": [],
      "source": [
        "import json\n",
        "import urllib.request\n",
        "\n",
        "def get_resas_citylist(prefCode=0,designatedCity='all'):\n",
        "  \n",
        "    # 都道府県'prefCode'を指定\n",
        "    # 0の場合は全都道府県の市区町村\n",
        "    if prefCode == 0:\n",
        "      url = 'https://opendata.resas-portal.go.jp/api/v1/cities'\n",
        "    else:\n",
        "      url = 'https://opendata.resas-portal.go.jp/api/v1/cities?prefCode={}'.format(prefCode)\n",
        "    \n",
        "    req = urllib.request.Request(url, headers={'X-API-KEY': RESAS_API_KEY})\n",
        "    with urllib.request.urlopen(req) as response:\n",
        "        res = json.loads(response.read().decode())\n",
        "\n",
        "\n",
        "    # 政令指定都市　の指定　'join':政令指定都市統合　'split'：政令指定都市分割 'all'：全て\n",
        "    if designatedCity == 'join':\n",
        "      return list(filter(lambda x: x['bigCityFlag'] != '1', res['result']))\n",
        "    elif designatedCity == 'split':\n",
        "      return list(filter(lambda x: x['bigCityFlag'] != '2', res['result']))\n",
        "    else:\n",
        "      return res['result']"
      ]
    },
    {
      "cell_type": "markdown",
      "metadata": {
        "id": "LRzfLabUN95-"
      },
      "source": [
        "地域コード一覧を取得する関数"
      ]
    },
    {
      "cell_type": "code",
      "execution_count": 18,
      "metadata": {
        "id": "zkwlVgbHOAjH"
      },
      "outputs": [],
      "source": [
        "import json\n",
        "import urllib.request\n",
        "\n",
        "def generate_estat_areas(governmentType='prefecture',prefCode=0):\n",
        "\n",
        "  # 都道府県の場合\n",
        "  if governmentType == 'prefecture':\n",
        "    pref_codes = [d.get('prefCode') for d in get_resas_preflist()]\n",
        "    return [f'{n:02}'+'000' for n in pref_codes]\n",
        "  \n",
        "  # 市区町村の場合\n",
        "  else:\n",
        "    city_codes = [d.get('cityCode') for d in get_resas_citylist(prefCode)]\n",
        "    return city_codes"
      ]
    },
    {
      "cell_type": "markdown",
      "metadata": {
        "id": "fyaRyaYue9Rx"
      },
      "source": [
        "北海道の市区町村数が１００以上あるので分割する"
      ]
    },
    {
      "cell_type": "code",
      "execution_count": null,
      "metadata": {
        "id": "hZZIQ_-ZV_oG"
      },
      "outputs": [],
      "source": [
        "def generate_estat_city_areas():\n",
        "  prefCodes = [d.get('prefCode') for d in get_resas_preflist()]\n",
        "\n",
        "  res = []\n",
        "  for prefCode in prefCodes:\n",
        "    \n",
        "    city_codes = [d.get('cityCode') for d in get_resas_citylist(prefCode)]\n",
        "\n",
        "    # 北海道の場合\n",
        "    if prefCode == 1 :\n",
        "      dict1 = {\n",
        "          'prefCode': prefCode ,\n",
        "          'areaCodes':city_codes[:99],\n",
        "      }\n",
        "      dict2 = {\n",
        "          'prefCode': prefCode ,\n",
        "          'areaCodes':city_codes[99:],\n",
        "      }\n",
        "      res.append(dict1)\n",
        "      res.append(dict2)\n",
        "\n",
        "    # 北海道以外の場合\n",
        "    else:\n",
        "      dict = {\n",
        "          'prefCode': prefCode ,\n",
        "          'areaCodes':city_codes,\n",
        "      }\n",
        "      res.append(dict)\n",
        "  \n",
        "  return res"
      ]
    },
    {
      "cell_type": "markdown",
      "metadata": {
        "id": "srIcSw7DdcRG"
      },
      "source": [
        "## estat-APIのレスポンスをファイルに保存する関数"
      ]
    },
    {
      "cell_type": "code",
      "execution_count": 78,
      "metadata": {
        "id": "fVsHCjv-aUrD"
      },
      "outputs": [],
      "source": [
        "def get_estat_response(params):\n",
        "  p = params.copy()\n",
        "\n",
        "  # appId\n",
        "  p['appId'] = ESTAT_APPID\n",
        "  \n",
        "  # url生成\n",
        "  url = 'http://api.e-stat.go.jp/rest/2.1/app/json/getStatsData?'\n",
        "  url += urllib.parse.urlencode(p)\n",
        "\n",
        "  with urllib.request.urlopen(url) as response:\n",
        "    return json.loads(response.read().decode('utf-8'))"
      ]
    },
    {
      "cell_type": "code",
      "execution_count": 79,
      "metadata": {
        "id": "Q3K-_RTAad1s"
      },
      "outputs": [],
      "source": [
        "def conv_estat_response_to_dataframe(response):\n",
        "  # CLASS_INF\n",
        "  CLASS_OBJ = response['GET_STATS_DATA']['STATISTICAL_DATA']['CLASS_INF']['CLASS_OBJ']\n",
        "\n",
        "  # TABLE_INF\n",
        "  TABLE_INF = response['GET_STATS_DATA']['STATISTICAL_DATA']['TABLE_INF']\n",
        "\n",
        "  # VALUE\n",
        "  VALUE = response['GET_STATS_DATA']['STATISTICAL_DATA']['DATA_INF']['VALUE']\n",
        "\n",
        "  # VALUEをDataFrameに変換\n",
        "  df_res = pd.json_normalize(VALUE)\n",
        "\n",
        "  # CLASS_OBJのDataFrameを結合\n",
        "  for d in CLASS_OBJ :\n",
        "    # DataFrameに変換 '@code','@name'だけ抽出\n",
        "    df_class = pd.json_normalize(d['CLASS']) \n",
        "    df_class = df_class.copy()[['@code','@name']]\n",
        "\n",
        "    # @codeをキー名に変更 @nameをキー名＋'_name'に変更\n",
        "    key_name = '@{}'.format(d['@id'])\n",
        "    df_class = df_class.rename(columns={'@code':key_name,'@name': key_name+'_name'})\n",
        "\n",
        "    # DataFrameを結合\n",
        "    df_res = pd.merge(df_res, df_class, on=key_name, how='outer')\n",
        "\n",
        "  # 統計情報を追加\n",
        "  df_res['statsDataId'] = TABLE_INF['@id']\n",
        "  df_res['statsDataName'] = TABLE_INF['STAT_NAME']['$']\n",
        "  \n",
        "  return df_res"
      ]
    },
    {
      "cell_type": "code",
      "execution_count": 80,
      "metadata": {
        "id": "31BRHtg8aiD4"
      },
      "outputs": [],
      "source": [
        "def  format_estat_dataframe(df_arg):\n",
        "  # 必要な列だけ抽出\n",
        "  df_res =  df_arg[['statsDataId','statsDataName','@cat01','@cat01_name','@time','@time_name','@area','@area_name','$','@unit']]\n",
        "\n",
        "  # 列名の変更\n",
        "  columns = {'@cat01':'categoryCode','@cat01_name':'categoryName','@time':'timeCode','@time_name':'timeName','@area':'areaCode','@area_name':'areaName','$':'value','@unit':'unit'}\n",
        "  df_res = df_res.rename(columns=columns)\n",
        "\n",
        "  # 欠損データ削除\n",
        "  df_res = df_res.dropna()\n",
        "\n",
        "  # '-'を'0'に置換\n",
        "  df_res = df_res.replace('-', '0')\n",
        "\n",
        "  # categoryNameから不要な情報（categoryCode）を削除\n",
        "  df_res['categoryName'] = df_res.apply(lambda x: x['categoryName'].replace(x['categoryCode']+'_', ''), 1)\n",
        "\n",
        "  # timeCodeを文字列4桁に置換\n",
        "  df_res['timeCode'] = df_res.apply(lambda x: x['timeCode'][:4], 1)\n",
        "\n",
        "  return df_res"
      ]
    },
    {
      "cell_type": "code",
      "execution_count": 81,
      "metadata": {
        "id": "erOL_vEUalmk"
      },
      "outputs": [],
      "source": [
        "def format_estat_dataframe_withrank(df_arg):\n",
        "\n",
        "  # 年度リストを作成\n",
        "  times = df_arg['timeCode'].tolist()\n",
        "  times = list(set(times))\n",
        "\n",
        "  # 返却するDataFrameの定義\n",
        "  df_res = pd.DataFrame(index=[], columns=[])\n",
        "\n",
        "  # 年度毎に順位を付与\n",
        "  for time in times:\n",
        "\n",
        "    # 単年度のdataを抽出\n",
        "    df_time = df_arg.copy()[df_arg['timeCode'] == time]\n",
        "\n",
        "    # valueを数値に変換して、'rank'を付与\n",
        "    df_time = df_time.astype({'value': float})\n",
        "    df_time['rank'] = df_time.rank(ascending=False)['value'].astype(int).astype(str)\n",
        "\n",
        "    # 結合\n",
        "    df_res = pd.concat([df_res, df_time])\n",
        "    df_res = df_res.astype({'value': str})\n",
        "\n",
        "  return df_res"
      ]
    },
    {
      "cell_type": "code",
      "execution_count": null,
      "metadata": {
        "id": "Et7wfVLoa-fE"
      },
      "outputs": [],
      "source": [
        "def get_estat_dataframe(params):\n",
        "  # estat-APIのレスポンス取得\n",
        "  res = get_estat_response(params)\n",
        "  # print(res)\n",
        "\n",
        "  # レスポンスをDataFrameに変換\n",
        "  df = conv_estat_response_to_dataframe(res)\n",
        "\n",
        "  # DataFrameを整形\n",
        "  df = format_estat_dataframe(df)\n",
        "\n",
        "  # 順位を付与\n",
        "  df = format_estat_dataframe_withrank(df)\n",
        "\n",
        "  return df"
      ]
    },
    {
      "cell_type": "markdown",
      "metadata": {
        "id": "fHfHKgAXbC_a"
      },
      "source": [
        "## 繰り返し処理"
      ]
    },
    {
      "cell_type": "markdown",
      "source": [
        "estat-APIのパラメータ'cdArea'を作成する関数\n",
        "\n",
        "北海道は市区町村が100以上あるので、2つに分割する\n",
        "\n",
        "返却値はリスト"
      ],
      "metadata": {
        "id": "ztLP2J9Jpb56"
      }
    },
    {
      "cell_type": "code",
      "source": [
        "def set_estat_params_area(governmentType='prefecture',prefCode=0):\n",
        "\n",
        "  res=[]\n",
        "\n",
        "  # 都道府県\n",
        "  if governmentType == 'prefecture':\n",
        "    pref_codes = [d.get('prefCode') for d in get_resas_preflist()]\n",
        "    pref_codes = [str(prefCode).zfill(5) for n in pref_codes]\n",
        "\n",
        "    dic = {'cdArea':\",\".join(generate_estat_areas())}\n",
        "    res.append(dic)\n",
        "  \n",
        "  # 市区町村\n",
        "  if governmentType == 'city':\n",
        "    citylist = get_resas_citylist(prefCode=prefCode,designatedCity='all')\n",
        "    city_codes = [d.get('cityCode') for d in citylist]\n",
        "\n",
        "    # 市区町村が100以上ある場合\n",
        "    if len(city_codes) >= 100 :\n",
        "      for i in range(0, len(city_codes), 100):\n",
        "        dic = {'cdArea':\",\".join(city_codes[i: i+100])}\n",
        "        res.append(dic)\n",
        "\n",
        "    # 市区町村が100未満の場合\n",
        "    else:\n",
        "      dic = {'cdArea':\",\".join(city_codes)}\n",
        "      res.append(dic)\n",
        "\n",
        "  return res"
      ],
      "metadata": {
        "id": "u1P_eyeLnNEE"
      },
      "execution_count": 46,
      "outputs": []
    },
    {
      "cell_type": "code",
      "source": [
        "print(set_estat_params_area())\n",
        "print(set_estat_params_area(governmentType='city',prefCode=1))\n",
        "print(set_estat_params_area(governmentType='city',prefCode=28))"
      ],
      "metadata": {
        "id": "o5WDHrOgoaN5"
      },
      "execution_count": null,
      "outputs": []
    },
    {
      "cell_type": "markdown",
      "metadata": {
        "id": "Zg5DDRDYZSYv"
      },
      "source": [
        "'path'と'params'のリストを作成する。\n",
        "'statsDataId'はdataframeからcsvコピーした際に数値に変換されてしまう。"
      ]
    },
    {
      "cell_type": "code",
      "execution_count": 95,
      "metadata": {
        "id": "d3T3G4fGQMdK"
      },
      "outputs": [],
      "source": [
        "def set_estat_params():\n",
        "  df_cardmng = get_cards_management_dataframe()\n",
        "  df_cardlist = get_cardliist(df_cardmng)\n",
        "  \n",
        "  res = []\n",
        "  for index, row in df_cardlist.iterrows():\n",
        "    # indexの取得\n",
        "    cardId = index[0]\n",
        "    governmentType = index[2]\n",
        "    statsDataId = index[3]\n",
        "\n",
        "    # 都道府県の場合\n",
        "    if governmentType == 'prefecture':\n",
        "\n",
        "      areas = set_estat_params_area(governmentType)\n",
        "\n",
        "      params = []\n",
        "      for area in areas:\n",
        "        area['statsDataId'] = statsDataId if type(statsDataId) == 'int' else str(statsDataId).zfill(10)\n",
        "        area['cdCat01'] = row['categoryCode']\n",
        "        params.append(area)\n",
        "\n",
        "      res.append({\n",
        "          'path' : 'statistics-hyogo/test/{}.json'.format(cardId),\n",
        "          'params' : params\n",
        "        })\n",
        "\n",
        "    # 市区町村の場合\n",
        "    if governmentType == 'city':\n",
        "\n",
        "      pref_codes = [d.get('prefCode') for d in get_resas_preflist()]\n",
        "\n",
        "      for pref_code in pref_codes:\n",
        "        areas = set_estat_params_area(governmentType,pref_code)\n",
        "        \n",
        "        params = []\n",
        "        for area in areas:\n",
        "          area['statsDataId'] = statsDataId if type(statsDataId) == 'int' else str(statsDataId).zfill(10)\n",
        "          area['cdCat01'] = row['categoryCode']\n",
        "          params.append(area)\n",
        "\n",
        "        res.append({\n",
        "            'path' : 'statistics-hyogo/test/{}_{}.json'.format(cardId,pref_code),\n",
        "            'params' : params\n",
        "          })\n",
        "\n",
        "  return res"
      ]
    },
    {
      "cell_type": "code",
      "execution_count": null,
      "metadata": {
        "id": "SsxEJV5oPqIM"
      },
      "outputs": [],
      "source": [
        "cards = set_estat_params()\n",
        "\n",
        "print(cards)"
      ]
    },
    {
      "cell_type": "markdown",
      "metadata": {
        "id": "8hM-wx8TVHmV"
      },
      "source": [
        "estat-APIのレスポンスを整形してファイルに保存"
      ]
    },
    {
      "cell_type": "code",
      "execution_count": 94,
      "metadata": {
        "id": "QwmhOxECbIRd"
      },
      "outputs": [],
      "source": [
        "for card in cards:\n",
        "\n",
        "  # 保存先path\n",
        "  path = card['path']\n",
        "\n",
        "  df_res = pd.DataFrame(index=[], columns=[])\n",
        "  \n",
        "  for params in card['params'] :\n",
        "    res = get_estat_response(params)\n",
        "    # print(res)\n",
        "    df = conv_estat_response_to_dataframe(res)\n",
        "    # print(df)\n",
        "    df_res = pd.concat([df_res, df])\n",
        "  # print(df_res)\n",
        "  df = format_estat_dataframe(df_res)\n",
        "  \n",
        "  df = format_estat_dataframe_withrank(df)  \n",
        "  # print(df['timeCode'])\n",
        "\n",
        "\n",
        "  # jsonで保存\n",
        "  res_json = df.reset_index().to_json(path,orient='records',force_ascii=False)"
      ]
    }
  ],
  "metadata": {
    "colab": {
      "collapsed_sections": [],
      "toc_visible": true,
      "provenance": []
    },
    "gpuClass": "standard",
    "kernelspec": {
      "display_name": "Python 3",
      "name": "python3"
    }
  },
  "nbformat": 4,
  "nbformat_minor": 0
}