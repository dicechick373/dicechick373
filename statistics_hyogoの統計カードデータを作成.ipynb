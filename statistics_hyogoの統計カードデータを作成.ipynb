{
  "cells": [
    {
      "cell_type": "markdown",
      "metadata": {
        "id": "inrYQThZlUDa"
      },
      "source": [
        "# 実行環境の作成"
      ]
    },
    {
      "cell_type": "markdown",
      "source": [
        "## Google Drive"
      ],
      "metadata": {
        "id": "uE_OCx7vVWhj"
      }
    },
    {
      "cell_type": "markdown",
      "source": [
        "Google Driveをマウント"
      ],
      "metadata": {
        "id": "kHc6WsJkUqvx"
      }
    },
    {
      "cell_type": "code",
      "source": [
        "from google.colab import drive\n",
        "drive.mount('/content/drive')"
      ],
      "metadata": {
        "id": "DeythyREUwXk"
      },
      "execution_count": null,
      "outputs": []
    },
    {
      "cell_type": "markdown",
      "source": [
        "## Google Sheets"
      ],
      "metadata": {
        "id": "rc5jeElrVc2j"
      }
    },
    {
      "cell_type": "markdown",
      "source": [
        "ライブラリのインストール"
      ],
      "metadata": {
        "id": "CaxFFxxGVbj7"
      }
    },
    {
      "cell_type": "code",
      "source": [
        "!pip install --upgrade -q gspread"
      ],
      "metadata": {
        "id": "ySMOqC5VVlIV"
      },
      "execution_count": 2,
      "outputs": []
    },
    {
      "cell_type": "markdown",
      "source": [
        "Google Sheetsの認証"
      ],
      "metadata": {
        "id": "wvyybj9YVti6"
      }
    },
    {
      "cell_type": "code",
      "source": [
        "from google.colab import auth\n",
        "from google.auth import default\n",
        "import gspread\n",
        "\n",
        "auth.authenticate_user()\n",
        "creds, _ = default()\n",
        "gc = gspread.authorize(creds)"
      ],
      "metadata": {
        "id": "pdWWV-ywV108"
      },
      "execution_count": 3,
      "outputs": []
    },
    {
      "cell_type": "markdown",
      "metadata": {
        "id": "BDMnnS3RVrkF"
      },
      "source": [
        "## Google Cloud Storage"
      ]
    },
    {
      "cell_type": "markdown",
      "metadata": {
        "id": "SsgiSjKhV2D7"
      },
      "source": [
        "下記コードでGCPに接続"
      ]
    },
    {
      "cell_type": "code",
      "execution_count": 4,
      "metadata": {
        "id": "GKiUkM7SV0bY"
      },
      "outputs": [],
      "source": [
        "from google.colab import auth\n",
        "auth.authenticate_user()"
      ]
    },
    {
      "cell_type": "markdown",
      "metadata": {
        "id": "KP4JP4ouV6QS"
      },
      "source": [
        "認証に成功したらgcsfuseをインストール"
      ]
    },
    {
      "cell_type": "code",
      "execution_count": null,
      "metadata": {
        "id": "d1D5UagbV9A4"
      },
      "outputs": [],
      "source": [
        "!echo \"deb http://packages.cloud.google.com/apt gcsfuse-`lsb_release -c -s` main\" | sudo tee /etc/apt/sources.list.d/gcsfuse.list\n",
        "!curl https://packages.cloud.google.com/apt/doc/apt-key.gpg | sudo apt-key add -\n",
        "!apt-get -y -q update\n",
        "!apt-get -y -q install gcsfuse"
      ]
    },
    {
      "cell_type": "markdown",
      "metadata": {
        "id": "QUUcFp5LWR6s"
      },
      "source": [
        "バケット「statistics-hyogo」をディレクトリ「statistics-hyogo」にマウント"
      ]
    },
    {
      "cell_type": "code",
      "execution_count": null,
      "metadata": {
        "id": "vw-vsTVGWIfp"
      },
      "outputs": [],
      "source": [
        "! mkdir -p statistics-hyogo\n",
        "! gcsfuse --implicit-dirs --limit-bytes-per-sec -1 --limit-ops-per-sec -1 statistics-hyogo statistics-hyogo"
      ]
    },
    {
      "cell_type": "markdown",
      "metadata": {
        "id": "YZ-rxUoLTevY"
      },
      "source": [
        "## ESTAT_APP_ID"
      ]
    },
    {
      "cell_type": "code",
      "execution_count": 7,
      "metadata": {
        "id": "wMa4y4oXJYdw"
      },
      "outputs": [],
      "source": [
        "ESTAT_APPID = '724e5b90772a3e9289f41a253e4e7e32438f4fff'"
      ]
    },
    {
      "cell_type": "markdown",
      "metadata": {
        "id": "rv4FGegQaZtc"
      },
      "source": [
        "## pythonのライブラリ追加"
      ]
    },
    {
      "cell_type": "code",
      "execution_count": 8,
      "metadata": {
        "id": "eIB9NAJdalZT"
      },
      "outputs": [],
      "source": [
        "import urllib.parse\n",
        "import urllib.request\n",
        "import json\n",
        "import pandas as pd"
      ]
    },
    {
      "cell_type": "markdown",
      "metadata": {
        "id": "428I_VMlmF2R"
      },
      "source": [
        "# 統計カードのデータセット"
      ]
    },
    {
      "cell_type": "markdown",
      "metadata": {
        "id": "W2ByC1cjNSQw"
      },
      "source": [
        "## RESAS_API_KEY"
      ]
    },
    {
      "cell_type": "code",
      "execution_count": 14,
      "metadata": {
        "id": "XoYdUMifTHOQ"
      },
      "outputs": [],
      "source": [
        "RESAS_API_KEY = '\t02JYzLqUOfTNVfiTWjLlR2g0YwEQPQ7caYxcnZaZ'"
      ]
    },
    {
      "cell_type": "markdown",
      "source": [
        "## 都道府県コードリスト"
      ],
      "metadata": {
        "id": "N1LPP5AKUMpi"
      }
    },
    {
      "cell_type": "markdown",
      "source": [
        "resas-APIから都道府県一覧を取得する"
      ],
      "metadata": {
        "id": "HIMv-4X-UsUm"
      }
    },
    {
      "cell_type": "code",
      "execution_count": 15,
      "metadata": {
        "id": "fl33E501NCwk"
      },
      "outputs": [],
      "source": [
        "\"\"\"\n",
        "resas-APIから都道府県一覧を取得する関数\n",
        "\"\"\"\n",
        "\n",
        "def get_resas_preflist():\n",
        "    url = 'https://opendata.resas-portal.go.jp/api/v1/prefectures'\n",
        "    req = urllib.request.Request(url, headers={'X-API-KEY': RESAS_API_KEY})\n",
        "    with urllib.request.urlopen(req) as response:\n",
        "        res = json.loads(response.read().decode())\n",
        "    return res['result']"
      ]
    },
    {
      "cell_type": "markdown",
      "source": [
        "estat-APIのリクエストパラメータ'cdArea'に都道府県コードをセットする\n",
        "\n",
        "返却値はリスト"
      ],
      "metadata": {
        "id": "2u_CHuqwWHNf"
      }
    },
    {
      "cell_type": "code",
      "source": [
        "\"\"\"\n",
        "estat-APIのパラメータ'cdArea'に都道府県コードをセットする関数\n",
        "\"\"\"\n",
        "\n",
        "def get_cdAreas_prefecture():\n",
        "\n",
        "  pref_codes = [d.get('prefCode') for d in get_resas_preflist()]\n",
        "  pref_codes = [str(c).zfill(5) for c in pref_codes]\n",
        "\n",
        "  res = [{'cdArea':\",\".join(pref_codes)}]\n",
        "  \n",
        "  return res"
      ],
      "metadata": {
        "id": "ct6HPVV2TCei"
      },
      "execution_count": 26,
      "outputs": []
    },
    {
      "cell_type": "code",
      "source": [
        "cdArea = get_cdAreas_prefecture()\n",
        "print(cdArea)"
      ],
      "metadata": {
        "id": "VO1thTIwT5r_",
        "outputId": "46d5c470-d8b2-49d5-b220-1bd3fde403ac",
        "colab": {
          "base_uri": "https://localhost:8080/"
        }
      },
      "execution_count": 27,
      "outputs": [
        {
          "output_type": "stream",
          "name": "stdout",
          "text": [
            "[{'cdArea': '00001,00002,00003,00004,00005,00006,00007,00008,00009,00010,00011,00012,00013,00014,00015,00016,00017,00018,00019,00020,00021,00022,00023,00024,00025,00026,00027,00028,00029,00030,00031,00032,00033,00034,00035,00036,00037,00038,00039,00040,00041,00042,00043,00044,00045,00046,00047'}]\n"
          ]
        }
      ]
    },
    {
      "cell_type": "markdown",
      "source": [
        "## 市区町村コードリスト"
      ],
      "metadata": {
        "id": "OAIsB4p6Vh2_"
      }
    },
    {
      "cell_type": "markdown",
      "source": [
        "resas-APIから市区町村一覧を取得する"
      ],
      "metadata": {
        "id": "7XU5ZUmCVvNV"
      }
    },
    {
      "cell_type": "code",
      "execution_count": 16,
      "metadata": {
        "id": "KoBkIBJMN6KO"
      },
      "outputs": [],
      "source": [
        "\"\"\"\n",
        "resas-APIから市区町村一覧を取得する関数\n",
        "\"\"\"\n",
        "\n",
        "def get_resas_citylist(prefCode=0,designatedCity='all'):\n",
        "  \n",
        "    # 都道府県'prefCode'を指定\n",
        "    # 0の場合は全都道府県の市区町村\n",
        "    if prefCode == 0:\n",
        "      url = 'https://opendata.resas-portal.go.jp/api/v1/cities'\n",
        "    else:\n",
        "      url = 'https://opendata.resas-portal.go.jp/api/v1/cities?prefCode={}'.format(prefCode)\n",
        "    \n",
        "    req = urllib.request.Request(url, headers={'X-API-KEY': RESAS_API_KEY})\n",
        "    with urllib.request.urlopen(req) as response:\n",
        "        res = json.loads(response.read().decode())\n",
        "\n",
        "\n",
        "    # 政令指定都市の指定　'join':政令指定都市統合　'split'：政令指定都市分割 'all'：全て\n",
        "    if designatedCity == 'join':\n",
        "      return list(filter(lambda x: x['bigCityFlag'] != '1', res['result']))\n",
        "    elif designatedCity == 'split':\n",
        "      return list(filter(lambda x: x['bigCityFlag'] != '2', res['result']))\n",
        "    else:\n",
        "      return res['result']"
      ]
    },
    {
      "cell_type": "markdown",
      "source": [
        "estat-APIのリクエストパラメータ'cdArea'に市区町村コードをセットする\n",
        "\n",
        "返却値はリスト"
      ],
      "metadata": {
        "id": "tTRiQwosY-tO"
      }
    },
    {
      "cell_type": "code",
      "source": [
        "\"\"\"\n",
        "estat-APIのパラメータ'cdArea'に市区町村コードをセットする関数\n",
        "\"\"\"\n",
        "\n",
        "def get_cdAreas_city(prefCode=0):\n",
        "\n",
        "  res=[]\n",
        "\n",
        "  citylist = get_resas_citylist(prefCode=prefCode,designatedCity='all')\n",
        "  city_codes = [d.get('cityCode') for d in citylist]\n",
        "\n",
        "  # 市区町村が100以上ある場合\n",
        "  if len(city_codes) >= 100 :\n",
        "    for i in range(0, len(city_codes), 100):\n",
        "      dic = {'cdArea':\",\".join(city_codes[i: i+100])}\n",
        "      res.append(dic)\n",
        "\n",
        "  # 市区町村が100未満の場合\n",
        "  else:\n",
        "    dic = {'cdArea':\",\".join(city_codes)}\n",
        "    res.append(dic)\n",
        "\n",
        "  return res"
      ],
      "metadata": {
        "id": "ci71eeJAYw3J"
      },
      "execution_count": 17,
      "outputs": []
    },
    {
      "cell_type": "code",
      "source": [
        "cdArea = get_cdAreas_city()\n",
        "print(cdArea)\n",
        "print('要素数：' + str(len(cdArea)))"
      ],
      "metadata": {
        "id": "JBmaVaZAZXXF",
        "outputId": "5dfed02e-b9c4-4128-e7f8-7e2c5ef54a8c",
        "colab": {
          "base_uri": "https://localhost:8080/"
        }
      },
      "execution_count": 18,
      "outputs": [
        {
          "output_type": "stream",
          "name": "stdout",
          "text": [
            "[{'cdArea': '01100,01101,01102,01103,01104,01105,01106,01107,01108,01109,01110,01202,01203,01204,01205,01206,01207,01208,01209,01210,01211,01212,01213,01214,01215,01216,01217,01218,01219,01220,01221,01222,01223,01224,01225,01226,01227,01228,01229,01230,01231,01233,01234,01235,01236,01303,01304,01331,01332,01333,01334,01337,01343,01345,01346,01347,01361,01362,01363,01364,01367,01370,01371,01391,01392,01393,01394,01395,01396,01397,01398,01399,01400,01401,01402,01403,01404,01405,01406,01407,01408,01409,01423,01424,01425,01427,01428,01429,01430,01431,01432,01433,01434,01436,01437,01438,01452,01453,01454,01455'}, {'cdArea': '01456,01457,01458,01459,01460,01461,01462,01463,01464,01465,01468,01469,01470,01471,01472,01481,01482,01483,01484,01485,01486,01487,01511,01512,01513,01514,01516,01517,01518,01519,01520,01543,01544,01545,01546,01547,01549,01550,01552,01555,01559,01560,01561,01562,01563,01564,01571,01575,01578,01581,01584,01585,01586,01601,01602,01604,01607,01608,01609,01610,01631,01632,01633,01634,01635,01636,01637,01638,01639,01641,01642,01643,01644,01645,01646,01647,01648,01649,01661,01662,01663,01664,01665,01667,01668,01691,01692,01693,01694,01695,01696,01697,01698,01699,01700,02201,02202,02203,02204,02205'}, {'cdArea': '02206,02207,02208,02209,02210,02301,02303,02304,02307,02321,02323,02343,02361,02362,02367,02381,02384,02387,02401,02402,02405,02406,02408,02411,02412,02423,02424,02425,02426,02441,02442,02443,02445,02446,02450,03201,03202,03203,03205,03206,03207,03208,03209,03210,03211,03213,03214,03215,03216,03301,03302,03303,03321,03322,03366,03381,03402,03441,03461,03482,03483,03484,03485,03501,03503,03506,03507,03524,04100,04101,04102,04103,04104,04105,04202,04203,04205,04206,04207,04208,04209,04211,04212,04213,04214,04215,04216,04301,04302,04321,04322,04323,04324,04341,04361,04362,04401,04404,04406,04421'}, {'cdArea': '04422,04424,04444,04445,04501,04505,04581,04606,05201,05202,05203,05204,05206,05207,05209,05210,05211,05212,05213,05214,05215,05303,05327,05346,05348,05349,05361,05363,05366,05368,05434,05463,05464,06201,06202,06203,06204,06205,06206,06207,06208,06209,06210,06211,06212,06213,06301,06302,06321,06322,06323,06324,06341,06361,06362,06363,06364,06365,06366,06367,06381,06382,06401,06402,06403,06426,06428,06461,07201,07202,07203,07204,07205,07207,07208,07209,07210,07211,07212,07213,07214,07301,07303,07308,07322,07342,07344,07362,07364,07367,07368,07402,07405,07407,07408,07421,07422,07423,07444,07445'}, {'cdArea': '07446,07447,07461,07464,07465,07466,07481,07482,07483,07484,07501,07502,07503,07504,07505,07521,07522,07541,07542,07543,07544,07545,07546,07547,07548,07561,07564,08201,08202,08203,08204,08205,08207,08208,08210,08211,08212,08214,08215,08216,08217,08219,08220,08221,08222,08223,08224,08225,08226,08227,08228,08229,08230,08231,08232,08233,08234,08235,08236,08302,08309,08310,08341,08364,08442,08443,08447,08521,08542,08546,08564,09201,09202,09203,09204,09205,09206,09208,09209,09210,09211,09213,09214,09215,09216,09301,09342,09343,09344,09345,09361,09364,09384,09386,09407,09411,10201,10202,10203,10204'}, {'cdArea': '10205,10206,10207,10208,10209,10210,10211,10212,10344,10345,10366,10367,10382,10383,10384,10421,10424,10425,10426,10428,10429,10443,10444,10448,10449,10464,10521,10522,10523,10524,10525,11100,11101,11102,11103,11104,11105,11106,11107,11108,11109,11110,11201,11202,11203,11206,11207,11208,11209,11210,11211,11212,11214,11215,11216,11217,11218,11219,11221,11222,11223,11224,11225,11227,11228,11229,11230,11231,11232,11233,11234,11235,11237,11238,11239,11240,11241,11242,11243,11245,11246,11301,11324,11326,11327,11341,11342,11343,11346,11347,11348,11349,11361,11362,11363,11365,11369,11381,11383,11385'}, {'cdArea': '11408,11442,11464,11465,12100,12101,12102,12103,12104,12105,12106,12202,12203,12204,12205,12206,12207,12208,12210,12211,12212,12213,12215,12216,12217,12218,12219,12220,12221,12222,12223,12224,12225,12226,12227,12228,12229,12230,12231,12232,12233,12234,12235,12236,12237,12238,12239,12322,12329,12342,12347,12349,12403,12409,12410,12421,12422,12423,12424,12426,12427,12441,12443,12463,13101,13102,13103,13104,13105,13106,13107,13108,13109,13110,13111,13112,13113,13114,13115,13116,13117,13118,13119,13120,13121,13122,13123,13201,13202,13203,13204,13205,13206,13207,13208,13209,13210,13211,13212,13213'}, {'cdArea': '13214,13215,13218,13219,13220,13221,13222,13223,13224,13225,13227,13228,13229,13303,13305,13307,13308,13361,13362,13363,13364,13381,13382,13401,13402,13421,14100,14101,14102,14103,14104,14105,14106,14107,14108,14109,14110,14111,14112,14113,14114,14115,14116,14117,14118,14130,14131,14132,14133,14134,14135,14136,14137,14150,14151,14152,14153,14201,14203,14204,14205,14206,14207,14208,14210,14211,14212,14213,14214,14215,14216,14217,14218,14301,14321,14341,14342,14361,14362,14363,14364,14366,14382,14383,14384,14401,14402,15100,15101,15102,15103,15104,15105,15106,15107,15108,15202,15204,15205,15206'}, {'cdArea': '15208,15209,15210,15211,15212,15213,15216,15217,15218,15222,15223,15224,15225,15226,15227,15307,15342,15361,15385,15405,15461,15482,15504,15581,15586,16201,16202,16204,16205,16206,16207,16208,16209,16210,16211,16321,16322,16323,16342,16343,17201,17202,17203,17204,17205,17206,17207,17209,17210,17211,17212,17324,17361,17365,17384,17386,17407,17461,17463,18201,18202,18204,18205,18206,18207,18208,18209,18210,18322,18382,18404,18423,18442,18481,18483,18501,19201,19202,19204,19205,19206,19207,19208,19209,19210,19211,19212,19213,19214,19346,19364,19365,19366,19368,19384,19422,19423,19424,19425,19429'}, {'cdArea': '19430,19442,19443,20201,20202,20203,20204,20205,20206,20207,20208,20209,20210,20211,20212,20213,20214,20215,20217,20218,20219,20220,20303,20304,20305,20306,20307,20309,20321,20323,20324,20349,20350,20361,20362,20363,20382,20383,20384,20385,20386,20388,20402,20403,20404,20407,20409,20410,20411,20412,20413,20414,20415,20416,20417,20422,20423,20425,20429,20430,20432,20446,20448,20450,20451,20452,20481,20482,20485,20486,20521,20541,20543,20561,20562,20563,20583,20588,20590,20602,21201,21202,21203,21204,21205,21206,21207,21208,21209,21210,21211,21212,21213,21214,21215,21216,21217,21218,21219,21220'}, {'cdArea': '21221,21302,21303,21341,21361,21362,21381,21382,21383,21401,21403,21404,21421,21501,21502,21503,21504,21505,21506,21507,21521,21604,22100,22101,22102,22103,22130,22131,22132,22133,22134,22135,22136,22137,22203,22205,22206,22207,22208,22209,22210,22211,22212,22213,22214,22215,22216,22219,22220,22221,22222,22223,22224,22225,22226,22301,22302,22304,22305,22306,22325,22341,22342,22344,22424,22429,22461,23100,23101,23102,23103,23104,23105,23106,23107,23108,23109,23110,23111,23112,23113,23114,23115,23116,23201,23202,23203,23204,23205,23206,23207,23208,23209,23210,23211,23212,23213,23214,23215,23216'}, {'cdArea': '23217,23219,23220,23221,23222,23223,23224,23225,23226,23227,23228,23229,23230,23231,23232,23233,23234,23235,23236,23237,23238,23302,23342,23361,23362,23424,23425,23427,23441,23442,23445,23446,23447,23501,23561,23562,23563,24201,24202,24203,24204,24205,24207,24208,24209,24210,24211,24212,24214,24215,24216,24303,24324,24341,24343,24344,24441,24442,24443,24461,24470,24471,24472,24543,24561,24562,25201,25202,25203,25204,25206,25207,25208,25209,25210,25211,25212,25213,25214,25383,25384,25425,25441,25442,25443,26100,26101,26102,26103,26104,26105,26106,26107,26108,26109,26110,26111,26201,26202,26203'}, {'cdArea': '26204,26205,26206,26207,26208,26209,26210,26211,26212,26213,26214,26303,26322,26343,26344,26364,26365,26366,26367,26407,26463,26465,27100,27102,27103,27104,27106,27107,27108,27109,27111,27113,27114,27115,27116,27117,27118,27119,27120,27121,27122,27123,27124,27125,27126,27127,27128,27140,27141,27142,27143,27144,27145,27146,27147,27202,27203,27204,27205,27206,27207,27208,27209,27210,27211,27212,27213,27214,27215,27216,27217,27218,27219,27220,27221,27222,27223,27224,27225,27226,27227,27228,27229,27230,27231,27232,27301,27321,27322,27341,27361,27362,27366,27381,27382,27383,28100,28101,28102,28105'}, {'cdArea': '28106,28107,28108,28109,28110,28111,28201,28202,28203,28204,28205,28206,28207,28208,28209,28210,28212,28213,28214,28215,28216,28217,28218,28219,28220,28221,28222,28223,28224,28225,28226,28227,28228,28229,28301,28365,28381,28382,28442,28443,28446,28464,28481,28501,28585,28586,29201,29202,29203,29204,29205,29206,29207,29208,29209,29210,29211,29212,29322,29342,29343,29344,29345,29361,29362,29363,29385,29386,29401,29402,29424,29425,29426,29427,29441,29442,29443,29444,29446,29447,29449,29450,29451,29452,29453,30201,30202,30203,30204,30205,30206,30207,30208,30209,30304,30341,30343,30344,30361,30362'}, {'cdArea': '30366,30381,30382,30383,30390,30391,30392,30401,30404,30406,30421,30422,30424,30427,30428,31201,31202,31203,31204,31302,31325,31328,31329,31364,31370,31371,31372,31384,31386,31389,31390,31401,31402,31403,32201,32202,32203,32204,32205,32206,32207,32209,32343,32386,32441,32448,32449,32501,32505,32525,32526,32527,32528,33100,33101,33102,33103,33104,33202,33203,33204,33205,33207,33208,33209,33210,33211,33212,33213,33214,33215,33216,33346,33423,33445,33461,33586,33606,33622,33623,33643,33663,33666,33681,34100,34101,34102,34103,34104,34105,34106,34107,34108,34202,34203,34204,34205,34207,34208,34209'}, {'cdArea': '34210,34211,34212,34213,34214,34215,34302,34304,34307,34309,34368,34369,34431,34462,34545,35201,35202,35203,35204,35206,35207,35208,35210,35211,35212,35213,35215,35216,35305,35321,35341,35343,35344,35502,36201,36202,36203,36204,36205,36206,36207,36208,36301,36302,36321,36341,36342,36368,36383,36387,36388,36401,36402,36403,36404,36405,36468,36489,37201,37202,37203,37204,37205,37206,37207,37208,37322,37324,37341,37364,37386,37387,37403,37404,37406,38201,38202,38203,38204,38205,38206,38207,38210,38213,38214,38215,38356,38386,38401,38402,38422,38442,38484,38488,38506,39201,39202,39203,39204,39205'}, {'cdArea': '39206,39208,39209,39210,39211,39212,39301,39302,39303,39304,39305,39306,39307,39341,39344,39363,39364,39386,39387,39401,39402,39403,39405,39410,39411,39412,39424,39427,39428,40100,40101,40103,40105,40106,40107,40108,40109,40130,40131,40132,40133,40134,40135,40136,40137,40202,40203,40204,40205,40206,40207,40210,40211,40212,40213,40214,40215,40216,40217,40218,40219,40220,40221,40223,40224,40225,40226,40227,40228,40229,40230,40231,40341,40342,40343,40344,40345,40348,40349,40381,40382,40383,40384,40401,40402,40421,40447,40448,40503,40522,40544,40601,40602,40604,40605,40608,40609,40610,40621,40625'}, {'cdArea': '40642,40646,40647,41201,41202,41203,41204,41205,41206,41207,41208,41209,41210,41327,41341,41345,41346,41387,41401,41423,41424,41425,41441,42201,42202,42203,42204,42205,42207,42208,42209,42210,42211,42212,42213,42214,42307,42308,42321,42322,42323,42383,42391,42411,43100,43101,43102,43103,43104,43105,43202,43203,43204,43205,43206,43208,43210,43211,43212,43213,43214,43215,43216,43348,43364,43367,43368,43369,43403,43404,43423,43424,43425,43428,43432,43433,43441,43442,43443,43444,43447,43468,43482,43484,43501,43505,43506,43507,43510,43511,43512,43513,43514,43531,44201,44202,44203,44204,44205,44206'}, {'cdArea': '44207,44208,44209,44210,44211,44212,44213,44214,44322,44341,44461,44462,45201,45202,45203,45204,45205,45206,45207,45208,45209,45341,45361,45382,45383,45401,45402,45403,45404,45405,45406,45421,45429,45430,45431,45441,45442,45443,46201,46203,46204,46206,46208,46210,46213,46214,46215,46216,46217,46218,46219,46220,46221,46222,46223,46224,46225,46303,46304,46392,46404,46452,46468,46482,46490,46491,46492,46501,46502,46505,46523,46524,46525,46527,46529,46530,46531,46532,46533,46534,46535,47201,47205,47207,47208,47209,47210,47211,47212,47213,47214,47215,47301,47302,47303,47306,47308,47311,47313,47314'}, {'cdArea': '47315,47324,47325,47326,47327,47328,47329,47348,47350,47353,47354,47355,47356,47357,47358,47359,47360,47361,47362,47375,47381,47382'}]\n",
            "要素数：20\n"
          ]
        }
      ]
    },
    {
      "cell_type": "markdown",
      "metadata": {
        "id": "fHfHKgAXbC_a"
      },
      "source": [
        "## estat-APIのレスポンスをBigQueryに保存"
      ]
    },
    {
      "cell_type": "markdown",
      "source": [
        "DataFrameを整形する関数"
      ],
      "metadata": {
        "id": "r4uA0dWVTwyo"
      }
    },
    {
      "cell_type": "code",
      "source": [
        "ESTAT_APPID = '724e5b90772a3e9289f41a253e4e7e32438f4fff'\n",
        "\n",
        "import urllib.parse\n",
        "import urllib.request\n",
        "import json\n",
        "import pandas as pd\n",
        "\n",
        "\"\"\"\n",
        "estat-APIのレスポンスを整形してDataFrameに変換\n",
        "\"\"\"\n",
        "\n",
        "def get_estat_dataframe(params):\n",
        "  res = get_estat_response(params)\n",
        "  df_res = conv_estat_response_to_dataframe(res)\n",
        "  df_res = format_estat_dataframe(df_res)\n",
        "\n",
        "  return df_res\n",
        "\n",
        "\"\"\"\n",
        "estat-APIのレスポンスを取得する関数\n",
        "\"\"\"\n",
        "\n",
        "def get_estat_response(params):\n",
        "  p = params.copy()\n",
        "\n",
        "  # appId\n",
        "  p['appId'] = ESTAT_APPID\n",
        "  \n",
        "  # url生成\n",
        "  url = 'http://api.e-stat.go.jp/rest/2.1/app/json/getStatsData?'\n",
        "  url += urllib.parse.urlencode(p)\n",
        "\n",
        "  with urllib.request.urlopen(url) as response:\n",
        "    return json.loads(response.read().decode('utf-8'))\n",
        "\n",
        "\n",
        "\"\"\"\n",
        "estat-APIのレスポンスをDataFrameに変換する\n",
        "\"\"\"\n",
        "\n",
        "def conv_estat_response_to_dataframe(response):\n",
        "\n",
        "  # VALUEをDataFrameに変換\n",
        "  VALUE = response['GET_STATS_DATA']['STATISTICAL_DATA']['DATA_INF']['VALUE']\n",
        "  df = pd.json_normalize(VALUE)\n",
        "\n",
        "  # CLASS_OBJのDataFrameを結合\n",
        "  CLASS_OBJ = response['GET_STATS_DATA']['STATISTICAL_DATA']['CLASS_INF']['CLASS_OBJ']\n",
        "  for d in CLASS_OBJ :\n",
        "    # DataFrameに変換 '@code','@name'だけ抽出\n",
        "    df_class = pd.json_normalize(d['CLASS']) \n",
        "    df_class = df_class.copy()[['@code','@name']]\n",
        "\n",
        "    # @codeをキー名に変更 @nameをキー名＋'_name'に変更\n",
        "    key_name = '@{}'.format(d['@id'])\n",
        "    df_class = df_class.rename(columns={'@code':key_name,'@name': key_name+'_name'})\n",
        "\n",
        "    # DataFrameを結合\n",
        "    df = pd.merge(df, df_class, on=key_name, how='outer')\n",
        "\n",
        "  # 統計情報を追加\n",
        "  TABLE_INF = response['GET_STATS_DATA']['STATISTICAL_DATA']['TABLE_INF']\n",
        "  df['statsDataId'] = TABLE_INF['@id']\n",
        "  df['statsDataName'] = TABLE_INF['STAT_NAME']['$']\n",
        "  \n",
        "  return df\n",
        "\n",
        "\"\"\"\n",
        "DataFrameを整形する\n",
        "\"\"\"\n",
        "\n",
        "def  format_estat_dataframe(df_arg):\n",
        "\n",
        "  # 列を抽出して名前変更\n",
        "  df =  df_arg[['statsDataId','statsDataName','@cat01','@cat01_name','@time','@time_name','@area','$','@unit']]\n",
        "  df = df.rename(columns = {'@cat01':'categoryCode','@cat01_name':'categoryName','@time':'timeCode','@time_name':'timeName','@area':'areaCode','$':'value','@unit':'unit'})\n",
        "\n",
        "  # 欠損データ削除\n",
        "  df = df.dropna(subset=['categoryCode'])\n",
        "\n",
        "  # categoryNameから不要な情報（categoryCode）を削除\n",
        "  df['categoryName'] = df.apply(lambda x: x['categoryName'].replace(x['categoryCode']+'_', ''), 1)\n",
        "\n",
        "  # timeCodeを文字列4桁に置換\n",
        "  df['timeCode'] = df['timeCode'].astype(str)\n",
        "  df['timeCode'] = df.apply(lambda x: x['timeCode'][:4], 1)\n",
        "  \n",
        "  # 地域情報をマージ\n",
        "  with open('drive/MyDrive/statistics-hyogo/resas/arealist.json') as j:\n",
        "    arealist = json.load(j)\n",
        "    df_arealist = pd.json_normalize(arealist)  \n",
        "  df = pd.merge(df, df_arealist, on='areaCode', how='right')\n",
        "\n",
        "\n",
        "  df = df.dropna(subset=['categoryCode'])\n",
        "\n",
        "  # '-'を'0'に置換\n",
        "  df = df.replace({'value': {'-': '0'}})\n",
        "\n",
        "  return df"
      ],
      "metadata": {
        "id": "aRItwwQ41twT"
      },
      "execution_count": 112,
      "outputs": []
    },
    {
      "cell_type": "code",
      "source": [
        "!pip install pandas-gbq"
      ],
      "metadata": {
        "id": "Iw8hXRPoaqcn"
      },
      "execution_count": null,
      "outputs": []
    },
    {
      "cell_type": "code",
      "source": [
        "from google.cloud import bigquery\n",
        "from google.cloud.exceptions import NotFound\n",
        "\n",
        "# 統計カード一覧を取得\n",
        "with open('/content/drive/MyDrive/statistics-hyogo/contents/statistics-cards.json') as j:\n",
        "  cardlist = json.load(j)\n",
        "\n",
        "for card in cardlist:\n",
        "\n",
        "  # BigQueryのテーブル定義\n",
        "  project_id='primal-buttress-342908'\n",
        "  dataset_id = 'contents'\n",
        "  table_id= card['cardId']\n",
        "\n",
        "  client = bigquery.Client()\n",
        "\n",
        "  try:\n",
        "    client.get_table(f'{project_id}.{dataset_id}.{table_id}')  \n",
        "    print(\"Table {} already exists.\".format(table_id))\n",
        "\n",
        "  except NotFound:\n",
        "    estatParams = card['estatParams']\n",
        "\n",
        "    df = get_estat_dataframe(estatParams)\n",
        "    df.to_gbq(f'{dataset_id}.{table_id}', project_id=project_id, if_exists=\"replace\")\n",
        "    \n",
        "    print(estatParams)\n",
        "    print(f'{table_id}を保存しました')\n",
        "\n"
      ],
      "metadata": {
        "colab": {
          "base_uri": "https://localhost:8080/",
          "height": 1000
        },
        "id": "b8maJe5ZYQ8C",
        "outputId": "3ac6867c-c5a0-48c3-d06e-dc1f554be378"
      },
      "execution_count": 116,
      "outputs": [
        {
          "output_type": "stream",
          "name": "stdout",
          "text": [
            "Table total-population-prefecture already exists.\n",
            "Table japanese-population-prefecture already exists.\n",
            "Table population-pyramid-prefecture already exists.\n",
            "Table median-age-prefecture already exists.\n",
            "Table population-age-prefecture  already exists.\n",
            "Table unmarried-prefecture already exists.\n",
            "Table spouse-prefecture already exists.\n",
            "Table bereavement-prefecture already exists.\n",
            "Table separated-prefecture already exists.\n",
            "Table unmarried-rate-pretecture already exists.\n",
            "Table foreigner-population-prefecture already exists.\n",
            "Table densely-populated-area-population-prefecture already exists.\n",
            "Table densely-populated-area-prefecture already exists.\n",
            "Table foreigner-prefecture already exists.\n",
            "Table foreign-resident-prefecture already exists.\n",
            "Table birth-prefecture already exists.\n",
            "Table total-fertility-rate-prefecture already exists.\n",
            "Table death-prefecture already exists.\n",
            "Table death-pyramid-prefecture already exists.\n",
            "Table age-adjusted-mortality-prefecture already exists.\n",
            "Table stillbirth-prefecture already exists.\n",
            "Table standardized-mortality-prefecture already exists.\n",
            "Table movein-prefecture already exists.\n",
            "Table moveout-prefecture already exists.\n",
            "Table Immigrant-prefecture already exists.\n",
            "Table outofthecountry-prefecture already exists.\n",
            "Table social-change-rate-prefecture already exists.\n",
            "Table outflow-inside-prefecture already exists.\n",
            "Table outflow-outside-prefecture already exists.\n",
            "Table inflow-inside-prefecture already exists.\n"
          ]
        },
        {
          "output_type": "stream",
          "name": "stderr",
          "text": [
            "1it [00:05,  5.56s/it]\n"
          ]
        },
        {
          "output_type": "stream",
          "name": "stdout",
          "text": [
            "{'statsDataId': '0000010101', 'cdCat01': 'A6106,A610601,A610602'}\n",
            "inflow-outside-prefectureを保存しました\n"
          ]
        },
        {
          "output_type": "stream",
          "name": "stderr",
          "text": [
            "1it [00:05,  5.77s/it]\n"
          ]
        },
        {
          "output_type": "stream",
          "name": "stdout",
          "text": [
            "{'statsDataId': '0000010101', 'cdCat01': 'A6107,A610701,A610702,A6108,A6107,A6108'}\n",
            "daytime-population-prefectureを保存しました\n"
          ]
        },
        {
          "output_type": "stream",
          "name": "stderr",
          "text": [
            "1it [00:05,  5.56s/it]\n"
          ]
        },
        {
          "output_type": "stream",
          "name": "stdout",
          "text": [
            "{'statsDataId': '0000010101', 'cdCat01': 'A7101,A710101,A710102,A710201,A710202,A710211,A7103,A810101'}\n",
            "household-prefectureを保存しました\n"
          ]
        },
        {
          "output_type": "stream",
          "name": "stderr",
          "text": [
            "1it [00:07,  7.03s/it]\n"
          ]
        },
        {
          "output_type": "stream",
          "name": "stdout",
          "text": [
            "{'statsDataId': '0000010101', 'cdCat01': 'A810102,A810103,A810104'}\n",
            "nuclear-family-household-prefectureを保存しました\n"
          ]
        },
        {
          "output_type": "stream",
          "name": "stderr",
          "text": [
            "1it [00:06,  6.00s/it]\n"
          ]
        },
        {
          "output_type": "stream",
          "name": "stdout",
          "text": [
            "{'statsDataId': '0000010101', 'cdCat01': 'A810105'}\n",
            "single-household-prefectureを保存しました\n"
          ]
        },
        {
          "output_type": "stream",
          "name": "stderr",
          "text": [
            "1it [00:05,  5.06s/it]\n"
          ]
        },
        {
          "output_type": "stream",
          "name": "stdout",
          "text": [
            "{'statsDataId': '0000010101', 'cdCat01': 'A8201,A8202,A8301,A830101,A830102,A8303,A830301,A830302'}\n",
            "senior-household-prefectureを保存しました\n"
          ]
        },
        {
          "output_type": "stream",
          "name": "stderr",
          "text": [
            "1it [00:04,  4.98s/it]\n"
          ]
        },
        {
          "output_type": "stream",
          "name": "stdout",
          "text": [
            "{'statsDataId': '0000010101', 'cdCat01': 'A8401,A840101,A840102,A840103,A840201,A840202,A840203,A840204,A840205'}\n",
            "single-mother-household-prefectureを保存しました\n"
          ]
        },
        {
          "output_type": "stream",
          "name": "stderr",
          "text": [
            "1it [00:05,  5.95s/it]\n"
          ]
        },
        {
          "output_type": "stream",
          "name": "stdout",
          "text": [
            "{'statsDataId': '0000010101', 'cdCat01': 'A8501,A850101,A850102,A850103,A850201,A850202,A850203,A850204,A850205'}\n",
            "single-father-household-prefectureを保存しました\n"
          ]
        },
        {
          "output_type": "stream",
          "name": "stderr",
          "text": [
            "1it [00:04,  4.85s/it]\n"
          ]
        },
        {
          "output_type": "stream",
          "name": "stdout",
          "text": [
            "{'statsDataId': '0000010101', 'cdCat01': 'A9101'}\n",
            "marriage-prefectureを保存しました\n"
          ]
        },
        {
          "output_type": "stream",
          "name": "stderr",
          "text": [
            "1it [00:05,  5.88s/it]\n"
          ]
        },
        {
          "output_type": "stream",
          "name": "stdout",
          "text": [
            "{'statsDataId': '0000010101', 'cdCat01': 'A9111,A9112'}\n",
            "first-marriage-age-prefectureを保存しました\n"
          ]
        },
        {
          "output_type": "stream",
          "name": "stderr",
          "text": [
            "1it [00:08,  8.33s/it]\n"
          ]
        },
        {
          "output_type": "stream",
          "name": "stdout",
          "text": [
            "{'statsDataId': '0000010101', 'cdCat01': 'A9201'}\n",
            "divorce-prefectureを保存しました\n"
          ]
        },
        {
          "output_type": "stream",
          "name": "stderr",
          "text": [
            "1it [00:09,  9.26s/it]\n"
          ]
        },
        {
          "output_type": "stream",
          "name": "stdout",
          "text": [
            "{'statsDataId': '0000020201', 'cdCat01': 'A1101,A110101,A110102'}\n",
            "total-population-cityを保存しました\n"
          ]
        },
        {
          "output_type": "stream",
          "name": "stderr",
          "text": [
            "1it [00:08,  8.35s/it]\n"
          ]
        },
        {
          "output_type": "stream",
          "name": "stdout",
          "text": [
            "{'statsDataId': '0000020201', 'cdCat01': 'A1102,A110201,A110202'}\n",
            "japanese-population-cityを保存しました\n"
          ]
        },
        {
          "output_type": "stream",
          "name": "stderr",
          "text": [
            "1it [00:05,  5.14s/it]\n"
          ]
        },
        {
          "output_type": "stream",
          "name": "stdout",
          "text": [
            "{'statsDataId': '0000020201', 'cdCat01': 'A1231'}\n",
            "median-age-cityを保存しました\n"
          ]
        },
        {
          "output_type": "stream",
          "name": "stderr",
          "text": [
            "1it [00:15, 15.41s/it]\n"
          ]
        },
        {
          "output_type": "stream",
          "name": "stdout",
          "text": [
            "{'statsDataId': '0000020201', 'cdCat01': 'A1301,A130101,A130102,A1302,A130201,A130202,A1303,A130301,A130302'}\n",
            "population-age-cityを保存しました\n"
          ]
        },
        {
          "output_type": "stream",
          "name": "stderr",
          "text": [
            "1it [00:07,  7.84s/it]\n"
          ]
        },
        {
          "output_type": "stream",
          "name": "stdout",
          "text": [
            "{'statsDataId': '0000020201', 'cdCat01': 'A161001'}\n",
            "unmarried-rate-cityを保存しました\n"
          ]
        },
        {
          "output_type": "stream",
          "name": "stderr",
          "text": [
            "1it [00:09,  9.48s/it]\n"
          ]
        },
        {
          "output_type": "stream",
          "name": "stdout",
          "text": [
            "{'statsDataId': '0000020201', 'cdCat01': 'A1700'}\n",
            "foreigner-population-cityを保存しました\n"
          ]
        },
        {
          "output_type": "stream",
          "name": "stderr",
          "text": [
            "1it [00:08,  8.02s/it]\n"
          ]
        },
        {
          "output_type": "stream",
          "name": "stdout",
          "text": [
            "{'statsDataId': '0000020201', 'cdCat01': 'A1801,A180101,A180102'}\n",
            "densely-populated-area-population-cityを保存しました\n"
          ]
        },
        {
          "output_type": "stream",
          "name": "stderr",
          "text": [
            "1it [00:07,  7.34s/it]\n"
          ]
        },
        {
          "output_type": "stream",
          "name": "stdout",
          "text": [
            "{'statsDataId': '0000020201', 'cdCat01': 'A1802'}\n",
            "densely-populated-area-cityを保存しました\n"
          ]
        },
        {
          "output_type": "stream",
          "name": "stderr",
          "text": [
            "1it [00:10, 10.67s/it]\n"
          ]
        },
        {
          "output_type": "stream",
          "name": "stdout",
          "text": [
            "{'statsDataId': '0000020201', 'cdCat01': 'A4101'}\n",
            "birth-cityを保存しました\n"
          ]
        },
        {
          "output_type": "stream",
          "name": "stderr",
          "text": [
            "1it [00:12, 12.69s/it]\n"
          ]
        },
        {
          "output_type": "stream",
          "name": "stdout",
          "text": [
            "{'statsDataId': '0000020201', 'cdCat01': 'A4200'}\n",
            "death-cityを保存しました\n"
          ]
        },
        {
          "output_type": "stream",
          "name": "stderr",
          "text": [
            "1it [00:14, 14.43s/it]\n"
          ]
        },
        {
          "output_type": "stream",
          "name": "stdout",
          "text": [
            "{'statsDataId': '0000020201', 'cdCat01': 'A5101,A5103'}\n",
            "movein-cityを保存しました\n"
          ]
        },
        {
          "output_type": "stream",
          "name": "stderr",
          "text": [
            "1it [00:12, 12.19s/it]\n"
          ]
        },
        {
          "output_type": "stream",
          "name": "stdout",
          "text": [
            "{'statsDataId': '0000020201', 'cdCat01': 'A5102,A5104'}\n",
            "moveout-cityを保存しました\n"
          ]
        },
        {
          "output_type": "stream",
          "name": "stderr",
          "text": [
            "1it [00:12, 12.01s/it]\n"
          ]
        },
        {
          "output_type": "stream",
          "name": "stdout",
          "text": [
            "{'statsDataId': '0000020201', 'cdCat01': 'A6103,A6104'}\n",
            "outflow-outside-cityを保存しました\n"
          ]
        },
        {
          "output_type": "stream",
          "name": "stderr",
          "text": [
            "1it [00:11, 11.12s/it]\n"
          ]
        },
        {
          "output_type": "stream",
          "name": "stdout",
          "text": [
            "{'statsDataId': '0000020201', 'cdCat01': 'A6105,A6106'}\n",
            "inflow-inside-cityを保存しました\n"
          ]
        },
        {
          "output_type": "stream",
          "name": "stderr",
          "text": [
            "1it [00:21, 21.77s/it]\n"
          ]
        },
        {
          "output_type": "stream",
          "name": "stdout",
          "text": [
            "{'statsDataId': '0000020201', 'cdCat01': 'A7101,A710101,A710102,A710201,A710202,A7103,A810101'}\n",
            "household-cityを保存しました\n"
          ]
        },
        {
          "output_type": "stream",
          "name": "stderr",
          "text": [
            "1it [00:20, 20.77s/it]\n"
          ]
        },
        {
          "output_type": "stream",
          "name": "stdout",
          "text": [
            "{'statsDataId': '0000020201', 'cdCat01': 'A810102,A810103'}\n",
            "nuclear-family-household-cityを保存しました\n"
          ]
        },
        {
          "output_type": "stream",
          "name": "stderr",
          "text": [
            "1it [00:14, 14.71s/it]\n"
          ]
        },
        {
          "output_type": "stream",
          "name": "stdout",
          "text": [
            "{'statsDataId': '0000020201', 'cdCat01': 'A810105'}\n",
            "single-household-cityを保存しました\n"
          ]
        },
        {
          "output_type": "stream",
          "name": "stderr",
          "text": [
            "1it [00:11, 11.86s/it]\n"
          ]
        },
        {
          "output_type": "stream",
          "name": "stdout",
          "text": [
            "{'statsDataId': '0000020201', 'cdCat01': 'A8201,A8301,A830101,A830102'}\n",
            "senior-household-cityを保存しました\n"
          ]
        },
        {
          "output_type": "stream",
          "name": "stderr",
          "text": [
            "1it [00:10, 10.43s/it]\n"
          ]
        },
        {
          "output_type": "stream",
          "name": "stdout",
          "text": [
            "{'statsDataId': '0000020201', 'cdCat01': 'A8401,A840101,A840102,A840103'}\n",
            "single-mother-household-cityを保存しました\n"
          ]
        },
        {
          "output_type": "stream",
          "name": "stderr",
          "text": [
            "1it [00:08,  8.08s/it]\n"
          ]
        },
        {
          "output_type": "stream",
          "name": "stdout",
          "text": [
            "{'statsDataId': '0000020201', 'cdCat01': 'A8501,A850101,A850102,A850103'}\n",
            "single-father-household-cityを保存しました\n"
          ]
        },
        {
          "output_type": "stream",
          "name": "stderr",
          "text": [
            "1it [00:12, 12.60s/it]\n"
          ]
        },
        {
          "output_type": "stream",
          "name": "stdout",
          "text": [
            "{'statsDataId': '0000020201', 'cdCat01': 'A9101'}\n",
            "marriage-cityを保存しました\n"
          ]
        },
        {
          "output_type": "stream",
          "name": "stderr",
          "text": [
            "1it [00:17, 17.52s/it]\n"
          ]
        },
        {
          "output_type": "stream",
          "name": "stdout",
          "text": [
            "{'statsDataId': '0000020201', 'cdCat01': 'A9201'}\n",
            "divorce-cityを保存しました\n"
          ]
        },
        {
          "output_type": "stream",
          "name": "stderr",
          "text": [
            "1it [00:04,  4.90s/it]\n"
          ]
        },
        {
          "output_type": "stream",
          "name": "stdout",
          "text": [
            "{'statsDataId': '0000010102', 'cdCat01': 'B1101,B1102'}\n",
            "total-area-prefectureを保存しました\n"
          ]
        },
        {
          "output_type": "stream",
          "name": "stderr",
          "text": [
            "1it [00:05,  5.84s/it]\n"
          ]
        },
        {
          "output_type": "stream",
          "name": "stdout",
          "text": [
            "{'statsDataId': '0000010102', 'cdCat01': 'B1103'}\n",
            "habitable-area-prefectureを保存しました\n"
          ]
        },
        {
          "output_type": "stream",
          "name": "stderr",
          "text": [
            "1it [00:06,  6.04s/it]\n"
          ]
        },
        {
          "output_type": "stream",
          "name": "stdout",
          "text": [
            "{'statsDataId': '0000010102', 'cdCat01': 'B1105,B1106,B1107,B1303'}\n",
            "forest-area-prefectureを保存しました\n"
          ]
        },
        {
          "output_type": "stream",
          "name": "stderr",
          "text": [
            "1it [00:05,  5.65s/it]\n"
          ]
        },
        {
          "output_type": "stream",
          "name": "stdout",
          "text": [
            "{'statsDataId': '0000010102', 'cdCat01': 'B1108'}\n",
            "natural-environment-conservation-area-prefectureを保存しました\n"
          ]
        },
        {
          "output_type": "stream",
          "name": "stderr",
          "text": [
            "1it [00:06,  6.48s/it]\n"
          ]
        },
        {
          "output_type": "stream",
          "name": "stdout",
          "text": [
            "{'statsDataId': '0000010102', 'cdCat01': 'B1201,B120101,B120102,B120103,B120104,B120105,B120106,B120107'}\n",
            "evaluation-total-cadastral-prefectureを保存しました\n"
          ]
        },
        {
          "output_type": "stream",
          "name": "stderr",
          "text": [
            "1it [00:06,  6.96s/it]\n"
          ]
        },
        {
          "output_type": "stream",
          "name": "stdout",
          "text": [
            "{'statsDataId': '0000010102', 'cdCat01': 'B2101'}\n",
            "nature-park-area-prefectureを保存しました\n"
          ]
        },
        {
          "output_type": "stream",
          "name": "stderr",
          "text": [
            "1it [00:06,  6.07s/it]\n"
          ]
        },
        {
          "output_type": "stream",
          "name": "stdout",
          "text": [
            "{'statsDataId': '0000010102', 'cdCat01': 'B2102,B2103'}\n",
            "park-prefectureを保存しました\n"
          ]
        },
        {
          "output_type": "stream",
          "name": "stderr",
          "text": [
            "1it [00:05,  5.63s/it]\n"
          ]
        },
        {
          "output_type": "stream",
          "name": "stdout",
          "text": [
            "{'statsDataId': '0000010102', 'cdCat01': 'B2104,B2105'}\n",
            "national-park-prefectureを保存しました\n"
          ]
        },
        {
          "output_type": "stream",
          "name": "stderr",
          "text": [
            "1it [00:06,  6.09s/it]\n"
          ]
        },
        {
          "output_type": "stream",
          "name": "stdout",
          "text": [
            "{'statsDataId': '0000010102', 'cdCat01': 'B4101,B4102,B4103'}\n",
            "temperature-prefectureを保存しました\n"
          ]
        },
        {
          "output_type": "stream",
          "name": "stderr",
          "text": [
            "1it [00:14, 14.64s/it]\n"
          ]
        },
        {
          "output_type": "stream",
          "name": "stdout",
          "text": [
            "{'statsDataId': '0000010102', 'cdCat01': 'B4104,B4108'}\n",
            "sunny-days-prefectureを保存しました\n"
          ]
        },
        {
          "output_type": "stream",
          "name": "stderr",
          "text": [
            "1it [00:04,  4.63s/it]\n"
          ]
        },
        {
          "output_type": "stream",
          "name": "stdout",
          "text": [
            "{'statsDataId': '0000010102', 'cdCat01': 'B4105'}\n",
            "cloudy-days-prefectureを保存しました\n"
          ]
        },
        {
          "output_type": "stream",
          "name": "stderr",
          "text": [
            "1it [00:05,  5.96s/it]\n"
          ]
        },
        {
          "output_type": "stream",
          "name": "stdout",
          "text": [
            "{'statsDataId': '0000010102', 'cdCat01': 'B4106,B4109'}\n",
            "precipitation-prefectureを保存しました\n"
          ]
        },
        {
          "output_type": "stream",
          "name": "stderr",
          "text": [
            "1it [00:07,  7.55s/it]\n"
          ]
        },
        {
          "output_type": "stream",
          "name": "stdout",
          "text": [
            "{'statsDataId': '0000010102', 'cdCat01': 'B4107,B4110'}\n",
            "snow-prefectureを保存しました\n"
          ]
        },
        {
          "output_type": "stream",
          "name": "stderr",
          "text": [
            "1it [00:08,  8.46s/it]\n"
          ]
        },
        {
          "output_type": "stream",
          "name": "stdout",
          "text": [
            "{'statsDataId': '0000010102', 'cdCat01': 'B4111,B4112'}\n",
            "humidity-prefectureを保存しました\n"
          ]
        },
        {
          "output_type": "stream",
          "name": "stderr",
          "text": [
            "1it [00:06,  6.09s/it]\n"
          ]
        },
        {
          "output_type": "stream",
          "name": "stdout",
          "text": [
            "{'statsDataId': '0000010103', 'cdCat01': 'C1111,C1115,C1116,C1117'}\n",
            "industry-class-prefectureを保存しました\n"
          ]
        },
        {
          "output_type": "stream",
          "name": "stderr",
          "text": [
            "1it [00:05,  5.81s/it]\n"
          ]
        },
        {
          "output_type": "stream",
          "name": "stdout",
          "text": [
            "{'statsDataId': '0000010103', 'cdCat01': 'C120110'}\n",
            "taxable-income-prefectureを保存しました\n"
          ]
        },
        {
          "output_type": "stream",
          "name": "stderr",
          "text": [
            "1it [00:05,  5.28s/it]\n"
          ]
        },
        {
          "output_type": "stream",
          "name": "stdout",
          "text": [
            "{'statsDataId': '0000010103', 'cdCat01': 'C120120,C120130'}\n",
            "taxpayer-prefectureを保存しました\n"
          ]
        },
        {
          "output_type": "stream",
          "name": "stderr",
          "text": [
            "1it [00:05,  5.88s/it]\n"
          ]
        },
        {
          "output_type": "stream",
          "name": "stdout",
          "text": [
            "{'statsDataId': '0000010103', 'cdCat01': 'C2107,C2110,C2111,C2112'}\n",
            "establishments-prefectureを保存しました\n"
          ]
        },
        {
          "output_type": "stream",
          "name": "stderr",
          "text": [
            "1it [00:08,  8.55s/it]\n"
          ]
        },
        {
          "output_type": "stream",
          "name": "stdout",
          "text": [
            "{'statsDataId': '0000010103', 'cdCat01': 'C2207,C2210,C2211,C2212,F1102,F110201,F110202,F1103,F110301,F110302,F1104,F110401,F110402,F1105,F110501,F110502,F1106,F110601,F110602'}\n",
            "employees-prefectureを保存しました\n"
          ]
        },
        {
          "output_type": "stream",
          "name": "stderr",
          "text": [
            "1it [00:07,  7.48s/it]\n"
          ]
        },
        {
          "output_type": "stream",
          "name": "stdout",
          "text": [
            "{'statsDataId': '0000010103', 'cdCat01': 'C3101'}\n",
            "agricultural-output-prefectureを保存しました\n"
          ]
        },
        {
          "output_type": "stream",
          "name": "stderr",
          "text": [
            "1it [00:04,  4.77s/it]\n"
          ]
        },
        {
          "output_type": "stream",
          "name": "stdout",
          "text": [
            "{'statsDataId': '0000010103', 'cdCat01': 'C3102,C310201,C310202,C310211,C310212'}\n",
            "farmers-prefectureを保存しました\n"
          ]
        },
        {
          "output_type": "stream",
          "name": "stderr",
          "text": [
            "1it [00:07,  7.37s/it]\n"
          ]
        },
        {
          "output_type": "stream",
          "name": "stdout",
          "text": [
            "{'statsDataId': '0000010103', 'cdCat01': 'C310410,C310411,C310412'}\n",
            "farming-population-prefectureを保存しました\n"
          ]
        },
        {
          "output_type": "stream",
          "name": "stderr",
          "text": [
            "1it [00:06,  6.87s/it]\n"
          ]
        },
        {
          "output_type": "stream",
          "name": "stdout",
          "text": [
            "{'statsDataId': '0000010103', 'cdCat01': 'C3107,C310701,C310702,C310703,C310704,C310705'}\n",
            "agricultural-land-prefectureを保存しました\n"
          ]
        },
        {
          "output_type": "stream",
          "name": "stderr",
          "text": [
            "1it [00:06,  6.54s/it]\n"
          ]
        },
        {
          "output_type": "stream",
          "name": "stdout",
          "text": [
            "{'statsDataId': '0000010103', 'cdCat01': 'C3108'}\n",
            "agricultural-land-conversion-prefectureを保存しました\n"
          ]
        },
        {
          "output_type": "stream",
          "name": "stderr",
          "text": [
            "1it [00:05,  5.09s/it]\n"
          ]
        },
        {
          "output_type": "stream",
          "name": "stdout",
          "text": [
            "{'statsDataId': '0000010103', 'cdCat01': 'C3109'}\n",
            "abandoned-cultivated-prefectureを保存しました\n"
          ]
        },
        {
          "output_type": "stream",
          "name": "stderr",
          "text": [
            "1it [00:05,  5.10s/it]\n"
          ]
        },
        {
          "output_type": "stream",
          "name": "stdout",
          "text": [
            "{'statsDataId': '0000010103', 'cdCat01': 'C3110,C3111,C3112'}\n",
            "production-volume-prefectureを保存しました\n"
          ]
        },
        {
          "output_type": "stream",
          "name": "stderr",
          "text": [
            "1it [00:07,  7.72s/it]\n"
          ]
        },
        {
          "output_type": "stream",
          "name": "stdout",
          "text": [
            "{'statsDataId': '0000010103', 'cdCat01': 'C3114'}\n",
            "forest-road-extension-prefectureを保存しました\n"
          ]
        },
        {
          "output_type": "stream",
          "name": "stderr",
          "text": [
            "1it [00:07,  7.20s/it]\n"
          ]
        },
        {
          "output_type": "stream",
          "name": "stdout",
          "text": [
            "{'statsDataId': '0000010103', 'cdCat01': 'C3120,C312001,C312002,C312003,C31201'}\n",
            "fishery-output-prefectureを保存しました\n"
          ]
        },
        {
          "output_type": "stream",
          "name": "stderr",
          "text": [
            "1it [00:05,  5.16s/it]\n"
          ]
        },
        {
          "output_type": "stream",
          "name": "stdout",
          "text": [
            "{'statsDataId': '0000010103', 'cdCat01': 'C3121,C312101,C312102'}\n",
            "catch-prefectureを保存しました\n"
          ]
        },
        {
          "output_type": "stream",
          "name": "stderr",
          "text": [
            "1it [00:05,  5.30s/it]\n"
          ]
        },
        {
          "output_type": "stream",
          "name": "stdout",
          "text": [
            "{'statsDataId': '0000010103', 'cdCat01': 'C3122,C312201,C312202'}\n",
            "aquaculture-yield-prefectureを保存しました\n"
          ]
        },
        {
          "output_type": "stream",
          "name": "stderr",
          "text": [
            "1it [00:09,  9.49s/it]\n"
          ]
        },
        {
          "output_type": "stream",
          "name": "stdout",
          "text": [
            "{'statsDataId': '0000010103', 'cdCat01': 'C3304,C330401,C330402,C330403'}\n",
            "prime-contractor-prefectureを保存しました\n"
          ]
        },
        {
          "output_type": "stream",
          "name": "stderr",
          "text": [
            "1it [00:05,  5.29s/it]\n"
          ]
        },
        {
          "output_type": "stream",
          "name": "stdout",
          "text": [
            "{'statsDataId': '0000010103', 'cdCat01': 'C330410,C330411,C330412,C330413'}\n",
            "prime-contractor-private-prefectureを保存しました\n"
          ]
        },
        {
          "output_type": "stream",
          "name": "stderr",
          "text": [
            "1it [00:05,  5.93s/it]\n"
          ]
        },
        {
          "output_type": "stream",
          "name": "stdout",
          "text": [
            "{'statsDataId': '0000010103', 'cdCat01': 'C330420,C330421,C330422,C330423'}\n",
            "prime-contractor-public-prefectureを保存しました\n"
          ]
        },
        {
          "output_type": "stream",
          "name": "stderr",
          "text": [
            "1it [00:06,  6.15s/it]\n"
          ]
        },
        {
          "output_type": "stream",
          "name": "stdout",
          "text": [
            "{'statsDataId': '0000010103', 'cdCat01': 'C3305,C330501,C330502,C330503'}\n",
            "sub-contractor-prefectureを保存しました\n"
          ]
        },
        {
          "output_type": "stream",
          "name": "stderr",
          "text": [
            "1it [00:05,  5.55s/it]\n"
          ]
        },
        {
          "output_type": "stream",
          "name": "stdout",
          "text": [
            "{'statsDataId': '0000010103', 'cdCat01': 'C3306'}\n",
            "construction-company-prefectureを保存しました\n"
          ]
        },
        {
          "output_type": "stream",
          "name": "stderr",
          "text": [
            "1it [00:06,  6.28s/it]\n"
          ]
        },
        {
          "output_type": "stream",
          "name": "stdout",
          "text": [
            "{'statsDataId': '0000010103', 'cdCat01': 'C3307,C3308'}\n",
            "public-works-prefectureを保存しました\n"
          ]
        },
        {
          "output_type": "stream",
          "name": "stderr",
          "text": [
            "1it [00:06,  6.58s/it]\n"
          ]
        },
        {
          "output_type": "stream",
          "name": "stdout",
          "text": [
            "{'statsDataId': '0000010103', 'cdCat01': 'C3401'}\n",
            "product-shipment-value-prefectureを保存しました\n"
          ]
        },
        {
          "output_type": "stream",
          "name": "stderr",
          "text": [
            "1it [00:04,  4.67s/it]\n"
          ]
        },
        {
          "output_type": "stream",
          "name": "stdout",
          "text": [
            "{'statsDataId': '0000010103', 'cdCat01': 'C3402'}\n",
            "manufacturing-added-value-prefectureを保存しました\n"
          ]
        },
        {
          "output_type": "stream",
          "name": "stderr",
          "text": [
            "1it [00:05,  5.94s/it]\n"
          ]
        },
        {
          "output_type": "stream",
          "name": "stdout",
          "text": [
            "{'statsDataId': '0000010103', 'cdCat01': 'C3403,C3404,C3405'}\n",
            "manufacturing-establishments-prefectureを保存しました\n"
          ]
        },
        {
          "output_type": "stream",
          "name": "stderr",
          "text": [
            "1it [00:06,  6.76s/it]\n"
          ]
        },
        {
          "output_type": "stream",
          "name": "stdout",
          "text": [
            "{'statsDataId': '0000010103', 'cdCat01': 'C3406,C340601,C340602'}\n",
            "industrial-water-volume-prefectureを保存しました\n"
          ]
        },
        {
          "output_type": "stream",
          "name": "stderr",
          "text": [
            "1it [00:05,  5.47s/it]\n"
          ]
        },
        {
          "output_type": "stream",
          "name": "stdout",
          "text": [
            "{'statsDataId': '0000010103', 'cdCat01': 'C3501,C350101,C350102'}\n",
            "product-sales-amount-prefectureを保存しました\n"
          ]
        },
        {
          "output_type": "stream",
          "name": "stderr",
          "text": [
            "1it [00:05,  5.05s/it]\n"
          ]
        },
        {
          "output_type": "stream",
          "name": "stdout",
          "text": [
            "{'statsDataId': '0000010103', 'cdCat01': 'C3502,C350201,C350202,C3503,C350301,C350302'}\n",
            "commercial-establishments-prefectureを保存しました\n"
          ]
        },
        {
          "output_type": "stream",
          "name": "stderr",
          "text": [
            "1it [00:06,  6.83s/it]\n"
          ]
        },
        {
          "output_type": "stream",
          "name": "stdout",
          "text": [
            "{'statsDataId': '0000010103', 'cdCat01': 'C3704,C3705'}\n",
            "railroad-passengers-prefectureを保存しました\n"
          ]
        },
        {
          "output_type": "stream",
          "name": "stderr",
          "text": [
            "1it [00:08,  8.07s/it]\n"
          ]
        },
        {
          "output_type": "stream",
          "name": "stdout",
          "text": [
            "{'statsDataId': '0000010103', 'cdCat01': 'C3706'}\n",
            "aviation-passengers-prefectureを保存しました\n"
          ]
        },
        {
          "output_type": "stream",
          "name": "stderr",
          "text": [
            "1it [00:06,  6.15s/it]\n"
          ]
        },
        {
          "output_type": "stream",
          "name": "stdout",
          "text": [
            "{'statsDataId': '0000010103', 'cdCat01': 'C3707'}\n",
            "ship-passengers-prefectureを保存しました\n"
          ]
        },
        {
          "output_type": "stream",
          "name": "stderr",
          "text": [
            "1it [00:05,  5.89s/it]\n"
          ]
        },
        {
          "output_type": "stream",
          "name": "stdout",
          "text": [
            "{'statsDataId': '0000010103', 'cdCat01': 'C3708,C3709,C3710'}\n",
            "transportation-operator-prefectureを保存しました\n"
          ]
        },
        {
          "output_type": "stream",
          "name": "stderr",
          "text": [
            "1it [00:07,  7.46s/it]\n"
          ]
        },
        {
          "output_type": "stream",
          "name": "stdout",
          "text": [
            "{'statsDataId': '0000010103', 'cdCat01': 'C5101,C5102,C5103,C5104,C5105,C5106,C5107,C5108,C5109,C5110,C5111,C5112,C5113'}\n",
            "consumer-price-index-prefectureを保存しました\n"
          ]
        },
        {
          "output_type": "stream",
          "name": "stderr",
          "text": [
            "1it [00:05,  5.91s/it]\n"
          ]
        },
        {
          "output_type": "stream",
          "name": "stdout",
          "text": [
            "{'statsDataId': '0000010103', 'cdCat01': 'C5401,C5403,C5405'}\n",
            "standard-price-prefectureを保存しました\n"
          ]
        },
        {
          "output_type": "stream",
          "name": "stderr",
          "text": [
            "1it [00:05,  5.70s/it]\n"
          ]
        },
        {
          "output_type": "stream",
          "name": "stdout",
          "text": [
            "{'statsDataId': '0000010103', 'cdCat01': 'C5701,C5702,C5703,C5704,C5705,C5706,C5707,C5708,C5709,C5710,C5711,C5712'}\n",
            "consumer-price-regional-difference-index-prefectureを保存しました\n"
          ]
        },
        {
          "output_type": "stream",
          "name": "stderr",
          "text": [
            "1it [00:07,  7.98s/it]\n"
          ]
        },
        {
          "output_type": "stream",
          "name": "stdout",
          "text": [
            "{'statsDataId': '0000010104', 'cdCat01': 'D1201,D1202'}\n",
            "administrative-staff-prefectureを保存しました\n"
          ]
        },
        {
          "output_type": "stream",
          "name": "stderr",
          "text": [
            "1it [00:05,  5.34s/it]\n"
          ]
        },
        {
          "output_type": "stream",
          "name": "stdout",
          "text": [
            "{'statsDataId': '0000010104', 'cdCat01': 'D1203'}\n",
            "fire-department-staff-prefectureを保存しました\n"
          ]
        },
        {
          "output_type": "stream",
          "name": "stderr",
          "text": [
            "1it [00:05,  5.66s/it]\n"
          ]
        },
        {
          "output_type": "stream",
          "name": "stdout",
          "text": [
            "{'statsDataId': '0000010104', 'cdCat01': 'D1204'}\n",
            "education-department-staff-prefectureを保存しました\n"
          ]
        },
        {
          "output_type": "stream",
          "name": "stderr",
          "text": [
            "1it [00:05,  5.14s/it]\n"
          ]
        },
        {
          "output_type": "stream",
          "name": "stdout",
          "text": [
            "{'statsDataId': '0000010104', 'cdCat01': 'D1205'}\n",
            "police-department-staff-prefectureを保存しました\n"
          ]
        },
        {
          "output_type": "stream",
          "name": "stderr",
          "text": [
            "1it [00:06,  6.07s/it]\n"
          ]
        },
        {
          "output_type": "stream",
          "name": "stdout",
          "text": [
            "{'statsDataId': '0000010104', 'cdCat01': 'D1210,D1211'}\n",
            "members-prefectureを保存しました\n"
          ]
        },
        {
          "output_type": "stream",
          "name": "stderr",
          "text": [
            "1it [00:05,  5.48s/it]\n"
          ]
        },
        {
          "output_type": "stream",
          "name": "stdout",
          "text": [
            "{'statsDataId': '0000010104', 'cdCat01': 'D2101'}\n",
            "financial-strength-index-prefectureを保存しました\n"
          ]
        },
        {
          "output_type": "stream",
          "name": "stderr",
          "text": [
            "1it [00:05,  5.53s/it]\n"
          ]
        },
        {
          "output_type": "stream",
          "name": "stdout",
          "text": [
            "{'statsDataId': '0000010104', 'cdCat01': 'D2102'}\n",
            "real-balance-ratio-prefectureを保存しました\n"
          ]
        },
        {
          "output_type": "stream",
          "name": "stderr",
          "text": [
            "1it [00:07,  7.82s/it]\n"
          ]
        },
        {
          "output_type": "stream",
          "name": "stdout",
          "text": [
            "{'statsDataId': '0000010104', 'cdCat01': 'D2103'}\n",
            "current-account-ratio-prefectureを保存しました\n"
          ]
        },
        {
          "output_type": "stream",
          "name": "stderr",
          "text": [
            "1it [00:07,  7.42s/it]\n"
          ]
        },
        {
          "output_type": "stream",
          "name": "stdout",
          "text": [
            "{'statsDataId': '0000010104', 'cdCat01': 'D2105'}\n",
            "standard-financial-income-prefectureを保存しました\n"
          ]
        },
        {
          "output_type": "stream",
          "name": "stderr",
          "text": [
            "1it [00:05,  5.54s/it]\n"
          ]
        },
        {
          "output_type": "stream",
          "name": "stdout",
          "text": [
            "{'statsDataId': '0000010104', 'cdCat01': 'D2106'}\n",
            "standard-financial-demand-prefectureを保存しました\n"
          ]
        },
        {
          "output_type": "stream",
          "name": "stderr",
          "text": [
            "1it [00:05,  5.17s/it]\n"
          ]
        },
        {
          "output_type": "stream",
          "name": "stdout",
          "text": [
            "{'statsDataId': '0000010104', 'cdCat01': 'D2111'}\n",
            "real-debt-service-ratio-prefectureを保存しました\n"
          ]
        },
        {
          "output_type": "stream",
          "name": "stderr",
          "text": [
            "1it [00:05,  5.20s/it]\n"
          ]
        },
        {
          "output_type": "stream",
          "name": "stdout",
          "text": [
            "{'statsDataId': '0000010104', 'cdCat01': 'D2112'}\n",
            "future-burden-ratio-prefectureを保存しました\n"
          ]
        },
        {
          "output_type": "stream",
          "name": "stderr",
          "text": [
            "1it [00:05,  5.84s/it]\n"
          ]
        },
        {
          "output_type": "stream",
          "name": "stdout",
          "text": [
            "{'statsDataId': '0000010105', 'cdCat01': 'E1101,E110102,E1201,E120101,E120102,E120103'}\n",
            "kindergarten-prefectureを保存しました\n"
          ]
        },
        {
          "output_type": "stream",
          "name": "stderr",
          "text": [
            "1it [00:06,  6.91s/it]\n"
          ]
        },
        {
          "output_type": "stream",
          "name": "stdout",
          "text": [
            "{'statsDataId': '0000010105', 'cdCat01': 'E1301,E130101,E130102,E1302,E130201,E130202,E1303,E130301,E130302'}\n",
            "kindergarten-teachers-prefectureを保存しました\n"
          ]
        },
        {
          "output_type": "stream",
          "name": "stderr",
          "text": [
            "1it [00:08,  8.19s/it]\n"
          ]
        },
        {
          "output_type": "stream",
          "name": "stdout",
          "text": [
            "{'statsDataId': '0000010105', 'cdCat01': 'E1501,E150101,E150102,E150103,E150104,E150105,E1502,E150201,E150202,E150203,E150204,E150205'}\n",
            "kindergarten-children-prefectureを保存しました\n"
          ]
        },
        {
          "output_type": "stream",
          "name": "stderr",
          "text": [
            "1it [00:06,  6.62s/it]\n"
          ]
        },
        {
          "output_type": "stream",
          "name": "stdout",
          "text": [
            "{'statsDataId': '0000010105', 'cdCat01': 'E2101,E210101,E210102,E210103,E2202,E2203,E2205,E2206,E2207'}\n",
            "primary-schools-prefectureを保存しました\n"
          ]
        },
        {
          "output_type": "stream",
          "name": "stderr",
          "text": [
            "1it [00:06,  6.83s/it]\n"
          ]
        },
        {
          "output_type": "stream",
          "name": "stdout",
          "text": [
            "{'statsDataId': '0000010105', 'cdCat01': 'E2401,E240101,E240102,E2402,E240201,E240202'}\n",
            "primary-school-teachers-prefectureを保存しました\n"
          ]
        },
        {
          "output_type": "stream",
          "name": "stderr",
          "text": [
            "1it [00:08,  8.49s/it]\n"
          ]
        },
        {
          "output_type": "stream",
          "name": "stdout",
          "text": [
            "{'statsDataId': '0000010105', 'cdCat01': 'E2501,E250101,E250102,E2501021,E2501022,E2501023,E2501024,E2501025,E250103,E250104,E250105,E2502'}\n",
            "primary-school-students-prefectureを保存しました\n"
          ]
        },
        {
          "output_type": "stream",
          "name": "stderr",
          "text": [
            "1it [00:06,  6.45s/it]\n"
          ]
        },
        {
          "output_type": "stream",
          "name": "stdout",
          "text": [
            "{'statsDataId': '0000010105', 'cdCat01': 'E3101,E310101,E310102,E310103,E3202,E3203,E3205,E3206,E3207'}\n",
            "junior-high-schools-prefectureを保存しました\n"
          ]
        },
        {
          "output_type": "stream",
          "name": "stderr",
          "text": [
            "1it [00:07,  7.61s/it]\n"
          ]
        },
        {
          "output_type": "stream",
          "name": "stdout",
          "text": [
            "{'statsDataId': '0000010105', 'cdCat01': 'E3401,E340101,E340102,E3402,E340201,E340202'}\n",
            "junior-high-school-teachers-prefectureを保存しました\n"
          ]
        },
        {
          "output_type": "stream",
          "name": "stderr",
          "text": [
            "1it [00:06,  6.02s/it]\n"
          ]
        },
        {
          "output_type": "stream",
          "name": "stdout",
          "text": [
            "{'statsDataId': '0000010105', 'cdCat01': 'E3501,E350101,E3501011,E3501012,E3501013,E3501014,E3501015,E350102,E350103'}\n",
            "junior-high-school-students-prefectureを保存しました\n"
          ]
        },
        {
          "output_type": "stream",
          "name": "stderr",
          "text": [
            "1it [00:09,  9.32s/it]\n"
          ]
        },
        {
          "output_type": "stream",
          "name": "stdout",
          "text": [
            "{'statsDataId': '0000010105', 'cdCat01': 'E3701,E370101,E370102,E3702,E370201,E370202'}\n",
            "junior-high-school-graduate-prefectureを保存しました\n"
          ]
        },
        {
          "output_type": "stream",
          "name": "stderr",
          "text": [
            "1it [00:06,  6.54s/it]\n"
          ]
        },
        {
          "output_type": "stream",
          "name": "stdout",
          "text": [
            "{'statsDataId': '0000010105', 'cdCat01': 'E3801,E380101,E380102,E3802,E380201,E380202'}\n",
            "junior-high-school-education-continuance-rateを保存しました\n"
          ]
        },
        {
          "output_type": "stream",
          "name": "stderr",
          "text": [
            "1it [00:08,  8.63s/it]\n"
          ]
        },
        {
          "output_type": "stream",
          "name": "stdout",
          "text": [
            "{'statsDataId': '0000010105', 'cdCat01': 'E4101,E410101,E410102,E410103,E410201,E410202,E410203,E4202,E4207'}\n",
            "high-schools-prefectureを保存しました\n"
          ]
        },
        {
          "output_type": "stream",
          "name": "stderr",
          "text": [
            "1it [00:06,  6.29s/it]\n"
          ]
        },
        {
          "output_type": "stream",
          "name": "stdout",
          "text": [
            "{'statsDataId': '0000010105', 'cdCat01': 'E4401,E440101,E440102,E4402,E440201,E440202'}\n",
            "high-school-teachers-prefectureを保存しました\n"
          ]
        },
        {
          "output_type": "stream",
          "name": "stderr",
          "text": [
            "1it [00:09,  9.22s/it]\n"
          ]
        },
        {
          "output_type": "stream",
          "name": "stdout",
          "text": [
            "{'statsDataId': '0000010105', 'cdCat01': 'E4501,E450101,E450102,E450110,E450111,E450112,E450120,E450121,E450122,E4511,E451101,E451102,E4512,E451201,E451202,E4513,E451301,E451302,E4520,E452001,E452002'}\n",
            "high-school-students-prefectureを保存しました\n"
          ]
        },
        {
          "output_type": "stream",
          "name": "stderr",
          "text": [
            "1it [00:11, 11.47s/it]\n"
          ]
        },
        {
          "output_type": "stream",
          "name": "stdout",
          "text": [
            "{'statsDataId': '0000010105', 'cdCat01': 'E4601,E460101,E460102,E4602,E460201,E460202,E460210,E460220,E4603,E460301,E460302,E4604,E460401,E460402,E460410,E460411,E460412,E4605,E460501,E460502'}\n",
            "high-school-graduate-prefectureを保存しました\n"
          ]
        },
        {
          "output_type": "stream",
          "name": "stderr",
          "text": [
            "1it [00:07,  7.98s/it]\n"
          ]
        },
        {
          "output_type": "stream",
          "name": "stdout",
          "text": [
            "{'statsDataId': '0000010105', 'cdCat01': 'E4701,E470101,E470102,E4703,E470301,E470302'}\n",
            "high-school-education-continuance-rateを保存しました\n"
          ]
        },
        {
          "output_type": "stream",
          "name": "stderr",
          "text": [
            "1it [00:04,  4.75s/it]\n"
          ]
        },
        {
          "output_type": "stream",
          "name": "stdout",
          "text": [
            "{'statsDataId': '0000010105', 'cdCat01': 'E6101,E610101,E610102,E610103'}\n",
            "junior-colleges-prefectureを保存しました\n"
          ]
        },
        {
          "output_type": "stream",
          "name": "stderr",
          "text": [
            "1it [00:04,  4.86s/it]\n"
          ]
        },
        {
          "output_type": "stream",
          "name": "stdout",
          "text": [
            "{'statsDataId': '0000010105', 'cdCat01': 'E6102,E610201,E610202,E610203'}\n",
            "colleges-prefectureを保存しました\n"
          ]
        },
        {
          "output_type": "stream",
          "name": "stderr",
          "text": [
            "1it [00:06,  6.03s/it]\n"
          ]
        },
        {
          "output_type": "stream",
          "name": "stdout",
          "text": [
            "{'statsDataId': '0000010105', 'cdCat01': 'E6201,E620101,E620102,E620110,E620120,E620130'}\n",
            "junior-college-teachers-prefectureを保存しました\n"
          ]
        },
        {
          "output_type": "stream",
          "name": "stderr",
          "text": [
            "1it [00:09,  9.23s/it]\n"
          ]
        },
        {
          "output_type": "stream",
          "name": "stdout",
          "text": [
            "{'statsDataId': '0000010105', 'cdCat01': 'E6202,E620201,E620202,E620210,E620220,E620230'}\n",
            "college-teachers-prefectureを保存しました\n"
          ]
        },
        {
          "output_type": "stream",
          "name": "stderr",
          "text": [
            "1it [00:07,  7.22s/it]\n"
          ]
        },
        {
          "output_type": "stream",
          "name": "stdout",
          "text": [
            "{'statsDataId': '0000010105', 'cdCat01': 'E6301,E630101,E630102,E630110,E630111,E630112,E630120,E630121,E630122,E630130,E630131,E630132'}\n",
            "junior-college-students-prefectureを保存しました\n"
          ]
        },
        {
          "output_type": "stream",
          "name": "stderr",
          "text": [
            "1it [00:08,  8.07s/it]\n"
          ]
        },
        {
          "output_type": "stream",
          "name": "stdout",
          "text": [
            "{'statsDataId': '0000010105', 'cdCat01': 'E6302,E630201,E630202,E630210,E630211,E630212,E630220,E630221,E630222,E630230,E630231,E630232'}\n",
            "college-students-prefectureを保存しました\n"
          ]
        },
        {
          "output_type": "stream",
          "name": "stderr",
          "text": [
            "1it [00:08,  8.36s/it]\n"
          ]
        },
        {
          "output_type": "stream",
          "name": "stdout",
          "text": [
            "{'statsDataId': '0000010105', 'cdCat01': 'E6501,E650101,E650102,E650110,E650111,E650112,E650120,E650121,E650122,E650130,E650131,E650132'}\n",
            "junior-college-graduate-prefectureを保存しました\n"
          ]
        },
        {
          "output_type": "stream",
          "name": "stderr",
          "text": [
            "1it [00:07,  7.54s/it]\n"
          ]
        },
        {
          "output_type": "stream",
          "name": "stdout",
          "text": [
            "{'statsDataId': '0000010105', 'cdCat01': 'E6502,E650201,E650202,E650210,E650211,E650212,E650220,E650221,E650222,E650230,E650231,E650232'}\n",
            "college-graduate-prefectureを保存しました\n"
          ]
        },
        {
          "output_type": "stream",
          "name": "stderr",
          "text": [
            "1it [00:06,  6.09s/it]\n"
          ]
        },
        {
          "output_type": "stream",
          "name": "stdout",
          "text": [
            "{'statsDataId': '0000010105', 'cdCat01': 'E9102,E910201,E910202,E9103,E910301,E910302,E9105,E910501,E910502,E9106,E910601,E910602'}\n",
            "final-educational-attainment-population-prefectureを保存しました\n"
          ]
        },
        {
          "output_type": "stream",
          "name": "stderr",
          "text": [
            "1it [00:06,  6.83s/it]\n"
          ]
        },
        {
          "output_type": "stream",
          "name": "stdout",
          "text": [
            "{'statsDataId': '0000010105', 'cdCat01': 'E9414,E9415,E9416'}\n",
            "electronic-blackboard-prefectureを保存しました\n"
          ]
        },
        {
          "output_type": "stream",
          "name": "stderr",
          "text": [
            "1it [00:07,  7.77s/it]\n"
          ]
        },
        {
          "output_type": "stream",
          "name": "stdout",
          "text": [
            "{'statsDataId': '0000010105', 'cdCat01': 'E9417,E9418,E9419'}\n",
            "large-presentation-device-prefectureを保存しました\n"
          ]
        },
        {
          "output_type": "stream",
          "name": "stderr",
          "text": [
            "1it [00:08,  8.08s/it]\n"
          ]
        },
        {
          "output_type": "stream",
          "name": "stdout",
          "text": [
            "{'statsDataId': '0000010105', 'cdCat01': 'E9421,E9422,E9423'}\n",
            "digital-textbook-prefectureを保存しました\n"
          ]
        },
        {
          "output_type": "stream",
          "name": "stderr",
          "text": [
            "1it [00:07,  7.72s/it]\n"
          ]
        },
        {
          "output_type": "stream",
          "name": "stdout",
          "text": [
            "{'statsDataId': '0000010105', 'cdCat01': 'E9501'}\n",
            "violence-prefectureを保存しました\n"
          ]
        },
        {
          "output_type": "stream",
          "name": "stderr",
          "text": [
            "1it [00:05,  5.02s/it]\n"
          ]
        },
        {
          "output_type": "stream",
          "name": "stdout",
          "text": [
            "{'statsDataId': '0000010105', 'cdCat01': 'E9502,E9503'}\n",
            "bullying-prefectureを保存しました\n"
          ]
        },
        {
          "output_type": "stream",
          "name": "stderr",
          "text": [
            "1it [00:08,  8.61s/it]\n"
          ]
        },
        {
          "output_type": "stream",
          "name": "stdout",
          "text": [
            "{'statsDataId': '0000010106', 'cdCat01': 'F1101,F110101,F110102'}\n",
            "labor-force-population-prefectureを保存しました\n"
          ]
        },
        {
          "output_type": "stream",
          "name": "stderr",
          "text": [
            "1it [00:05,  5.00s/it]\n"
          ]
        },
        {
          "output_type": "stream",
          "name": "stdout",
          "text": [
            "{'statsDataId': '0000010106', 'cdCat01': 'F1107,F110701,F110702'}\n",
            "unemployed-prefectureを保存しました\n"
          ]
        },
        {
          "output_type": "stream",
          "name": "stderr",
          "text": [
            "1it [00:05,  5.45s/it]\n"
          ]
        },
        {
          "output_type": "stream",
          "name": "stdout",
          "text": [
            "{'statsDataId': '0000010106', 'cdCat01': 'F1108,F110801,F110802,F1109,F110901,F110902,F1110,F111001,F111002,F1111,F111101,F111102'}\n",
            "non-labor-population-prefectureを保存しました\n"
          ]
        },
        {
          "output_type": "stream",
          "name": "stderr",
          "text": [
            "1it [00:08,  8.29s/it]\n"
          ]
        },
        {
          "output_type": "stream",
          "name": "stdout",
          "text": [
            "{'statsDataId': '0000010106', 'cdCat01': 'F1501,F150101,F150102,F150103'}\n",
            "co-worker-household-prefectureを保存しました\n"
          ]
        },
        {
          "output_type": "stream",
          "name": "stderr",
          "text": [
            "1it [00:05,  5.93s/it]\n"
          ]
        },
        {
          "output_type": "stream",
          "name": "stdout",
          "text": [
            "{'statsDataId': '0000010106', 'cdCat01': 'F210101,F210102,F210201,F210202,F210301,F210302,F210401,F210402,F210501,F210502,F210601,F210602,F210701,F210702,F210801,F210802,F210901,F210902,F211001,F211002,F211101,F211102,F211201,F211202,F211301,F211302,F211401,F211402,F211501,F211502,F211601,F211602'}\n",
            "employees-pyramid-prefectureを保存しました\n"
          ]
        },
        {
          "output_type": "stream",
          "name": "stderr",
          "text": [
            "1it [00:05,  5.44s/it]\n"
          ]
        },
        {
          "output_type": "stream",
          "name": "stdout",
          "text": [
            "{'statsDataId': '0000010106', 'cdCat01': 'F6301,F6302,F6303'}\n",
            "working-days-prefectureを保存しました\n"
          ]
        },
        {
          "output_type": "stream",
          "name": "stderr",
          "text": [
            "1it [00:06,  6.43s/it]\n"
          ]
        },
        {
          "output_type": "stream",
          "name": "stdout",
          "text": [
            "{'statsDataId': '0000010106', 'cdCat01': 'F6401,F6402,F6403,F6404,F6405,F6406'}\n",
            "starting-salary-prefectureを保存しました\n"
          ]
        },
        {
          "output_type": "stream",
          "name": "stderr",
          "text": [
            "1it [00:05,  5.55s/it]\n"
          ]
        },
        {
          "output_type": "stream",
          "name": "stdout",
          "text": [
            "{'statsDataId': '0000010107', 'cdCat01': 'G7101,G710101,G710102,G710103,G710104,G710105,G710106'}\n",
            "guests-prefectureを保存しました\n"
          ]
        },
        {
          "output_type": "stream",
          "name": "stderr",
          "text": [
            "1it [00:06,  6.25s/it]\n"
          ]
        },
        {
          "output_type": "stream",
          "name": "stdout",
          "text": [
            "{'statsDataId': '0000010107', 'cdCat01': 'G7102,G710201,G710202,G710203,G710204'}\n",
            "foreigner-guests-prefectureを保存しました\n"
          ]
        },
        {
          "output_type": "stream",
          "name": "stderr",
          "text": [
            "1it [00:06,  6.12s/it]\n"
          ]
        },
        {
          "output_type": "stream",
          "name": "stdout",
          "text": [
            "{'statsDataId': '0000010108', 'cdCat01': 'H5609,H560901,H560902,H560903,H560904,H5610'}\n",
            "garbage-discharged-prefectureを保存しました\n"
          ]
        },
        {
          "output_type": "stream",
          "name": "stderr",
          "text": [
            "1it [00:05,  5.43s/it]\n"
          ]
        },
        {
          "output_type": "stream",
          "name": "stdout",
          "text": [
            "{'statsDataId': '0000010108', 'cdCat01': 'H5612,H561201'}\n",
            "waste-processed-prefectureを保存しました\n"
          ]
        },
        {
          "output_type": "stream",
          "name": "stderr",
          "text": [
            "1it [00:05,  5.34s/it]\n"
          ]
        },
        {
          "output_type": "stream",
          "name": "stdout",
          "text": [
            "{'statsDataId': '0000010108', 'cdCat01': 'H8101,H8102,H8103'}\n",
            "city-planning-area-prefectureを保存しました\n"
          ]
        },
        {
          "output_type": "stream",
          "name": "stderr",
          "text": [
            "1it [00:06,  6.67s/it]\n"
          ]
        },
        {
          "output_type": "stream",
          "name": "stdout",
          "text": [
            "{'statsDataId': '0000010108', 'cdCat01': 'H8104,H810401,H810402,H810403,H810404,H810405,H810406,H810407,H810408,H810409'}\n",
            "use-area-prefectureを保存しました\n"
          ]
        },
        {
          "output_type": "stream",
          "name": "stderr",
          "text": [
            "1it [00:07,  7.17s/it]\n"
          ]
        },
        {
          "output_type": "stream",
          "name": "stdout",
          "text": [
            "{'statsDataId': '0000010109', 'cdCat01': 'I6100,I6101,I610101,I610102,I610110,I610111,I610112,I610120,I6102,I611110,I611111,I611112'}\n",
            "doctors-prefectureを保存しました\n"
          ]
        },
        {
          "output_type": "stream",
          "name": "stderr",
          "text": [
            "1it [00:06,  6.78s/it]\n"
          ]
        },
        {
          "output_type": "stream",
          "name": "stdout",
          "text": [
            "{'statsDataId': '0000010109', 'cdCat01': 'I6200,I6201,I620110,I620111,I620120,I621110,I621111'}\n",
            "dentist-prefectureを保存しました\n"
          ]
        },
        {
          "output_type": "stream",
          "name": "stderr",
          "text": [
            "1it [00:06,  6.33s/it]\n"
          ]
        },
        {
          "output_type": "stream",
          "name": "stdout",
          "text": [
            "{'statsDataId': '0000010109', 'cdCat01': 'I6300,I6310,I6311,I6312,I631210,I631211,I6320,I6330'}\n",
            "pharmacist-prefectureを保存しました\n"
          ]
        },
        {
          "output_type": "stream",
          "name": "stderr",
          "text": [
            "1it [00:06,  6.88s/it]\n"
          ]
        },
        {
          "output_type": "stream",
          "name": "stdout",
          "text": [
            "{'statsDataId': '0000010109', 'cdCat01': 'I6400,I6401,I640110,I640111,I640112,I640120,I640130,I6402,I641110,I641111,I641112'}\n",
            "nurse-prefectureを保存しました\n"
          ]
        },
        {
          "output_type": "stream",
          "name": "stderr",
          "text": [
            "1it [00:06,  6.48s/it]\n"
          ]
        },
        {
          "output_type": "stream",
          "name": "stdout",
          "text": [
            "{'statsDataId': '0000010109', 'cdCat01': 'I6500,I6501,I650110,I650111,I650112,I650120,I650130,I6502,I651110,I651111,I651112'}\n",
            "associate-nurse-prefectureを保存しました\n"
          ]
        },
        {
          "output_type": "stream",
          "name": "stderr",
          "text": [
            "1it [00:08,  8.57s/it]\n"
          ]
        },
        {
          "output_type": "stream",
          "name": "stdout",
          "text": [
            "{'statsDataId': '0000010109', 'cdCat01': 'I7102'}\n",
            "pharmacy-prefectureを保存しました\n"
          ]
        },
        {
          "output_type": "stream",
          "name": "stderr",
          "text": [
            "1it [00:05,  5.25s/it]\n"
          ]
        },
        {
          "output_type": "stream",
          "name": "stdout",
          "text": [
            "{'statsDataId': '0000010110', 'cdCat01': 'J2301,J2304'}\n",
            "welfare-facilities-elderly-prefectureを保存しました\n"
          ]
        },
        {
          "output_type": "stream",
          "name": "stderr",
          "text": [
            "1it [00:05,  5.77s/it]\n"
          ]
        },
        {
          "output_type": "stream",
          "name": "stdout",
          "text": [
            "{'statsDataId': '0000010110', 'cdCat01': 'J4001,J4002,J4003,J4005,J4006'}\n",
            "national-medical-expenses-prefectureを保存しました\n"
          ]
        },
        {
          "output_type": "stream",
          "name": "stderr",
          "text": [
            "1it [00:08,  8.49s/it]\n"
          ]
        },
        {
          "output_type": "stream",
          "name": "stdout",
          "text": [
            "{'statsDataId': '0000010110', 'cdCat01': 'J4101,J4106,J4107'}\n",
            "national-health-insurance-prefectureを保存しました\n"
          ]
        },
        {
          "output_type": "stream",
          "name": "stderr",
          "text": [
            "1it [00:04,  4.76s/it]\n"
          ]
        },
        {
          "output_type": "stream",
          "name": "stdout",
          "text": [
            "{'statsDataId': '0000010110', 'cdCat01': 'J4102,J4108'}\n",
            "national-health-insurance-benefit-amount-prefectureを保存しました\n"
          ]
        },
        {
          "output_type": "stream",
          "name": "stderr",
          "text": [
            "1it [00:05,  5.85s/it]\n"
          ]
        },
        {
          "output_type": "stream",
          "name": "stdout",
          "text": [
            "{'statsDataId': '0000010111', 'cdCat01': 'K2105'}\n",
            "fire-damage-amount-prefectureを保存しました\n"
          ]
        },
        {
          "output_type": "stream",
          "name": "stderr",
          "text": [
            "1it [00:05,  5.96s/it]\n"
          ]
        },
        {
          "output_type": "stream",
          "name": "stdout",
          "text": [
            "{'statsDataId': '0000010111', 'cdCat01': 'K2109,K2110,K2111'}\n",
            "fire-casualties-prefectureを保存しました\n"
          ]
        },
        {
          "output_type": "stream",
          "name": "stderr",
          "text": [
            "1it [00:06,  6.58s/it]\n"
          ]
        },
        {
          "output_type": "stream",
          "name": "stdout",
          "text": [
            "{'statsDataId': '0000010111', 'cdCat01': 'K3101,K3104,K4402,K4403,K4404'}\n",
            "incident-prefectureを保存しました\n"
          ]
        },
        {
          "output_type": "stream",
          "name": "stderr",
          "text": [
            "1it [00:06,  6.33s/it]\n"
          ]
        },
        {
          "output_type": "stream",
          "name": "stdout",
          "text": [
            "{'statsDataId': '0000010111', 'cdCat01': 'K3102,K310201,K310202,K310203,K3103'}\n",
            "traffic-accident-casualties-prefectureを保存しました\n"
          ]
        },
        {
          "output_type": "stream",
          "name": "stderr",
          "text": [
            "1it [00:05,  5.15s/it]\n"
          ]
        },
        {
          "output_type": "stream",
          "name": "stdout",
          "text": [
            "{'statsDataId': '0000010111', 'cdCat01': 'K4401'}\n",
            "road-traffic-law-prefectureを保存しました\n"
          ]
        },
        {
          "output_type": "stream",
          "name": "stderr",
          "text": [
            "1it [00:06,  6.05s/it]\n"
          ]
        },
        {
          "output_type": "stream",
          "name": "stdout",
          "text": [
            "{'statsDataId': '0000010111', 'cdCat01': 'K6103,K610301,K610302,K610303,K610304,K610305,K610306,K610307'}\n",
            "pollution-complaints-prefectureを保存しました\n"
          ]
        },
        {
          "output_type": "stream",
          "name": "stderr",
          "text": [
            "1it [00:06,  6.92s/it]\n"
          ]
        },
        {
          "output_type": "stream",
          "name": "stdout",
          "text": [
            "{'statsDataId': '0000010111', 'cdCat01': 'K6107,K6108'}\n",
            "calculated-greenhouse-gas-emissions-prefectureを保存しました\n"
          ]
        },
        {
          "output_type": "stream",
          "name": "stderr",
          "text": [
            "1it [00:05,  5.94s/it]\n"
          ]
        },
        {
          "output_type": "stream",
          "name": "stdout",
          "text": [
            "{'statsDataId': '0000010112', 'cdCat01': 'L7110,L7111,L711101,L7111011,L7111012,L7111013,L711102,L711103'}\n",
            "income-prefectureを保存しました\n"
          ]
        },
        {
          "output_type": "stream",
          "name": "stderr",
          "text": [
            "1it [00:06,  6.11s/it]\n"
          ]
        },
        {
          "output_type": "stream",
          "name": "stdout",
          "text": [
            "{'statsDataId': '0000010112', 'cdCat01': 'L7130'}\n",
            "disposable-income-prefectureを保存しました\n"
          ]
        },
        {
          "output_type": "stream",
          "name": "stderr",
          "text": [
            "1it [00:05,  5.61s/it]\n"
          ]
        },
        {
          "output_type": "stream",
          "name": "stdout",
          "text": [
            "{'statsDataId': '0000010112', 'cdCat01': 'L7210,L7211,L721101,L721102,L721103,L721104,L721105,L721106,L721107,L721108,L721109,L7211091,L721110,L7212'}\n",
            "consumption-expenditure-prefectureを保存しました\n"
          ]
        },
        {
          "output_type": "stream",
          "name": "stderr",
          "text": [
            "1it [00:06,  6.04s/it]\n"
          ]
        },
        {
          "output_type": "stream",
          "name": "stdout",
          "text": [
            "{'statsDataId': '0000010112', 'cdCat01': 'L730101,L730102,L730103,L730104,L730201,L730202,L730203,L730204,L740101,L740102,L740201,L740202'}\n",
            "financial-assets-prefectureを保存しました\n"
          ]
        },
        {
          "output_type": "stream",
          "name": "stderr",
          "text": [
            "1it [00:18, 18.51s/it]\n"
          ]
        },
        {
          "output_type": "stream",
          "name": "stdout",
          "text": [
            "{'statsDataId': '0000020202', 'cdCat01': 'B1101,B1102'}\n",
            "total-area-cityを保存しました\n"
          ]
        },
        {
          "output_type": "stream",
          "name": "stderr",
          "text": [
            "1it [00:11, 12.00s/it]\n"
          ]
        },
        {
          "output_type": "stream",
          "name": "stdout",
          "text": [
            "{'statsDataId': '0000020202', 'cdCat01': 'B1103'}\n",
            "habitable-area-cityを保存しました\n"
          ]
        },
        {
          "output_type": "error",
          "ename": "KeyboardInterrupt",
          "evalue": "ignored",
          "traceback": [
            "\u001b[0;31m---------------------------------------------------------------------------\u001b[0m",
            "\u001b[0;31mNotFound\u001b[0m                                  Traceback (most recent call last)",
            "\u001b[0;32m<ipython-input-116-383c10537ef6>\u001b[0m in \u001b[0;36m<module>\u001b[0;34m\u001b[0m\n\u001b[1;32m     17\u001b[0m   \u001b[0;32mtry\u001b[0m\u001b[0;34m:\u001b[0m\u001b[0;34m\u001b[0m\u001b[0;34m\u001b[0m\u001b[0m\n\u001b[0;32m---> 18\u001b[0;31m     \u001b[0mclient\u001b[0m\u001b[0;34m.\u001b[0m\u001b[0mget_table\u001b[0m\u001b[0;34m(\u001b[0m\u001b[0;34mf'{project_id}.{dataset_id}.{table_id}'\u001b[0m\u001b[0;34m)\u001b[0m\u001b[0;34m\u001b[0m\u001b[0;34m\u001b[0m\u001b[0m\n\u001b[0m\u001b[1;32m     19\u001b[0m     \u001b[0mprint\u001b[0m\u001b[0;34m(\u001b[0m\u001b[0;34m\"Table {} already exists.\"\u001b[0m\u001b[0;34m.\u001b[0m\u001b[0mformat\u001b[0m\u001b[0;34m(\u001b[0m\u001b[0mtable_id\u001b[0m\u001b[0;34m)\u001b[0m\u001b[0;34m)\u001b[0m\u001b[0;34m\u001b[0m\u001b[0;34m\u001b[0m\u001b[0m\n",
            "\u001b[0;32m/usr/local/lib/python3.7/dist-packages/google/cloud/bigquery/client.py\u001b[0m in \u001b[0;36mget_table\u001b[0;34m(self, table, retry)\u001b[0m\n\u001b[1;32m    580\u001b[0m         \u001b[0mtable_ref\u001b[0m \u001b[0;34m=\u001b[0m \u001b[0m_table_arg_to_table_ref\u001b[0m\u001b[0;34m(\u001b[0m\u001b[0mtable\u001b[0m\u001b[0;34m,\u001b[0m \u001b[0mdefault_project\u001b[0m\u001b[0;34m=\u001b[0m\u001b[0mself\u001b[0m\u001b[0;34m.\u001b[0m\u001b[0mproject\u001b[0m\u001b[0;34m)\u001b[0m\u001b[0;34m\u001b[0m\u001b[0;34m\u001b[0m\u001b[0m\n\u001b[0;32m--> 581\u001b[0;31m         \u001b[0mapi_response\u001b[0m \u001b[0;34m=\u001b[0m \u001b[0mself\u001b[0m\u001b[0;34m.\u001b[0m\u001b[0m_call_api\u001b[0m\u001b[0;34m(\u001b[0m\u001b[0mretry\u001b[0m\u001b[0;34m,\u001b[0m \u001b[0mmethod\u001b[0m\u001b[0;34m=\u001b[0m\u001b[0;34m\"GET\"\u001b[0m\u001b[0;34m,\u001b[0m \u001b[0mpath\u001b[0m\u001b[0;34m=\u001b[0m\u001b[0mtable_ref\u001b[0m\u001b[0;34m.\u001b[0m\u001b[0mpath\u001b[0m\u001b[0;34m)\u001b[0m\u001b[0;34m\u001b[0m\u001b[0;34m\u001b[0m\u001b[0m\n\u001b[0m\u001b[1;32m    582\u001b[0m         \u001b[0;32mreturn\u001b[0m \u001b[0mTable\u001b[0m\u001b[0;34m.\u001b[0m\u001b[0mfrom_api_repr\u001b[0m\u001b[0;34m(\u001b[0m\u001b[0mapi_response\u001b[0m\u001b[0;34m)\u001b[0m\u001b[0;34m\u001b[0m\u001b[0;34m\u001b[0m\u001b[0m\n",
            "\u001b[0;32m/usr/local/lib/python3.7/dist-packages/google/cloud/bigquery/client.py\u001b[0m in \u001b[0;36m_call_api\u001b[0;34m(self, retry, **kwargs)\u001b[0m\n\u001b[1;32m    475\u001b[0m             \u001b[0mcall\u001b[0m \u001b[0;34m=\u001b[0m \u001b[0mretry\u001b[0m\u001b[0;34m(\u001b[0m\u001b[0mcall\u001b[0m\u001b[0;34m)\u001b[0m\u001b[0;34m\u001b[0m\u001b[0;34m\u001b[0m\u001b[0m\n\u001b[0;32m--> 476\u001b[0;31m         \u001b[0;32mreturn\u001b[0m \u001b[0mcall\u001b[0m\u001b[0;34m(\u001b[0m\u001b[0;34m)\u001b[0m\u001b[0;34m\u001b[0m\u001b[0;34m\u001b[0m\u001b[0m\n\u001b[0m\u001b[1;32m    477\u001b[0m \u001b[0;34m\u001b[0m\u001b[0m\n",
            "\u001b[0;32m/usr/local/lib/python3.7/dist-packages/google/api_core/retry.py\u001b[0m in \u001b[0;36mretry_wrapped_func\u001b[0;34m(*args, **kwargs)\u001b[0m\n\u001b[1;32m    290\u001b[0m                 \u001b[0mself\u001b[0m\u001b[0;34m.\u001b[0m\u001b[0m_deadline\u001b[0m\u001b[0;34m,\u001b[0m\u001b[0;34m\u001b[0m\u001b[0;34m\u001b[0m\u001b[0m\n\u001b[0;32m--> 291\u001b[0;31m                 \u001b[0mon_error\u001b[0m\u001b[0;34m=\u001b[0m\u001b[0mon_error\u001b[0m\u001b[0;34m,\u001b[0m\u001b[0;34m\u001b[0m\u001b[0;34m\u001b[0m\u001b[0m\n\u001b[0m\u001b[1;32m    292\u001b[0m             )\n",
            "\u001b[0;32m/usr/local/lib/python3.7/dist-packages/google/api_core/retry.py\u001b[0m in \u001b[0;36mretry_target\u001b[0;34m(target, predicate, sleep_generator, deadline, on_error)\u001b[0m\n\u001b[1;32m    188\u001b[0m         \u001b[0;32mtry\u001b[0m\u001b[0;34m:\u001b[0m\u001b[0;34m\u001b[0m\u001b[0;34m\u001b[0m\u001b[0m\n\u001b[0;32m--> 189\u001b[0;31m             \u001b[0;32mreturn\u001b[0m \u001b[0mtarget\u001b[0m\u001b[0;34m(\u001b[0m\u001b[0;34m)\u001b[0m\u001b[0;34m\u001b[0m\u001b[0;34m\u001b[0m\u001b[0m\n\u001b[0m\u001b[1;32m    190\u001b[0m \u001b[0;34m\u001b[0m\u001b[0m\n",
            "\u001b[0;32m/usr/local/lib/python3.7/dist-packages/google/cloud/_http.py\u001b[0m in \u001b[0;36mapi_request\u001b[0;34m(self, method, path, query_params, data, content_type, headers, api_base_url, api_version, expect_json, _target_object)\u001b[0m\n\u001b[1;32m    392\u001b[0m         \u001b[0;32mif\u001b[0m \u001b[0;32mnot\u001b[0m \u001b[0;36m200\u001b[0m \u001b[0;34m<=\u001b[0m \u001b[0mresponse\u001b[0m\u001b[0;34m.\u001b[0m\u001b[0mstatus_code\u001b[0m \u001b[0;34m<\u001b[0m \u001b[0;36m300\u001b[0m\u001b[0;34m:\u001b[0m\u001b[0;34m\u001b[0m\u001b[0;34m\u001b[0m\u001b[0m\n\u001b[0;32m--> 393\u001b[0;31m             \u001b[0;32mraise\u001b[0m \u001b[0mexceptions\u001b[0m\u001b[0;34m.\u001b[0m\u001b[0mfrom_http_response\u001b[0m\u001b[0;34m(\u001b[0m\u001b[0mresponse\u001b[0m\u001b[0;34m)\u001b[0m\u001b[0;34m\u001b[0m\u001b[0;34m\u001b[0m\u001b[0m\n\u001b[0m\u001b[1;32m    394\u001b[0m \u001b[0;34m\u001b[0m\u001b[0m\n",
            "\u001b[0;31mNotFound\u001b[0m: 404 GET https://bigquery.googleapis.com/bigquery/v2/projects/primal-buttress-342908/datasets/contents/tables/forest-area-city: Not found: Table primal-buttress-342908:contents.forest-area-city",
            "\nDuring handling of the above exception, another exception occurred:\n",
            "\u001b[0;31mKeyboardInterrupt\u001b[0m                         Traceback (most recent call last)",
            "\u001b[0;32m<ipython-input-116-383c10537ef6>\u001b[0m in \u001b[0;36m<module>\u001b[0;34m\u001b[0m\n\u001b[1;32m     22\u001b[0m     \u001b[0mestatParams\u001b[0m \u001b[0;34m=\u001b[0m \u001b[0mcard\u001b[0m\u001b[0;34m[\u001b[0m\u001b[0;34m'estatParams'\u001b[0m\u001b[0;34m]\u001b[0m\u001b[0;34m\u001b[0m\u001b[0;34m\u001b[0m\u001b[0m\n\u001b[1;32m     23\u001b[0m \u001b[0;34m\u001b[0m\u001b[0m\n\u001b[0;32m---> 24\u001b[0;31m     \u001b[0mdf\u001b[0m \u001b[0;34m=\u001b[0m \u001b[0mget_estat_dataframe\u001b[0m\u001b[0;34m(\u001b[0m\u001b[0mestatParams\u001b[0m\u001b[0;34m)\u001b[0m\u001b[0;34m\u001b[0m\u001b[0;34m\u001b[0m\u001b[0m\n\u001b[0m\u001b[1;32m     25\u001b[0m     \u001b[0mdf\u001b[0m\u001b[0;34m.\u001b[0m\u001b[0mto_gbq\u001b[0m\u001b[0;34m(\u001b[0m\u001b[0;34mf'{dataset_id}.{table_id}'\u001b[0m\u001b[0;34m,\u001b[0m \u001b[0mproject_id\u001b[0m\u001b[0;34m=\u001b[0m\u001b[0mproject_id\u001b[0m\u001b[0;34m,\u001b[0m \u001b[0mif_exists\u001b[0m\u001b[0;34m=\u001b[0m\u001b[0;34m\"replace\"\u001b[0m\u001b[0;34m)\u001b[0m\u001b[0;34m\u001b[0m\u001b[0;34m\u001b[0m\u001b[0m\n\u001b[1;32m     26\u001b[0m \u001b[0;34m\u001b[0m\u001b[0m\n",
            "\u001b[0;32m<ipython-input-112-26a3f0146b31>\u001b[0m in \u001b[0;36mget_estat_dataframe\u001b[0;34m(params)\u001b[0m\n\u001b[1;32m     13\u001b[0m   \u001b[0mres\u001b[0m \u001b[0;34m=\u001b[0m \u001b[0mget_estat_response\u001b[0m\u001b[0;34m(\u001b[0m\u001b[0mparams\u001b[0m\u001b[0;34m)\u001b[0m\u001b[0;34m\u001b[0m\u001b[0;34m\u001b[0m\u001b[0m\n\u001b[1;32m     14\u001b[0m   \u001b[0mdf_res\u001b[0m \u001b[0;34m=\u001b[0m \u001b[0mconv_estat_response_to_dataframe\u001b[0m\u001b[0;34m(\u001b[0m\u001b[0mres\u001b[0m\u001b[0;34m)\u001b[0m\u001b[0;34m\u001b[0m\u001b[0;34m\u001b[0m\u001b[0m\n\u001b[0;32m---> 15\u001b[0;31m   \u001b[0mdf_res\u001b[0m \u001b[0;34m=\u001b[0m \u001b[0mformat_estat_dataframe\u001b[0m\u001b[0;34m(\u001b[0m\u001b[0mdf_res\u001b[0m\u001b[0;34m)\u001b[0m\u001b[0;34m\u001b[0m\u001b[0;34m\u001b[0m\u001b[0m\n\u001b[0m\u001b[1;32m     16\u001b[0m \u001b[0;34m\u001b[0m\u001b[0m\n\u001b[1;32m     17\u001b[0m   \u001b[0;32mreturn\u001b[0m \u001b[0mdf_res\u001b[0m\u001b[0;34m\u001b[0m\u001b[0;34m\u001b[0m\u001b[0m\n",
            "\u001b[0;32m<ipython-input-112-26a3f0146b31>\u001b[0m in \u001b[0;36mformat_estat_dataframe\u001b[0;34m(df_arg)\u001b[0m\n\u001b[1;32m     96\u001b[0m \u001b[0;34m\u001b[0m\u001b[0m\n\u001b[1;32m     97\u001b[0m   \u001b[0;31m# '-'を'0'に置換\u001b[0m\u001b[0;34m\u001b[0m\u001b[0;34m\u001b[0m\u001b[0;34m\u001b[0m\u001b[0m\n\u001b[0;32m---> 98\u001b[0;31m   \u001b[0mdf\u001b[0m \u001b[0;34m=\u001b[0m \u001b[0mdf\u001b[0m\u001b[0;34m.\u001b[0m\u001b[0mreplace\u001b[0m\u001b[0;34m(\u001b[0m\u001b[0;34m{\u001b[0m\u001b[0;34m'value'\u001b[0m\u001b[0;34m:\u001b[0m \u001b[0;34m{\u001b[0m\u001b[0;34m'-'\u001b[0m\u001b[0;34m:\u001b[0m \u001b[0;34m'0'\u001b[0m\u001b[0;34m}\u001b[0m\u001b[0;34m}\u001b[0m\u001b[0;34m)\u001b[0m\u001b[0;34m\u001b[0m\u001b[0;34m\u001b[0m\u001b[0m\n\u001b[0m\u001b[1;32m     99\u001b[0m \u001b[0;34m\u001b[0m\u001b[0m\n\u001b[1;32m    100\u001b[0m   \u001b[0;32mreturn\u001b[0m \u001b[0mdf\u001b[0m\u001b[0;34m\u001b[0m\u001b[0;34m\u001b[0m\u001b[0m\n",
            "\u001b[0;31mKeyboardInterrupt\u001b[0m: "
          ]
        }
      ]
    },
    {
      "cell_type": "markdown",
      "source": [
        "# データ作成"
      ],
      "metadata": {
        "id": "2z261ckFEZ8V"
      }
    },
    {
      "cell_type": "markdown",
      "source": [
        "BigQueryのテーブルをDataFrameに格納"
      ],
      "metadata": {
        "id": "dCT6GY-oG8b_"
      }
    },
    {
      "cell_type": "code",
      "source": [
        "import pandas as pd\n",
        "\n",
        "def get_gbq(table_id):\n",
        "  project_id='primal-buttress-342908'\n",
        "  dataset_id = 'contents'  \n",
        "  query = f'SELECT * FROM `{project_id}.{dataset_id}.{table_id}`'\n",
        "  \n",
        "  return pd.read_gbq(query, project_id, dialect='standard')"
      ],
      "metadata": {
        "id": "f-y7-xPaFmHx"
      },
      "execution_count": 83,
      "outputs": []
    },
    {
      "cell_type": "markdown",
      "source": [
        "ランキングの付与"
      ],
      "metadata": {
        "id": "p6PY3OlJHGMM"
      }
    },
    {
      "cell_type": "code",
      "source": [
        "\"\"\"\n",
        "都道府県のランキングを付与する関数\n",
        "\"\"\"\n",
        "def withrank_prefecture(df_arg):\n",
        "\n",
        "  # 年度リスト、カテゴリリストの作成\n",
        "  times = list(set(df_arg['timeCode'].tolist()))\n",
        "  categories = list(set(df_arg['categoryCode'].tolist()))\n",
        "\n",
        "  # 返却するDataFrameの定義\n",
        "  df_res = pd.DataFrame(index=[], columns=[])\n",
        "\n",
        "  for time in times:\n",
        "    for category in categories:\n",
        "      df = df_arg.copy()\n",
        "      df = df[df['timeCode'] == time][df['categoryCode'] == category]\n",
        "      \n",
        "      # valueを数値に変換して、'rank'を付与\n",
        "      df = df.astype({'value': float})\n",
        "      df['rankJapan'] = df.rank(ascending=False)['value'].astype(int).astype(str)\n",
        "      \n",
        "      # 結合\n",
        "      df_res = pd.concat([df_res, df])\n",
        "  \n",
        "  return df_res"
      ],
      "metadata": {
        "id": "yIu9Z7ezHuTH"
      },
      "execution_count": 115,
      "outputs": []
    },
    {
      "cell_type": "code",
      "source": [
        "table_id = 'total-population-prefecture'\n",
        "df = get_gbq(table_id)\n",
        "df_rank = withrank_prefecture(df)\n",
        "df_rank"
      ],
      "metadata": {
        "colab": {
          "base_uri": "https://localhost:8080/",
          "height": 697
        },
        "id": "DiBAM7h4ININ",
        "outputId": "d16656cb-3749-4206-d92b-11d4e5ca880a"
      },
      "execution_count": 105,
      "outputs": [
        {
          "output_type": "stream",
          "name": "stderr",
          "text": [
            "/usr/local/lib/python3.7/dist-packages/ipykernel_launcher.py:16: UserWarning: Boolean Series key will be reindexed to match DataFrame index.\n",
            "  app.launch_new_instance()\n"
          ]
        },
        {
          "output_type": "execute_result",
          "data": {
            "text/plain": [
              "     statsDataId statsDataName categoryCode categoryName timeCode timeName  \\\n",
              "62    0000010101     社会・人口統計体系      A110101       総人口（男）     1992   1992年度   \n",
              "197   0000010101     社会・人口統計体系      A110101       総人口（男）     1992   1992年度   \n",
              "332   0000010101     社会・人口統計体系      A110101       総人口（男）     1992   1992年度   \n",
              "467   0000010101     社会・人口統計体系      A110101       総人口（男）     1992   1992年度   \n",
              "602   0000010101     社会・人口統計体系      A110101       総人口（男）     1992   1992年度   \n",
              "...          ...           ...          ...          ...      ...      ...   \n",
              "5684  0000010101     社会・人口統計体系        A1101          総人口     1989   1989年度   \n",
              "5819  0000010101     社会・人口統計体系        A1101          総人口     1989   1989年度   \n",
              "5954  0000010101     社会・人口統計体系        A1101          総人口     1989   1989年度   \n",
              "6089  0000010101     社会・人口統計体系        A1101          総人口     1989   1989年度   \n",
              "6224  0000010101     社会・人口統計体系        A1101          総人口     1989   1989年度   \n",
              "\n",
              "     areaCode      value unit  index  prefCode prefName cityCode cityName  \\\n",
              "62      01000  2726000.0    人      0         1      北海道     None     None   \n",
              "197     02000   701000.0    人      1         2      青森県     None     None   \n",
              "332     03000   680000.0    人      2         3      岩手県     None     None   \n",
              "467     04000  1122000.0    人      3         4      宮城県     None     None   \n",
              "602     05000   581000.0    人      4         5      秋田県     None     None   \n",
              "...       ...        ...  ...    ...       ...      ...      ...      ...   \n",
              "5684    43000  1841000.0    人     42        43      熊本県     None     None   \n",
              "5819    44000  1240000.0    人     43        44      大分県     None     None   \n",
              "5954    45000  1172000.0    人     44        45      宮崎県     None     None   \n",
              "6089    46000  1805000.0    人     45        46     鹿児島県     None     None   \n",
              "6224    47000  1215000.0    人     46        47      沖縄県     None     None   \n",
              "\n",
              "     bigCityFlag areaName governmentType rank_japan  \n",
              "62          None      北海道     prefecture          7  \n",
              "197         None      青森県     prefecture         28  \n",
              "332         None      岩手県     prefecture         29  \n",
              "467         None      宮城県     prefecture         15  \n",
              "602         None      秋田県     prefecture         35  \n",
              "...          ...      ...            ...        ...  \n",
              "5684        None      熊本県     prefecture         22  \n",
              "5819        None      大分県     prefecture         32  \n",
              "5954        None      宮崎県     prefecture         36  \n",
              "6089        None     鹿児島県     prefecture         23  \n",
              "6224        None      沖縄県     prefecture         34  \n",
              "\n",
              "[6345 rows x 18 columns]"
            ],
            "text/html": [
              "\n",
              "  <div id=\"df-079804f3-6d39-4fa5-bdc7-ff5f1bdd1a59\">\n",
              "    <div class=\"colab-df-container\">\n",
              "      <div>\n",
              "<style scoped>\n",
              "    .dataframe tbody tr th:only-of-type {\n",
              "        vertical-align: middle;\n",
              "    }\n",
              "\n",
              "    .dataframe tbody tr th {\n",
              "        vertical-align: top;\n",
              "    }\n",
              "\n",
              "    .dataframe thead th {\n",
              "        text-align: right;\n",
              "    }\n",
              "</style>\n",
              "<table border=\"1\" class=\"dataframe\">\n",
              "  <thead>\n",
              "    <tr style=\"text-align: right;\">\n",
              "      <th></th>\n",
              "      <th>statsDataId</th>\n",
              "      <th>statsDataName</th>\n",
              "      <th>categoryCode</th>\n",
              "      <th>categoryName</th>\n",
              "      <th>timeCode</th>\n",
              "      <th>timeName</th>\n",
              "      <th>areaCode</th>\n",
              "      <th>value</th>\n",
              "      <th>unit</th>\n",
              "      <th>index</th>\n",
              "      <th>prefCode</th>\n",
              "      <th>prefName</th>\n",
              "      <th>cityCode</th>\n",
              "      <th>cityName</th>\n",
              "      <th>bigCityFlag</th>\n",
              "      <th>areaName</th>\n",
              "      <th>governmentType</th>\n",
              "      <th>rank_japan</th>\n",
              "    </tr>\n",
              "  </thead>\n",
              "  <tbody>\n",
              "    <tr>\n",
              "      <th>62</th>\n",
              "      <td>0000010101</td>\n",
              "      <td>社会・人口統計体系</td>\n",
              "      <td>A110101</td>\n",
              "      <td>総人口（男）</td>\n",
              "      <td>1992</td>\n",
              "      <td>1992年度</td>\n",
              "      <td>01000</td>\n",
              "      <td>2726000.0</td>\n",
              "      <td>人</td>\n",
              "      <td>0</td>\n",
              "      <td>1</td>\n",
              "      <td>北海道</td>\n",
              "      <td>None</td>\n",
              "      <td>None</td>\n",
              "      <td>None</td>\n",
              "      <td>北海道</td>\n",
              "      <td>prefecture</td>\n",
              "      <td>7</td>\n",
              "    </tr>\n",
              "    <tr>\n",
              "      <th>197</th>\n",
              "      <td>0000010101</td>\n",
              "      <td>社会・人口統計体系</td>\n",
              "      <td>A110101</td>\n",
              "      <td>総人口（男）</td>\n",
              "      <td>1992</td>\n",
              "      <td>1992年度</td>\n",
              "      <td>02000</td>\n",
              "      <td>701000.0</td>\n",
              "      <td>人</td>\n",
              "      <td>1</td>\n",
              "      <td>2</td>\n",
              "      <td>青森県</td>\n",
              "      <td>None</td>\n",
              "      <td>None</td>\n",
              "      <td>None</td>\n",
              "      <td>青森県</td>\n",
              "      <td>prefecture</td>\n",
              "      <td>28</td>\n",
              "    </tr>\n",
              "    <tr>\n",
              "      <th>332</th>\n",
              "      <td>0000010101</td>\n",
              "      <td>社会・人口統計体系</td>\n",
              "      <td>A110101</td>\n",
              "      <td>総人口（男）</td>\n",
              "      <td>1992</td>\n",
              "      <td>1992年度</td>\n",
              "      <td>03000</td>\n",
              "      <td>680000.0</td>\n",
              "      <td>人</td>\n",
              "      <td>2</td>\n",
              "      <td>3</td>\n",
              "      <td>岩手県</td>\n",
              "      <td>None</td>\n",
              "      <td>None</td>\n",
              "      <td>None</td>\n",
              "      <td>岩手県</td>\n",
              "      <td>prefecture</td>\n",
              "      <td>29</td>\n",
              "    </tr>\n",
              "    <tr>\n",
              "      <th>467</th>\n",
              "      <td>0000010101</td>\n",
              "      <td>社会・人口統計体系</td>\n",
              "      <td>A110101</td>\n",
              "      <td>総人口（男）</td>\n",
              "      <td>1992</td>\n",
              "      <td>1992年度</td>\n",
              "      <td>04000</td>\n",
              "      <td>1122000.0</td>\n",
              "      <td>人</td>\n",
              "      <td>3</td>\n",
              "      <td>4</td>\n",
              "      <td>宮城県</td>\n",
              "      <td>None</td>\n",
              "      <td>None</td>\n",
              "      <td>None</td>\n",
              "      <td>宮城県</td>\n",
              "      <td>prefecture</td>\n",
              "      <td>15</td>\n",
              "    </tr>\n",
              "    <tr>\n",
              "      <th>602</th>\n",
              "      <td>0000010101</td>\n",
              "      <td>社会・人口統計体系</td>\n",
              "      <td>A110101</td>\n",
              "      <td>総人口（男）</td>\n",
              "      <td>1992</td>\n",
              "      <td>1992年度</td>\n",
              "      <td>05000</td>\n",
              "      <td>581000.0</td>\n",
              "      <td>人</td>\n",
              "      <td>4</td>\n",
              "      <td>5</td>\n",
              "      <td>秋田県</td>\n",
              "      <td>None</td>\n",
              "      <td>None</td>\n",
              "      <td>None</td>\n",
              "      <td>秋田県</td>\n",
              "      <td>prefecture</td>\n",
              "      <td>35</td>\n",
              "    </tr>\n",
              "    <tr>\n",
              "      <th>...</th>\n",
              "      <td>...</td>\n",
              "      <td>...</td>\n",
              "      <td>...</td>\n",
              "      <td>...</td>\n",
              "      <td>...</td>\n",
              "      <td>...</td>\n",
              "      <td>...</td>\n",
              "      <td>...</td>\n",
              "      <td>...</td>\n",
              "      <td>...</td>\n",
              "      <td>...</td>\n",
              "      <td>...</td>\n",
              "      <td>...</td>\n",
              "      <td>...</td>\n",
              "      <td>...</td>\n",
              "      <td>...</td>\n",
              "      <td>...</td>\n",
              "      <td>...</td>\n",
              "    </tr>\n",
              "    <tr>\n",
              "      <th>5684</th>\n",
              "      <td>0000010101</td>\n",
              "      <td>社会・人口統計体系</td>\n",
              "      <td>A1101</td>\n",
              "      <td>総人口</td>\n",
              "      <td>1989</td>\n",
              "      <td>1989年度</td>\n",
              "      <td>43000</td>\n",
              "      <td>1841000.0</td>\n",
              "      <td>人</td>\n",
              "      <td>42</td>\n",
              "      <td>43</td>\n",
              "      <td>熊本県</td>\n",
              "      <td>None</td>\n",
              "      <td>None</td>\n",
              "      <td>None</td>\n",
              "      <td>熊本県</td>\n",
              "      <td>prefecture</td>\n",
              "      <td>22</td>\n",
              "    </tr>\n",
              "    <tr>\n",
              "      <th>5819</th>\n",
              "      <td>0000010101</td>\n",
              "      <td>社会・人口統計体系</td>\n",
              "      <td>A1101</td>\n",
              "      <td>総人口</td>\n",
              "      <td>1989</td>\n",
              "      <td>1989年度</td>\n",
              "      <td>44000</td>\n",
              "      <td>1240000.0</td>\n",
              "      <td>人</td>\n",
              "      <td>43</td>\n",
              "      <td>44</td>\n",
              "      <td>大分県</td>\n",
              "      <td>None</td>\n",
              "      <td>None</td>\n",
              "      <td>None</td>\n",
              "      <td>大分県</td>\n",
              "      <td>prefecture</td>\n",
              "      <td>32</td>\n",
              "    </tr>\n",
              "    <tr>\n",
              "      <th>5954</th>\n",
              "      <td>0000010101</td>\n",
              "      <td>社会・人口統計体系</td>\n",
              "      <td>A1101</td>\n",
              "      <td>総人口</td>\n",
              "      <td>1989</td>\n",
              "      <td>1989年度</td>\n",
              "      <td>45000</td>\n",
              "      <td>1172000.0</td>\n",
              "      <td>人</td>\n",
              "      <td>44</td>\n",
              "      <td>45</td>\n",
              "      <td>宮崎県</td>\n",
              "      <td>None</td>\n",
              "      <td>None</td>\n",
              "      <td>None</td>\n",
              "      <td>宮崎県</td>\n",
              "      <td>prefecture</td>\n",
              "      <td>36</td>\n",
              "    </tr>\n",
              "    <tr>\n",
              "      <th>6089</th>\n",
              "      <td>0000010101</td>\n",
              "      <td>社会・人口統計体系</td>\n",
              "      <td>A1101</td>\n",
              "      <td>総人口</td>\n",
              "      <td>1989</td>\n",
              "      <td>1989年度</td>\n",
              "      <td>46000</td>\n",
              "      <td>1805000.0</td>\n",
              "      <td>人</td>\n",
              "      <td>45</td>\n",
              "      <td>46</td>\n",
              "      <td>鹿児島県</td>\n",
              "      <td>None</td>\n",
              "      <td>None</td>\n",
              "      <td>None</td>\n",
              "      <td>鹿児島県</td>\n",
              "      <td>prefecture</td>\n",
              "      <td>23</td>\n",
              "    </tr>\n",
              "    <tr>\n",
              "      <th>6224</th>\n",
              "      <td>0000010101</td>\n",
              "      <td>社会・人口統計体系</td>\n",
              "      <td>A1101</td>\n",
              "      <td>総人口</td>\n",
              "      <td>1989</td>\n",
              "      <td>1989年度</td>\n",
              "      <td>47000</td>\n",
              "      <td>1215000.0</td>\n",
              "      <td>人</td>\n",
              "      <td>46</td>\n",
              "      <td>47</td>\n",
              "      <td>沖縄県</td>\n",
              "      <td>None</td>\n",
              "      <td>None</td>\n",
              "      <td>None</td>\n",
              "      <td>沖縄県</td>\n",
              "      <td>prefecture</td>\n",
              "      <td>34</td>\n",
              "    </tr>\n",
              "  </tbody>\n",
              "</table>\n",
              "<p>6345 rows × 18 columns</p>\n",
              "</div>\n",
              "      <button class=\"colab-df-convert\" onclick=\"convertToInteractive('df-079804f3-6d39-4fa5-bdc7-ff5f1bdd1a59')\"\n",
              "              title=\"Convert this dataframe to an interactive table.\"\n",
              "              style=\"display:none;\">\n",
              "        \n",
              "  <svg xmlns=\"http://www.w3.org/2000/svg\" height=\"24px\"viewBox=\"0 0 24 24\"\n",
              "       width=\"24px\">\n",
              "    <path d=\"M0 0h24v24H0V0z\" fill=\"none\"/>\n",
              "    <path d=\"M18.56 5.44l.94 2.06.94-2.06 2.06-.94-2.06-.94-.94-2.06-.94 2.06-2.06.94zm-11 1L8.5 8.5l.94-2.06 2.06-.94-2.06-.94L8.5 2.5l-.94 2.06-2.06.94zm10 10l.94 2.06.94-2.06 2.06-.94-2.06-.94-.94-2.06-.94 2.06-2.06.94z\"/><path d=\"M17.41 7.96l-1.37-1.37c-.4-.4-.92-.59-1.43-.59-.52 0-1.04.2-1.43.59L10.3 9.45l-7.72 7.72c-.78.78-.78 2.05 0 2.83L4 21.41c.39.39.9.59 1.41.59.51 0 1.02-.2 1.41-.59l7.78-7.78 2.81-2.81c.8-.78.8-2.07 0-2.86zM5.41 20L4 18.59l7.72-7.72 1.47 1.35L5.41 20z\"/>\n",
              "  </svg>\n",
              "      </button>\n",
              "      \n",
              "  <style>\n",
              "    .colab-df-container {\n",
              "      display:flex;\n",
              "      flex-wrap:wrap;\n",
              "      gap: 12px;\n",
              "    }\n",
              "\n",
              "    .colab-df-convert {\n",
              "      background-color: #E8F0FE;\n",
              "      border: none;\n",
              "      border-radius: 50%;\n",
              "      cursor: pointer;\n",
              "      display: none;\n",
              "      fill: #1967D2;\n",
              "      height: 32px;\n",
              "      padding: 0 0 0 0;\n",
              "      width: 32px;\n",
              "    }\n",
              "\n",
              "    .colab-df-convert:hover {\n",
              "      background-color: #E2EBFA;\n",
              "      box-shadow: 0px 1px 2px rgba(60, 64, 67, 0.3), 0px 1px 3px 1px rgba(60, 64, 67, 0.15);\n",
              "      fill: #174EA6;\n",
              "    }\n",
              "\n",
              "    [theme=dark] .colab-df-convert {\n",
              "      background-color: #3B4455;\n",
              "      fill: #D2E3FC;\n",
              "    }\n",
              "\n",
              "    [theme=dark] .colab-df-convert:hover {\n",
              "      background-color: #434B5C;\n",
              "      box-shadow: 0px 1px 3px 1px rgba(0, 0, 0, 0.15);\n",
              "      filter: drop-shadow(0px 1px 2px rgba(0, 0, 0, 0.3));\n",
              "      fill: #FFFFFF;\n",
              "    }\n",
              "  </style>\n",
              "\n",
              "      <script>\n",
              "        const buttonEl =\n",
              "          document.querySelector('#df-079804f3-6d39-4fa5-bdc7-ff5f1bdd1a59 button.colab-df-convert');\n",
              "        buttonEl.style.display =\n",
              "          google.colab.kernel.accessAllowed ? 'block' : 'none';\n",
              "\n",
              "        async function convertToInteractive(key) {\n",
              "          const element = document.querySelector('#df-079804f3-6d39-4fa5-bdc7-ff5f1bdd1a59');\n",
              "          const dataTable =\n",
              "            await google.colab.kernel.invokeFunction('convertToInteractive',\n",
              "                                                     [key], {});\n",
              "          if (!dataTable) return;\n",
              "\n",
              "          const docLinkHtml = 'Like what you see? Visit the ' +\n",
              "            '<a target=\"_blank\" href=https://colab.research.google.com/notebooks/data_table.ipynb>data table notebook</a>'\n",
              "            + ' to learn more about interactive tables.';\n",
              "          element.innerHTML = '';\n",
              "          dataTable['output_type'] = 'display_data';\n",
              "          await google.colab.output.renderOutput(dataTable, element);\n",
              "          const docLink = document.createElement('div');\n",
              "          docLink.innerHTML = docLinkHtml;\n",
              "          element.appendChild(docLink);\n",
              "        }\n",
              "      </script>\n",
              "    </div>\n",
              "  </div>\n",
              "  "
            ]
          },
          "metadata": {},
          "execution_count": 105
        }
      ]
    },
    {
      "cell_type": "code",
      "source": [
        "\"\"\"\n",
        "市区町村のランキングを付与する関数\n",
        "\"\"\"\n",
        "def withrank_city(df_arg):\n",
        "\n",
        "  # 年度リスト、カテゴリリストの作成\n",
        "  times = list(set(df_arg['timeCode'].tolist()))\n",
        "  categories = list(set(df_arg['categoryCode'].tolist()))\n",
        "\n",
        "  # 返却するDataFrameの定義\n",
        "  df_res = pd.DataFrame(index=[], columns=[])\n",
        "\n",
        "  for time in times:\n",
        "    for category in categories:\n",
        "      df = df_arg.copy()\n",
        "      df = df[df['timeCode'] == time][df['categoryCode'] == category]\n",
        "      \n",
        "      # valueを数値に変換して、'rank'を付与\n",
        "      df = df.astype({'value': float})\n",
        "      df['rankJapan'] = df.rank(ascending=False)['value'].astype(int).astype(str)\n",
        "      \n",
        "      # 結合\n",
        "      df_res = pd.concat([df_res, df])\n",
        "  \n",
        "  return df_res"
      ],
      "metadata": {
        "id": "enKb_tRETN8M"
      },
      "execution_count": 109,
      "outputs": []
    },
    {
      "cell_type": "code",
      "source": [
        "table_id = 'total-population-city'\n",
        "df = get_gbq(table_id)\n",
        "df\n",
        "# df_rank = withrank_city(df)\n",
        "# df_rank"
      ],
      "metadata": {
        "id": "AALpbWnFUiwY",
        "outputId": "a79cca01-c87b-45b5-c228-ff48d6db852c",
        "colab": {
          "base_uri": "https://localhost:8080/",
          "height": 1102
        }
      },
      "execution_count": 111,
      "outputs": [
        {
          "output_type": "execute_result",
          "data": {
            "text/plain": [
              "      statsDataId statsDataName categoryCode categoryName timeCode timeName  \\\n",
              "0      0000020201     社会・人口統計体系        A1101          総人口     1980   1980年度   \n",
              "1      0000020201     社会・人口統計体系        A1101          総人口     1985   1985年度   \n",
              "2      0000020201     社会・人口統計体系        A1101          総人口     1990   1990年度   \n",
              "3      0000020201     社会・人口統計体系        A1101          総人口     1995   1995年度   \n",
              "4      0000020201     社会・人口統計体系        A1101          総人口     2000   2000年度   \n",
              "...           ...           ...          ...          ...      ...      ...   \n",
              "30628  0000020201     社会・人口統計体系      A110101       総人口（男）     2015   2015年度   \n",
              "30629  0000020201     社会・人口統計体系      A110102       総人口（女）     2000   2000年度   \n",
              "30630  0000020201     社会・人口統計体系      A110102       総人口（女）     2005   2005年度   \n",
              "30631  0000020201     社会・人口統計体系      A110102       総人口（女）     2010   2010年度   \n",
              "30632  0000020201     社会・人口統計体系      A110102       総人口（女）     2015   2015年度   \n",
              "\n",
              "      areaCode    value unit  index  prefCode prefName cityCode cityName  \\\n",
              "0        01100  1401757    人      0         1      北海道    01100      札幌市   \n",
              "1        01100  1542979    人      0         1      北海道    01100      札幌市   \n",
              "2        01100  1671742    人      0         1      北海道    01100      札幌市   \n",
              "3        01100  1757025    人      0         1      北海道    01100      札幌市   \n",
              "4        01100  1822368    人      0         1      北海道    01100      札幌市   \n",
              "...        ...      ...  ...    ...       ...      ...      ...      ...   \n",
              "30628    47382     1147    人   1921        47      沖縄県    47382     与那国町   \n",
              "30629    47382      895    人   1921        47      沖縄県    47382     与那国町   \n",
              "30630    47382      857    人   1921        47      沖縄県    47382     与那国町   \n",
              "30631    47382      816    人   1921        47      沖縄県    47382     与那国町   \n",
              "30632    47382      696    人   1921        47      沖縄県    47382     与那国町   \n",
              "\n",
              "      bigCityFlag areaName governmentType  \n",
              "0               2      札幌市           city  \n",
              "1               2      札幌市           city  \n",
              "2               2      札幌市           city  \n",
              "3               2      札幌市           city  \n",
              "4               2      札幌市           city  \n",
              "...           ...      ...            ...  \n",
              "30628           0     与那国町           city  \n",
              "30629           0     与那国町           city  \n",
              "30630           0     与那国町           city  \n",
              "30631           0     与那国町           city  \n",
              "30632           0     与那国町           city  \n",
              "\n",
              "[30633 rows x 17 columns]"
            ],
            "text/html": [
              "\n",
              "  <div id=\"df-b0ea7c0f-6d80-401c-b420-e910d8ac7df0\">\n",
              "    <div class=\"colab-df-container\">\n",
              "      <div>\n",
              "<style scoped>\n",
              "    .dataframe tbody tr th:only-of-type {\n",
              "        vertical-align: middle;\n",
              "    }\n",
              "\n",
              "    .dataframe tbody tr th {\n",
              "        vertical-align: top;\n",
              "    }\n",
              "\n",
              "    .dataframe thead th {\n",
              "        text-align: right;\n",
              "    }\n",
              "</style>\n",
              "<table border=\"1\" class=\"dataframe\">\n",
              "  <thead>\n",
              "    <tr style=\"text-align: right;\">\n",
              "      <th></th>\n",
              "      <th>statsDataId</th>\n",
              "      <th>statsDataName</th>\n",
              "      <th>categoryCode</th>\n",
              "      <th>categoryName</th>\n",
              "      <th>timeCode</th>\n",
              "      <th>timeName</th>\n",
              "      <th>areaCode</th>\n",
              "      <th>value</th>\n",
              "      <th>unit</th>\n",
              "      <th>index</th>\n",
              "      <th>prefCode</th>\n",
              "      <th>prefName</th>\n",
              "      <th>cityCode</th>\n",
              "      <th>cityName</th>\n",
              "      <th>bigCityFlag</th>\n",
              "      <th>areaName</th>\n",
              "      <th>governmentType</th>\n",
              "    </tr>\n",
              "  </thead>\n",
              "  <tbody>\n",
              "    <tr>\n",
              "      <th>0</th>\n",
              "      <td>0000020201</td>\n",
              "      <td>社会・人口統計体系</td>\n",
              "      <td>A1101</td>\n",
              "      <td>総人口</td>\n",
              "      <td>1980</td>\n",
              "      <td>1980年度</td>\n",
              "      <td>01100</td>\n",
              "      <td>1401757</td>\n",
              "      <td>人</td>\n",
              "      <td>0</td>\n",
              "      <td>1</td>\n",
              "      <td>北海道</td>\n",
              "      <td>01100</td>\n",
              "      <td>札幌市</td>\n",
              "      <td>2</td>\n",
              "      <td>札幌市</td>\n",
              "      <td>city</td>\n",
              "    </tr>\n",
              "    <tr>\n",
              "      <th>1</th>\n",
              "      <td>0000020201</td>\n",
              "      <td>社会・人口統計体系</td>\n",
              "      <td>A1101</td>\n",
              "      <td>総人口</td>\n",
              "      <td>1985</td>\n",
              "      <td>1985年度</td>\n",
              "      <td>01100</td>\n",
              "      <td>1542979</td>\n",
              "      <td>人</td>\n",
              "      <td>0</td>\n",
              "      <td>1</td>\n",
              "      <td>北海道</td>\n",
              "      <td>01100</td>\n",
              "      <td>札幌市</td>\n",
              "      <td>2</td>\n",
              "      <td>札幌市</td>\n",
              "      <td>city</td>\n",
              "    </tr>\n",
              "    <tr>\n",
              "      <th>2</th>\n",
              "      <td>0000020201</td>\n",
              "      <td>社会・人口統計体系</td>\n",
              "      <td>A1101</td>\n",
              "      <td>総人口</td>\n",
              "      <td>1990</td>\n",
              "      <td>1990年度</td>\n",
              "      <td>01100</td>\n",
              "      <td>1671742</td>\n",
              "      <td>人</td>\n",
              "      <td>0</td>\n",
              "      <td>1</td>\n",
              "      <td>北海道</td>\n",
              "      <td>01100</td>\n",
              "      <td>札幌市</td>\n",
              "      <td>2</td>\n",
              "      <td>札幌市</td>\n",
              "      <td>city</td>\n",
              "    </tr>\n",
              "    <tr>\n",
              "      <th>3</th>\n",
              "      <td>0000020201</td>\n",
              "      <td>社会・人口統計体系</td>\n",
              "      <td>A1101</td>\n",
              "      <td>総人口</td>\n",
              "      <td>1995</td>\n",
              "      <td>1995年度</td>\n",
              "      <td>01100</td>\n",
              "      <td>1757025</td>\n",
              "      <td>人</td>\n",
              "      <td>0</td>\n",
              "      <td>1</td>\n",
              "      <td>北海道</td>\n",
              "      <td>01100</td>\n",
              "      <td>札幌市</td>\n",
              "      <td>2</td>\n",
              "      <td>札幌市</td>\n",
              "      <td>city</td>\n",
              "    </tr>\n",
              "    <tr>\n",
              "      <th>4</th>\n",
              "      <td>0000020201</td>\n",
              "      <td>社会・人口統計体系</td>\n",
              "      <td>A1101</td>\n",
              "      <td>総人口</td>\n",
              "      <td>2000</td>\n",
              "      <td>2000年度</td>\n",
              "      <td>01100</td>\n",
              "      <td>1822368</td>\n",
              "      <td>人</td>\n",
              "      <td>0</td>\n",
              "      <td>1</td>\n",
              "      <td>北海道</td>\n",
              "      <td>01100</td>\n",
              "      <td>札幌市</td>\n",
              "      <td>2</td>\n",
              "      <td>札幌市</td>\n",
              "      <td>city</td>\n",
              "    </tr>\n",
              "    <tr>\n",
              "      <th>...</th>\n",
              "      <td>...</td>\n",
              "      <td>...</td>\n",
              "      <td>...</td>\n",
              "      <td>...</td>\n",
              "      <td>...</td>\n",
              "      <td>...</td>\n",
              "      <td>...</td>\n",
              "      <td>...</td>\n",
              "      <td>...</td>\n",
              "      <td>...</td>\n",
              "      <td>...</td>\n",
              "      <td>...</td>\n",
              "      <td>...</td>\n",
              "      <td>...</td>\n",
              "      <td>...</td>\n",
              "      <td>...</td>\n",
              "      <td>...</td>\n",
              "    </tr>\n",
              "    <tr>\n",
              "      <th>30628</th>\n",
              "      <td>0000020201</td>\n",
              "      <td>社会・人口統計体系</td>\n",
              "      <td>A110101</td>\n",
              "      <td>総人口（男）</td>\n",
              "      <td>2015</td>\n",
              "      <td>2015年度</td>\n",
              "      <td>47382</td>\n",
              "      <td>1147</td>\n",
              "      <td>人</td>\n",
              "      <td>1921</td>\n",
              "      <td>47</td>\n",
              "      <td>沖縄県</td>\n",
              "      <td>47382</td>\n",
              "      <td>与那国町</td>\n",
              "      <td>0</td>\n",
              "      <td>与那国町</td>\n",
              "      <td>city</td>\n",
              "    </tr>\n",
              "    <tr>\n",
              "      <th>30629</th>\n",
              "      <td>0000020201</td>\n",
              "      <td>社会・人口統計体系</td>\n",
              "      <td>A110102</td>\n",
              "      <td>総人口（女）</td>\n",
              "      <td>2000</td>\n",
              "      <td>2000年度</td>\n",
              "      <td>47382</td>\n",
              "      <td>895</td>\n",
              "      <td>人</td>\n",
              "      <td>1921</td>\n",
              "      <td>47</td>\n",
              "      <td>沖縄県</td>\n",
              "      <td>47382</td>\n",
              "      <td>与那国町</td>\n",
              "      <td>0</td>\n",
              "      <td>与那国町</td>\n",
              "      <td>city</td>\n",
              "    </tr>\n",
              "    <tr>\n",
              "      <th>30630</th>\n",
              "      <td>0000020201</td>\n",
              "      <td>社会・人口統計体系</td>\n",
              "      <td>A110102</td>\n",
              "      <td>総人口（女）</td>\n",
              "      <td>2005</td>\n",
              "      <td>2005年度</td>\n",
              "      <td>47382</td>\n",
              "      <td>857</td>\n",
              "      <td>人</td>\n",
              "      <td>1921</td>\n",
              "      <td>47</td>\n",
              "      <td>沖縄県</td>\n",
              "      <td>47382</td>\n",
              "      <td>与那国町</td>\n",
              "      <td>0</td>\n",
              "      <td>与那国町</td>\n",
              "      <td>city</td>\n",
              "    </tr>\n",
              "    <tr>\n",
              "      <th>30631</th>\n",
              "      <td>0000020201</td>\n",
              "      <td>社会・人口統計体系</td>\n",
              "      <td>A110102</td>\n",
              "      <td>総人口（女）</td>\n",
              "      <td>2010</td>\n",
              "      <td>2010年度</td>\n",
              "      <td>47382</td>\n",
              "      <td>816</td>\n",
              "      <td>人</td>\n",
              "      <td>1921</td>\n",
              "      <td>47</td>\n",
              "      <td>沖縄県</td>\n",
              "      <td>47382</td>\n",
              "      <td>与那国町</td>\n",
              "      <td>0</td>\n",
              "      <td>与那国町</td>\n",
              "      <td>city</td>\n",
              "    </tr>\n",
              "    <tr>\n",
              "      <th>30632</th>\n",
              "      <td>0000020201</td>\n",
              "      <td>社会・人口統計体系</td>\n",
              "      <td>A110102</td>\n",
              "      <td>総人口（女）</td>\n",
              "      <td>2015</td>\n",
              "      <td>2015年度</td>\n",
              "      <td>47382</td>\n",
              "      <td>696</td>\n",
              "      <td>人</td>\n",
              "      <td>1921</td>\n",
              "      <td>47</td>\n",
              "      <td>沖縄県</td>\n",
              "      <td>47382</td>\n",
              "      <td>与那国町</td>\n",
              "      <td>0</td>\n",
              "      <td>与那国町</td>\n",
              "      <td>city</td>\n",
              "    </tr>\n",
              "  </tbody>\n",
              "</table>\n",
              "<p>30633 rows × 17 columns</p>\n",
              "</div>\n",
              "      <button class=\"colab-df-convert\" onclick=\"convertToInteractive('df-b0ea7c0f-6d80-401c-b420-e910d8ac7df0')\"\n",
              "              title=\"Convert this dataframe to an interactive table.\"\n",
              "              style=\"display:none;\">\n",
              "        \n",
              "  <svg xmlns=\"http://www.w3.org/2000/svg\" height=\"24px\"viewBox=\"0 0 24 24\"\n",
              "       width=\"24px\">\n",
              "    <path d=\"M0 0h24v24H0V0z\" fill=\"none\"/>\n",
              "    <path d=\"M18.56 5.44l.94 2.06.94-2.06 2.06-.94-2.06-.94-.94-2.06-.94 2.06-2.06.94zm-11 1L8.5 8.5l.94-2.06 2.06-.94-2.06-.94L8.5 2.5l-.94 2.06-2.06.94zm10 10l.94 2.06.94-2.06 2.06-.94-2.06-.94-.94-2.06-.94 2.06-2.06.94z\"/><path d=\"M17.41 7.96l-1.37-1.37c-.4-.4-.92-.59-1.43-.59-.52 0-1.04.2-1.43.59L10.3 9.45l-7.72 7.72c-.78.78-.78 2.05 0 2.83L4 21.41c.39.39.9.59 1.41.59.51 0 1.02-.2 1.41-.59l7.78-7.78 2.81-2.81c.8-.78.8-2.07 0-2.86zM5.41 20L4 18.59l7.72-7.72 1.47 1.35L5.41 20z\"/>\n",
              "  </svg>\n",
              "      </button>\n",
              "      \n",
              "  <style>\n",
              "    .colab-df-container {\n",
              "      display:flex;\n",
              "      flex-wrap:wrap;\n",
              "      gap: 12px;\n",
              "    }\n",
              "\n",
              "    .colab-df-convert {\n",
              "      background-color: #E8F0FE;\n",
              "      border: none;\n",
              "      border-radius: 50%;\n",
              "      cursor: pointer;\n",
              "      display: none;\n",
              "      fill: #1967D2;\n",
              "      height: 32px;\n",
              "      padding: 0 0 0 0;\n",
              "      width: 32px;\n",
              "    }\n",
              "\n",
              "    .colab-df-convert:hover {\n",
              "      background-color: #E2EBFA;\n",
              "      box-shadow: 0px 1px 2px rgba(60, 64, 67, 0.3), 0px 1px 3px 1px rgba(60, 64, 67, 0.15);\n",
              "      fill: #174EA6;\n",
              "    }\n",
              "\n",
              "    [theme=dark] .colab-df-convert {\n",
              "      background-color: #3B4455;\n",
              "      fill: #D2E3FC;\n",
              "    }\n",
              "\n",
              "    [theme=dark] .colab-df-convert:hover {\n",
              "      background-color: #434B5C;\n",
              "      box-shadow: 0px 1px 3px 1px rgba(0, 0, 0, 0.15);\n",
              "      filter: drop-shadow(0px 1px 2px rgba(0, 0, 0, 0.3));\n",
              "      fill: #FFFFFF;\n",
              "    }\n",
              "  </style>\n",
              "\n",
              "      <script>\n",
              "        const buttonEl =\n",
              "          document.querySelector('#df-b0ea7c0f-6d80-401c-b420-e910d8ac7df0 button.colab-df-convert');\n",
              "        buttonEl.style.display =\n",
              "          google.colab.kernel.accessAllowed ? 'block' : 'none';\n",
              "\n",
              "        async function convertToInteractive(key) {\n",
              "          const element = document.querySelector('#df-b0ea7c0f-6d80-401c-b420-e910d8ac7df0');\n",
              "          const dataTable =\n",
              "            await google.colab.kernel.invokeFunction('convertToInteractive',\n",
              "                                                     [key], {});\n",
              "          if (!dataTable) return;\n",
              "\n",
              "          const docLinkHtml = 'Like what you see? Visit the ' +\n",
              "            '<a target=\"_blank\" href=https://colab.research.google.com/notebooks/data_table.ipynb>data table notebook</a>'\n",
              "            + ' to learn more about interactive tables.';\n",
              "          element.innerHTML = '';\n",
              "          dataTable['output_type'] = 'display_data';\n",
              "          await google.colab.output.renderOutput(dataTable, element);\n",
              "          const docLink = document.createElement('div');\n",
              "          docLink.innerHTML = docLinkHtml;\n",
              "          element.appendChild(docLink);\n",
              "        }\n",
              "      </script>\n",
              "    </div>\n",
              "  </div>\n",
              "  "
            ]
          },
          "metadata": {},
          "execution_count": 111
        },
        {
          "output_type": "stream",
          "name": "stdout",
          "text": [
            "Warning: total number of rows (30633) exceeds max_rows (20000). Limiting to first (20000) rows.\n"
          ]
        }
      ]
    }
  ],
  "metadata": {
    "colab": {
      "collapsed_sections": [],
      "toc_visible": true,
      "provenance": []
    },
    "gpuClass": "standard",
    "kernelspec": {
      "display_name": "Python 3",
      "name": "python3"
    }
  },
  "nbformat": 4,
  "nbformat_minor": 0
}