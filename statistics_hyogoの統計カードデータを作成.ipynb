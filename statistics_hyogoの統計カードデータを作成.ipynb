{
  "cells": [
    {
      "cell_type": "markdown",
      "metadata": {
        "id": "inrYQThZlUDa"
      },
      "source": [
        "# 実行環境の作成"
      ]
    },
    {
      "cell_type": "markdown",
      "source": [
        "## Google Drive"
      ],
      "metadata": {
        "id": "uE_OCx7vVWhj"
      }
    },
    {
      "cell_type": "markdown",
      "source": [
        "Google Driveをマウント"
      ],
      "metadata": {
        "id": "kHc6WsJkUqvx"
      }
    },
    {
      "cell_type": "code",
      "source": [
        "from google.colab import drive\n",
        "drive.mount('/content/drive')"
      ],
      "metadata": {
        "id": "DeythyREUwXk",
        "outputId": "c1cfb4b5-f1e8-4f92-bf52-56aece0f9f61",
        "colab": {
          "base_uri": "https://localhost:8080/"
        }
      },
      "execution_count": 1,
      "outputs": [
        {
          "output_type": "stream",
          "name": "stdout",
          "text": [
            "Mounted at /content/drive\n"
          ]
        }
      ]
    },
    {
      "cell_type": "markdown",
      "source": [
        "## Google Sheets"
      ],
      "metadata": {
        "id": "rc5jeElrVc2j"
      }
    },
    {
      "cell_type": "markdown",
      "source": [
        "ライブラリのインストール"
      ],
      "metadata": {
        "id": "CaxFFxxGVbj7"
      }
    },
    {
      "cell_type": "code",
      "source": [
        "!pip install --upgrade -q gspread"
      ],
      "metadata": {
        "id": "ySMOqC5VVlIV"
      },
      "execution_count": 2,
      "outputs": []
    },
    {
      "cell_type": "markdown",
      "source": [
        "Google Sheetsの認証"
      ],
      "metadata": {
        "id": "wvyybj9YVti6"
      }
    },
    {
      "cell_type": "code",
      "source": [
        "from google.colab import auth\n",
        "from google.auth import default\n",
        "import gspread\n",
        "\n",
        "auth.authenticate_user()\n",
        "creds, _ = default()\n",
        "gc = gspread.authorize(creds)"
      ],
      "metadata": {
        "id": "pdWWV-ywV108"
      },
      "execution_count": 3,
      "outputs": []
    },
    {
      "cell_type": "markdown",
      "metadata": {
        "id": "BDMnnS3RVrkF"
      },
      "source": [
        "## Google Cloud Storage"
      ]
    },
    {
      "cell_type": "markdown",
      "metadata": {
        "id": "SsgiSjKhV2D7"
      },
      "source": [
        "下記コードでGCPに接続"
      ]
    },
    {
      "cell_type": "code",
      "execution_count": 4,
      "metadata": {
        "id": "GKiUkM7SV0bY"
      },
      "outputs": [],
      "source": [
        "from google.colab import auth\n",
        "auth.authenticate_user()"
      ]
    },
    {
      "cell_type": "markdown",
      "metadata": {
        "id": "KP4JP4ouV6QS"
      },
      "source": [
        "認証に成功したらgcsfuseをインストール"
      ]
    },
    {
      "cell_type": "code",
      "execution_count": null,
      "metadata": {
        "id": "d1D5UagbV9A4"
      },
      "outputs": [],
      "source": [
        "!echo \"deb http://packages.cloud.google.com/apt gcsfuse-`lsb_release -c -s` main\" | sudo tee /etc/apt/sources.list.d/gcsfuse.list\n",
        "!curl https://packages.cloud.google.com/apt/doc/apt-key.gpg | sudo apt-key add -\n",
        "!apt-get -y -q update\n",
        "!apt-get -y -q install gcsfuse"
      ]
    },
    {
      "cell_type": "markdown",
      "metadata": {
        "id": "QUUcFp5LWR6s"
      },
      "source": [
        "バケット「statistics-hyogo」をディレクトリ「statistics-hyogo」にマウント"
      ]
    },
    {
      "cell_type": "code",
      "execution_count": null,
      "metadata": {
        "id": "vw-vsTVGWIfp"
      },
      "outputs": [],
      "source": [
        "! mkdir -p statistics-hyogo\n",
        "! gcsfuse --implicit-dirs --limit-bytes-per-sec -1 --limit-ops-per-sec -1 statistics-hyogo statistics-hyogo"
      ]
    },
    {
      "cell_type": "markdown",
      "metadata": {
        "id": "YZ-rxUoLTevY"
      },
      "source": [
        "## ESTAT_APP_ID"
      ]
    },
    {
      "cell_type": "code",
      "execution_count": 7,
      "metadata": {
        "id": "wMa4y4oXJYdw"
      },
      "outputs": [],
      "source": [
        "ESTAT_APPID = '724e5b90772a3e9289f41a253e4e7e32438f4fff'"
      ]
    },
    {
      "cell_type": "markdown",
      "metadata": {
        "id": "rv4FGegQaZtc"
      },
      "source": [
        "## pythonのライブラリ追加"
      ]
    },
    {
      "cell_type": "code",
      "execution_count": 8,
      "metadata": {
        "id": "eIB9NAJdalZT"
      },
      "outputs": [],
      "source": [
        "import urllib.parse\n",
        "import urllib.request\n",
        "import json\n",
        "import pandas as pd"
      ]
    },
    {
      "cell_type": "markdown",
      "metadata": {
        "id": "428I_VMlmF2R"
      },
      "source": [
        "# 統計カードのデータセット"
      ]
    },
    {
      "cell_type": "markdown",
      "metadata": {
        "id": "W2ByC1cjNSQw"
      },
      "source": [
        "## RESAS_API_KEY"
      ]
    },
    {
      "cell_type": "code",
      "execution_count": 9,
      "metadata": {
        "id": "XoYdUMifTHOQ"
      },
      "outputs": [],
      "source": [
        "RESAS_API_KEY = '\t02JYzLqUOfTNVfiTWjLlR2g0YwEQPQ7caYxcnZaZ'"
      ]
    },
    {
      "cell_type": "markdown",
      "source": [
        "## 都道府県コードリスト"
      ],
      "metadata": {
        "id": "N1LPP5AKUMpi"
      }
    },
    {
      "cell_type": "markdown",
      "source": [
        "resas-APIから都道府県一覧を取得する"
      ],
      "metadata": {
        "id": "HIMv-4X-UsUm"
      }
    },
    {
      "cell_type": "code",
      "execution_count": 10,
      "metadata": {
        "id": "fl33E501NCwk"
      },
      "outputs": [],
      "source": [
        "\"\"\"\n",
        "resas-APIから都道府県一覧を取得する関数\n",
        "\"\"\"\n",
        "\n",
        "def get_resas_preflist():\n",
        "    url = 'https://opendata.resas-portal.go.jp/api/v1/prefectures'\n",
        "    req = urllib.request.Request(url, headers={'X-API-KEY': RESAS_API_KEY})\n",
        "    with urllib.request.urlopen(req) as response:\n",
        "        res = json.loads(response.read().decode())\n",
        "    return res['result']"
      ]
    },
    {
      "cell_type": "markdown",
      "source": [
        "estat-APIのリクエストパラメータ'cdArea'に都道府県コードをセットする\n",
        "\n",
        "返却値はリスト"
      ],
      "metadata": {
        "id": "2u_CHuqwWHNf"
      }
    },
    {
      "cell_type": "code",
      "source": [
        "\"\"\"\n",
        "estat-APIのパラメータ'cdArea'に都道府県コードをセットする関数\n",
        "\"\"\"\n",
        "\n",
        "def get_cdAreas_prefecture():\n",
        "\n",
        "  pref_codes = [d.get('prefCode') for d in get_resas_preflist()]\n",
        "  pref_codes = [str(c).zfill(5) for c in pref_codes]\n",
        "\n",
        "  res = [{'cdArea':\",\".join(pref_codes)}]\n",
        "  \n",
        "  return res"
      ],
      "metadata": {
        "id": "ct6HPVV2TCei"
      },
      "execution_count": 11,
      "outputs": []
    },
    {
      "cell_type": "code",
      "source": [
        "cdArea = get_cdAreas_prefecture()\n",
        "print(cdArea)"
      ],
      "metadata": {
        "id": "VO1thTIwT5r_",
        "outputId": "4cb5ff34-2075-43b2-9557-2db08875cc0e",
        "colab": {
          "base_uri": "https://localhost:8080/"
        }
      },
      "execution_count": 12,
      "outputs": [
        {
          "output_type": "stream",
          "name": "stdout",
          "text": [
            "[{'cdArea': '00001,00002,00003,00004,00005,00006,00007,00008,00009,00010,00011,00012,00013,00014,00015,00016,00017,00018,00019,00020,00021,00022,00023,00024,00025,00026,00027,00028,00029,00030,00031,00032,00033,00034,00035,00036,00037,00038,00039,00040,00041,00042,00043,00044,00045,00046,00047'}]\n"
          ]
        }
      ]
    },
    {
      "cell_type": "markdown",
      "source": [
        "## 市区町村コードリスト"
      ],
      "metadata": {
        "id": "OAIsB4p6Vh2_"
      }
    },
    {
      "cell_type": "markdown",
      "source": [
        "resas-APIから市区町村一覧を取得する"
      ],
      "metadata": {
        "id": "7XU5ZUmCVvNV"
      }
    },
    {
      "cell_type": "code",
      "execution_count": 13,
      "metadata": {
        "id": "KoBkIBJMN6KO"
      },
      "outputs": [],
      "source": [
        "\"\"\"\n",
        "resas-APIから市区町村一覧を取得する関数\n",
        "\"\"\"\n",
        "\n",
        "def get_resas_citylist(prefCode=0,designatedCity='all'):\n",
        "  \n",
        "    # 都道府県'prefCode'を指定\n",
        "    # 0の場合は全都道府県の市区町村\n",
        "    if prefCode == 0:\n",
        "      url = 'https://opendata.resas-portal.go.jp/api/v1/cities'\n",
        "    else:\n",
        "      url = 'https://opendata.resas-portal.go.jp/api/v1/cities?prefCode={}'.format(prefCode)\n",
        "    \n",
        "    req = urllib.request.Request(url, headers={'X-API-KEY': RESAS_API_KEY})\n",
        "    with urllib.request.urlopen(req) as response:\n",
        "        res = json.loads(response.read().decode())\n",
        "\n",
        "\n",
        "    # 政令指定都市の指定　'join':政令指定都市統合　'split'：政令指定都市分割 'all'：全て\n",
        "    if designatedCity == 'join':\n",
        "      return list(filter(lambda x: x['bigCityFlag'] != '1', res['result']))\n",
        "    elif designatedCity == 'split':\n",
        "      return list(filter(lambda x: x['bigCityFlag'] != '2', res['result']))\n",
        "    else:\n",
        "      return res['result']"
      ]
    },
    {
      "cell_type": "markdown",
      "source": [
        "estat-APIのリクエストパラメータ'cdArea'に市区町村コードをセットする\n",
        "\n",
        "返却値はリスト"
      ],
      "metadata": {
        "id": "tTRiQwosY-tO"
      }
    },
    {
      "cell_type": "code",
      "source": [
        "\"\"\"\n",
        "estat-APIのパラメータ'cdArea'に市区町村コードをセットする関数\n",
        "\"\"\"\n",
        "\n",
        "def get_cdAreas_city(prefCode=0):\n",
        "\n",
        "  res=[]\n",
        "\n",
        "  citylist = get_resas_citylist(prefCode=prefCode,designatedCity='all')\n",
        "  city_codes = [d.get('cityCode') for d in citylist]\n",
        "\n",
        "  # 市区町村が100以上ある場合\n",
        "  if len(city_codes) >= 100 :\n",
        "    for i in range(0, len(city_codes), 100):\n",
        "      dic = {'cdArea':\",\".join(city_codes[i: i+100])}\n",
        "      res.append(dic)\n",
        "\n",
        "  # 市区町村が100未満の場合\n",
        "  else:\n",
        "    dic = {'cdArea':\",\".join(city_codes)}\n",
        "    res.append(dic)\n",
        "\n",
        "  return res"
      ],
      "metadata": {
        "id": "ci71eeJAYw3J"
      },
      "execution_count": 14,
      "outputs": []
    },
    {
      "cell_type": "code",
      "source": [
        "cdArea = get_cdAreas_city()\n",
        "print(cdArea)\n",
        "print('要素数：' + str(len(cdArea)))"
      ],
      "metadata": {
        "id": "JBmaVaZAZXXF",
        "outputId": "22fd38e8-3b25-4978-b7a1-812f5bec367d",
        "colab": {
          "base_uri": "https://localhost:8080/"
        }
      },
      "execution_count": 15,
      "outputs": [
        {
          "output_type": "stream",
          "name": "stdout",
          "text": [
            "[{'cdArea': '01100,01101,01102,01103,01104,01105,01106,01107,01108,01109,01110,01202,01203,01204,01205,01206,01207,01208,01209,01210,01211,01212,01213,01214,01215,01216,01217,01218,01219,01220,01221,01222,01223,01224,01225,01226,01227,01228,01229,01230,01231,01233,01234,01235,01236,01303,01304,01331,01332,01333,01334,01337,01343,01345,01346,01347,01361,01362,01363,01364,01367,01370,01371,01391,01392,01393,01394,01395,01396,01397,01398,01399,01400,01401,01402,01403,01404,01405,01406,01407,01408,01409,01423,01424,01425,01427,01428,01429,01430,01431,01432,01433,01434,01436,01437,01438,01452,01453,01454,01455'}, {'cdArea': '01456,01457,01458,01459,01460,01461,01462,01463,01464,01465,01468,01469,01470,01471,01472,01481,01482,01483,01484,01485,01486,01487,01511,01512,01513,01514,01516,01517,01518,01519,01520,01543,01544,01545,01546,01547,01549,01550,01552,01555,01559,01560,01561,01562,01563,01564,01571,01575,01578,01581,01584,01585,01586,01601,01602,01604,01607,01608,01609,01610,01631,01632,01633,01634,01635,01636,01637,01638,01639,01641,01642,01643,01644,01645,01646,01647,01648,01649,01661,01662,01663,01664,01665,01667,01668,01691,01692,01693,01694,01695,01696,01697,01698,01699,01700,02201,02202,02203,02204,02205'}, {'cdArea': '02206,02207,02208,02209,02210,02301,02303,02304,02307,02321,02323,02343,02361,02362,02367,02381,02384,02387,02401,02402,02405,02406,02408,02411,02412,02423,02424,02425,02426,02441,02442,02443,02445,02446,02450,03201,03202,03203,03205,03206,03207,03208,03209,03210,03211,03213,03214,03215,03216,03301,03302,03303,03321,03322,03366,03381,03402,03441,03461,03482,03483,03484,03485,03501,03503,03506,03507,03524,04100,04101,04102,04103,04104,04105,04202,04203,04205,04206,04207,04208,04209,04211,04212,04213,04214,04215,04216,04301,04302,04321,04322,04323,04324,04341,04361,04362,04401,04404,04406,04421'}, {'cdArea': '04422,04424,04444,04445,04501,04505,04581,04606,05201,05202,05203,05204,05206,05207,05209,05210,05211,05212,05213,05214,05215,05303,05327,05346,05348,05349,05361,05363,05366,05368,05434,05463,05464,06201,06202,06203,06204,06205,06206,06207,06208,06209,06210,06211,06212,06213,06301,06302,06321,06322,06323,06324,06341,06361,06362,06363,06364,06365,06366,06367,06381,06382,06401,06402,06403,06426,06428,06461,07201,07202,07203,07204,07205,07207,07208,07209,07210,07211,07212,07213,07214,07301,07303,07308,07322,07342,07344,07362,07364,07367,07368,07402,07405,07407,07408,07421,07422,07423,07444,07445'}, {'cdArea': '07446,07447,07461,07464,07465,07466,07481,07482,07483,07484,07501,07502,07503,07504,07505,07521,07522,07541,07542,07543,07544,07545,07546,07547,07548,07561,07564,08201,08202,08203,08204,08205,08207,08208,08210,08211,08212,08214,08215,08216,08217,08219,08220,08221,08222,08223,08224,08225,08226,08227,08228,08229,08230,08231,08232,08233,08234,08235,08236,08302,08309,08310,08341,08364,08442,08443,08447,08521,08542,08546,08564,09201,09202,09203,09204,09205,09206,09208,09209,09210,09211,09213,09214,09215,09216,09301,09342,09343,09344,09345,09361,09364,09384,09386,09407,09411,10201,10202,10203,10204'}, {'cdArea': '10205,10206,10207,10208,10209,10210,10211,10212,10344,10345,10366,10367,10382,10383,10384,10421,10424,10425,10426,10428,10429,10443,10444,10448,10449,10464,10521,10522,10523,10524,10525,11100,11101,11102,11103,11104,11105,11106,11107,11108,11109,11110,11201,11202,11203,11206,11207,11208,11209,11210,11211,11212,11214,11215,11216,11217,11218,11219,11221,11222,11223,11224,11225,11227,11228,11229,11230,11231,11232,11233,11234,11235,11237,11238,11239,11240,11241,11242,11243,11245,11246,11301,11324,11326,11327,11341,11342,11343,11346,11347,11348,11349,11361,11362,11363,11365,11369,11381,11383,11385'}, {'cdArea': '11408,11442,11464,11465,12100,12101,12102,12103,12104,12105,12106,12202,12203,12204,12205,12206,12207,12208,12210,12211,12212,12213,12215,12216,12217,12218,12219,12220,12221,12222,12223,12224,12225,12226,12227,12228,12229,12230,12231,12232,12233,12234,12235,12236,12237,12238,12239,12322,12329,12342,12347,12349,12403,12409,12410,12421,12422,12423,12424,12426,12427,12441,12443,12463,13101,13102,13103,13104,13105,13106,13107,13108,13109,13110,13111,13112,13113,13114,13115,13116,13117,13118,13119,13120,13121,13122,13123,13201,13202,13203,13204,13205,13206,13207,13208,13209,13210,13211,13212,13213'}, {'cdArea': '13214,13215,13218,13219,13220,13221,13222,13223,13224,13225,13227,13228,13229,13303,13305,13307,13308,13361,13362,13363,13364,13381,13382,13401,13402,13421,14100,14101,14102,14103,14104,14105,14106,14107,14108,14109,14110,14111,14112,14113,14114,14115,14116,14117,14118,14130,14131,14132,14133,14134,14135,14136,14137,14150,14151,14152,14153,14201,14203,14204,14205,14206,14207,14208,14210,14211,14212,14213,14214,14215,14216,14217,14218,14301,14321,14341,14342,14361,14362,14363,14364,14366,14382,14383,14384,14401,14402,15100,15101,15102,15103,15104,15105,15106,15107,15108,15202,15204,15205,15206'}, {'cdArea': '15208,15209,15210,15211,15212,15213,15216,15217,15218,15222,15223,15224,15225,15226,15227,15307,15342,15361,15385,15405,15461,15482,15504,15581,15586,16201,16202,16204,16205,16206,16207,16208,16209,16210,16211,16321,16322,16323,16342,16343,17201,17202,17203,17204,17205,17206,17207,17209,17210,17211,17212,17324,17361,17365,17384,17386,17407,17461,17463,18201,18202,18204,18205,18206,18207,18208,18209,18210,18322,18382,18404,18423,18442,18481,18483,18501,19201,19202,19204,19205,19206,19207,19208,19209,19210,19211,19212,19213,19214,19346,19364,19365,19366,19368,19384,19422,19423,19424,19425,19429'}, {'cdArea': '19430,19442,19443,20201,20202,20203,20204,20205,20206,20207,20208,20209,20210,20211,20212,20213,20214,20215,20217,20218,20219,20220,20303,20304,20305,20306,20307,20309,20321,20323,20324,20349,20350,20361,20362,20363,20382,20383,20384,20385,20386,20388,20402,20403,20404,20407,20409,20410,20411,20412,20413,20414,20415,20416,20417,20422,20423,20425,20429,20430,20432,20446,20448,20450,20451,20452,20481,20482,20485,20486,20521,20541,20543,20561,20562,20563,20583,20588,20590,20602,21201,21202,21203,21204,21205,21206,21207,21208,21209,21210,21211,21212,21213,21214,21215,21216,21217,21218,21219,21220'}, {'cdArea': '21221,21302,21303,21341,21361,21362,21381,21382,21383,21401,21403,21404,21421,21501,21502,21503,21504,21505,21506,21507,21521,21604,22100,22101,22102,22103,22130,22131,22132,22133,22134,22135,22136,22137,22203,22205,22206,22207,22208,22209,22210,22211,22212,22213,22214,22215,22216,22219,22220,22221,22222,22223,22224,22225,22226,22301,22302,22304,22305,22306,22325,22341,22342,22344,22424,22429,22461,23100,23101,23102,23103,23104,23105,23106,23107,23108,23109,23110,23111,23112,23113,23114,23115,23116,23201,23202,23203,23204,23205,23206,23207,23208,23209,23210,23211,23212,23213,23214,23215,23216'}, {'cdArea': '23217,23219,23220,23221,23222,23223,23224,23225,23226,23227,23228,23229,23230,23231,23232,23233,23234,23235,23236,23237,23238,23302,23342,23361,23362,23424,23425,23427,23441,23442,23445,23446,23447,23501,23561,23562,23563,24201,24202,24203,24204,24205,24207,24208,24209,24210,24211,24212,24214,24215,24216,24303,24324,24341,24343,24344,24441,24442,24443,24461,24470,24471,24472,24543,24561,24562,25201,25202,25203,25204,25206,25207,25208,25209,25210,25211,25212,25213,25214,25383,25384,25425,25441,25442,25443,26100,26101,26102,26103,26104,26105,26106,26107,26108,26109,26110,26111,26201,26202,26203'}, {'cdArea': '26204,26205,26206,26207,26208,26209,26210,26211,26212,26213,26214,26303,26322,26343,26344,26364,26365,26366,26367,26407,26463,26465,27100,27102,27103,27104,27106,27107,27108,27109,27111,27113,27114,27115,27116,27117,27118,27119,27120,27121,27122,27123,27124,27125,27126,27127,27128,27140,27141,27142,27143,27144,27145,27146,27147,27202,27203,27204,27205,27206,27207,27208,27209,27210,27211,27212,27213,27214,27215,27216,27217,27218,27219,27220,27221,27222,27223,27224,27225,27226,27227,27228,27229,27230,27231,27232,27301,27321,27322,27341,27361,27362,27366,27381,27382,27383,28100,28101,28102,28105'}, {'cdArea': '28106,28107,28108,28109,28110,28111,28201,28202,28203,28204,28205,28206,28207,28208,28209,28210,28212,28213,28214,28215,28216,28217,28218,28219,28220,28221,28222,28223,28224,28225,28226,28227,28228,28229,28301,28365,28381,28382,28442,28443,28446,28464,28481,28501,28585,28586,29201,29202,29203,29204,29205,29206,29207,29208,29209,29210,29211,29212,29322,29342,29343,29344,29345,29361,29362,29363,29385,29386,29401,29402,29424,29425,29426,29427,29441,29442,29443,29444,29446,29447,29449,29450,29451,29452,29453,30201,30202,30203,30204,30205,30206,30207,30208,30209,30304,30341,30343,30344,30361,30362'}, {'cdArea': '30366,30381,30382,30383,30390,30391,30392,30401,30404,30406,30421,30422,30424,30427,30428,31201,31202,31203,31204,31302,31325,31328,31329,31364,31370,31371,31372,31384,31386,31389,31390,31401,31402,31403,32201,32202,32203,32204,32205,32206,32207,32209,32343,32386,32441,32448,32449,32501,32505,32525,32526,32527,32528,33100,33101,33102,33103,33104,33202,33203,33204,33205,33207,33208,33209,33210,33211,33212,33213,33214,33215,33216,33346,33423,33445,33461,33586,33606,33622,33623,33643,33663,33666,33681,34100,34101,34102,34103,34104,34105,34106,34107,34108,34202,34203,34204,34205,34207,34208,34209'}, {'cdArea': '34210,34211,34212,34213,34214,34215,34302,34304,34307,34309,34368,34369,34431,34462,34545,35201,35202,35203,35204,35206,35207,35208,35210,35211,35212,35213,35215,35216,35305,35321,35341,35343,35344,35502,36201,36202,36203,36204,36205,36206,36207,36208,36301,36302,36321,36341,36342,36368,36383,36387,36388,36401,36402,36403,36404,36405,36468,36489,37201,37202,37203,37204,37205,37206,37207,37208,37322,37324,37341,37364,37386,37387,37403,37404,37406,38201,38202,38203,38204,38205,38206,38207,38210,38213,38214,38215,38356,38386,38401,38402,38422,38442,38484,38488,38506,39201,39202,39203,39204,39205'}, {'cdArea': '39206,39208,39209,39210,39211,39212,39301,39302,39303,39304,39305,39306,39307,39341,39344,39363,39364,39386,39387,39401,39402,39403,39405,39410,39411,39412,39424,39427,39428,40100,40101,40103,40105,40106,40107,40108,40109,40130,40131,40132,40133,40134,40135,40136,40137,40202,40203,40204,40205,40206,40207,40210,40211,40212,40213,40214,40215,40216,40217,40218,40219,40220,40221,40223,40224,40225,40226,40227,40228,40229,40230,40231,40341,40342,40343,40344,40345,40348,40349,40381,40382,40383,40384,40401,40402,40421,40447,40448,40503,40522,40544,40601,40602,40604,40605,40608,40609,40610,40621,40625'}, {'cdArea': '40642,40646,40647,41201,41202,41203,41204,41205,41206,41207,41208,41209,41210,41327,41341,41345,41346,41387,41401,41423,41424,41425,41441,42201,42202,42203,42204,42205,42207,42208,42209,42210,42211,42212,42213,42214,42307,42308,42321,42322,42323,42383,42391,42411,43100,43101,43102,43103,43104,43105,43202,43203,43204,43205,43206,43208,43210,43211,43212,43213,43214,43215,43216,43348,43364,43367,43368,43369,43403,43404,43423,43424,43425,43428,43432,43433,43441,43442,43443,43444,43447,43468,43482,43484,43501,43505,43506,43507,43510,43511,43512,43513,43514,43531,44201,44202,44203,44204,44205,44206'}, {'cdArea': '44207,44208,44209,44210,44211,44212,44213,44214,44322,44341,44461,44462,45201,45202,45203,45204,45205,45206,45207,45208,45209,45341,45361,45382,45383,45401,45402,45403,45404,45405,45406,45421,45429,45430,45431,45441,45442,45443,46201,46203,46204,46206,46208,46210,46213,46214,46215,46216,46217,46218,46219,46220,46221,46222,46223,46224,46225,46303,46304,46392,46404,46452,46468,46482,46490,46491,46492,46501,46502,46505,46523,46524,46525,46527,46529,46530,46531,46532,46533,46534,46535,47201,47205,47207,47208,47209,47210,47211,47212,47213,47214,47215,47301,47302,47303,47306,47308,47311,47313,47314'}, {'cdArea': '47315,47324,47325,47326,47327,47328,47329,47348,47350,47353,47354,47355,47356,47357,47358,47359,47360,47361,47362,47375,47381,47382'}]\n",
            "要素数：20\n"
          ]
        }
      ]
    },
    {
      "cell_type": "markdown",
      "metadata": {
        "id": "fHfHKgAXbC_a"
      },
      "source": [
        "## BigQueryに保存"
      ]
    },
    {
      "cell_type": "markdown",
      "source": [
        "DataFrameを整形する関数"
      ],
      "metadata": {
        "id": "r4uA0dWVTwyo"
      }
    },
    {
      "cell_type": "code",
      "source": [
        "ESTAT_APPID = '724e5b90772a3e9289f41a253e4e7e32438f4fff'\n",
        "\n",
        "import urllib.parse\n",
        "import urllib.request\n",
        "import json\n",
        "import pandas as pd\n",
        "\n",
        "\"\"\"\n",
        "estat-APIのレスポンスを整形してDataFrameに変換\n",
        "\"\"\"\n",
        "\n",
        "def get_estat_dataframe(params):\n",
        "  res = get_estat_response(params)\n",
        "  df_res = conv_estat_response_to_dataframe(res)\n",
        "  df_res = format_estat_dataframe(df_res)\n",
        "\n",
        "  return df_res\n",
        "\n",
        "\"\"\"\n",
        "estat-APIのレスポンスを取得する関数\n",
        "\"\"\"\n",
        "\n",
        "def get_estat_response(params):\n",
        "  p = params.copy()\n",
        "\n",
        "  # appId\n",
        "  p['appId'] = ESTAT_APPID\n",
        "  \n",
        "  # url生成\n",
        "  url = 'http://api.e-stat.go.jp/rest/2.1/app/json/getStatsData?'\n",
        "  url += urllib.parse.urlencode(p)\n",
        "\n",
        "  with urllib.request.urlopen(url) as response:\n",
        "    return json.loads(response.read().decode('utf-8'))\n",
        "\n",
        "\n",
        "\"\"\"\n",
        "estat-APIのレスポンスをDataFrameに変換する\n",
        "\"\"\"\n",
        "\n",
        "def conv_estat_response_to_dataframe(response):\n",
        "\n",
        "  # VALUEをDataFrameに変換\n",
        "  VALUE = response['GET_STATS_DATA']['STATISTICAL_DATA']['DATA_INF']['VALUE']\n",
        "  df = pd.json_normalize(VALUE)\n",
        "\n",
        "  # CLASS_OBJのDataFrameを結合\n",
        "  CLASS_OBJ = response['GET_STATS_DATA']['STATISTICAL_DATA']['CLASS_INF']['CLASS_OBJ']\n",
        "  for d in CLASS_OBJ :\n",
        "    # DataFrameに変換 '@code','@name'だけ抽出\n",
        "    df_class = pd.json_normalize(d['CLASS']) \n",
        "    df_class = df_class.copy()[['@code','@name']]\n",
        "\n",
        "    # @codeをキー名に変更 @nameをキー名＋'_name'に変更\n",
        "    key_name = '@{}'.format(d['@id'])\n",
        "    df_class = df_class.rename(columns={'@code':key_name,'@name': key_name+'_name'})\n",
        "\n",
        "    # DataFrameを結合\n",
        "    df = pd.merge(df, df_class, on=key_name, how='outer')\n",
        "\n",
        "  # 統計情報を追加\n",
        "  TABLE_INF = response['GET_STATS_DATA']['STATISTICAL_DATA']['TABLE_INF']\n",
        "  df['statsDataId'] = TABLE_INF['@id']\n",
        "  df['statsDataName'] = TABLE_INF['STAT_NAME']['$']\n",
        "  \n",
        "  return df\n",
        "\n",
        "\"\"\"\n",
        "DataFrameを整形する\n",
        "\"\"\"\n",
        "\n",
        "def  format_estat_dataframe(df_arg):\n",
        "\n",
        "  # 列を抽出して名前変更\n",
        "  df =  df_arg[['statsDataId','statsDataName','@cat01','@cat01_name','@time','@time_name','@area','$','@unit']]\n",
        "  df = df.rename(columns = {'@cat01':'categoryCode','@cat01_name':'categoryName','@time':'timeCode','@time_name':'timeName','@area':'areaCode','$':'value','@unit':'unit'})\n",
        "\n",
        "  # 欠損データ削除\n",
        "  df = df.dropna(subset=['categoryCode'])\n",
        "\n",
        "  # categoryNameから不要な情報（categoryCode）を削除\n",
        "  df['categoryName'] = df.apply(lambda x: x['categoryName'].replace(x['categoryCode']+'_', ''), 1)\n",
        "\n",
        "  # timeCodeを文字列4桁に置換\n",
        "  df['timeCode'] = df['timeCode'].astype(str)\n",
        "  df['timeCode'] = df.apply(lambda x: x['timeCode'][:4], 1)\n",
        "  \n",
        "  # 地域情報をマージ\n",
        "  with open('drive/MyDrive/statistics-hyogo/resas/arealist.json') as j:\n",
        "    arealist = json.load(j)\n",
        "    df_arealist = pd.json_normalize(arealist)  \n",
        "  df = pd.merge(df, df_arealist, on='areaCode', how='right')\n",
        "\n",
        "\n",
        "  df = df.dropna(subset=['categoryCode'])\n",
        "\n",
        "  # '-'を'0'に置換\n",
        "  df = df.replace({'value': {'-': '0'}})\n",
        "\n",
        "  return df"
      ],
      "metadata": {
        "id": "aRItwwQ41twT"
      },
      "execution_count": 16,
      "outputs": []
    },
    {
      "cell_type": "code",
      "source": [
        "!pip install pandas-gbq"
      ],
      "metadata": {
        "id": "Iw8hXRPoaqcn"
      },
      "execution_count": null,
      "outputs": []
    },
    {
      "cell_type": "markdown",
      "source": [
        "# データ作成"
      ],
      "metadata": {
        "id": "2z261ckFEZ8V"
      }
    },
    {
      "cell_type": "markdown",
      "source": [
        "BigQueryのテーブルをDataFrameに格納"
      ],
      "metadata": {
        "id": "dCT6GY-oG8b_"
      }
    },
    {
      "cell_type": "code",
      "source": [
        "import pandas as pd\n",
        "\n",
        "def get_gbq(table_id):\n",
        "  project_id='primal-buttress-342908'\n",
        "  dataset_id = 'contents'  \n",
        "  query = f'SELECT * FROM `{project_id}.{dataset_id}.{table_id}`'\n",
        "  \n",
        "  return pd.read_gbq(query, project_id, dialect='standard')"
      ],
      "metadata": {
        "id": "f-y7-xPaFmHx"
      },
      "execution_count": 22,
      "outputs": []
    },
    {
      "cell_type": "markdown",
      "source": [
        "ランキングの付与"
      ],
      "metadata": {
        "id": "p6PY3OlJHGMM"
      }
    },
    {
      "cell_type": "code",
      "source": [
        "\"\"\"\n",
        "都道府県のランキングを付与する関数\n",
        "\"\"\"\n",
        "def withrank_prefecture(df_arg):\n",
        "\n",
        "  # 年度リスト、カテゴリリストの作成\n",
        "  times = list(set(df_arg['timeCode'].tolist()))\n",
        "  categories = list(set(df_arg['categoryCode'].tolist()))\n",
        "\n",
        "  # 返却するDataFrameの定義\n",
        "  df_res = pd.DataFrame(index=[], columns=[])\n",
        "\n",
        "  for time in times:\n",
        "    for category in categories:\n",
        "      df = df_arg.copy()\n",
        "      df = df[df['timeCode'] == time][df['categoryCode'] == category]\n",
        "      \n",
        "      # valueを数値に変換して、'rank'を付与\n",
        "      df = df.astype({'value': float})\n",
        "      df['rankJapan'] = df.rank(ascending=False)['value'].astype(int).astype(str)\n",
        "      \n",
        "      # 結合\n",
        "      df_res = pd.concat([df_res, df])\n",
        "  \n",
        "  return df_res"
      ],
      "metadata": {
        "id": "yIu9Z7ezHuTH"
      },
      "execution_count": 60,
      "outputs": []
    },
    {
      "cell_type": "code",
      "source": [
        "table_id = 'total-population-prefecture'\n",
        "df = get_gbq(table_id)\n",
        "df_rank = withrank_prefecture(df)\n",
        "df_rank"
      ],
      "metadata": {
        "colab": {
          "base_uri": "https://localhost:8080/",
          "height": 696
        },
        "id": "DiBAM7h4ININ",
        "outputId": "fd72f9e3-1cfb-48dc-ade2-00d85db3d2d9"
      },
      "execution_count": 23,
      "outputs": [
        {
          "output_type": "stream",
          "name": "stderr",
          "text": [
            "/usr/local/lib/python3.7/dist-packages/ipykernel_launcher.py:16: UserWarning: Boolean Series key will be reindexed to match DataFrame index.\n",
            "  app.launch_new_instance()\n"
          ]
        },
        {
          "output_type": "execute_result",
          "data": {
            "text/plain": [
              "     statsDataId statsDataName categoryCode categoryName timeCode timeName  \\\n",
              "90    0000010101     社会・人口統計体系      A110102       総人口（女）     1975   1975年度   \n",
              "225   0000010101     社会・人口統計体系      A110102       総人口（女）     1975   1975年度   \n",
              "360   0000010101     社会・人口統計体系      A110102       総人口（女）     1975   1975年度   \n",
              "495   0000010101     社会・人口統計体系      A110102       総人口（女）     1975   1975年度   \n",
              "630   0000010101     社会・人口統計体系      A110102       総人口（女）     1975   1975年度   \n",
              "...          ...           ...          ...          ...      ...      ...   \n",
              "5746  0000010101     社会・人口統計体系      A110101       総人口（男）     2006   2006年度   \n",
              "5881  0000010101     社会・人口統計体系      A110101       総人口（男）     2006   2006年度   \n",
              "6016  0000010101     社会・人口統計体系      A110101       総人口（男）     2006   2006年度   \n",
              "6151  0000010101     社会・人口統計体系      A110101       総人口（男）     2006   2006年度   \n",
              "6286  0000010101     社会・人口統計体系      A110101       総人口（男）     2006   2006年度   \n",
              "\n",
              "     areaCode      value unit  index  prefCode prefName cityCode cityName  \\\n",
              "90      01000  2716921.0    人      0         1      北海道     None     None   \n",
              "225     02000   761414.0    人      1         2      青森県     None     None   \n",
              "360     03000   717370.0    人      2         3      岩手県     None     None   \n",
              "495     04000   995022.0    人      3         4      宮城県     None     None   \n",
              "630     05000   641989.0    人      4         5      秋田県     None     None   \n",
              "...       ...        ...  ...    ...       ...      ...      ...      ...   \n",
              "5746    43000   864000.0    人     42        43      熊本県     None     None   \n",
              "5881    44000   569000.0    人     43        44      大分県     None     None   \n",
              "6016    45000   540000.0    人     44        45      宮崎県     None     None   \n",
              "6151    46000   815000.0    人     45        46     鹿児島県     None     None   \n",
              "6286    47000   672000.0    人     46        47      沖縄県     None     None   \n",
              "\n",
              "     bigCityFlag areaName governmentType rankJapan  \n",
              "90          None      北海道     prefecture         5  \n",
              "225         None      青森県     prefecture        28  \n",
              "360         None      岩手県     prefecture        29  \n",
              "495         None      宮城県     prefecture        17  \n",
              "630         None      秋田県     prefecture        30  \n",
              "...          ...      ...            ...       ...  \n",
              "5746        None      熊本県     prefecture        23  \n",
              "5881        None      大分県     prefecture        34  \n",
              "6016        None      宮崎県     prefecture        36  \n",
              "6151        None     鹿児島県     prefecture        24  \n",
              "6286        None      沖縄県     prefecture        30  \n",
              "\n",
              "[6345 rows x 18 columns]"
            ],
            "text/html": [
              "\n",
              "  <div id=\"df-107d2437-2f97-444f-b709-51c03c68589b\">\n",
              "    <div class=\"colab-df-container\">\n",
              "      <div>\n",
              "<style scoped>\n",
              "    .dataframe tbody tr th:only-of-type {\n",
              "        vertical-align: middle;\n",
              "    }\n",
              "\n",
              "    .dataframe tbody tr th {\n",
              "        vertical-align: top;\n",
              "    }\n",
              "\n",
              "    .dataframe thead th {\n",
              "        text-align: right;\n",
              "    }\n",
              "</style>\n",
              "<table border=\"1\" class=\"dataframe\">\n",
              "  <thead>\n",
              "    <tr style=\"text-align: right;\">\n",
              "      <th></th>\n",
              "      <th>statsDataId</th>\n",
              "      <th>statsDataName</th>\n",
              "      <th>categoryCode</th>\n",
              "      <th>categoryName</th>\n",
              "      <th>timeCode</th>\n",
              "      <th>timeName</th>\n",
              "      <th>areaCode</th>\n",
              "      <th>value</th>\n",
              "      <th>unit</th>\n",
              "      <th>index</th>\n",
              "      <th>prefCode</th>\n",
              "      <th>prefName</th>\n",
              "      <th>cityCode</th>\n",
              "      <th>cityName</th>\n",
              "      <th>bigCityFlag</th>\n",
              "      <th>areaName</th>\n",
              "      <th>governmentType</th>\n",
              "      <th>rankJapan</th>\n",
              "    </tr>\n",
              "  </thead>\n",
              "  <tbody>\n",
              "    <tr>\n",
              "      <th>90</th>\n",
              "      <td>0000010101</td>\n",
              "      <td>社会・人口統計体系</td>\n",
              "      <td>A110102</td>\n",
              "      <td>総人口（女）</td>\n",
              "      <td>1975</td>\n",
              "      <td>1975年度</td>\n",
              "      <td>01000</td>\n",
              "      <td>2716921.0</td>\n",
              "      <td>人</td>\n",
              "      <td>0</td>\n",
              "      <td>1</td>\n",
              "      <td>北海道</td>\n",
              "      <td>None</td>\n",
              "      <td>None</td>\n",
              "      <td>None</td>\n",
              "      <td>北海道</td>\n",
              "      <td>prefecture</td>\n",
              "      <td>5</td>\n",
              "    </tr>\n",
              "    <tr>\n",
              "      <th>225</th>\n",
              "      <td>0000010101</td>\n",
              "      <td>社会・人口統計体系</td>\n",
              "      <td>A110102</td>\n",
              "      <td>総人口（女）</td>\n",
              "      <td>1975</td>\n",
              "      <td>1975年度</td>\n",
              "      <td>02000</td>\n",
              "      <td>761414.0</td>\n",
              "      <td>人</td>\n",
              "      <td>1</td>\n",
              "      <td>2</td>\n",
              "      <td>青森県</td>\n",
              "      <td>None</td>\n",
              "      <td>None</td>\n",
              "      <td>None</td>\n",
              "      <td>青森県</td>\n",
              "      <td>prefecture</td>\n",
              "      <td>28</td>\n",
              "    </tr>\n",
              "    <tr>\n",
              "      <th>360</th>\n",
              "      <td>0000010101</td>\n",
              "      <td>社会・人口統計体系</td>\n",
              "      <td>A110102</td>\n",
              "      <td>総人口（女）</td>\n",
              "      <td>1975</td>\n",
              "      <td>1975年度</td>\n",
              "      <td>03000</td>\n",
              "      <td>717370.0</td>\n",
              "      <td>人</td>\n",
              "      <td>2</td>\n",
              "      <td>3</td>\n",
              "      <td>岩手県</td>\n",
              "      <td>None</td>\n",
              "      <td>None</td>\n",
              "      <td>None</td>\n",
              "      <td>岩手県</td>\n",
              "      <td>prefecture</td>\n",
              "      <td>29</td>\n",
              "    </tr>\n",
              "    <tr>\n",
              "      <th>495</th>\n",
              "      <td>0000010101</td>\n",
              "      <td>社会・人口統計体系</td>\n",
              "      <td>A110102</td>\n",
              "      <td>総人口（女）</td>\n",
              "      <td>1975</td>\n",
              "      <td>1975年度</td>\n",
              "      <td>04000</td>\n",
              "      <td>995022.0</td>\n",
              "      <td>人</td>\n",
              "      <td>3</td>\n",
              "      <td>4</td>\n",
              "      <td>宮城県</td>\n",
              "      <td>None</td>\n",
              "      <td>None</td>\n",
              "      <td>None</td>\n",
              "      <td>宮城県</td>\n",
              "      <td>prefecture</td>\n",
              "      <td>17</td>\n",
              "    </tr>\n",
              "    <tr>\n",
              "      <th>630</th>\n",
              "      <td>0000010101</td>\n",
              "      <td>社会・人口統計体系</td>\n",
              "      <td>A110102</td>\n",
              "      <td>総人口（女）</td>\n",
              "      <td>1975</td>\n",
              "      <td>1975年度</td>\n",
              "      <td>05000</td>\n",
              "      <td>641989.0</td>\n",
              "      <td>人</td>\n",
              "      <td>4</td>\n",
              "      <td>5</td>\n",
              "      <td>秋田県</td>\n",
              "      <td>None</td>\n",
              "      <td>None</td>\n",
              "      <td>None</td>\n",
              "      <td>秋田県</td>\n",
              "      <td>prefecture</td>\n",
              "      <td>30</td>\n",
              "    </tr>\n",
              "    <tr>\n",
              "      <th>...</th>\n",
              "      <td>...</td>\n",
              "      <td>...</td>\n",
              "      <td>...</td>\n",
              "      <td>...</td>\n",
              "      <td>...</td>\n",
              "      <td>...</td>\n",
              "      <td>...</td>\n",
              "      <td>...</td>\n",
              "      <td>...</td>\n",
              "      <td>...</td>\n",
              "      <td>...</td>\n",
              "      <td>...</td>\n",
              "      <td>...</td>\n",
              "      <td>...</td>\n",
              "      <td>...</td>\n",
              "      <td>...</td>\n",
              "      <td>...</td>\n",
              "      <td>...</td>\n",
              "    </tr>\n",
              "    <tr>\n",
              "      <th>5746</th>\n",
              "      <td>0000010101</td>\n",
              "      <td>社会・人口統計体系</td>\n",
              "      <td>A110101</td>\n",
              "      <td>総人口（男）</td>\n",
              "      <td>2006</td>\n",
              "      <td>2006年度</td>\n",
              "      <td>43000</td>\n",
              "      <td>864000.0</td>\n",
              "      <td>人</td>\n",
              "      <td>42</td>\n",
              "      <td>43</td>\n",
              "      <td>熊本県</td>\n",
              "      <td>None</td>\n",
              "      <td>None</td>\n",
              "      <td>None</td>\n",
              "      <td>熊本県</td>\n",
              "      <td>prefecture</td>\n",
              "      <td>23</td>\n",
              "    </tr>\n",
              "    <tr>\n",
              "      <th>5881</th>\n",
              "      <td>0000010101</td>\n",
              "      <td>社会・人口統計体系</td>\n",
              "      <td>A110101</td>\n",
              "      <td>総人口（男）</td>\n",
              "      <td>2006</td>\n",
              "      <td>2006年度</td>\n",
              "      <td>44000</td>\n",
              "      <td>569000.0</td>\n",
              "      <td>人</td>\n",
              "      <td>43</td>\n",
              "      <td>44</td>\n",
              "      <td>大分県</td>\n",
              "      <td>None</td>\n",
              "      <td>None</td>\n",
              "      <td>None</td>\n",
              "      <td>大分県</td>\n",
              "      <td>prefecture</td>\n",
              "      <td>34</td>\n",
              "    </tr>\n",
              "    <tr>\n",
              "      <th>6016</th>\n",
              "      <td>0000010101</td>\n",
              "      <td>社会・人口統計体系</td>\n",
              "      <td>A110101</td>\n",
              "      <td>総人口（男）</td>\n",
              "      <td>2006</td>\n",
              "      <td>2006年度</td>\n",
              "      <td>45000</td>\n",
              "      <td>540000.0</td>\n",
              "      <td>人</td>\n",
              "      <td>44</td>\n",
              "      <td>45</td>\n",
              "      <td>宮崎県</td>\n",
              "      <td>None</td>\n",
              "      <td>None</td>\n",
              "      <td>None</td>\n",
              "      <td>宮崎県</td>\n",
              "      <td>prefecture</td>\n",
              "      <td>36</td>\n",
              "    </tr>\n",
              "    <tr>\n",
              "      <th>6151</th>\n",
              "      <td>0000010101</td>\n",
              "      <td>社会・人口統計体系</td>\n",
              "      <td>A110101</td>\n",
              "      <td>総人口（男）</td>\n",
              "      <td>2006</td>\n",
              "      <td>2006年度</td>\n",
              "      <td>46000</td>\n",
              "      <td>815000.0</td>\n",
              "      <td>人</td>\n",
              "      <td>45</td>\n",
              "      <td>46</td>\n",
              "      <td>鹿児島県</td>\n",
              "      <td>None</td>\n",
              "      <td>None</td>\n",
              "      <td>None</td>\n",
              "      <td>鹿児島県</td>\n",
              "      <td>prefecture</td>\n",
              "      <td>24</td>\n",
              "    </tr>\n",
              "    <tr>\n",
              "      <th>6286</th>\n",
              "      <td>0000010101</td>\n",
              "      <td>社会・人口統計体系</td>\n",
              "      <td>A110101</td>\n",
              "      <td>総人口（男）</td>\n",
              "      <td>2006</td>\n",
              "      <td>2006年度</td>\n",
              "      <td>47000</td>\n",
              "      <td>672000.0</td>\n",
              "      <td>人</td>\n",
              "      <td>46</td>\n",
              "      <td>47</td>\n",
              "      <td>沖縄県</td>\n",
              "      <td>None</td>\n",
              "      <td>None</td>\n",
              "      <td>None</td>\n",
              "      <td>沖縄県</td>\n",
              "      <td>prefecture</td>\n",
              "      <td>30</td>\n",
              "    </tr>\n",
              "  </tbody>\n",
              "</table>\n",
              "<p>6345 rows × 18 columns</p>\n",
              "</div>\n",
              "      <button class=\"colab-df-convert\" onclick=\"convertToInteractive('df-107d2437-2f97-444f-b709-51c03c68589b')\"\n",
              "              title=\"Convert this dataframe to an interactive table.\"\n",
              "              style=\"display:none;\">\n",
              "        \n",
              "  <svg xmlns=\"http://www.w3.org/2000/svg\" height=\"24px\"viewBox=\"0 0 24 24\"\n",
              "       width=\"24px\">\n",
              "    <path d=\"M0 0h24v24H0V0z\" fill=\"none\"/>\n",
              "    <path d=\"M18.56 5.44l.94 2.06.94-2.06 2.06-.94-2.06-.94-.94-2.06-.94 2.06-2.06.94zm-11 1L8.5 8.5l.94-2.06 2.06-.94-2.06-.94L8.5 2.5l-.94 2.06-2.06.94zm10 10l.94 2.06.94-2.06 2.06-.94-2.06-.94-.94-2.06-.94 2.06-2.06.94z\"/><path d=\"M17.41 7.96l-1.37-1.37c-.4-.4-.92-.59-1.43-.59-.52 0-1.04.2-1.43.59L10.3 9.45l-7.72 7.72c-.78.78-.78 2.05 0 2.83L4 21.41c.39.39.9.59 1.41.59.51 0 1.02-.2 1.41-.59l7.78-7.78 2.81-2.81c.8-.78.8-2.07 0-2.86zM5.41 20L4 18.59l7.72-7.72 1.47 1.35L5.41 20z\"/>\n",
              "  </svg>\n",
              "      </button>\n",
              "      \n",
              "  <style>\n",
              "    .colab-df-container {\n",
              "      display:flex;\n",
              "      flex-wrap:wrap;\n",
              "      gap: 12px;\n",
              "    }\n",
              "\n",
              "    .colab-df-convert {\n",
              "      background-color: #E8F0FE;\n",
              "      border: none;\n",
              "      border-radius: 50%;\n",
              "      cursor: pointer;\n",
              "      display: none;\n",
              "      fill: #1967D2;\n",
              "      height: 32px;\n",
              "      padding: 0 0 0 0;\n",
              "      width: 32px;\n",
              "    }\n",
              "\n",
              "    .colab-df-convert:hover {\n",
              "      background-color: #E2EBFA;\n",
              "      box-shadow: 0px 1px 2px rgba(60, 64, 67, 0.3), 0px 1px 3px 1px rgba(60, 64, 67, 0.15);\n",
              "      fill: #174EA6;\n",
              "    }\n",
              "\n",
              "    [theme=dark] .colab-df-convert {\n",
              "      background-color: #3B4455;\n",
              "      fill: #D2E3FC;\n",
              "    }\n",
              "\n",
              "    [theme=dark] .colab-df-convert:hover {\n",
              "      background-color: #434B5C;\n",
              "      box-shadow: 0px 1px 3px 1px rgba(0, 0, 0, 0.15);\n",
              "      filter: drop-shadow(0px 1px 2px rgba(0, 0, 0, 0.3));\n",
              "      fill: #FFFFFF;\n",
              "    }\n",
              "  </style>\n",
              "\n",
              "      <script>\n",
              "        const buttonEl =\n",
              "          document.querySelector('#df-107d2437-2f97-444f-b709-51c03c68589b button.colab-df-convert');\n",
              "        buttonEl.style.display =\n",
              "          google.colab.kernel.accessAllowed ? 'block' : 'none';\n",
              "\n",
              "        async function convertToInteractive(key) {\n",
              "          const element = document.querySelector('#df-107d2437-2f97-444f-b709-51c03c68589b');\n",
              "          const dataTable =\n",
              "            await google.colab.kernel.invokeFunction('convertToInteractive',\n",
              "                                                     [key], {});\n",
              "          if (!dataTable) return;\n",
              "\n",
              "          const docLinkHtml = 'Like what you see? Visit the ' +\n",
              "            '<a target=\"_blank\" href=https://colab.research.google.com/notebooks/data_table.ipynb>data table notebook</a>'\n",
              "            + ' to learn more about interactive tables.';\n",
              "          element.innerHTML = '';\n",
              "          dataTable['output_type'] = 'display_data';\n",
              "          await google.colab.output.renderOutput(dataTable, element);\n",
              "          const docLink = document.createElement('div');\n",
              "          docLink.innerHTML = docLinkHtml;\n",
              "          element.appendChild(docLink);\n",
              "        }\n",
              "      </script>\n",
              "    </div>\n",
              "  </div>\n",
              "  "
            ]
          },
          "metadata": {},
          "execution_count": 23
        }
      ]
    },
    {
      "cell_type": "code",
      "source": [
        "\"\"\"\n",
        "市区町村のランキングを付与する関数\n",
        "\"\"\"\n",
        "def withrank_city(df_arg):\n",
        "  print(f'基のDataDrameは{len(df_arg)}行')\n",
        "\n",
        "  # 年度リスト、カテゴリリストの作成\n",
        "  times = list(set(df_arg['timeCode'].tolist()))\n",
        "  categories = list(set(df_arg['categoryCode'].tolist()))\n",
        "  prefs = list(set(df_arg['prefCode'].tolist()))\n",
        "  print(prefs)\n",
        "\n",
        "  # ランキングDataFrameを作成\n",
        "  df_rank = pd.DataFrame(index=[], columns=[])\n",
        "  for time in times:\n",
        "    for category in categories:\n",
        "\n",
        "      # DataFrameの抽出\n",
        "      df = df_arg.copy()\n",
        "      df = df[df['timeCode'] == time][df['categoryCode'] == category]\n",
        "      df = df[df['bigCityFlag'] != '1']\n",
        "\n",
        "      # valueを数値に変換して、'rank'を付与\n",
        "      df = df.astype({'value': float})\n",
        "      df['rankJapan'] = df.rank(ascending=False)['value'].astype(int).astype(str)\n",
        "      \n",
        "      # 必要な列だけ結合\n",
        "      df = df[['timeCode','categoryCode','areaCode','rankJapan']]\n",
        "      df_rank = pd.concat([df_rank, df])\n",
        "  \n",
        "  # 基のDataFrameにマージ\n",
        "  df_res = df_arg.copy()\n",
        "  df_res = pd.merge(df_res, df_rank, on=['timeCode','categoryCode','areaCode'], how='left')\n",
        "\n",
        "\n",
        "  # ランキングDataFrameを作成\n",
        "  df_rank = pd.DataFrame(index=[], columns=[])\n",
        "  for time in times:\n",
        "    for category in categories:\n",
        "      for pref in prefs:\n",
        "        # DataFrameの抽出\n",
        "        df = df_arg.copy()\n",
        "        df = df[df['timeCode'] == time][df['categoryCode'] == category]\n",
        "        df = df[df['bigCityFlag'] != '1']\n",
        "        df = df[df['prefCode'] == pref]\n",
        "\n",
        "        # valueを数値に変換して、'rank'を付与\n",
        "        df = df.astype({'value': float})\n",
        "        df['rankPref'] = df.rank(ascending=False)['value'].astype(int).astype(str)\n",
        "      \n",
        "        # 必要な列だけ結合\n",
        "        df = df[['timeCode','categoryCode','areaCode','rankPref']]\n",
        "        df_rank = pd.concat([df_rank, df])\n",
        "\n",
        "  df_res = pd.merge(df_res, df_rank, on=['timeCode','categoryCode','areaCode'], how='left')\n",
        "  return df_res"
      ],
      "metadata": {
        "id": "enKb_tRETN8M"
      },
      "execution_count": 56,
      "outputs": []
    },
    {
      "cell_type": "code",
      "source": [
        "table_id = 'total-population-city'\n",
        "df = get_gbq(table_id)\n",
        "df_rank = withrank_city(df)\n",
        "df_rank"
      ],
      "metadata": {
        "id": "AALpbWnFUiwY"
      },
      "execution_count": null,
      "outputs": []
    },
    {
      "cell_type": "code",
      "source": [
        "from google.cloud import bigquery\n",
        "from google.cloud.exceptions import NotFound\n",
        "\n",
        "# 統計カード一覧を取得\n",
        "with open('/content/drive/MyDrive/statistics-hyogo/contents/statistics-cards.json') as j:\n",
        "  cardlist = json.load(j)\n",
        "\n",
        "for card in cardlist:\n",
        "\n",
        "  # BigQueryのテーブル定義\n",
        "  project_id='primal-buttress-342908'\n",
        "  dataset_id = 'contents'\n",
        "  table_id= card['cardId']\n",
        "\n",
        "  client = bigquery.Client()\n",
        "\n",
        "  try:\n",
        "    client.get_table(f'{project_id}.{dataset_id}.{table_id}')  \n",
        "    print(\"Table {} already exists.\".format(table_id))\n",
        "\n",
        "  except NotFound:\n",
        "    estatParams = card['estatParams']\n",
        "    governmentType = card['governmentType']\n",
        "    # print(governmentType)\n",
        "\n",
        "    df = get_estat_dataframe(estatParams)\n",
        "\n",
        "    if governmentType == 'prefecture':\n",
        "      df = withrank_prefecture(df)\n",
        "      print(f'{table_id}のデータを作成しています')\n",
        "      print(estatParams)\n",
        "    else:\n",
        "      df = withrank_city(df)\n",
        "    \n",
        "    df.to_gbq(f'{dataset_id}.{table_id}', project_id=project_id, if_exists=\"replace\")\n",
        "    \n",
        "    print(estatParams)\n",
        "    print(f'{table_id}を保存しました')\n",
        "\n"
      ],
      "metadata": {
        "colab": {
          "base_uri": "https://localhost:8080/",
          "height": 1000
        },
        "id": "b8maJe5ZYQ8C",
        "outputId": "f08d899d-9bc6-4d3b-9343-dc32e68e53a1"
      },
      "execution_count": 63,
      "outputs": [
        {
          "output_type": "stream",
          "name": "stdout",
          "text": [
            "Table total-population-prefecture already exists.\n",
            "Table japanese-population-prefecture already exists.\n",
            "Table population-pyramid-prefecture already exists.\n",
            "Table median-age-prefecture already exists.\n",
            "Table population-age-prefecture  already exists.\n",
            "Table unmarried-prefecture already exists.\n",
            "Table spouse-prefecture already exists.\n",
            "Table bereavement-prefecture already exists.\n",
            "Table separated-prefecture already exists.\n",
            "Table unmarried-rate-pretecture already exists.\n",
            "Table foreigner-population-prefecture already exists.\n",
            "Table densely-populated-area-population-prefecture already exists.\n",
            "Table densely-populated-area-prefecture already exists.\n",
            "Table foreigner-prefecture already exists.\n",
            "Table foreign-resident-prefecture already exists.\n",
            "Table birth-prefecture already exists.\n",
            "Table total-fertility-rate-prefecture already exists.\n",
            "Table death-prefecture already exists.\n",
            "Table death-pyramid-prefecture already exists.\n",
            "Table age-adjusted-mortality-prefecture already exists.\n",
            "Table stillbirth-prefecture already exists.\n",
            "Table standardized-mortality-prefecture already exists.\n",
            "Table movein-prefecture already exists.\n",
            "Table moveout-prefecture already exists.\n",
            "Table Immigrant-prefecture already exists.\n",
            "Table outofthecountry-prefecture already exists.\n",
            "Table social-change-rate-prefecture already exists.\n",
            "Table outflow-inside-prefecture already exists.\n",
            "Table outflow-outside-prefecture already exists.\n",
            "Table inflow-inside-prefecture already exists.\n",
            "Table inflow-outside-prefecture already exists.\n",
            "Table daytime-population-prefecture already exists.\n",
            "Table household-prefecture already exists.\n",
            "Table nuclear-family-household-prefecture already exists.\n",
            "Table single-household-prefecture already exists.\n",
            "Table senior-household-prefecture already exists.\n",
            "Table single-mother-household-prefecture already exists.\n",
            "Table single-father-household-prefecture already exists.\n",
            "Table marriage-prefecture already exists.\n",
            "Table first-marriage-age-prefecture already exists.\n",
            "Table divorce-prefecture already exists.\n",
            "Table total-population-city already exists.\n",
            "Table japanese-population-city already exists.\n",
            "Table median-age-city already exists.\n",
            "Table population-age-city already exists.\n",
            "Table unmarried-rate-city already exists.\n",
            "Table foreigner-population-city already exists.\n",
            "Table densely-populated-area-population-city already exists.\n",
            "Table densely-populated-area-city already exists.\n",
            "Table birth-city already exists.\n",
            "Table death-city already exists.\n",
            "Table movein-city already exists.\n",
            "Table moveout-city already exists.\n",
            "Table outflow-outside-city already exists.\n",
            "Table inflow-inside-city already exists.\n",
            "Table household-city already exists.\n",
            "Table nuclear-family-household-city already exists.\n",
            "Table single-household-city already exists.\n",
            "Table senior-household-city already exists.\n",
            "Table single-mother-household-city already exists.\n",
            "Table single-father-household-city already exists.\n",
            "Table marriage-city already exists.\n",
            "Table divorce-city already exists.\n",
            "Table total-area-prefecture already exists.\n",
            "Table habitable-area-prefecture already exists.\n",
            "Table forest-area-prefecture already exists.\n",
            "Table natural-environment-conservation-area-prefecture already exists.\n",
            "Table evaluation-total-cadastral-prefecture already exists.\n",
            "Table nature-park-area-prefecture already exists.\n",
            "Table park-prefecture already exists.\n",
            "Table national-park-prefecture already exists.\n",
            "Table temperature-prefecture already exists.\n",
            "Table sunny-days-prefecture already exists.\n",
            "Table cloudy-days-prefecture already exists.\n",
            "Table precipitation-prefecture already exists.\n",
            "Table snow-prefecture already exists.\n",
            "Table humidity-prefecture already exists.\n",
            "Table industry-class-prefecture already exists.\n",
            "Table taxable-income-prefecture already exists.\n",
            "Table taxpayer-prefecture already exists.\n",
            "Table establishments-prefecture already exists.\n",
            "Table employees-prefecture already exists.\n",
            "Table agricultural-output-prefecture already exists.\n",
            "Table farmers-prefecture already exists.\n",
            "Table farming-population-prefecture already exists.\n",
            "Table agricultural-land-prefecture already exists.\n",
            "Table agricultural-land-conversion-prefecture already exists.\n",
            "Table abandoned-cultivated-prefecture already exists.\n",
            "Table production-volume-prefecture already exists.\n",
            "Table forest-road-extension-prefecture already exists.\n"
          ]
        },
        {
          "output_type": "stream",
          "name": "stderr",
          "text": [
            "/usr/local/lib/python3.7/dist-packages/ipykernel_launcher.py:16: UserWarning: Boolean Series key will be reindexed to match DataFrame index.\n",
            "  app.launch_new_instance()\n"
          ]
        },
        {
          "output_type": "error",
          "ename": "ValueError",
          "evalue": "ignored",
          "traceback": [
            "\u001b[0;31m---------------------------------------------------------------------------\u001b[0m",
            "\u001b[0;31mNotFound\u001b[0m                                  Traceback (most recent call last)",
            "\u001b[0;32m<ipython-input-63-f653ac08568a>\u001b[0m in \u001b[0;36m<module>\u001b[0;34m\u001b[0m\n\u001b[1;32m     17\u001b[0m   \u001b[0;32mtry\u001b[0m\u001b[0;34m:\u001b[0m\u001b[0;34m\u001b[0m\u001b[0;34m\u001b[0m\u001b[0m\n\u001b[0;32m---> 18\u001b[0;31m     \u001b[0mclient\u001b[0m\u001b[0;34m.\u001b[0m\u001b[0mget_table\u001b[0m\u001b[0;34m(\u001b[0m\u001b[0;34mf'{project_id}.{dataset_id}.{table_id}'\u001b[0m\u001b[0;34m)\u001b[0m\u001b[0;34m\u001b[0m\u001b[0;34m\u001b[0m\u001b[0m\n\u001b[0m\u001b[1;32m     19\u001b[0m     \u001b[0mprint\u001b[0m\u001b[0;34m(\u001b[0m\u001b[0;34m\"Table {} already exists.\"\u001b[0m\u001b[0;34m.\u001b[0m\u001b[0mformat\u001b[0m\u001b[0;34m(\u001b[0m\u001b[0mtable_id\u001b[0m\u001b[0;34m)\u001b[0m\u001b[0;34m)\u001b[0m\u001b[0;34m\u001b[0m\u001b[0;34m\u001b[0m\u001b[0m\n",
            "\u001b[0;32m/usr/local/lib/python3.7/dist-packages/google/cloud/bigquery/client.py\u001b[0m in \u001b[0;36mget_table\u001b[0;34m(self, table, retry)\u001b[0m\n\u001b[1;32m    580\u001b[0m         \u001b[0mtable_ref\u001b[0m \u001b[0;34m=\u001b[0m \u001b[0m_table_arg_to_table_ref\u001b[0m\u001b[0;34m(\u001b[0m\u001b[0mtable\u001b[0m\u001b[0;34m,\u001b[0m \u001b[0mdefault_project\u001b[0m\u001b[0;34m=\u001b[0m\u001b[0mself\u001b[0m\u001b[0;34m.\u001b[0m\u001b[0mproject\u001b[0m\u001b[0;34m)\u001b[0m\u001b[0;34m\u001b[0m\u001b[0;34m\u001b[0m\u001b[0m\n\u001b[0;32m--> 581\u001b[0;31m         \u001b[0mapi_response\u001b[0m \u001b[0;34m=\u001b[0m \u001b[0mself\u001b[0m\u001b[0;34m.\u001b[0m\u001b[0m_call_api\u001b[0m\u001b[0;34m(\u001b[0m\u001b[0mretry\u001b[0m\u001b[0;34m,\u001b[0m \u001b[0mmethod\u001b[0m\u001b[0;34m=\u001b[0m\u001b[0;34m\"GET\"\u001b[0m\u001b[0;34m,\u001b[0m \u001b[0mpath\u001b[0m\u001b[0;34m=\u001b[0m\u001b[0mtable_ref\u001b[0m\u001b[0;34m.\u001b[0m\u001b[0mpath\u001b[0m\u001b[0;34m)\u001b[0m\u001b[0;34m\u001b[0m\u001b[0;34m\u001b[0m\u001b[0m\n\u001b[0m\u001b[1;32m    582\u001b[0m         \u001b[0;32mreturn\u001b[0m \u001b[0mTable\u001b[0m\u001b[0;34m.\u001b[0m\u001b[0mfrom_api_repr\u001b[0m\u001b[0;34m(\u001b[0m\u001b[0mapi_response\u001b[0m\u001b[0;34m)\u001b[0m\u001b[0;34m\u001b[0m\u001b[0;34m\u001b[0m\u001b[0m\n",
            "\u001b[0;32m/usr/local/lib/python3.7/dist-packages/google/cloud/bigquery/client.py\u001b[0m in \u001b[0;36m_call_api\u001b[0;34m(self, retry, **kwargs)\u001b[0m\n\u001b[1;32m    475\u001b[0m             \u001b[0mcall\u001b[0m \u001b[0;34m=\u001b[0m \u001b[0mretry\u001b[0m\u001b[0;34m(\u001b[0m\u001b[0mcall\u001b[0m\u001b[0;34m)\u001b[0m\u001b[0;34m\u001b[0m\u001b[0;34m\u001b[0m\u001b[0m\n\u001b[0;32m--> 476\u001b[0;31m         \u001b[0;32mreturn\u001b[0m \u001b[0mcall\u001b[0m\u001b[0;34m(\u001b[0m\u001b[0;34m)\u001b[0m\u001b[0;34m\u001b[0m\u001b[0;34m\u001b[0m\u001b[0m\n\u001b[0m\u001b[1;32m    477\u001b[0m \u001b[0;34m\u001b[0m\u001b[0m\n",
            "\u001b[0;32m/usr/local/lib/python3.7/dist-packages/google/api_core/retry.py\u001b[0m in \u001b[0;36mretry_wrapped_func\u001b[0;34m(*args, **kwargs)\u001b[0m\n\u001b[1;32m    290\u001b[0m                 \u001b[0mself\u001b[0m\u001b[0;34m.\u001b[0m\u001b[0m_deadline\u001b[0m\u001b[0;34m,\u001b[0m\u001b[0;34m\u001b[0m\u001b[0;34m\u001b[0m\u001b[0m\n\u001b[0;32m--> 291\u001b[0;31m                 \u001b[0mon_error\u001b[0m\u001b[0;34m=\u001b[0m\u001b[0mon_error\u001b[0m\u001b[0;34m,\u001b[0m\u001b[0;34m\u001b[0m\u001b[0;34m\u001b[0m\u001b[0m\n\u001b[0m\u001b[1;32m    292\u001b[0m             )\n",
            "\u001b[0;32m/usr/local/lib/python3.7/dist-packages/google/api_core/retry.py\u001b[0m in \u001b[0;36mretry_target\u001b[0;34m(target, predicate, sleep_generator, deadline, on_error)\u001b[0m\n\u001b[1;32m    188\u001b[0m         \u001b[0;32mtry\u001b[0m\u001b[0;34m:\u001b[0m\u001b[0;34m\u001b[0m\u001b[0;34m\u001b[0m\u001b[0m\n\u001b[0;32m--> 189\u001b[0;31m             \u001b[0;32mreturn\u001b[0m \u001b[0mtarget\u001b[0m\u001b[0;34m(\u001b[0m\u001b[0;34m)\u001b[0m\u001b[0;34m\u001b[0m\u001b[0;34m\u001b[0m\u001b[0m\n\u001b[0m\u001b[1;32m    190\u001b[0m \u001b[0;34m\u001b[0m\u001b[0m\n",
            "\u001b[0;32m/usr/local/lib/python3.7/dist-packages/google/cloud/_http.py\u001b[0m in \u001b[0;36mapi_request\u001b[0;34m(self, method, path, query_params, data, content_type, headers, api_base_url, api_version, expect_json, _target_object)\u001b[0m\n\u001b[1;32m    392\u001b[0m         \u001b[0;32mif\u001b[0m \u001b[0;32mnot\u001b[0m \u001b[0;36m200\u001b[0m \u001b[0;34m<=\u001b[0m \u001b[0mresponse\u001b[0m\u001b[0;34m.\u001b[0m\u001b[0mstatus_code\u001b[0m \u001b[0;34m<\u001b[0m \u001b[0;36m300\u001b[0m\u001b[0;34m:\u001b[0m\u001b[0;34m\u001b[0m\u001b[0;34m\u001b[0m\u001b[0m\n\u001b[0;32m--> 393\u001b[0;31m             \u001b[0;32mraise\u001b[0m \u001b[0mexceptions\u001b[0m\u001b[0;34m.\u001b[0m\u001b[0mfrom_http_response\u001b[0m\u001b[0;34m(\u001b[0m\u001b[0mresponse\u001b[0m\u001b[0;34m)\u001b[0m\u001b[0;34m\u001b[0m\u001b[0;34m\u001b[0m\u001b[0m\n\u001b[0m\u001b[1;32m    394\u001b[0m \u001b[0;34m\u001b[0m\u001b[0m\n",
            "\u001b[0;31mNotFound\u001b[0m: 404 GET https://bigquery.googleapis.com/bigquery/v2/projects/primal-buttress-342908/datasets/contents/tables/fishery-output-prefecture: Not found: Table primal-buttress-342908:contents.fishery-output-prefecture",
            "\nDuring handling of the above exception, another exception occurred:\n",
            "\u001b[0;31mValueError\u001b[0m                                Traceback (most recent call last)",
            "\u001b[0;32m<ipython-input-63-f653ac08568a>\u001b[0m in \u001b[0;36m<module>\u001b[0;34m\u001b[0m\n\u001b[1;32m     27\u001b[0m \u001b[0;34m\u001b[0m\u001b[0m\n\u001b[1;32m     28\u001b[0m     \u001b[0;32mif\u001b[0m \u001b[0mgovernmentType\u001b[0m \u001b[0;34m==\u001b[0m \u001b[0;34m'prefecture'\u001b[0m\u001b[0;34m:\u001b[0m\u001b[0;34m\u001b[0m\u001b[0;34m\u001b[0m\u001b[0m\n\u001b[0;32m---> 29\u001b[0;31m       \u001b[0mdf\u001b[0m \u001b[0;34m=\u001b[0m \u001b[0mwithrank_prefecture\u001b[0m\u001b[0;34m(\u001b[0m\u001b[0mdf\u001b[0m\u001b[0;34m)\u001b[0m\u001b[0;34m\u001b[0m\u001b[0;34m\u001b[0m\u001b[0m\n\u001b[0m\u001b[1;32m     30\u001b[0m       \u001b[0mprint\u001b[0m\u001b[0;34m(\u001b[0m\u001b[0;34mf'{table_id}のデータを作成しています'\u001b[0m\u001b[0;34m)\u001b[0m\u001b[0;34m\u001b[0m\u001b[0;34m\u001b[0m\u001b[0m\n\u001b[1;32m     31\u001b[0m       \u001b[0mprint\u001b[0m\u001b[0;34m(\u001b[0m\u001b[0mestatParams\u001b[0m\u001b[0;34m)\u001b[0m\u001b[0;34m\u001b[0m\u001b[0;34m\u001b[0m\u001b[0m\n",
            "\u001b[0;32m<ipython-input-60-2fe65f7b5987>\u001b[0m in \u001b[0;36mwithrank_prefecture\u001b[0;34m(df_arg)\u001b[0m\n\u001b[1;32m     17\u001b[0m \u001b[0;34m\u001b[0m\u001b[0m\n\u001b[1;32m     18\u001b[0m       \u001b[0;31m# valueを数値に変換して、'rank'を付与\u001b[0m\u001b[0;34m\u001b[0m\u001b[0;34m\u001b[0m\u001b[0;34m\u001b[0m\u001b[0m\n\u001b[0;32m---> 19\u001b[0;31m       \u001b[0mdf\u001b[0m \u001b[0;34m=\u001b[0m \u001b[0mdf\u001b[0m\u001b[0;34m.\u001b[0m\u001b[0mastype\u001b[0m\u001b[0;34m(\u001b[0m\u001b[0;34m{\u001b[0m\u001b[0;34m'value'\u001b[0m\u001b[0;34m:\u001b[0m \u001b[0mfloat\u001b[0m\u001b[0;34m}\u001b[0m\u001b[0;34m)\u001b[0m\u001b[0;34m\u001b[0m\u001b[0;34m\u001b[0m\u001b[0m\n\u001b[0m\u001b[1;32m     20\u001b[0m       \u001b[0mdf\u001b[0m\u001b[0;34m[\u001b[0m\u001b[0;34m'rankJapan'\u001b[0m\u001b[0;34m]\u001b[0m \u001b[0;34m=\u001b[0m \u001b[0mdf\u001b[0m\u001b[0;34m.\u001b[0m\u001b[0mrank\u001b[0m\u001b[0;34m(\u001b[0m\u001b[0mascending\u001b[0m\u001b[0;34m=\u001b[0m\u001b[0;32mFalse\u001b[0m\u001b[0;34m)\u001b[0m\u001b[0;34m[\u001b[0m\u001b[0;34m'value'\u001b[0m\u001b[0;34m]\u001b[0m\u001b[0;34m.\u001b[0m\u001b[0mastype\u001b[0m\u001b[0;34m(\u001b[0m\u001b[0mint\u001b[0m\u001b[0;34m)\u001b[0m\u001b[0;34m.\u001b[0m\u001b[0mastype\u001b[0m\u001b[0;34m(\u001b[0m\u001b[0mstr\u001b[0m\u001b[0;34m)\u001b[0m\u001b[0;34m\u001b[0m\u001b[0;34m\u001b[0m\u001b[0m\n\u001b[1;32m     21\u001b[0m \u001b[0;34m\u001b[0m\u001b[0m\n",
            "\u001b[0;32m/usr/local/lib/python3.7/dist-packages/pandas/core/generic.py\u001b[0m in \u001b[0;36mastype\u001b[0;34m(self, dtype, copy, errors)\u001b[0m\n\u001b[1;32m   5797\u001b[0m                 \u001b[0;32mif\u001b[0m \u001b[0mcol_name\u001b[0m \u001b[0;32min\u001b[0m \u001b[0mdtype\u001b[0m\u001b[0;34m:\u001b[0m\u001b[0;34m\u001b[0m\u001b[0;34m\u001b[0m\u001b[0m\n\u001b[1;32m   5798\u001b[0m                     results.append(\n\u001b[0;32m-> 5799\u001b[0;31m                         \u001b[0mcol\u001b[0m\u001b[0;34m.\u001b[0m\u001b[0mastype\u001b[0m\u001b[0;34m(\u001b[0m\u001b[0mdtype\u001b[0m\u001b[0;34m=\u001b[0m\u001b[0mdtype\u001b[0m\u001b[0;34m[\u001b[0m\u001b[0mcol_name\u001b[0m\u001b[0;34m]\u001b[0m\u001b[0;34m,\u001b[0m \u001b[0mcopy\u001b[0m\u001b[0;34m=\u001b[0m\u001b[0mcopy\u001b[0m\u001b[0;34m,\u001b[0m \u001b[0merrors\u001b[0m\u001b[0;34m=\u001b[0m\u001b[0merrors\u001b[0m\u001b[0;34m)\u001b[0m\u001b[0;34m\u001b[0m\u001b[0;34m\u001b[0m\u001b[0m\n\u001b[0m\u001b[1;32m   5800\u001b[0m                     )\n\u001b[1;32m   5801\u001b[0m                 \u001b[0;32melse\u001b[0m\u001b[0;34m:\u001b[0m\u001b[0;34m\u001b[0m\u001b[0;34m\u001b[0m\u001b[0m\n",
            "\u001b[0;32m/usr/local/lib/python3.7/dist-packages/pandas/core/generic.py\u001b[0m in \u001b[0;36mastype\u001b[0;34m(self, dtype, copy, errors)\u001b[0m\n\u001b[1;32m   5813\u001b[0m         \u001b[0;32melse\u001b[0m\u001b[0;34m:\u001b[0m\u001b[0;34m\u001b[0m\u001b[0;34m\u001b[0m\u001b[0m\n\u001b[1;32m   5814\u001b[0m             \u001b[0;31m# else, only a single dtype is given\u001b[0m\u001b[0;34m\u001b[0m\u001b[0;34m\u001b[0m\u001b[0;34m\u001b[0m\u001b[0m\n\u001b[0;32m-> 5815\u001b[0;31m             \u001b[0mnew_data\u001b[0m \u001b[0;34m=\u001b[0m \u001b[0mself\u001b[0m\u001b[0;34m.\u001b[0m\u001b[0m_mgr\u001b[0m\u001b[0;34m.\u001b[0m\u001b[0mastype\u001b[0m\u001b[0;34m(\u001b[0m\u001b[0mdtype\u001b[0m\u001b[0;34m=\u001b[0m\u001b[0mdtype\u001b[0m\u001b[0;34m,\u001b[0m \u001b[0mcopy\u001b[0m\u001b[0;34m=\u001b[0m\u001b[0mcopy\u001b[0m\u001b[0;34m,\u001b[0m \u001b[0merrors\u001b[0m\u001b[0;34m=\u001b[0m\u001b[0merrors\u001b[0m\u001b[0;34m)\u001b[0m\u001b[0;34m\u001b[0m\u001b[0;34m\u001b[0m\u001b[0m\n\u001b[0m\u001b[1;32m   5816\u001b[0m             \u001b[0;32mreturn\u001b[0m \u001b[0mself\u001b[0m\u001b[0;34m.\u001b[0m\u001b[0m_constructor\u001b[0m\u001b[0;34m(\u001b[0m\u001b[0mnew_data\u001b[0m\u001b[0;34m)\u001b[0m\u001b[0;34m.\u001b[0m\u001b[0m__finalize__\u001b[0m\u001b[0;34m(\u001b[0m\u001b[0mself\u001b[0m\u001b[0;34m,\u001b[0m \u001b[0mmethod\u001b[0m\u001b[0;34m=\u001b[0m\u001b[0;34m\"astype\"\u001b[0m\u001b[0;34m)\u001b[0m\u001b[0;34m\u001b[0m\u001b[0;34m\u001b[0m\u001b[0m\n\u001b[1;32m   5817\u001b[0m \u001b[0;34m\u001b[0m\u001b[0m\n",
            "\u001b[0;32m/usr/local/lib/python3.7/dist-packages/pandas/core/internals/managers.py\u001b[0m in \u001b[0;36mastype\u001b[0;34m(self, dtype, copy, errors)\u001b[0m\n\u001b[1;32m    416\u001b[0m \u001b[0;34m\u001b[0m\u001b[0m\n\u001b[1;32m    417\u001b[0m     \u001b[0;32mdef\u001b[0m \u001b[0mastype\u001b[0m\u001b[0;34m(\u001b[0m\u001b[0mself\u001b[0m\u001b[0;34m:\u001b[0m \u001b[0mT\u001b[0m\u001b[0;34m,\u001b[0m \u001b[0mdtype\u001b[0m\u001b[0;34m,\u001b[0m \u001b[0mcopy\u001b[0m\u001b[0;34m:\u001b[0m \u001b[0mbool\u001b[0m \u001b[0;34m=\u001b[0m \u001b[0;32mFalse\u001b[0m\u001b[0;34m,\u001b[0m \u001b[0merrors\u001b[0m\u001b[0;34m:\u001b[0m \u001b[0mstr\u001b[0m \u001b[0;34m=\u001b[0m \u001b[0;34m\"raise\"\u001b[0m\u001b[0;34m)\u001b[0m \u001b[0;34m->\u001b[0m \u001b[0mT\u001b[0m\u001b[0;34m:\u001b[0m\u001b[0;34m\u001b[0m\u001b[0;34m\u001b[0m\u001b[0m\n\u001b[0;32m--> 418\u001b[0;31m         \u001b[0;32mreturn\u001b[0m \u001b[0mself\u001b[0m\u001b[0;34m.\u001b[0m\u001b[0mapply\u001b[0m\u001b[0;34m(\u001b[0m\u001b[0;34m\"astype\"\u001b[0m\u001b[0;34m,\u001b[0m \u001b[0mdtype\u001b[0m\u001b[0;34m=\u001b[0m\u001b[0mdtype\u001b[0m\u001b[0;34m,\u001b[0m \u001b[0mcopy\u001b[0m\u001b[0;34m=\u001b[0m\u001b[0mcopy\u001b[0m\u001b[0;34m,\u001b[0m \u001b[0merrors\u001b[0m\u001b[0;34m=\u001b[0m\u001b[0merrors\u001b[0m\u001b[0;34m)\u001b[0m\u001b[0;34m\u001b[0m\u001b[0;34m\u001b[0m\u001b[0m\n\u001b[0m\u001b[1;32m    419\u001b[0m \u001b[0;34m\u001b[0m\u001b[0m\n\u001b[1;32m    420\u001b[0m     def convert(\n",
            "\u001b[0;32m/usr/local/lib/python3.7/dist-packages/pandas/core/internals/managers.py\u001b[0m in \u001b[0;36mapply\u001b[0;34m(self, f, align_keys, ignore_failures, **kwargs)\u001b[0m\n\u001b[1;32m    325\u001b[0m                     \u001b[0mapplied\u001b[0m \u001b[0;34m=\u001b[0m \u001b[0mb\u001b[0m\u001b[0;34m.\u001b[0m\u001b[0mapply\u001b[0m\u001b[0;34m(\u001b[0m\u001b[0mf\u001b[0m\u001b[0;34m,\u001b[0m \u001b[0;34m**\u001b[0m\u001b[0mkwargs\u001b[0m\u001b[0;34m)\u001b[0m\u001b[0;34m\u001b[0m\u001b[0;34m\u001b[0m\u001b[0m\n\u001b[1;32m    326\u001b[0m                 \u001b[0;32melse\u001b[0m\u001b[0;34m:\u001b[0m\u001b[0;34m\u001b[0m\u001b[0;34m\u001b[0m\u001b[0m\n\u001b[0;32m--> 327\u001b[0;31m                     \u001b[0mapplied\u001b[0m \u001b[0;34m=\u001b[0m \u001b[0mgetattr\u001b[0m\u001b[0;34m(\u001b[0m\u001b[0mb\u001b[0m\u001b[0;34m,\u001b[0m \u001b[0mf\u001b[0m\u001b[0;34m)\u001b[0m\u001b[0;34m(\u001b[0m\u001b[0;34m**\u001b[0m\u001b[0mkwargs\u001b[0m\u001b[0;34m)\u001b[0m\u001b[0;34m\u001b[0m\u001b[0;34m\u001b[0m\u001b[0m\n\u001b[0m\u001b[1;32m    328\u001b[0m             \u001b[0;32mexcept\u001b[0m \u001b[0;34m(\u001b[0m\u001b[0mTypeError\u001b[0m\u001b[0;34m,\u001b[0m \u001b[0mNotImplementedError\u001b[0m\u001b[0;34m)\u001b[0m\u001b[0;34m:\u001b[0m\u001b[0;34m\u001b[0m\u001b[0;34m\u001b[0m\u001b[0m\n\u001b[1;32m    329\u001b[0m                 \u001b[0;32mif\u001b[0m \u001b[0;32mnot\u001b[0m \u001b[0mignore_failures\u001b[0m\u001b[0;34m:\u001b[0m\u001b[0;34m\u001b[0m\u001b[0;34m\u001b[0m\u001b[0m\n",
            "\u001b[0;32m/usr/local/lib/python3.7/dist-packages/pandas/core/internals/blocks.py\u001b[0m in \u001b[0;36mastype\u001b[0;34m(self, dtype, copy, errors)\u001b[0m\n\u001b[1;32m    589\u001b[0m         \u001b[0mvalues\u001b[0m \u001b[0;34m=\u001b[0m \u001b[0mself\u001b[0m\u001b[0;34m.\u001b[0m\u001b[0mvalues\u001b[0m\u001b[0;34m\u001b[0m\u001b[0;34m\u001b[0m\u001b[0m\n\u001b[1;32m    590\u001b[0m \u001b[0;34m\u001b[0m\u001b[0m\n\u001b[0;32m--> 591\u001b[0;31m         \u001b[0mnew_values\u001b[0m \u001b[0;34m=\u001b[0m \u001b[0mastype_array_safe\u001b[0m\u001b[0;34m(\u001b[0m\u001b[0mvalues\u001b[0m\u001b[0;34m,\u001b[0m \u001b[0mdtype\u001b[0m\u001b[0;34m,\u001b[0m \u001b[0mcopy\u001b[0m\u001b[0;34m=\u001b[0m\u001b[0mcopy\u001b[0m\u001b[0;34m,\u001b[0m \u001b[0merrors\u001b[0m\u001b[0;34m=\u001b[0m\u001b[0merrors\u001b[0m\u001b[0;34m)\u001b[0m\u001b[0;34m\u001b[0m\u001b[0;34m\u001b[0m\u001b[0m\n\u001b[0m\u001b[1;32m    592\u001b[0m \u001b[0;34m\u001b[0m\u001b[0m\n\u001b[1;32m    593\u001b[0m         \u001b[0mnew_values\u001b[0m \u001b[0;34m=\u001b[0m \u001b[0mmaybe_coerce_values\u001b[0m\u001b[0;34m(\u001b[0m\u001b[0mnew_values\u001b[0m\u001b[0;34m)\u001b[0m\u001b[0;34m\u001b[0m\u001b[0;34m\u001b[0m\u001b[0m\n",
            "\u001b[0;32m/usr/local/lib/python3.7/dist-packages/pandas/core/dtypes/cast.py\u001b[0m in \u001b[0;36mastype_array_safe\u001b[0;34m(values, dtype, copy, errors)\u001b[0m\n\u001b[1;32m   1307\u001b[0m \u001b[0;34m\u001b[0m\u001b[0m\n\u001b[1;32m   1308\u001b[0m     \u001b[0;32mtry\u001b[0m\u001b[0;34m:\u001b[0m\u001b[0;34m\u001b[0m\u001b[0;34m\u001b[0m\u001b[0m\n\u001b[0;32m-> 1309\u001b[0;31m         \u001b[0mnew_values\u001b[0m \u001b[0;34m=\u001b[0m \u001b[0mastype_array\u001b[0m\u001b[0;34m(\u001b[0m\u001b[0mvalues\u001b[0m\u001b[0;34m,\u001b[0m \u001b[0mdtype\u001b[0m\u001b[0;34m,\u001b[0m \u001b[0mcopy\u001b[0m\u001b[0;34m=\u001b[0m\u001b[0mcopy\u001b[0m\u001b[0;34m)\u001b[0m\u001b[0;34m\u001b[0m\u001b[0;34m\u001b[0m\u001b[0m\n\u001b[0m\u001b[1;32m   1310\u001b[0m     \u001b[0;32mexcept\u001b[0m \u001b[0;34m(\u001b[0m\u001b[0mValueError\u001b[0m\u001b[0;34m,\u001b[0m \u001b[0mTypeError\u001b[0m\u001b[0;34m)\u001b[0m\u001b[0;34m:\u001b[0m\u001b[0;34m\u001b[0m\u001b[0;34m\u001b[0m\u001b[0m\n\u001b[1;32m   1311\u001b[0m         \u001b[0;31m# e.g. astype_nansafe can fail on object-dtype of strings\u001b[0m\u001b[0;34m\u001b[0m\u001b[0;34m\u001b[0m\u001b[0;34m\u001b[0m\u001b[0m\n",
            "\u001b[0;32m/usr/local/lib/python3.7/dist-packages/pandas/core/dtypes/cast.py\u001b[0m in \u001b[0;36mastype_array\u001b[0;34m(values, dtype, copy)\u001b[0m\n\u001b[1;32m   1255\u001b[0m \u001b[0;34m\u001b[0m\u001b[0m\n\u001b[1;32m   1256\u001b[0m     \u001b[0;32melse\u001b[0m\u001b[0;34m:\u001b[0m\u001b[0;34m\u001b[0m\u001b[0;34m\u001b[0m\u001b[0m\n\u001b[0;32m-> 1257\u001b[0;31m         \u001b[0mvalues\u001b[0m \u001b[0;34m=\u001b[0m \u001b[0mastype_nansafe\u001b[0m\u001b[0;34m(\u001b[0m\u001b[0mvalues\u001b[0m\u001b[0;34m,\u001b[0m \u001b[0mdtype\u001b[0m\u001b[0;34m,\u001b[0m \u001b[0mcopy\u001b[0m\u001b[0;34m=\u001b[0m\u001b[0mcopy\u001b[0m\u001b[0;34m)\u001b[0m\u001b[0;34m\u001b[0m\u001b[0;34m\u001b[0m\u001b[0m\n\u001b[0m\u001b[1;32m   1258\u001b[0m \u001b[0;34m\u001b[0m\u001b[0m\n\u001b[1;32m   1259\u001b[0m     \u001b[0;31m# in pandas we don't store numpy str dtypes, so convert to object\u001b[0m\u001b[0;34m\u001b[0m\u001b[0;34m\u001b[0m\u001b[0;34m\u001b[0m\u001b[0m\n",
            "\u001b[0;32m/usr/local/lib/python3.7/dist-packages/pandas/core/dtypes/cast.py\u001b[0m in \u001b[0;36mastype_nansafe\u001b[0;34m(arr, dtype, copy, skipna)\u001b[0m\n\u001b[1;32m   1199\u001b[0m     \u001b[0;32mif\u001b[0m \u001b[0mcopy\u001b[0m \u001b[0;32mor\u001b[0m \u001b[0mis_object_dtype\u001b[0m\u001b[0;34m(\u001b[0m\u001b[0marr\u001b[0m\u001b[0;34m.\u001b[0m\u001b[0mdtype\u001b[0m\u001b[0;34m)\u001b[0m \u001b[0;32mor\u001b[0m \u001b[0mis_object_dtype\u001b[0m\u001b[0;34m(\u001b[0m\u001b[0mdtype\u001b[0m\u001b[0;34m)\u001b[0m\u001b[0;34m:\u001b[0m\u001b[0;34m\u001b[0m\u001b[0;34m\u001b[0m\u001b[0m\n\u001b[1;32m   1200\u001b[0m         \u001b[0;31m# Explicit copy, or required since NumPy can't view from / to object.\u001b[0m\u001b[0;34m\u001b[0m\u001b[0;34m\u001b[0m\u001b[0;34m\u001b[0m\u001b[0m\n\u001b[0;32m-> 1201\u001b[0;31m         \u001b[0;32mreturn\u001b[0m \u001b[0marr\u001b[0m\u001b[0;34m.\u001b[0m\u001b[0mastype\u001b[0m\u001b[0;34m(\u001b[0m\u001b[0mdtype\u001b[0m\u001b[0;34m,\u001b[0m \u001b[0mcopy\u001b[0m\u001b[0;34m=\u001b[0m\u001b[0;32mTrue\u001b[0m\u001b[0;34m)\u001b[0m\u001b[0;34m\u001b[0m\u001b[0;34m\u001b[0m\u001b[0m\n\u001b[0m\u001b[1;32m   1202\u001b[0m \u001b[0;34m\u001b[0m\u001b[0m\n\u001b[1;32m   1203\u001b[0m     \u001b[0;32mreturn\u001b[0m \u001b[0marr\u001b[0m\u001b[0;34m.\u001b[0m\u001b[0mastype\u001b[0m\u001b[0;34m(\u001b[0m\u001b[0mdtype\u001b[0m\u001b[0;34m,\u001b[0m \u001b[0mcopy\u001b[0m\u001b[0;34m=\u001b[0m\u001b[0mcopy\u001b[0m\u001b[0;34m)\u001b[0m\u001b[0;34m\u001b[0m\u001b[0;34m\u001b[0m\u001b[0m\n",
            "\u001b[0;31mValueError\u001b[0m: could not convert string to float: 'X'"
          ]
        }
      ]
    }
  ],
  "metadata": {
    "colab": {
      "collapsed_sections": [],
      "toc_visible": true,
      "provenance": []
    },
    "gpuClass": "standard",
    "kernelspec": {
      "display_name": "Python 3",
      "name": "python3"
    }
  },
  "nbformat": 4,
  "nbformat_minor": 0
}