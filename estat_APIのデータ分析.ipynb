{
  "cells": [
    {
      "cell_type": "markdown",
      "source": [
        "# 実行環境の作成"
      ],
      "metadata": {
        "id": "inrYQThZlUDa"
      }
    },
    {
      "cell_type": "markdown",
      "source": [
        "## python3.9"
      ],
      "metadata": {
        "id": "387BKeiilWGn"
      }
    },
    {
      "cell_type": "code",
      "source": [
        "!wget -O mini.sh https://repo.anaconda.com/miniconda/Miniconda3-py39_4.12.0-Linux-x86_64.sh\n",
        "!chmod +x mini.sh\n",
        "!bash ./mini.sh -b -f -p /usr/local\n",
        "!conda install -q -y jupyter\n",
        "!conda install -q -y google-colab -c conda-forge\n",
        "!python -m ipykernel install --name \"py39\" --user"
      ],
      "metadata": {
        "colab": {
          "base_uri": "https://localhost:8080/"
        },
        "id": "YSBGyLhfIMYx",
        "outputId": "481ef590-4d89-4a40-877b-8cf53abaf249"
      },
      "execution_count": 1,
      "outputs": [
        {
          "output_type": "stream",
          "name": "stdout",
          "text": [
            "--2022-09-15 00:49:04--  https://repo.anaconda.com/miniconda/Miniconda3-py39_4.12.0-Linux-x86_64.sh\n",
            "Resolving repo.anaconda.com (repo.anaconda.com)... 104.16.131.3, 104.16.130.3, 2606:4700::6810:8303, ...\n",
            "Connecting to repo.anaconda.com (repo.anaconda.com)|104.16.131.3|:443... connected.\n",
            "HTTP request sent, awaiting response... 200 OK\n",
            "Length: 76607678 (73M) [application/x-sh]\n",
            "Saving to: ‘mini.sh’\n",
            "\n",
            "mini.sh             100%[===================>]  73.06M  86.5MB/s    in 0.8s    \n",
            "\n",
            "2022-09-15 00:49:05 (86.5 MB/s) - ‘mini.sh’ saved [76607678/76607678]\n",
            "\n",
            "PREFIX=/usr/local\n",
            "Unpacking payload ...\n",
            "Collecting package metadata (current_repodata.json): - \b\b\\ \b\bdone\n",
            "Solving environment: / \b\b- \b\b\\ \b\b| \b\b/ \b\b- \b\b\\ \b\b| \b\b/ \b\b- \b\b\\ \b\b| \b\b/ \b\b- \b\bdone\n",
            "\n",
            "## Package Plan ##\n",
            "\n",
            "  environment location: /usr/local\n",
            "\n",
            "  added / updated specs:\n",
            "    - _libgcc_mutex==0.1=main\n",
            "    - _openmp_mutex==4.5=1_gnu\n",
            "    - brotlipy==0.7.0=py39h27cfd23_1003\n",
            "    - ca-certificates==2022.3.29=h06a4308_1\n",
            "    - certifi==2021.10.8=py39h06a4308_2\n",
            "    - cffi==1.15.0=py39hd667e15_1\n",
            "    - charset-normalizer==2.0.4=pyhd3eb1b0_0\n",
            "    - colorama==0.4.4=pyhd3eb1b0_0\n",
            "    - conda-content-trust==0.1.1=pyhd3eb1b0_0\n",
            "    - conda-package-handling==1.8.1=py39h7f8727e_0\n",
            "    - conda==4.12.0=py39h06a4308_0\n",
            "    - cryptography==36.0.0=py39h9ce1e76_0\n",
            "    - idna==3.3=pyhd3eb1b0_0\n",
            "    - ld_impl_linux-64==2.35.1=h7274673_9\n",
            "    - libffi==3.3=he6710b0_2\n",
            "    - libgcc-ng==9.3.0=h5101ec6_17\n",
            "    - libgomp==9.3.0=h5101ec6_17\n",
            "    - libstdcxx-ng==9.3.0=hd4cf53a_17\n",
            "    - ncurses==6.3=h7f8727e_2\n",
            "    - openssl==1.1.1n=h7f8727e_0\n",
            "    - pip==21.2.4=py39h06a4308_0\n",
            "    - pycosat==0.6.3=py39h27cfd23_0\n",
            "    - pycparser==2.21=pyhd3eb1b0_0\n",
            "    - pyopenssl==22.0.0=pyhd3eb1b0_0\n",
            "    - pysocks==1.7.1=py39h06a4308_0\n",
            "    - python==3.9.12=h12debd9_0\n",
            "    - readline==8.1.2=h7f8727e_1\n",
            "    - requests==2.27.1=pyhd3eb1b0_0\n",
            "    - ruamel_yaml==0.15.100=py39h27cfd23_0\n",
            "    - setuptools==61.2.0=py39h06a4308_0\n",
            "    - six==1.16.0=pyhd3eb1b0_1\n",
            "    - sqlite==3.38.2=hc218d9a_0\n",
            "    - tk==8.6.11=h1ccaba5_0\n",
            "    - tqdm==4.63.0=pyhd3eb1b0_0\n",
            "    - tzdata==2022a=hda174b7_0\n",
            "    - urllib3==1.26.8=pyhd3eb1b0_0\n",
            "    - wheel==0.37.1=pyhd3eb1b0_0\n",
            "    - xz==5.2.5=h7b6447c_0\n",
            "    - yaml==0.2.5=h7b6447c_0\n",
            "    - zlib==1.2.12=h7f8727e_1\n",
            "\n",
            "\n",
            "The following packages will be SUPERSEDED by a higher-priority channel:\n",
            "\n",
            "  ca-certificates    conda-forge::ca-certificates-2022.6.1~ --> pkgs/main::ca-certificates-2022.3.29-h06a4308_1\n",
            "  certifi            conda-forge/noarch::certifi-2022.9.14~ --> pkgs/main/linux-64::certifi-2021.10.8-py39h06a4308_2\n",
            "  conda              conda-forge::conda-4.14.0-py39hf3d152~ --> pkgs/main::conda-4.12.0-py39h06a4308_0\n",
            "\n",
            "The following packages will be DOWNGRADED:\n",
            "\n",
            "  openssl                                 1.1.1q-h7f8727e_0 --> 1.1.1n-h7f8727e_0\n",
            "\n",
            "\n",
            "Preparing transaction: | \b\bdone\n",
            "Executing transaction: - \b\b\\ \b\bdone\n",
            "installation finished.\n",
            "WARNING:\n",
            "    You currently have a PYTHONPATH environment variable set. This may cause\n",
            "    unexpected behavior when running the Python interpreter in Miniconda3.\n",
            "    For best results, please verify that your PYTHONPATH only points to\n",
            "    directories of packages that are compatible with the Python interpreter\n",
            "    in Miniconda3: /usr/local\n",
            "Collecting package metadata (current_repodata.json): ...working... done\n",
            "Solving environment: ...working... done\n",
            "\n",
            "## Package Plan ##\n",
            "\n",
            "  environment location: /usr/local\n",
            "\n",
            "  added / updated specs:\n",
            "    - jupyter\n",
            "\n",
            "\n",
            "The following packages will be UPDATED:\n",
            "\n",
            "  ca-certificates                      2022.3.29-h06a4308_1 --> 2022.07.19-h06a4308_0\n",
            "  certifi                          2021.10.8-py39h06a4308_2 --> 2022.6.15-py39h06a4308_0\n",
            "  conda                               4.12.0-py39h06a4308_0 --> 4.14.0-py39h06a4308_0\n",
            "  openssl                                 1.1.1n-h7f8727e_0 --> 1.1.1q-h7f8727e_0\n",
            "\n",
            "\n",
            "Preparing transaction: ...working... done\n",
            "Verifying transaction: ...working... done\n",
            "Executing transaction: ...working... done\n",
            "Collecting package metadata (current_repodata.json): ...working... done\n",
            "Solving environment: ...working... done\n",
            "\n",
            "## Package Plan ##\n",
            "\n",
            "  environment location: /usr/local\n",
            "\n",
            "  added / updated specs:\n",
            "    - google-colab\n",
            "\n",
            "\n",
            "The following packages will be UPDATED:\n",
            "\n",
            "  certifi            pkgs/main/linux-64::certifi-2022.6.15~ --> conda-forge/noarch::certifi-2022.9.14-pyhd8ed1ab_0\n",
            "\n",
            "The following packages will be SUPERSEDED by a higher-priority channel:\n",
            "\n",
            "  ca-certificates    pkgs/main::ca-certificates-2022.07.19~ --> conda-forge::ca-certificates-2022.6.15.2-ha878542_0\n",
            "  conda              pkgs/main::conda-4.14.0-py39h06a4308_0 --> conda-forge::conda-4.14.0-py39hf3d152e_0\n",
            "\n",
            "\n",
            "Preparing transaction: ...working... done\n",
            "Verifying transaction: ...working... done\n",
            "Executing transaction: ...working... done\n",
            "Retrieving notices: ...working... done\n",
            "Installed kernelspec py39 in /root/.local/share/jupyter/kernels/py39\n"
          ]
        }
      ]
    },
    {
      "cell_type": "code",
      "source": [
        "!python --version"
      ],
      "metadata": {
        "id": "DkyoesJ8DUjw",
        "outputId": "ed0a1b73-e7f9-4645-d27f-6225fdc2fa7f",
        "colab": {
          "base_uri": "https://localhost:8080/"
        }
      },
      "execution_count": 2,
      "outputs": [
        {
          "output_type": "stream",
          "name": "stdout",
          "text": [
            "Python 3.9.12\n"
          ]
        }
      ]
    },
    {
      "cell_type": "markdown",
      "source": [
        "## Google Cloud Storage"
      ],
      "metadata": {
        "id": "BDMnnS3RVrkF"
      }
    },
    {
      "cell_type": "markdown",
      "source": [
        "下記コードでGCPに接続"
      ],
      "metadata": {
        "id": "SsgiSjKhV2D7"
      }
    },
    {
      "cell_type": "code",
      "source": [
        "from google.colab import auth\n",
        "auth.authenticate_user()"
      ],
      "metadata": {
        "id": "GKiUkM7SV0bY"
      },
      "execution_count": 3,
      "outputs": []
    },
    {
      "cell_type": "markdown",
      "source": [
        "認証に成功したらgcsfuseをインストール"
      ],
      "metadata": {
        "id": "KP4JP4ouV6QS"
      }
    },
    {
      "cell_type": "code",
      "source": [
        "!echo \"deb http://packages.cloud.google.com/apt gcsfuse-`lsb_release -c -s` main\" | sudo tee /etc/apt/sources.list.d/gcsfuse.list\n",
        "!curl https://packages.cloud.google.com/apt/doc/apt-key.gpg | sudo apt-key add -\n",
        "!apt-get -y -q update\n",
        "!apt-get -y -q install gcsfuse"
      ],
      "metadata": {
        "id": "d1D5UagbV9A4"
      },
      "execution_count": null,
      "outputs": []
    },
    {
      "cell_type": "markdown",
      "source": [
        "バケット「statistics-hyogo」をディレクトリ「statistics-hyogo」にマウント"
      ],
      "metadata": {
        "id": "QUUcFp5LWR6s"
      }
    },
    {
      "cell_type": "code",
      "source": [
        "! mkdir -p statistics-hyogo\n",
        "! gcsfuse --implicit-dirs --limit-bytes-per-sec -1 --limit-ops-per-sec -1 statistics-hyogo statistics-hyogo"
      ],
      "metadata": {
        "colab": {
          "base_uri": "https://localhost:8080/"
        },
        "id": "vw-vsTVGWIfp",
        "outputId": "e5aa7374-b111-4cf9-fc8b-dff40cb7b4fa"
      },
      "execution_count": 5,
      "outputs": [
        {
          "output_type": "stream",
          "name": "stdout",
          "text": [
            "2022/09/15 00:42:55.008447 Start gcsfuse/0.41.6 (Go version go1.18.4) for app \"\" using mount point: /content/statistics-hyogo\n",
            "2022/09/15 00:42:55.021886 Opening GCS connection...\n",
            "2022/09/15 00:42:55.487174 Mounting file system \"statistics-hyogo\"...\n",
            "2022/09/15 00:42:55.487876 File system has been successfully mounted.\n"
          ]
        }
      ]
    },
    {
      "cell_type": "markdown",
      "source": [
        "## Google Secret Maneger"
      ],
      "metadata": {
        "id": "7qQcN2LeWv6y"
      }
    },
    {
      "cell_type": "markdown",
      "source": [
        "ライブラリをインストール"
      ],
      "metadata": {
        "id": "6CbBOyZ5XYJM"
      }
    },
    {
      "cell_type": "code",
      "source": [
        "pip install google-cloud-secret-manager"
      ],
      "metadata": {
        "id": "mEYHoCvDXQpm"
      },
      "execution_count": null,
      "outputs": []
    },
    {
      "cell_type": "markdown",
      "source": [
        "シークレットを呼び出す関数"
      ],
      "metadata": {
        "id": "UVUeVFCjXxTf"
      }
    },
    {
      "cell_type": "code",
      "source": [
        "from google.cloud import secretmanager\n",
        "\n",
        "def access_secret(project_id, secret_name, version='latest'):\n",
        "    client = secretmanager.SecretManagerServiceClient()\n",
        "    name = client.secret_version_path(project_id, secret_name, version)\n",
        "    response = client.access_secret_version(request={\"name\":name})\n",
        "    payload = response.payload.data.decode(\"UTF-8\")\n",
        "    return payload"
      ],
      "metadata": {
        "id": "HtS1JoaoXvPU"
      },
      "execution_count": null,
      "outputs": []
    },
    {
      "cell_type": "markdown",
      "source": [
        "ESTAT_APPIDを取得する"
      ],
      "metadata": {
        "id": "xu8BYCJrX1a9"
      }
    },
    {
      "cell_type": "code",
      "source": [
        "PROJECT_ID = 'primal-buttress-342908'\n",
        "ESTAT_APPID = access_secret(PROJECT_ID,'ESTAT_APPID' )\n",
        "# print(ESTAT_APPID)"
      ],
      "metadata": {
        "id": "W7ZrfiMkX4cp"
      },
      "execution_count": null,
      "outputs": []
    },
    {
      "cell_type": "code",
      "source": [
        "ESTAT_APPID = '724e5b90772a3e9289f41a253e4e7e32438f4fff'"
      ],
      "metadata": {
        "id": "wMa4y4oXJYdw"
      },
      "execution_count": 4,
      "outputs": []
    },
    {
      "cell_type": "markdown",
      "source": [
        "## pythonのライブラリ追加"
      ],
      "metadata": {
        "id": "rv4FGegQaZtc"
      }
    },
    {
      "cell_type": "code",
      "source": [
        "import urllib.parse\n",
        "import urllib.request\n",
        "import json\n",
        "import pandas as pd"
      ],
      "metadata": {
        "id": "eIB9NAJdalZT"
      },
      "execution_count": 5,
      "outputs": []
    },
    {
      "cell_type": "markdown",
      "source": [
        "# estatの統計情報を取得"
      ],
      "metadata": {
        "id": "8AQDQmu5ZIVE"
      }
    },
    {
      "cell_type": "markdown",
      "source": [
        "統計表を指定してメタ情報を取得する\n",
        "\n",
        "[API仕様](https://www.e-stat.go.jp/api/api-info/e-stat-manual3-0#api_2_2)"
      ],
      "metadata": {
        "id": "s9tOiD5NZv5c"
      }
    },
    {
      "cell_type": "markdown",
      "source": [
        "'statsDataId'に統計表コードを指定"
      ],
      "metadata": {
        "id": "IYxQ-Md5ZU3P"
      }
    },
    {
      "cell_type": "code",
      "source": [
        "statsDataId = '0000010101'"
      ],
      "metadata": {
        "id": "RS0kYP4dZUSU"
      },
      "execution_count": 6,
      "outputs": []
    },
    {
      "cell_type": "markdown",
      "source": [
        "メタ情報を取得する関数を作成"
      ],
      "metadata": {
        "id": "d5VF0GXDZjRr"
      }
    },
    {
      "cell_type": "code",
      "source": [
        "def get_estat_meta(statsDataId):\n",
        "  # リクエストパラメータ\n",
        "  p={}\n",
        "  p['statsDataId'] = statsDataId\n",
        "  p['appId'] = ESTAT_APPID\n",
        "\n",
        "  url = 'http://api.e-stat.go.jp/rest/3.0/app/json/getMetaInfo?'\n",
        "  url += urllib.parse.urlencode(p)\n",
        "\n",
        "  with urllib.request.urlopen(url) as response:\n",
        "    return json.loads(response.read().decode('utf-8'))\n",
        "\n",
        "meta = get_estat_meta(statsDataId)\n",
        "print(meta)"
      ],
      "metadata": {
        "id": "Qkb_XkW4ZiN8",
        "outputId": "6e1c1bb2-5f64-445a-b209-012bed387c80",
        "colab": {
          "base_uri": "https://localhost:8080/"
        }
      },
      "execution_count": 7,
      "outputs": [
        {
          "output_type": "stream",
          "name": "stdout",
          "text": [
            "{'GET_META_INFO': {'RESULT': {'STATUS': 0, 'ERROR_MSG': '正常に終了しました。', 'DATE': '2022-09-15T09:50:30.889+09:00'}, 'PARAMETER': {'LANG': 'J', 'STATS_DATA_ID': '0000010101', 'DATA_FORMAT': 'J'}, 'METADATA_INF': {'TABLE_INF': {'@id': '0000010101', 'STAT_NAME': {'@code': '00200502', '$': '社会・人口統計体系'}, 'GOV_ORG': {'@code': '00200', '$': '総務省'}, 'STATISTICS_NAME': '都道府県データ 基礎データ', 'TITLE': {'@no': '0000010101', '$': 'Ａ\\u3000人口・世帯'}, 'CYCLE': '年度次', 'SURVEY_DATE': 0, 'OPEN_DATE': '2022-03-04', 'SMALL_AREA': 0, 'COLLECT_AREA': '全国', 'MAIN_CATEGORY': {'@code': '99', '$': 'その他'}, 'SUB_CATEGORY': {'@code': '99', '$': 'その他'}, 'OVERALL_TOTAL_NUMBER': 500976, 'UPDATED_DATE': '2022-03-04', 'STATISTICS_NAME_SPEC': {'TABULATION_CATEGORY': '都道府県データ', 'TABULATION_SUB_CATEGORY1': '基礎データ'}, 'DESCRIPTION': {'TABULATION_CATEGORY_EXPLANATION': '社会・人口統計体系の都道府県ごとに集計したデータを提供します。'}, 'TITLE_SPEC': {'TABLE_NAME': 'Ａ\\u3000人口・世帯'}}, 'CLASS_INF': {'CLASS_OBJ': [{'@id': 'tab', '@name': '観測値', 'CLASS': {'@code': '00001', '@name': '観測値', '@level': '1'}}, {'@id': 'cat01', '@name': 'Ａ\\u3000人口・世帯', 'CLASS': [{'@code': 'A1101', '@name': 'A1101_総人口', '@level': '1', '@unit': '人'}, {'@code': 'A110101', '@name': 'A110101_総人口（男）', '@level': '1', '@unit': '人'}, {'@code': 'A110102', '@name': 'A110102_総人口（女）', '@level': '1', '@unit': '人'}, {'@code': 'A1102', '@name': 'A1102_日本人人口', '@level': '1', '@unit': '人'}, {'@code': 'A110201', '@name': 'A110201_日本人人口（男）', '@level': '1', '@unit': '人'}, {'@code': 'A110202', '@name': 'A110202_日本人人口（女）', '@level': '1', '@unit': '人'}, {'@code': 'A1201', '@name': 'A1201_0～4歳人口', '@level': '1', '@unit': '人'}, {'@code': 'A120101', '@name': 'A120101_0～4歳人口（男）', '@level': '1', '@unit': '人'}, {'@code': 'A120102', '@name': 'A120102_0～4歳人口（女）', '@level': '1', '@unit': '人'}, {'@code': 'A1202', '@name': 'A1202_5～9歳人口', '@level': '1', '@unit': '人'}, {'@code': 'A120201', '@name': 'A120201_5～9歳人口（男）', '@level': '1', '@unit': '人'}, {'@code': 'A120202', '@name': 'A120202_5～9歳人口（女）', '@level': '1', '@unit': '人'}, {'@code': 'A1203', '@name': 'A1203_10～14歳人口', '@level': '1', '@unit': '人'}, {'@code': 'A120301', '@name': 'A120301_10～14歳人口（男）', '@level': '1', '@unit': '人'}, {'@code': 'A120302', '@name': 'A120302_10～14歳人口（女）', '@level': '1', '@unit': '人'}, {'@code': 'A1204', '@name': 'A1204_15～19歳人口', '@level': '1', '@unit': '人'}, {'@code': 'A120401', '@name': 'A120401_15～19歳人口（男）', '@level': '1', '@unit': '人'}, {'@code': 'A120402', '@name': 'A120402_15～19歳人口（女）', '@level': '1', '@unit': '人'}, {'@code': 'A1205', '@name': 'A1205_20～24歳人口', '@level': '1', '@unit': '人'}, {'@code': 'A120501', '@name': 'A120501_20～24歳人口（男）', '@level': '1', '@unit': '人'}, {'@code': 'A120502', '@name': 'A120502_20～24歳人口（女）', '@level': '1', '@unit': '人'}, {'@code': 'A1206', '@name': 'A1206_25～29歳人口', '@level': '1', '@unit': '人'}, {'@code': 'A120601', '@name': 'A120601_25～29歳人口（男）', '@level': '1', '@unit': '人'}, {'@code': 'A120602', '@name': 'A120602_25～29歳人口（女）', '@level': '1', '@unit': '人'}, {'@code': 'A1207', '@name': 'A1207_30～34歳人口', '@level': '1', '@unit': '人'}, {'@code': 'A120701', '@name': 'A120701_30～34歳人口（男）', '@level': '1', '@unit': '人'}, {'@code': 'A120702', '@name': 'A120702_30～34歳人口（女）', '@level': '1', '@unit': '人'}, {'@code': 'A1208', '@name': 'A1208_35～39歳人口', '@level': '1', '@unit': '人'}, {'@code': 'A120801', '@name': 'A120801_35～39歳人口（男）', '@level': '1', '@unit': '人'}, {'@code': 'A120802', '@name': 'A120802_35～39歳人口（女）', '@level': '1', '@unit': '人'}, {'@code': 'A1209', '@name': 'A1209_40～44歳人口', '@level': '1', '@unit': '人'}, {'@code': 'A120901', '@name': 'A120901_40～44歳人口（男）', '@level': '1', '@unit': '人'}, {'@code': 'A120902', '@name': 'A120902_40～44歳人口（女）', '@level': '1', '@unit': '人'}, {'@code': 'A1210', '@name': 'A1210_45～49歳人口', '@level': '1', '@unit': '人'}, {'@code': 'A121001', '@name': 'A121001_45～49歳人口（男）', '@level': '1', '@unit': '人'}, {'@code': 'A121002', '@name': 'A121002_45～49歳人口（女）', '@level': '1', '@unit': '人'}, {'@code': 'A1211', '@name': 'A1211_50～54歳人口', '@level': '1', '@unit': '人'}, {'@code': 'A121101', '@name': 'A121101_50～54歳人口（男）', '@level': '1', '@unit': '人'}, {'@code': 'A121102', '@name': 'A121102_50～54歳人口（女）', '@level': '1', '@unit': '人'}, {'@code': 'A1212', '@name': 'A1212_55～59歳人口', '@level': '1', '@unit': '人'}, {'@code': 'A121201', '@name': 'A121201_55～59歳人口（男）', '@level': '1', '@unit': '人'}, {'@code': 'A121202', '@name': 'A121202_55～59歳人口（女）', '@level': '1', '@unit': '人'}, {'@code': 'A1213', '@name': 'A1213_60～64歳人口', '@level': '1', '@unit': '人'}, {'@code': 'A121301', '@name': 'A121301_60～64歳人口（男）', '@level': '1', '@unit': '人'}, {'@code': 'A121302', '@name': 'A121302_60～64歳人口（女）', '@level': '1', '@unit': '人'}, {'@code': 'A1214', '@name': 'A1214_65～69歳人口', '@level': '1', '@unit': '人'}, {'@code': 'A121401', '@name': 'A121401_65～69歳人口（男）', '@level': '1', '@unit': '人'}, {'@code': 'A121402', '@name': 'A121402_65～69歳人口（女）', '@level': '1', '@unit': '人'}, {'@code': 'A1215', '@name': 'A1215_70～74歳人口', '@level': '1', '@unit': '人'}, {'@code': 'A121501', '@name': 'A121501_70～74歳人口（男）', '@level': '1', '@unit': '人'}, {'@code': 'A121502', '@name': 'A121502_70～74歳人口（女）', '@level': '1', '@unit': '人'}, {'@code': 'A1216', '@name': 'A1216_75～79歳人口', '@level': '1', '@unit': '人'}, {'@code': 'A121601', '@name': 'A121601_75～79歳人口（男）', '@level': '1', '@unit': '人'}, {'@code': 'A121602', '@name': 'A121602_75～79歳人口（女）', '@level': '1', '@unit': '人'}, {'@code': 'A1217', '@name': 'A1217_80～84歳人口', '@level': '1', '@unit': '人'}, {'@code': 'A121701', '@name': 'A121701_80～84歳人口（男）', '@level': '1', '@unit': '人'}, {'@code': 'A121702', '@name': 'A121702_80～84歳人口（女）', '@level': '1', '@unit': '人'}, {'@code': 'A1218', '@name': 'A1218_85～89歳人口', '@level': '1', '@unit': '人'}, {'@code': 'A121801', '@name': 'A121801_85～89歳人口（男）', '@level': '1', '@unit': '人'}, {'@code': 'A121802', '@name': 'A121802_85～89歳人口（女）', '@level': '1', '@unit': '人'}, {'@code': 'A1219', '@name': 'A1219_90～94歳人口', '@level': '1', '@unit': '人'}, {'@code': 'A121901', '@name': 'A121901_90～94歳人口（男）', '@level': '1', '@unit': '人'}, {'@code': 'A121902', '@name': 'A121902_90～94歳人口（女）', '@level': '1', '@unit': '人'}, {'@code': 'A1220', '@name': 'A1220_95～99歳人口', '@level': '1', '@unit': '人'}, {'@code': 'A122001', '@name': 'A122001_95～99歳人口（男）', '@level': '1', '@unit': '人'}, {'@code': 'A122002', '@name': 'A122002_95～99歳人口（女）', '@level': '1', '@unit': '人'}, {'@code': 'A1221', '@name': 'A1221_100歳以上人口', '@level': '1', '@unit': '人'}, {'@code': 'A122101', '@name': 'A122101_100歳以上人口（男）', '@level': '1', '@unit': '人'}, {'@code': 'A122102', '@name': 'A122102_100歳以上人口（女）', '@level': '1', '@unit': '人'}, {'@code': 'A1231', '@name': 'A1231_年齢中位数', '@level': '1', '@unit': '歳'}, {'@code': 'A1301', '@name': 'A1301_15歳未満人口', '@level': '1', '@unit': '人'}, {'@code': 'A130101', '@name': 'A130101_15歳未満人口（男）', '@level': '1', '@unit': '人'}, {'@code': 'A130102', '@name': 'A130102_15歳未満人口（女）', '@level': '1', '@unit': '人'}, {'@code': 'A1302', '@name': 'A1302_15～64歳人口', '@level': '1', '@unit': '人'}, {'@code': 'A130201', '@name': 'A130201_15～64歳人口（男）', '@level': '1', '@unit': '人'}, {'@code': 'A130202', '@name': 'A130202_15～64歳人口（女）', '@level': '1', '@unit': '人'}, {'@code': 'A1303', '@name': 'A1303_65歳以上人口', '@level': '1', '@unit': '人'}, {'@code': 'A130301', '@name': 'A130301_65歳以上人口（男）', '@level': '1', '@unit': '人'}, {'@code': 'A130302', '@name': 'A130302_65歳以上人口（女）', '@level': '1', '@unit': '人'}, {'@code': 'A1304', '@name': 'A1304_15歳未満人口割合', '@level': '1', '@unit': '％'}, {'@code': 'A130401', '@name': 'A130401_15歳未満人口割合（男）', '@level': '1', '@unit': '％'}, {'@code': 'A130402', '@name': 'A130402_15歳未満人口割合（女）', '@level': '1', '@unit': '％'}, {'@code': 'A1305', '@name': 'A1305_15～64歳人口割合', '@level': '1', '@unit': '％'}, {'@code': 'A130501', '@name': 'A130501_15～64歳人口割合（男）', '@level': '1', '@unit': '％'}, {'@code': 'A130502', '@name': 'A130502_15～64歳人口割合（女）', '@level': '1', '@unit': '％'}, {'@code': 'A1306', '@name': 'A1306_65歳以上人口割合', '@level': '1', '@unit': '％'}, {'@code': 'A130601', '@name': 'A130601_65歳以上人口割合（男）', '@level': '1', '@unit': '％'}, {'@code': 'A130602', '@name': 'A130602_65歳以上人口割合（女）', '@level': '1', '@unit': '％'}, {'@code': 'A1401', '@name': 'A1401_3歳人口', '@level': '1', '@unit': '人'}, {'@code': 'A140101', '@name': 'A140101_3歳人口（男）', '@level': '1', '@unit': '人'}, {'@code': 'A140102', '@name': 'A140102_3歳人口（女）', '@level': '1', '@unit': '人'}, {'@code': 'A1402', '@name': 'A1402_4歳人口', '@level': '1', '@unit': '人'}, {'@code': 'A140201', '@name': 'A140201_4歳人口（男）', '@level': '1', '@unit': '人'}, {'@code': 'A140202', '@name': 'A140202_4歳人口（女）', '@level': '1', '@unit': '人'}, {'@code': 'A1403', '@name': 'A1403_5歳人口', '@level': '1', '@unit': '人'}, {'@code': 'A140301', '@name': 'A140301_5歳人口（男）', '@level': '1', '@unit': '人'}, {'@code': 'A140302', '@name': 'A140302_5歳人口（女）', '@level': '1', '@unit': '人'}, {'@code': 'A1404', '@name': 'A1404_0～3歳人口', '@level': '1', '@unit': '人'}, {'@code': 'A140401', '@name': 'A140401_0～3歳人口（男）', '@level': '1', '@unit': '人'}, {'@code': 'A140402', '@name': 'A140402_0～3歳人口（女）', '@level': '1', '@unit': '人'}, {'@code': 'A1405', '@name': 'A1405_0～5歳人口', '@level': '1', '@unit': '人'}, {'@code': 'A140501', '@name': 'A140501_0～5歳人口（男）', '@level': '1', '@unit': '人'}, {'@code': 'A140502', '@name': 'A140502_0～5歳人口（女）', '@level': '1', '@unit': '人'}, {'@code': 'A1406', '@name': 'A1406_0～15歳人口', '@level': '1', '@unit': '人'}, {'@code': 'A140601', '@name': 'A140601_0～15歳人口（男）', '@level': '1', '@unit': '人'}, {'@code': 'A140602', '@name': 'A140602_0～15歳人口（女）', '@level': '1', '@unit': '人'}, {'@code': 'A1407', '@name': 'A1407_0～17歳人口', '@level': '1', '@unit': '人'}, {'@code': 'A140701', '@name': 'A140701_0～17歳人口（男）', '@level': '1', '@unit': '人'}, {'@code': 'A140702', '@name': 'A140702_0～17歳人口（女）', '@level': '1', '@unit': '人'}, {'@code': 'A1408', '@name': 'A1408_3～5歳人口', '@level': '1', '@unit': '人'}, {'@code': 'A140801', '@name': 'A140801_3～5歳人口（男）', '@level': '1', '@unit': '人'}, {'@code': 'A140802', '@name': 'A140802_3～5歳人口（女）', '@level': '1', '@unit': '人'}, {'@code': 'A1409', '@name': 'A1409_6～11歳人口', '@level': '1', '@unit': '人'}, {'@code': 'A140901', '@name': 'A140901_6～11歳人口（男）', '@level': '1', '@unit': '人'}, {'@code': 'A140902', '@name': 'A140902_6～11歳人口（女）', '@level': '1', '@unit': '人'}, {'@code': 'A1410', '@name': 'A1410_10～13歳人口', '@level': '1', '@unit': '人'}, {'@code': 'A141001', '@name': 'A141001_10～13歳人口（男）', '@level': '1', '@unit': '人'}, {'@code': 'A141002', '@name': 'A141002_10～13歳人口（女）', '@level': '1', '@unit': '人'}, {'@code': 'A1411', '@name': 'A1411_12～14歳人口', '@level': '1', '@unit': '人'}, {'@code': 'A141101', '@name': 'A141101_12～14歳人口（男）', '@level': '1', '@unit': '人'}, {'@code': 'A141102', '@name': 'A141102_12～14歳人口（女）', '@level': '1', '@unit': '人'}, {'@code': 'A1412', '@name': 'A1412_14～19歳人口', '@level': '1', '@unit': '人'}, {'@code': 'A141201', '@name': 'A141201_14～19歳人口（男）', '@level': '1', '@unit': '人'}, {'@code': 'A141202', '@name': 'A141202_14～19歳人口（女）', '@level': '1', '@unit': '人'}, {'@code': 'A1413', '@name': 'A1413_15～17歳人口', '@level': '1', '@unit': '人'}, {'@code': 'A141301', '@name': 'A141301_15～17歳人口（男）', '@level': '1', '@unit': '人'}, {'@code': 'A141302', '@name': 'A141302_15～17歳人口（女）', '@level': '1', '@unit': '人'}, {'@code': 'A1414', '@name': 'A1414_15歳以上人口', '@level': '1', '@unit': '人'}, {'@code': 'A141401', '@name': 'A141401_15歳以上人口（男）', '@level': '1', '@unit': '人'}, {'@code': 'A141402', '@name': 'A141402_15歳以上人口（女）', '@level': '1', '@unit': '人'}, {'@code': 'A1415', '@name': 'A1415_40歳以上人口', '@level': '1', '@unit': '人'}, {'@code': 'A141501', '@name': 'A141501_40歳以上人口（男）', '@level': '1', '@unit': '人'}, {'@code': 'A141502', '@name': 'A141502_40歳以上人口（女）', '@level': '1', '@unit': '人'}, {'@code': 'A1416', '@name': 'A1416_60歳以上人口', '@level': '1', '@unit': '人'}, {'@code': 'A141601', '@name': 'A141601_60歳以上人口（男）', '@level': '1', '@unit': '人'}, {'@code': 'A141602', '@name': 'A141602_60歳以上人口（女）', '@level': '1', '@unit': '人'}, {'@code': 'A1417', '@name': 'A1417_70歳以上人口', '@level': '1', '@unit': '人'}, {'@code': 'A141701', '@name': 'A141701_70歳以上人口（男）', '@level': '1', '@unit': '人'}, {'@code': 'A141702', '@name': 'A141702_70歳以上人口（女）', '@level': '1', '@unit': '人'}, {'@code': 'A1418', '@name': 'A1418_80歳以上人口', '@level': '1', '@unit': '人'}, {'@code': 'A141801', '@name': 'A141801_80歳以上人口（男）', '@level': '1', '@unit': '人'}, {'@code': 'A141802', '@name': 'A141802_80歳以上人口（女）', '@level': '1', '@unit': '人'}, {'@code': 'A1419', '@name': 'A1419_75歳以上人口', '@level': '1', '@unit': '人'}, {'@code': 'A141901', '@name': 'A141901_75歳以上人口（男）', '@level': '1', '@unit': '人'}, {'@code': 'A141902', '@name': 'A141902_75歳以上人口（女）', '@level': '1', '@unit': '人'}, {'@code': 'A1420', '@name': 'A1420_85歳以上人口', '@level': '1', '@unit': '人'}, {'@code': 'A142001', '@name': 'A142001_85歳以上人口（男）', '@level': '1', '@unit': '人'}, {'@code': 'A142002', '@name': 'A142002_85歳以上人口（女）', '@level': '1', '@unit': '人'}, {'@code': 'A1501', '@name': 'A1501_－1歳人口', '@level': '1', '@unit': '人'}, {'@code': 'A1502', '@name': 'A1502_0歳人口', '@level': '1', '@unit': '人'}, {'@code': 'A150201', '@name': 'A150201_0歳人口（男）', '@level': '1', '@unit': '人'}, {'@code': 'A150202', '@name': 'A150202_0歳人口（女）', '@level': '1', '@unit': '人'}, {'@code': 'A1503', '@name': 'A1503_1歳人口', '@level': '1', '@unit': '人'}, {'@code': 'A150301', '@name': 'A150301_1歳人口（男）', '@level': '1', '@unit': '人'}, {'@code': 'A150302', '@name': 'A150302_1歳人口（女）', '@level': '1', '@unit': '人'}, {'@code': 'A1504', '@name': 'A1504_2歳人口', '@level': '1', '@unit': '人'}, {'@code': 'A150401', '@name': 'A150401_2歳人口（男）', '@level': '1', '@unit': '人'}, {'@code': 'A150402', '@name': 'A150402_2歳人口（女）', '@level': '1', '@unit': '人'}, {'@code': 'A1505', '@name': 'A1505_6歳人口', '@level': '1', '@unit': '人'}, {'@code': 'A150501', '@name': 'A150501_6歳人口（男）', '@level': '1', '@unit': '人'}, {'@code': 'A150502', '@name': 'A150502_6歳人口（女）', '@level': '1', '@unit': '人'}, {'@code': 'A1506', '@name': 'A1506_7歳人口', '@level': '1', '@unit': '人'}, {'@code': 'A150601', '@name': 'A150601_7歳人口（男）', '@level': '1', '@unit': '人'}, {'@code': 'A150602', '@name': 'A150602_7歳人口（女）', '@level': '1', '@unit': '人'}, {'@code': 'A1507', '@name': 'A1507_8歳人口', '@level': '1', '@unit': '人'}, {'@code': 'A150701', '@name': 'A150701_8歳人口（男）', '@level': '1', '@unit': '人'}, {'@code': 'A150702', '@name': 'A150702_8歳人口（女）', '@level': '1', '@unit': '人'}, {'@code': 'A1508', '@name': 'A1508_9歳人口', '@level': '1', '@unit': '人'}, {'@code': 'A150801', '@name': 'A150801_9歳人口（男）', '@level': '1', '@unit': '人'}, {'@code': 'A150802', '@name': 'A150802_9歳人口（女）', '@level': '1', '@unit': '人'}, {'@code': 'A1509', '@name': 'A1509_10歳人口', '@level': '1', '@unit': '人'}, {'@code': 'A150901', '@name': 'A150901_10歳人口（男）', '@level': '1', '@unit': '人'}, {'@code': 'A150902', '@name': 'A150902_10歳人口（女）', '@level': '1', '@unit': '人'}, {'@code': 'A1510', '@name': 'A1510_11歳人口', '@level': '1', '@unit': '人'}, {'@code': 'A151001', '@name': 'A151001_11歳人口（男）', '@level': '1', '@unit': '人'}, {'@code': 'A151002', '@name': 'A151002_11歳人口（女）', '@level': '1', '@unit': '人'}, {'@code': 'A1511', '@name': 'A1511_12歳人口', '@level': '1', '@unit': '人'}, {'@code': 'A151101', '@name': 'A151101_12歳人口（男）', '@level': '1', '@unit': '人'}, {'@code': 'A151102', '@name': 'A151102_12歳人口（女）', '@level': '1', '@unit': '人'}, {'@code': 'A1512', '@name': 'A1512_13歳人口', '@level': '1', '@unit': '人'}, {'@code': 'A151201', '@name': 'A151201_13歳人口（男）', '@level': '1', '@unit': '人'}, {'@code': 'A151202', '@name': 'A151202_13歳人口（女）', '@level': '1', '@unit': '人'}, {'@code': 'A1513', '@name': 'A1513_14歳人口', '@level': '1', '@unit': '人'}, {'@code': 'A151301', '@name': 'A151301_14歳人口（男）', '@level': '1', '@unit': '人'}, {'@code': 'A151302', '@name': 'A151302_14歳人口（女）', '@level': '1', '@unit': '人'}, {'@code': 'A1514', '@name': 'A1514_15歳人口', '@level': '1', '@unit': '人'}, {'@code': 'A151401', '@name': 'A151401_15歳人口（男）', '@level': '1', '@unit': '人'}, {'@code': 'A151402', '@name': 'A151402_15歳人口（女）', '@level': '1', '@unit': '人'}, {'@code': 'A1515', '@name': 'A1515_16歳人口', '@level': '1', '@unit': '人'}, {'@code': 'A151501', '@name': 'A151501_16歳人口（男）', '@level': '1', '@unit': '人'}, {'@code': 'A151502', '@name': 'A151502_16歳人口（女）', '@level': '1', '@unit': '人'}, {'@code': 'A1516', '@name': 'A1516_17歳人口', '@level': '1', '@unit': '人'}, {'@code': 'A151601', '@name': 'A151601_17歳人口（男）', '@level': '1', '@unit': '人'}, {'@code': 'A151602', '@name': 'A151602_17歳人口（女）', '@level': '1', '@unit': '人'}, {'@code': 'A1517', '@name': 'A1517_18歳人口', '@level': '1', '@unit': '人'}, {'@code': 'A151701', '@name': 'A151701_18歳人口（男）', '@level': '1', '@unit': '人'}, {'@code': 'A151702', '@name': 'A151702_18歳人口（女）', '@level': '1', '@unit': '人'}, {'@code': 'A1601001', '@name': 'A1601001_未婚人口（15歳以上）（男）', '@level': '1', '@unit': '人'}, {'@code': 'A1601002', '@name': 'A1601002_未婚人口（15歳以上）（女）', '@level': '1', '@unit': '人'}, {'@code': 'A1601011', '@name': 'A1601011_未婚人口（15～19歳）（男）', '@level': '1', '@unit': '人'}, {'@code': 'A1601012', '@name': 'A1601012_未婚人口（15～19歳）（女）', '@level': '1', '@unit': '人'}, {'@code': 'A1601021', '@name': 'A1601021_未婚人口（20～24歳）（男）', '@level': '1', '@unit': '人'}, {'@code': 'A1601022', '@name': 'A1601022_未婚人口（20～24歳）（女）', '@level': '1', '@unit': '人'}, {'@code': 'A1601031', '@name': 'A1601031_未婚人口（25～29歳）（男）', '@level': '1', '@unit': '人'}, {'@code': 'A1601032', '@name': 'A1601032_未婚人口（25～29歳）（女）', '@level': '1', '@unit': '人'}, {'@code': 'A1601041', '@name': 'A1601041_未婚人口（30～34歳）（男）', '@level': '1', '@unit': '人'}, {'@code': 'A1601042', '@name': 'A1601042_未婚人口（30～34歳）（女）', '@level': '1', '@unit': '人'}, {'@code': 'A1601051', '@name': 'A1601051_未婚人口（35～39歳）（男）', '@level': '1', '@unit': '人'}, {'@code': 'A1601052', '@name': 'A1601052_未婚人口（35～39歳）（女）', '@level': '1', '@unit': '人'}, {'@code': 'A1601061', '@name': 'A1601061_未婚人口（40～44歳）（男）', '@level': '1', '@unit': '人'}, {'@code': 'A1601062', '@name': 'A1601062_未婚人口（40～44歳）（女）', '@level': '1', '@unit': '人'}, {'@code': 'A1601071', '@name': 'A1601071_未婚人口（45～49歳）（男）', '@level': '1', '@unit': '人'}, {'@code': 'A1601072', '@name': 'A1601072_未婚人口（45～49歳）（女）', '@level': '1', '@unit': '人'}, {'@code': 'A1601081', '@name': 'A1601081_未婚人口（50～54歳）（男）', '@level': '1', '@unit': '人'}, {'@code': 'A1601082', '@name': 'A1601082_未婚人口（50～54歳）（女）', '@level': '1', '@unit': '人'}, {'@code': 'A1601091', '@name': 'A1601091_未婚人口（55～59歳）（男）', '@level': '1', '@unit': '人'}, {'@code': 'A1601092', '@name': 'A1601092_未婚人口（55～59歳）（女）', '@level': '1', '@unit': '人'}, {'@code': 'A1601101', '@name': 'A1601101_未婚人口（60～64歳）（男）', '@level': '1', '@unit': '人'}, {'@code': 'A1601102', '@name': 'A1601102_未婚人口（60～64歳）（女）', '@level': '1', '@unit': '人'}, {'@code': 'A1601111', '@name': 'A1601111_未婚人口（65～69歳）（男）', '@level': '1', '@unit': '人'}, {'@code': 'A1601112', '@name': 'A1601112_未婚人口（65～69歳）（女）', '@level': '1', '@unit': '人'}, {'@code': 'A1601121', '@name': 'A1601121_未婚人口（70～74歳）（男）', '@level': '1', '@unit': '人'}, {'@code': 'A1601122', '@name': 'A1601122_未婚人口（70～74歳）（女）', '@level': '1', '@unit': '人'}, {'@code': 'A1601131', '@name': 'A1601131_未婚人口（75～79歳）（男）', '@level': '1', '@unit': '人'}, {'@code': 'A1601132', '@name': 'A1601132_未婚人口（75～79歳）（女）', '@level': '1', '@unit': '人'}, {'@code': 'A1601141', '@name': 'A1601141_未婚人口（80～84歳）（男）', '@level': '1', '@unit': '人'}, {'@code': 'A1601142', '@name': 'A1601142_未婚人口（80～84歳）（女）', '@level': '1', '@unit': '人'}, {'@code': 'A1601151', '@name': 'A1601151_未婚人口（85歳以上）（男）', '@level': '1', '@unit': '人'}, {'@code': 'A1601152', '@name': 'A1601152_未婚人口（85歳以上）（女）', '@level': '1', '@unit': '人'}, {'@code': 'A1602001', '@name': 'A1602001_有配偶人口（15歳以上）（男）', '@level': '1', '@unit': '人'}, {'@code': 'A1602002', '@name': 'A1602002_有配偶人口（15歳以上）（女）', '@level': '1', '@unit': '人'}, {'@code': 'A1602021', '@name': 'A1602021_有配偶人口（20～24歳）（男）', '@level': '1', '@unit': '人'}, {'@code': 'A1602022', '@name': 'A1602022_有配偶人口（20～24歳）（女）', '@level': '1', '@unit': '人'}, {'@code': 'A1602031', '@name': 'A1602031_有配偶人口（25～29歳）（男）', '@level': '1', '@unit': '人'}, {'@code': 'A1602032', '@name': 'A1602032_有配偶人口（25～29歳）（女）', '@level': '1', '@unit': '人'}, {'@code': 'A1602041', '@name': 'A1602041_有配偶人口（30～34歳）（男）', '@level': '1', '@unit': '人'}, {'@code': 'A1602042', '@name': 'A1602042_有配偶人口（30～34歳）（女）', '@level': '1', '@unit': '人'}, {'@code': 'A1602051', '@name': 'A1602051_有配偶人口（35～39歳）（男）', '@level': '1', '@unit': '人'}, {'@code': 'A1602052', '@name': 'A1602052_有配偶人口（35～39歳）（女）', '@level': '1', '@unit': '人'}, {'@code': 'A1602061', '@name': 'A1602061_有配偶人口（40～44歳）（男）', '@level': '1', '@unit': '人'}, {'@code': 'A1602062', '@name': 'A1602062_有配偶人口（40～44歳）（女）', '@level': '1', '@unit': '人'}, {'@code': 'A1602071', '@name': 'A1602071_有配偶人口（45～49歳）（男）', '@level': '1', '@unit': '人'}, {'@code': 'A1602072', '@name': 'A1602072_有配偶人口（45～49歳）（女）', '@level': '1', '@unit': '人'}, {'@code': 'A1602081', '@name': 'A1602081_有配偶人口（50～54歳）（男）', '@level': '1', '@unit': '人'}, {'@code': 'A1602082', '@name': 'A1602082_有配偶人口（50～54歳）（女）', '@level': '1', '@unit': '人'}, {'@code': 'A1602091', '@name': 'A1602091_有配偶人口（55～59歳）（男）', '@level': '1', '@unit': '人'}, {'@code': 'A1602092', '@name': 'A1602092_有配偶人口（55～59歳）（女）', '@level': '1', '@unit': '人'}, {'@code': 'A1602101', '@name': 'A1602101_有配偶人口（60～64歳）（男）', '@level': '1', '@unit': '人'}, {'@code': 'A1602102', '@name': 'A1602102_有配偶人口（60～64歳）（女）', '@level': '1', '@unit': '人'}, {'@code': 'A1602111', '@name': 'A1602111_有配偶人口（65～69歳）（男）', '@level': '1', '@unit': '人'}, {'@code': 'A1602112', '@name': 'A1602112_有配偶人口（65～69歳）（女）', '@level': '1', '@unit': '人'}, {'@code': 'A1602121', '@name': 'A1602121_有配偶人口（70～74歳）（男）', '@level': '1', '@unit': '人'}, {'@code': 'A1602122', '@name': 'A1602122_有配偶人口（70～74歳）（女）', '@level': '1', '@unit': '人'}, {'@code': 'A1602131', '@name': 'A1602131_有配偶人口（75～79歳）（男）', '@level': '1', '@unit': '人'}, {'@code': 'A1602132', '@name': 'A1602132_有配偶人口（75～79歳）（女）', '@level': '1', '@unit': '人'}, {'@code': 'A1602141', '@name': 'A1602141_有配偶人口（80～84歳）（男）', '@level': '1', '@unit': '人'}, {'@code': 'A1602142', '@name': 'A1602142_有配偶人口（80～84歳）（女）', '@level': '1', '@unit': '人'}, {'@code': 'A1602151', '@name': 'A1602151_有配偶人口（85歳以上）（男）', '@level': '1', '@unit': '人'}, {'@code': 'A1602152', '@name': 'A1602152_有配偶人口（85歳以上）（女）', '@level': '1', '@unit': '人'}, {'@code': 'A1603001', '@name': 'A1603001_死別人口（15歳以上）（男）', '@level': '1', '@unit': '人'}, {'@code': 'A1603002', '@name': 'A1603002_死別人口（15歳以上）（女）', '@level': '1', '@unit': '人'}, {'@code': 'A1603031', '@name': 'A1603031_死別人口（25～29歳）（男）', '@level': '1', '@unit': '人'}, {'@code': 'A1603032', '@name': 'A1603032_死別人口（25～29歳）（女）', '@level': '1', '@unit': '人'}, {'@code': 'A1603041', '@name': 'A1603041_死別人口（30～34歳）（男）', '@level': '1', '@unit': '人'}, {'@code': 'A1603042', '@name': 'A1603042_死別人口（30～34歳）（女）', '@level': '1', '@unit': '人'}, {'@code': 'A1603051', '@name': 'A1603051_死別人口（35～39歳）（男）', '@level': '1', '@unit': '人'}, {'@code': 'A1603052', '@name': 'A1603052_死別人口（35～39歳）（女）', '@level': '1', '@unit': '人'}, {'@code': 'A1603061', '@name': 'A1603061_死別人口（40～44歳）（男）', '@level': '1', '@unit': '人'}, {'@code': 'A1603062', '@name': 'A1603062_死別人口（40～44歳）（女）', '@level': '1', '@unit': '人'}, {'@code': 'A1603071', '@name': 'A1603071_死別人口（45～49歳）（男）', '@level': '1', '@unit': '人'}, {'@code': 'A1603072', '@name': 'A1603072_死別人口（45～49歳）（女）', '@level': '1', '@unit': '人'}, {'@code': 'A1603081', '@name': 'A1603081_死別人口（50～54歳）（男）', '@level': '1', '@unit': '人'}, {'@code': 'A1603082', '@name': 'A1603082_死別人口（50～54歳）（女）', '@level': '1', '@unit': '人'}, {'@code': 'A1603091', '@name': 'A1603091_死別人口（55～59歳）（男）', '@level': '1', '@unit': '人'}, {'@code': 'A1603092', '@name': 'A1603092_死別人口（55～59歳）（女）', '@level': '1', '@unit': '人'}, {'@code': 'A1603101', '@name': 'A1603101_死別人口（60～64歳）（男）', '@level': '1', '@unit': '人'}, {'@code': 'A1603102', '@name': 'A1603102_死別人口（60～64歳）（女）', '@level': '1', '@unit': '人'}, {'@code': 'A1603111', '@name': 'A1603111_死別人口（65～69歳）（男）', '@level': '1', '@unit': '人'}, {'@code': 'A1603112', '@name': 'A1603112_死別人口（65～69歳）（女）', '@level': '1', '@unit': '人'}, {'@code': 'A1603121', '@name': 'A1603121_死別人口（70～74歳）（男）', '@level': '1', '@unit': '人'}, {'@code': 'A1603122', '@name': 'A1603122_死別人口（70～74歳）（女）', '@level': '1', '@unit': '人'}, {'@code': 'A1603131', '@name': 'A1603131_死別人口（75～79歳）（男）', '@level': '1', '@unit': '人'}, {'@code': 'A1603132', '@name': 'A1603132_死別人口（75～79歳）（女）', '@level': '1', '@unit': '人'}, {'@code': 'A1603141', '@name': 'A1603141_死別人口（80～84歳）（男）', '@level': '1', '@unit': '人'}, {'@code': 'A1603142', '@name': 'A1603142_死別人口（80～84歳）（女）', '@level': '1', '@unit': '人'}, {'@code': 'A1603151', '@name': 'A1603151_死別人口（85歳以上）（男）', '@level': '1', '@unit': '人'}, {'@code': 'A1603152', '@name': 'A1603152_死別人口（85歳以上）（女）', '@level': '1', '@unit': '人'}, {'@code': 'A1603201', '@name': 'A1603201_死別人口（60歳以上）（男）', '@level': '1', '@unit': '人'}, {'@code': 'A1603202', '@name': 'A1603202_死別人口（60歳以上）（女）', '@level': '1', '@unit': '人'}, {'@code': 'A1604001', '@name': 'A1604001_離別人口（15歳以上）（男）', '@level': '1', '@unit': '人'}, {'@code': 'A1604002', '@name': 'A1604002_離別人口（15歳以上）（女）', '@level': '1', '@unit': '人'}, {'@code': 'A1604011', '@name': 'A1604011_離別人口（15～19歳）（男）', '@level': '1', '@unit': '人'}, {'@code': 'A1604012', '@name': 'A1604012_離別人口（15～19歳）（女）', '@level': '1', '@unit': '人'}, {'@code': 'A1604021', '@name': 'A1604021_離別人口（20～24歳）（男）', '@level': '1', '@unit': '人'}, {'@code': 'A1604022', '@name': 'A1604022_離別人口（20～24歳）（女）', '@level': '1', '@unit': '人'}, {'@code': 'A1604031', '@name': 'A1604031_離別人口（25～29歳）（男）', '@level': '1', '@unit': '人'}, {'@code': 'A1604032', '@name': 'A1604032_離別人口（25～29歳）（女）', '@level': '1', '@unit': '人'}, {'@code': 'A1604041', '@name': 'A1604041_離別人口（30～34歳）（男）', '@level': '1', '@unit': '人'}, {'@code': 'A1604042', '@name': 'A1604042_離別人口（30～34歳）（女）', '@level': '1', '@unit': '人'}, {'@code': 'A1604051', '@name': 'A1604051_離別人口（35～39歳）（男）', '@level': '1', '@unit': '人'}, {'@code': 'A1604052', '@name': 'A1604052_離別人口（35～39歳）（女）', '@level': '1', '@unit': '人'}, {'@code': 'A1604061', '@name': 'A1604061_離別人口（40～44歳）（男）', '@level': '1', '@unit': '人'}, {'@code': 'A1604062', '@name': 'A1604062_離別人口（40～44歳）（女）', '@level': '1', '@unit': '人'}, {'@code': 'A1604071', '@name': 'A1604071_離別人口（45～49歳）（男）', '@level': '1', '@unit': '人'}, {'@code': 'A1604072', '@name': 'A1604072_離別人口（45～49歳）（女）', '@level': '1', '@unit': '人'}, {'@code': 'A1604081', '@name': 'A1604081_離別人口（50～54歳）（男）', '@level': '1', '@unit': '人'}, {'@code': 'A1604082', '@name': 'A1604082_離別人口（50～54歳）（女）', '@level': '1', '@unit': '人'}, {'@code': 'A1604091', '@name': 'A1604091_離別人口（55～59歳）（男）', '@level': '1', '@unit': '人'}, {'@code': 'A1604092', '@name': 'A1604092_離別人口（55～59歳）（女）', '@level': '1', '@unit': '人'}, {'@code': 'A1604101', '@name': 'A1604101_離別人口（60～64歳）（男）', '@level': '1', '@unit': '人'}, {'@code': 'A1604102', '@name': 'A1604102_離別人口（60～64歳）（女）', '@level': '1', '@unit': '人'}, {'@code': 'A1604111', '@name': 'A1604111_離別人口（65～69歳）（男）', '@level': '1', '@unit': '人'}, {'@code': 'A1604112', '@name': 'A1604112_離別人口（65～69歳）（女）', '@level': '1', '@unit': '人'}, {'@code': 'A1604121', '@name': 'A1604121_離別人口（70～74歳）（男）', '@level': '1', '@unit': '人'}, {'@code': 'A1604122', '@name': 'A1604122_離別人口（70～74歳）（女）', '@level': '1', '@unit': '人'}, {'@code': 'A1604131', '@name': 'A1604131_離別人口（75～79歳）（男）', '@level': '1', '@unit': '人'}, {'@code': 'A1604132', '@name': 'A1604132_離別人口（75～79歳）（女）', '@level': '1', '@unit': '人'}, {'@code': 'A1604141', '@name': 'A1604141_離別人口（80～84歳）（男）', '@level': '1', '@unit': '人'}, {'@code': 'A1604142', '@name': 'A1604142_離別人口（80～84歳）（女）', '@level': '1', '@unit': '人'}, {'@code': 'A1604151', '@name': 'A1604151_離別人口（85歳以上）（男）', '@level': '1', '@unit': '人'}, {'@code': 'A1604152', '@name': 'A1604152_離別人口（85歳以上）（女）', '@level': '1', '@unit': '人'}, {'@code': 'A1604201', '@name': 'A1604201_離別人口（40～49歳）（男）', '@level': '1', '@unit': '人'}, {'@code': 'A1604202', '@name': 'A1604202_離別人口（40～49歳）（女）', '@level': '1', '@unit': '人'}, {'@code': 'A1604301', '@name': 'A1604301_離別人口（50～59歳）（男）', '@level': '1', '@unit': '人'}, {'@code': 'A1604302', '@name': 'A1604302_離別人口（50～59歳）（女）', '@level': '1', '@unit': '人'}, {'@code': 'A161001', '@name': 'A161001_未婚者割合（15歳以上人口）', '@level': '1', '@unit': '％'}, {'@code': 'A1700', '@name': 'A1700_外国人人口', '@level': '1', '@unit': '人'}, {'@code': 'A170001', '@name': 'A170001_外国人人口（男）', '@level': '1', '@unit': '人'}, {'@code': 'A170002', '@name': 'A170002_外国人人口（女）', '@level': '1', '@unit': '人'}, {'@code': 'A1701', '@name': 'A1701_外国人人口（韓国・朝鮮）', '@level': '1', '@unit': '人'}, {'@code': 'A170101', '@name': 'A170101_外国人人口（韓国・朝鮮）（男）', '@level': '1', '@unit': '人'}, {'@code': 'A170102', '@name': 'A170102_外国人人口（韓国・朝鮮）（女）', '@level': '1', '@unit': '人'}, {'@code': 'A1702', '@name': 'A1702_外国人人口（中国）', '@level': '1', '@unit': '人'}, {'@code': 'A170201', '@name': 'A170201_外国人人口（中国）（男）', '@level': '1', '@unit': '人'}, {'@code': 'A170202', '@name': 'A170202_外国人人口（中国）（女）', '@level': '1', '@unit': '人'}, {'@code': 'A1703', '@name': 'A1703_外国人人口（アメリカ）', '@level': '1', '@unit': '人'}, {'@code': 'A170301', '@name': 'A170301_外国人人口（アメリカ）（男）', '@level': '1', '@unit': '人'}, {'@code': 'A170302', '@name': 'A170302_外国人人口（アメリカ）（女）', '@level': '1', '@unit': '人'}, {'@code': 'A1706', '@name': 'A1706_外国人人口（フィリピン）', '@level': '1', '@unit': '人'}, {'@code': 'A170601', '@name': 'A170601_外国人人口（フィリピン）（男）', '@level': '1', '@unit': '人'}, {'@code': 'A170602', '@name': 'A170602_外国人人口（フィリピン）（女）', '@level': '1', '@unit': '人'}, {'@code': 'A1707', '@name': 'A1707_外国人人口（ブラジル）', '@level': '1', '@unit': '人'}, {'@code': 'A170701', '@name': 'A170701_外国人人口（ブラジル）（男）', '@level': '1', '@unit': '人'}, {'@code': 'A170702', '@name': 'A170702_外国人人口（ブラジル）（女）', '@level': '1', '@unit': '人'}, {'@code': 'A1801', '@name': 'A1801_人口集中地区人口', '@level': '1', '@unit': '人'}, {'@code': 'A180101', '@name': 'A180101_人口集中地区人口（男）', '@level': '1', '@unit': '人'}, {'@code': 'A180102', '@name': 'A180102_人口集中地区人口（女）', '@level': '1', '@unit': '人'}, {'@code': 'A1802', '@name': 'A1802_人口集中地区面積', '@level': '1', '@unit': 'ｋｍ2'}, {'@code': 'A191001', '@name': 'A191001_将来推計人口（2020年）', '@level': '1', '@unit': '人'}, {'@code': 'A191002', '@name': 'A191002_将来推計人口（2025年）', '@level': '1', '@unit': '人'}, {'@code': 'A191003', '@name': 'A191003_将来推計人口（2030年）', '@level': '1', '@unit': '人'}, {'@code': 'A191004', '@name': 'A191004_将来推計人口（2035年）', '@level': '1', '@unit': '人'}, {'@code': 'A191005', '@name': 'A191005_将来推計人口（2040年）', '@level': '1', '@unit': '人'}, {'@code': 'A191006', '@name': 'A191006_将来推計人口（2045年）', '@level': '1', '@unit': '人'}, {'@code': 'A2101', '@name': 'A2101_住民基本台帳人口（日本人）', '@level': '1', '@unit': '人'}, {'@code': 'A210101', '@name': 'A210101_住民基本台帳人口（日本人）（男）', '@level': '1', '@unit': '人'}, {'@code': 'A210102', '@name': 'A210102_住民基本台帳人口（日本人）（女）', '@level': '1', '@unit': '人'}, {'@code': 'A2102', '@name': 'A2102_行政区域内人口（住民基本台帳人口＋外国人登録人口）', '@level': '1', '@unit': '人'}, {'@code': 'A2201', '@name': 'A2201_住民基本台帳人口（外国人）', '@level': '1', '@unit': '人'}, {'@code': 'A2301', '@name': 'A2301_住民基本台帳人口（総数）', '@level': '1', '@unit': '人'}, {'@code': 'A3100', '@name': 'A3100_外国人登録人口', '@level': '1', '@unit': '人'}, {'@code': 'A3101', '@name': 'A3101_外国人登録人口（アジア）', '@level': '1', '@unit': '人'}, {'@code': 'A310101', '@name': 'A310101_外国人登録人口（韓国・朝鮮）', '@level': '1', '@unit': '人'}, {'@code': 'A310102', '@name': 'A310102_外国人登録人口（中国）', '@level': '1', '@unit': '人'}, {'@code': 'A310103', '@name': 'A310103_外国人登録人口（フィリピン）', '@level': '1', '@unit': '人'}, {'@code': 'A310105', '@name': 'A310105_外国人登録人口（タイ）', '@level': '1', '@unit': '人'}, {'@code': 'A3102', '@name': 'A3102_外国人登録人口（ヨーロッパ）', '@level': '1', '@unit': '人'}, {'@code': 'A310201', '@name': 'A310201_外国人登録人口（英国）', '@level': '1', '@unit': '人'}, {'@code': 'A3103', '@name': 'A3103_外国人登録人口（北米）', '@level': '1', '@unit': '人'}, {'@code': 'A310301', '@name': 'A310301_外国人登録人口（米国）', '@level': '1', '@unit': '人'}, {'@code': 'A3104', '@name': 'A3104_外国人登録人口（南米）', '@level': '1', '@unit': '人'}, {'@code': 'A310401', '@name': 'A310401_外国人登録人口（ブラジル）', '@level': '1', '@unit': '人'}, {'@code': 'A310402', '@name': 'A310402_外国人登録人口（ペルー）', '@level': '1', '@unit': '人'}, {'@code': 'A3200', '@name': 'A3200_在留外国人数', '@level': '1', '@unit': '人'}, {'@code': 'A3201', '@name': 'A3201_在留外国人数（アジア）', '@level': '1', '@unit': '人'}, {'@code': 'A320101', '@name': 'A320101_在留外国人数（韓国・朝鮮）', '@level': '1', '@unit': '人'}, {'@code': 'A320102', '@name': 'A320102_在留外国人数（中国）', '@level': '1', '@unit': '人'}, {'@code': 'A320103', '@name': 'A320103_在留外国人数（韓国）', '@level': '1', '@unit': '人'}, {'@code': 'A320104', '@name': 'A320104_在留外国人数（朝鮮）', '@level': '1', '@unit': '人'}, {'@code': 'A3202', '@name': 'A3202_在留外国人数（ヨーロッパ）', '@level': '1', '@unit': '人'}, {'@code': 'A3203', '@name': 'A3203_在留外国人数（北米）', '@level': '1', '@unit': '人'}, {'@code': 'A3204', '@name': 'A3204_在留外国人数（南米）', '@level': '1', '@unit': '人'}, {'@code': 'A4101', '@name': 'A4101_出生数', '@level': '1', '@unit': '人'}, {'@code': 'A410101', '@name': 'A410101_出生数（男）', '@level': '1', '@unit': '人'}, {'@code': 'A410102', '@name': 'A410102_出生数（女）', '@level': '1', '@unit': '人'}, {'@code': 'A410201', '@name': 'A410201_出生数（母親の年齢15歳未満）', '@level': '1', '@unit': '人'}, {'@code': 'A410202', '@name': 'A410202_出生数（母親の年齢15～19歳）', '@level': '1', '@unit': '人'}, {'@code': 'A410203', '@name': 'A410203_出生数（母親の年齢20～24歳）', '@level': '1', '@unit': '人'}, {'@code': 'A410204', '@name': 'A410204_出生数（母親の年齢25～29歳）', '@level': '1', '@unit': '人'}, {'@code': 'A410205', '@name': 'A410205_出生数（母親の年齢30～34歳）', '@level': '1', '@unit': '人'}, {'@code': 'A410206', '@name': 'A410206_出生数（母親の年齢35～39歳）', '@level': '1', '@unit': '人'}, {'@code': 'A410207', '@name': 'A410207_出生数（母親の年齢40～44歳）', '@level': '1', '@unit': '人'}, {'@code': 'A410208', '@name': 'A410208_出生数（母親の年齢45～49歳）', '@level': '1', '@unit': '人'}, {'@code': 'A410209', '@name': 'A410209_出生数（母親の年齢50歳以上）', '@level': '1', '@unit': '人'}, {'@code': 'A4103', '@name': 'A4103_合計特殊出生率', '@level': '1', '@unit': '‐'}, {'@code': 'A4200', '@name': 'A4200_死亡数', '@level': '1', '@unit': '人'}, {'@code': 'A420001', '@name': 'A420001_死亡数（男）', '@level': '1', '@unit': '人'}, {'@code': 'A420002', '@name': 'A420002_死亡数（女）', '@level': '1', '@unit': '人'}, {'@code': 'A4201', '@name': 'A4201_死亡数（0～4歳）', '@level': '1', '@unit': '人'}, {'@code': 'A420101', '@name': 'A420101_死亡数（0～4歳）（男）', '@level': '1', '@unit': '人'}, {'@code': 'A420102', '@name': 'A420102_死亡数（0～4歳）（女）', '@level': '1', '@unit': '人'}, {'@code': 'A4202', '@name': 'A4202_死亡数（5～9歳）', '@level': '1', '@unit': '人'}, {'@code': 'A420201', '@name': 'A420201_死亡数（5～9歳）（男）', '@level': '1', '@unit': '人'}, {'@code': 'A420202', '@name': 'A420202_死亡数（5～9歳）（女）', '@level': '1', '@unit': '人'}, {'@code': 'A4203', '@name': 'A4203_死亡数（10～14歳）', '@level': '1', '@unit': '人'}, {'@code': 'A420301', '@name': 'A420301_死亡数（10～14歳）（男）', '@level': '1', '@unit': '人'}, {'@code': 'A420302', '@name': 'A420302_死亡数（10～14歳）（女）', '@level': '1', '@unit': '人'}, {'@code': 'A4204', '@name': 'A4204_死亡数（15～19歳）', '@level': '1', '@unit': '人'}, {'@code': 'A420401', '@name': 'A420401_死亡数（15～19歳）（男）', '@level': '1', '@unit': '人'}, {'@code': 'A420402', '@name': 'A420402_死亡数（15～19歳）（女）', '@level': '1', '@unit': '人'}, {'@code': 'A4205', '@name': 'A4205_死亡数（20～24歳）', '@level': '1', '@unit': '人'}, {'@code': 'A420501', '@name': 'A420501_死亡数（20～24歳）（男）', '@level': '1', '@unit': '人'}, {'@code': 'A420502', '@name': 'A420502_死亡数（20～24歳）（女）', '@level': '1', '@unit': '人'}, {'@code': 'A4206', '@name': 'A4206_死亡数（25～29歳）', '@level': '1', '@unit': '人'}, {'@code': 'A420601', '@name': 'A420601_死亡数（25～29歳）（男）', '@level': '1', '@unit': '人'}, {'@code': 'A420602', '@name': 'A420602_死亡数（25～29歳）（女）', '@level': '1', '@unit': '人'}, {'@code': 'A4207', '@name': 'A4207_死亡数（30～34歳）', '@level': '1', '@unit': '人'}, {'@code': 'A420701', '@name': 'A420701_死亡数（30～34歳）（男）', '@level': '1', '@unit': '人'}, {'@code': 'A420702', '@name': 'A420702_死亡数（30～34歳）（女）', '@level': '1', '@unit': '人'}, {'@code': 'A4208', '@name': 'A4208_死亡数（35～39歳）', '@level': '1', '@unit': '人'}, {'@code': 'A420801', '@name': 'A420801_死亡数（35～39歳）（男）', '@level': '1', '@unit': '人'}, {'@code': 'A420802', '@name': 'A420802_死亡数（35～39歳）（女）', '@level': '1', '@unit': '人'}, {'@code': 'A4209', '@name': 'A4209_死亡数（40～44歳）', '@level': '1', '@unit': '人'}, {'@code': 'A420901', '@name': 'A420901_死亡数（40～44歳）（男）', '@level': '1', '@unit': '人'}, {'@code': 'A420902', '@name': 'A420902_死亡数（40～44歳）（女）', '@level': '1', '@unit': '人'}, {'@code': 'A4210', '@name': 'A4210_死亡数（45～49歳）', '@level': '1', '@unit': '人'}, {'@code': 'A421001', '@name': 'A421001_死亡数（45～49歳）（男）', '@level': '1', '@unit': '人'}, {'@code': 'A421002', '@name': 'A421002_死亡数（45～49歳）（女）', '@level': '1', '@unit': '人'}, {'@code': 'A4211', '@name': 'A4211_死亡数（50～54歳）', '@level': '1', '@unit': '人'}, {'@code': 'A421101', '@name': 'A421101_死亡数（50～54歳）（男）', '@level': '1', '@unit': '人'}, {'@code': 'A421102', '@name': 'A421102_死亡数（50～54歳）（女）', '@level': '1', '@unit': '人'}, {'@code': 'A4212', '@name': 'A4212_死亡数（55～59歳）', '@level': '1', '@unit': '人'}, {'@code': 'A421201', '@name': 'A421201_死亡数（55～59歳）（男）', '@level': '1', '@unit': '人'}, {'@code': 'A421202', '@name': 'A421202_死亡数（55～59歳）（女）', '@level': '1', '@unit': '人'}, {'@code': 'A4213', '@name': 'A4213_死亡数（60～64歳）', '@level': '1', '@unit': '人'}, {'@code': 'A421301', '@name': 'A421301_死亡数（60～64歳）（男）', '@level': '1', '@unit': '人'}, {'@code': 'A421302', '@name': 'A421302_死亡数（60～64歳）（女）', '@level': '1', '@unit': '人'}, {'@code': 'A4214', '@name': 'A4214_死亡数（65～69歳）', '@level': '1', '@unit': '人'}, {'@code': 'A421401', '@name': 'A421401_死亡数（65～69歳）（男）', '@level': '1', '@unit': '人'}, {'@code': 'A421402', '@name': 'A421402_死亡数（65～69歳）（女）', '@level': '1', '@unit': '人'}, {'@code': 'A4215', '@name': 'A4215_死亡数（70～74歳）', '@level': '1', '@unit': '人'}, {'@code': 'A421501', '@name': 'A421501_死亡数（70～74歳）（男）', '@level': '1', '@unit': '人'}, {'@code': 'A421502', '@name': 'A421502_死亡数（70～74歳）（女）', '@level': '1', '@unit': '人'}, {'@code': 'A4216', '@name': 'A4216_死亡数（75～79歳）', '@level': '1', '@unit': '人'}, {'@code': 'A421601', '@name': 'A421601_死亡数（75～79歳）（男）', '@level': '1', '@unit': '人'}, {'@code': 'A421602', '@name': 'A421602_死亡数（75～79歳）（女）', '@level': '1', '@unit': '人'}, {'@code': 'A4217', '@name': 'A4217_死亡数（80～84歳）', '@level': '1', '@unit': '人'}, {'@code': 'A421701', '@name': 'A421701_死亡数（80～84歳）（男）', '@level': '1', '@unit': '人'}, {'@code': 'A421702', '@name': 'A421702_死亡数（80～84歳）（女）', '@level': '1', '@unit': '人'}, {'@code': 'A4218', '@name': 'A4218_死亡数（85～89歳）', '@level': '1', '@unit': '人'}, {'@code': 'A421801', '@name': 'A421801_死亡数（85～89歳）（男）', '@level': '1', '@unit': '人'}, {'@code': 'A421802', '@name': 'A421802_死亡数（85～89歳）（女）', '@level': '1', '@unit': '人'}, {'@code': 'A4219', '@name': 'A4219_死亡数（90～94歳）', '@level': '1', '@unit': '人'}, {'@code': 'A421901', '@name': 'A421901_死亡数（90～94歳）（男）', '@level': '1', '@unit': '人'}, {'@code': 'A421902', '@name': 'A421902_死亡数（90～94歳）（女）', '@level': '1', '@unit': '人'}, {'@code': 'A4220', '@name': 'A4220_死亡数（95～99歳）', '@level': '1', '@unit': '人'}, {'@code': 'A422001', '@name': 'A422001_死亡数（95～99歳）（男）', '@level': '1', '@unit': '人'}, {'@code': 'A422002', '@name': 'A422002_死亡数（95～99歳）（女）', '@level': '1', '@unit': '人'}, {'@code': 'A4221', '@name': 'A4221_死亡数（100歳以上）', '@level': '1', '@unit': '人'}, {'@code': 'A422101', '@name': 'A422101_死亡数（100歳以上）（男）', '@level': '1', '@unit': '人'}, {'@code': 'A422102', '@name': 'A422102_死亡数（100歳以上）（女）', '@level': '1', '@unit': '人'}, {'@code': 'A4231', '@name': 'A4231_死亡数（65歳以上）', '@level': '1', '@unit': '人'}, {'@code': 'A423101', '@name': 'A423101_死亡数（65歳以上）（男）', '@level': '1', '@unit': '人'}, {'@code': 'A423102', '@name': 'A423102_死亡数（65歳以上）（女）', '@level': '1', '@unit': '人'}, {'@code': 'A424001', '@name': 'A424001_年齢調整死亡率（男）', '@level': '1', '@unit': '‐'}, {'@code': 'A424002', '@name': 'A424002_年齢調整死亡率（女）', '@level': '1', '@unit': '‐'}, {'@code': 'A4270', '@name': 'A4270_死産数', '@level': '1', '@unit': '胎'}, {'@code': 'A427001', '@name': 'A427001_自然死産数', '@level': '1', '@unit': '胎'}, {'@code': 'A4271', '@name': 'A4271_死産数（妊娠満22週以後）', '@level': '1', '@unit': '胎'}, {'@code': 'A4272', '@name': 'A4272_早期新生児死亡数', '@level': '1', '@unit': '人'}, {'@code': 'A4280', '@name': 'A4280_新生児死亡数', '@level': '1', '@unit': '人'}, {'@code': 'A4281', '@name': 'A4281_乳児死亡数', '@level': '1', '@unit': '人'}, {'@code': 'A4301', '@name': 'A4301_標準化死亡率〔日本人〕', '@level': '1', '@unit': 'ﾊﾟｰﾐﾙ'}, {'@code': 'A5101', '@name': 'A5101_転入者数（日本人移動者）', '@level': '1', '@unit': '人'}, {'@code': 'A510101', '@name': 'A510101_転入者数（日本人移動者）（男）', '@level': '1', '@unit': '人'}, {'@code': 'A510102', '@name': 'A510102_転入者数（日本人移動者）（女）', '@level': '1', '@unit': '人'}, {'@code': 'A5102', '@name': 'A5102_転出者数（日本人移動者）', '@level': '1', '@unit': '人'}, {'@code': 'A510201', '@name': 'A510201_転出者数（日本人移動者）（男）', '@level': '1', '@unit': '人'}, {'@code': 'A510202', '@name': 'A510202_転出者数（日本人移動者）（女）', '@level': '1', '@unit': '人'}, {'@code': 'A5103', '@name': 'A5103_転入者数', '@level': '1', '@unit': '人'}, {'@code': 'A510301', '@name': 'A510301_転入者数（男）', '@level': '1', '@unit': '人'}, {'@code': 'A510302', '@name': 'A510302_転入者数（女）', '@level': '1', '@unit': '人'}, {'@code': 'A5104', '@name': 'A5104_転出者数', '@level': '1', '@unit': '人'}, {'@code': 'A510401', '@name': 'A510401_転出者数（男）', '@level': '1', '@unit': '人'}, {'@code': 'A510402', '@name': 'A510402_転出者数（女）', '@level': '1', '@unit': '人'}, {'@code': 'A5201', '@name': 'A5201_入国者数（日本人）', '@level': '1', '@unit': '人'}, {'@code': 'A520101', '@name': 'A520101_入国者数（日本人）（男）', '@level': '1', '@unit': '人'}, {'@code': 'A520102', '@name': 'A520102_入国者数（日本人）（女）', '@level': '1', '@unit': '人'}, {'@code': 'A5202', '@name': 'A5202_出国者数（日本人）', '@level': '1', '@unit': '人'}, {'@code': 'A520201', '@name': 'A520201_出国者数（日本人）（男）', '@level': '1', '@unit': '人'}, {'@code': 'A520202', '@name': 'A520202_出国者数（日本人）（女）', '@level': '1', '@unit': '人'}, {'@code': 'A5301', '@name': 'A5301_社会増減率', '@level': '1', '@unit': '‰'}, {'@code': 'A6101', '@name': 'A6101_従業も通学もしていない人口', '@level': '1', '@unit': '人'}, {'@code': 'A610101', '@name': 'A610101_従業も通学もしていない人口（男）', '@level': '1', '@unit': '人'}, {'@code': 'A610102', '@name': 'A610102_従業も通学もしていない人口（女）', '@level': '1', '@unit': '人'}, {'@code': 'A6102', '@name': 'A6102_自市区町村で従業・通学している人口', '@level': '1', '@unit': '人'}, {'@code': 'A610201', '@name': 'A610201_自市区町村で従業・通学している人口（男）', '@level': '1', '@unit': '人'}, {'@code': 'A610202', '@name': 'A610202_自市区町村で従業・通学している人口（女）', '@level': '1', '@unit': '人'}, {'@code': 'A6103', '@name': 'A6103_流出人口（県内他市区町村で従業・通学している人口）', '@level': '1', '@unit': '人'}, {'@code': 'A610301', '@name': 'A610301_流出人口（県内他市区町村で従業・通学している人口）（男）', '@level': '1', '@unit': '人'}, {'@code': 'A610302', '@name': 'A610302_流出人口（県内他市区町村で従業・通学している人口）（女）', '@level': '1', '@unit': '人'}, {'@code': 'A6104', '@name': 'A6104_流出人口（他県で従業・通学している人口）', '@level': '1', '@unit': '人'}, {'@code': 'A610401', '@name': 'A610401_流出人口（他県で従業・通学している人口）（男）', '@level': '1', '@unit': '人'}, {'@code': 'A610402', '@name': 'A610402_流出人口（他県で従業・通学している人口）（女）', '@level': '1', '@unit': '人'}, {'@code': 'A6105', '@name': 'A6105_流入人口（県内他市区町村に常住している人口）', '@level': '1', '@unit': '人'}, {'@code': 'A610501', '@name': 'A610501_流入人口（県内他市区町村に常住している人口）（男）', '@level': '1', '@unit': '人'}, {'@code': 'A610502', '@name': 'A610502_流入人口（県内他市区町村に常住している人口）（女）', '@level': '1', '@unit': '人'}, {'@code': 'A6106', '@name': 'A6106_流入人口（他県に常住している人口）', '@level': '1', '@unit': '人'}, {'@code': 'A610601', '@name': 'A610601_流入人口（他県に常住している人口）（男）', '@level': '1', '@unit': '人'}, {'@code': 'A610602', '@name': 'A610602_流入人口（他県に常住している人口）（女）', '@level': '1', '@unit': '人'}, {'@code': 'A6107', '@name': 'A6107_昼間人口', '@level': '1', '@unit': '人'}, {'@code': 'A610701', '@name': 'A610701_昼間人口（男）', '@level': '1', '@unit': '人'}, {'@code': 'A610702', '@name': 'A610702_昼間人口（女）', '@level': '1', '@unit': '人'}, {'@code': 'A6108', '@name': 'A6108_昼夜間人口比率', '@level': '1', '@unit': '％'}, {'@code': 'A7101', '@name': 'A7101_世帯数', '@level': '1', '@unit': '世帯'}, {'@code': 'A710101', '@name': 'A710101_一般世帯数', '@level': '1', '@unit': '世帯'}, {'@code': 'A710102', '@name': 'A710102_施設等の世帯数', '@level': '1', '@unit': '世帯'}, {'@code': 'A710201', '@name': 'A710201_一般世帯人員数', '@level': '1', '@unit': '人'}, {'@code': 'A710202', '@name': 'A710202_施設等の世帯人員数', '@level': '1', '@unit': '人'}, {'@code': 'A710211', '@name': 'A710211_一般世帯平均人員数', '@level': '1', '@unit': '人'}, {'@code': 'A7103', '@name': 'A7103_住民基本台帳世帯数（日本人）', '@level': '1', '@unit': '世帯'}, {'@code': 'A810101', '@name': 'A810101_親族のみの世帯数', '@level': '1', '@unit': '世帯'}, {'@code': 'A810102', '@name': 'A810102_核家族世帯数', '@level': '1', '@unit': '世帯'}, {'@code': 'A810103', '@name': 'A810103_核家族以外の世帯数', '@level': '1', '@unit': '世帯'}, {'@code': 'A810104', '@name': 'A810104_非親族を含む世帯数', '@level': '1', '@unit': '世帯'}, {'@code': 'A810105', '@name': 'A810105_単独世帯数', '@level': '1', '@unit': '世帯'}, {'@code': 'A8111', '@name': 'A8111_65歳以上の世帯員のいる世帯数', '@level': '1', '@unit': '世帯'}, {'@code': 'A811101', '@name': 'A811101_65歳以上の世帯員のいる親族のみの世帯数', '@level': '1', '@unit': '世帯'}, {'@code': 'A811102', '@name': 'A811102_65歳以上の世帯員のいる核家族世帯数', '@level': '1', '@unit': '世帯'}, {'@code': 'A811103', '@name': 'A811103_65歳以上の親族のいるその他の親族世帯数', '@level': '1', '@unit': '世帯'}, {'@code': 'A811104', '@name': 'A811104_65歳以上の親族のいる非親族世帯数', '@level': '1', '@unit': '世帯'}, {'@code': 'A811105', '@name': 'A811105_65歳以上の世帯員のいる単独世帯数', '@level': '1', '@unit': '世帯'}, {'@code': 'A8112', '@name': 'A8112_65歳以上の世帯員のいる世帯人員数', '@level': '1', '@unit': '人'}, {'@code': 'A811201', '@name': 'A811201_65歳以上の世帯員のいる親族のみの世帯人員数', '@level': '1', '@unit': '人'}, {'@code': 'A811202', '@name': 'A811202_65歳以上の世帯員のいる核家族世帯人員数', '@level': '1', '@unit': '人'}, {'@code': 'A811203', '@name': 'A811203_65歳以上の親族のいるその他の親族世帯人員数', '@level': '1', '@unit': '人'}, {'@code': 'A811204', '@name': 'A811204_65歳以上の親族のいる非親族世帯人員数', '@level': '1', '@unit': '人'}, {'@code': 'A811205', '@name': 'A811205_65歳以上の親族のいる単独世帯人員数', '@level': '1', '@unit': '人'}, {'@code': 'A8201', '@name': 'A8201_高齢夫婦世帯数（高齢夫婦のみ）', '@level': '1', '@unit': '世帯'}, {'@code': 'A8202', '@name': 'A8202_高齢夫婦世帯数（高齢夫婦と未婚の18歳未満の者）', '@level': '1', '@unit': '世帯'}, {'@code': 'A8301', '@name': 'A8301_高齢単身世帯数（65歳以上の者1人）', '@level': '1', '@unit': '世帯'}, {'@code': 'A830101', '@name': 'A830101_高齢単身世帯数（65歳以上の者1人）（男）', '@level': '1', '@unit': '世帯'}, {'@code': 'A830102', '@name': 'A830102_高齢単身世帯数（65歳以上の者1人）（女）', '@level': '1', '@unit': '世帯'}, {'@code': 'A8303', '@name': 'A8303_高齢単身世帯数（60歳以上の者1人）', '@level': '1', '@unit': '世帯'}, {'@code': 'A830301', '@name': 'A830301_高齢単身世帯数（60歳以上の者1人）（男）', '@level': '1', '@unit': '世帯'}, {'@code': 'A830302', '@name': 'A830302_高齢単身世帯数（60歳以上の者1人）（女）', '@level': '1', '@unit': '世帯'}, {'@code': 'A8401', '@name': 'A8401_母子世帯数', '@level': '1', '@unit': '世帯'}, {'@code': 'A840101', '@name': 'A840101_母子世帯数（子供が1人）', '@level': '1', '@unit': '世帯'}, {'@code': 'A840102', '@name': 'A840102_母子世帯数（子供が2人）', '@level': '1', '@unit': '世帯'}, {'@code': 'A840103', '@name': 'A840103_母子世帯数（子供が3人以上）', '@level': '1', '@unit': '世帯'}, {'@code': 'A840201', '@name': 'A840201_母子世帯数（15～24歳）', '@level': '1', '@unit': '世帯'}, {'@code': 'A840202', '@name': 'A840202_母子世帯数（25～34歳）', '@level': '1', '@unit': '世帯'}, {'@code': 'A840203', '@name': 'A840203_母子世帯数（35～44歳）', '@level': '1', '@unit': '世帯'}, {'@code': 'A840204', '@name': 'A840204_母子世帯数（45～54歳）', '@level': '1', '@unit': '世帯'}, {'@code': 'A840205', '@name': 'A840205_母子世帯数（55歳以上）', '@level': '1', '@unit': '世帯'}, {'@code': 'A8501', '@name': 'A8501_父子世帯数', '@level': '1', '@unit': '世帯'}, {'@code': 'A850101', '@name': 'A850101_父子世帯数（子供が1人）', '@level': '1', '@unit': '世帯'}, {'@code': 'A850102', '@name': 'A850102_父子世帯数（子供が2人）', '@level': '1', '@unit': '世帯'}, {'@code': 'A850103', '@name': 'A850103_父子世帯数（子供が3人以上）', '@level': '1', '@unit': '世帯'}, {'@code': 'A850201', '@name': 'A850201_父子世帯数（15～24歳）', '@level': '1', '@unit': '世帯'}, {'@code': 'A850202', '@name': 'A850202_父子世帯数（25～34歳）', '@level': '1', '@unit': '世帯'}, {'@code': 'A850203', '@name': 'A850203_父子世帯数（35～44歳）', '@level': '1', '@unit': '世帯'}, {'@code': 'A850204', '@name': 'A850204_父子世帯数（45～54歳）', '@level': '1', '@unit': '世帯'}, {'@code': 'A850205', '@name': 'A850205_父子世帯数（55歳以上）', '@level': '1', '@unit': '世帯'}, {'@code': 'A9101', '@name': 'A9101_婚姻件数', '@level': '1', '@unit': '組'}, {'@code': 'A9111', '@name': 'A9111_平均婚姻年齢（初婚の夫）', '@level': '1', '@unit': '歳'}, {'@code': 'A9112', '@name': 'A9112_平均婚姻年齢（初婚の妻）', '@level': '1', '@unit': '歳'}, {'@code': 'A9201', '@name': 'A9201_離婚件数', '@level': '1', '@unit': '組'}]}, {'@id': 'area', '@name': '地域', 'CLASS': [{'@code': '00000', '@name': '全国', '@level': '1'}, {'@code': '01000', '@name': '北海道', '@level': '2'}, {'@code': '02000', '@name': '青森県', '@level': '2'}, {'@code': '03000', '@name': '岩手県', '@level': '2'}, {'@code': '04000', '@name': '宮城県', '@level': '2'}, {'@code': '05000', '@name': '秋田県', '@level': '2'}, {'@code': '06000', '@name': '山形県', '@level': '2'}, {'@code': '07000', '@name': '福島県', '@level': '2'}, {'@code': '08000', '@name': '茨城県', '@level': '2'}, {'@code': '09000', '@name': '栃木県', '@level': '2'}, {'@code': '10000', '@name': '群馬県', '@level': '2'}, {'@code': '11000', '@name': '埼玉県', '@level': '2'}, {'@code': '12000', '@name': '千葉県', '@level': '2'}, {'@code': '13000', '@name': '東京都', '@level': '2'}, {'@code': '14000', '@name': '神奈川県', '@level': '2'}, {'@code': '15000', '@name': '新潟県', '@level': '2'}, {'@code': '16000', '@name': '富山県', '@level': '2'}, {'@code': '17000', '@name': '石川県', '@level': '2'}, {'@code': '18000', '@name': '福井県', '@level': '2'}, {'@code': '19000', '@name': '山梨県', '@level': '2'}, {'@code': '20000', '@name': '長野県', '@level': '2'}, {'@code': '21000', '@name': '岐阜県', '@level': '2'}, {'@code': '22000', '@name': '静岡県', '@level': '2'}, {'@code': '23000', '@name': '愛知県', '@level': '2'}, {'@code': '24000', '@name': '三重県', '@level': '2'}, {'@code': '25000', '@name': '滋賀県', '@level': '2'}, {'@code': '26000', '@name': '京都府', '@level': '2'}, {'@code': '27000', '@name': '大阪府', '@level': '2'}, {'@code': '28000', '@name': '兵庫県', '@level': '2'}, {'@code': '29000', '@name': '奈良県', '@level': '2'}, {'@code': '30000', '@name': '和歌山県', '@level': '2'}, {'@code': '31000', '@name': '鳥取県', '@level': '2'}, {'@code': '32000', '@name': '島根県', '@level': '2'}, {'@code': '33000', '@name': '岡山県', '@level': '2'}, {'@code': '34000', '@name': '広島県', '@level': '2'}, {'@code': '35000', '@name': '山口県', '@level': '2'}, {'@code': '36000', '@name': '徳島県', '@level': '2'}, {'@code': '37000', '@name': '香川県', '@level': '2'}, {'@code': '38000', '@name': '愛媛県', '@level': '2'}, {'@code': '39000', '@name': '高知県', '@level': '2'}, {'@code': '40000', '@name': '福岡県', '@level': '2'}, {'@code': '41000', '@name': '佐賀県', '@level': '2'}, {'@code': '42000', '@name': '長崎県', '@level': '2'}, {'@code': '43000', '@name': '熊本県', '@level': '2'}, {'@code': '44000', '@name': '大分県', '@level': '2'}, {'@code': '45000', '@name': '宮崎県', '@level': '2'}, {'@code': '46000', '@name': '鹿児島県', '@level': '2'}, {'@code': '47000', '@name': '沖縄県', '@level': '2'}]}, {'@id': 'time', '@name': '調査年', 'CLASS': [{'@code': '1975100000', '@name': '1975年度', '@level': '1'}, {'@code': '1976100000', '@name': '1976年度', '@level': '1'}, {'@code': '1977100000', '@name': '1977年度', '@level': '1'}, {'@code': '1978100000', '@name': '1978年度', '@level': '1'}, {'@code': '1979100000', '@name': '1979年度', '@level': '1'}, {'@code': '1980100000', '@name': '1980年度', '@level': '1'}, {'@code': '1981100000', '@name': '1981年度', '@level': '1'}, {'@code': '1982100000', '@name': '1982年度', '@level': '1'}, {'@code': '1983100000', '@name': '1983年度', '@level': '1'}, {'@code': '1984100000', '@name': '1984年度', '@level': '1'}, {'@code': '1985100000', '@name': '1985年度', '@level': '1'}, {'@code': '1986100000', '@name': '1986年度', '@level': '1'}, {'@code': '1987100000', '@name': '1987年度', '@level': '1'}, {'@code': '1988100000', '@name': '1988年度', '@level': '1'}, {'@code': '1989100000', '@name': '1989年度', '@level': '1'}, {'@code': '1990100000', '@name': '1990年度', '@level': '1'}, {'@code': '1991100000', '@name': '1991年度', '@level': '1'}, {'@code': '1992100000', '@name': '1992年度', '@level': '1'}, {'@code': '1993100000', '@name': '1993年度', '@level': '1'}, {'@code': '1994100000', '@name': '1994年度', '@level': '1'}, {'@code': '1995100000', '@name': '1995年度', '@level': '1'}, {'@code': '1996100000', '@name': '1996年度', '@level': '1'}, {'@code': '1997100000', '@name': '1997年度', '@level': '1'}, {'@code': '1998100000', '@name': '1998年度', '@level': '1'}, {'@code': '1999100000', '@name': '1999年度', '@level': '1'}, {'@code': '2000100000', '@name': '2000年度', '@level': '1'}, {'@code': '2001100000', '@name': '2001年度', '@level': '1'}, {'@code': '2002100000', '@name': '2002年度', '@level': '1'}, {'@code': '2003100000', '@name': '2003年度', '@level': '1'}, {'@code': '2004100000', '@name': '2004年度', '@level': '1'}, {'@code': '2005100000', '@name': '2005年度', '@level': '1'}, {'@code': '2006100000', '@name': '2006年度', '@level': '1'}, {'@code': '2007100000', '@name': '2007年度', '@level': '1'}, {'@code': '2008100000', '@name': '2008年度', '@level': '1'}, {'@code': '2009100000', '@name': '2009年度', '@level': '1'}, {'@code': '2010100000', '@name': '2010年度', '@level': '1'}, {'@code': '2011100000', '@name': '2011年度', '@level': '1'}, {'@code': '2012100000', '@name': '2012年度', '@level': '1'}, {'@code': '2013100000', '@name': '2013年度', '@level': '1'}, {'@code': '2014100000', '@name': '2014年度', '@level': '1'}, {'@code': '2015100000', '@name': '2015年度', '@level': '1'}, {'@code': '2016100000', '@name': '2016年度', '@level': '1'}, {'@code': '2017100000', '@name': '2017年度', '@level': '1'}, {'@code': '2018100000', '@name': '2018年度', '@level': '1'}, {'@code': '2019100000', '@name': '2019年度', '@level': '1'}, {'@code': '2020100000', '@name': '2020年度', '@level': '1'}]}]}}}}\n"
          ]
        }
      ]
    },
    {
      "cell_type": "markdown",
      "source": [
        "## カテゴリコード一覧"
      ],
      "metadata": {
        "id": "1VZR8CVipdYL"
      }
    },
    {
      "cell_type": "markdown",
      "source": [
        "カテゴリコード'cat01'のリストを作成する関数"
      ],
      "metadata": {
        "id": "skjQsB3hcJ0b"
      }
    },
    {
      "cell_type": "code",
      "source": [
        "def get_estat_catefory_codes(statsDataId):\n",
        "  meta= get_estat_meta(statsDataId)\n",
        " \n",
        "  # CLASS_OBJ\n",
        "  CLASS_OBJ = meta['GET_META_INFO']['METADATA_INF']['CLASS_INF']['CLASS_OBJ']\n",
        "\n",
        "  # カテゴリ一覧\n",
        "  categories = next((d for d in CLASS_OBJ if d['@id'] == 'cat01'), None)['CLASS']\n",
        "\n",
        "  # カテゴリコード一覧\n",
        "  catagory_codes = [d.get('@code') for d in categories]\n",
        "\n",
        "  return catagory_codes\n",
        "\n",
        "category_codes = get_estat_catefory_codes(statsDataId)\n",
        "print(category_codes)\n",
        "# print(len(category_codes))"
      ],
      "metadata": {
        "colab": {
          "base_uri": "https://localhost:8080/"
        },
        "id": "QLqvsnhuc20r",
        "outputId": "4b1eb1de-f3ff-4f74-d31c-8df666d33ce8"
      },
      "execution_count": 8,
      "outputs": [
        {
          "output_type": "stream",
          "name": "stdout",
          "text": [
            "['A1101', 'A110101', 'A110102', 'A1102', 'A110201', 'A110202', 'A1201', 'A120101', 'A120102', 'A1202', 'A120201', 'A120202', 'A1203', 'A120301', 'A120302', 'A1204', 'A120401', 'A120402', 'A1205', 'A120501', 'A120502', 'A1206', 'A120601', 'A120602', 'A1207', 'A120701', 'A120702', 'A1208', 'A120801', 'A120802', 'A1209', 'A120901', 'A120902', 'A1210', 'A121001', 'A121002', 'A1211', 'A121101', 'A121102', 'A1212', 'A121201', 'A121202', 'A1213', 'A121301', 'A121302', 'A1214', 'A121401', 'A121402', 'A1215', 'A121501', 'A121502', 'A1216', 'A121601', 'A121602', 'A1217', 'A121701', 'A121702', 'A1218', 'A121801', 'A121802', 'A1219', 'A121901', 'A121902', 'A1220', 'A122001', 'A122002', 'A1221', 'A122101', 'A122102', 'A1231', 'A1301', 'A130101', 'A130102', 'A1302', 'A130201', 'A130202', 'A1303', 'A130301', 'A130302', 'A1304', 'A130401', 'A130402', 'A1305', 'A130501', 'A130502', 'A1306', 'A130601', 'A130602', 'A1401', 'A140101', 'A140102', 'A1402', 'A140201', 'A140202', 'A1403', 'A140301', 'A140302', 'A1404', 'A140401', 'A140402', 'A1405', 'A140501', 'A140502', 'A1406', 'A140601', 'A140602', 'A1407', 'A140701', 'A140702', 'A1408', 'A140801', 'A140802', 'A1409', 'A140901', 'A140902', 'A1410', 'A141001', 'A141002', 'A1411', 'A141101', 'A141102', 'A1412', 'A141201', 'A141202', 'A1413', 'A141301', 'A141302', 'A1414', 'A141401', 'A141402', 'A1415', 'A141501', 'A141502', 'A1416', 'A141601', 'A141602', 'A1417', 'A141701', 'A141702', 'A1418', 'A141801', 'A141802', 'A1419', 'A141901', 'A141902', 'A1420', 'A142001', 'A142002', 'A1501', 'A1502', 'A150201', 'A150202', 'A1503', 'A150301', 'A150302', 'A1504', 'A150401', 'A150402', 'A1505', 'A150501', 'A150502', 'A1506', 'A150601', 'A150602', 'A1507', 'A150701', 'A150702', 'A1508', 'A150801', 'A150802', 'A1509', 'A150901', 'A150902', 'A1510', 'A151001', 'A151002', 'A1511', 'A151101', 'A151102', 'A1512', 'A151201', 'A151202', 'A1513', 'A151301', 'A151302', 'A1514', 'A151401', 'A151402', 'A1515', 'A151501', 'A151502', 'A1516', 'A151601', 'A151602', 'A1517', 'A151701', 'A151702', 'A1601001', 'A1601002', 'A1601011', 'A1601012', 'A1601021', 'A1601022', 'A1601031', 'A1601032', 'A1601041', 'A1601042', 'A1601051', 'A1601052', 'A1601061', 'A1601062', 'A1601071', 'A1601072', 'A1601081', 'A1601082', 'A1601091', 'A1601092', 'A1601101', 'A1601102', 'A1601111', 'A1601112', 'A1601121', 'A1601122', 'A1601131', 'A1601132', 'A1601141', 'A1601142', 'A1601151', 'A1601152', 'A1602001', 'A1602002', 'A1602021', 'A1602022', 'A1602031', 'A1602032', 'A1602041', 'A1602042', 'A1602051', 'A1602052', 'A1602061', 'A1602062', 'A1602071', 'A1602072', 'A1602081', 'A1602082', 'A1602091', 'A1602092', 'A1602101', 'A1602102', 'A1602111', 'A1602112', 'A1602121', 'A1602122', 'A1602131', 'A1602132', 'A1602141', 'A1602142', 'A1602151', 'A1602152', 'A1603001', 'A1603002', 'A1603031', 'A1603032', 'A1603041', 'A1603042', 'A1603051', 'A1603052', 'A1603061', 'A1603062', 'A1603071', 'A1603072', 'A1603081', 'A1603082', 'A1603091', 'A1603092', 'A1603101', 'A1603102', 'A1603111', 'A1603112', 'A1603121', 'A1603122', 'A1603131', 'A1603132', 'A1603141', 'A1603142', 'A1603151', 'A1603152', 'A1603201', 'A1603202', 'A1604001', 'A1604002', 'A1604011', 'A1604012', 'A1604021', 'A1604022', 'A1604031', 'A1604032', 'A1604041', 'A1604042', 'A1604051', 'A1604052', 'A1604061', 'A1604062', 'A1604071', 'A1604072', 'A1604081', 'A1604082', 'A1604091', 'A1604092', 'A1604101', 'A1604102', 'A1604111', 'A1604112', 'A1604121', 'A1604122', 'A1604131', 'A1604132', 'A1604141', 'A1604142', 'A1604151', 'A1604152', 'A1604201', 'A1604202', 'A1604301', 'A1604302', 'A161001', 'A1700', 'A170001', 'A170002', 'A1701', 'A170101', 'A170102', 'A1702', 'A170201', 'A170202', 'A1703', 'A170301', 'A170302', 'A1706', 'A170601', 'A170602', 'A1707', 'A170701', 'A170702', 'A1801', 'A180101', 'A180102', 'A1802', 'A191001', 'A191002', 'A191003', 'A191004', 'A191005', 'A191006', 'A2101', 'A210101', 'A210102', 'A2102', 'A2201', 'A2301', 'A3100', 'A3101', 'A310101', 'A310102', 'A310103', 'A310105', 'A3102', 'A310201', 'A3103', 'A310301', 'A3104', 'A310401', 'A310402', 'A3200', 'A3201', 'A320101', 'A320102', 'A320103', 'A320104', 'A3202', 'A3203', 'A3204', 'A4101', 'A410101', 'A410102', 'A410201', 'A410202', 'A410203', 'A410204', 'A410205', 'A410206', 'A410207', 'A410208', 'A410209', 'A4103', 'A4200', 'A420001', 'A420002', 'A4201', 'A420101', 'A420102', 'A4202', 'A420201', 'A420202', 'A4203', 'A420301', 'A420302', 'A4204', 'A420401', 'A420402', 'A4205', 'A420501', 'A420502', 'A4206', 'A420601', 'A420602', 'A4207', 'A420701', 'A420702', 'A4208', 'A420801', 'A420802', 'A4209', 'A420901', 'A420902', 'A4210', 'A421001', 'A421002', 'A4211', 'A421101', 'A421102', 'A4212', 'A421201', 'A421202', 'A4213', 'A421301', 'A421302', 'A4214', 'A421401', 'A421402', 'A4215', 'A421501', 'A421502', 'A4216', 'A421601', 'A421602', 'A4217', 'A421701', 'A421702', 'A4218', 'A421801', 'A421802', 'A4219', 'A421901', 'A421902', 'A4220', 'A422001', 'A422002', 'A4221', 'A422101', 'A422102', 'A4231', 'A423101', 'A423102', 'A424001', 'A424002', 'A4270', 'A427001', 'A4271', 'A4272', 'A4280', 'A4281', 'A4301', 'A5101', 'A510101', 'A510102', 'A5102', 'A510201', 'A510202', 'A5103', 'A510301', 'A510302', 'A5104', 'A510401', 'A510402', 'A5201', 'A520101', 'A520102', 'A5202', 'A520201', 'A520202', 'A5301', 'A6101', 'A610101', 'A610102', 'A6102', 'A610201', 'A610202', 'A6103', 'A610301', 'A610302', 'A6104', 'A610401', 'A610402', 'A6105', 'A610501', 'A610502', 'A6106', 'A610601', 'A610602', 'A6107', 'A610701', 'A610702', 'A6108', 'A7101', 'A710101', 'A710102', 'A710201', 'A710202', 'A710211', 'A7103', 'A810101', 'A810102', 'A810103', 'A810104', 'A810105', 'A8111', 'A811101', 'A811102', 'A811103', 'A811104', 'A811105', 'A8112', 'A811201', 'A811202', 'A811203', 'A811204', 'A811205', 'A8201', 'A8202', 'A8301', 'A830101', 'A830102', 'A8303', 'A830301', 'A830302', 'A8401', 'A840101', 'A840102', 'A840103', 'A840201', 'A840202', 'A840203', 'A840204', 'A840205', 'A8501', 'A850101', 'A850102', 'A850103', 'A850201', 'A850202', 'A850203', 'A850204', 'A850205', 'A9101', 'A9111', 'A9112', 'A9201']\n"
          ]
        }
      ]
    },
    {
      "cell_type": "markdown",
      "source": [
        "## 地域コード一覧"
      ],
      "metadata": {
        "id": "e-4vvBwxpOLs"
      }
    },
    {
      "cell_type": "markdown",
      "source": [
        "地域コード'area'のリスト一覧を作成する関数\n",
        "\n",
        "全国'00000'は除外している"
      ],
      "metadata": {
        "id": "b-1ZjOQ0iZTo"
      }
    },
    {
      "cell_type": "code",
      "source": [
        "def get_estat_area_codes(statsDataId):\n",
        "  # estat-APIのメタ情報を取得\n",
        "  meta= get_estat_meta(statsDataId)\n",
        "\n",
        "  # CLASS_OBJ\n",
        "  CLASS_OBJ = meta['GET_META_INFO']['METADATA_INF']['CLASS_INF']['CLASS_OBJ']\n",
        "\n",
        "  # 地域一覧\n",
        "  areas = next((d for d in CLASS_OBJ if d['@id'] == 'area'), None)['CLASS']\n",
        "\n",
        "  # 地域コード一覧（全国'00000'は削除）\n",
        "  area_codes = [d.get('@code') for d in areas]\n",
        "  area_codes.remove('00000')\n",
        "\n",
        "  return area_codes\n",
        "\n",
        "area_codes = get_estat_area_codes(statsDataId)\n",
        "print(area_codes)"
      ],
      "metadata": {
        "id": "QlEWwDJAiY7x",
        "colab": {
          "base_uri": "https://localhost:8080/"
        },
        "outputId": "6f73eafe-d49b-4e10-f893-2dc0965889ea"
      },
      "execution_count": 9,
      "outputs": [
        {
          "output_type": "stream",
          "name": "stdout",
          "text": [
            "['01000', '02000', '03000', '04000', '05000', '06000', '07000', '08000', '09000', '10000', '11000', '12000', '13000', '14000', '15000', '16000', '17000', '18000', '19000', '20000', '21000', '22000', '23000', '24000', '25000', '26000', '27000', '28000', '29000', '30000', '31000', '32000', '33000', '34000', '35000', '36000', '37000', '38000', '39000', '40000', '41000', '42000', '43000', '44000', '45000', '46000', '47000']\n"
          ]
        }
      ]
    },
    {
      "cell_type": "markdown",
      "source": [
        "# estat-APIのデータを取得"
      ],
      "metadata": {
        "id": "428I_VMlmF2R"
      }
    },
    {
      "cell_type": "markdown",
      "source": [
        "まずは、総人口のデータを取得してみる\n",
        "\n",
        "cat01に'A1101'を指定\n",
        "areaは全都道府県を指定\n",
        "\n",
        "リストを指定する場合はカンマ区切りの文字列に変換する"
      ],
      "metadata": {
        "id": "cNC90RKNlRxp"
      }
    },
    {
      "cell_type": "markdown",
      "source": [
        "## estat-APIのデータ取得"
      ],
      "metadata": {
        "id": "oGusVuj69BpJ"
      }
    },
    {
      "cell_type": "code",
      "source": [
        "params = {}\n",
        "\n",
        "params['statsDataId'] = statsDataId\n",
        "params['cdCat01'] = 'A1231'\n",
        "params['cdArea']=\",\".join(area_codes)\n",
        "\n",
        "# print (params)"
      ],
      "metadata": {
        "id": "JZlVsBxosiX2"
      },
      "execution_count": 10,
      "outputs": []
    },
    {
      "cell_type": "markdown",
      "source": [
        "estat-APIのデータを取得する関数を作成"
      ],
      "metadata": {
        "id": "Z6M6kGErq7vo"
      }
    },
    {
      "cell_type": "code",
      "source": [
        "def get_estat_data(params):\n",
        "  p = params.copy()\n",
        "\n",
        "  # appId\n",
        "  p['appId'] = ESTAT_APPID\n",
        "  \n",
        "  # url生成\n",
        "  url = 'http://api.e-stat.go.jp/rest/2.1/app/json/getStatsData?'\n",
        "  url += urllib.parse.urlencode(p)\n",
        "\n",
        "  with urllib.request.urlopen(url) as response:\n",
        "    return json.loads(response.read().decode('utf-8'))\n",
        "\n",
        "res = get_estat_data(params)\n",
        "# print(res)"
      ],
      "metadata": {
        "id": "rVZ5Nbi3rmqX"
      },
      "execution_count": 11,
      "outputs": []
    },
    {
      "cell_type": "markdown",
      "source": [
        "## pandas DataFrameに変換"
      ],
      "metadata": {
        "id": "vsjvsmWwtUph"
      }
    },
    {
      "cell_type": "markdown",
      "source": [
        "estat-APIのレスポンスからVALUEを抜き出し、DataFrameに変換する"
      ],
      "metadata": {
        "id": "nnyn9KbLujnd"
      }
    },
    {
      "cell_type": "code",
      "execution_count": 12,
      "metadata": {
        "id": "gJr_9dXGpJ05",
        "colab": {
          "base_uri": "https://localhost:8080/",
          "height": 423
        },
        "outputId": "e0b8e3bd-876d-49c6-c76c-e7f869d961e2"
      },
      "outputs": [
        {
          "output_type": "execute_result",
          "data": {
            "text/plain": [
              "     @tab @cat01  @area       @time @unit     $\n",
              "0   00001  A1231  01000  2010100000     歳  47.7\n",
              "1   00001  A1231  01000  2015100000     歳  49.7\n",
              "2   00001  A1231  02000  2010100000     歳  49.1\n",
              "3   00001  A1231  02000  2015100000     歳  51.4\n",
              "4   00001  A1231  03000  2010100000     歳  49.5\n",
              "..    ...    ...    ...         ...   ...   ...\n",
              "89  00001  A1231  45000  2015100000     歳  50.2\n",
              "90  00001  A1231  46000  2010100000     歳  49.0\n",
              "91  00001  A1231  46000  2015100000     歳  50.6\n",
              "92  00001  A1231  47000  2010100000     歳  40.0\n",
              "93  00001  A1231  47000  2015100000     歳  42.0\n",
              "\n",
              "[94 rows x 6 columns]"
            ],
            "text/html": [
              "\n",
              "  <div id=\"df-ceb909b2-1e68-4dd6-a44f-e4b0363a2cd0\">\n",
              "    <div class=\"colab-df-container\">\n",
              "      <div>\n",
              "<style scoped>\n",
              "    .dataframe tbody tr th:only-of-type {\n",
              "        vertical-align: middle;\n",
              "    }\n",
              "\n",
              "    .dataframe tbody tr th {\n",
              "        vertical-align: top;\n",
              "    }\n",
              "\n",
              "    .dataframe thead th {\n",
              "        text-align: right;\n",
              "    }\n",
              "</style>\n",
              "<table border=\"1\" class=\"dataframe\">\n",
              "  <thead>\n",
              "    <tr style=\"text-align: right;\">\n",
              "      <th></th>\n",
              "      <th>@tab</th>\n",
              "      <th>@cat01</th>\n",
              "      <th>@area</th>\n",
              "      <th>@time</th>\n",
              "      <th>@unit</th>\n",
              "      <th>$</th>\n",
              "    </tr>\n",
              "  </thead>\n",
              "  <tbody>\n",
              "    <tr>\n",
              "      <th>0</th>\n",
              "      <td>00001</td>\n",
              "      <td>A1231</td>\n",
              "      <td>01000</td>\n",
              "      <td>2010100000</td>\n",
              "      <td>歳</td>\n",
              "      <td>47.7</td>\n",
              "    </tr>\n",
              "    <tr>\n",
              "      <th>1</th>\n",
              "      <td>00001</td>\n",
              "      <td>A1231</td>\n",
              "      <td>01000</td>\n",
              "      <td>2015100000</td>\n",
              "      <td>歳</td>\n",
              "      <td>49.7</td>\n",
              "    </tr>\n",
              "    <tr>\n",
              "      <th>2</th>\n",
              "      <td>00001</td>\n",
              "      <td>A1231</td>\n",
              "      <td>02000</td>\n",
              "      <td>2010100000</td>\n",
              "      <td>歳</td>\n",
              "      <td>49.1</td>\n",
              "    </tr>\n",
              "    <tr>\n",
              "      <th>3</th>\n",
              "      <td>00001</td>\n",
              "      <td>A1231</td>\n",
              "      <td>02000</td>\n",
              "      <td>2015100000</td>\n",
              "      <td>歳</td>\n",
              "      <td>51.4</td>\n",
              "    </tr>\n",
              "    <tr>\n",
              "      <th>4</th>\n",
              "      <td>00001</td>\n",
              "      <td>A1231</td>\n",
              "      <td>03000</td>\n",
              "      <td>2010100000</td>\n",
              "      <td>歳</td>\n",
              "      <td>49.5</td>\n",
              "    </tr>\n",
              "    <tr>\n",
              "      <th>...</th>\n",
              "      <td>...</td>\n",
              "      <td>...</td>\n",
              "      <td>...</td>\n",
              "      <td>...</td>\n",
              "      <td>...</td>\n",
              "      <td>...</td>\n",
              "    </tr>\n",
              "    <tr>\n",
              "      <th>89</th>\n",
              "      <td>00001</td>\n",
              "      <td>A1231</td>\n",
              "      <td>45000</td>\n",
              "      <td>2015100000</td>\n",
              "      <td>歳</td>\n",
              "      <td>50.2</td>\n",
              "    </tr>\n",
              "    <tr>\n",
              "      <th>90</th>\n",
              "      <td>00001</td>\n",
              "      <td>A1231</td>\n",
              "      <td>46000</td>\n",
              "      <td>2010100000</td>\n",
              "      <td>歳</td>\n",
              "      <td>49.0</td>\n",
              "    </tr>\n",
              "    <tr>\n",
              "      <th>91</th>\n",
              "      <td>00001</td>\n",
              "      <td>A1231</td>\n",
              "      <td>46000</td>\n",
              "      <td>2015100000</td>\n",
              "      <td>歳</td>\n",
              "      <td>50.6</td>\n",
              "    </tr>\n",
              "    <tr>\n",
              "      <th>92</th>\n",
              "      <td>00001</td>\n",
              "      <td>A1231</td>\n",
              "      <td>47000</td>\n",
              "      <td>2010100000</td>\n",
              "      <td>歳</td>\n",
              "      <td>40.0</td>\n",
              "    </tr>\n",
              "    <tr>\n",
              "      <th>93</th>\n",
              "      <td>00001</td>\n",
              "      <td>A1231</td>\n",
              "      <td>47000</td>\n",
              "      <td>2015100000</td>\n",
              "      <td>歳</td>\n",
              "      <td>42.0</td>\n",
              "    </tr>\n",
              "  </tbody>\n",
              "</table>\n",
              "<p>94 rows × 6 columns</p>\n",
              "</div>\n",
              "      <button class=\"colab-df-convert\" onclick=\"convertToInteractive('df-ceb909b2-1e68-4dd6-a44f-e4b0363a2cd0')\"\n",
              "              title=\"Convert this dataframe to an interactive table.\"\n",
              "              style=\"display:none;\">\n",
              "        \n",
              "  <svg xmlns=\"http://www.w3.org/2000/svg\" height=\"24px\"viewBox=\"0 0 24 24\"\n",
              "       width=\"24px\">\n",
              "    <path d=\"M0 0h24v24H0V0z\" fill=\"none\"/>\n",
              "    <path d=\"M18.56 5.44l.94 2.06.94-2.06 2.06-.94-2.06-.94-.94-2.06-.94 2.06-2.06.94zm-11 1L8.5 8.5l.94-2.06 2.06-.94-2.06-.94L8.5 2.5l-.94 2.06-2.06.94zm10 10l.94 2.06.94-2.06 2.06-.94-2.06-.94-.94-2.06-.94 2.06-2.06.94z\"/><path d=\"M17.41 7.96l-1.37-1.37c-.4-.4-.92-.59-1.43-.59-.52 0-1.04.2-1.43.59L10.3 9.45l-7.72 7.72c-.78.78-.78 2.05 0 2.83L4 21.41c.39.39.9.59 1.41.59.51 0 1.02-.2 1.41-.59l7.78-7.78 2.81-2.81c.8-.78.8-2.07 0-2.86zM5.41 20L4 18.59l7.72-7.72 1.47 1.35L5.41 20z\"/>\n",
              "  </svg>\n",
              "      </button>\n",
              "      \n",
              "  <style>\n",
              "    .colab-df-container {\n",
              "      display:flex;\n",
              "      flex-wrap:wrap;\n",
              "      gap: 12px;\n",
              "    }\n",
              "\n",
              "    .colab-df-convert {\n",
              "      background-color: #E8F0FE;\n",
              "      border: none;\n",
              "      border-radius: 50%;\n",
              "      cursor: pointer;\n",
              "      display: none;\n",
              "      fill: #1967D2;\n",
              "      height: 32px;\n",
              "      padding: 0 0 0 0;\n",
              "      width: 32px;\n",
              "    }\n",
              "\n",
              "    .colab-df-convert:hover {\n",
              "      background-color: #E2EBFA;\n",
              "      box-shadow: 0px 1px 2px rgba(60, 64, 67, 0.3), 0px 1px 3px 1px rgba(60, 64, 67, 0.15);\n",
              "      fill: #174EA6;\n",
              "    }\n",
              "\n",
              "    [theme=dark] .colab-df-convert {\n",
              "      background-color: #3B4455;\n",
              "      fill: #D2E3FC;\n",
              "    }\n",
              "\n",
              "    [theme=dark] .colab-df-convert:hover {\n",
              "      background-color: #434B5C;\n",
              "      box-shadow: 0px 1px 3px 1px rgba(0, 0, 0, 0.15);\n",
              "      filter: drop-shadow(0px 1px 2px rgba(0, 0, 0, 0.3));\n",
              "      fill: #FFFFFF;\n",
              "    }\n",
              "  </style>\n",
              "\n",
              "      <script>\n",
              "        const buttonEl =\n",
              "          document.querySelector('#df-ceb909b2-1e68-4dd6-a44f-e4b0363a2cd0 button.colab-df-convert');\n",
              "        buttonEl.style.display =\n",
              "          google.colab.kernel.accessAllowed ? 'block' : 'none';\n",
              "\n",
              "        async function convertToInteractive(key) {\n",
              "          const element = document.querySelector('#df-ceb909b2-1e68-4dd6-a44f-e4b0363a2cd0');\n",
              "          const dataTable =\n",
              "            await google.colab.kernel.invokeFunction('convertToInteractive',\n",
              "                                                     [key], {});\n",
              "          if (!dataTable) return;\n",
              "\n",
              "          const docLinkHtml = 'Like what you see? Visit the ' +\n",
              "            '<a target=\"_blank\" href=https://colab.research.google.com/notebooks/data_table.ipynb>data table notebook</a>'\n",
              "            + ' to learn more about interactive tables.';\n",
              "          element.innerHTML = '';\n",
              "          dataTable['output_type'] = 'display_data';\n",
              "          await google.colab.output.renderOutput(dataTable, element);\n",
              "          const docLink = document.createElement('div');\n",
              "          docLink.innerHTML = docLinkHtml;\n",
              "          element.appendChild(docLink);\n",
              "        }\n",
              "      </script>\n",
              "    </div>\n",
              "  </div>\n",
              "  "
            ]
          },
          "metadata": {},
          "execution_count": 12
        }
      ],
      "source": [
        "res = get_estat_data(params)\n",
        "\n",
        "# VALUE\n",
        "VALUE = res['GET_STATS_DATA']['STATISTICAL_DATA']['DATA_INF']['VALUE']\n",
        "\n",
        "df_value = pd.json_normalize(VALUE)\n",
        "df_value"
      ]
    },
    {
      "cell_type": "markdown",
      "source": [
        "カテゴリ情報は'CLASS_OBJ'に格納されている。\n",
        "\n",
        "これもDataFrameに変換"
      ],
      "metadata": {
        "id": "b28rdDk6uszG"
      }
    },
    {
      "cell_type": "code",
      "execution_count": null,
      "metadata": {
        "id": "-gE-Ez1qtyIA"
      },
      "outputs": [],
      "source": [
        "# CLASS_INF\n",
        "CLASS_OBJ = res['GET_STATS_DATA']['STATISTICAL_DATA']['CLASS_INF']['CLASS_OBJ']\n",
        "\n",
        "categories = next((d for d in CLASS_OBJ if d['@id'] == 'cat01'), None)['CLASS']\n",
        "\n",
        "df_categories = pd.json_normalize(categories)\n",
        "df_categories"
      ]
    },
    {
      "cell_type": "markdown",
      "source": [
        "統計表情報は'TABLE_INF'に格納されている"
      ],
      "metadata": {
        "id": "oJgd5FHcMO0j"
      }
    },
    {
      "cell_type": "code",
      "source": [
        "# TABLE_INF\n",
        "TABLE_INF = res['GET_STATS_DATA']['STATISTICAL_DATA']['TABLE_INF']\n",
        "\n",
        "statDataId = TABLE_INF['@id']\n",
        "statDataName = TABLE_INF['STAT_NAME']['$']\n",
        "\n",
        "print(statDataId,statDataName)"
      ],
      "metadata": {
        "id": "Cz3ddmwmMc9h"
      },
      "execution_count": null,
      "outputs": []
    },
    {
      "cell_type": "markdown",
      "source": [
        "estat-APIのレスポンスをひとつのDataFrameにまとめる関数を作成"
      ],
      "metadata": {
        "id": "7e9mUi68yWK-"
      }
    },
    {
      "cell_type": "code",
      "source": [
        "def conv_estat_response_to_dataframe(response):\n",
        "  # CLASS_INF\n",
        "  CLASS_OBJ = response['GET_STATS_DATA']['STATISTICAL_DATA']['CLASS_INF']['CLASS_OBJ']\n",
        "\n",
        "  # TABLE_INF\n",
        "  TABLE_INF = response['GET_STATS_DATA']['STATISTICAL_DATA']['TABLE_INF']\n",
        "\n",
        "  # VALUE\n",
        "  VALUE = response['GET_STATS_DATA']['STATISTICAL_DATA']['DATA_INF']['VALUE']\n",
        "\n",
        "  # VALUEをDataFrameに変換\n",
        "  df_res = pd.json_normalize(VALUE)\n",
        "\n",
        "  # CLASS_OBJのDataFrameを結合\n",
        "  for d in CLASS_OBJ :\n",
        "    # DataFrameに変換 '@code','@name'だけ抽出\n",
        "    df_class = pd.json_normalize(d['CLASS']) \n",
        "    df_class = df_class.copy()[['@code','@name']]\n",
        "\n",
        "    # @codeをキー名に変更 @nameをキー名＋'_name'に変更\n",
        "    key_name = '@{}'.format(d['@id'])\n",
        "    df_class = df_class.rename(columns={'@code':key_name,'@name': key_name+'_name'})\n",
        "\n",
        "    # DataFrameを結合\n",
        "    df_res = pd.merge(df_res, df_class, on=key_name, how='outer')\n",
        "\n",
        "  # 統計情報を追加\n",
        "  df_res['statsDataId'] = TABLE_INF['@id']\n",
        "  df_res['statsDataName'] = TABLE_INF['STAT_NAME']['$']\n",
        "  \n",
        "  return df_res\n",
        "\n",
        "df_org = conv_estat_response_to_dataframe(res)\n",
        "df_org"
      ],
      "metadata": {
        "id": "G2fDbCR52s6c",
        "colab": {
          "base_uri": "https://localhost:8080/",
          "height": 423
        },
        "outputId": "cd7eb782-219b-4675-a660-2df366aed246"
      },
      "execution_count": 13,
      "outputs": [
        {
          "output_type": "execute_result",
          "data": {
            "text/plain": [
              "      @tab @cat01  @area       @time @unit     $ @tab_name  @cat01_name  \\\n",
              "0    00001  A1231  01000  2010100000     歳  47.7       観測値  A1231_年齢中位数   \n",
              "1    00001  A1231  02000  2010100000     歳  49.1       観測値  A1231_年齢中位数   \n",
              "2    00001  A1231  03000  2010100000     歳  49.5       観測値  A1231_年齢中位数   \n",
              "3    00001  A1231  04000  2010100000     歳  44.8       観測値  A1231_年齢中位数   \n",
              "4    00001  A1231  05000  2010100000     歳  52.4       観測値  A1231_年齢中位数   \n",
              "..     ...    ...    ...         ...   ...   ...       ...          ...   \n",
              "133    NaN    NaN    NaN  2016100000   NaN   NaN       NaN          NaN   \n",
              "134    NaN    NaN    NaN  2017100000   NaN   NaN       NaN          NaN   \n",
              "135    NaN    NaN    NaN  2018100000   NaN   NaN       NaN          NaN   \n",
              "136    NaN    NaN    NaN  2019100000   NaN   NaN       NaN          NaN   \n",
              "137    NaN    NaN    NaN  2020100000   NaN   NaN       NaN          NaN   \n",
              "\n",
              "    @area_name @time_name statsDataId statsDataName  \n",
              "0          北海道     2010年度  0000010101     社会・人口統計体系  \n",
              "1          青森県     2010年度  0000010101     社会・人口統計体系  \n",
              "2          岩手県     2010年度  0000010101     社会・人口統計体系  \n",
              "3          宮城県     2010年度  0000010101     社会・人口統計体系  \n",
              "4          秋田県     2010年度  0000010101     社会・人口統計体系  \n",
              "..         ...        ...         ...           ...  \n",
              "133        NaN     2016年度  0000010101     社会・人口統計体系  \n",
              "134        NaN     2017年度  0000010101     社会・人口統計体系  \n",
              "135        NaN     2018年度  0000010101     社会・人口統計体系  \n",
              "136        NaN     2019年度  0000010101     社会・人口統計体系  \n",
              "137        NaN     2020年度  0000010101     社会・人口統計体系  \n",
              "\n",
              "[138 rows x 12 columns]"
            ],
            "text/html": [
              "\n",
              "  <div id=\"df-4c17ef6a-b38b-4605-9319-08359a57f6e0\">\n",
              "    <div class=\"colab-df-container\">\n",
              "      <div>\n",
              "<style scoped>\n",
              "    .dataframe tbody tr th:only-of-type {\n",
              "        vertical-align: middle;\n",
              "    }\n",
              "\n",
              "    .dataframe tbody tr th {\n",
              "        vertical-align: top;\n",
              "    }\n",
              "\n",
              "    .dataframe thead th {\n",
              "        text-align: right;\n",
              "    }\n",
              "</style>\n",
              "<table border=\"1\" class=\"dataframe\">\n",
              "  <thead>\n",
              "    <tr style=\"text-align: right;\">\n",
              "      <th></th>\n",
              "      <th>@tab</th>\n",
              "      <th>@cat01</th>\n",
              "      <th>@area</th>\n",
              "      <th>@time</th>\n",
              "      <th>@unit</th>\n",
              "      <th>$</th>\n",
              "      <th>@tab_name</th>\n",
              "      <th>@cat01_name</th>\n",
              "      <th>@area_name</th>\n",
              "      <th>@time_name</th>\n",
              "      <th>statsDataId</th>\n",
              "      <th>statsDataName</th>\n",
              "    </tr>\n",
              "  </thead>\n",
              "  <tbody>\n",
              "    <tr>\n",
              "      <th>0</th>\n",
              "      <td>00001</td>\n",
              "      <td>A1231</td>\n",
              "      <td>01000</td>\n",
              "      <td>2010100000</td>\n",
              "      <td>歳</td>\n",
              "      <td>47.7</td>\n",
              "      <td>観測値</td>\n",
              "      <td>A1231_年齢中位数</td>\n",
              "      <td>北海道</td>\n",
              "      <td>2010年度</td>\n",
              "      <td>0000010101</td>\n",
              "      <td>社会・人口統計体系</td>\n",
              "    </tr>\n",
              "    <tr>\n",
              "      <th>1</th>\n",
              "      <td>00001</td>\n",
              "      <td>A1231</td>\n",
              "      <td>02000</td>\n",
              "      <td>2010100000</td>\n",
              "      <td>歳</td>\n",
              "      <td>49.1</td>\n",
              "      <td>観測値</td>\n",
              "      <td>A1231_年齢中位数</td>\n",
              "      <td>青森県</td>\n",
              "      <td>2010年度</td>\n",
              "      <td>0000010101</td>\n",
              "      <td>社会・人口統計体系</td>\n",
              "    </tr>\n",
              "    <tr>\n",
              "      <th>2</th>\n",
              "      <td>00001</td>\n",
              "      <td>A1231</td>\n",
              "      <td>03000</td>\n",
              "      <td>2010100000</td>\n",
              "      <td>歳</td>\n",
              "      <td>49.5</td>\n",
              "      <td>観測値</td>\n",
              "      <td>A1231_年齢中位数</td>\n",
              "      <td>岩手県</td>\n",
              "      <td>2010年度</td>\n",
              "      <td>0000010101</td>\n",
              "      <td>社会・人口統計体系</td>\n",
              "    </tr>\n",
              "    <tr>\n",
              "      <th>3</th>\n",
              "      <td>00001</td>\n",
              "      <td>A1231</td>\n",
              "      <td>04000</td>\n",
              "      <td>2010100000</td>\n",
              "      <td>歳</td>\n",
              "      <td>44.8</td>\n",
              "      <td>観測値</td>\n",
              "      <td>A1231_年齢中位数</td>\n",
              "      <td>宮城県</td>\n",
              "      <td>2010年度</td>\n",
              "      <td>0000010101</td>\n",
              "      <td>社会・人口統計体系</td>\n",
              "    </tr>\n",
              "    <tr>\n",
              "      <th>4</th>\n",
              "      <td>00001</td>\n",
              "      <td>A1231</td>\n",
              "      <td>05000</td>\n",
              "      <td>2010100000</td>\n",
              "      <td>歳</td>\n",
              "      <td>52.4</td>\n",
              "      <td>観測値</td>\n",
              "      <td>A1231_年齢中位数</td>\n",
              "      <td>秋田県</td>\n",
              "      <td>2010年度</td>\n",
              "      <td>0000010101</td>\n",
              "      <td>社会・人口統計体系</td>\n",
              "    </tr>\n",
              "    <tr>\n",
              "      <th>...</th>\n",
              "      <td>...</td>\n",
              "      <td>...</td>\n",
              "      <td>...</td>\n",
              "      <td>...</td>\n",
              "      <td>...</td>\n",
              "      <td>...</td>\n",
              "      <td>...</td>\n",
              "      <td>...</td>\n",
              "      <td>...</td>\n",
              "      <td>...</td>\n",
              "      <td>...</td>\n",
              "      <td>...</td>\n",
              "    </tr>\n",
              "    <tr>\n",
              "      <th>133</th>\n",
              "      <td>NaN</td>\n",
              "      <td>NaN</td>\n",
              "      <td>NaN</td>\n",
              "      <td>2016100000</td>\n",
              "      <td>NaN</td>\n",
              "      <td>NaN</td>\n",
              "      <td>NaN</td>\n",
              "      <td>NaN</td>\n",
              "      <td>NaN</td>\n",
              "      <td>2016年度</td>\n",
              "      <td>0000010101</td>\n",
              "      <td>社会・人口統計体系</td>\n",
              "    </tr>\n",
              "    <tr>\n",
              "      <th>134</th>\n",
              "      <td>NaN</td>\n",
              "      <td>NaN</td>\n",
              "      <td>NaN</td>\n",
              "      <td>2017100000</td>\n",
              "      <td>NaN</td>\n",
              "      <td>NaN</td>\n",
              "      <td>NaN</td>\n",
              "      <td>NaN</td>\n",
              "      <td>NaN</td>\n",
              "      <td>2017年度</td>\n",
              "      <td>0000010101</td>\n",
              "      <td>社会・人口統計体系</td>\n",
              "    </tr>\n",
              "    <tr>\n",
              "      <th>135</th>\n",
              "      <td>NaN</td>\n",
              "      <td>NaN</td>\n",
              "      <td>NaN</td>\n",
              "      <td>2018100000</td>\n",
              "      <td>NaN</td>\n",
              "      <td>NaN</td>\n",
              "      <td>NaN</td>\n",
              "      <td>NaN</td>\n",
              "      <td>NaN</td>\n",
              "      <td>2018年度</td>\n",
              "      <td>0000010101</td>\n",
              "      <td>社会・人口統計体系</td>\n",
              "    </tr>\n",
              "    <tr>\n",
              "      <th>136</th>\n",
              "      <td>NaN</td>\n",
              "      <td>NaN</td>\n",
              "      <td>NaN</td>\n",
              "      <td>2019100000</td>\n",
              "      <td>NaN</td>\n",
              "      <td>NaN</td>\n",
              "      <td>NaN</td>\n",
              "      <td>NaN</td>\n",
              "      <td>NaN</td>\n",
              "      <td>2019年度</td>\n",
              "      <td>0000010101</td>\n",
              "      <td>社会・人口統計体系</td>\n",
              "    </tr>\n",
              "    <tr>\n",
              "      <th>137</th>\n",
              "      <td>NaN</td>\n",
              "      <td>NaN</td>\n",
              "      <td>NaN</td>\n",
              "      <td>2020100000</td>\n",
              "      <td>NaN</td>\n",
              "      <td>NaN</td>\n",
              "      <td>NaN</td>\n",
              "      <td>NaN</td>\n",
              "      <td>NaN</td>\n",
              "      <td>2020年度</td>\n",
              "      <td>0000010101</td>\n",
              "      <td>社会・人口統計体系</td>\n",
              "    </tr>\n",
              "  </tbody>\n",
              "</table>\n",
              "<p>138 rows × 12 columns</p>\n",
              "</div>\n",
              "      <button class=\"colab-df-convert\" onclick=\"convertToInteractive('df-4c17ef6a-b38b-4605-9319-08359a57f6e0')\"\n",
              "              title=\"Convert this dataframe to an interactive table.\"\n",
              "              style=\"display:none;\">\n",
              "        \n",
              "  <svg xmlns=\"http://www.w3.org/2000/svg\" height=\"24px\"viewBox=\"0 0 24 24\"\n",
              "       width=\"24px\">\n",
              "    <path d=\"M0 0h24v24H0V0z\" fill=\"none\"/>\n",
              "    <path d=\"M18.56 5.44l.94 2.06.94-2.06 2.06-.94-2.06-.94-.94-2.06-.94 2.06-2.06.94zm-11 1L8.5 8.5l.94-2.06 2.06-.94-2.06-.94L8.5 2.5l-.94 2.06-2.06.94zm10 10l.94 2.06.94-2.06 2.06-.94-2.06-.94-.94-2.06-.94 2.06-2.06.94z\"/><path d=\"M17.41 7.96l-1.37-1.37c-.4-.4-.92-.59-1.43-.59-.52 0-1.04.2-1.43.59L10.3 9.45l-7.72 7.72c-.78.78-.78 2.05 0 2.83L4 21.41c.39.39.9.59 1.41.59.51 0 1.02-.2 1.41-.59l7.78-7.78 2.81-2.81c.8-.78.8-2.07 0-2.86zM5.41 20L4 18.59l7.72-7.72 1.47 1.35L5.41 20z\"/>\n",
              "  </svg>\n",
              "      </button>\n",
              "      \n",
              "  <style>\n",
              "    .colab-df-container {\n",
              "      display:flex;\n",
              "      flex-wrap:wrap;\n",
              "      gap: 12px;\n",
              "    }\n",
              "\n",
              "    .colab-df-convert {\n",
              "      background-color: #E8F0FE;\n",
              "      border: none;\n",
              "      border-radius: 50%;\n",
              "      cursor: pointer;\n",
              "      display: none;\n",
              "      fill: #1967D2;\n",
              "      height: 32px;\n",
              "      padding: 0 0 0 0;\n",
              "      width: 32px;\n",
              "    }\n",
              "\n",
              "    .colab-df-convert:hover {\n",
              "      background-color: #E2EBFA;\n",
              "      box-shadow: 0px 1px 2px rgba(60, 64, 67, 0.3), 0px 1px 3px 1px rgba(60, 64, 67, 0.15);\n",
              "      fill: #174EA6;\n",
              "    }\n",
              "\n",
              "    [theme=dark] .colab-df-convert {\n",
              "      background-color: #3B4455;\n",
              "      fill: #D2E3FC;\n",
              "    }\n",
              "\n",
              "    [theme=dark] .colab-df-convert:hover {\n",
              "      background-color: #434B5C;\n",
              "      box-shadow: 0px 1px 3px 1px rgba(0, 0, 0, 0.15);\n",
              "      filter: drop-shadow(0px 1px 2px rgba(0, 0, 0, 0.3));\n",
              "      fill: #FFFFFF;\n",
              "    }\n",
              "  </style>\n",
              "\n",
              "      <script>\n",
              "        const buttonEl =\n",
              "          document.querySelector('#df-4c17ef6a-b38b-4605-9319-08359a57f6e0 button.colab-df-convert');\n",
              "        buttonEl.style.display =\n",
              "          google.colab.kernel.accessAllowed ? 'block' : 'none';\n",
              "\n",
              "        async function convertToInteractive(key) {\n",
              "          const element = document.querySelector('#df-4c17ef6a-b38b-4605-9319-08359a57f6e0');\n",
              "          const dataTable =\n",
              "            await google.colab.kernel.invokeFunction('convertToInteractive',\n",
              "                                                     [key], {});\n",
              "          if (!dataTable) return;\n",
              "\n",
              "          const docLinkHtml = 'Like what you see? Visit the ' +\n",
              "            '<a target=\"_blank\" href=https://colab.research.google.com/notebooks/data_table.ipynb>data table notebook</a>'\n",
              "            + ' to learn more about interactive tables.';\n",
              "          element.innerHTML = '';\n",
              "          dataTable['output_type'] = 'display_data';\n",
              "          await google.colab.output.renderOutput(dataTable, element);\n",
              "          const docLink = document.createElement('div');\n",
              "          docLink.innerHTML = docLinkHtml;\n",
              "          element.appendChild(docLink);\n",
              "        }\n",
              "      </script>\n",
              "    </div>\n",
              "  </div>\n",
              "  "
            ]
          },
          "metadata": {},
          "execution_count": 13
        }
      ]
    },
    {
      "cell_type": "markdown",
      "source": [
        "## DataFrameの整形"
      ],
      "metadata": {
        "id": "QFQOKjhk5A3G"
      }
    },
    {
      "cell_type": "markdown",
      "source": [
        "使い勝手が良くなるように、DataFrameを整形していく"
      ],
      "metadata": {
        "id": "sYv6ZrYx5GXM"
      }
    },
    {
      "cell_type": "markdown",
      "source": [
        "必要な列だけ抽出する"
      ],
      "metadata": {
        "id": "BnphK2pW59wj"
      }
    },
    {
      "cell_type": "code",
      "source": [
        "df_1 = df_org[['statsDataId','statsDataName','@cat01','@cat01_name','@time','@time_name','@area','@area_name','$','@unit']]\n",
        "\n",
        "# print(df_1)"
      ],
      "metadata": {
        "id": "ERAP73eK6BOj"
      },
      "execution_count": null,
      "outputs": []
    },
    {
      "cell_type": "markdown",
      "source": [
        "列名を変更する"
      ],
      "metadata": {
        "id": "WSM3qXlm5Yyb"
      }
    },
    {
      "cell_type": "code",
      "source": [
        "columns = {'@cat01':'categoryCode','@cat01_name':'categoryName','@time':'timeCode','@time_name':'timeName','@area':'areaCode','@area_name':'areaName','$':'value','@unit':'unit'}\n",
        "df_1 = df_1.rename(columns=columns)\n",
        "\n",
        "# print(df_1)"
      ],
      "metadata": {
        "id": "5XJg_gDK5h67"
      },
      "execution_count": null,
      "outputs": []
    },
    {
      "cell_type": "markdown",
      "source": [
        "欠損値が含まれる行を削除する"
      ],
      "metadata": {
        "id": "JkJfjQn-71Y6"
      }
    },
    {
      "cell_type": "code",
      "source": [
        "df_1 = df_1.dropna()\n",
        "\n",
        "# print(df_1)"
      ],
      "metadata": {
        "id": "Gyi7CMMR75dD"
      },
      "execution_count": null,
      "outputs": []
    },
    {
      "cell_type": "markdown",
      "source": [
        "categoryNameから不要な情報（categoryCode）を削除する"
      ],
      "metadata": {
        "id": "Kuzz-u0U8fcJ"
      }
    },
    {
      "cell_type": "code",
      "source": [
        "df_1['categoryName'] = df_1.apply(lambda x: x['categoryName'].replace(x['categoryCode']+'_', ''), 1)\n",
        "\n",
        "# print(df_1)"
      ],
      "metadata": {
        "id": "CJJ4P6sA8eVM"
      },
      "execution_count": null,
      "outputs": []
    },
    {
      "cell_type": "markdown",
      "source": [
        "timeCodeを4桁文字列に置換する"
      ],
      "metadata": {
        "id": "YjBc_Lqu9HGy"
      }
    },
    {
      "cell_type": "code",
      "source": [
        "df_1['timeCode'] = df_1.apply(lambda x: x['timeCode'][:4], 1)\n",
        "\n",
        "# print(df_1)"
      ],
      "metadata": {
        "id": "9kIlxFpP-Xc2"
      },
      "execution_count": null,
      "outputs": []
    },
    {
      "cell_type": "markdown",
      "source": [
        "ここまでを関数にまとめる"
      ],
      "metadata": {
        "id": "3gtuH94jwxmM"
      }
    },
    {
      "cell_type": "code",
      "source": [
        "def  format_estat_dataframe(df_arg):\n",
        "  # 必要な列だけ抽出\n",
        "  df_res =  df_arg[['statsDataId','statsDataName','@cat01','@cat01_name','@time','@time_name','@area','@area_name','$','@unit']]\n",
        "\n",
        "  # 列名の変更\n",
        "  columns = {'@cat01':'categoryCode','@cat01_name':'categoryName','@time':'timeCode','@time_name':'timeName','@area':'areaCode','@area_name':'areaName','$':'value','@unit':'unit'}\n",
        "  df_res = df_res.rename(columns=columns)\n",
        "\n",
        "  # 欠損データ削除\n",
        "  df_res = df_res.dropna()\n",
        "\n",
        "  # categoryNameから不要な情報（categoryCode）を削除\n",
        "  df_res['categoryName'] = df_res.apply(lambda x: x['categoryName'].replace(x['categoryCode']+'_', ''), 1)\n",
        "\n",
        "  # timeCodeを文字列4桁に置換\n",
        "  df_res['timeCode'] = df_res.apply(lambda x: x['timeCode'][:4], 1)\n",
        "\n",
        "  return df_res\n",
        "\n",
        "df_fmt = format_estat_dataframe(df_org)\n",
        "df_fmt"
      ],
      "metadata": {
        "id": "_GZiTva3PYBQ",
        "colab": {
          "base_uri": "https://localhost:8080/",
          "height": 423
        },
        "outputId": "21ece6d9-15eb-4db0-b0e1-d72339eb895b"
      },
      "execution_count": 15,
      "outputs": [
        {
          "output_type": "execute_result",
          "data": {
            "text/plain": [
              "   statsDataId statsDataName categoryCode categoryName timeCode timeName  \\\n",
              "0   0000010101     社会・人口統計体系        A1231        年齢中位数     2010   2010年度   \n",
              "1   0000010101     社会・人口統計体系        A1231        年齢中位数     2010   2010年度   \n",
              "2   0000010101     社会・人口統計体系        A1231        年齢中位数     2010   2010年度   \n",
              "3   0000010101     社会・人口統計体系        A1231        年齢中位数     2010   2010年度   \n",
              "4   0000010101     社会・人口統計体系        A1231        年齢中位数     2010   2010年度   \n",
              "..         ...           ...          ...          ...      ...      ...   \n",
              "89  0000010101     社会・人口統計体系        A1231        年齢中位数     2015   2015年度   \n",
              "90  0000010101     社会・人口統計体系        A1231        年齢中位数     2015   2015年度   \n",
              "91  0000010101     社会・人口統計体系        A1231        年齢中位数     2015   2015年度   \n",
              "92  0000010101     社会・人口統計体系        A1231        年齢中位数     2015   2015年度   \n",
              "93  0000010101     社会・人口統計体系        A1231        年齢中位数     2015   2015年度   \n",
              "\n",
              "   areaCode areaName value unit  \n",
              "0     01000      北海道  47.7    歳  \n",
              "1     02000      青森県  49.1    歳  \n",
              "2     03000      岩手県  49.5    歳  \n",
              "3     04000      宮城県  44.8    歳  \n",
              "4     05000      秋田県  52.4    歳  \n",
              "..      ...      ...   ...  ...  \n",
              "89    43000      熊本県  49.0    歳  \n",
              "90    44000      大分県  50.2    歳  \n",
              "91    45000      宮崎県  50.2    歳  \n",
              "92    46000     鹿児島県  50.6    歳  \n",
              "93    47000      沖縄県  42.0    歳  \n",
              "\n",
              "[94 rows x 10 columns]"
            ],
            "text/html": [
              "\n",
              "  <div id=\"df-dd43bd8c-3325-4523-94d5-070badc34786\">\n",
              "    <div class=\"colab-df-container\">\n",
              "      <div>\n",
              "<style scoped>\n",
              "    .dataframe tbody tr th:only-of-type {\n",
              "        vertical-align: middle;\n",
              "    }\n",
              "\n",
              "    .dataframe tbody tr th {\n",
              "        vertical-align: top;\n",
              "    }\n",
              "\n",
              "    .dataframe thead th {\n",
              "        text-align: right;\n",
              "    }\n",
              "</style>\n",
              "<table border=\"1\" class=\"dataframe\">\n",
              "  <thead>\n",
              "    <tr style=\"text-align: right;\">\n",
              "      <th></th>\n",
              "      <th>statsDataId</th>\n",
              "      <th>statsDataName</th>\n",
              "      <th>categoryCode</th>\n",
              "      <th>categoryName</th>\n",
              "      <th>timeCode</th>\n",
              "      <th>timeName</th>\n",
              "      <th>areaCode</th>\n",
              "      <th>areaName</th>\n",
              "      <th>value</th>\n",
              "      <th>unit</th>\n",
              "    </tr>\n",
              "  </thead>\n",
              "  <tbody>\n",
              "    <tr>\n",
              "      <th>0</th>\n",
              "      <td>0000010101</td>\n",
              "      <td>社会・人口統計体系</td>\n",
              "      <td>A1231</td>\n",
              "      <td>年齢中位数</td>\n",
              "      <td>2010</td>\n",
              "      <td>2010年度</td>\n",
              "      <td>01000</td>\n",
              "      <td>北海道</td>\n",
              "      <td>47.7</td>\n",
              "      <td>歳</td>\n",
              "    </tr>\n",
              "    <tr>\n",
              "      <th>1</th>\n",
              "      <td>0000010101</td>\n",
              "      <td>社会・人口統計体系</td>\n",
              "      <td>A1231</td>\n",
              "      <td>年齢中位数</td>\n",
              "      <td>2010</td>\n",
              "      <td>2010年度</td>\n",
              "      <td>02000</td>\n",
              "      <td>青森県</td>\n",
              "      <td>49.1</td>\n",
              "      <td>歳</td>\n",
              "    </tr>\n",
              "    <tr>\n",
              "      <th>2</th>\n",
              "      <td>0000010101</td>\n",
              "      <td>社会・人口統計体系</td>\n",
              "      <td>A1231</td>\n",
              "      <td>年齢中位数</td>\n",
              "      <td>2010</td>\n",
              "      <td>2010年度</td>\n",
              "      <td>03000</td>\n",
              "      <td>岩手県</td>\n",
              "      <td>49.5</td>\n",
              "      <td>歳</td>\n",
              "    </tr>\n",
              "    <tr>\n",
              "      <th>3</th>\n",
              "      <td>0000010101</td>\n",
              "      <td>社会・人口統計体系</td>\n",
              "      <td>A1231</td>\n",
              "      <td>年齢中位数</td>\n",
              "      <td>2010</td>\n",
              "      <td>2010年度</td>\n",
              "      <td>04000</td>\n",
              "      <td>宮城県</td>\n",
              "      <td>44.8</td>\n",
              "      <td>歳</td>\n",
              "    </tr>\n",
              "    <tr>\n",
              "      <th>4</th>\n",
              "      <td>0000010101</td>\n",
              "      <td>社会・人口統計体系</td>\n",
              "      <td>A1231</td>\n",
              "      <td>年齢中位数</td>\n",
              "      <td>2010</td>\n",
              "      <td>2010年度</td>\n",
              "      <td>05000</td>\n",
              "      <td>秋田県</td>\n",
              "      <td>52.4</td>\n",
              "      <td>歳</td>\n",
              "    </tr>\n",
              "    <tr>\n",
              "      <th>...</th>\n",
              "      <td>...</td>\n",
              "      <td>...</td>\n",
              "      <td>...</td>\n",
              "      <td>...</td>\n",
              "      <td>...</td>\n",
              "      <td>...</td>\n",
              "      <td>...</td>\n",
              "      <td>...</td>\n",
              "      <td>...</td>\n",
              "      <td>...</td>\n",
              "    </tr>\n",
              "    <tr>\n",
              "      <th>89</th>\n",
              "      <td>0000010101</td>\n",
              "      <td>社会・人口統計体系</td>\n",
              "      <td>A1231</td>\n",
              "      <td>年齢中位数</td>\n",
              "      <td>2015</td>\n",
              "      <td>2015年度</td>\n",
              "      <td>43000</td>\n",
              "      <td>熊本県</td>\n",
              "      <td>49.0</td>\n",
              "      <td>歳</td>\n",
              "    </tr>\n",
              "    <tr>\n",
              "      <th>90</th>\n",
              "      <td>0000010101</td>\n",
              "      <td>社会・人口統計体系</td>\n",
              "      <td>A1231</td>\n",
              "      <td>年齢中位数</td>\n",
              "      <td>2015</td>\n",
              "      <td>2015年度</td>\n",
              "      <td>44000</td>\n",
              "      <td>大分県</td>\n",
              "      <td>50.2</td>\n",
              "      <td>歳</td>\n",
              "    </tr>\n",
              "    <tr>\n",
              "      <th>91</th>\n",
              "      <td>0000010101</td>\n",
              "      <td>社会・人口統計体系</td>\n",
              "      <td>A1231</td>\n",
              "      <td>年齢中位数</td>\n",
              "      <td>2015</td>\n",
              "      <td>2015年度</td>\n",
              "      <td>45000</td>\n",
              "      <td>宮崎県</td>\n",
              "      <td>50.2</td>\n",
              "      <td>歳</td>\n",
              "    </tr>\n",
              "    <tr>\n",
              "      <th>92</th>\n",
              "      <td>0000010101</td>\n",
              "      <td>社会・人口統計体系</td>\n",
              "      <td>A1231</td>\n",
              "      <td>年齢中位数</td>\n",
              "      <td>2015</td>\n",
              "      <td>2015年度</td>\n",
              "      <td>46000</td>\n",
              "      <td>鹿児島県</td>\n",
              "      <td>50.6</td>\n",
              "      <td>歳</td>\n",
              "    </tr>\n",
              "    <tr>\n",
              "      <th>93</th>\n",
              "      <td>0000010101</td>\n",
              "      <td>社会・人口統計体系</td>\n",
              "      <td>A1231</td>\n",
              "      <td>年齢中位数</td>\n",
              "      <td>2015</td>\n",
              "      <td>2015年度</td>\n",
              "      <td>47000</td>\n",
              "      <td>沖縄県</td>\n",
              "      <td>42.0</td>\n",
              "      <td>歳</td>\n",
              "    </tr>\n",
              "  </tbody>\n",
              "</table>\n",
              "<p>94 rows × 10 columns</p>\n",
              "</div>\n",
              "      <button class=\"colab-df-convert\" onclick=\"convertToInteractive('df-dd43bd8c-3325-4523-94d5-070badc34786')\"\n",
              "              title=\"Convert this dataframe to an interactive table.\"\n",
              "              style=\"display:none;\">\n",
              "        \n",
              "  <svg xmlns=\"http://www.w3.org/2000/svg\" height=\"24px\"viewBox=\"0 0 24 24\"\n",
              "       width=\"24px\">\n",
              "    <path d=\"M0 0h24v24H0V0z\" fill=\"none\"/>\n",
              "    <path d=\"M18.56 5.44l.94 2.06.94-2.06 2.06-.94-2.06-.94-.94-2.06-.94 2.06-2.06.94zm-11 1L8.5 8.5l.94-2.06 2.06-.94-2.06-.94L8.5 2.5l-.94 2.06-2.06.94zm10 10l.94 2.06.94-2.06 2.06-.94-2.06-.94-.94-2.06-.94 2.06-2.06.94z\"/><path d=\"M17.41 7.96l-1.37-1.37c-.4-.4-.92-.59-1.43-.59-.52 0-1.04.2-1.43.59L10.3 9.45l-7.72 7.72c-.78.78-.78 2.05 0 2.83L4 21.41c.39.39.9.59 1.41.59.51 0 1.02-.2 1.41-.59l7.78-7.78 2.81-2.81c.8-.78.8-2.07 0-2.86zM5.41 20L4 18.59l7.72-7.72 1.47 1.35L5.41 20z\"/>\n",
              "  </svg>\n",
              "      </button>\n",
              "      \n",
              "  <style>\n",
              "    .colab-df-container {\n",
              "      display:flex;\n",
              "      flex-wrap:wrap;\n",
              "      gap: 12px;\n",
              "    }\n",
              "\n",
              "    .colab-df-convert {\n",
              "      background-color: #E8F0FE;\n",
              "      border: none;\n",
              "      border-radius: 50%;\n",
              "      cursor: pointer;\n",
              "      display: none;\n",
              "      fill: #1967D2;\n",
              "      height: 32px;\n",
              "      padding: 0 0 0 0;\n",
              "      width: 32px;\n",
              "    }\n",
              "\n",
              "    .colab-df-convert:hover {\n",
              "      background-color: #E2EBFA;\n",
              "      box-shadow: 0px 1px 2px rgba(60, 64, 67, 0.3), 0px 1px 3px 1px rgba(60, 64, 67, 0.15);\n",
              "      fill: #174EA6;\n",
              "    }\n",
              "\n",
              "    [theme=dark] .colab-df-convert {\n",
              "      background-color: #3B4455;\n",
              "      fill: #D2E3FC;\n",
              "    }\n",
              "\n",
              "    [theme=dark] .colab-df-convert:hover {\n",
              "      background-color: #434B5C;\n",
              "      box-shadow: 0px 1px 3px 1px rgba(0, 0, 0, 0.15);\n",
              "      filter: drop-shadow(0px 1px 2px rgba(0, 0, 0, 0.3));\n",
              "      fill: #FFFFFF;\n",
              "    }\n",
              "  </style>\n",
              "\n",
              "      <script>\n",
              "        const buttonEl =\n",
              "          document.querySelector('#df-dd43bd8c-3325-4523-94d5-070badc34786 button.colab-df-convert');\n",
              "        buttonEl.style.display =\n",
              "          google.colab.kernel.accessAllowed ? 'block' : 'none';\n",
              "\n",
              "        async function convertToInteractive(key) {\n",
              "          const element = document.querySelector('#df-dd43bd8c-3325-4523-94d5-070badc34786');\n",
              "          const dataTable =\n",
              "            await google.colab.kernel.invokeFunction('convertToInteractive',\n",
              "                                                     [key], {});\n",
              "          if (!dataTable) return;\n",
              "\n",
              "          const docLinkHtml = 'Like what you see? Visit the ' +\n",
              "            '<a target=\"_blank\" href=https://colab.research.google.com/notebooks/data_table.ipynb>data table notebook</a>'\n",
              "            + ' to learn more about interactive tables.';\n",
              "          element.innerHTML = '';\n",
              "          dataTable['output_type'] = 'display_data';\n",
              "          await google.colab.output.renderOutput(dataTable, element);\n",
              "          const docLink = document.createElement('div');\n",
              "          docLink.innerHTML = docLinkHtml;\n",
              "          element.appendChild(docLink);\n",
              "        }\n",
              "      </script>\n",
              "    </div>\n",
              "  </div>\n",
              "  "
            ]
          },
          "metadata": {},
          "execution_count": 15
        }
      ]
    },
    {
      "cell_type": "markdown",
      "source": [
        "## 順位を付与する"
      ],
      "metadata": {
        "id": "zgY9vuIxlHJh"
      }
    },
    {
      "cell_type": "markdown",
      "source": [
        "年度ごとに順位を付与"
      ],
      "metadata": {
        "id": "WGe67gWk0F6Y"
      }
    },
    {
      "cell_type": "code",
      "source": [
        "def format_estat_dataframe_withrank(df_arg):\n",
        "\n",
        "  # 年度リストを作成\n",
        "  times = df_arg['timeCode'].tolist()\n",
        "  times = list(set(times))\n",
        "\n",
        "  # 返却するDataFrameの定義\n",
        "  df_res = pd.DataFrame(index=[], columns=[])\n",
        "\n",
        "  # 年度毎に順位を付与\n",
        "  for time in times:\n",
        "\n",
        "    # 単年度のdataを抽出\n",
        "    df_time = df_arg.copy()[df_arg['timeCode'] == time]\n",
        "\n",
        "    # valueを数値に変換して、'rank'を付与\n",
        "    df_time = df_time.astype({'value': float})\n",
        "    df_time['rank'] = df_time.rank(ascending=False)['value'].astype(int).astype(str)\n",
        "\n",
        "    # 結合\n",
        "    df_res = pd.concat([df_res, df_time])\n",
        "    df_res = df_res.astype({'value': str})\n",
        "\n",
        "  return df_res\n",
        "\n",
        "df_last = format_estat_dataframe_withrank(df_fmt)\n",
        "df_last"
      ],
      "metadata": {
        "id": "S1UBjVPCzjA9",
        "colab": {
          "base_uri": "https://localhost:8080/",
          "height": 423
        },
        "outputId": "70a70396-cada-4ddd-a5e5-94af682d390b"
      },
      "execution_count": 16,
      "outputs": [
        {
          "output_type": "execute_result",
          "data": {
            "text/plain": [
              "   statsDataId statsDataName categoryCode categoryName timeCode timeName  \\\n",
              "47  0000010101     社会・人口統計体系        A1231        年齢中位数     2015   2015年度   \n",
              "48  0000010101     社会・人口統計体系        A1231        年齢中位数     2015   2015年度   \n",
              "49  0000010101     社会・人口統計体系        A1231        年齢中位数     2015   2015年度   \n",
              "50  0000010101     社会・人口統計体系        A1231        年齢中位数     2015   2015年度   \n",
              "51  0000010101     社会・人口統計体系        A1231        年齢中位数     2015   2015年度   \n",
              "..         ...           ...          ...          ...      ...      ...   \n",
              "42  0000010101     社会・人口統計体系        A1231        年齢中位数     2010   2010年度   \n",
              "43  0000010101     社会・人口統計体系        A1231        年齢中位数     2010   2010年度   \n",
              "44  0000010101     社会・人口統計体系        A1231        年齢中位数     2010   2010年度   \n",
              "45  0000010101     社会・人口統計体系        A1231        年齢中位数     2010   2010年度   \n",
              "46  0000010101     社会・人口統計体系        A1231        年齢中位数     2010   2010年度   \n",
              "\n",
              "   areaCode areaName value unit rank  \n",
              "47    01000      北海道  49.7    歳   18  \n",
              "48    02000      青森県  51.4    歳    5  \n",
              "49    03000      岩手県  51.3    歳    6  \n",
              "50    04000      宮城県  46.7    歳   37  \n",
              "51    05000      秋田県  54.8    歳    1  \n",
              "..      ...      ...   ...  ...  ...  \n",
              "42    43000      熊本県  47.8    歳   19  \n",
              "43    44000      大分県  48.8    歳   13  \n",
              "44    45000      宮崎県  48.6    歳   15  \n",
              "45    46000     鹿児島県  49.0    歳   10  \n",
              "46    47000      沖縄県  40.0    歳   47  \n",
              "\n",
              "[94 rows x 11 columns]"
            ],
            "text/html": [
              "\n",
              "  <div id=\"df-56e125f2-df65-4bb9-bae3-18ddbd12c6e7\">\n",
              "    <div class=\"colab-df-container\">\n",
              "      <div>\n",
              "<style scoped>\n",
              "    .dataframe tbody tr th:only-of-type {\n",
              "        vertical-align: middle;\n",
              "    }\n",
              "\n",
              "    .dataframe tbody tr th {\n",
              "        vertical-align: top;\n",
              "    }\n",
              "\n",
              "    .dataframe thead th {\n",
              "        text-align: right;\n",
              "    }\n",
              "</style>\n",
              "<table border=\"1\" class=\"dataframe\">\n",
              "  <thead>\n",
              "    <tr style=\"text-align: right;\">\n",
              "      <th></th>\n",
              "      <th>statsDataId</th>\n",
              "      <th>statsDataName</th>\n",
              "      <th>categoryCode</th>\n",
              "      <th>categoryName</th>\n",
              "      <th>timeCode</th>\n",
              "      <th>timeName</th>\n",
              "      <th>areaCode</th>\n",
              "      <th>areaName</th>\n",
              "      <th>value</th>\n",
              "      <th>unit</th>\n",
              "      <th>rank</th>\n",
              "    </tr>\n",
              "  </thead>\n",
              "  <tbody>\n",
              "    <tr>\n",
              "      <th>47</th>\n",
              "      <td>0000010101</td>\n",
              "      <td>社会・人口統計体系</td>\n",
              "      <td>A1231</td>\n",
              "      <td>年齢中位数</td>\n",
              "      <td>2015</td>\n",
              "      <td>2015年度</td>\n",
              "      <td>01000</td>\n",
              "      <td>北海道</td>\n",
              "      <td>49.7</td>\n",
              "      <td>歳</td>\n",
              "      <td>18</td>\n",
              "    </tr>\n",
              "    <tr>\n",
              "      <th>48</th>\n",
              "      <td>0000010101</td>\n",
              "      <td>社会・人口統計体系</td>\n",
              "      <td>A1231</td>\n",
              "      <td>年齢中位数</td>\n",
              "      <td>2015</td>\n",
              "      <td>2015年度</td>\n",
              "      <td>02000</td>\n",
              "      <td>青森県</td>\n",
              "      <td>51.4</td>\n",
              "      <td>歳</td>\n",
              "      <td>5</td>\n",
              "    </tr>\n",
              "    <tr>\n",
              "      <th>49</th>\n",
              "      <td>0000010101</td>\n",
              "      <td>社会・人口統計体系</td>\n",
              "      <td>A1231</td>\n",
              "      <td>年齢中位数</td>\n",
              "      <td>2015</td>\n",
              "      <td>2015年度</td>\n",
              "      <td>03000</td>\n",
              "      <td>岩手県</td>\n",
              "      <td>51.3</td>\n",
              "      <td>歳</td>\n",
              "      <td>6</td>\n",
              "    </tr>\n",
              "    <tr>\n",
              "      <th>50</th>\n",
              "      <td>0000010101</td>\n",
              "      <td>社会・人口統計体系</td>\n",
              "      <td>A1231</td>\n",
              "      <td>年齢中位数</td>\n",
              "      <td>2015</td>\n",
              "      <td>2015年度</td>\n",
              "      <td>04000</td>\n",
              "      <td>宮城県</td>\n",
              "      <td>46.7</td>\n",
              "      <td>歳</td>\n",
              "      <td>37</td>\n",
              "    </tr>\n",
              "    <tr>\n",
              "      <th>51</th>\n",
              "      <td>0000010101</td>\n",
              "      <td>社会・人口統計体系</td>\n",
              "      <td>A1231</td>\n",
              "      <td>年齢中位数</td>\n",
              "      <td>2015</td>\n",
              "      <td>2015年度</td>\n",
              "      <td>05000</td>\n",
              "      <td>秋田県</td>\n",
              "      <td>54.8</td>\n",
              "      <td>歳</td>\n",
              "      <td>1</td>\n",
              "    </tr>\n",
              "    <tr>\n",
              "      <th>...</th>\n",
              "      <td>...</td>\n",
              "      <td>...</td>\n",
              "      <td>...</td>\n",
              "      <td>...</td>\n",
              "      <td>...</td>\n",
              "      <td>...</td>\n",
              "      <td>...</td>\n",
              "      <td>...</td>\n",
              "      <td>...</td>\n",
              "      <td>...</td>\n",
              "      <td>...</td>\n",
              "    </tr>\n",
              "    <tr>\n",
              "      <th>42</th>\n",
              "      <td>0000010101</td>\n",
              "      <td>社会・人口統計体系</td>\n",
              "      <td>A1231</td>\n",
              "      <td>年齢中位数</td>\n",
              "      <td>2010</td>\n",
              "      <td>2010年度</td>\n",
              "      <td>43000</td>\n",
              "      <td>熊本県</td>\n",
              "      <td>47.8</td>\n",
              "      <td>歳</td>\n",
              "      <td>19</td>\n",
              "    </tr>\n",
              "    <tr>\n",
              "      <th>43</th>\n",
              "      <td>0000010101</td>\n",
              "      <td>社会・人口統計体系</td>\n",
              "      <td>A1231</td>\n",
              "      <td>年齢中位数</td>\n",
              "      <td>2010</td>\n",
              "      <td>2010年度</td>\n",
              "      <td>44000</td>\n",
              "      <td>大分県</td>\n",
              "      <td>48.8</td>\n",
              "      <td>歳</td>\n",
              "      <td>13</td>\n",
              "    </tr>\n",
              "    <tr>\n",
              "      <th>44</th>\n",
              "      <td>0000010101</td>\n",
              "      <td>社会・人口統計体系</td>\n",
              "      <td>A1231</td>\n",
              "      <td>年齢中位数</td>\n",
              "      <td>2010</td>\n",
              "      <td>2010年度</td>\n",
              "      <td>45000</td>\n",
              "      <td>宮崎県</td>\n",
              "      <td>48.6</td>\n",
              "      <td>歳</td>\n",
              "      <td>15</td>\n",
              "    </tr>\n",
              "    <tr>\n",
              "      <th>45</th>\n",
              "      <td>0000010101</td>\n",
              "      <td>社会・人口統計体系</td>\n",
              "      <td>A1231</td>\n",
              "      <td>年齢中位数</td>\n",
              "      <td>2010</td>\n",
              "      <td>2010年度</td>\n",
              "      <td>46000</td>\n",
              "      <td>鹿児島県</td>\n",
              "      <td>49.0</td>\n",
              "      <td>歳</td>\n",
              "      <td>10</td>\n",
              "    </tr>\n",
              "    <tr>\n",
              "      <th>46</th>\n",
              "      <td>0000010101</td>\n",
              "      <td>社会・人口統計体系</td>\n",
              "      <td>A1231</td>\n",
              "      <td>年齢中位数</td>\n",
              "      <td>2010</td>\n",
              "      <td>2010年度</td>\n",
              "      <td>47000</td>\n",
              "      <td>沖縄県</td>\n",
              "      <td>40.0</td>\n",
              "      <td>歳</td>\n",
              "      <td>47</td>\n",
              "    </tr>\n",
              "  </tbody>\n",
              "</table>\n",
              "<p>94 rows × 11 columns</p>\n",
              "</div>\n",
              "      <button class=\"colab-df-convert\" onclick=\"convertToInteractive('df-56e125f2-df65-4bb9-bae3-18ddbd12c6e7')\"\n",
              "              title=\"Convert this dataframe to an interactive table.\"\n",
              "              style=\"display:none;\">\n",
              "        \n",
              "  <svg xmlns=\"http://www.w3.org/2000/svg\" height=\"24px\"viewBox=\"0 0 24 24\"\n",
              "       width=\"24px\">\n",
              "    <path d=\"M0 0h24v24H0V0z\" fill=\"none\"/>\n",
              "    <path d=\"M18.56 5.44l.94 2.06.94-2.06 2.06-.94-2.06-.94-.94-2.06-.94 2.06-2.06.94zm-11 1L8.5 8.5l.94-2.06 2.06-.94-2.06-.94L8.5 2.5l-.94 2.06-2.06.94zm10 10l.94 2.06.94-2.06 2.06-.94-2.06-.94-.94-2.06-.94 2.06-2.06.94z\"/><path d=\"M17.41 7.96l-1.37-1.37c-.4-.4-.92-.59-1.43-.59-.52 0-1.04.2-1.43.59L10.3 9.45l-7.72 7.72c-.78.78-.78 2.05 0 2.83L4 21.41c.39.39.9.59 1.41.59.51 0 1.02-.2 1.41-.59l7.78-7.78 2.81-2.81c.8-.78.8-2.07 0-2.86zM5.41 20L4 18.59l7.72-7.72 1.47 1.35L5.41 20z\"/>\n",
              "  </svg>\n",
              "      </button>\n",
              "      \n",
              "  <style>\n",
              "    .colab-df-container {\n",
              "      display:flex;\n",
              "      flex-wrap:wrap;\n",
              "      gap: 12px;\n",
              "    }\n",
              "\n",
              "    .colab-df-convert {\n",
              "      background-color: #E8F0FE;\n",
              "      border: none;\n",
              "      border-radius: 50%;\n",
              "      cursor: pointer;\n",
              "      display: none;\n",
              "      fill: #1967D2;\n",
              "      height: 32px;\n",
              "      padding: 0 0 0 0;\n",
              "      width: 32px;\n",
              "    }\n",
              "\n",
              "    .colab-df-convert:hover {\n",
              "      background-color: #E2EBFA;\n",
              "      box-shadow: 0px 1px 2px rgba(60, 64, 67, 0.3), 0px 1px 3px 1px rgba(60, 64, 67, 0.15);\n",
              "      fill: #174EA6;\n",
              "    }\n",
              "\n",
              "    [theme=dark] .colab-df-convert {\n",
              "      background-color: #3B4455;\n",
              "      fill: #D2E3FC;\n",
              "    }\n",
              "\n",
              "    [theme=dark] .colab-df-convert:hover {\n",
              "      background-color: #434B5C;\n",
              "      box-shadow: 0px 1px 3px 1px rgba(0, 0, 0, 0.15);\n",
              "      filter: drop-shadow(0px 1px 2px rgba(0, 0, 0, 0.3));\n",
              "      fill: #FFFFFF;\n",
              "    }\n",
              "  </style>\n",
              "\n",
              "      <script>\n",
              "        const buttonEl =\n",
              "          document.querySelector('#df-56e125f2-df65-4bb9-bae3-18ddbd12c6e7 button.colab-df-convert');\n",
              "        buttonEl.style.display =\n",
              "          google.colab.kernel.accessAllowed ? 'block' : 'none';\n",
              "\n",
              "        async function convertToInteractive(key) {\n",
              "          const element = document.querySelector('#df-56e125f2-df65-4bb9-bae3-18ddbd12c6e7');\n",
              "          const dataTable =\n",
              "            await google.colab.kernel.invokeFunction('convertToInteractive',\n",
              "                                                     [key], {});\n",
              "          if (!dataTable) return;\n",
              "\n",
              "          const docLinkHtml = 'Like what you see? Visit the ' +\n",
              "            '<a target=\"_blank\" href=https://colab.research.google.com/notebooks/data_table.ipynb>data table notebook</a>'\n",
              "            + ' to learn more about interactive tables.';\n",
              "          element.innerHTML = '';\n",
              "          dataTable['output_type'] = 'display_data';\n",
              "          await google.colab.output.renderOutput(dataTable, element);\n",
              "          const docLink = document.createElement('div');\n",
              "          docLink.innerHTML = docLinkHtml;\n",
              "          element.appendChild(docLink);\n",
              "        }\n",
              "      </script>\n",
              "    </div>\n",
              "  </div>\n",
              "  "
            ]
          },
          "metadata": {},
          "execution_count": 16
        }
      ]
    },
    {
      "cell_type": "markdown",
      "source": [
        "## まとめ"
      ],
      "metadata": {
        "id": "5AXbHV5OJAfw"
      }
    },
    {
      "cell_type": "markdown",
      "source": [
        "paramsを指定してから、順位を付与したDataFrameを取得するまでを関数にまとめる"
      ],
      "metadata": {
        "id": "ArUHZy6QQFeg"
      }
    },
    {
      "cell_type": "code",
      "source": [
        "params = {}\n",
        "\n",
        "params['statsDataId'] = statsDataId\n",
        "params['cdCat01'] = 'A1101'\n",
        "params['cdArea']=\",\".join(area_codes)"
      ],
      "metadata": {
        "id": "ovojX-y9QQaU"
      },
      "execution_count": 17,
      "outputs": []
    },
    {
      "cell_type": "code",
      "source": [
        "def get_estat_dataframe(params):\n",
        "  # estat-APIのレスポンス取得\n",
        "  res = get_estat_data(params)\n",
        "\n",
        "  # レスポンスをDataFrameに変換\n",
        "  df = conv_estat_response_to_dataframe(res)\n",
        "\n",
        "  # DataFrameを整形\n",
        "  df = format_estat_dataframe(df)\n",
        "\n",
        "  # 順位を付与\n",
        "  df = format_estat_dataframe_withrank(df)\n",
        "\n",
        "  return df\n",
        "\n",
        "df = get_estat_dataframe(params)\n",
        "df"
      ],
      "metadata": {
        "id": "SwhlhHLQQLej",
        "colab": {
          "base_uri": "https://localhost:8080/",
          "height": 423
        },
        "outputId": "22a3ec4c-3a83-43e2-b0cd-1e6de9994e33"
      },
      "execution_count": 18,
      "outputs": [
        {
          "output_type": "execute_result",
          "data": {
            "text/plain": [
              "     statsDataId statsDataName categoryCode categoryName timeCode timeName  \\\n",
              "1504  0000010101     社会・人口統計体系        A1101          総人口     2007   2007年度   \n",
              "1505  0000010101     社会・人口統計体系        A1101          総人口     2007   2007年度   \n",
              "1506  0000010101     社会・人口統計体系        A1101          総人口     2007   2007年度   \n",
              "1507  0000010101     社会・人口統計体系        A1101          総人口     2007   2007年度   \n",
              "1508  0000010101     社会・人口統計体系        A1101          総人口     2007   2007年度   \n",
              "...          ...           ...          ...          ...      ...      ...   \n",
              "700   0000010101     社会・人口統計体系        A1101          総人口     1989   1989年度   \n",
              "701   0000010101     社会・人口統計体系        A1101          総人口     1989   1989年度   \n",
              "702   0000010101     社会・人口統計体系        A1101          総人口     1989   1989年度   \n",
              "703   0000010101     社会・人口統計体系        A1101          総人口     1989   1989年度   \n",
              "704   0000010101     社会・人口統計体系        A1101          総人口     1989   1989年度   \n",
              "\n",
              "     areaCode areaName      value unit rank  \n",
              "1504    01000      北海道  5579000.0    人    8  \n",
              "1505    02000      青森県  1409000.0    人   29  \n",
              "1506    03000      岩手県  1364000.0    人   32  \n",
              "1507    04000      宮城県  2354000.0    人   15  \n",
              "1508    05000      秋田県  1121000.0    人   37  \n",
              "...       ...      ...        ...  ...  ...  \n",
              "700     43000      熊本県  1841000.0    人   22  \n",
              "701     44000      大分県  1240000.0    人   32  \n",
              "702     45000      宮崎県  1172000.0    人   36  \n",
              "703     46000     鹿児島県  1805000.0    人   23  \n",
              "704     47000      沖縄県  1215000.0    人   34  \n",
              "\n",
              "[2115 rows x 11 columns]"
            ],
            "text/html": [
              "\n",
              "  <div id=\"df-8aa6c084-901f-4465-8a3a-e328270ab1b8\">\n",
              "    <div class=\"colab-df-container\">\n",
              "      <div>\n",
              "<style scoped>\n",
              "    .dataframe tbody tr th:only-of-type {\n",
              "        vertical-align: middle;\n",
              "    }\n",
              "\n",
              "    .dataframe tbody tr th {\n",
              "        vertical-align: top;\n",
              "    }\n",
              "\n",
              "    .dataframe thead th {\n",
              "        text-align: right;\n",
              "    }\n",
              "</style>\n",
              "<table border=\"1\" class=\"dataframe\">\n",
              "  <thead>\n",
              "    <tr style=\"text-align: right;\">\n",
              "      <th></th>\n",
              "      <th>statsDataId</th>\n",
              "      <th>statsDataName</th>\n",
              "      <th>categoryCode</th>\n",
              "      <th>categoryName</th>\n",
              "      <th>timeCode</th>\n",
              "      <th>timeName</th>\n",
              "      <th>areaCode</th>\n",
              "      <th>areaName</th>\n",
              "      <th>value</th>\n",
              "      <th>unit</th>\n",
              "      <th>rank</th>\n",
              "    </tr>\n",
              "  </thead>\n",
              "  <tbody>\n",
              "    <tr>\n",
              "      <th>1504</th>\n",
              "      <td>0000010101</td>\n",
              "      <td>社会・人口統計体系</td>\n",
              "      <td>A1101</td>\n",
              "      <td>総人口</td>\n",
              "      <td>2007</td>\n",
              "      <td>2007年度</td>\n",
              "      <td>01000</td>\n",
              "      <td>北海道</td>\n",
              "      <td>5579000.0</td>\n",
              "      <td>人</td>\n",
              "      <td>8</td>\n",
              "    </tr>\n",
              "    <tr>\n",
              "      <th>1505</th>\n",
              "      <td>0000010101</td>\n",
              "      <td>社会・人口統計体系</td>\n",
              "      <td>A1101</td>\n",
              "      <td>総人口</td>\n",
              "      <td>2007</td>\n",
              "      <td>2007年度</td>\n",
              "      <td>02000</td>\n",
              "      <td>青森県</td>\n",
              "      <td>1409000.0</td>\n",
              "      <td>人</td>\n",
              "      <td>29</td>\n",
              "    </tr>\n",
              "    <tr>\n",
              "      <th>1506</th>\n",
              "      <td>0000010101</td>\n",
              "      <td>社会・人口統計体系</td>\n",
              "      <td>A1101</td>\n",
              "      <td>総人口</td>\n",
              "      <td>2007</td>\n",
              "      <td>2007年度</td>\n",
              "      <td>03000</td>\n",
              "      <td>岩手県</td>\n",
              "      <td>1364000.0</td>\n",
              "      <td>人</td>\n",
              "      <td>32</td>\n",
              "    </tr>\n",
              "    <tr>\n",
              "      <th>1507</th>\n",
              "      <td>0000010101</td>\n",
              "      <td>社会・人口統計体系</td>\n",
              "      <td>A1101</td>\n",
              "      <td>総人口</td>\n",
              "      <td>2007</td>\n",
              "      <td>2007年度</td>\n",
              "      <td>04000</td>\n",
              "      <td>宮城県</td>\n",
              "      <td>2354000.0</td>\n",
              "      <td>人</td>\n",
              "      <td>15</td>\n",
              "    </tr>\n",
              "    <tr>\n",
              "      <th>1508</th>\n",
              "      <td>0000010101</td>\n",
              "      <td>社会・人口統計体系</td>\n",
              "      <td>A1101</td>\n",
              "      <td>総人口</td>\n",
              "      <td>2007</td>\n",
              "      <td>2007年度</td>\n",
              "      <td>05000</td>\n",
              "      <td>秋田県</td>\n",
              "      <td>1121000.0</td>\n",
              "      <td>人</td>\n",
              "      <td>37</td>\n",
              "    </tr>\n",
              "    <tr>\n",
              "      <th>...</th>\n",
              "      <td>...</td>\n",
              "      <td>...</td>\n",
              "      <td>...</td>\n",
              "      <td>...</td>\n",
              "      <td>...</td>\n",
              "      <td>...</td>\n",
              "      <td>...</td>\n",
              "      <td>...</td>\n",
              "      <td>...</td>\n",
              "      <td>...</td>\n",
              "      <td>...</td>\n",
              "    </tr>\n",
              "    <tr>\n",
              "      <th>700</th>\n",
              "      <td>0000010101</td>\n",
              "      <td>社会・人口統計体系</td>\n",
              "      <td>A1101</td>\n",
              "      <td>総人口</td>\n",
              "      <td>1989</td>\n",
              "      <td>1989年度</td>\n",
              "      <td>43000</td>\n",
              "      <td>熊本県</td>\n",
              "      <td>1841000.0</td>\n",
              "      <td>人</td>\n",
              "      <td>22</td>\n",
              "    </tr>\n",
              "    <tr>\n",
              "      <th>701</th>\n",
              "      <td>0000010101</td>\n",
              "      <td>社会・人口統計体系</td>\n",
              "      <td>A1101</td>\n",
              "      <td>総人口</td>\n",
              "      <td>1989</td>\n",
              "      <td>1989年度</td>\n",
              "      <td>44000</td>\n",
              "      <td>大分県</td>\n",
              "      <td>1240000.0</td>\n",
              "      <td>人</td>\n",
              "      <td>32</td>\n",
              "    </tr>\n",
              "    <tr>\n",
              "      <th>702</th>\n",
              "      <td>0000010101</td>\n",
              "      <td>社会・人口統計体系</td>\n",
              "      <td>A1101</td>\n",
              "      <td>総人口</td>\n",
              "      <td>1989</td>\n",
              "      <td>1989年度</td>\n",
              "      <td>45000</td>\n",
              "      <td>宮崎県</td>\n",
              "      <td>1172000.0</td>\n",
              "      <td>人</td>\n",
              "      <td>36</td>\n",
              "    </tr>\n",
              "    <tr>\n",
              "      <th>703</th>\n",
              "      <td>0000010101</td>\n",
              "      <td>社会・人口統計体系</td>\n",
              "      <td>A1101</td>\n",
              "      <td>総人口</td>\n",
              "      <td>1989</td>\n",
              "      <td>1989年度</td>\n",
              "      <td>46000</td>\n",
              "      <td>鹿児島県</td>\n",
              "      <td>1805000.0</td>\n",
              "      <td>人</td>\n",
              "      <td>23</td>\n",
              "    </tr>\n",
              "    <tr>\n",
              "      <th>704</th>\n",
              "      <td>0000010101</td>\n",
              "      <td>社会・人口統計体系</td>\n",
              "      <td>A1101</td>\n",
              "      <td>総人口</td>\n",
              "      <td>1989</td>\n",
              "      <td>1989年度</td>\n",
              "      <td>47000</td>\n",
              "      <td>沖縄県</td>\n",
              "      <td>1215000.0</td>\n",
              "      <td>人</td>\n",
              "      <td>34</td>\n",
              "    </tr>\n",
              "  </tbody>\n",
              "</table>\n",
              "<p>2115 rows × 11 columns</p>\n",
              "</div>\n",
              "      <button class=\"colab-df-convert\" onclick=\"convertToInteractive('df-8aa6c084-901f-4465-8a3a-e328270ab1b8')\"\n",
              "              title=\"Convert this dataframe to an interactive table.\"\n",
              "              style=\"display:none;\">\n",
              "        \n",
              "  <svg xmlns=\"http://www.w3.org/2000/svg\" height=\"24px\"viewBox=\"0 0 24 24\"\n",
              "       width=\"24px\">\n",
              "    <path d=\"M0 0h24v24H0V0z\" fill=\"none\"/>\n",
              "    <path d=\"M18.56 5.44l.94 2.06.94-2.06 2.06-.94-2.06-.94-.94-2.06-.94 2.06-2.06.94zm-11 1L8.5 8.5l.94-2.06 2.06-.94-2.06-.94L8.5 2.5l-.94 2.06-2.06.94zm10 10l.94 2.06.94-2.06 2.06-.94-2.06-.94-.94-2.06-.94 2.06-2.06.94z\"/><path d=\"M17.41 7.96l-1.37-1.37c-.4-.4-.92-.59-1.43-.59-.52 0-1.04.2-1.43.59L10.3 9.45l-7.72 7.72c-.78.78-.78 2.05 0 2.83L4 21.41c.39.39.9.59 1.41.59.51 0 1.02-.2 1.41-.59l7.78-7.78 2.81-2.81c.8-.78.8-2.07 0-2.86zM5.41 20L4 18.59l7.72-7.72 1.47 1.35L5.41 20z\"/>\n",
              "  </svg>\n",
              "      </button>\n",
              "      \n",
              "  <style>\n",
              "    .colab-df-container {\n",
              "      display:flex;\n",
              "      flex-wrap:wrap;\n",
              "      gap: 12px;\n",
              "    }\n",
              "\n",
              "    .colab-df-convert {\n",
              "      background-color: #E8F0FE;\n",
              "      border: none;\n",
              "      border-radius: 50%;\n",
              "      cursor: pointer;\n",
              "      display: none;\n",
              "      fill: #1967D2;\n",
              "      height: 32px;\n",
              "      padding: 0 0 0 0;\n",
              "      width: 32px;\n",
              "    }\n",
              "\n",
              "    .colab-df-convert:hover {\n",
              "      background-color: #E2EBFA;\n",
              "      box-shadow: 0px 1px 2px rgba(60, 64, 67, 0.3), 0px 1px 3px 1px rgba(60, 64, 67, 0.15);\n",
              "      fill: #174EA6;\n",
              "    }\n",
              "\n",
              "    [theme=dark] .colab-df-convert {\n",
              "      background-color: #3B4455;\n",
              "      fill: #D2E3FC;\n",
              "    }\n",
              "\n",
              "    [theme=dark] .colab-df-convert:hover {\n",
              "      background-color: #434B5C;\n",
              "      box-shadow: 0px 1px 3px 1px rgba(0, 0, 0, 0.15);\n",
              "      filter: drop-shadow(0px 1px 2px rgba(0, 0, 0, 0.3));\n",
              "      fill: #FFFFFF;\n",
              "    }\n",
              "  </style>\n",
              "\n",
              "      <script>\n",
              "        const buttonEl =\n",
              "          document.querySelector('#df-8aa6c084-901f-4465-8a3a-e328270ab1b8 button.colab-df-convert');\n",
              "        buttonEl.style.display =\n",
              "          google.colab.kernel.accessAllowed ? 'block' : 'none';\n",
              "\n",
              "        async function convertToInteractive(key) {\n",
              "          const element = document.querySelector('#df-8aa6c084-901f-4465-8a3a-e328270ab1b8');\n",
              "          const dataTable =\n",
              "            await google.colab.kernel.invokeFunction('convertToInteractive',\n",
              "                                                     [key], {});\n",
              "          if (!dataTable) return;\n",
              "\n",
              "          const docLinkHtml = 'Like what you see? Visit the ' +\n",
              "            '<a target=\"_blank\" href=https://colab.research.google.com/notebooks/data_table.ipynb>data table notebook</a>'\n",
              "            + ' to learn more about interactive tables.';\n",
              "          element.innerHTML = '';\n",
              "          dataTable['output_type'] = 'display_data';\n",
              "          await google.colab.output.renderOutput(dataTable, element);\n",
              "          const docLink = document.createElement('div');\n",
              "          docLink.innerHTML = docLinkHtml;\n",
              "          element.appendChild(docLink);\n",
              "        }\n",
              "      </script>\n",
              "    </div>\n",
              "  </div>\n",
              "  "
            ]
          },
          "metadata": {},
          "execution_count": 18
        }
      ]
    },
    {
      "cell_type": "code",
      "source": [
        "pip install pandas_gbq"
      ],
      "metadata": {
        "id": "-aKtnLGQQCLt",
        "outputId": "991f88e2-30af-426a-d633-a720ab90322a",
        "colab": {
          "base_uri": "https://localhost:8080/"
        }
      },
      "execution_count": 19,
      "outputs": [
        {
          "output_type": "stream",
          "name": "stdout",
          "text": [
            "Looking in indexes: https://pypi.org/simple, https://us-python.pkg.dev/colab-wheels/public/simple/\n",
            "Requirement already satisfied: pandas_gbq in /usr/local/lib/python3.9/site-packages (0.17.8)\n",
            "Requirement already satisfied: google-api-core!=2.0.*,!=2.1.*,!=2.2.*,!=2.3.0,<3.0.0dev,>=1.31.5 in /usr/local/lib/python3.9/site-packages (from pandas_gbq) (2.10.1)\n",
            "Requirement already satisfied: setuptools in /usr/local/lib/python3.9/site-packages (from pandas_gbq) (61.2.0)\n",
            "Requirement already satisfied: google-auth-oauthlib>=0.0.1 in /usr/local/lib/python3.9/site-packages (from pandas_gbq) (0.5.3)\n",
            "Requirement already satisfied: google-auth>=1.25.0 in /usr/local/lib/python3.9/site-packages (from pandas_gbq) (2.11.0)\n",
            "Requirement already satisfied: numpy>=1.16.6 in /usr/local/lib/python3.9/site-packages (from pandas_gbq) (1.21.5)\n",
            "Requirement already satisfied: db-dtypes<2.0.0,>=0.3.1 in /usr/local/lib/python3.9/site-packages (from pandas_gbq) (1.0.3)\n",
            "Requirement already satisfied: google-cloud-bigquery-storage<3.0.0dev,>=1.1.0 in /usr/local/lib/python3.9/site-packages (from pandas_gbq) (2.15.0)\n",
            "Requirement already satisfied: pyarrow<10.0dev,>=3.0.0 in /usr/local/lib/python3.9/site-packages (from pandas_gbq) (9.0.0)\n",
            "Requirement already satisfied: google-cloud-bigquery!=2.4.*,<4.0.0dev,>=1.27.2 in /usr/local/lib/python3.9/site-packages (from pandas_gbq) (3.3.2)\n",
            "Requirement already satisfied: pandas>=0.24.2 in /usr/local/lib/python3.9/site-packages (from pandas_gbq) (1.4.2)\n",
            "Requirement already satisfied: pydata-google-auth in /usr/local/lib/python3.9/site-packages (from pandas_gbq) (1.4.0)\n",
            "Requirement already satisfied: packaging>=17.0 in /usr/local/lib/python3.9/site-packages (from db-dtypes<2.0.0,>=0.3.1->pandas_gbq) (21.3)\n",
            "Requirement already satisfied: requests<3.0.0dev,>=2.18.0 in /usr/local/lib/python3.9/site-packages (from google-api-core!=2.0.*,!=2.1.*,!=2.2.*,!=2.3.0,<3.0.0dev,>=1.31.5->pandas_gbq) (2.27.1)\n",
            "Requirement already satisfied: protobuf<5.0.0dev,>=3.20.1 in /usr/local/lib/python3.9/site-packages (from google-api-core!=2.0.*,!=2.1.*,!=2.2.*,!=2.3.0,<3.0.0dev,>=1.31.5->pandas_gbq) (4.21.6)\n",
            "Requirement already satisfied: googleapis-common-protos<2.0dev,>=1.56.2 in /usr/local/lib/python3.9/site-packages (from google-api-core!=2.0.*,!=2.1.*,!=2.2.*,!=2.3.0,<3.0.0dev,>=1.31.5->pandas_gbq) (1.56.4)\n",
            "Requirement already satisfied: pyasn1-modules>=0.2.1 in /usr/local/lib/python3.9/site-packages (from google-auth>=1.25.0->pandas_gbq) (0.2.7)\n",
            "Requirement already satisfied: rsa<5,>=3.1.4 in /usr/local/lib/python3.9/site-packages (from google-auth>=1.25.0->pandas_gbq) (4.9)\n",
            "Requirement already satisfied: cachetools<6.0,>=2.0.0 in /usr/local/lib/python3.9/site-packages (from google-auth>=1.25.0->pandas_gbq) (5.2.0)\n",
            "Requirement already satisfied: six>=1.9.0 in /usr/local/lib/python3.9/site-packages (from google-auth>=1.25.0->pandas_gbq) (1.16.0)\n",
            "Requirement already satisfied: requests-oauthlib>=0.7.0 in /usr/local/lib/python3.9/site-packages (from google-auth-oauthlib>=0.0.1->pandas_gbq) (1.3.1)\n",
            "Requirement already satisfied: google-cloud-core<3.0.0dev,>=1.4.1 in /usr/local/lib/python3.9/site-packages (from google-cloud-bigquery!=2.4.*,<4.0.0dev,>=1.27.2->pandas_gbq) (2.3.2)\n",
            "Requirement already satisfied: proto-plus<2.0.0dev,>=1.22.0 in /usr/local/lib/python3.9/site-packages (from google-cloud-bigquery!=2.4.*,<4.0.0dev,>=1.27.2->pandas_gbq) (1.22.1)\n",
            "Requirement already satisfied: google-resumable-media<3.0dev,>=0.6.0 in /usr/local/lib/python3.9/site-packages (from google-cloud-bigquery!=2.4.*,<4.0.0dev,>=1.27.2->pandas_gbq) (2.3.3)\n",
            "Requirement already satisfied: python-dateutil<3.0dev,>=2.7.2 in /usr/local/lib/python3.9/site-packages (from google-cloud-bigquery!=2.4.*,<4.0.0dev,>=1.27.2->pandas_gbq) (2.8.2)\n",
            "Requirement already satisfied: grpcio<2.0dev,>=1.47.0 in /usr/local/lib/python3.9/site-packages (from google-cloud-bigquery!=2.4.*,<4.0.0dev,>=1.27.2->pandas_gbq) (1.48.1)\n",
            "Requirement already satisfied: grpcio-status<2.0dev,>=1.33.2 in /usr/local/lib/python3.9/site-packages (from google-api-core!=2.0.*,!=2.1.*,!=2.2.*,!=2.3.0,<3.0.0dev,>=1.31.5->pandas_gbq) (1.48.1)\n",
            "Requirement already satisfied: google-crc32c<2.0dev,>=1.0 in /usr/local/lib/python3.9/site-packages (from google-resumable-media<3.0dev,>=0.6.0->google-cloud-bigquery!=2.4.*,<4.0.0dev,>=1.27.2->pandas_gbq) (1.5.0)\n",
            "Requirement already satisfied: pyparsing!=3.0.5,>=2.0.2 in /usr/local/lib/python3.9/site-packages (from packaging>=17.0->db-dtypes<2.0.0,>=0.3.1->pandas_gbq) (3.0.9)\n",
            "Requirement already satisfied: pytz>=2020.1 in /usr/local/lib/python3.9/site-packages (from pandas>=0.24.2->pandas_gbq) (2022.1)\n",
            "Requirement already satisfied: pyasn1<0.5.0,>=0.4.6 in /usr/local/lib/python3.9/site-packages (from pyasn1-modules>=0.2.1->google-auth>=1.25.0->pandas_gbq) (0.4.8)\n",
            "Requirement already satisfied: charset-normalizer~=2.0.0 in /usr/local/lib/python3.9/site-packages (from requests<3.0.0dev,>=2.18.0->google-api-core!=2.0.*,!=2.1.*,!=2.2.*,!=2.3.0,<3.0.0dev,>=1.31.5->pandas_gbq) (2.0.4)\n",
            "Requirement already satisfied: urllib3<1.27,>=1.21.1 in /usr/local/lib/python3.9/site-packages (from requests<3.0.0dev,>=2.18.0->google-api-core!=2.0.*,!=2.1.*,!=2.2.*,!=2.3.0,<3.0.0dev,>=1.31.5->pandas_gbq) (1.26.8)\n",
            "Requirement already satisfied: idna<4,>=2.5 in /usr/local/lib/python3.9/site-packages (from requests<3.0.0dev,>=2.18.0->google-api-core!=2.0.*,!=2.1.*,!=2.2.*,!=2.3.0,<3.0.0dev,>=1.31.5->pandas_gbq) (3.3)\n",
            "Requirement already satisfied: certifi>=2017.4.17 in /usr/local/lib/python3.9/site-packages (from requests<3.0.0dev,>=2.18.0->google-api-core!=2.0.*,!=2.1.*,!=2.2.*,!=2.3.0,<3.0.0dev,>=1.31.5->pandas_gbq) (2022.9.14)\n",
            "Requirement already satisfied: oauthlib>=3.0.0 in /usr/local/lib/python3.9/site-packages (from requests-oauthlib>=0.7.0->google-auth-oauthlib>=0.0.1->pandas_gbq) (3.2.1)\n",
            "\u001b[33mWARNING: Running pip as the 'root' user can result in broken permissions and conflicting behaviour with the system package manager. It is recommended to use a virtual environment instead: https://pip.pypa.io/warnings/venv\u001b[0m\n"
          ]
        }
      ]
    },
    {
      "cell_type": "code",
      "source": [],
      "metadata": {
        "id": "BMLB6hKcQB6l"
      },
      "execution_count": null,
      "outputs": []
    },
    {
      "cell_type": "code",
      "source": [
        "# プロジェクトの定義\n",
        "project_id='primal-buttress-342908'\n",
        "dataset_id = 'primal-buttress-342908.esat_api'\n",
        "table_id='test3'\n",
        "\n",
        "\n",
        "df = get_estat_dataframe(params)\n",
        "# データフレームの内容をBigQueryのテーブルに追加\n",
        "df.to_gbq( f'{dataset_id}.{table_id}', project_id=project_id, if_exists=\"append\")"
      ],
      "metadata": {
        "id": "e1eIhW47AJ7M",
        "colab": {
          "base_uri": "https://localhost:8080/",
          "height": 605
        },
        "outputId": "c84dc442-05f2-4477-94a2-f2a43a92eb58"
      },
      "execution_count": 21,
      "outputs": [
        {
          "output_type": "error",
          "ename": "GenericGBQException",
          "evalue": "ignored",
          "traceback": [
            "\u001b[0;31m---------------------------------------------------------------------------\u001b[0m",
            "\u001b[0;31mNotFound\u001b[0m                                  Traceback (most recent call last)",
            "\u001b[0;32m/usr/local/lib/python3.7/dist-packages/pandas_gbq/gbq.py\u001b[0m in \u001b[0;36mto_gbq\u001b[0;34m(dataframe, destination_table, project_id, chunksize, reauth, if_exists, auth_local_webserver, table_schema, location, progress_bar, credentials, verbose, private_key)\u001b[0m\n\u001b[1;32m   1149\u001b[0m     \u001b[0;32mtry\u001b[0m\u001b[0;34m:\u001b[0m\u001b[0;34m\u001b[0m\u001b[0;34m\u001b[0m\u001b[0m\n\u001b[0;32m-> 1150\u001b[0;31m         \u001b[0mtable\u001b[0m \u001b[0;34m=\u001b[0m \u001b[0mbqclient\u001b[0m\u001b[0;34m.\u001b[0m\u001b[0mget_table\u001b[0m\u001b[0;34m(\u001b[0m\u001b[0mdestination_table\u001b[0m\u001b[0;34m)\u001b[0m\u001b[0;34m\u001b[0m\u001b[0;34m\u001b[0m\u001b[0m\n\u001b[0m\u001b[1;32m   1151\u001b[0m     \u001b[0;32mexcept\u001b[0m \u001b[0mgoogle_exceptions\u001b[0m\u001b[0;34m.\u001b[0m\u001b[0mNotFound\u001b[0m\u001b[0;34m:\u001b[0m\u001b[0;34m\u001b[0m\u001b[0;34m\u001b[0m\u001b[0m\n",
            "\u001b[0;32m/usr/local/lib/python3.7/dist-packages/google/cloud/bigquery/client.py\u001b[0m in \u001b[0;36mget_table\u001b[0;34m(self, table, retry)\u001b[0m\n\u001b[1;32m    580\u001b[0m         \u001b[0mtable_ref\u001b[0m \u001b[0;34m=\u001b[0m \u001b[0m_table_arg_to_table_ref\u001b[0m\u001b[0;34m(\u001b[0m\u001b[0mtable\u001b[0m\u001b[0;34m,\u001b[0m \u001b[0mdefault_project\u001b[0m\u001b[0;34m=\u001b[0m\u001b[0mself\u001b[0m\u001b[0;34m.\u001b[0m\u001b[0mproject\u001b[0m\u001b[0;34m)\u001b[0m\u001b[0;34m\u001b[0m\u001b[0;34m\u001b[0m\u001b[0m\n\u001b[0;32m--> 581\u001b[0;31m         \u001b[0mapi_response\u001b[0m \u001b[0;34m=\u001b[0m \u001b[0mself\u001b[0m\u001b[0;34m.\u001b[0m\u001b[0m_call_api\u001b[0m\u001b[0;34m(\u001b[0m\u001b[0mretry\u001b[0m\u001b[0;34m,\u001b[0m \u001b[0mmethod\u001b[0m\u001b[0;34m=\u001b[0m\u001b[0;34m\"GET\"\u001b[0m\u001b[0;34m,\u001b[0m \u001b[0mpath\u001b[0m\u001b[0;34m=\u001b[0m\u001b[0mtable_ref\u001b[0m\u001b[0;34m.\u001b[0m\u001b[0mpath\u001b[0m\u001b[0;34m)\u001b[0m\u001b[0;34m\u001b[0m\u001b[0;34m\u001b[0m\u001b[0m\n\u001b[0m\u001b[1;32m    582\u001b[0m         \u001b[0;32mreturn\u001b[0m \u001b[0mTable\u001b[0m\u001b[0;34m.\u001b[0m\u001b[0mfrom_api_repr\u001b[0m\u001b[0;34m(\u001b[0m\u001b[0mapi_response\u001b[0m\u001b[0;34m)\u001b[0m\u001b[0;34m\u001b[0m\u001b[0;34m\u001b[0m\u001b[0m\n",
            "\u001b[0;32m/usr/local/lib/python3.7/dist-packages/google/cloud/bigquery/client.py\u001b[0m in \u001b[0;36m_call_api\u001b[0;34m(self, retry, **kwargs)\u001b[0m\n\u001b[1;32m    475\u001b[0m             \u001b[0mcall\u001b[0m \u001b[0;34m=\u001b[0m \u001b[0mretry\u001b[0m\u001b[0;34m(\u001b[0m\u001b[0mcall\u001b[0m\u001b[0;34m)\u001b[0m\u001b[0;34m\u001b[0m\u001b[0;34m\u001b[0m\u001b[0m\n\u001b[0;32m--> 476\u001b[0;31m         \u001b[0;32mreturn\u001b[0m \u001b[0mcall\u001b[0m\u001b[0;34m(\u001b[0m\u001b[0;34m)\u001b[0m\u001b[0;34m\u001b[0m\u001b[0;34m\u001b[0m\u001b[0m\n\u001b[0m\u001b[1;32m    477\u001b[0m \u001b[0;34m\u001b[0m\u001b[0m\n",
            "\u001b[0;32m/usr/local/lib/python3.7/dist-packages/google/api_core/retry.py\u001b[0m in \u001b[0;36mretry_wrapped_func\u001b[0;34m(*args, **kwargs)\u001b[0m\n\u001b[1;32m    290\u001b[0m                 \u001b[0mself\u001b[0m\u001b[0;34m.\u001b[0m\u001b[0m_deadline\u001b[0m\u001b[0;34m,\u001b[0m\u001b[0;34m\u001b[0m\u001b[0;34m\u001b[0m\u001b[0m\n\u001b[0;32m--> 291\u001b[0;31m                 \u001b[0mon_error\u001b[0m\u001b[0;34m=\u001b[0m\u001b[0mon_error\u001b[0m\u001b[0;34m,\u001b[0m\u001b[0;34m\u001b[0m\u001b[0;34m\u001b[0m\u001b[0m\n\u001b[0m\u001b[1;32m    292\u001b[0m             )\n",
            "\u001b[0;32m/usr/local/lib/python3.7/dist-packages/google/api_core/retry.py\u001b[0m in \u001b[0;36mretry_target\u001b[0;34m(target, predicate, sleep_generator, deadline, on_error)\u001b[0m\n\u001b[1;32m    188\u001b[0m         \u001b[0;32mtry\u001b[0m\u001b[0;34m:\u001b[0m\u001b[0;34m\u001b[0m\u001b[0;34m\u001b[0m\u001b[0m\n\u001b[0;32m--> 189\u001b[0;31m             \u001b[0;32mreturn\u001b[0m \u001b[0mtarget\u001b[0m\u001b[0;34m(\u001b[0m\u001b[0;34m)\u001b[0m\u001b[0;34m\u001b[0m\u001b[0;34m\u001b[0m\u001b[0m\n\u001b[0m\u001b[1;32m    190\u001b[0m \u001b[0;34m\u001b[0m\u001b[0m\n",
            "\u001b[0;32m/usr/local/lib/python3.7/dist-packages/google/cloud/_http.py\u001b[0m in \u001b[0;36mapi_request\u001b[0;34m(self, method, path, query_params, data, content_type, headers, api_base_url, api_version, expect_json, _target_object)\u001b[0m\n\u001b[1;32m    392\u001b[0m         \u001b[0;32mif\u001b[0m \u001b[0;32mnot\u001b[0m \u001b[0;36m200\u001b[0m \u001b[0;34m<=\u001b[0m \u001b[0mresponse\u001b[0m\u001b[0;34m.\u001b[0m\u001b[0mstatus_code\u001b[0m \u001b[0;34m<\u001b[0m \u001b[0;36m300\u001b[0m\u001b[0;34m:\u001b[0m\u001b[0;34m\u001b[0m\u001b[0;34m\u001b[0m\u001b[0m\n\u001b[0;32m--> 393\u001b[0;31m             \u001b[0;32mraise\u001b[0m \u001b[0mexceptions\u001b[0m\u001b[0;34m.\u001b[0m\u001b[0mfrom_http_response\u001b[0m\u001b[0;34m(\u001b[0m\u001b[0mresponse\u001b[0m\u001b[0;34m)\u001b[0m\u001b[0;34m\u001b[0m\u001b[0;34m\u001b[0m\u001b[0m\n\u001b[0m\u001b[1;32m    394\u001b[0m \u001b[0;34m\u001b[0m\u001b[0m\n",
            "\u001b[0;31mNotFound\u001b[0m: 404 GET https://bigquery.googleapis.com/bigquery/v2/projects/primal-buttress-342908/datasets/esat_api/tables/test3: Not found: Table primal-buttress-342908:esat_api.test3",
            "\nDuring handling of the above exception, another exception occurred:\n",
            "\u001b[0;31mBadRequest\u001b[0m                                Traceback (most recent call last)",
            "\u001b[0;32m/usr/local/lib/python3.7/dist-packages/pandas_gbq/gbq.py\u001b[0m in \u001b[0;36mcreate\u001b[0;34m(self, dataset_id)\u001b[0m\n\u001b[1;32m   1407\u001b[0m         \u001b[0;32mtry\u001b[0m\u001b[0;34m:\u001b[0m\u001b[0;34m\u001b[0m\u001b[0;34m\u001b[0m\u001b[0m\n\u001b[0;32m-> 1408\u001b[0;31m             \u001b[0mself\u001b[0m\u001b[0;34m.\u001b[0m\u001b[0mclient\u001b[0m\u001b[0;34m.\u001b[0m\u001b[0mcreate_dataset\u001b[0m\u001b[0;34m(\u001b[0m\u001b[0mdataset\u001b[0m\u001b[0;34m)\u001b[0m\u001b[0;34m\u001b[0m\u001b[0;34m\u001b[0m\u001b[0m\n\u001b[0m\u001b[1;32m   1409\u001b[0m         \u001b[0;32mexcept\u001b[0m \u001b[0mself\u001b[0m\u001b[0;34m.\u001b[0m\u001b[0mhttp_error\u001b[0m \u001b[0;32mas\u001b[0m \u001b[0mex\u001b[0m\u001b[0;34m:\u001b[0m\u001b[0;34m\u001b[0m\u001b[0;34m\u001b[0m\u001b[0m\n",
            "\u001b[0;32m/usr/local/lib/python3.7/dist-packages/google/cloud/bigquery/client.py\u001b[0m in \u001b[0;36mcreate_dataset\u001b[0;34m(self, dataset, exists_ok, retry)\u001b[0m\n\u001b[1;32m    391\u001b[0m         \u001b[0;32mtry\u001b[0m\u001b[0;34m:\u001b[0m\u001b[0;34m\u001b[0m\u001b[0;34m\u001b[0m\u001b[0m\n\u001b[0;32m--> 392\u001b[0;31m             \u001b[0mapi_response\u001b[0m \u001b[0;34m=\u001b[0m \u001b[0mself\u001b[0m\u001b[0;34m.\u001b[0m\u001b[0m_call_api\u001b[0m\u001b[0;34m(\u001b[0m\u001b[0mretry\u001b[0m\u001b[0;34m,\u001b[0m \u001b[0mmethod\u001b[0m\u001b[0;34m=\u001b[0m\u001b[0;34m\"POST\"\u001b[0m\u001b[0;34m,\u001b[0m \u001b[0mpath\u001b[0m\u001b[0;34m=\u001b[0m\u001b[0mpath\u001b[0m\u001b[0;34m,\u001b[0m \u001b[0mdata\u001b[0m\u001b[0;34m=\u001b[0m\u001b[0mdata\u001b[0m\u001b[0;34m)\u001b[0m\u001b[0;34m\u001b[0m\u001b[0;34m\u001b[0m\u001b[0m\n\u001b[0m\u001b[1;32m    393\u001b[0m             \u001b[0;32mreturn\u001b[0m \u001b[0mDataset\u001b[0m\u001b[0;34m.\u001b[0m\u001b[0mfrom_api_repr\u001b[0m\u001b[0;34m(\u001b[0m\u001b[0mapi_response\u001b[0m\u001b[0;34m)\u001b[0m\u001b[0;34m\u001b[0m\u001b[0;34m\u001b[0m\u001b[0m\n",
            "\u001b[0;32m/usr/local/lib/python3.7/dist-packages/google/cloud/bigquery/client.py\u001b[0m in \u001b[0;36m_call_api\u001b[0;34m(self, retry, **kwargs)\u001b[0m\n\u001b[1;32m    475\u001b[0m             \u001b[0mcall\u001b[0m \u001b[0;34m=\u001b[0m \u001b[0mretry\u001b[0m\u001b[0;34m(\u001b[0m\u001b[0mcall\u001b[0m\u001b[0;34m)\u001b[0m\u001b[0;34m\u001b[0m\u001b[0;34m\u001b[0m\u001b[0m\n\u001b[0;32m--> 476\u001b[0;31m         \u001b[0;32mreturn\u001b[0m \u001b[0mcall\u001b[0m\u001b[0;34m(\u001b[0m\u001b[0;34m)\u001b[0m\u001b[0;34m\u001b[0m\u001b[0;34m\u001b[0m\u001b[0m\n\u001b[0m\u001b[1;32m    477\u001b[0m \u001b[0;34m\u001b[0m\u001b[0m\n",
            "\u001b[0;32m/usr/local/lib/python3.7/dist-packages/google/api_core/retry.py\u001b[0m in \u001b[0;36mretry_wrapped_func\u001b[0;34m(*args, **kwargs)\u001b[0m\n\u001b[1;32m    290\u001b[0m                 \u001b[0mself\u001b[0m\u001b[0;34m.\u001b[0m\u001b[0m_deadline\u001b[0m\u001b[0;34m,\u001b[0m\u001b[0;34m\u001b[0m\u001b[0;34m\u001b[0m\u001b[0m\n\u001b[0;32m--> 291\u001b[0;31m                 \u001b[0mon_error\u001b[0m\u001b[0;34m=\u001b[0m\u001b[0mon_error\u001b[0m\u001b[0;34m,\u001b[0m\u001b[0;34m\u001b[0m\u001b[0;34m\u001b[0m\u001b[0m\n\u001b[0m\u001b[1;32m    292\u001b[0m             )\n",
            "\u001b[0;32m/usr/local/lib/python3.7/dist-packages/google/api_core/retry.py\u001b[0m in \u001b[0;36mretry_target\u001b[0;34m(target, predicate, sleep_generator, deadline, on_error)\u001b[0m\n\u001b[1;32m    188\u001b[0m         \u001b[0;32mtry\u001b[0m\u001b[0;34m:\u001b[0m\u001b[0;34m\u001b[0m\u001b[0;34m\u001b[0m\u001b[0m\n\u001b[0;32m--> 189\u001b[0;31m             \u001b[0;32mreturn\u001b[0m \u001b[0mtarget\u001b[0m\u001b[0;34m(\u001b[0m\u001b[0;34m)\u001b[0m\u001b[0;34m\u001b[0m\u001b[0;34m\u001b[0m\u001b[0m\n\u001b[0m\u001b[1;32m    190\u001b[0m \u001b[0;34m\u001b[0m\u001b[0m\n",
            "\u001b[0;32m/usr/local/lib/python3.7/dist-packages/google/cloud/_http.py\u001b[0m in \u001b[0;36mapi_request\u001b[0;34m(self, method, path, query_params, data, content_type, headers, api_base_url, api_version, expect_json, _target_object)\u001b[0m\n\u001b[1;32m    392\u001b[0m         \u001b[0;32mif\u001b[0m \u001b[0;32mnot\u001b[0m \u001b[0;36m200\u001b[0m \u001b[0;34m<=\u001b[0m \u001b[0mresponse\u001b[0m\u001b[0;34m.\u001b[0m\u001b[0mstatus_code\u001b[0m \u001b[0;34m<\u001b[0m \u001b[0;36m300\u001b[0m\u001b[0;34m:\u001b[0m\u001b[0;34m\u001b[0m\u001b[0;34m\u001b[0m\u001b[0m\n\u001b[0;32m--> 393\u001b[0;31m             \u001b[0;32mraise\u001b[0m \u001b[0mexceptions\u001b[0m\u001b[0;34m.\u001b[0m\u001b[0mfrom_http_response\u001b[0m\u001b[0;34m(\u001b[0m\u001b[0mresponse\u001b[0m\u001b[0;34m)\u001b[0m\u001b[0;34m\u001b[0m\u001b[0;34m\u001b[0m\u001b[0m\n\u001b[0m\u001b[1;32m    394\u001b[0m \u001b[0;34m\u001b[0m\u001b[0m\n",
            "\u001b[0;31mBadRequest\u001b[0m: 400 POST https://bigquery.googleapis.com/bigquery/v2/projects/primal-buttress-342908/datasets: Invalid dataset ID \"primal-buttress-342908.esat_api\". Dataset IDs must be alphanumeric (plus underscores) and must be at most 1024 characters long.",
            "\nDuring handling of the above exception, another exception occurred:\n",
            "\u001b[0;31mGenericGBQException\u001b[0m                       Traceback (most recent call last)",
            "\u001b[0;32m<ipython-input-21-5b912f05be37>\u001b[0m in \u001b[0;36m<module>\u001b[0;34m\u001b[0m\n\u001b[1;32m      7\u001b[0m \u001b[0mdf\u001b[0m \u001b[0;34m=\u001b[0m \u001b[0mget_estat_dataframe\u001b[0m\u001b[0;34m(\u001b[0m\u001b[0mparams\u001b[0m\u001b[0;34m)\u001b[0m\u001b[0;34m\u001b[0m\u001b[0;34m\u001b[0m\u001b[0m\n\u001b[1;32m      8\u001b[0m \u001b[0;31m# データフレームの内容をBigQueryのテーブルに追加\u001b[0m\u001b[0;34m\u001b[0m\u001b[0;34m\u001b[0m\u001b[0;34m\u001b[0m\u001b[0m\n\u001b[0;32m----> 9\u001b[0;31m \u001b[0mdf\u001b[0m\u001b[0;34m.\u001b[0m\u001b[0mto_gbq\u001b[0m\u001b[0;34m(\u001b[0m \u001b[0;34mf'{dataset_id}.{table_id}'\u001b[0m\u001b[0;34m,\u001b[0m \u001b[0mproject_id\u001b[0m\u001b[0;34m=\u001b[0m\u001b[0mproject_id\u001b[0m\u001b[0;34m,\u001b[0m \u001b[0mif_exists\u001b[0m\u001b[0;34m=\u001b[0m\u001b[0;34m\"append\"\u001b[0m\u001b[0;34m)\u001b[0m\u001b[0;34m\u001b[0m\u001b[0;34m\u001b[0m\u001b[0m\n\u001b[0m",
            "\u001b[0;32m/usr/local/lib/python3.7/dist-packages/pandas/core/frame.py\u001b[0m in \u001b[0;36mto_gbq\u001b[0;34m(self, destination_table, project_id, chunksize, reauth, if_exists, auth_local_webserver, table_schema, location, progress_bar, credentials)\u001b[0m\n\u001b[1;32m   1938\u001b[0m             \u001b[0mlocation\u001b[0m\u001b[0;34m=\u001b[0m\u001b[0mlocation\u001b[0m\u001b[0;34m,\u001b[0m\u001b[0;34m\u001b[0m\u001b[0;34m\u001b[0m\u001b[0m\n\u001b[1;32m   1939\u001b[0m             \u001b[0mprogress_bar\u001b[0m\u001b[0;34m=\u001b[0m\u001b[0mprogress_bar\u001b[0m\u001b[0;34m,\u001b[0m\u001b[0;34m\u001b[0m\u001b[0;34m\u001b[0m\u001b[0m\n\u001b[0;32m-> 1940\u001b[0;31m             \u001b[0mcredentials\u001b[0m\u001b[0;34m=\u001b[0m\u001b[0mcredentials\u001b[0m\u001b[0;34m,\u001b[0m\u001b[0;34m\u001b[0m\u001b[0;34m\u001b[0m\u001b[0m\n\u001b[0m\u001b[1;32m   1941\u001b[0m         )\n\u001b[1;32m   1942\u001b[0m \u001b[0;34m\u001b[0m\u001b[0m\n",
            "\u001b[0;32m/usr/local/lib/python3.7/dist-packages/pandas/io/gbq.py\u001b[0m in \u001b[0;36mto_gbq\u001b[0;34m(dataframe, destination_table, project_id, chunksize, reauth, if_exists, auth_local_webserver, table_schema, location, progress_bar, credentials)\u001b[0m\n\u001b[1;32m    221\u001b[0m         \u001b[0mlocation\u001b[0m\u001b[0;34m=\u001b[0m\u001b[0mlocation\u001b[0m\u001b[0;34m,\u001b[0m\u001b[0;34m\u001b[0m\u001b[0;34m\u001b[0m\u001b[0m\n\u001b[1;32m    222\u001b[0m         \u001b[0mprogress_bar\u001b[0m\u001b[0;34m=\u001b[0m\u001b[0mprogress_bar\u001b[0m\u001b[0;34m,\u001b[0m\u001b[0;34m\u001b[0m\u001b[0;34m\u001b[0m\u001b[0m\n\u001b[0;32m--> 223\u001b[0;31m         \u001b[0mcredentials\u001b[0m\u001b[0;34m=\u001b[0m\u001b[0mcredentials\u001b[0m\u001b[0;34m,\u001b[0m\u001b[0;34m\u001b[0m\u001b[0;34m\u001b[0m\u001b[0m\n\u001b[0m\u001b[1;32m    224\u001b[0m     )\n",
            "\u001b[0;32m/usr/local/lib/python3.7/dist-packages/pandas_gbq/gbq.py\u001b[0m in \u001b[0;36mto_gbq\u001b[0;34m(dataframe, destination_table, project_id, chunksize, reauth, if_exists, auth_local_webserver, table_schema, location, progress_bar, credentials, verbose, private_key)\u001b[0m\n\u001b[1;32m   1156\u001b[0m             \u001b[0mcredentials\u001b[0m\u001b[0;34m=\u001b[0m\u001b[0mconnector\u001b[0m\u001b[0;34m.\u001b[0m\u001b[0mcredentials\u001b[0m\u001b[0;34m,\u001b[0m\u001b[0;34m\u001b[0m\u001b[0;34m\u001b[0m\u001b[0m\n\u001b[1;32m   1157\u001b[0m         )\n\u001b[0;32m-> 1158\u001b[0;31m         \u001b[0mtable_connector\u001b[0m\u001b[0;34m.\u001b[0m\u001b[0mcreate\u001b[0m\u001b[0;34m(\u001b[0m\u001b[0mtable_id\u001b[0m\u001b[0;34m,\u001b[0m \u001b[0mtable_schema\u001b[0m\u001b[0;34m)\u001b[0m\u001b[0;34m\u001b[0m\u001b[0;34m\u001b[0m\u001b[0m\n\u001b[0m\u001b[1;32m   1159\u001b[0m     \u001b[0;32melse\u001b[0m\u001b[0;34m:\u001b[0m\u001b[0;34m\u001b[0m\u001b[0;34m\u001b[0m\u001b[0m\n\u001b[1;32m   1160\u001b[0m         \u001b[0moriginal_schema\u001b[0m \u001b[0;34m=\u001b[0m \u001b[0mpandas_gbq\u001b[0m\u001b[0;34m.\u001b[0m\u001b[0mschema\u001b[0m\u001b[0;34m.\u001b[0m\u001b[0mto_pandas_gbq\u001b[0m\u001b[0;34m(\u001b[0m\u001b[0mtable\u001b[0m\u001b[0;34m.\u001b[0m\u001b[0mschema\u001b[0m\u001b[0;34m)\u001b[0m\u001b[0;34m\u001b[0m\u001b[0;34m\u001b[0m\u001b[0m\n",
            "\u001b[0;32m/usr/local/lib/python3.7/dist-packages/pandas_gbq/gbq.py\u001b[0m in \u001b[0;36mcreate\u001b[0;34m(self, table_id, schema)\u001b[0m\n\u001b[1;32m   1306\u001b[0m                 \u001b[0mcredentials\u001b[0m\u001b[0;34m=\u001b[0m\u001b[0mself\u001b[0m\u001b[0;34m.\u001b[0m\u001b[0mcredentials\u001b[0m\u001b[0;34m,\u001b[0m\u001b[0;34m\u001b[0m\u001b[0;34m\u001b[0m\u001b[0m\n\u001b[1;32m   1307\u001b[0m                 \u001b[0mlocation\u001b[0m\u001b[0;34m=\u001b[0m\u001b[0mself\u001b[0m\u001b[0;34m.\u001b[0m\u001b[0mlocation\u001b[0m\u001b[0;34m,\u001b[0m\u001b[0;34m\u001b[0m\u001b[0;34m\u001b[0m\u001b[0m\n\u001b[0;32m-> 1308\u001b[0;31m             ).create(self.dataset_id)\n\u001b[0m\u001b[1;32m   1309\u001b[0m \u001b[0;34m\u001b[0m\u001b[0m\n\u001b[1;32m   1310\u001b[0m         \u001b[0mtable_ref\u001b[0m \u001b[0;34m=\u001b[0m \u001b[0mself\u001b[0m\u001b[0;34m.\u001b[0m\u001b[0mclient\u001b[0m\u001b[0;34m.\u001b[0m\u001b[0mdataset\u001b[0m\u001b[0;34m(\u001b[0m\u001b[0mself\u001b[0m\u001b[0;34m.\u001b[0m\u001b[0mdataset_id\u001b[0m\u001b[0;34m)\u001b[0m\u001b[0;34m.\u001b[0m\u001b[0mtable\u001b[0m\u001b[0;34m(\u001b[0m\u001b[0mtable_id\u001b[0m\u001b[0;34m)\u001b[0m\u001b[0;34m\u001b[0m\u001b[0;34m\u001b[0m\u001b[0m\n",
            "\u001b[0;32m/usr/local/lib/python3.7/dist-packages/pandas_gbq/gbq.py\u001b[0m in \u001b[0;36mcreate\u001b[0;34m(self, dataset_id)\u001b[0m\n\u001b[1;32m   1408\u001b[0m             \u001b[0mself\u001b[0m\u001b[0;34m.\u001b[0m\u001b[0mclient\u001b[0m\u001b[0;34m.\u001b[0m\u001b[0mcreate_dataset\u001b[0m\u001b[0;34m(\u001b[0m\u001b[0mdataset\u001b[0m\u001b[0;34m)\u001b[0m\u001b[0;34m\u001b[0m\u001b[0;34m\u001b[0m\u001b[0m\n\u001b[1;32m   1409\u001b[0m         \u001b[0;32mexcept\u001b[0m \u001b[0mself\u001b[0m\u001b[0;34m.\u001b[0m\u001b[0mhttp_error\u001b[0m \u001b[0;32mas\u001b[0m \u001b[0mex\u001b[0m\u001b[0;34m:\u001b[0m\u001b[0;34m\u001b[0m\u001b[0;34m\u001b[0m\u001b[0m\n\u001b[0;32m-> 1410\u001b[0;31m             \u001b[0mself\u001b[0m\u001b[0;34m.\u001b[0m\u001b[0mprocess_http_error\u001b[0m\u001b[0;34m(\u001b[0m\u001b[0mex\u001b[0m\u001b[0;34m)\u001b[0m\u001b[0;34m\u001b[0m\u001b[0;34m\u001b[0m\u001b[0m\n\u001b[0m",
            "\u001b[0;32m/usr/local/lib/python3.7/dist-packages/pandas_gbq/gbq.py\u001b[0m in \u001b[0;36mprocess_http_error\u001b[0;34m(ex)\u001b[0m\n\u001b[1;32m    431\u001b[0m         \u001b[0;31m# <https://cloud.google.com/bigquery/troubleshooting-errors>`__\u001b[0m\u001b[0;34m\u001b[0m\u001b[0;34m\u001b[0m\u001b[0;34m\u001b[0m\u001b[0m\n\u001b[1;32m    432\u001b[0m \u001b[0;34m\u001b[0m\u001b[0m\n\u001b[0;32m--> 433\u001b[0;31m         \u001b[0;32mraise\u001b[0m \u001b[0mGenericGBQException\u001b[0m\u001b[0;34m(\u001b[0m\u001b[0;34m\"Reason: {0}\"\u001b[0m\u001b[0;34m.\u001b[0m\u001b[0mformat\u001b[0m\u001b[0;34m(\u001b[0m\u001b[0mex\u001b[0m\u001b[0;34m)\u001b[0m\u001b[0;34m)\u001b[0m\u001b[0;34m\u001b[0m\u001b[0;34m\u001b[0m\u001b[0m\n\u001b[0m\u001b[1;32m    434\u001b[0m \u001b[0;34m\u001b[0m\u001b[0m\n\u001b[1;32m    435\u001b[0m     def run_query(\n",
            "\u001b[0;31mGenericGBQException\u001b[0m: Reason: 400 POST https://bigquery.googleapis.com/bigquery/v2/projects/primal-buttress-342908/datasets: Invalid dataset ID \"primal-buttress-342908.esat_api\". Dataset IDs must be alphanumeric (plus underscores) and must be at most 1024 characters long."
          ]
        }
      ]
    },
    {
      "cell_type": "markdown",
      "source": [],
      "metadata": {
        "id": "T9H8_BayUEnb"
      }
    },
    {
      "cell_type": "markdown",
      "source": [
        "# 統計表に含まれる全てのデータをDataframeに変換する"
      ],
      "metadata": {
        "id": "FFDEer4JI3t2"
      }
    },
    {
      "cell_type": "markdown",
      "source": [
        "'statsDataId'で統計表を指定して、含まれる統計データを一括でDataFrameに変換する"
      ],
      "metadata": {
        "id": "qtwgWVU0R4h9"
      }
    },
    {
      "cell_type": "code",
      "source": [
        "statsDataId = '0000010101'"
      ],
      "metadata": {
        "id": "9u5fsGLTSCdB"
      },
      "execution_count": null,
      "outputs": []
    },
    {
      "cell_type": "code",
      "source": [
        "def get_estat_dataframe_all(statsDataId):\n",
        "\n",
        "  # 統計表のメタ情報を取得\n",
        "  meta = get_estat_meta(statsDataId)\n",
        "\n",
        "  # カテゴリ一覧\n",
        "  category_codes = get_estat_catefory_codes(statsDataId)\n",
        "\n",
        "  # 地域コード一覧\n",
        "  area_codes = get_estat_area_codes(statsDataId)\n",
        "\n",
        "  # 返却するDataFrameの定義\n",
        "  df_res = pd.DataFrame(index=[], columns=[])\n",
        "\n",
        "  for category_code in category_codes:\n",
        "    # リクエストパラメータ生成\n",
        "    params = {}\n",
        "    params['statsDataId'] = statsDataId\n",
        "    params['cdCat01'] = category_code\n",
        "    params['cdArea']=\",\".join(area_codes)\n",
        "\n",
        "    # DataFrameを取得\n",
        "    print(category_code)\n",
        "    df_category = get_estat_dataframe(params)\n",
        "\n",
        "    df_res = pd.concat([df_res, df_category])\n",
        "\n",
        "  # return df_res\n",
        "  return 'test'\n",
        "\n",
        "\n",
        "df = get_estat_dataframe_all(statsDataId)\n",
        "# df\n"
      ],
      "metadata": {
        "id": "88NiJi5WSHAk"
      },
      "execution_count": null,
      "outputs": []
    },
    {
      "cell_type": "markdown",
      "source": [
        "# 新しいセクション"
      ],
      "metadata": {
        "id": "IvIrOKby-0Hb"
      }
    }
  ],
  "metadata": {
    "colab": {
      "collapsed_sections": [],
      "toc_visible": true,
      "provenance": []
    },
    "kernelspec": {
      "name": "py39",
      "display_name": "Python 3.9"
    },
    "accelerator": "GPU",
    "gpuClass": "standard"
  },
  "nbformat": 4,
  "nbformat_minor": 0
}