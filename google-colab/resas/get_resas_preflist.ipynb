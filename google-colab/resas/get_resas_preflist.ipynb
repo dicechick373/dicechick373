{
  "cells": [
    {
      "cell_type": "markdown",
      "source": [
        "# _get_resas_perflist"
      ],
      "metadata": {
        "id": "pNbDdgim3Qqq"
      }
    },
    {
      "cell_type": "code",
      "source": [
        "RESAS_API_KEY = '\t02JYzLqUOfTNVfiTWjLlR2g0YwEQPQ7caYxcnZaZ'\n",
        "\n",
        "import urllib.parse\n",
        "import urllib.request\n",
        "import json\n",
        "\n",
        "\"\"\"\n",
        "resas-APIから都道府県一覧を取得する関数\n",
        "\"\"\"\n",
        "def get_resas_preflist():\n",
        "    url = 'https://opendata.resas-portal.go.jp/api/v1/prefectures'\n",
        "    req = urllib.request.Request(url, headers={'X-API-KEY': RESAS_API_KEY})\n",
        "    with urllib.request.urlopen(req) as response:\n",
        "        res = json.loads(response.read().decode())\n",
        "    return res['result']"
      ],
      "metadata": {
        "id": "5qg2hhnl3j5m"
      },
      "execution_count": null,
      "outputs": []
    },
    {
      "cell_type": "code",
      "source": [
        "print(get_resas_preflist())"
      ],
      "metadata": {
        "id": "MNEgq27u5Zt3"
      },
      "execution_count": null,
      "outputs": []
    }
  ],
  "metadata": {
    "colab": {
      "collapsed_sections": [],
      "toc_visible": true,
      "provenance": []
    },
    "kernelspec": {
      "display_name": "Python 3",
      "name": "python3"
    }
  },
  "nbformat": 4,
  "nbformat_minor": 0
}