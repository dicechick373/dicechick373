{
  "cells": [
    {
      "cell_type": "markdown",
      "metadata": {
        "id": "inrYQThZlUDa"
      },
      "source": [
        "# 実行環境の作成"
      ]
    },
    {
      "cell_type": "markdown",
      "source": [
        "## Google Drive"
      ],
      "metadata": {
        "id": "uE_OCx7vVWhj"
      }
    },
    {
      "cell_type": "markdown",
      "source": [
        "Google Driveをマウント"
      ],
      "metadata": {
        "id": "kHc6WsJkUqvx"
      }
    },
    {
      "cell_type": "code",
      "source": [
        "from google.colab import drive\n",
        "drive.mount('/content/drive')"
      ],
      "metadata": {
        "id": "DeythyREUwXk",
        "outputId": "8ca8bc82-676c-414f-d2c1-2543916d04c1",
        "colab": {
          "base_uri": "https://localhost:8080/"
        }
      },
      "execution_count": 1,
      "outputs": [
        {
          "output_type": "stream",
          "name": "stdout",
          "text": [
            "Mounted at /content/drive\n"
          ]
        }
      ]
    },
    {
      "cell_type": "markdown",
      "source": [
        "## Google Sheets"
      ],
      "metadata": {
        "id": "rc5jeElrVc2j"
      }
    },
    {
      "cell_type": "markdown",
      "source": [
        "ライブラリのインストール"
      ],
      "metadata": {
        "id": "CaxFFxxGVbj7"
      }
    },
    {
      "cell_type": "code",
      "source": [
        "!pip install --upgrade -q gspread"
      ],
      "metadata": {
        "id": "ySMOqC5VVlIV"
      },
      "execution_count": 2,
      "outputs": []
    },
    {
      "cell_type": "markdown",
      "source": [
        "Google Sheetsの認証"
      ],
      "metadata": {
        "id": "wvyybj9YVti6"
      }
    },
    {
      "cell_type": "code",
      "source": [
        "from google.colab import auth\n",
        "from google.auth import default\n",
        "import gspread\n",
        "\n",
        "auth.authenticate_user()\n",
        "creds, _ = default()\n",
        "gc = gspread.authorize(creds)"
      ],
      "metadata": {
        "id": "pdWWV-ywV108"
      },
      "execution_count": 3,
      "outputs": []
    },
    {
      "cell_type": "markdown",
      "metadata": {
        "id": "BDMnnS3RVrkF"
      },
      "source": [
        "## Google Cloud Storage"
      ]
    },
    {
      "cell_type": "markdown",
      "metadata": {
        "id": "SsgiSjKhV2D7"
      },
      "source": [
        "下記コードでGCPに接続"
      ]
    },
    {
      "cell_type": "code",
      "execution_count": 4,
      "metadata": {
        "id": "GKiUkM7SV0bY"
      },
      "outputs": [],
      "source": [
        "from google.colab import auth\n",
        "auth.authenticate_user()"
      ]
    },
    {
      "cell_type": "markdown",
      "metadata": {
        "id": "KP4JP4ouV6QS"
      },
      "source": [
        "認証に成功したらgcsfuseをインストール"
      ]
    },
    {
      "cell_type": "code",
      "execution_count": null,
      "metadata": {
        "id": "d1D5UagbV9A4"
      },
      "outputs": [],
      "source": [
        "!echo \"deb http://packages.cloud.google.com/apt gcsfuse-`lsb_release -c -s` main\" | sudo tee /etc/apt/sources.list.d/gcsfuse.list\n",
        "!curl https://packages.cloud.google.com/apt/doc/apt-key.gpg | sudo apt-key add -\n",
        "!apt-get -y -q update\n",
        "!apt-get -y -q install gcsfuse"
      ]
    },
    {
      "cell_type": "markdown",
      "metadata": {
        "id": "QUUcFp5LWR6s"
      },
      "source": [
        "バケット「statistics-hyogo」をディレクトリ「statistics-hyogo」にマウント"
      ]
    },
    {
      "cell_type": "code",
      "execution_count": null,
      "metadata": {
        "id": "vw-vsTVGWIfp"
      },
      "outputs": [],
      "source": [
        "! mkdir -p statistics-hyogo\n",
        "! gcsfuse --implicit-dirs --limit-bytes-per-sec -1 --limit-ops-per-sec -1 statistics-hyogo statistics-hyogo"
      ]
    },
    {
      "cell_type": "markdown",
      "source": [
        "# 単体テスト"
      ],
      "metadata": {
        "id": "084Qr5k7IVKm"
      }
    },
    {
      "cell_type": "markdown",
      "source": [
        "## BigQueryからテーブル取得"
      ],
      "metadata": {
        "id": "XGAE7LSgIbZW"
      }
    },
    {
      "cell_type": "code",
      "source": [
        "import pandas as pd\n",
        "\n",
        "def get_gbq(table_id):\n",
        "  project_id='primal-buttress-342908'\n",
        "  dataset_id = 'contents'  \n",
        "  query = f'SELECT * FROM `{project_id}.{dataset_id}.{table_id}`'\n",
        "  \n",
        "  return pd.read_gbq(query, project_id, dialect='standard')"
      ],
      "metadata": {
        "id": "z2-lKCNqIVpD"
      },
      "execution_count": 7,
      "outputs": []
    },
    {
      "cell_type": "code",
      "source": [
        "df = get_gbq('total-population-city')\n",
        "df"
      ],
      "metadata": {
        "id": "W5oM-4f3IhfK",
        "outputId": "cabcf859-2b20-46f8-a6e1-968f04addf8d",
        "colab": {
          "base_uri": "https://localhost:8080/",
          "height": 661
        }
      },
      "execution_count": 8,
      "outputs": [
        {
          "output_type": "execute_result",
          "data": {
            "text/plain": [
              "      statsDataId statsDataName categoryCode categoryName timeCode timeName  \\\n",
              "0      0000020201     社会・人口統計体系        A1101          総人口     1980   1980年度   \n",
              "1      0000020201     社会・人口統計体系        A1101          総人口     1985   1985年度   \n",
              "2      0000020201     社会・人口統計体系        A1101          総人口     1990   1990年度   \n",
              "3      0000020201     社会・人口統計体系        A1101          総人口     1995   1995年度   \n",
              "4      0000020201     社会・人口統計体系        A1101          総人口     2000   2000年度   \n",
              "...           ...           ...          ...          ...      ...      ...   \n",
              "30628  0000020201     社会・人口統計体系      A110101       総人口（男）     2015   2015年度   \n",
              "30629  0000020201     社会・人口統計体系      A110102       総人口（女）     2000   2000年度   \n",
              "30630  0000020201     社会・人口統計体系      A110102       総人口（女）     2005   2005年度   \n",
              "30631  0000020201     社会・人口統計体系      A110102       総人口（女）     2010   2010年度   \n",
              "30632  0000020201     社会・人口統計体系      A110102       総人口（女）     2015   2015年度   \n",
              "\n",
              "      areaCode    value unit  index  prefCode prefName cityCode cityName  \\\n",
              "0        01100  1401757    人      0         1      北海道    01100      札幌市   \n",
              "1        01100  1542979    人      0         1      北海道    01100      札幌市   \n",
              "2        01100  1671742    人      0         1      北海道    01100      札幌市   \n",
              "3        01100  1757025    人      0         1      北海道    01100      札幌市   \n",
              "4        01100  1822368    人      0         1      北海道    01100      札幌市   \n",
              "...        ...      ...  ...    ...       ...      ...      ...      ...   \n",
              "30628    47382     1147    人   1921        47      沖縄県    47382     与那国町   \n",
              "30629    47382      895    人   1921        47      沖縄県    47382     与那国町   \n",
              "30630    47382      857    人   1921        47      沖縄県    47382     与那国町   \n",
              "30631    47382      816    人   1921        47      沖縄県    47382     与那国町   \n",
              "30632    47382      696    人   1921        47      沖縄県    47382     与那国町   \n",
              "\n",
              "      bigCityFlag areaName governmentType rankJapan rankPref  \n",
              "0               2      札幌市           city         5        1  \n",
              "1               2      札幌市           city         4        1  \n",
              "2               2      札幌市           city         4        1  \n",
              "3               2      札幌市           city         4        1  \n",
              "4               2      札幌市           city         4        1  \n",
              "...           ...      ...            ...       ...      ...  \n",
              "30628           0     与那国町           city      1638       31  \n",
              "30629           0     与那国町           city      1694       32  \n",
              "30630           0     与那国町           city      1690       31  \n",
              "30631           0     与那国町           city      1689       31  \n",
              "30632           0     与那国町           city      1686       32  \n",
              "\n",
              "[30633 rows x 19 columns]"
            ],
            "text/html": [
              "\n",
              "  <div id=\"df-81fe7ddc-ca79-4742-b028-2c3de24e8e8d\">\n",
              "    <div class=\"colab-df-container\">\n",
              "      <div>\n",
              "<style scoped>\n",
              "    .dataframe tbody tr th:only-of-type {\n",
              "        vertical-align: middle;\n",
              "    }\n",
              "\n",
              "    .dataframe tbody tr th {\n",
              "        vertical-align: top;\n",
              "    }\n",
              "\n",
              "    .dataframe thead th {\n",
              "        text-align: right;\n",
              "    }\n",
              "</style>\n",
              "<table border=\"1\" class=\"dataframe\">\n",
              "  <thead>\n",
              "    <tr style=\"text-align: right;\">\n",
              "      <th></th>\n",
              "      <th>statsDataId</th>\n",
              "      <th>statsDataName</th>\n",
              "      <th>categoryCode</th>\n",
              "      <th>categoryName</th>\n",
              "      <th>timeCode</th>\n",
              "      <th>timeName</th>\n",
              "      <th>areaCode</th>\n",
              "      <th>value</th>\n",
              "      <th>unit</th>\n",
              "      <th>index</th>\n",
              "      <th>prefCode</th>\n",
              "      <th>prefName</th>\n",
              "      <th>cityCode</th>\n",
              "      <th>cityName</th>\n",
              "      <th>bigCityFlag</th>\n",
              "      <th>areaName</th>\n",
              "      <th>governmentType</th>\n",
              "      <th>rankJapan</th>\n",
              "      <th>rankPref</th>\n",
              "    </tr>\n",
              "  </thead>\n",
              "  <tbody>\n",
              "    <tr>\n",
              "      <th>0</th>\n",
              "      <td>0000020201</td>\n",
              "      <td>社会・人口統計体系</td>\n",
              "      <td>A1101</td>\n",
              "      <td>総人口</td>\n",
              "      <td>1980</td>\n",
              "      <td>1980年度</td>\n",
              "      <td>01100</td>\n",
              "      <td>1401757</td>\n",
              "      <td>人</td>\n",
              "      <td>0</td>\n",
              "      <td>1</td>\n",
              "      <td>北海道</td>\n",
              "      <td>01100</td>\n",
              "      <td>札幌市</td>\n",
              "      <td>2</td>\n",
              "      <td>札幌市</td>\n",
              "      <td>city</td>\n",
              "      <td>5</td>\n",
              "      <td>1</td>\n",
              "    </tr>\n",
              "    <tr>\n",
              "      <th>1</th>\n",
              "      <td>0000020201</td>\n",
              "      <td>社会・人口統計体系</td>\n",
              "      <td>A1101</td>\n",
              "      <td>総人口</td>\n",
              "      <td>1985</td>\n",
              "      <td>1985年度</td>\n",
              "      <td>01100</td>\n",
              "      <td>1542979</td>\n",
              "      <td>人</td>\n",
              "      <td>0</td>\n",
              "      <td>1</td>\n",
              "      <td>北海道</td>\n",
              "      <td>01100</td>\n",
              "      <td>札幌市</td>\n",
              "      <td>2</td>\n",
              "      <td>札幌市</td>\n",
              "      <td>city</td>\n",
              "      <td>4</td>\n",
              "      <td>1</td>\n",
              "    </tr>\n",
              "    <tr>\n",
              "      <th>2</th>\n",
              "      <td>0000020201</td>\n",
              "      <td>社会・人口統計体系</td>\n",
              "      <td>A1101</td>\n",
              "      <td>総人口</td>\n",
              "      <td>1990</td>\n",
              "      <td>1990年度</td>\n",
              "      <td>01100</td>\n",
              "      <td>1671742</td>\n",
              "      <td>人</td>\n",
              "      <td>0</td>\n",
              "      <td>1</td>\n",
              "      <td>北海道</td>\n",
              "      <td>01100</td>\n",
              "      <td>札幌市</td>\n",
              "      <td>2</td>\n",
              "      <td>札幌市</td>\n",
              "      <td>city</td>\n",
              "      <td>4</td>\n",
              "      <td>1</td>\n",
              "    </tr>\n",
              "    <tr>\n",
              "      <th>3</th>\n",
              "      <td>0000020201</td>\n",
              "      <td>社会・人口統計体系</td>\n",
              "      <td>A1101</td>\n",
              "      <td>総人口</td>\n",
              "      <td>1995</td>\n",
              "      <td>1995年度</td>\n",
              "      <td>01100</td>\n",
              "      <td>1757025</td>\n",
              "      <td>人</td>\n",
              "      <td>0</td>\n",
              "      <td>1</td>\n",
              "      <td>北海道</td>\n",
              "      <td>01100</td>\n",
              "      <td>札幌市</td>\n",
              "      <td>2</td>\n",
              "      <td>札幌市</td>\n",
              "      <td>city</td>\n",
              "      <td>4</td>\n",
              "      <td>1</td>\n",
              "    </tr>\n",
              "    <tr>\n",
              "      <th>4</th>\n",
              "      <td>0000020201</td>\n",
              "      <td>社会・人口統計体系</td>\n",
              "      <td>A1101</td>\n",
              "      <td>総人口</td>\n",
              "      <td>2000</td>\n",
              "      <td>2000年度</td>\n",
              "      <td>01100</td>\n",
              "      <td>1822368</td>\n",
              "      <td>人</td>\n",
              "      <td>0</td>\n",
              "      <td>1</td>\n",
              "      <td>北海道</td>\n",
              "      <td>01100</td>\n",
              "      <td>札幌市</td>\n",
              "      <td>2</td>\n",
              "      <td>札幌市</td>\n",
              "      <td>city</td>\n",
              "      <td>4</td>\n",
              "      <td>1</td>\n",
              "    </tr>\n",
              "    <tr>\n",
              "      <th>...</th>\n",
              "      <td>...</td>\n",
              "      <td>...</td>\n",
              "      <td>...</td>\n",
              "      <td>...</td>\n",
              "      <td>...</td>\n",
              "      <td>...</td>\n",
              "      <td>...</td>\n",
              "      <td>...</td>\n",
              "      <td>...</td>\n",
              "      <td>...</td>\n",
              "      <td>...</td>\n",
              "      <td>...</td>\n",
              "      <td>...</td>\n",
              "      <td>...</td>\n",
              "      <td>...</td>\n",
              "      <td>...</td>\n",
              "      <td>...</td>\n",
              "      <td>...</td>\n",
              "      <td>...</td>\n",
              "    </tr>\n",
              "    <tr>\n",
              "      <th>30628</th>\n",
              "      <td>0000020201</td>\n",
              "      <td>社会・人口統計体系</td>\n",
              "      <td>A110101</td>\n",
              "      <td>総人口（男）</td>\n",
              "      <td>2015</td>\n",
              "      <td>2015年度</td>\n",
              "      <td>47382</td>\n",
              "      <td>1147</td>\n",
              "      <td>人</td>\n",
              "      <td>1921</td>\n",
              "      <td>47</td>\n",
              "      <td>沖縄県</td>\n",
              "      <td>47382</td>\n",
              "      <td>与那国町</td>\n",
              "      <td>0</td>\n",
              "      <td>与那国町</td>\n",
              "      <td>city</td>\n",
              "      <td>1638</td>\n",
              "      <td>31</td>\n",
              "    </tr>\n",
              "    <tr>\n",
              "      <th>30629</th>\n",
              "      <td>0000020201</td>\n",
              "      <td>社会・人口統計体系</td>\n",
              "      <td>A110102</td>\n",
              "      <td>総人口（女）</td>\n",
              "      <td>2000</td>\n",
              "      <td>2000年度</td>\n",
              "      <td>47382</td>\n",
              "      <td>895</td>\n",
              "      <td>人</td>\n",
              "      <td>1921</td>\n",
              "      <td>47</td>\n",
              "      <td>沖縄県</td>\n",
              "      <td>47382</td>\n",
              "      <td>与那国町</td>\n",
              "      <td>0</td>\n",
              "      <td>与那国町</td>\n",
              "      <td>city</td>\n",
              "      <td>1694</td>\n",
              "      <td>32</td>\n",
              "    </tr>\n",
              "    <tr>\n",
              "      <th>30630</th>\n",
              "      <td>0000020201</td>\n",
              "      <td>社会・人口統計体系</td>\n",
              "      <td>A110102</td>\n",
              "      <td>総人口（女）</td>\n",
              "      <td>2005</td>\n",
              "      <td>2005年度</td>\n",
              "      <td>47382</td>\n",
              "      <td>857</td>\n",
              "      <td>人</td>\n",
              "      <td>1921</td>\n",
              "      <td>47</td>\n",
              "      <td>沖縄県</td>\n",
              "      <td>47382</td>\n",
              "      <td>与那国町</td>\n",
              "      <td>0</td>\n",
              "      <td>与那国町</td>\n",
              "      <td>city</td>\n",
              "      <td>1690</td>\n",
              "      <td>31</td>\n",
              "    </tr>\n",
              "    <tr>\n",
              "      <th>30631</th>\n",
              "      <td>0000020201</td>\n",
              "      <td>社会・人口統計体系</td>\n",
              "      <td>A110102</td>\n",
              "      <td>総人口（女）</td>\n",
              "      <td>2010</td>\n",
              "      <td>2010年度</td>\n",
              "      <td>47382</td>\n",
              "      <td>816</td>\n",
              "      <td>人</td>\n",
              "      <td>1921</td>\n",
              "      <td>47</td>\n",
              "      <td>沖縄県</td>\n",
              "      <td>47382</td>\n",
              "      <td>与那国町</td>\n",
              "      <td>0</td>\n",
              "      <td>与那国町</td>\n",
              "      <td>city</td>\n",
              "      <td>1689</td>\n",
              "      <td>31</td>\n",
              "    </tr>\n",
              "    <tr>\n",
              "      <th>30632</th>\n",
              "      <td>0000020201</td>\n",
              "      <td>社会・人口統計体系</td>\n",
              "      <td>A110102</td>\n",
              "      <td>総人口（女）</td>\n",
              "      <td>2015</td>\n",
              "      <td>2015年度</td>\n",
              "      <td>47382</td>\n",
              "      <td>696</td>\n",
              "      <td>人</td>\n",
              "      <td>1921</td>\n",
              "      <td>47</td>\n",
              "      <td>沖縄県</td>\n",
              "      <td>47382</td>\n",
              "      <td>与那国町</td>\n",
              "      <td>0</td>\n",
              "      <td>与那国町</td>\n",
              "      <td>city</td>\n",
              "      <td>1686</td>\n",
              "      <td>32</td>\n",
              "    </tr>\n",
              "  </tbody>\n",
              "</table>\n",
              "<p>30633 rows × 19 columns</p>\n",
              "</div>\n",
              "      <button class=\"colab-df-convert\" onclick=\"convertToInteractive('df-81fe7ddc-ca79-4742-b028-2c3de24e8e8d')\"\n",
              "              title=\"Convert this dataframe to an interactive table.\"\n",
              "              style=\"display:none;\">\n",
              "        \n",
              "  <svg xmlns=\"http://www.w3.org/2000/svg\" height=\"24px\"viewBox=\"0 0 24 24\"\n",
              "       width=\"24px\">\n",
              "    <path d=\"M0 0h24v24H0V0z\" fill=\"none\"/>\n",
              "    <path d=\"M18.56 5.44l.94 2.06.94-2.06 2.06-.94-2.06-.94-.94-2.06-.94 2.06-2.06.94zm-11 1L8.5 8.5l.94-2.06 2.06-.94-2.06-.94L8.5 2.5l-.94 2.06-2.06.94zm10 10l.94 2.06.94-2.06 2.06-.94-2.06-.94-.94-2.06-.94 2.06-2.06.94z\"/><path d=\"M17.41 7.96l-1.37-1.37c-.4-.4-.92-.59-1.43-.59-.52 0-1.04.2-1.43.59L10.3 9.45l-7.72 7.72c-.78.78-.78 2.05 0 2.83L4 21.41c.39.39.9.59 1.41.59.51 0 1.02-.2 1.41-.59l7.78-7.78 2.81-2.81c.8-.78.8-2.07 0-2.86zM5.41 20L4 18.59l7.72-7.72 1.47 1.35L5.41 20z\"/>\n",
              "  </svg>\n",
              "      </button>\n",
              "      \n",
              "  <style>\n",
              "    .colab-df-container {\n",
              "      display:flex;\n",
              "      flex-wrap:wrap;\n",
              "      gap: 12px;\n",
              "    }\n",
              "\n",
              "    .colab-df-convert {\n",
              "      background-color: #E8F0FE;\n",
              "      border: none;\n",
              "      border-radius: 50%;\n",
              "      cursor: pointer;\n",
              "      display: none;\n",
              "      fill: #1967D2;\n",
              "      height: 32px;\n",
              "      padding: 0 0 0 0;\n",
              "      width: 32px;\n",
              "    }\n",
              "\n",
              "    .colab-df-convert:hover {\n",
              "      background-color: #E2EBFA;\n",
              "      box-shadow: 0px 1px 2px rgba(60, 64, 67, 0.3), 0px 1px 3px 1px rgba(60, 64, 67, 0.15);\n",
              "      fill: #174EA6;\n",
              "    }\n",
              "\n",
              "    [theme=dark] .colab-df-convert {\n",
              "      background-color: #3B4455;\n",
              "      fill: #D2E3FC;\n",
              "    }\n",
              "\n",
              "    [theme=dark] .colab-df-convert:hover {\n",
              "      background-color: #434B5C;\n",
              "      box-shadow: 0px 1px 3px 1px rgba(0, 0, 0, 0.15);\n",
              "      filter: drop-shadow(0px 1px 2px rgba(0, 0, 0, 0.3));\n",
              "      fill: #FFFFFF;\n",
              "    }\n",
              "  </style>\n",
              "\n",
              "      <script>\n",
              "        const buttonEl =\n",
              "          document.querySelector('#df-81fe7ddc-ca79-4742-b028-2c3de24e8e8d button.colab-df-convert');\n",
              "        buttonEl.style.display =\n",
              "          google.colab.kernel.accessAllowed ? 'block' : 'none';\n",
              "\n",
              "        async function convertToInteractive(key) {\n",
              "          const element = document.querySelector('#df-81fe7ddc-ca79-4742-b028-2c3de24e8e8d');\n",
              "          const dataTable =\n",
              "            await google.colab.kernel.invokeFunction('convertToInteractive',\n",
              "                                                     [key], {});\n",
              "          if (!dataTable) return;\n",
              "\n",
              "          const docLinkHtml = 'Like what you see? Visit the ' +\n",
              "            '<a target=\"_blank\" href=https://colab.research.google.com/notebooks/data_table.ipynb>data table notebook</a>'\n",
              "            + ' to learn more about interactive tables.';\n",
              "          element.innerHTML = '';\n",
              "          dataTable['output_type'] = 'display_data';\n",
              "          await google.colab.output.renderOutput(dataTable, element);\n",
              "          const docLink = document.createElement('div');\n",
              "          docLink.innerHTML = docLinkHtml;\n",
              "          element.appendChild(docLink);\n",
              "        }\n",
              "      </script>\n",
              "    </div>\n",
              "  </div>\n",
              "  "
            ]
          },
          "metadata": {},
          "execution_count": 8
        }
      ]
    },
    {
      "cell_type": "markdown",
      "source": [
        "## 特定地域のランキングデータ作成"
      ],
      "metadata": {
        "id": "fCq3Br3tMVvt"
      }
    },
    {
      "cell_type": "code",
      "source": [
        "def get_rank_dataframe_card(areaCode,cardId):\n",
        "\n",
        "  # BigQueryからデータ取得\n",
        "  df = get_gbq(cardId)\n",
        "\n",
        "  # 地域コードでフィルタ\n",
        "  df = df[df['areaCode'] == areaCode]\n",
        "\n",
        "  if df.empty:\n",
        "    return\n",
        "\n",
        "  # カテゴリは先頭\n",
        "  category = list(set(df['categoryCode'].tolist()))[0]\n",
        "  df = df[df['categoryCode'] == category]\n",
        "  \n",
        "\n",
        "  # 年次は最後\n",
        "  time = list(set(df['timeCode'].tolist()))[-1]\n",
        "  df = df[df['timeCode'] == time]\n",
        "  \n",
        "  # cardIdを追加\n",
        "  df['cardId'] = cardId\n",
        "  \n",
        "  return df"
      ],
      "metadata": {
        "id": "WYCzyGWUJCrO"
      },
      "execution_count": 9,
      "outputs": []
    },
    {
      "cell_type": "markdown",
      "source": [
        "統計カード一覧を取得"
      ],
      "metadata": {
        "id": "M0l4CALXTJ0Z"
      }
    },
    {
      "cell_type": "code",
      "source": [
        "import json\n",
        "\n",
        "def get_statistics_cardlist():\n",
        "  with open('/content/drive/MyDrive/statistics-hyogo/contents/statistics-cards.json') as j:\n",
        "    cardlist = json.load(j)\n",
        "\n",
        "  return cardlist"
      ],
      "metadata": {
        "id": "O1LbPSpiTGEB"
      },
      "execution_count": 10,
      "outputs": []
    },
    {
      "cell_type": "code",
      "source": [
        "def save_rank_dataframe(governmentType,areaCode):\n",
        "\n",
        "  # ランキングのDataFrame\n",
        "  df_res = pd.DataFrame(index=[], columns=[])\n",
        "\n",
        "  # 統計カードリストを検索\n",
        "  cardlist = get_statistics_cardlist()\n",
        "  for card in cardlist:\n",
        "    cardId = card['cardId']\n",
        "\n",
        "    if governmentType in cardId.split('-'):\n",
        "      df = get_rank_dataframe_card(areaCode,cardId)\n",
        "      df_res = pd.concat([df_res, df])\n",
        "  \n",
        "  return df_res"
      ],
      "metadata": {
        "id": "4ndf1MyRRyQA"
      },
      "execution_count": 11,
      "outputs": []
    },
    {
      "cell_type": "code",
      "source": [
        "# 地域コード指定\n",
        "areaCode = '28100'\n",
        "governmentType = 'city'\n",
        "\n",
        "df = save_rank_dataframe(governmentType,areaCode)\n",
        "\n",
        "from google.cloud import bigquery\n",
        "from google.cloud.exceptions import NotFound\n",
        "\n",
        "# BigQueryのテーブル定義\n",
        "project_id='primal-buttress-342908'\n",
        "dataset_id = 'ranking'\n",
        "table_id= areaCode\n",
        "client = bigquery.Client()\n",
        "\n",
        "# カード情報をマージ\n",
        "df_cardlist = pd.DataFrame(get_statistics_cardlist())\n",
        "df_cardlist = df_cardlist[['cardId','cardTitle','menuId','menuTitle','fieldId','fieldTitle']]\n",
        "df = pd.merge(df, df_cardlist, on='cardId', how='left')\n",
        "\n",
        "# BigQueryに保存\n",
        "df.to_gbq(f'{dataset_id}.{table_id}', project_id=project_id, if_exists=\"replace\")\n",
        "print(f'{table_id}を保存しました')"
      ],
      "metadata": {
        "id": "Lx_aW_zIBVrr",
        "colab": {
          "base_uri": "https://localhost:8080/"
        },
        "outputId": "d84baa0f-14d7-4f21-ac67-b96fbe30aaea"
      },
      "execution_count": null,
      "outputs": [
        {
          "output_type": "stream",
          "name": "stderr",
          "text": [
            "1it [00:06,  6.04s/it]"
          ]
        },
        {
          "output_type": "stream",
          "name": "stdout",
          "text": [
            "28100を保存しました\n"
          ]
        },
        {
          "output_type": "stream",
          "name": "stderr",
          "text": [
            "\n"
          ]
        }
      ]
    },
    {
      "cell_type": "markdown",
      "metadata": {
        "id": "fHfHKgAXbC_a"
      },
      "source": [
        "# 全地域で繰り返し処理"
      ]
    },
    {
      "cell_type": "code",
      "source": [
        "import json\n",
        "\n",
        "def get_arealist():\n",
        "  with open('/content/drive/MyDrive/statistics-hyogo/resas/arealist.json') as j:\n",
        "    arealist = json.load(j)\n",
        "\n",
        "  return arealist"
      ],
      "metadata": {
        "id": "e5mpzLinHiPW"
      },
      "execution_count": 13,
      "outputs": []
    },
    {
      "cell_type": "code",
      "source": [
        "from google.cloud import bigquery\n",
        "from google.cloud.exceptions import NotFound\n",
        "\n",
        "# BigQueryのテーブル定義\n",
        "project_id='primal-buttress-342908'\n",
        "dataset_id = 'ranking'\n",
        "\n",
        "client = bigquery.Client()\n",
        "arealist = get_arealist()\n",
        "\n",
        "# 繰り返し処理\n",
        "for area in arealist:\n",
        "  areaCode = area['areaCode']\n",
        "  governmentType = area['governmentType']\n",
        "\n",
        "  table_id = f'{project_id}.{dataset_id}.{areaCode}'\n",
        "\n",
        "  try:\n",
        "    client.get_table(table_id)  \n",
        "    print(\"Table {} already exists.\".format(table_id))\n",
        "  except NotFound:\n",
        "\n",
        "    # ランキングのDataFrameを作成\n",
        "    df = save_rank_dataframe(governmentType,areaCode)\n",
        "\n",
        "    # カード情報をマージ\n",
        "    df_cardlist = pd.DataFrame(get_statistics_cardlist())\n",
        "    df_cardlist = df_cardlist[['cardId','cardTitle','menuId','menuTitle','fieldId','fieldTitle']]\n",
        "    df = pd.merge(df, df_cardlist, on='cardId', how='left')\n",
        "\n",
        "    # BigQueryに保存\n",
        "    df.to_gbq(f'{dataset_id}.{table_id}', project_id=project_id, if_exists=\"replace\")\n",
        "    print(f'{table_id}を保存しました')\n"
      ],
      "metadata": {
        "id": "rcUGxAbtHm76",
        "outputId": "760d3b25-049f-4321-aeca-b3d04c5a493c",
        "colab": {
          "base_uri": "https://localhost:8080/"
        }
      },
      "execution_count": null,
      "outputs": [
        {
          "output_type": "stream",
          "name": "stdout",
          "text": [
            "Table primal-buttress-342908.ranking.01100 already exists.\n",
            "Table primal-buttress-342908.ranking.01101 already exists.\n",
            "Table primal-buttress-342908.ranking.01102 already exists.\n",
            "Table primal-buttress-342908.ranking.01103 already exists.\n",
            "Table primal-buttress-342908.ranking.01104 already exists.\n",
            "Table primal-buttress-342908.ranking.01105 already exists.\n",
            "Table primal-buttress-342908.ranking.01106 already exists.\n",
            "Table primal-buttress-342908.ranking.01107 already exists.\n",
            "Table primal-buttress-342908.ranking.01108 already exists.\n",
            "Table primal-buttress-342908.ranking.01109 already exists.\n",
            "Table primal-buttress-342908.ranking.01110 already exists.\n",
            "Table primal-buttress-342908.ranking.01202 already exists.\n",
            "Table primal-buttress-342908.ranking.01203 already exists.\n",
            "Table primal-buttress-342908.ranking.01204 already exists.\n",
            "Table primal-buttress-342908.ranking.01205 already exists.\n",
            "Table primal-buttress-342908.ranking.01206 already exists.\n",
            "Table primal-buttress-342908.ranking.01207 already exists.\n",
            "Table primal-buttress-342908.ranking.01208 already exists.\n"
          ]
        }
      ]
    }
  ],
  "metadata": {
    "colab": {
      "collapsed_sections": [],
      "provenance": []
    },
    "gpuClass": "standard",
    "kernelspec": {
      "display_name": "Python 3",
      "name": "python3"
    }
  },
  "nbformat": 4,
  "nbformat_minor": 0
}