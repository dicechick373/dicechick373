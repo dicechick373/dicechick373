{
  "cells": [
    {
      "cell_type": "markdown",
      "metadata": {
        "id": "inrYQThZlUDa"
      },
      "source": [
        "# 実行環境の作成"
      ]
    },
    {
      "cell_type": "markdown",
      "source": [
        "## Google Drive"
      ],
      "metadata": {
        "id": "uE_OCx7vVWhj"
      }
    },
    {
      "cell_type": "markdown",
      "source": [
        "Google Driveをマウント"
      ],
      "metadata": {
        "id": "kHc6WsJkUqvx"
      }
    },
    {
      "cell_type": "code",
      "source": [
        "from google.colab import drive\n",
        "drive.mount('/content/drive')"
      ],
      "metadata": {
        "id": "DeythyREUwXk",
        "outputId": "8dd8010a-def8-4110-bc09-e4474645bbcc",
        "colab": {
          "base_uri": "https://localhost:8080/"
        }
      },
      "execution_count": 2,
      "outputs": [
        {
          "output_type": "stream",
          "name": "stdout",
          "text": [
            "Mounted at /content/drive\n"
          ]
        }
      ]
    },
    {
      "cell_type": "markdown",
      "source": [
        "## Google Sheets"
      ],
      "metadata": {
        "id": "rc5jeElrVc2j"
      }
    },
    {
      "cell_type": "markdown",
      "source": [
        "ライブラリのインストール"
      ],
      "metadata": {
        "id": "CaxFFxxGVbj7"
      }
    },
    {
      "cell_type": "code",
      "source": [
        "!pip install --upgrade -q gspread"
      ],
      "metadata": {
        "id": "ySMOqC5VVlIV"
      },
      "execution_count": 3,
      "outputs": []
    },
    {
      "cell_type": "markdown",
      "source": [
        "Google Sheetsの認証"
      ],
      "metadata": {
        "id": "wvyybj9YVti6"
      }
    },
    {
      "cell_type": "code",
      "source": [
        "from google.colab import auth\n",
        "from google.auth import default\n",
        "import gspread\n",
        "\n",
        "auth.authenticate_user()\n",
        "creds, _ = default()\n",
        "gc = gspread.authorize(creds)"
      ],
      "metadata": {
        "id": "pdWWV-ywV108"
      },
      "execution_count": 4,
      "outputs": []
    },
    {
      "cell_type": "markdown",
      "metadata": {
        "id": "BDMnnS3RVrkF"
      },
      "source": [
        "## Google Cloud Storage"
      ]
    },
    {
      "cell_type": "markdown",
      "metadata": {
        "id": "SsgiSjKhV2D7"
      },
      "source": [
        "下記コードでGCPに接続"
      ]
    },
    {
      "cell_type": "code",
      "execution_count": 5,
      "metadata": {
        "id": "GKiUkM7SV0bY"
      },
      "outputs": [],
      "source": [
        "from google.colab import auth\n",
        "auth.authenticate_user()"
      ]
    },
    {
      "cell_type": "markdown",
      "metadata": {
        "id": "KP4JP4ouV6QS"
      },
      "source": [
        "認証に成功したらgcsfuseをインストール"
      ]
    },
    {
      "cell_type": "code",
      "execution_count": 6,
      "metadata": {
        "id": "d1D5UagbV9A4",
        "outputId": "df4bca0f-1488-4563-cf4d-8e814ab849a4",
        "colab": {
          "base_uri": "https://localhost:8080/"
        }
      },
      "outputs": [
        {
          "output_type": "stream",
          "name": "stdout",
          "text": [
            "deb http://packages.cloud.google.com/apt gcsfuse-bionic main\n",
            "  % Total    % Received % Xferd  Average Speed   Time    Time     Time  Current\n",
            "                                 Dload  Upload   Total   Spent    Left  Speed\n",
            "100  2537  100  2537    0     0  63425      0 --:--:-- --:--:-- --:--:-- 63425\n",
            "OK\n",
            "Get:1 http://security.ubuntu.com/ubuntu bionic-security InRelease [88.7 kB]\n",
            "Get:2 https://cloud.r-project.org/bin/linux/ubuntu bionic-cran40/ InRelease [3,626 B]\n",
            "Get:3 http://packages.cloud.google.com/apt gcsfuse-bionic InRelease [5,391 B]\n",
            "Ign:4 https://developer.download.nvidia.com/compute/machine-learning/repos/ubuntu1804/x86_64  InRelease\n",
            "Hit:5 https://developer.download.nvidia.com/compute/cuda/repos/ubuntu1804/x86_64  InRelease\n",
            "Hit:6 http://archive.ubuntu.com/ubuntu bionic InRelease\n",
            "Hit:7 https://developer.download.nvidia.com/compute/machine-learning/repos/ubuntu1804/x86_64  Release\n",
            "Get:8 http://ppa.launchpad.net/c2d4u.team/c2d4u4.0+/ubuntu bionic InRelease [15.9 kB]\n",
            "Get:9 http://archive.ubuntu.com/ubuntu bionic-updates InRelease [88.7 kB]\n",
            "Get:10 http://archive.ubuntu.com/ubuntu bionic-backports InRelease [83.3 kB]\n",
            "Hit:11 http://ppa.launchpad.net/cran/libgit2/ubuntu bionic InRelease\n",
            "Get:12 http://packages.cloud.google.com/apt gcsfuse-bionic/main amd64 Packages [1,511 B]\n",
            "Get:13 http://ppa.launchpad.net/deadsnakes/ppa/ubuntu bionic InRelease [15.9 kB]\n",
            "Get:14 http://ppa.launchpad.net/graphics-drivers/ppa/ubuntu bionic InRelease [21.3 kB]\n",
            "Get:15 http://security.ubuntu.com/ubuntu bionic-security/restricted amd64 Packages [1,188 kB]\n",
            "Get:16 http://security.ubuntu.com/ubuntu bionic-security/main amd64 Packages [3,020 kB]\n",
            "Get:18 http://security.ubuntu.com/ubuntu bionic-security/universe amd64 Packages [1,551 kB]\n",
            "Get:19 http://ppa.launchpad.net/c2d4u.team/c2d4u4.0+/ubuntu bionic/main Sources [2,164 kB]\n",
            "Get:20 http://archive.ubuntu.com/ubuntu bionic-updates/universe amd64 Packages [2,329 kB]\n",
            "Get:21 http://archive.ubuntu.com/ubuntu bionic-updates/main amd64 Packages [3,452 kB]\n",
            "Get:22 http://archive.ubuntu.com/ubuntu bionic-updates/restricted amd64 Packages [1,230 kB]\n",
            "Get:23 http://ppa.launchpad.net/c2d4u.team/c2d4u4.0+/ubuntu bionic/main amd64 Packages [1,109 kB]\n",
            "Get:24 http://ppa.launchpad.net/deadsnakes/ppa/ubuntu bionic/main amd64 Packages [44.0 kB]\n",
            "Get:25 http://ppa.launchpad.net/graphics-drivers/ppa/ubuntu bionic/main amd64 Packages [50.8 kB]\n",
            "Fetched 16.5 MB in 5s (3,584 kB/s)\n",
            "Reading package lists...\n",
            "Reading package lists...\n",
            "Building dependency tree...\n",
            "Reading state information...\n",
            "The following package was automatically installed and is no longer required:\n",
            "  libnvidia-common-460\n",
            "Use 'apt autoremove' to remove it.\n",
            "The following NEW packages will be installed:\n",
            "  gcsfuse\n",
            "0 upgraded, 1 newly installed, 0 to remove and 40 not upgraded.\n",
            "Need to get 12.1 MB of archives.\n",
            "After this operation, 27.6 MB of additional disk space will be used.\n",
            "Get:1 http://packages.cloud.google.com/apt gcsfuse-bionic/main amd64 gcsfuse amd64 0.41.7 [12.1 MB]\n",
            "Fetched 12.1 MB in 0s (42.8 MB/s)\n",
            "Selecting previously unselected package gcsfuse.\n",
            "(Reading database ... 123934 files and directories currently installed.)\n",
            "Preparing to unpack .../gcsfuse_0.41.7_amd64.deb ...\n",
            "Unpacking gcsfuse (0.41.7) ...\n",
            "Setting up gcsfuse (0.41.7) ...\n"
          ]
        }
      ],
      "source": [
        "!echo \"deb http://packages.cloud.google.com/apt gcsfuse-`lsb_release -c -s` main\" | sudo tee /etc/apt/sources.list.d/gcsfuse.list\n",
        "!curl https://packages.cloud.google.com/apt/doc/apt-key.gpg | sudo apt-key add -\n",
        "!apt-get -y -q update\n",
        "!apt-get -y -q install gcsfuse"
      ]
    },
    {
      "cell_type": "markdown",
      "metadata": {
        "id": "QUUcFp5LWR6s"
      },
      "source": [
        "バケット「statistics-hyogo」をディレクトリ「statistics-hyogo」にマウント"
      ]
    },
    {
      "cell_type": "code",
      "execution_count": 7,
      "metadata": {
        "id": "vw-vsTVGWIfp",
        "colab": {
          "base_uri": "https://localhost:8080/"
        },
        "outputId": "c0cb70eb-0ab2-44e3-ff5c-fd36624eeb73"
      },
      "outputs": [
        {
          "output_type": "stream",
          "name": "stdout",
          "text": [
            "2022/10/17 12:42:34.436878 Start gcsfuse/0.41.7 (Go version go1.18.4) for app \"\" using mount point: /content/statistics-hyogo\n",
            "2022/10/17 12:42:34.461511 Opening GCS connection...\n",
            "2022/10/17 12:42:35.840047 Mounting file system \"statistics-hyogo\"...\n",
            "2022/10/17 12:42:35.840493 File system has been successfully mounted.\n"
          ]
        }
      ],
      "source": [
        "! mkdir -p statistics-hyogo\n",
        "! gcsfuse --implicit-dirs --limit-bytes-per-sec -1 --limit-ops-per-sec -1 statistics-hyogo statistics-hyogo"
      ]
    },
    {
      "cell_type": "markdown",
      "source": [
        "# 単体テスト"
      ],
      "metadata": {
        "id": "084Qr5k7IVKm"
      }
    },
    {
      "cell_type": "markdown",
      "source": [
        "## BigQueryからテーブル取得"
      ],
      "metadata": {
        "id": "XGAE7LSgIbZW"
      }
    },
    {
      "cell_type": "code",
      "source": [
        "import pandas as pd\n",
        "\n",
        "def get_gbq(table_id):\n",
        "  project_id='primal-buttress-342908'\n",
        "  dataset_id = 'contents'  \n",
        "  query = f'SELECT * FROM `{project_id}.{dataset_id}.{table_id}`'\n",
        "  \n",
        "  return pd.read_gbq(query, project_id, dialect='standard')"
      ],
      "metadata": {
        "id": "z2-lKCNqIVpD"
      },
      "execution_count": 8,
      "outputs": []
    },
    {
      "cell_type": "code",
      "source": [
        "df = get_gbq('total-population-city')\n",
        "df"
      ],
      "metadata": {
        "id": "W5oM-4f3IhfK",
        "outputId": "fae52846-db85-448d-a074-cd903a5a088e",
        "colab": {
          "base_uri": "https://localhost:8080/",
          "height": 661
        }
      },
      "execution_count": 9,
      "outputs": [
        {
          "output_type": "execute_result",
          "data": {
            "text/plain": [
              "      statsDataId statsDataName categoryCode categoryName timeCode timeName  \\\n",
              "0      0000020201     社会・人口統計体系        A1101          総人口     1980   1980年度   \n",
              "1      0000020201     社会・人口統計体系        A1101          総人口     1985   1985年度   \n",
              "2      0000020201     社会・人口統計体系        A1101          総人口     1990   1990年度   \n",
              "3      0000020201     社会・人口統計体系        A1101          総人口     1995   1995年度   \n",
              "4      0000020201     社会・人口統計体系        A1101          総人口     2000   2000年度   \n",
              "...           ...           ...          ...          ...      ...      ...   \n",
              "30628  0000020201     社会・人口統計体系      A110101       総人口（男）     2015   2015年度   \n",
              "30629  0000020201     社会・人口統計体系      A110102       総人口（女）     2000   2000年度   \n",
              "30630  0000020201     社会・人口統計体系      A110102       総人口（女）     2005   2005年度   \n",
              "30631  0000020201     社会・人口統計体系      A110102       総人口（女）     2010   2010年度   \n",
              "30632  0000020201     社会・人口統計体系      A110102       総人口（女）     2015   2015年度   \n",
              "\n",
              "      areaCode    value unit  index  prefCode prefName cityCode cityName  \\\n",
              "0        01100  1401757    人      0         1      北海道    01100      札幌市   \n",
              "1        01100  1542979    人      0         1      北海道    01100      札幌市   \n",
              "2        01100  1671742    人      0         1      北海道    01100      札幌市   \n",
              "3        01100  1757025    人      0         1      北海道    01100      札幌市   \n",
              "4        01100  1822368    人      0         1      北海道    01100      札幌市   \n",
              "...        ...      ...  ...    ...       ...      ...      ...      ...   \n",
              "30628    47382     1147    人   1921        47      沖縄県    47382     与那国町   \n",
              "30629    47382      895    人   1921        47      沖縄県    47382     与那国町   \n",
              "30630    47382      857    人   1921        47      沖縄県    47382     与那国町   \n",
              "30631    47382      816    人   1921        47      沖縄県    47382     与那国町   \n",
              "30632    47382      696    人   1921        47      沖縄県    47382     与那国町   \n",
              "\n",
              "      bigCityFlag areaName governmentType rankJapan rankPref  \n",
              "0               2      札幌市           city         5        1  \n",
              "1               2      札幌市           city         4        1  \n",
              "2               2      札幌市           city         4        1  \n",
              "3               2      札幌市           city         4        1  \n",
              "4               2      札幌市           city         4        1  \n",
              "...           ...      ...            ...       ...      ...  \n",
              "30628           0     与那国町           city      1638       31  \n",
              "30629           0     与那国町           city      1694       32  \n",
              "30630           0     与那国町           city      1690       31  \n",
              "30631           0     与那国町           city      1689       31  \n",
              "30632           0     与那国町           city      1686       32  \n",
              "\n",
              "[30633 rows x 19 columns]"
            ],
            "text/html": [
              "\n",
              "  <div id=\"df-ee63c219-a302-4a9d-966c-0bfd6b0d3ea8\">\n",
              "    <div class=\"colab-df-container\">\n",
              "      <div>\n",
              "<style scoped>\n",
              "    .dataframe tbody tr th:only-of-type {\n",
              "        vertical-align: middle;\n",
              "    }\n",
              "\n",
              "    .dataframe tbody tr th {\n",
              "        vertical-align: top;\n",
              "    }\n",
              "\n",
              "    .dataframe thead th {\n",
              "        text-align: right;\n",
              "    }\n",
              "</style>\n",
              "<table border=\"1\" class=\"dataframe\">\n",
              "  <thead>\n",
              "    <tr style=\"text-align: right;\">\n",
              "      <th></th>\n",
              "      <th>statsDataId</th>\n",
              "      <th>statsDataName</th>\n",
              "      <th>categoryCode</th>\n",
              "      <th>categoryName</th>\n",
              "      <th>timeCode</th>\n",
              "      <th>timeName</th>\n",
              "      <th>areaCode</th>\n",
              "      <th>value</th>\n",
              "      <th>unit</th>\n",
              "      <th>index</th>\n",
              "      <th>prefCode</th>\n",
              "      <th>prefName</th>\n",
              "      <th>cityCode</th>\n",
              "      <th>cityName</th>\n",
              "      <th>bigCityFlag</th>\n",
              "      <th>areaName</th>\n",
              "      <th>governmentType</th>\n",
              "      <th>rankJapan</th>\n",
              "      <th>rankPref</th>\n",
              "    </tr>\n",
              "  </thead>\n",
              "  <tbody>\n",
              "    <tr>\n",
              "      <th>0</th>\n",
              "      <td>0000020201</td>\n",
              "      <td>社会・人口統計体系</td>\n",
              "      <td>A1101</td>\n",
              "      <td>総人口</td>\n",
              "      <td>1980</td>\n",
              "      <td>1980年度</td>\n",
              "      <td>01100</td>\n",
              "      <td>1401757</td>\n",
              "      <td>人</td>\n",
              "      <td>0</td>\n",
              "      <td>1</td>\n",
              "      <td>北海道</td>\n",
              "      <td>01100</td>\n",
              "      <td>札幌市</td>\n",
              "      <td>2</td>\n",
              "      <td>札幌市</td>\n",
              "      <td>city</td>\n",
              "      <td>5</td>\n",
              "      <td>1</td>\n",
              "    </tr>\n",
              "    <tr>\n",
              "      <th>1</th>\n",
              "      <td>0000020201</td>\n",
              "      <td>社会・人口統計体系</td>\n",
              "      <td>A1101</td>\n",
              "      <td>総人口</td>\n",
              "      <td>1985</td>\n",
              "      <td>1985年度</td>\n",
              "      <td>01100</td>\n",
              "      <td>1542979</td>\n",
              "      <td>人</td>\n",
              "      <td>0</td>\n",
              "      <td>1</td>\n",
              "      <td>北海道</td>\n",
              "      <td>01100</td>\n",
              "      <td>札幌市</td>\n",
              "      <td>2</td>\n",
              "      <td>札幌市</td>\n",
              "      <td>city</td>\n",
              "      <td>4</td>\n",
              "      <td>1</td>\n",
              "    </tr>\n",
              "    <tr>\n",
              "      <th>2</th>\n",
              "      <td>0000020201</td>\n",
              "      <td>社会・人口統計体系</td>\n",
              "      <td>A1101</td>\n",
              "      <td>総人口</td>\n",
              "      <td>1990</td>\n",
              "      <td>1990年度</td>\n",
              "      <td>01100</td>\n",
              "      <td>1671742</td>\n",
              "      <td>人</td>\n",
              "      <td>0</td>\n",
              "      <td>1</td>\n",
              "      <td>北海道</td>\n",
              "      <td>01100</td>\n",
              "      <td>札幌市</td>\n",
              "      <td>2</td>\n",
              "      <td>札幌市</td>\n",
              "      <td>city</td>\n",
              "      <td>4</td>\n",
              "      <td>1</td>\n",
              "    </tr>\n",
              "    <tr>\n",
              "      <th>3</th>\n",
              "      <td>0000020201</td>\n",
              "      <td>社会・人口統計体系</td>\n",
              "      <td>A1101</td>\n",
              "      <td>総人口</td>\n",
              "      <td>1995</td>\n",
              "      <td>1995年度</td>\n",
              "      <td>01100</td>\n",
              "      <td>1757025</td>\n",
              "      <td>人</td>\n",
              "      <td>0</td>\n",
              "      <td>1</td>\n",
              "      <td>北海道</td>\n",
              "      <td>01100</td>\n",
              "      <td>札幌市</td>\n",
              "      <td>2</td>\n",
              "      <td>札幌市</td>\n",
              "      <td>city</td>\n",
              "      <td>4</td>\n",
              "      <td>1</td>\n",
              "    </tr>\n",
              "    <tr>\n",
              "      <th>4</th>\n",
              "      <td>0000020201</td>\n",
              "      <td>社会・人口統計体系</td>\n",
              "      <td>A1101</td>\n",
              "      <td>総人口</td>\n",
              "      <td>2000</td>\n",
              "      <td>2000年度</td>\n",
              "      <td>01100</td>\n",
              "      <td>1822368</td>\n",
              "      <td>人</td>\n",
              "      <td>0</td>\n",
              "      <td>1</td>\n",
              "      <td>北海道</td>\n",
              "      <td>01100</td>\n",
              "      <td>札幌市</td>\n",
              "      <td>2</td>\n",
              "      <td>札幌市</td>\n",
              "      <td>city</td>\n",
              "      <td>4</td>\n",
              "      <td>1</td>\n",
              "    </tr>\n",
              "    <tr>\n",
              "      <th>...</th>\n",
              "      <td>...</td>\n",
              "      <td>...</td>\n",
              "      <td>...</td>\n",
              "      <td>...</td>\n",
              "      <td>...</td>\n",
              "      <td>...</td>\n",
              "      <td>...</td>\n",
              "      <td>...</td>\n",
              "      <td>...</td>\n",
              "      <td>...</td>\n",
              "      <td>...</td>\n",
              "      <td>...</td>\n",
              "      <td>...</td>\n",
              "      <td>...</td>\n",
              "      <td>...</td>\n",
              "      <td>...</td>\n",
              "      <td>...</td>\n",
              "      <td>...</td>\n",
              "      <td>...</td>\n",
              "    </tr>\n",
              "    <tr>\n",
              "      <th>30628</th>\n",
              "      <td>0000020201</td>\n",
              "      <td>社会・人口統計体系</td>\n",
              "      <td>A110101</td>\n",
              "      <td>総人口（男）</td>\n",
              "      <td>2015</td>\n",
              "      <td>2015年度</td>\n",
              "      <td>47382</td>\n",
              "      <td>1147</td>\n",
              "      <td>人</td>\n",
              "      <td>1921</td>\n",
              "      <td>47</td>\n",
              "      <td>沖縄県</td>\n",
              "      <td>47382</td>\n",
              "      <td>与那国町</td>\n",
              "      <td>0</td>\n",
              "      <td>与那国町</td>\n",
              "      <td>city</td>\n",
              "      <td>1638</td>\n",
              "      <td>31</td>\n",
              "    </tr>\n",
              "    <tr>\n",
              "      <th>30629</th>\n",
              "      <td>0000020201</td>\n",
              "      <td>社会・人口統計体系</td>\n",
              "      <td>A110102</td>\n",
              "      <td>総人口（女）</td>\n",
              "      <td>2000</td>\n",
              "      <td>2000年度</td>\n",
              "      <td>47382</td>\n",
              "      <td>895</td>\n",
              "      <td>人</td>\n",
              "      <td>1921</td>\n",
              "      <td>47</td>\n",
              "      <td>沖縄県</td>\n",
              "      <td>47382</td>\n",
              "      <td>与那国町</td>\n",
              "      <td>0</td>\n",
              "      <td>与那国町</td>\n",
              "      <td>city</td>\n",
              "      <td>1694</td>\n",
              "      <td>32</td>\n",
              "    </tr>\n",
              "    <tr>\n",
              "      <th>30630</th>\n",
              "      <td>0000020201</td>\n",
              "      <td>社会・人口統計体系</td>\n",
              "      <td>A110102</td>\n",
              "      <td>総人口（女）</td>\n",
              "      <td>2005</td>\n",
              "      <td>2005年度</td>\n",
              "      <td>47382</td>\n",
              "      <td>857</td>\n",
              "      <td>人</td>\n",
              "      <td>1921</td>\n",
              "      <td>47</td>\n",
              "      <td>沖縄県</td>\n",
              "      <td>47382</td>\n",
              "      <td>与那国町</td>\n",
              "      <td>0</td>\n",
              "      <td>与那国町</td>\n",
              "      <td>city</td>\n",
              "      <td>1690</td>\n",
              "      <td>31</td>\n",
              "    </tr>\n",
              "    <tr>\n",
              "      <th>30631</th>\n",
              "      <td>0000020201</td>\n",
              "      <td>社会・人口統計体系</td>\n",
              "      <td>A110102</td>\n",
              "      <td>総人口（女）</td>\n",
              "      <td>2010</td>\n",
              "      <td>2010年度</td>\n",
              "      <td>47382</td>\n",
              "      <td>816</td>\n",
              "      <td>人</td>\n",
              "      <td>1921</td>\n",
              "      <td>47</td>\n",
              "      <td>沖縄県</td>\n",
              "      <td>47382</td>\n",
              "      <td>与那国町</td>\n",
              "      <td>0</td>\n",
              "      <td>与那国町</td>\n",
              "      <td>city</td>\n",
              "      <td>1689</td>\n",
              "      <td>31</td>\n",
              "    </tr>\n",
              "    <tr>\n",
              "      <th>30632</th>\n",
              "      <td>0000020201</td>\n",
              "      <td>社会・人口統計体系</td>\n",
              "      <td>A110102</td>\n",
              "      <td>総人口（女）</td>\n",
              "      <td>2015</td>\n",
              "      <td>2015年度</td>\n",
              "      <td>47382</td>\n",
              "      <td>696</td>\n",
              "      <td>人</td>\n",
              "      <td>1921</td>\n",
              "      <td>47</td>\n",
              "      <td>沖縄県</td>\n",
              "      <td>47382</td>\n",
              "      <td>与那国町</td>\n",
              "      <td>0</td>\n",
              "      <td>与那国町</td>\n",
              "      <td>city</td>\n",
              "      <td>1686</td>\n",
              "      <td>32</td>\n",
              "    </tr>\n",
              "  </tbody>\n",
              "</table>\n",
              "<p>30633 rows × 19 columns</p>\n",
              "</div>\n",
              "      <button class=\"colab-df-convert\" onclick=\"convertToInteractive('df-ee63c219-a302-4a9d-966c-0bfd6b0d3ea8')\"\n",
              "              title=\"Convert this dataframe to an interactive table.\"\n",
              "              style=\"display:none;\">\n",
              "        \n",
              "  <svg xmlns=\"http://www.w3.org/2000/svg\" height=\"24px\"viewBox=\"0 0 24 24\"\n",
              "       width=\"24px\">\n",
              "    <path d=\"M0 0h24v24H0V0z\" fill=\"none\"/>\n",
              "    <path d=\"M18.56 5.44l.94 2.06.94-2.06 2.06-.94-2.06-.94-.94-2.06-.94 2.06-2.06.94zm-11 1L8.5 8.5l.94-2.06 2.06-.94-2.06-.94L8.5 2.5l-.94 2.06-2.06.94zm10 10l.94 2.06.94-2.06 2.06-.94-2.06-.94-.94-2.06-.94 2.06-2.06.94z\"/><path d=\"M17.41 7.96l-1.37-1.37c-.4-.4-.92-.59-1.43-.59-.52 0-1.04.2-1.43.59L10.3 9.45l-7.72 7.72c-.78.78-.78 2.05 0 2.83L4 21.41c.39.39.9.59 1.41.59.51 0 1.02-.2 1.41-.59l7.78-7.78 2.81-2.81c.8-.78.8-2.07 0-2.86zM5.41 20L4 18.59l7.72-7.72 1.47 1.35L5.41 20z\"/>\n",
              "  </svg>\n",
              "      </button>\n",
              "      \n",
              "  <style>\n",
              "    .colab-df-container {\n",
              "      display:flex;\n",
              "      flex-wrap:wrap;\n",
              "      gap: 12px;\n",
              "    }\n",
              "\n",
              "    .colab-df-convert {\n",
              "      background-color: #E8F0FE;\n",
              "      border: none;\n",
              "      border-radius: 50%;\n",
              "      cursor: pointer;\n",
              "      display: none;\n",
              "      fill: #1967D2;\n",
              "      height: 32px;\n",
              "      padding: 0 0 0 0;\n",
              "      width: 32px;\n",
              "    }\n",
              "\n",
              "    .colab-df-convert:hover {\n",
              "      background-color: #E2EBFA;\n",
              "      box-shadow: 0px 1px 2px rgba(60, 64, 67, 0.3), 0px 1px 3px 1px rgba(60, 64, 67, 0.15);\n",
              "      fill: #174EA6;\n",
              "    }\n",
              "\n",
              "    [theme=dark] .colab-df-convert {\n",
              "      background-color: #3B4455;\n",
              "      fill: #D2E3FC;\n",
              "    }\n",
              "\n",
              "    [theme=dark] .colab-df-convert:hover {\n",
              "      background-color: #434B5C;\n",
              "      box-shadow: 0px 1px 3px 1px rgba(0, 0, 0, 0.15);\n",
              "      filter: drop-shadow(0px 1px 2px rgba(0, 0, 0, 0.3));\n",
              "      fill: #FFFFFF;\n",
              "    }\n",
              "  </style>\n",
              "\n",
              "      <script>\n",
              "        const buttonEl =\n",
              "          document.querySelector('#df-ee63c219-a302-4a9d-966c-0bfd6b0d3ea8 button.colab-df-convert');\n",
              "        buttonEl.style.display =\n",
              "          google.colab.kernel.accessAllowed ? 'block' : 'none';\n",
              "\n",
              "        async function convertToInteractive(key) {\n",
              "          const element = document.querySelector('#df-ee63c219-a302-4a9d-966c-0bfd6b0d3ea8');\n",
              "          const dataTable =\n",
              "            await google.colab.kernel.invokeFunction('convertToInteractive',\n",
              "                                                     [key], {});\n",
              "          if (!dataTable) return;\n",
              "\n",
              "          const docLinkHtml = 'Like what you see? Visit the ' +\n",
              "            '<a target=\"_blank\" href=https://colab.research.google.com/notebooks/data_table.ipynb>data table notebook</a>'\n",
              "            + ' to learn more about interactive tables.';\n",
              "          element.innerHTML = '';\n",
              "          dataTable['output_type'] = 'display_data';\n",
              "          await google.colab.output.renderOutput(dataTable, element);\n",
              "          const docLink = document.createElement('div');\n",
              "          docLink.innerHTML = docLinkHtml;\n",
              "          element.appendChild(docLink);\n",
              "        }\n",
              "      </script>\n",
              "    </div>\n",
              "  </div>\n",
              "  "
            ]
          },
          "metadata": {},
          "execution_count": 9
        }
      ]
    },
    {
      "cell_type": "markdown",
      "source": [
        "## 特定地域のランキングデータ作成"
      ],
      "metadata": {
        "id": "fCq3Br3tMVvt"
      }
    },
    {
      "cell_type": "code",
      "source": [
        "def get_rank_dataframe_card(areaCode,cardId):\n",
        "\n",
        "  # BigQueryからデータ取得\n",
        "  df = get_gbq(cardId)\n",
        "\n",
        "  # 地域コードでフィルタ\n",
        "  df = df[df['areaCode'] == areaCode]\n",
        "\n",
        "  if df.empty:\n",
        "    return\n",
        "\n",
        "  # カテゴリは先頭\n",
        "  category = list(set(df['categoryCode'].tolist()))[0]\n",
        "  df = df[df['categoryCode'] == category]\n",
        "  \n",
        "\n",
        "  # 年次は最後\n",
        "  time = list(set(df['timeCode'].tolist()))[-1]\n",
        "  df = df[df['timeCode'] == time]\n",
        "  \n",
        "  # cardIdを追加\n",
        "  df['cardId'] = cardId\n",
        "  \n",
        "  return df"
      ],
      "metadata": {
        "id": "WYCzyGWUJCrO"
      },
      "execution_count": 10,
      "outputs": []
    },
    {
      "cell_type": "markdown",
      "source": [
        "統計カード一覧を取得"
      ],
      "metadata": {
        "id": "M0l4CALXTJ0Z"
      }
    },
    {
      "cell_type": "code",
      "source": [
        "import json\n",
        "\n",
        "def get_statistics_cardlist():\n",
        "  with open('/content/drive/MyDrive/statistics-hyogo/contents/statistics-cards.json') as j:\n",
        "    cardlist = json.load(j)\n",
        "\n",
        "  return cardlist"
      ],
      "metadata": {
        "id": "O1LbPSpiTGEB"
      },
      "execution_count": 11,
      "outputs": []
    },
    {
      "cell_type": "code",
      "source": [
        "def save_rank_dataframe(governmentType,areaCode):\n",
        "\n",
        "  # ランキングのDataFrame\n",
        "  df_res = pd.DataFrame(index=[], columns=[])\n",
        "\n",
        "  # 統計カードリストを検索\n",
        "  cardlist = get_statistics_cardlist()\n",
        "  for card in cardlist:\n",
        "    cardId = card['cardId']\n",
        "\n",
        "    if governmentType in cardId.split('-'):\n",
        "      df = get_rank_dataframe_card(areaCode,cardId)\n",
        "      df_res = pd.concat([df_res, df])\n",
        "  \n",
        "  return df_res"
      ],
      "metadata": {
        "id": "4ndf1MyRRyQA"
      },
      "execution_count": 12,
      "outputs": []
    },
    {
      "cell_type": "code",
      "source": [
        "# 地域コード指定\n",
        "areaCode = '28100'\n",
        "governmentType = 'city'\n",
        "\n",
        "df = save_rank_dataframe(governmentType,areaCode)\n",
        "\n",
        "from google.cloud import bigquery\n",
        "from google.cloud.exceptions import NotFound\n",
        "\n",
        "# BigQueryのテーブル定義\n",
        "project_id='primal-buttress-342908'\n",
        "dataset_id = 'ranking'\n",
        "table_id= areaCode\n",
        "client = bigquery.Client()\n",
        "\n",
        "# カード情報をマージ\n",
        "df_cardlist = pd.DataFrame(get_statistics_cardlist())\n",
        "df_cardlist = df_cardlist[['cardId','cardTitle','menuId','menuTitle','fieldId','fieldTitle']]\n",
        "df = pd.merge(df, df_cardlist, on='cardId', how='left')\n",
        "\n",
        "# BigQueryに保存\n",
        "df.to_gbq(f'{dataset_id}.{table_id}', project_id=project_id, if_exists=\"replace\")\n",
        "print(f'{table_id}を保存しました')"
      ],
      "metadata": {
        "id": "Lx_aW_zIBVrr"
      },
      "execution_count": null,
      "outputs": []
    },
    {
      "cell_type": "markdown",
      "metadata": {
        "id": "fHfHKgAXbC_a"
      },
      "source": [
        "# 全地域で繰り返し処理"
      ]
    },
    {
      "cell_type": "code",
      "source": [
        "import json\n",
        "\n",
        "def get_arealist():\n",
        "  with open('/content/drive/MyDrive/statistics-hyogo/resas/arealist.json') as j:\n",
        "    arealist = json.load(j)\n",
        "\n",
        "  return arealist"
      ],
      "metadata": {
        "id": "e5mpzLinHiPW"
      },
      "execution_count": 13,
      "outputs": []
    },
    {
      "cell_type": "code",
      "source": [
        "from google.cloud import bigquery\n",
        "from google.cloud.exceptions import NotFound\n",
        "\n",
        "# BigQueryのテーブル定義\n",
        "project_id='primal-buttress-342908'\n",
        "dataset_id = 'ranking'\n",
        "client = bigquery.Client()\n",
        "\n",
        "# 繰り返し処理\n",
        "arealist = get_arealist()\n",
        "for area in arealist:\n",
        "  areaCode = area['areaCode']\n",
        "  governmentType = area['governmentType']\n",
        "\n",
        "  table = f'{project_id}.{dataset_id}.{areaCode}'\n",
        "\n",
        "  try:\n",
        "    client.get_table(table)  \n",
        "    print(\"Table {} already exists.\".format(table))\n",
        "  except NotFound:\n",
        "\n",
        "    # ランキングのDataFrameを作成\n",
        "    df = save_rank_dataframe(governmentType,areaCode)\n",
        "\n",
        "    # カード情報をマージ\n",
        "    df_cardlist = pd.DataFrame(get_statistics_cardlist())\n",
        "    df_cardlist = df_cardlist[['cardId','cardTitle','menuId','menuTitle','fieldId','fieldTitle']]\n",
        "    df = pd.merge(df, df_cardlist, on='cardId', how='left')\n",
        "\n",
        "    # BigQueryに保存\n",
        "    table_id = areaCode\n",
        "    df.to_gbq(f'{dataset_id}.{table_id}', project_id=project_id, if_exists=\"replace\")\n",
        "    print(f'{table_id}を保存しました')\n"
      ],
      "metadata": {
        "id": "rcUGxAbtHm76",
        "outputId": "55173c88-3724-4c22-8edf-7d980e0ec929",
        "colab": {
          "base_uri": "https://localhost:8080/",
          "height": 240
        }
      },
      "execution_count": 1,
      "outputs": [
        {
          "output_type": "error",
          "ename": "NameError",
          "evalue": "ignored",
          "traceback": [
            "\u001b[0;31m---------------------------------------------------------------------------\u001b[0m",
            "\u001b[0;31mNameError\u001b[0m                                 Traceback (most recent call last)",
            "\u001b[0;32m<ipython-input-1-44d51512ee5c>\u001b[0m in \u001b[0;36m<module>\u001b[0;34m\u001b[0m\n\u001b[1;32m      8\u001b[0m \u001b[0;34m\u001b[0m\u001b[0m\n\u001b[1;32m      9\u001b[0m \u001b[0;31m# 繰り返し処理\u001b[0m\u001b[0;34m\u001b[0m\u001b[0;34m\u001b[0m\u001b[0;34m\u001b[0m\u001b[0m\n\u001b[0;32m---> 10\u001b[0;31m \u001b[0marealist\u001b[0m \u001b[0;34m=\u001b[0m \u001b[0mget_arealist\u001b[0m\u001b[0;34m(\u001b[0m\u001b[0;34m)\u001b[0m\u001b[0;34m\u001b[0m\u001b[0;34m\u001b[0m\u001b[0m\n\u001b[0m\u001b[1;32m     11\u001b[0m \u001b[0;32mfor\u001b[0m \u001b[0marea\u001b[0m \u001b[0;32min\u001b[0m \u001b[0marealist\u001b[0m\u001b[0;34m:\u001b[0m\u001b[0;34m\u001b[0m\u001b[0;34m\u001b[0m\u001b[0m\n\u001b[1;32m     12\u001b[0m   \u001b[0mareaCode\u001b[0m \u001b[0;34m=\u001b[0m \u001b[0marea\u001b[0m\u001b[0;34m[\u001b[0m\u001b[0;34m'areaCode'\u001b[0m\u001b[0;34m]\u001b[0m\u001b[0;34m\u001b[0m\u001b[0;34m\u001b[0m\u001b[0m\n",
            "\u001b[0;31mNameError\u001b[0m: name 'get_arealist' is not defined"
          ]
        }
      ]
    }
  ],
  "metadata": {
    "colab": {
      "collapsed_sections": [],
      "provenance": [],
      "toc_visible": true
    },
    "gpuClass": "standard",
    "kernelspec": {
      "display_name": "Python 3",
      "name": "python3"
    }
  },
  "nbformat": 4,
  "nbformat_minor": 0
}