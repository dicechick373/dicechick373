{
  "cells": [
    {
      "cell_type": "markdown",
      "metadata": {
        "id": "inrYQThZlUDa"
      },
      "source": [
        "# 実行環境の作成"
      ]
    },
    {
      "cell_type": "markdown",
      "source": [
        "## Google Drive"
      ],
      "metadata": {
        "id": "uE_OCx7vVWhj"
      }
    },
    {
      "cell_type": "markdown",
      "source": [
        "Google Driveをマウント"
      ],
      "metadata": {
        "id": "kHc6WsJkUqvx"
      }
    },
    {
      "cell_type": "code",
      "source": [
        "from google.colab import drive\n",
        "drive.mount('/content/drive')"
      ],
      "metadata": {
        "id": "DeythyREUwXk"
      },
      "execution_count": null,
      "outputs": []
    },
    {
      "cell_type": "markdown",
      "source": [
        "## Google Sheets"
      ],
      "metadata": {
        "id": "rc5jeElrVc2j"
      }
    },
    {
      "cell_type": "markdown",
      "source": [
        "ライブラリのインストール"
      ],
      "metadata": {
        "id": "CaxFFxxGVbj7"
      }
    },
    {
      "cell_type": "code",
      "source": [
        "!pip install --upgrade -q gspread"
      ],
      "metadata": {
        "id": "ySMOqC5VVlIV"
      },
      "execution_count": 2,
      "outputs": []
    },
    {
      "cell_type": "markdown",
      "source": [
        "Google Sheetsの認証"
      ],
      "metadata": {
        "id": "wvyybj9YVti6"
      }
    },
    {
      "cell_type": "code",
      "source": [
        "from google.colab import auth\n",
        "from google.auth import default\n",
        "import gspread\n",
        "\n",
        "auth.authenticate_user()\n",
        "creds, _ = default()\n",
        "gc = gspread.authorize(creds)"
      ],
      "metadata": {
        "id": "pdWWV-ywV108"
      },
      "execution_count": 3,
      "outputs": []
    },
    {
      "cell_type": "markdown",
      "metadata": {
        "id": "BDMnnS3RVrkF"
      },
      "source": [
        "## Google Cloud Storage"
      ]
    },
    {
      "cell_type": "markdown",
      "metadata": {
        "id": "SsgiSjKhV2D7"
      },
      "source": [
        "下記コードでGCPに接続"
      ]
    },
    {
      "cell_type": "code",
      "execution_count": 4,
      "metadata": {
        "id": "GKiUkM7SV0bY"
      },
      "outputs": [],
      "source": [
        "from google.colab import auth\n",
        "auth.authenticate_user()"
      ]
    },
    {
      "cell_type": "markdown",
      "metadata": {
        "id": "KP4JP4ouV6QS"
      },
      "source": [
        "認証に成功したらgcsfuseをインストール"
      ]
    },
    {
      "cell_type": "code",
      "execution_count": null,
      "metadata": {
        "id": "d1D5UagbV9A4"
      },
      "outputs": [],
      "source": [
        "!echo \"deb http://packages.cloud.google.com/apt gcsfuse-`lsb_release -c -s` main\" | sudo tee /etc/apt/sources.list.d/gcsfuse.list\n",
        "!curl https://packages.cloud.google.com/apt/doc/apt-key.gpg | sudo apt-key add -\n",
        "!apt-get -y -q update\n",
        "!apt-get -y -q install gcsfuse"
      ]
    },
    {
      "cell_type": "markdown",
      "metadata": {
        "id": "QUUcFp5LWR6s"
      },
      "source": [
        "バケット「statistics-hyogo」をディレクトリ「statistics-hyogo」にマウント"
      ]
    },
    {
      "cell_type": "code",
      "execution_count": null,
      "metadata": {
        "id": "vw-vsTVGWIfp"
      },
      "outputs": [],
      "source": [
        "! mkdir -p statistics-hyogo\n",
        "! gcsfuse --implicit-dirs --limit-bytes-per-sec -1 --limit-ops-per-sec -1 statistics-hyogo statistics-hyogo"
      ]
    },
    {
      "cell_type": "markdown",
      "metadata": {
        "id": "YZ-rxUoLTevY"
      },
      "source": [
        "## ESTAT_APP_ID"
      ]
    },
    {
      "cell_type": "code",
      "execution_count": 7,
      "metadata": {
        "id": "wMa4y4oXJYdw"
      },
      "outputs": [],
      "source": [
        "ESTAT_APPID = '724e5b90772a3e9289f41a253e4e7e32438f4fff'"
      ]
    },
    {
      "cell_type": "markdown",
      "metadata": {
        "id": "rv4FGegQaZtc"
      },
      "source": [
        "## pythonのライブラリ追加"
      ]
    },
    {
      "cell_type": "code",
      "execution_count": 8,
      "metadata": {
        "id": "eIB9NAJdalZT"
      },
      "outputs": [],
      "source": [
        "import urllib.parse\n",
        "import urllib.request\n",
        "import json\n",
        "import pandas as pd"
      ]
    },
    {
      "cell_type": "markdown",
      "metadata": {
        "id": "428I_VMlmF2R"
      },
      "source": [
        "# 統計カードのデータセット"
      ]
    },
    {
      "cell_type": "markdown",
      "metadata": {
        "id": "W2ByC1cjNSQw"
      },
      "source": [
        "## RESAS_API_KEY"
      ]
    },
    {
      "cell_type": "code",
      "execution_count": 9,
      "metadata": {
        "id": "XoYdUMifTHOQ"
      },
      "outputs": [],
      "source": [
        "RESAS_API_KEY = '\t02JYzLqUOfTNVfiTWjLlR2g0YwEQPQ7caYxcnZaZ'"
      ]
    },
    {
      "cell_type": "markdown",
      "source": [
        "## 都道府県コードリスト"
      ],
      "metadata": {
        "id": "N1LPP5AKUMpi"
      }
    },
    {
      "cell_type": "markdown",
      "source": [
        "resas-APIから都道府県一覧を取得する"
      ],
      "metadata": {
        "id": "HIMv-4X-UsUm"
      }
    },
    {
      "cell_type": "code",
      "execution_count": 10,
      "metadata": {
        "id": "fl33E501NCwk"
      },
      "outputs": [],
      "source": [
        "\"\"\"\n",
        "resas-APIから都道府県一覧を取得する関数\n",
        "\"\"\"\n",
        "\n",
        "def get_resas_preflist():\n",
        "    url = 'https://opendata.resas-portal.go.jp/api/v1/prefectures'\n",
        "    req = urllib.request.Request(url, headers={'X-API-KEY': RESAS_API_KEY})\n",
        "    with urllib.request.urlopen(req) as response:\n",
        "        res = json.loads(response.read().decode())\n",
        "    return res['result']"
      ]
    },
    {
      "cell_type": "markdown",
      "source": [
        "estat-APIのリクエストパラメータ'cdArea'に都道府県コードをセットする\n",
        "\n",
        "返却値はリスト"
      ],
      "metadata": {
        "id": "2u_CHuqwWHNf"
      }
    },
    {
      "cell_type": "code",
      "source": [
        "\"\"\"\n",
        "estat-APIのパラメータ'cdArea'に都道府県コードをセットする関数\n",
        "\"\"\"\n",
        "\n",
        "def get_cdAreas_prefecture():\n",
        "\n",
        "  pref_codes = [d.get('prefCode') for d in get_resas_preflist()]\n",
        "  pref_codes = [str(c).zfill(5) for c in pref_codes]\n",
        "\n",
        "  res = [{'cdArea':\",\".join(pref_codes)}]\n",
        "  \n",
        "  return res"
      ],
      "metadata": {
        "id": "ct6HPVV2TCei"
      },
      "execution_count": 11,
      "outputs": []
    },
    {
      "cell_type": "code",
      "source": [
        "cdArea = get_cdAreas_prefecture()\n",
        "print(cdArea)"
      ],
      "metadata": {
        "id": "VO1thTIwT5r_",
        "outputId": "4cb5ff34-2075-43b2-9557-2db08875cc0e",
        "colab": {
          "base_uri": "https://localhost:8080/"
        }
      },
      "execution_count": 12,
      "outputs": [
        {
          "output_type": "stream",
          "name": "stdout",
          "text": [
            "[{'cdArea': '00001,00002,00003,00004,00005,00006,00007,00008,00009,00010,00011,00012,00013,00014,00015,00016,00017,00018,00019,00020,00021,00022,00023,00024,00025,00026,00027,00028,00029,00030,00031,00032,00033,00034,00035,00036,00037,00038,00039,00040,00041,00042,00043,00044,00045,00046,00047'}]\n"
          ]
        }
      ]
    },
    {
      "cell_type": "markdown",
      "source": [
        "## 市区町村コードリスト"
      ],
      "metadata": {
        "id": "OAIsB4p6Vh2_"
      }
    },
    {
      "cell_type": "markdown",
      "source": [
        "resas-APIから市区町村一覧を取得する"
      ],
      "metadata": {
        "id": "7XU5ZUmCVvNV"
      }
    },
    {
      "cell_type": "code",
      "execution_count": 13,
      "metadata": {
        "id": "KoBkIBJMN6KO"
      },
      "outputs": [],
      "source": [
        "\"\"\"\n",
        "resas-APIから市区町村一覧を取得する関数\n",
        "\"\"\"\n",
        "\n",
        "def get_resas_citylist(prefCode=0,designatedCity='all'):\n",
        "  \n",
        "    # 都道府県'prefCode'を指定\n",
        "    # 0の場合は全都道府県の市区町村\n",
        "    if prefCode == 0:\n",
        "      url = 'https://opendata.resas-portal.go.jp/api/v1/cities'\n",
        "    else:\n",
        "      url = 'https://opendata.resas-portal.go.jp/api/v1/cities?prefCode={}'.format(prefCode)\n",
        "    \n",
        "    req = urllib.request.Request(url, headers={'X-API-KEY': RESAS_API_KEY})\n",
        "    with urllib.request.urlopen(req) as response:\n",
        "        res = json.loads(response.read().decode())\n",
        "\n",
        "\n",
        "    # 政令指定都市の指定　'join':政令指定都市統合　'split'：政令指定都市分割 'all'：全て\n",
        "    if designatedCity == 'join':\n",
        "      return list(filter(lambda x: x['bigCityFlag'] != '1', res['result']))\n",
        "    elif designatedCity == 'split':\n",
        "      return list(filter(lambda x: x['bigCityFlag'] != '2', res['result']))\n",
        "    else:\n",
        "      return res['result']"
      ]
    },
    {
      "cell_type": "markdown",
      "source": [
        "estat-APIのリクエストパラメータ'cdArea'に市区町村コードをセットする\n",
        "\n",
        "返却値はリスト"
      ],
      "metadata": {
        "id": "tTRiQwosY-tO"
      }
    },
    {
      "cell_type": "code",
      "source": [
        "\"\"\"\n",
        "estat-APIのパラメータ'cdArea'に市区町村コードをセットする関数\n",
        "\"\"\"\n",
        "\n",
        "def get_cdAreas_city(prefCode=0):\n",
        "\n",
        "  res=[]\n",
        "\n",
        "  citylist = get_resas_citylist(prefCode=prefCode,designatedCity='all')\n",
        "  city_codes = [d.get('cityCode') for d in citylist]\n",
        "\n",
        "  # 市区町村が100以上ある場合\n",
        "  if len(city_codes) >= 100 :\n",
        "    for i in range(0, len(city_codes), 100):\n",
        "      dic = {'cdArea':\",\".join(city_codes[i: i+100])}\n",
        "      res.append(dic)\n",
        "\n",
        "  # 市区町村が100未満の場合\n",
        "  else:\n",
        "    dic = {'cdArea':\",\".join(city_codes)}\n",
        "    res.append(dic)\n",
        "\n",
        "  return res"
      ],
      "metadata": {
        "id": "ci71eeJAYw3J"
      },
      "execution_count": 14,
      "outputs": []
    },
    {
      "cell_type": "code",
      "source": [
        "cdArea = get_cdAreas_city()\n",
        "print(cdArea)\n",
        "print('要素数：' + str(len(cdArea)))"
      ],
      "metadata": {
        "id": "JBmaVaZAZXXF",
        "outputId": "22fd38e8-3b25-4978-b7a1-812f5bec367d",
        "colab": {
          "base_uri": "https://localhost:8080/"
        }
      },
      "execution_count": 15,
      "outputs": [
        {
          "output_type": "stream",
          "name": "stdout",
          "text": [
            "[{'cdArea': '01100,01101,01102,01103,01104,01105,01106,01107,01108,01109,01110,01202,01203,01204,01205,01206,01207,01208,01209,01210,01211,01212,01213,01214,01215,01216,01217,01218,01219,01220,01221,01222,01223,01224,01225,01226,01227,01228,01229,01230,01231,01233,01234,01235,01236,01303,01304,01331,01332,01333,01334,01337,01343,01345,01346,01347,01361,01362,01363,01364,01367,01370,01371,01391,01392,01393,01394,01395,01396,01397,01398,01399,01400,01401,01402,01403,01404,01405,01406,01407,01408,01409,01423,01424,01425,01427,01428,01429,01430,01431,01432,01433,01434,01436,01437,01438,01452,01453,01454,01455'}, {'cdArea': '01456,01457,01458,01459,01460,01461,01462,01463,01464,01465,01468,01469,01470,01471,01472,01481,01482,01483,01484,01485,01486,01487,01511,01512,01513,01514,01516,01517,01518,01519,01520,01543,01544,01545,01546,01547,01549,01550,01552,01555,01559,01560,01561,01562,01563,01564,01571,01575,01578,01581,01584,01585,01586,01601,01602,01604,01607,01608,01609,01610,01631,01632,01633,01634,01635,01636,01637,01638,01639,01641,01642,01643,01644,01645,01646,01647,01648,01649,01661,01662,01663,01664,01665,01667,01668,01691,01692,01693,01694,01695,01696,01697,01698,01699,01700,02201,02202,02203,02204,02205'}, {'cdArea': '02206,02207,02208,02209,02210,02301,02303,02304,02307,02321,02323,02343,02361,02362,02367,02381,02384,02387,02401,02402,02405,02406,02408,02411,02412,02423,02424,02425,02426,02441,02442,02443,02445,02446,02450,03201,03202,03203,03205,03206,03207,03208,03209,03210,03211,03213,03214,03215,03216,03301,03302,03303,03321,03322,03366,03381,03402,03441,03461,03482,03483,03484,03485,03501,03503,03506,03507,03524,04100,04101,04102,04103,04104,04105,04202,04203,04205,04206,04207,04208,04209,04211,04212,04213,04214,04215,04216,04301,04302,04321,04322,04323,04324,04341,04361,04362,04401,04404,04406,04421'}, {'cdArea': '04422,04424,04444,04445,04501,04505,04581,04606,05201,05202,05203,05204,05206,05207,05209,05210,05211,05212,05213,05214,05215,05303,05327,05346,05348,05349,05361,05363,05366,05368,05434,05463,05464,06201,06202,06203,06204,06205,06206,06207,06208,06209,06210,06211,06212,06213,06301,06302,06321,06322,06323,06324,06341,06361,06362,06363,06364,06365,06366,06367,06381,06382,06401,06402,06403,06426,06428,06461,07201,07202,07203,07204,07205,07207,07208,07209,07210,07211,07212,07213,07214,07301,07303,07308,07322,07342,07344,07362,07364,07367,07368,07402,07405,07407,07408,07421,07422,07423,07444,07445'}, {'cdArea': '07446,07447,07461,07464,07465,07466,07481,07482,07483,07484,07501,07502,07503,07504,07505,07521,07522,07541,07542,07543,07544,07545,07546,07547,07548,07561,07564,08201,08202,08203,08204,08205,08207,08208,08210,08211,08212,08214,08215,08216,08217,08219,08220,08221,08222,08223,08224,08225,08226,08227,08228,08229,08230,08231,08232,08233,08234,08235,08236,08302,08309,08310,08341,08364,08442,08443,08447,08521,08542,08546,08564,09201,09202,09203,09204,09205,09206,09208,09209,09210,09211,09213,09214,09215,09216,09301,09342,09343,09344,09345,09361,09364,09384,09386,09407,09411,10201,10202,10203,10204'}, {'cdArea': '10205,10206,10207,10208,10209,10210,10211,10212,10344,10345,10366,10367,10382,10383,10384,10421,10424,10425,10426,10428,10429,10443,10444,10448,10449,10464,10521,10522,10523,10524,10525,11100,11101,11102,11103,11104,11105,11106,11107,11108,11109,11110,11201,11202,11203,11206,11207,11208,11209,11210,11211,11212,11214,11215,11216,11217,11218,11219,11221,11222,11223,11224,11225,11227,11228,11229,11230,11231,11232,11233,11234,11235,11237,11238,11239,11240,11241,11242,11243,11245,11246,11301,11324,11326,11327,11341,11342,11343,11346,11347,11348,11349,11361,11362,11363,11365,11369,11381,11383,11385'}, {'cdArea': '11408,11442,11464,11465,12100,12101,12102,12103,12104,12105,12106,12202,12203,12204,12205,12206,12207,12208,12210,12211,12212,12213,12215,12216,12217,12218,12219,12220,12221,12222,12223,12224,12225,12226,12227,12228,12229,12230,12231,12232,12233,12234,12235,12236,12237,12238,12239,12322,12329,12342,12347,12349,12403,12409,12410,12421,12422,12423,12424,12426,12427,12441,12443,12463,13101,13102,13103,13104,13105,13106,13107,13108,13109,13110,13111,13112,13113,13114,13115,13116,13117,13118,13119,13120,13121,13122,13123,13201,13202,13203,13204,13205,13206,13207,13208,13209,13210,13211,13212,13213'}, {'cdArea': '13214,13215,13218,13219,13220,13221,13222,13223,13224,13225,13227,13228,13229,13303,13305,13307,13308,13361,13362,13363,13364,13381,13382,13401,13402,13421,14100,14101,14102,14103,14104,14105,14106,14107,14108,14109,14110,14111,14112,14113,14114,14115,14116,14117,14118,14130,14131,14132,14133,14134,14135,14136,14137,14150,14151,14152,14153,14201,14203,14204,14205,14206,14207,14208,14210,14211,14212,14213,14214,14215,14216,14217,14218,14301,14321,14341,14342,14361,14362,14363,14364,14366,14382,14383,14384,14401,14402,15100,15101,15102,15103,15104,15105,15106,15107,15108,15202,15204,15205,15206'}, {'cdArea': '15208,15209,15210,15211,15212,15213,15216,15217,15218,15222,15223,15224,15225,15226,15227,15307,15342,15361,15385,15405,15461,15482,15504,15581,15586,16201,16202,16204,16205,16206,16207,16208,16209,16210,16211,16321,16322,16323,16342,16343,17201,17202,17203,17204,17205,17206,17207,17209,17210,17211,17212,17324,17361,17365,17384,17386,17407,17461,17463,18201,18202,18204,18205,18206,18207,18208,18209,18210,18322,18382,18404,18423,18442,18481,18483,18501,19201,19202,19204,19205,19206,19207,19208,19209,19210,19211,19212,19213,19214,19346,19364,19365,19366,19368,19384,19422,19423,19424,19425,19429'}, {'cdArea': '19430,19442,19443,20201,20202,20203,20204,20205,20206,20207,20208,20209,20210,20211,20212,20213,20214,20215,20217,20218,20219,20220,20303,20304,20305,20306,20307,20309,20321,20323,20324,20349,20350,20361,20362,20363,20382,20383,20384,20385,20386,20388,20402,20403,20404,20407,20409,20410,20411,20412,20413,20414,20415,20416,20417,20422,20423,20425,20429,20430,20432,20446,20448,20450,20451,20452,20481,20482,20485,20486,20521,20541,20543,20561,20562,20563,20583,20588,20590,20602,21201,21202,21203,21204,21205,21206,21207,21208,21209,21210,21211,21212,21213,21214,21215,21216,21217,21218,21219,21220'}, {'cdArea': '21221,21302,21303,21341,21361,21362,21381,21382,21383,21401,21403,21404,21421,21501,21502,21503,21504,21505,21506,21507,21521,21604,22100,22101,22102,22103,22130,22131,22132,22133,22134,22135,22136,22137,22203,22205,22206,22207,22208,22209,22210,22211,22212,22213,22214,22215,22216,22219,22220,22221,22222,22223,22224,22225,22226,22301,22302,22304,22305,22306,22325,22341,22342,22344,22424,22429,22461,23100,23101,23102,23103,23104,23105,23106,23107,23108,23109,23110,23111,23112,23113,23114,23115,23116,23201,23202,23203,23204,23205,23206,23207,23208,23209,23210,23211,23212,23213,23214,23215,23216'}, {'cdArea': '23217,23219,23220,23221,23222,23223,23224,23225,23226,23227,23228,23229,23230,23231,23232,23233,23234,23235,23236,23237,23238,23302,23342,23361,23362,23424,23425,23427,23441,23442,23445,23446,23447,23501,23561,23562,23563,24201,24202,24203,24204,24205,24207,24208,24209,24210,24211,24212,24214,24215,24216,24303,24324,24341,24343,24344,24441,24442,24443,24461,24470,24471,24472,24543,24561,24562,25201,25202,25203,25204,25206,25207,25208,25209,25210,25211,25212,25213,25214,25383,25384,25425,25441,25442,25443,26100,26101,26102,26103,26104,26105,26106,26107,26108,26109,26110,26111,26201,26202,26203'}, {'cdArea': '26204,26205,26206,26207,26208,26209,26210,26211,26212,26213,26214,26303,26322,26343,26344,26364,26365,26366,26367,26407,26463,26465,27100,27102,27103,27104,27106,27107,27108,27109,27111,27113,27114,27115,27116,27117,27118,27119,27120,27121,27122,27123,27124,27125,27126,27127,27128,27140,27141,27142,27143,27144,27145,27146,27147,27202,27203,27204,27205,27206,27207,27208,27209,27210,27211,27212,27213,27214,27215,27216,27217,27218,27219,27220,27221,27222,27223,27224,27225,27226,27227,27228,27229,27230,27231,27232,27301,27321,27322,27341,27361,27362,27366,27381,27382,27383,28100,28101,28102,28105'}, {'cdArea': '28106,28107,28108,28109,28110,28111,28201,28202,28203,28204,28205,28206,28207,28208,28209,28210,28212,28213,28214,28215,28216,28217,28218,28219,28220,28221,28222,28223,28224,28225,28226,28227,28228,28229,28301,28365,28381,28382,28442,28443,28446,28464,28481,28501,28585,28586,29201,29202,29203,29204,29205,29206,29207,29208,29209,29210,29211,29212,29322,29342,29343,29344,29345,29361,29362,29363,29385,29386,29401,29402,29424,29425,29426,29427,29441,29442,29443,29444,29446,29447,29449,29450,29451,29452,29453,30201,30202,30203,30204,30205,30206,30207,30208,30209,30304,30341,30343,30344,30361,30362'}, {'cdArea': '30366,30381,30382,30383,30390,30391,30392,30401,30404,30406,30421,30422,30424,30427,30428,31201,31202,31203,31204,31302,31325,31328,31329,31364,31370,31371,31372,31384,31386,31389,31390,31401,31402,31403,32201,32202,32203,32204,32205,32206,32207,32209,32343,32386,32441,32448,32449,32501,32505,32525,32526,32527,32528,33100,33101,33102,33103,33104,33202,33203,33204,33205,33207,33208,33209,33210,33211,33212,33213,33214,33215,33216,33346,33423,33445,33461,33586,33606,33622,33623,33643,33663,33666,33681,34100,34101,34102,34103,34104,34105,34106,34107,34108,34202,34203,34204,34205,34207,34208,34209'}, {'cdArea': '34210,34211,34212,34213,34214,34215,34302,34304,34307,34309,34368,34369,34431,34462,34545,35201,35202,35203,35204,35206,35207,35208,35210,35211,35212,35213,35215,35216,35305,35321,35341,35343,35344,35502,36201,36202,36203,36204,36205,36206,36207,36208,36301,36302,36321,36341,36342,36368,36383,36387,36388,36401,36402,36403,36404,36405,36468,36489,37201,37202,37203,37204,37205,37206,37207,37208,37322,37324,37341,37364,37386,37387,37403,37404,37406,38201,38202,38203,38204,38205,38206,38207,38210,38213,38214,38215,38356,38386,38401,38402,38422,38442,38484,38488,38506,39201,39202,39203,39204,39205'}, {'cdArea': '39206,39208,39209,39210,39211,39212,39301,39302,39303,39304,39305,39306,39307,39341,39344,39363,39364,39386,39387,39401,39402,39403,39405,39410,39411,39412,39424,39427,39428,40100,40101,40103,40105,40106,40107,40108,40109,40130,40131,40132,40133,40134,40135,40136,40137,40202,40203,40204,40205,40206,40207,40210,40211,40212,40213,40214,40215,40216,40217,40218,40219,40220,40221,40223,40224,40225,40226,40227,40228,40229,40230,40231,40341,40342,40343,40344,40345,40348,40349,40381,40382,40383,40384,40401,40402,40421,40447,40448,40503,40522,40544,40601,40602,40604,40605,40608,40609,40610,40621,40625'}, {'cdArea': '40642,40646,40647,41201,41202,41203,41204,41205,41206,41207,41208,41209,41210,41327,41341,41345,41346,41387,41401,41423,41424,41425,41441,42201,42202,42203,42204,42205,42207,42208,42209,42210,42211,42212,42213,42214,42307,42308,42321,42322,42323,42383,42391,42411,43100,43101,43102,43103,43104,43105,43202,43203,43204,43205,43206,43208,43210,43211,43212,43213,43214,43215,43216,43348,43364,43367,43368,43369,43403,43404,43423,43424,43425,43428,43432,43433,43441,43442,43443,43444,43447,43468,43482,43484,43501,43505,43506,43507,43510,43511,43512,43513,43514,43531,44201,44202,44203,44204,44205,44206'}, {'cdArea': '44207,44208,44209,44210,44211,44212,44213,44214,44322,44341,44461,44462,45201,45202,45203,45204,45205,45206,45207,45208,45209,45341,45361,45382,45383,45401,45402,45403,45404,45405,45406,45421,45429,45430,45431,45441,45442,45443,46201,46203,46204,46206,46208,46210,46213,46214,46215,46216,46217,46218,46219,46220,46221,46222,46223,46224,46225,46303,46304,46392,46404,46452,46468,46482,46490,46491,46492,46501,46502,46505,46523,46524,46525,46527,46529,46530,46531,46532,46533,46534,46535,47201,47205,47207,47208,47209,47210,47211,47212,47213,47214,47215,47301,47302,47303,47306,47308,47311,47313,47314'}, {'cdArea': '47315,47324,47325,47326,47327,47328,47329,47348,47350,47353,47354,47355,47356,47357,47358,47359,47360,47361,47362,47375,47381,47382'}]\n",
            "要素数：20\n"
          ]
        }
      ]
    },
    {
      "cell_type": "markdown",
      "metadata": {
        "id": "fHfHKgAXbC_a"
      },
      "source": [
        "## BigQueryに保存"
      ]
    },
    {
      "cell_type": "markdown",
      "source": [
        "DataFrameを整形する関数"
      ],
      "metadata": {
        "id": "r4uA0dWVTwyo"
      }
    },
    {
      "cell_type": "code",
      "source": [
        "ESTAT_APPID = '724e5b90772a3e9289f41a253e4e7e32438f4fff'\n",
        "\n",
        "import urllib.parse\n",
        "import urllib.request\n",
        "import json\n",
        "import pandas as pd\n",
        "\n",
        "\"\"\"\n",
        "estat-APIのレスポンスを整形してDataFrameに変換\n",
        "\"\"\"\n",
        "\n",
        "def get_estat_dataframe(params):\n",
        "  res = get_estat_response(params)\n",
        "  df_res = conv_estat_response_to_dataframe(res)\n",
        "  df_res = format_estat_dataframe(df_res)\n",
        "\n",
        "  return df_res\n",
        "\n",
        "\"\"\"\n",
        "estat-APIのレスポンスを取得する関数\n",
        "\"\"\"\n",
        "\n",
        "def get_estat_response(params):\n",
        "  p = params.copy()\n",
        "\n",
        "  # appId\n",
        "  p['appId'] = ESTAT_APPID\n",
        "  \n",
        "  # url生成\n",
        "  url = 'http://api.e-stat.go.jp/rest/2.1/app/json/getStatsData?'\n",
        "  url += urllib.parse.urlencode(p)\n",
        "\n",
        "  with urllib.request.urlopen(url) as response:\n",
        "    return json.loads(response.read().decode('utf-8'))\n",
        "\n",
        "\n",
        "\"\"\"\n",
        "estat-APIのレスポンスをDataFrameに変換する\n",
        "\"\"\"\n",
        "\n",
        "def conv_estat_response_to_dataframe(response):\n",
        "\n",
        "  # VALUEをDataFrameに変換\n",
        "  VALUE = response['GET_STATS_DATA']['STATISTICAL_DATA']['DATA_INF']['VALUE']\n",
        "  df = pd.json_normalize(VALUE)\n",
        "\n",
        "  # CLASS_OBJのDataFrameを結合\n",
        "  CLASS_OBJ = response['GET_STATS_DATA']['STATISTICAL_DATA']['CLASS_INF']['CLASS_OBJ']\n",
        "  for d in CLASS_OBJ :\n",
        "    # DataFrameに変換 '@code','@name'だけ抽出\n",
        "    df_class = pd.json_normalize(d['CLASS']) \n",
        "    df_class = df_class.copy()[['@code','@name']]\n",
        "\n",
        "    # @codeをキー名に変更 @nameをキー名＋'_name'に変更\n",
        "    key_name = '@{}'.format(d['@id'])\n",
        "    df_class = df_class.rename(columns={'@code':key_name,'@name': key_name+'_name'})\n",
        "\n",
        "    # DataFrameを結合\n",
        "    df = pd.merge(df, df_class, on=key_name, how='outer')\n",
        "\n",
        "  # 統計情報を追加\n",
        "  TABLE_INF = response['GET_STATS_DATA']['STATISTICAL_DATA']['TABLE_INF']\n",
        "  df['statsDataId'] = TABLE_INF['@id']\n",
        "  df['statsDataName'] = TABLE_INF['STAT_NAME']['$']\n",
        "  \n",
        "  return df\n",
        "\n",
        "\"\"\"\n",
        "DataFrameを整形する\n",
        "\"\"\"\n",
        "\n",
        "def  format_estat_dataframe(df_arg):\n",
        "\n",
        "  # 列を抽出して名前変更\n",
        "  df =  df_arg[['statsDataId','statsDataName','@cat01','@cat01_name','@time','@time_name','@area','$','@unit']]\n",
        "  df = df.rename(columns = {'@cat01':'categoryCode','@cat01_name':'categoryName','@time':'timeCode','@time_name':'timeName','@area':'areaCode','$':'value','@unit':'unit'})\n",
        "\n",
        "  # 欠損データ削除\n",
        "  df = df.dropna(subset=['categoryCode'])\n",
        "\n",
        "  # categoryNameから不要な情報（categoryCode）を削除\n",
        "  df['categoryName'] = df.apply(lambda x: x['categoryName'].replace(x['categoryCode']+'_', ''), 1)\n",
        "\n",
        "  # timeCodeを文字列4桁に置換\n",
        "  df['timeCode'] = df['timeCode'].astype(str)\n",
        "  df['timeCode'] = df.apply(lambda x: x['timeCode'][:4], 1)\n",
        "  \n",
        "  # 地域情報をマージ\n",
        "  with open('drive/MyDrive/statistics-hyogo/resas/arealist.json') as j:\n",
        "    arealist = json.load(j)\n",
        "    df_arealist = pd.json_normalize(arealist)  \n",
        "  df = pd.merge(df, df_arealist, on='areaCode', how='right')\n",
        "\n",
        "\n",
        "  df = df.dropna(subset=['categoryCode'])\n",
        "\n",
        "  # '-'を'0'に置換\n",
        "  df = df.replace({'value': {'-': '0'}})\n",
        "  df = df.replace({'value': {'X': '0'}})\n",
        "\n",
        "  return df"
      ],
      "metadata": {
        "id": "aRItwwQ41twT"
      },
      "execution_count": 17,
      "outputs": []
    },
    {
      "cell_type": "code",
      "source": [
        "!pip install pandas-gbq"
      ],
      "metadata": {
        "id": "Iw8hXRPoaqcn"
      },
      "execution_count": null,
      "outputs": []
    },
    {
      "cell_type": "markdown",
      "source": [
        "# データ作成"
      ],
      "metadata": {
        "id": "2z261ckFEZ8V"
      }
    },
    {
      "cell_type": "markdown",
      "source": [
        "BigQueryのテーブルをDataFrameに格納"
      ],
      "metadata": {
        "id": "dCT6GY-oG8b_"
      }
    },
    {
      "cell_type": "code",
      "source": [
        "import pandas as pd\n",
        "\n",
        "def get_gbq(table_id):\n",
        "  project_id='primal-buttress-342908'\n",
        "  dataset_id = 'contents'  \n",
        "  query = f'SELECT * FROM `{project_id}.{dataset_id}.{table_id}`'\n",
        "  \n",
        "  return pd.read_gbq(query, project_id, dialect='standard')"
      ],
      "metadata": {
        "id": "f-y7-xPaFmHx"
      },
      "execution_count": 10,
      "outputs": []
    },
    {
      "cell_type": "markdown",
      "source": [
        "ランキングの付与"
      ],
      "metadata": {
        "id": "p6PY3OlJHGMM"
      }
    },
    {
      "cell_type": "code",
      "source": [
        "\"\"\"\n",
        "都道府県のランキングを付与する関数\n",
        "\"\"\"\n",
        "def withrank_prefecture(df_arg):\n",
        "\n",
        "  # 年度リスト、カテゴリリストの作成\n",
        "  times = list(set(df_arg['timeCode'].tolist()))\n",
        "  categories = list(set(df_arg['categoryCode'].tolist()))\n",
        "\n",
        "  # 返却するDataFrameの定義\n",
        "  df_res = pd.DataFrame(index=[], columns=[])\n",
        "\n",
        "  for time in times:\n",
        "    for category in categories:\n",
        "      df = df_arg.copy()\n",
        "      df = df[df['timeCode'] == time][df['categoryCode'] == category]\n",
        "      \n",
        "      # valueを数値に変換して、'rank'を付与\n",
        "      df = df.astype({'value': float})\n",
        "      df['rankJapan'] = df.rank(ascending=False)['value'].astype(int).astype(str)\n",
        "      \n",
        "      # 結合\n",
        "      df_res = pd.concat([df_res, df])\n",
        "  \n",
        "  return df_res"
      ],
      "metadata": {
        "id": "yIu9Z7ezHuTH"
      },
      "execution_count": 11,
      "outputs": []
    },
    {
      "cell_type": "code",
      "source": [
        "table_id = 'total-population-prefecture'\n",
        "df = get_gbq(table_id)\n",
        "df_rank = withrank_prefecture(df)\n",
        "df_rank"
      ],
      "metadata": {
        "id": "DiBAM7h4ININ"
      },
      "execution_count": null,
      "outputs": []
    },
    {
      "cell_type": "code",
      "source": [
        "\"\"\"\n",
        "市区町村のランキングを付与する関数\n",
        "\"\"\"\n",
        "def withrank_city(df_arg):\n",
        "  print(f'基のDataDrameは{len(df_arg)}行')\n",
        "\n",
        "  # 年度リスト、カテゴリリストの作成\n",
        "  times = list(set(df_arg['timeCode'].tolist()))\n",
        "  categories = list(set(df_arg['categoryCode'].tolist()))\n",
        "  prefs = list(set(df_arg['prefCode'].tolist()))\n",
        "  print(prefs)\n",
        "\n",
        "  # ランキングDataFrameを作成\n",
        "  df_rank = pd.DataFrame(index=[], columns=[])\n",
        "  for time in times:\n",
        "    for category in categories:\n",
        "\n",
        "      # DataFrameの抽出\n",
        "      df = df_arg.copy()\n",
        "      df = df[df['timeCode'] == time][df['categoryCode'] == category]\n",
        "      df = df[df['bigCityFlag'] != '1']\n",
        "\n",
        "      # valueを数値に変換して、'rank'を付与\n",
        "      df = df.astype({'value': float})\n",
        "      df['rankJapan'] = df.rank(ascending=False)['value'].astype(int).astype(str)\n",
        "      \n",
        "      # 必要な列だけ結合\n",
        "      df = df[['timeCode','categoryCode','areaCode','rankJapan']]\n",
        "      df_rank = pd.concat([df_rank, df])\n",
        "  \n",
        "  # 基のDataFrameにマージ\n",
        "  df_res = df_arg.copy()\n",
        "  df_res = pd.merge(df_res, df_rank, on=['timeCode','categoryCode','areaCode'], how='left')\n",
        "\n",
        "\n",
        "  # ランキングDataFrameを作成\n",
        "  df_rank = pd.DataFrame(index=[], columns=[])\n",
        "  for time in times:\n",
        "    for category in categories:\n",
        "      for pref in prefs:\n",
        "        # DataFrameの抽出\n",
        "        df = df_arg.copy()\n",
        "        df = df[df['timeCode'] == time][df['categoryCode'] == category]\n",
        "        df = df[df['bigCityFlag'] != '1']\n",
        "        df = df[df['prefCode'] == pref]\n",
        "\n",
        "        # valueを数値に変換して、'rank'を付与\n",
        "        df = df.astype({'value': float})\n",
        "        df['rankPref'] = df.rank(ascending=False)['value'].astype(int).astype(str)\n",
        "      \n",
        "        # 必要な列だけ結合\n",
        "        df = df[['timeCode','categoryCode','areaCode','rankPref']]\n",
        "        df_rank = pd.concat([df_rank, df])\n",
        "\n",
        "  df_res = pd.merge(df_res, df_rank, on=['timeCode','categoryCode','areaCode'], how='left')\n",
        "  return df_res"
      ],
      "metadata": {
        "id": "enKb_tRETN8M"
      },
      "execution_count": 12,
      "outputs": []
    },
    {
      "cell_type": "code",
      "source": [
        "table_id = 'total-population-city'\n",
        "df = get_gbq(table_id)\n",
        "df_rank = withrank_city(df)\n",
        "df_rank"
      ],
      "metadata": {
        "id": "AALpbWnFUiwY"
      },
      "execution_count": null,
      "outputs": []
    },
    {
      "cell_type": "code",
      "source": [
        "from google.cloud import bigquery\n",
        "from google.cloud.exceptions import NotFound\n",
        "\n",
        "# 統計カード一覧を取得\n",
        "with open('/content/drive/MyDrive/statistics-hyogo/contents/statistics-cards.json') as j:\n",
        "  cardlist = json.load(j)\n",
        "\n",
        "for card in cardlist:\n",
        "\n",
        "  # BigQueryのテーブル定義\n",
        "  project_id='primal-buttress-342908'\n",
        "  dataset_id = 'contents'\n",
        "  table_id= card['cardId']\n",
        "\n",
        "  client = bigquery.Client()\n",
        "\n",
        "  try:\n",
        "    client.get_table(f'{project_id}.{dataset_id}.{table_id}')  \n",
        "    print(\"Table {} already exists.\".format(table_id))\n",
        "\n",
        "  except NotFound:\n",
        "    estatParams = card['estatParams']\n",
        "    governmentType = card['governmentType']\n",
        "    # print(governmentType)\n",
        "\n",
        "    df = get_estat_dataframe(estatParams)\n",
        "\n",
        "    if governmentType == 'prefecture':\n",
        "      df = withrank_prefecture(df)\n",
        "      print(f'{table_id}のデータを作成しています')\n",
        "      print(estatParams)\n",
        "    else:\n",
        "      df = withrank_city(df)\n",
        "    \n",
        "    df.to_gbq(f'{dataset_id}.{table_id}', project_id=project_id, if_exists=\"replace\")\n",
        "    \n",
        "    print(estatParams)\n",
        "    print(f'{table_id}を保存しました')\n",
        "\n"
      ],
      "metadata": {
        "colab": {
          "base_uri": "https://localhost:8080/"
        },
        "id": "b8maJe5ZYQ8C",
        "outputId": "408d8409-77ea-4d07-e6d7-6553c0fdd168"
      },
      "execution_count": null,
      "outputs": [
        {
          "output_type": "stream",
          "name": "stdout",
          "text": [
            "Table total-population-prefecture already exists.\n",
            "Table japanese-population-prefecture already exists.\n",
            "Table population-pyramid-prefecture already exists.\n",
            "Table median-age-prefecture already exists.\n",
            "Table population-age-prefecture  already exists.\n",
            "Table unmarried-prefecture already exists.\n",
            "Table spouse-prefecture already exists.\n",
            "Table bereavement-prefecture already exists.\n",
            "Table separated-prefecture already exists.\n",
            "Table unmarried-rate-pretecture already exists.\n",
            "Table foreigner-population-prefecture already exists.\n",
            "Table densely-populated-area-population-prefecture already exists.\n",
            "Table densely-populated-area-prefecture already exists.\n",
            "Table foreigner-prefecture already exists.\n",
            "Table foreign-resident-prefecture already exists.\n",
            "Table birth-prefecture already exists.\n",
            "Table total-fertility-rate-prefecture already exists.\n",
            "Table death-prefecture already exists.\n",
            "Table death-pyramid-prefecture already exists.\n",
            "Table age-adjusted-mortality-prefecture already exists.\n",
            "Table stillbirth-prefecture already exists.\n",
            "Table standardized-mortality-prefecture already exists.\n",
            "Table movein-prefecture already exists.\n",
            "Table moveout-prefecture already exists.\n",
            "Table Immigrant-prefecture already exists.\n",
            "Table outofthecountry-prefecture already exists.\n",
            "Table social-change-rate-prefecture already exists.\n",
            "Table outflow-inside-prefecture already exists.\n",
            "Table outflow-outside-prefecture already exists.\n",
            "Table inflow-inside-prefecture already exists.\n",
            "Table inflow-outside-prefecture already exists.\n",
            "Table daytime-population-prefecture already exists.\n",
            "Table household-prefecture already exists.\n",
            "Table nuclear-family-household-prefecture already exists.\n",
            "Table single-household-prefecture already exists.\n",
            "Table senior-household-prefecture already exists.\n",
            "Table single-mother-household-prefecture already exists.\n",
            "Table single-father-household-prefecture already exists.\n",
            "Table marriage-prefecture already exists.\n",
            "Table first-marriage-age-prefecture already exists.\n",
            "Table divorce-prefecture already exists.\n",
            "Table total-population-city already exists.\n",
            "Table japanese-population-city already exists.\n",
            "Table median-age-city already exists.\n",
            "Table population-age-city already exists.\n",
            "Table unmarried-rate-city already exists.\n",
            "Table foreigner-population-city already exists.\n",
            "Table densely-populated-area-population-city already exists.\n",
            "Table densely-populated-area-city already exists.\n",
            "Table birth-city already exists.\n",
            "Table death-city already exists.\n",
            "Table movein-city already exists.\n",
            "Table moveout-city already exists.\n",
            "Table outflow-outside-city already exists.\n",
            "Table inflow-inside-city already exists.\n",
            "Table household-city already exists.\n",
            "Table nuclear-family-household-city already exists.\n",
            "Table single-household-city already exists.\n",
            "Table senior-household-city already exists.\n",
            "Table single-mother-household-city already exists.\n",
            "Table single-father-household-city already exists.\n",
            "Table marriage-city already exists.\n",
            "Table divorce-city already exists.\n",
            "Table total-area-prefecture already exists.\n",
            "Table habitable-area-prefecture already exists.\n",
            "Table forest-area-prefecture already exists.\n",
            "Table natural-environment-conservation-area-prefecture already exists.\n",
            "Table evaluation-total-cadastral-prefecture already exists.\n",
            "Table nature-park-area-prefecture already exists.\n",
            "Table park-prefecture already exists.\n",
            "Table national-park-prefecture already exists.\n",
            "Table temperature-prefecture already exists.\n",
            "Table sunny-days-prefecture already exists.\n",
            "Table cloudy-days-prefecture already exists.\n",
            "Table precipitation-prefecture already exists.\n",
            "Table snow-prefecture already exists.\n",
            "Table humidity-prefecture already exists.\n",
            "Table industry-class-prefecture already exists.\n",
            "Table taxable-income-prefecture already exists.\n",
            "Table taxpayer-prefecture already exists.\n",
            "Table establishments-prefecture already exists.\n",
            "Table employees-prefecture already exists.\n",
            "Table agricultural-output-prefecture already exists.\n",
            "Table farmers-prefecture already exists.\n",
            "Table farming-population-prefecture already exists.\n",
            "Table agricultural-land-prefecture already exists.\n",
            "Table agricultural-land-conversion-prefecture already exists.\n",
            "Table abandoned-cultivated-prefecture already exists.\n",
            "Table production-volume-prefecture already exists.\n",
            "Table forest-road-extension-prefecture already exists.\n",
            "Table fishery-output-prefecture already exists.\n",
            "Table catch-prefecture already exists.\n",
            "Table aquaculture-yield-prefecture already exists.\n",
            "Table prime-contractor-prefecture already exists.\n",
            "Table prime-contractor-private-prefecture already exists.\n",
            "Table prime-contractor-public-prefecture already exists.\n",
            "Table sub-contractor-prefecture already exists.\n",
            "Table construction-company-prefecture already exists.\n",
            "Table public-works-prefecture already exists.\n",
            "Table product-shipment-value-prefecture already exists.\n",
            "Table manufacturing-added-value-prefecture already exists.\n",
            "Table manufacturing-establishments-prefecture already exists.\n",
            "Table industrial-water-volume-prefecture already exists.\n",
            "Table product-sales-amount-prefecture already exists.\n",
            "Table commercial-establishments-prefecture already exists.\n",
            "Table railroad-passengers-prefecture already exists.\n",
            "Table aviation-passengers-prefecture already exists.\n",
            "Table ship-passengers-prefecture already exists.\n",
            "Table transportation-operator-prefecture already exists.\n",
            "Table consumer-price-index-prefecture already exists.\n",
            "Table standard-price-prefecture already exists.\n",
            "Table consumer-price-regional-difference-index-prefecture already exists.\n",
            "Table administrative-staff-prefecture already exists.\n",
            "Table fire-department-staff-prefecture already exists.\n",
            "Table education-department-staff-prefecture already exists.\n",
            "Table police-department-staff-prefecture already exists.\n",
            "Table members-prefecture already exists.\n",
            "Table financial-strength-index-prefecture already exists.\n",
            "Table real-balance-ratio-prefecture already exists.\n",
            "Table current-account-ratio-prefecture already exists.\n",
            "Table standard-financial-income-prefecture already exists.\n",
            "Table standard-financial-demand-prefecture already exists.\n",
            "Table real-debt-service-ratio-prefecture already exists.\n",
            "Table future-burden-ratio-prefecture already exists.\n",
            "Table kindergarten-prefecture already exists.\n",
            "Table kindergarten-teachers-prefecture already exists.\n",
            "Table kindergarten-children-prefecture already exists.\n",
            "Table primary-schools-prefecture already exists.\n",
            "Table primary-school-teachers-prefecture already exists.\n",
            "Table primary-school-students-prefecture already exists.\n",
            "Table junior-high-schools-prefecture already exists.\n",
            "Table junior-high-school-teachers-prefecture already exists.\n",
            "Table junior-high-school-students-prefecture already exists.\n",
            "Table junior-high-school-graduate-prefecture already exists.\n",
            "Table junior-high-school-education-continuance-rate already exists.\n",
            "Table high-schools-prefecture already exists.\n",
            "Table high-school-teachers-prefecture already exists.\n",
            "Table high-school-students-prefecture already exists.\n",
            "Table high-school-graduate-prefecture already exists.\n",
            "Table high-school-education-continuance-rate already exists.\n",
            "Table junior-colleges-prefecture already exists.\n",
            "Table colleges-prefecture already exists.\n",
            "Table junior-college-teachers-prefecture already exists.\n",
            "Table college-teachers-prefecture already exists.\n",
            "Table junior-college-students-prefecture already exists.\n",
            "Table college-students-prefecture already exists.\n",
            "Table junior-college-graduate-prefecture already exists.\n",
            "Table college-graduate-prefecture already exists.\n",
            "Table final-educational-attainment-population-prefecture already exists.\n",
            "Table electronic-blackboard-prefecture already exists.\n",
            "Table large-presentation-device-prefecture already exists.\n",
            "Table digital-textbook-prefecture already exists.\n",
            "Table violence-prefecture already exists.\n",
            "Table bullying-prefecture already exists.\n",
            "Table labor-force-population-prefecture already exists.\n",
            "Table unemployed-prefecture already exists.\n",
            "Table non-labor-population-prefecture already exists.\n",
            "Table co-worker-household-prefecture already exists.\n",
            "Table employees-pyramid-prefecture already exists.\n",
            "Table working-days-prefecture already exists.\n",
            "Table starting-salary-prefecture already exists.\n",
            "Table guests-prefecture already exists.\n",
            "Table foreigner-guests-prefecture already exists.\n",
            "Table garbage-discharged-prefecture already exists.\n",
            "Table waste-processed-prefecture already exists.\n",
            "Table city-planning-area-prefecture already exists.\n",
            "Table use-area-prefecture already exists.\n",
            "Table doctors-prefecture already exists.\n",
            "Table dentist-prefecture already exists.\n"
          ]
        },
        {
          "output_type": "stream",
          "name": "stderr",
          "text": [
            "/usr/local/lib/python3.7/dist-packages/ipykernel_launcher.py:16: UserWarning: Boolean Series key will be reindexed to match DataFrame index.\n",
            "  app.launch_new_instance()\n"
          ]
        },
        {
          "output_type": "stream",
          "name": "stdout",
          "text": [
            "pharmacist-prefectureのデータを作成しています\n",
            "{'statsDataId': '0000010109', 'cdCat01': 'I6300,I6310,I6311,I6312,I631210,I631211,I6320,I6330'}\n"
          ]
        },
        {
          "output_type": "stream",
          "name": "stderr",
          "text": [
            "1it [00:07,  7.37s/it]\n"
          ]
        },
        {
          "output_type": "stream",
          "name": "stdout",
          "text": [
            "{'statsDataId': '0000010109', 'cdCat01': 'I6300,I6310,I6311,I6312,I631210,I631211,I6320,I6330'}\n",
            "pharmacist-prefectureを保存しました\n",
            "nurse-prefectureのデータを作成しています\n",
            "{'statsDataId': '0000010109', 'cdCat01': 'I6400,I6401,I640110,I640111,I640112,I640120,I640130,I6402,I641110,I641111,I641112'}\n"
          ]
        },
        {
          "output_type": "stream",
          "name": "stderr",
          "text": [
            "1it [00:06,  6.48s/it]\n"
          ]
        },
        {
          "output_type": "stream",
          "name": "stdout",
          "text": [
            "{'statsDataId': '0000010109', 'cdCat01': 'I6400,I6401,I640110,I640111,I640112,I640120,I640130,I6402,I641110,I641111,I641112'}\n",
            "nurse-prefectureを保存しました\n",
            "associate-nurse-prefectureのデータを作成しています\n",
            "{'statsDataId': '0000010109', 'cdCat01': 'I6500,I6501,I650110,I650111,I650112,I650120,I650130,I6502,I651110,I651111,I651112'}\n"
          ]
        },
        {
          "output_type": "stream",
          "name": "stderr",
          "text": [
            "1it [00:06,  6.06s/it]\n"
          ]
        },
        {
          "output_type": "stream",
          "name": "stdout",
          "text": [
            "{'statsDataId': '0000010109', 'cdCat01': 'I6500,I6501,I650110,I650111,I650112,I650120,I650130,I6502,I651110,I651111,I651112'}\n",
            "associate-nurse-prefectureを保存しました\n",
            "pharmacy-prefectureのデータを作成しています\n",
            "{'statsDataId': '0000010109', 'cdCat01': 'I7102'}\n"
          ]
        },
        {
          "output_type": "stream",
          "name": "stderr",
          "text": [
            "1it [00:04,  4.96s/it]\n"
          ]
        },
        {
          "output_type": "stream",
          "name": "stdout",
          "text": [
            "{'statsDataId': '0000010109', 'cdCat01': 'I7102'}\n",
            "pharmacy-prefectureを保存しました\n",
            "welfare-facilities-elderly-prefectureのデータを作成しています\n",
            "{'statsDataId': '0000010110', 'cdCat01': 'J2301,J2304'}\n"
          ]
        },
        {
          "output_type": "stream",
          "name": "stderr",
          "text": [
            "1it [00:08,  8.66s/it]\n"
          ]
        },
        {
          "output_type": "stream",
          "name": "stdout",
          "text": [
            "{'statsDataId': '0000010110', 'cdCat01': 'J2301,J2304'}\n",
            "welfare-facilities-elderly-prefectureを保存しました\n",
            "national-medical-expenses-prefectureのデータを作成しています\n",
            "{'statsDataId': '0000010110', 'cdCat01': 'J4001,J4002,J4003,J4005,J4006'}\n"
          ]
        },
        {
          "output_type": "stream",
          "name": "stderr",
          "text": [
            "1it [00:05,  5.44s/it]\n"
          ]
        },
        {
          "output_type": "stream",
          "name": "stdout",
          "text": [
            "{'statsDataId': '0000010110', 'cdCat01': 'J4001,J4002,J4003,J4005,J4006'}\n",
            "national-medical-expenses-prefectureを保存しました\n",
            "national-health-insurance-prefectureのデータを作成しています\n",
            "{'statsDataId': '0000010110', 'cdCat01': 'J4101,J4106,J4107'}\n"
          ]
        },
        {
          "output_type": "stream",
          "name": "stderr",
          "text": [
            "1it [00:05,  5.76s/it]\n"
          ]
        },
        {
          "output_type": "stream",
          "name": "stdout",
          "text": [
            "{'statsDataId': '0000010110', 'cdCat01': 'J4101,J4106,J4107'}\n",
            "national-health-insurance-prefectureを保存しました\n",
            "national-health-insurance-benefit-amount-prefectureのデータを作成しています\n",
            "{'statsDataId': '0000010110', 'cdCat01': 'J4102,J4108'}\n"
          ]
        },
        {
          "output_type": "stream",
          "name": "stderr",
          "text": [
            "1it [00:07,  7.37s/it]\n"
          ]
        },
        {
          "output_type": "stream",
          "name": "stdout",
          "text": [
            "{'statsDataId': '0000010110', 'cdCat01': 'J4102,J4108'}\n",
            "national-health-insurance-benefit-amount-prefectureを保存しました\n",
            "fire-damage-amount-prefectureのデータを作成しています\n",
            "{'statsDataId': '0000010111', 'cdCat01': 'K2105'}\n"
          ]
        },
        {
          "output_type": "stream",
          "name": "stderr",
          "text": [
            "1it [00:05,  5.20s/it]\n"
          ]
        },
        {
          "output_type": "stream",
          "name": "stdout",
          "text": [
            "{'statsDataId': '0000010111', 'cdCat01': 'K2105'}\n",
            "fire-damage-amount-prefectureを保存しました\n",
            "fire-casualties-prefectureのデータを作成しています\n",
            "{'statsDataId': '0000010111', 'cdCat01': 'K2109,K2110,K2111'}\n"
          ]
        },
        {
          "output_type": "stream",
          "name": "stderr",
          "text": [
            "1it [00:05,  5.59s/it]\n"
          ]
        },
        {
          "output_type": "stream",
          "name": "stdout",
          "text": [
            "{'statsDataId': '0000010111', 'cdCat01': 'K2109,K2110,K2111'}\n",
            "fire-casualties-prefectureを保存しました\n",
            "incident-prefectureのデータを作成しています\n",
            "{'statsDataId': '0000010111', 'cdCat01': 'K3101,K3104,K4402,K4403,K4404'}\n"
          ]
        },
        {
          "output_type": "stream",
          "name": "stderr",
          "text": [
            "1it [00:06,  6.25s/it]\n"
          ]
        },
        {
          "output_type": "stream",
          "name": "stdout",
          "text": [
            "{'statsDataId': '0000010111', 'cdCat01': 'K3101,K3104,K4402,K4403,K4404'}\n",
            "incident-prefectureを保存しました\n",
            "traffic-accident-casualties-prefectureのデータを作成しています\n",
            "{'statsDataId': '0000010111', 'cdCat01': 'K3102,K310201,K310202,K310203,K3103'}\n"
          ]
        },
        {
          "output_type": "stream",
          "name": "stderr",
          "text": [
            "1it [00:06,  6.03s/it]\n"
          ]
        },
        {
          "output_type": "stream",
          "name": "stdout",
          "text": [
            "{'statsDataId': '0000010111', 'cdCat01': 'K3102,K310201,K310202,K310203,K3103'}\n",
            "traffic-accident-casualties-prefectureを保存しました\n",
            "road-traffic-law-prefectureのデータを作成しています\n",
            "{'statsDataId': '0000010111', 'cdCat01': 'K4401'}\n"
          ]
        },
        {
          "output_type": "stream",
          "name": "stderr",
          "text": [
            "1it [00:05,  5.47s/it]\n"
          ]
        },
        {
          "output_type": "stream",
          "name": "stdout",
          "text": [
            "{'statsDataId': '0000010111', 'cdCat01': 'K4401'}\n",
            "road-traffic-law-prefectureを保存しました\n",
            "pollution-complaints-prefectureのデータを作成しています\n",
            "{'statsDataId': '0000010111', 'cdCat01': 'K6103,K610301,K610302,K610303,K610304,K610305,K610306,K610307'}\n"
          ]
        },
        {
          "output_type": "stream",
          "name": "stderr",
          "text": [
            "1it [00:08,  8.53s/it]\n"
          ]
        },
        {
          "output_type": "stream",
          "name": "stdout",
          "text": [
            "{'statsDataId': '0000010111', 'cdCat01': 'K6103,K610301,K610302,K610303,K610304,K610305,K610306,K610307'}\n",
            "pollution-complaints-prefectureを保存しました\n",
            "calculated-greenhouse-gas-emissions-prefectureのデータを作成しています\n",
            "{'statsDataId': '0000010111', 'cdCat01': 'K6107,K6108'}\n"
          ]
        },
        {
          "output_type": "stream",
          "name": "stderr",
          "text": [
            "1it [00:05,  5.10s/it]\n"
          ]
        },
        {
          "output_type": "stream",
          "name": "stdout",
          "text": [
            "{'statsDataId': '0000010111', 'cdCat01': 'K6107,K6108'}\n",
            "calculated-greenhouse-gas-emissions-prefectureを保存しました\n",
            "income-prefectureのデータを作成しています\n",
            "{'statsDataId': '0000010112', 'cdCat01': 'L7110,L7111,L711101,L7111011,L7111012,L7111013,L711102,L711103'}\n"
          ]
        },
        {
          "output_type": "stream",
          "name": "stderr",
          "text": [
            "1it [00:05,  5.04s/it]\n"
          ]
        },
        {
          "output_type": "stream",
          "name": "stdout",
          "text": [
            "{'statsDataId': '0000010112', 'cdCat01': 'L7110,L7111,L711101,L7111011,L7111012,L7111013,L711102,L711103'}\n",
            "income-prefectureを保存しました\n",
            "disposable-income-prefectureのデータを作成しています\n",
            "{'statsDataId': '0000010112', 'cdCat01': 'L7130'}\n"
          ]
        },
        {
          "output_type": "stream",
          "name": "stderr",
          "text": [
            "1it [00:05,  5.23s/it]\n"
          ]
        },
        {
          "output_type": "stream",
          "name": "stdout",
          "text": [
            "{'statsDataId': '0000010112', 'cdCat01': 'L7130'}\n",
            "disposable-income-prefectureを保存しました\n",
            "consumption-expenditure-prefectureのデータを作成しています\n",
            "{'statsDataId': '0000010112', 'cdCat01': 'L7210,L7211,L721101,L721102,L721103,L721104,L721105,L721106,L721107,L721108,L721109,L7211091,L721110,L7212'}\n"
          ]
        },
        {
          "output_type": "stream",
          "name": "stderr",
          "text": [
            "1it [00:05,  5.41s/it]\n"
          ]
        },
        {
          "output_type": "stream",
          "name": "stdout",
          "text": [
            "{'statsDataId': '0000010112', 'cdCat01': 'L7210,L7211,L721101,L721102,L721103,L721104,L721105,L721106,L721107,L721108,L721109,L7211091,L721110,L7212'}\n",
            "consumption-expenditure-prefectureを保存しました\n",
            "financial-assets-prefectureのデータを作成しています\n",
            "{'statsDataId': '0000010112', 'cdCat01': 'L730101,L730102,L730103,L730104,L730201,L730202,L730203,L730204,L740101,L740102,L740201,L740202'}\n"
          ]
        },
        {
          "output_type": "stream",
          "name": "stderr",
          "text": [
            "1it [00:07,  7.79s/it]\n"
          ]
        },
        {
          "output_type": "stream",
          "name": "stdout",
          "text": [
            "{'statsDataId': '0000010112', 'cdCat01': 'L730101,L730102,L730103,L730104,L730201,L730202,L730203,L730204,L740101,L740102,L740201,L740202'}\n",
            "financial-assets-prefectureを保存しました\n",
            "基のDataDrameは99939行\n",
            "[1, 2, 3, 4, 5, 6, 7, 8, 9, 10, 11, 12, 13, 14, 15, 16, 17, 18, 19, 20, 21, 22, 23, 24, 25, 26, 27, 28, 29, 30, 31, 32, 33, 34, 35, 36, 37, 38, 39, 40, 41, 42, 43, 44, 45, 46, 47]\n"
          ]
        },
        {
          "output_type": "stream",
          "name": "stderr",
          "text": [
            "/usr/local/lib/python3.7/dist-packages/ipykernel_launcher.py:20: UserWarning: Boolean Series key will be reindexed to match DataFrame index.\n",
            "/usr/local/lib/python3.7/dist-packages/ipykernel_launcher.py:43: UserWarning: Boolean Series key will be reindexed to match DataFrame index.\n",
            "1it [00:13, 13.89s/it]\n"
          ]
        },
        {
          "output_type": "stream",
          "name": "stdout",
          "text": [
            "{'statsDataId': '0000020202', 'cdCat01': 'B1101,B1102'}\n",
            "total-area-cityを保存しました\n",
            "基のDataDrameは76562行\n",
            "[1, 2, 3, 4, 5, 6, 7, 8, 9, 10, 11, 12, 13, 14, 15, 16, 17, 18, 19, 20, 21, 22, 23, 24, 25, 26, 27, 28, 29, 30, 31, 32, 33, 34, 35, 36, 37, 38, 39, 40, 41, 42, 43, 44, 45, 46, 47]\n"
          ]
        },
        {
          "output_type": "stream",
          "name": "stderr",
          "text": [
            "1it [00:14, 14.95s/it]\n"
          ]
        },
        {
          "output_type": "stream",
          "name": "stdout",
          "text": [
            "{'statsDataId': '0000020202', 'cdCat01': 'B1103'}\n",
            "habitable-area-cityを保存しました\n",
            "基のDataDrameは34348行\n",
            "[1, 2, 3, 4, 5, 6, 7, 8, 9, 10, 11, 12, 13, 14, 15, 16, 17, 18, 19, 20, 21, 22, 23, 24, 25, 26, 27, 28, 29, 30, 31, 32, 33, 34, 35, 36, 37, 38, 39, 40, 41, 42, 43, 44, 45, 46, 47]\n"
          ]
        },
        {
          "output_type": "stream",
          "name": "stderr",
          "text": [
            "1it [00:11, 11.64s/it]\n"
          ]
        },
        {
          "output_type": "stream",
          "name": "stdout",
          "text": [
            "{'statsDataId': '0000020202', 'cdCat01': 'B1105,B1106,B1107'}\n",
            "forest-area-cityを保存しました\n",
            "基のDataDrameは76640行\n",
            "[1, 2, 3, 4, 5, 6, 7, 8, 9, 10, 11, 12, 13, 14, 15, 16, 17, 18, 19, 20, 21, 22, 23, 24, 25, 26, 27, 28, 29, 30, 31, 32, 33, 34, 35, 36, 37, 38, 39, 40, 41, 42, 43, 44, 45, 46, 47]\n"
          ]
        },
        {
          "output_type": "stream",
          "name": "stderr",
          "text": [
            "1it [00:13, 13.32s/it]\n"
          ]
        },
        {
          "output_type": "stream",
          "name": "stdout",
          "text": [
            "{'statsDataId': '0000020202', 'cdCat01': 'B1201,B120103'}\n",
            "evaluation-total-cadastral-cityを保存しました\n",
            "基のDataDrameは68936行\n",
            "[1, 2, 3, 4, 5, 6, 7, 8, 9, 10, 11, 12, 13, 14, 15, 16, 17, 18, 19, 20, 21, 22, 23, 24, 25, 26, 27, 28, 29, 30, 31, 32, 33, 34, 35, 36, 37, 38, 39, 40, 41, 42, 43, 44, 45, 46, 47]\n"
          ]
        },
        {
          "output_type": "stream",
          "name": "stderr",
          "text": [
            "1it [00:13, 13.29s/it]\n"
          ]
        },
        {
          "output_type": "stream",
          "name": "stdout",
          "text": [
            "{'statsDataId': '0000020203', 'cdCat01': 'C120110'}\n",
            "taxable-income-cityを保存しました\n",
            "基のDataDrameは90012行\n",
            "[1, 2, 3, 4, 5, 6, 7, 8, 9, 10, 11, 12, 13, 14, 15, 16, 17, 18, 19, 20, 21, 22, 23, 24, 25, 26, 27, 28, 29, 30, 31, 32, 33, 34, 35, 36, 37, 38, 39, 40, 41, 42, 43, 44, 45, 46, 47]\n"
          ]
        },
        {
          "output_type": "stream",
          "name": "stderr",
          "text": [
            "1it [00:14, 14.66s/it]\n"
          ]
        },
        {
          "output_type": "stream",
          "name": "stdout",
          "text": [
            "{'statsDataId': '0000020203', 'cdCat01': 'C120120,C120130'}\n",
            "taxpayer-cityを保存しました\n",
            "基のDataDrameは17244行\n",
            "[1, 2, 3, 4, 5, 6, 7, 8, 9, 10, 11, 12, 13, 14, 15, 16, 17, 18, 19, 20, 21, 22, 23, 24, 25, 26, 27, 28, 29, 30, 31, 32, 33, 34, 35, 36, 37, 38, 39, 40, 41, 42, 43, 44, 45, 46, 47]\n"
          ]
        },
        {
          "output_type": "stream",
          "name": "stderr",
          "text": [
            "1it [00:07,  7.04s/it]\n"
          ]
        },
        {
          "output_type": "stream",
          "name": "stdout",
          "text": [
            "{'statsDataId': '0000020203', 'cdCat01': 'C2107,C2110,C2111,C2112'}\n",
            "establishments-cityを保存しました\n",
            "基のDataDrameは15328行\n",
            "[1, 2, 3, 4, 5, 6, 7, 8, 9, 10, 11, 12, 13, 14, 15, 16, 17, 18, 19, 20, 21, 22, 23, 24, 25, 26, 27, 28, 29, 30, 31, 32, 33, 34, 35, 36, 37, 38, 39, 40, 41, 42, 43, 44, 45, 46, 47]\n"
          ]
        },
        {
          "output_type": "stream",
          "name": "stderr",
          "text": [
            "1it [00:07,  7.83s/it]\n"
          ]
        },
        {
          "output_type": "stream",
          "name": "stdout",
          "text": [
            "{'statsDataId': '0000020203', 'cdCat01': 'C2207,C2210,C2211,C2212,F1102,F110201,F110202,F1103,F1104,F1105,F1106'}\n",
            "employees-cityを保存しました\n",
            "基のDataDrameは51583行\n",
            "[1, 2, 3, 4, 5, 6, 7, 8, 9, 10, 11, 12, 13, 14, 15, 16, 17, 18, 19, 20, 21, 22, 23, 24, 25, 26, 27, 28, 29, 30, 31, 32, 33, 34, 35, 36, 37, 38, 39, 40, 41, 42, 43, 44, 45, 46, 47]\n"
          ]
        },
        {
          "output_type": "stream",
          "name": "stderr",
          "text": [
            "1it [00:12, 12.37s/it]\n"
          ]
        },
        {
          "output_type": "stream",
          "name": "stdout",
          "text": [
            "{'statsDataId': '0000020203', 'cdCat01': 'C3101'}\n",
            "agricultural-output-cityを保存しました\n",
            "基のDataDrameは30656行\n",
            "[1, 2, 3, 4, 5, 6, 7, 8, 9, 10, 11, 12, 13, 14, 15, 16, 17, 18, 19, 20, 21, 22, 23, 24, 25, 26, 27, 28, 29, 30, 31, 32, 33, 34, 35, 36, 37, 38, 39, 40, 41, 42, 43, 44, 45, 46, 47]\n"
          ]
        },
        {
          "output_type": "stream",
          "name": "stderr",
          "text": [
            "1it [00:13, 13.97s/it]\n"
          ]
        },
        {
          "output_type": "stream",
          "name": "stdout",
          "text": [
            "{'statsDataId': '0000020203', 'cdCat01': 'C310201,C310202,C310211,C310212'}\n",
            "farmers-cityを保存しました\n",
            "基のDataDrameは78452行\n",
            "[1, 2, 3, 4, 5, 6, 7, 8, 9, 10, 11, 12, 13, 14, 15, 16, 17, 18, 19, 20, 21, 22, 23, 24, 25, 26, 27, 28, 29, 30, 31, 32, 33, 34, 35, 36, 37, 38, 39, 40, 41, 42, 43, 44, 45, 46, 47]\n"
          ]
        },
        {
          "output_type": "stream",
          "name": "stderr",
          "text": [
            "1it [00:11, 11.79s/it]\n"
          ]
        },
        {
          "output_type": "stream",
          "name": "stdout",
          "text": [
            "{'statsDataId': '0000020203', 'cdCat01': 'C3107'}\n",
            "agricultural-land-cityを保存しました\n",
            "基のDataDrameは3832行\n",
            "[1, 2, 3, 4, 5, 6, 7, 8, 9, 10, 11, 12, 13, 14, 15, 16, 17, 18, 19, 20, 21, 22, 23, 24, 25, 26, 27, 28, 29, 30, 31, 32, 33, 34, 35, 36, 37, 38, 39, 40, 41, 42, 43, 44, 45, 46, 47]\n"
          ]
        },
        {
          "output_type": "stream",
          "name": "stderr",
          "text": [
            "1it [00:06,  6.67s/it]\n"
          ]
        },
        {
          "output_type": "stream",
          "name": "stdout",
          "text": [
            "{'statsDataId': '0000020203', 'cdCat01': 'C3109'}\n",
            "abandoned-cultivated-cityを保存しました\n",
            "基のDataDrameは76452行\n",
            "[1, 2, 3, 4, 5, 6, 7, 8, 9, 10, 11, 12, 13, 14, 15, 16, 17, 18, 19, 20, 21, 22, 23, 24, 25, 26, 27, 28, 29, 30, 31, 32, 33, 34, 35, 36, 37, 38, 39, 40, 41, 42, 43, 44, 45, 46, 47]\n"
          ]
        },
        {
          "output_type": "stream",
          "name": "stderr",
          "text": [
            "1it [00:14, 14.58s/it]\n"
          ]
        },
        {
          "output_type": "stream",
          "name": "stdout",
          "text": [
            "{'statsDataId': '0000020203', 'cdCat01': 'C3401'}\n",
            "product-shipment-value-cityを保存しました\n",
            "基のDataDrameは99944行\n",
            "[1, 2, 3, 4, 5, 6, 7, 8, 9, 10, 11, 12, 13, 14, 15, 16, 17, 18, 19, 20, 21, 22, 23, 24, 25, 26, 27, 28, 29, 30, 31, 32, 33, 34, 35, 36, 37, 38, 39, 40, 41, 42, 43, 44, 45, 46, 47]\n"
          ]
        }
      ]
    }
  ],
  "metadata": {
    "colab": {
      "collapsed_sections": [],
      "toc_visible": true,
      "provenance": []
    },
    "gpuClass": "standard",
    "kernelspec": {
      "display_name": "Python 3",
      "name": "python3"
    }
  },
  "nbformat": 4,
  "nbformat_minor": 0
}