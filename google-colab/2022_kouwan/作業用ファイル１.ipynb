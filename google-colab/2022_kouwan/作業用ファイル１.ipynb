{
  "nbformat": 4,
  "nbformat_minor": 0,
  "metadata": {
    "colab": {
      "provenance": [],
      "toc_visible": true,
      "authorship_tag": "ABX9TyN39jrHyoY9ISv1TFhac84G"
    },
    "kernelspec": {
      "name": "python3",
      "display_name": "Python 3"
    },
    "language_info": {
      "name": "python"
    }
  },
  "cells": [
    {
      "cell_type": "markdown",
      "source": [
        "# 事前準備"
      ],
      "metadata": {
        "id": "yKSTDERvCmhL"
      }
    },
    {
      "cell_type": "markdown",
      "source": [
        "## ライブラリのインストール"
      ],
      "metadata": {
        "id": "fgLnyicpCp5G"
      }
    },
    {
      "cell_type": "code",
      "source": [
        "!pip install schedule\n",
        "!pip install twitter\n",
        "!pip install tweepy==4.3.0"
      ],
      "metadata": {
        "colab": {
          "base_uri": "https://localhost:8080/"
        },
        "id": "qGK7mw8CynFI",
        "outputId": "9da070b1-83c5-4203-9217-15f552513d94"
      },
      "execution_count": 10,
      "outputs": [
        {
          "output_type": "stream",
          "name": "stdout",
          "text": [
            "Looking in indexes: https://pypi.org/simple, https://us-python.pkg.dev/colab-wheels/public/simple/\n",
            "Requirement already satisfied: schedule in /usr/local/lib/python3.7/dist-packages (1.1.0)\n",
            "Looking in indexes: https://pypi.org/simple, https://us-python.pkg.dev/colab-wheels/public/simple/\n",
            "Requirement already satisfied: twitter in /usr/local/lib/python3.7/dist-packages (1.19.6)\n",
            "Requirement already satisfied: certifi in /usr/local/lib/python3.7/dist-packages (from twitter) (2022.9.24)\n",
            "Looking in indexes: https://pypi.org/simple, https://us-python.pkg.dev/colab-wheels/public/simple/\n",
            "Requirement already satisfied: tweepy==4.3.0 in /usr/local/lib/python3.7/dist-packages (4.3.0)\n",
            "Requirement already satisfied: requests<3,>=2.11.1 in /usr/local/lib/python3.7/dist-packages (from tweepy==4.3.0) (2.23.0)\n",
            "Requirement already satisfied: requests-oauthlib<2,>=1.0.0 in /usr/local/lib/python3.7/dist-packages (from tweepy==4.3.0) (1.3.1)\n",
            "Requirement already satisfied: certifi>=2017.4.17 in /usr/local/lib/python3.7/dist-packages (from requests<3,>=2.11.1->tweepy==4.3.0) (2022.9.24)\n",
            "Requirement already satisfied: urllib3!=1.25.0,!=1.25.1,<1.26,>=1.21.1 in /usr/local/lib/python3.7/dist-packages (from requests<3,>=2.11.1->tweepy==4.3.0) (1.24.3)\n",
            "Requirement already satisfied: idna<3,>=2.5 in /usr/local/lib/python3.7/dist-packages (from requests<3,>=2.11.1->tweepy==4.3.0) (2.10)\n",
            "Requirement already satisfied: chardet<4,>=3.0.2 in /usr/local/lib/python3.7/dist-packages (from requests<3,>=2.11.1->tweepy==4.3.0) (3.0.4)\n",
            "Requirement already satisfied: oauthlib>=3.0.0 in /usr/local/lib/python3.7/dist-packages (from requests-oauthlib<2,>=1.0.0->tweepy==4.3.0) (3.2.1)\n"
          ]
        }
      ]
    },
    {
      "cell_type": "markdown",
      "source": [
        "## クライアント関数の作成"
      ],
      "metadata": {
        "id": "Ieqs6OTYC9-P"
      }
    },
    {
      "cell_type": "code",
      "source": [
        "import tweepy\n",
        "from pprint import pprint\n",
        "import schedule\n",
        "from time import sleep\n",
        "\n",
        "# API情報を記入\n",
        "BEARER_TOKEN        = 'AAAAAAAAAAAAAAAAAAAAAKUGiQEAAAAAyFtOK4uFOYrFrDbefzHlzzNCFlc%3DNgcvmkFuSRDfSHET9kmHH6y2Rkm7fEYZ5GabHEQppGePIM1EeX'\n",
        "API_KEY             = 'GC1CpcRT6AnCq9f03Y6rGZ3Hm'\n",
        "API_SECRET          = 'ZpznO3yhDW198P5px5fNiuOsGqNHy0RAex2rvYjauFmsCWRf1F'\n",
        "ACCESS_TOKEN        = '1485511207448551431-2KrMEMBIEZHBL3s19uLnrApkPomXTI'\n",
        "ACCESS_TOKEN_SECRET = 'OVwo1gBM1Oq9Dy7YmuzOxOCQxf9hlQHTqLERltlrwJM0d'\n",
        "\n",
        "\n",
        "# クライアント関数を作成\n",
        "def ClientInfo():\n",
        "    client = tweepy.Client(bearer_token    = BEARER_TOKEN,\n",
        "                           consumer_key    = API_KEY,\n",
        "                           consumer_secret = API_SECRET,\n",
        "                           access_token    = ACCESS_TOKEN,\n",
        "                           access_token_secret = ACCESS_TOKEN_SECRET,\n",
        "                          )\n",
        "    \n",
        "    return client"
      ],
      "metadata": {
        "id": "D_9WDhMYwfKg"
      },
      "execution_count": 11,
      "outputs": []
    },
    {
      "cell_type": "markdown",
      "source": [
        "# 基本操作"
      ],
      "metadata": {
        "id": "mFIZcc4YCwxH"
      }
    },
    {
      "cell_type": "markdown",
      "source": [
        "## Tweetの投稿"
      ],
      "metadata": {
        "id": "6BUfyxVGCy5z"
      }
    },
    {
      "cell_type": "code",
      "source": [
        "# ★メッセージを指定\n",
        "message = \"Hello World\"\n",
        "\n",
        "# 関数\n",
        "def CreateTweet(message):\n",
        "    tweet = ClientInfo().create_tweet(text=message)\n",
        "    return tweet\n",
        "\n",
        "# 関数実行・結果出力\n",
        "pprint(CreateTweet(message))"
      ],
      "metadata": {
        "colab": {
          "base_uri": "https://localhost:8080/"
        },
        "id": "6IbEHnhe4Pkn",
        "outputId": "6e4517c7-afbc-4af1-8b78-dcf0df21c482"
      },
      "execution_count": 9,
      "outputs": [
        {
          "output_type": "stream",
          "name": "stdout",
          "text": [
            "Response(data={'id': '1581853205083717632', 'text': 'Hello World'}, includes={}, errors=[], meta={})\n"
          ]
        }
      ]
    },
    {
      "cell_type": "markdown",
      "source": [
        "## キーワード検索"
      ],
      "metadata": {
        "id": "xiAg7aorEKhz"
      }
    },
    {
      "cell_type": "code",
      "source": [
        "QUERY = input(\"検索するキーワードを入力： \")\n",
        "#Tweetを取得する上限\n",
        "MAX_RESULTS = 10\n",
        "tweets = ClientInfo().search_recent_tweets(query = QUERY, max_results = MAX_RESULTS)\n",
        "\n",
        "tweets_data = tweets.data\n",
        "\n",
        "if tweets_data != None:\n",
        "    for i, tweet in enumerate(tweets_data):\n",
        "        print(\"No:\" + str(i+1))\n",
        "        print(\"tweet.text: \" + tweet.text)\n",
        "        print(tweet)\n",
        "        print(\"\\n\")\n",
        "else:\n",
        "    print(\"該当がありませんでした\")"
      ],
      "metadata": {
        "id": "HMXAdyKnDjkK"
      },
      "execution_count": null,
      "outputs": []
    },
    {
      "cell_type": "markdown",
      "source": [
        "## タイムライン取得"
      ],
      "metadata": {
        "id": "iqUFhHpJGMoz"
      }
    },
    {
      "cell_type": "code",
      "source": [
        "print(\"スクリーンネームを入力してください\")\n",
        "input_username = input()\n",
        "\n",
        "user = ClientInfo().get_user(username=input_username)\n",
        "user_id = user.data.id\n",
        "print(user_id)\n",
        "\n",
        "time_line = ClientInfo().get_users_tweets(id=user_id)\n",
        "time_line_data = time_line.data\n",
        "\n",
        "if time_line_data != None:\n",
        "    for i, tweet in enumerate(time_line_data):\n",
        "        print(\"<!-- No\" + str(i+1) + \" Start-->\")\n",
        "        print(tweet.text)\n",
        "        print(\"<!-- No\" + str(i+1) + \" End-->\")"
      ],
      "metadata": {
        "id": "RUsqQ3FfEcRq",
        "outputId": "3135c475-5172-4a78-c6a4-e765ac83e107",
        "colab": {
          "base_uri": "https://localhost:8080/"
        }
      },
      "execution_count": 23,
      "outputs": [
        {
          "output_type": "stream",
          "name": "stdout",
          "text": [
            "スクリーンネームを入力してください\n",
            "motohikosaitoH\n",
            "1372168525733789698\n",
            "<!-- No1 Start-->\n",
            "姫路城へ。\n",
            "晴天下、素晴らしい雄壮な姿です。\n",
            "登城するのは久しぶりでした。\n",
            "懐かしい“急な木の階段”を登っての\n",
            "天守閣🏯からの見晴らしは最高ですね。\n",
            "外国人観光客も戻りつつありました。\n",
            "→ぜひ“世界遺産姫路城”にお越しください。 https://t.co/7M28bKi0LM\n",
            "<!-- No1 End-->\n",
            "<!-- No2 Start-->\n",
            "播州姫路『灘のけんか祭り』へ。\n",
            "三年ぶりの通常催行でした。\n",
            "山腹の桟敷席に囲まれた天然の大舞台で、屋台がぶつかり合う練りの迫力に圧倒されました。\n",
            "→祭りが“地域に活気をもたらす”こと、“次世代に引き継いでいく”ことの大切さを改めて実感しました。 https://t.co/1UjPm2jgBN\n",
            "<!-- No2 End-->\n",
            "<!-- No3 Start-->\n",
            "新西宮ヨットハーバーでは、今日と明日、『関西フローティングボートショー2022』が開催中です。\n",
            "→天気も良いです。お立ち寄りください。\n",
            "\n",
            "トーク会場となった“トヨタレクサスLY650”の船上で、対談した竹長潤さん、稲葉健太さんと。 https://t.co/p07UFXaN7x\n",
            "<!-- No3 End-->\n",
            "<!-- No4 Start-->\n",
            "今朝、新西宮ヨットハーバーへ。\n",
            "スーパーヨット誘致の専門家と対談。\n",
            "スーパーヨットや大型ヨットの寄港誘致は、長期滞在型のインバウンド層を兵庫に誘引する新たな切り口、地域経済への波及力も大きい。\n",
            "→オープンで使いやすいマリーナ環境の整備と、国内外のヨットオーナーへ兵庫の魅力の発信へ。 https://t.co/Kgpq2dWbIj\n",
            "<!-- No4 End-->\n",
            "<!-- No5 Start-->\n",
            "阪神タイガース、残念ながら負けてしまいましたが、\n",
            "開幕9連敗から、CSファイナル進出まで勝ち上がり、素晴らしかったと思います。お疲れさまでした。来シーズンも期待しています。\n",
            "<!-- No5 End-->\n",
            "<!-- No6 Start-->\n",
            "今朝は神河町へ。\n",
            "神河町の『砥峰高原(とのみね)』は、\n",
            "ススキの草原が一望に見渡せる素晴らしい雰囲気です。\n",
            "燃えよ剣、軍師官兵衛など多くの映画やドラマのロケ地にも。\n",
            "→雄大なパノラマは非日常です。\n",
            "ぜひ散策にお越しください。 https://t.co/OPnnlTfccr\n",
            "<!-- No6 End-->\n",
            "<!-- No7 Start-->\n",
            "県ではヤングケアラーの相談窓口を6月に設置してます。\n",
            "食料品など物価高の影響も踏まえ、“食事が十分にとれていない”、“食事の準備で学業に専念できない”状況にある方に対して、『お弁当の配食支援モデル事業』を行います。\n",
            "→相談から、福祉サービスや地域の支援活動につないでいく仕組みづくりへ。 https://t.co/fUTVW8qlFg\n",
            "<!-- No7 End-->\n",
            "<!-- No8 Start-->\n",
            "朝を大切にする、“HYOGOアサ@プロジェクト”始動中です。\n",
            "朝の過ごし方について、昨日、兵庫高校の生徒と意見交換、今朝は地元ラジオ番組でトークしました。\n",
            "ローソンが“朝食向け商品”として神戸女子大学生と開発した『ちびにぎまる』ともコラボ。\n",
            "→朝ごはんを食べて、一日のスタートを。 https://t.co/NO7mzQ6iPh\n",
            "<!-- No8 End-->\n",
            "<!-- No9 Start-->\n",
            "ドローンでスタバ。\n",
            "神戸港ハーバーランドとポーアイ神戸学院大学を結んでスターバックスの商品デリバリーの商用実証事業を官民連携で実施。\n",
            "トールsizeラテを注文。海上を飛んで約３分で、温かいまま☕到着。\n",
            "→レベル4を見据え、災害時など離島や山間部への物資輸送などドローンの更なる展開へ。 https://t.co/qfJ75feoUk\n",
            "<!-- No9 End-->\n",
            "<!-- No10 Start-->\n",
            "経済的に苦しいなど課題を抱える妊産婦への支援の強化へ。\n",
            "出産費用やIT資格取得の支援、居場所づくりとして週末ホストファミリー制度の創設など。\n",
            "→『ふるさと寄附金』の活用&amp;公民連携プロジェクトで進めていきます。皆さまのご理解、ご支援よろしくお願いします。\n",
            "◎PT趣旨\n",
            "https://t.co/AbE6ncAXSi https://t.co/bTHK3H0FPs\n",
            "<!-- No10 End-->\n"
          ]
        }
      ]
    }
  ]
}