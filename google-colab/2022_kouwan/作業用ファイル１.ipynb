{
  "nbformat": 4,
  "nbformat_minor": 0,
  "metadata": {
    "colab": {
      "provenance": [],
      "toc_visible": true,
      "authorship_tag": "ABX9TyMizqp4odae66u18KURdNG4"
    },
    "kernelspec": {
      "name": "python3",
      "display_name": "Python 3"
    },
    "language_info": {
      "name": "python"
    }
  },
  "cells": [
    {
      "cell_type": "markdown",
      "source": [
        "# 事前準備"
      ],
      "metadata": {
        "id": "yKSTDERvCmhL"
      }
    },
    {
      "cell_type": "markdown",
      "source": [
        "## ライブラリのインストール"
      ],
      "metadata": {
        "id": "fgLnyicpCp5G"
      }
    },
    {
      "cell_type": "code",
      "source": [
        "!pip install schedule\n",
        "!pip install twitter\n",
        "!pip install tweepy==4.3.0"
      ],
      "metadata": {
        "colab": {
          "base_uri": "https://localhost:8080/"
        },
        "id": "qGK7mw8CynFI",
        "outputId": "9da070b1-83c5-4203-9217-15f552513d94"
      },
      "execution_count": 10,
      "outputs": [
        {
          "output_type": "stream",
          "name": "stdout",
          "text": [
            "Looking in indexes: https://pypi.org/simple, https://us-python.pkg.dev/colab-wheels/public/simple/\n",
            "Requirement already satisfied: schedule in /usr/local/lib/python3.7/dist-packages (1.1.0)\n",
            "Looking in indexes: https://pypi.org/simple, https://us-python.pkg.dev/colab-wheels/public/simple/\n",
            "Requirement already satisfied: twitter in /usr/local/lib/python3.7/dist-packages (1.19.6)\n",
            "Requirement already satisfied: certifi in /usr/local/lib/python3.7/dist-packages (from twitter) (2022.9.24)\n",
            "Looking in indexes: https://pypi.org/simple, https://us-python.pkg.dev/colab-wheels/public/simple/\n",
            "Requirement already satisfied: tweepy==4.3.0 in /usr/local/lib/python3.7/dist-packages (4.3.0)\n",
            "Requirement already satisfied: requests<3,>=2.11.1 in /usr/local/lib/python3.7/dist-packages (from tweepy==4.3.0) (2.23.0)\n",
            "Requirement already satisfied: requests-oauthlib<2,>=1.0.0 in /usr/local/lib/python3.7/dist-packages (from tweepy==4.3.0) (1.3.1)\n",
            "Requirement already satisfied: certifi>=2017.4.17 in /usr/local/lib/python3.7/dist-packages (from requests<3,>=2.11.1->tweepy==4.3.0) (2022.9.24)\n",
            "Requirement already satisfied: urllib3!=1.25.0,!=1.25.1,<1.26,>=1.21.1 in /usr/local/lib/python3.7/dist-packages (from requests<3,>=2.11.1->tweepy==4.3.0) (1.24.3)\n",
            "Requirement already satisfied: idna<3,>=2.5 in /usr/local/lib/python3.7/dist-packages (from requests<3,>=2.11.1->tweepy==4.3.0) (2.10)\n",
            "Requirement already satisfied: chardet<4,>=3.0.2 in /usr/local/lib/python3.7/dist-packages (from requests<3,>=2.11.1->tweepy==4.3.0) (3.0.4)\n",
            "Requirement already satisfied: oauthlib>=3.0.0 in /usr/local/lib/python3.7/dist-packages (from requests-oauthlib<2,>=1.0.0->tweepy==4.3.0) (3.2.1)\n"
          ]
        }
      ]
    },
    {
      "cell_type": "markdown",
      "source": [
        "## クライアント関数の作成"
      ],
      "metadata": {
        "id": "Ieqs6OTYC9-P"
      }
    },
    {
      "cell_type": "code",
      "source": [
        "import tweepy\n",
        "from pprint import pprint\n",
        "import schedule\n",
        "from time import sleep\n",
        "\n",
        "# API情報を記入\n",
        "BEARER_TOKEN        = 'AAAAAAAAAAAAAAAAAAAAAKUGiQEAAAAAyFtOK4uFOYrFrDbefzHlzzNCFlc%3DNgcvmkFuSRDfSHET9kmHH6y2Rkm7fEYZ5GabHEQppGePIM1EeX'\n",
        "API_KEY             = 'GC1CpcRT6AnCq9f03Y6rGZ3Hm'\n",
        "API_SECRET          = 'ZpznO3yhDW198P5px5fNiuOsGqNHy0RAex2rvYjauFmsCWRf1F'\n",
        "ACCESS_TOKEN        = '1485511207448551431-2KrMEMBIEZHBL3s19uLnrApkPomXTI'\n",
        "ACCESS_TOKEN_SECRET = 'OVwo1gBM1Oq9Dy7YmuzOxOCQxf9hlQHTqLERltlrwJM0d'\n",
        "\n",
        "\n",
        "# クライアント関数を作成\n",
        "def ClientInfo():\n",
        "    client = tweepy.Client(bearer_token    = BEARER_TOKEN,\n",
        "                           consumer_key    = API_KEY,\n",
        "                           consumer_secret = API_SECRET,\n",
        "                           access_token    = ACCESS_TOKEN,\n",
        "                           access_token_secret = ACCESS_TOKEN_SECRET,\n",
        "                          )\n",
        "    \n",
        "    return client"
      ],
      "metadata": {
        "id": "D_9WDhMYwfKg"
      },
      "execution_count": 11,
      "outputs": []
    },
    {
      "cell_type": "markdown",
      "source": [
        "# 基本操作"
      ],
      "metadata": {
        "id": "mFIZcc4YCwxH"
      }
    },
    {
      "cell_type": "markdown",
      "source": [
        "## Tweetの投稿"
      ],
      "metadata": {
        "id": "6BUfyxVGCy5z"
      }
    },
    {
      "cell_type": "code",
      "source": [
        "# ★メッセージを指定\n",
        "message = \"Hello World\"\n",
        "\n",
        "# 関数\n",
        "def CreateTweet(message):\n",
        "    tweet = ClientInfo().create_tweet(text=message)\n",
        "    return tweet\n",
        "\n",
        "# 関数実行・結果出力\n",
        "pprint(CreateTweet(message))"
      ],
      "metadata": {
        "id": "6IbEHnhe4Pkn",
        "outputId": "6e4517c7-afbc-4af1-8b78-dcf0df21c482",
        "colab": {
          "base_uri": "https://localhost:8080/"
        }
      },
      "execution_count": 9,
      "outputs": [
        {
          "output_type": "stream",
          "name": "stdout",
          "text": [
            "Response(data={'id': '1581853205083717632', 'text': 'Hello World'}, includes={}, errors=[], meta={})\n"
          ]
        }
      ]
    }
  ]
}