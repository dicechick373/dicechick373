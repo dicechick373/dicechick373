{
  "nbformat": 4,
  "nbformat_minor": 0,
  "metadata": {
    "colab": {
      "provenance": [],
      "toc_visible": true,
      "authorship_tag": "ABX9TyNrHljiS+NDvoFT9ScB+G/N"
    },
    "kernelspec": {
      "name": "python3",
      "display_name": "Python 3"
    },
    "language_info": {
      "name": "python"
    }
  },
  "cells": [
    {
      "cell_type": "code",
      "source": [
        "!pip install schedule"
      ],
      "metadata": {
        "id": "qGK7mw8CynFI",
        "outputId": "96965dbd-2fba-4ddf-a5ee-46d2a6700aa0",
        "colab": {
          "base_uri": "https://localhost:8080/"
        }
      },
      "execution_count": 1,
      "outputs": [
        {
          "output_type": "stream",
          "name": "stdout",
          "text": [
            "Looking in indexes: https://pypi.org/simple, https://us-python.pkg.dev/colab-wheels/public/simple/\n",
            "Requirement already satisfied: schedule in /usr/local/lib/python3.7/dist-packages (1.1.0)\n"
          ]
        }
      ]
    },
    {
      "cell_type": "code",
      "source": [
        "!pip install twitter"
      ],
      "metadata": {
        "id": "Kvq27Y0M0TXm",
        "outputId": "24171a11-ee61-48d8-cbd5-c019cc5b598e",
        "colab": {
          "base_uri": "https://localhost:8080/"
        }
      },
      "execution_count": 2,
      "outputs": [
        {
          "output_type": "stream",
          "name": "stdout",
          "text": [
            "Looking in indexes: https://pypi.org/simple, https://us-python.pkg.dev/colab-wheels/public/simple/\n",
            "Requirement already satisfied: twitter in /usr/local/lib/python3.7/dist-packages (1.19.6)\n",
            "Requirement already satisfied: certifi in /usr/local/lib/python3.7/dist-packages (from twitter) (2022.9.24)\n"
          ]
        }
      ]
    },
    {
      "cell_type": "code",
      "source": [
        "!pip install tweepy==3.8"
      ],
      "metadata": {
        "id": "vCXgiIYZzrPc",
        "outputId": "e1f37373-66c0-4c97-99d0-313cfa7fbf55",
        "colab": {
          "base_uri": "https://localhost:8080/"
        }
      },
      "execution_count": 3,
      "outputs": [
        {
          "output_type": "stream",
          "name": "stdout",
          "text": [
            "Looking in indexes: https://pypi.org/simple, https://us-python.pkg.dev/colab-wheels/public/simple/\n",
            "Requirement already satisfied: tweepy==3.8 in /usr/local/lib/python3.7/dist-packages (3.8.0)\n",
            "Requirement already satisfied: six>=1.10.0 in /usr/local/lib/python3.7/dist-packages (from tweepy==3.8) (1.15.0)\n",
            "Requirement already satisfied: PySocks>=1.5.7 in /usr/local/lib/python3.7/dist-packages (from tweepy==3.8) (1.7.1)\n",
            "Requirement already satisfied: requests>=2.11.1 in /usr/local/lib/python3.7/dist-packages (from tweepy==3.8) (2.23.0)\n",
            "Requirement already satisfied: requests-oauthlib>=0.7.0 in /usr/local/lib/python3.7/dist-packages (from tweepy==3.8) (1.3.1)\n",
            "Requirement already satisfied: certifi>=2017.4.17 in /usr/local/lib/python3.7/dist-packages (from requests>=2.11.1->tweepy==3.8) (2022.9.24)\n",
            "Requirement already satisfied: idna<3,>=2.5 in /usr/local/lib/python3.7/dist-packages (from requests>=2.11.1->tweepy==3.8) (2.10)\n",
            "Requirement already satisfied: chardet<4,>=3.0.2 in /usr/local/lib/python3.7/dist-packages (from requests>=2.11.1->tweepy==3.8) (3.0.4)\n",
            "Requirement already satisfied: urllib3!=1.25.0,!=1.25.1,<1.26,>=1.21.1 in /usr/local/lib/python3.7/dist-packages (from requests>=2.11.1->tweepy==3.8) (1.24.3)\n",
            "Requirement already satisfied: oauthlib>=3.0.0 in /usr/local/lib/python3.7/dist-packages (from requests-oauthlib>=0.7.0->tweepy==3.8) (3.2.1)\n"
          ]
        }
      ]
    },
    {
      "cell_type": "code",
      "source": [
        "import tweepy\n",
        "from pprint import pprint\n",
        "import schedule\n",
        "from time import sleep\n",
        "\n",
        "# API情報を記入\n",
        "BEARER_TOKEN        = \"AAAAAAAAAAAAAAAAAAAAAKUGiQEAAAAAC0lh2mAuh%2BzryDn1WIFNo4dDoWY%3DyaF0uPdvAdg2uN94bzNAAcNkxFgHVrj71Z4DZCXmt95atPuY4R\"\n",
        "API_KEY             = \"4P9rJfd2ZFE8mnOJGJEJF74qn\"\n",
        "API_SECRET          = \"W4Bf2hMX7v2eKIiFfnGrGO9LWmzzXiT5WsB7oCkmEPc0r6lyso\"\n",
        "ACCESS_TOKEN        = \"1485511207448551431-MVrXJNPcwKijFCW1JCePmIjdt3vMt9\"\n",
        "ACCESS_TOKEN_SECRET = \"lUjLPV8OJbjbu0vq8MPkz1uJpRa09Tpn6pYMhWhaSxZ0X\"\n",
        "\n",
        "\n",
        "# クライアント関数を作成\n",
        "def ClientInfo():\n",
        "    client = tweepy.Client(bearer_token    = BEARER_TOKEN,\n",
        "                           consumer_key    = API_KEY,\n",
        "                           consumer_secret = API_SECRET,\n",
        "                           access_token    = ACCESS_TOKEN,\n",
        "                           access_token_secret = ACCESS_TOKEN_SECRET,\n",
        "                          )\n",
        "    \n",
        "    return client"
      ],
      "metadata": {
        "id": "D_9WDhMYwfKg"
      },
      "execution_count": 4,
      "outputs": []
    },
    {
      "cell_type": "code",
      "source": [
        "!pip install twitter\n",
        "!pip install tweepy"
      ],
      "metadata": {
        "id": "Bpyqp7yo1OFN"
      },
      "execution_count": null,
      "outputs": []
    },
    {
      "cell_type": "code",
      "source": [
        "from twitter import *\n",
        "\n",
        "# put your keys\n",
        "CONSUMER_KEY = '4P9rJfd2ZFE8mnOJGJEJF74qn'\n",
        "CONSUMER_SECRET = 'W4Bf2hMX7v2eKIiFfnGrGO9LWmzzXiT5WsB7oCkmEPc0r6lyso'\n",
        "ACCESS_TOKEN = '1485511207448551431-MVrXJNPcwKijFCW1JCePmIjdt3vMt9'\n",
        "ACCESS_TOKEN_SECRET = 'lUjLPV8OJbjbu0vq8MPkz1uJpRa09Tpn6pYMhWhaSxZ0X'\n",
        "\n",
        "auth = OAuth(ACCESS_TOKEN,ACCESS_TOKEN_SECRET,CONSUMER_KEY,CONSUMER_SECRET)\n",
        "twitter = Twitter(auth = auth)\n",
        "twitter"
      ],
      "metadata": {
        "id": "pOrRx5r01cA4",
        "outputId": "33f7cb16-97cf-4de0-cbd2-d0dc52bdaf17",
        "colab": {
          "base_uri": "https://localhost:8080/"
        }
      },
      "execution_count": 7,
      "outputs": [
        {
          "output_type": "execute_result",
          "data": {
            "text/plain": [
              "<twitter.api.Twitter at 0x7f54e20f1d90>"
            ]
          },
          "metadata": {},
          "execution_count": 7
        }
      ]
    },
    {
      "cell_type": "code",
      "source": [
        "# id23424856 means JPN\n",
        "results = twitter.trends.place(_id = 23424856)\n",
        "#print(results)\n",
        "list_trend = []\n",
        "for result in results:\n",
        "  for trend in result['trends']:\n",
        "    list_trend.append(trend['name'])\n",
        "print(list_trend)"
      ],
      "metadata": {
        "id": "wjFlzaev1pMX"
      },
      "execution_count": null,
      "outputs": []
    },
    {
      "cell_type": "code",
      "source": [
        "import tweepy\n",
        "\n",
        "API_KEY             = \"4P9rJfd2ZFE8mnOJGJEJF74qn\"\n",
        "API_SECRET          = \"W4Bf2hMX7v2eKIiFfnGrGO9LWmzzXiT5WsB7oCkmEPc0r6lyso\"\n",
        "ACCESS_TOKEN        = \"1485511207448551431-MVrXJNPcwKijFCW1JCePmIjdt3vMt9\"\n",
        "ACCESS_TOKEN_SECRET = \"lUjLPV8OJbjbu0vq8MPkz1uJpRa09Tpn6pYMhWhaSxZ0X\"\n",
        "\n",
        "\n",
        "\n",
        "def twitter_api() -> tweepy.API:\n",
        "    auth = tweepy.OAuthHandler(API_KEY, API_SECRET)\n",
        "    auth.set_access_token(ACCESS_TOKEN, ACCESS_TOKEN_SECRET)\n",
        "    return tweepy.API(auth)\n",
        "\n",
        "\n",
        "def get_user_timeline(user_id):\n",
        "    api = twitter_api()\n",
        "    tweets = api.user_timeline(id=user_id, count=3)\n",
        "    for tweet in tweets:\n",
        "        print(\"=============================\")\n",
        "        print(tweet.text)\n",
        "\n",
        "\n",
        "get_user_timeline('yousuck2020')"
      ],
      "metadata": {
        "id": "XkQLMR5P2d5U",
        "outputId": "b7d14da5-e897-4570-faee-3022ffa1e45f",
        "colab": {
          "base_uri": "https://localhost:8080/",
          "height": 368
        }
      },
      "execution_count": 10,
      "outputs": [
        {
          "output_type": "error",
          "ename": "TweepError",
          "evalue": "ignored",
          "traceback": [
            "\u001b[0;31m---------------------------------------------------------------------------\u001b[0m",
            "\u001b[0;31mTweepError\u001b[0m                                Traceback (most recent call last)",
            "\u001b[0;32m<ipython-input-10-2f9d6e93c3e2>\u001b[0m in \u001b[0;36m<module>\u001b[0;34m\u001b[0m\n\u001b[1;32m     22\u001b[0m \u001b[0;34m\u001b[0m\u001b[0m\n\u001b[1;32m     23\u001b[0m \u001b[0;34m\u001b[0m\u001b[0m\n\u001b[0;32m---> 24\u001b[0;31m \u001b[0mget_user_timeline\u001b[0m\u001b[0;34m(\u001b[0m\u001b[0;34m'yousuck2020'\u001b[0m\u001b[0;34m)\u001b[0m\u001b[0;34m\u001b[0m\u001b[0;34m\u001b[0m\u001b[0m\n\u001b[0m",
            "\u001b[0;32m<ipython-input-10-2f9d6e93c3e2>\u001b[0m in \u001b[0;36mget_user_timeline\u001b[0;34m(user_id)\u001b[0m\n\u001b[1;32m     16\u001b[0m \u001b[0;32mdef\u001b[0m \u001b[0mget_user_timeline\u001b[0m\u001b[0;34m(\u001b[0m\u001b[0muser_id\u001b[0m\u001b[0;34m)\u001b[0m\u001b[0;34m:\u001b[0m\u001b[0;34m\u001b[0m\u001b[0;34m\u001b[0m\u001b[0m\n\u001b[1;32m     17\u001b[0m     \u001b[0mapi\u001b[0m \u001b[0;34m=\u001b[0m \u001b[0mtwitter_api\u001b[0m\u001b[0;34m(\u001b[0m\u001b[0;34m)\u001b[0m\u001b[0;34m\u001b[0m\u001b[0;34m\u001b[0m\u001b[0m\n\u001b[0;32m---> 18\u001b[0;31m     \u001b[0mtweets\u001b[0m \u001b[0;34m=\u001b[0m \u001b[0mapi\u001b[0m\u001b[0;34m.\u001b[0m\u001b[0muser_timeline\u001b[0m\u001b[0;34m(\u001b[0m\u001b[0mid\u001b[0m\u001b[0;34m=\u001b[0m\u001b[0muser_id\u001b[0m\u001b[0;34m,\u001b[0m \u001b[0mcount\u001b[0m\u001b[0;34m=\u001b[0m\u001b[0;36m3\u001b[0m\u001b[0;34m)\u001b[0m\u001b[0;34m\u001b[0m\u001b[0;34m\u001b[0m\u001b[0m\n\u001b[0m\u001b[1;32m     19\u001b[0m     \u001b[0;32mfor\u001b[0m \u001b[0mtweet\u001b[0m \u001b[0;32min\u001b[0m \u001b[0mtweets\u001b[0m\u001b[0;34m:\u001b[0m\u001b[0;34m\u001b[0m\u001b[0;34m\u001b[0m\u001b[0m\n\u001b[1;32m     20\u001b[0m         \u001b[0mprint\u001b[0m\u001b[0;34m(\u001b[0m\u001b[0;34m\"=============================\"\u001b[0m\u001b[0;34m)\u001b[0m\u001b[0;34m\u001b[0m\u001b[0;34m\u001b[0m\u001b[0m\n",
            "\u001b[0;32m/usr/local/lib/python3.7/dist-packages/tweepy/binder.py\u001b[0m in \u001b[0;36m_call\u001b[0;34m(*args, **kwargs)\u001b[0m\n\u001b[1;32m    248\u001b[0m                 \u001b[0;32mreturn\u001b[0m \u001b[0mmethod\u001b[0m\u001b[0;34m\u001b[0m\u001b[0;34m\u001b[0m\u001b[0m\n\u001b[1;32m    249\u001b[0m             \u001b[0;32melse\u001b[0m\u001b[0;34m:\u001b[0m\u001b[0;34m\u001b[0m\u001b[0;34m\u001b[0m\u001b[0m\n\u001b[0;32m--> 250\u001b[0;31m                 \u001b[0;32mreturn\u001b[0m \u001b[0mmethod\u001b[0m\u001b[0;34m.\u001b[0m\u001b[0mexecute\u001b[0m\u001b[0;34m(\u001b[0m\u001b[0;34m)\u001b[0m\u001b[0;34m\u001b[0m\u001b[0;34m\u001b[0m\u001b[0m\n\u001b[0m\u001b[1;32m    251\u001b[0m         \u001b[0;32mfinally\u001b[0m\u001b[0;34m:\u001b[0m\u001b[0;34m\u001b[0m\u001b[0;34m\u001b[0m\u001b[0m\n\u001b[1;32m    252\u001b[0m             \u001b[0mmethod\u001b[0m\u001b[0;34m.\u001b[0m\u001b[0msession\u001b[0m\u001b[0;34m.\u001b[0m\u001b[0mclose\u001b[0m\u001b[0;34m(\u001b[0m\u001b[0;34m)\u001b[0m\u001b[0;34m\u001b[0m\u001b[0;34m\u001b[0m\u001b[0m\n",
            "\u001b[0;32m/usr/local/lib/python3.7/dist-packages/tweepy/binder.py\u001b[0m in \u001b[0;36mexecute\u001b[0;34m(self)\u001b[0m\n\u001b[1;32m    231\u001b[0m                     \u001b[0;32mraise\u001b[0m \u001b[0mRateLimitError\u001b[0m\u001b[0;34m(\u001b[0m\u001b[0merror_msg\u001b[0m\u001b[0;34m,\u001b[0m \u001b[0mresp\u001b[0m\u001b[0;34m)\u001b[0m\u001b[0;34m\u001b[0m\u001b[0;34m\u001b[0m\u001b[0m\n\u001b[1;32m    232\u001b[0m                 \u001b[0;32melse\u001b[0m\u001b[0;34m:\u001b[0m\u001b[0;34m\u001b[0m\u001b[0;34m\u001b[0m\u001b[0m\n\u001b[0;32m--> 233\u001b[0;31m                     \u001b[0;32mraise\u001b[0m \u001b[0mTweepError\u001b[0m\u001b[0;34m(\u001b[0m\u001b[0merror_msg\u001b[0m\u001b[0;34m,\u001b[0m \u001b[0mresp\u001b[0m\u001b[0;34m,\u001b[0m \u001b[0mapi_code\u001b[0m\u001b[0;34m=\u001b[0m\u001b[0mapi_error_code\u001b[0m\u001b[0;34m)\u001b[0m\u001b[0;34m\u001b[0m\u001b[0;34m\u001b[0m\u001b[0m\n\u001b[0m\u001b[1;32m    234\u001b[0m \u001b[0;34m\u001b[0m\u001b[0m\n\u001b[1;32m    235\u001b[0m             \u001b[0;31m# Parse the response payload\u001b[0m\u001b[0;34m\u001b[0m\u001b[0;34m\u001b[0m\u001b[0;34m\u001b[0m\u001b[0m\n",
            "\u001b[0;31mTweepError\u001b[0m: [{'message': 'You currently have Essential access which includes access to Twitter API v2 endpoints only. If you need access to this endpoint, you’ll need to apply for Elevated access via the Developer Portal. You can learn more here: https://developer.twitter.com/en/docs/twitter-api/getting-started/about-twitter-api#v2-access-leve', 'code': 453}]"
          ]
        }
      ]
    }
  ]
}